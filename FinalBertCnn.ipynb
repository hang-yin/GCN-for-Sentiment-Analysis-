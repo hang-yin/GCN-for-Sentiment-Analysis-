{
 "cells": [
  {
   "cell_type": "markdown",
   "id": "bc5f4233-f3dc-4b83-9c8e-fedafeb73041",
   "metadata": {
    "id": "bc5f4233-f3dc-4b83-9c8e-fedafeb73041"
   },
   "source": [
    "# Abstract for the Project"
   ]
  },
  {
   "cell_type": "markdown",
   "id": "793b87ce-4aba-43e4-a19a-3ef6910df878",
   "metadata": {
    "id": "793b87ce-4aba-43e4-a19a-3ef6910df878"
   },
   "source": [
    "## Task"
   ]
  },
  {
   "cell_type": "markdown",
   "id": "f96b3d88-211a-46a2-8029-f91ba4023be6",
   "metadata": {
    "id": "f96b3d88-211a-46a2-8029-f91ba4023be6"
   },
   "source": [
    "The task is to test which model architecture performs best at imdb sentiment classification."
   ]
  },
  {
   "cell_type": "markdown",
   "id": "20d4617e-384e-444d-97cf-663141d35e98",
   "metadata": {
    "id": "20d4617e-384e-444d-97cf-663141d35e98"
   },
   "source": [
    "## Model"
   ]
  },
  {
   "cell_type": "markdown",
   "id": "39586fc7-bdb3-41f5-af12-75a5047dec29",
   "metadata": {
    "id": "39586fc7-bdb3-41f5-af12-75a5047dec29"
   },
   "source": [
    "The models utilize BERT embeddings and various combinations of lstm , cnn , and graph techniques."
   ]
  },
  {
   "cell_type": "markdown",
   "id": "2beddffa-3a84-4c52-9f2d-7cda2ed81c95",
   "metadata": {
    "id": "2beddffa-3a84-4c52-9f2d-7cda2ed81c95"
   },
   "source": [
    "## Experiment"
   ]
  },
  {
   "cell_type": "markdown",
   "id": "3238a08d-07a3-4bb0-881a-9b53737cc1ec",
   "metadata": {
    "id": "3238a08d-07a3-4bb0-881a-9b53737cc1ec"
   },
   "source": [
    "The experiments are in progress. We are looking for accuracy, failure points, and interpretability. The goal is to test for full data, limited data, and limited label scenarios."
   ]
  },
  {
   "cell_type": "markdown",
   "id": "017cfee9-d0b0-40b5-813b-a18e39af04d9",
   "metadata": {
    "id": "017cfee9-d0b0-40b5-813b-a18e39af04d9"
   },
   "source": [
    "## Datasets"
   ]
  },
  {
   "cell_type": "markdown",
   "id": "cc7f386a-76fe-4af7-911e-ad7d29cb3fac",
   "metadata": {
    "id": "cc7f386a-76fe-4af7-911e-ad7d29cb3fac"
   },
   "source": [
    "The main dataset is the IMDB movie reviews and whatever was used to produce the BERT embeddings."
   ]
  },
  {
   "cell_type": "markdown",
   "id": "c1b7b98f-2c66-4438-8a47-2c4f8e4ddbba",
   "metadata": {
    "id": "c1b7b98f-2c66-4438-8a47-2c4f8e4ddbba"
   },
   "source": [
    "# Code"
   ]
  },
  {
   "cell_type": "markdown",
   "id": "2a602346-56ca-4a16-88ce-2dc585b155f2",
   "metadata": {
    "id": "2a602346-56ca-4a16-88ce-2dc585b155f2"
   },
   "source": [
    "## Import Statements"
   ]
  },
  {
   "cell_type": "code",
   "execution_count": null,
   "id": "Ooc42YZHqHn8",
   "metadata": {
    "colab": {
     "base_uri": "https://localhost:8080/"
    },
    "id": "Ooc42YZHqHn8",
    "outputId": "c90a0e5c-fc84-418d-a9ba-4c26b6d7a66e",
    "tags": []
   },
   "outputs": [],
   "source": [
    "# !pip install -U tensorflow-text==2.8.1"
   ]
  },
  {
   "cell_type": "code",
   "execution_count": null,
   "id": "ZcAQzY_YP5NJ",
   "metadata": {
    "colab": {
     "base_uri": "https://localhost:8080/"
    },
    "id": "ZcAQzY_YP5NJ",
    "outputId": "bfcfe766-5783-478b-df9e-16b5869de4ef"
   },
   "outputs": [],
   "source": [
    "# !pip install neural_structured_learning"
   ]
  },
  {
   "cell_type": "code",
   "execution_count": 7,
   "id": "33cb8783-f4e7-4f35-8ea8-f6bc1e30584a",
   "metadata": {
    "colab": {
     "base_uri": "https://localhost:8080/"
    },
    "id": "33cb8783-f4e7-4f35-8ea8-f6bc1e30584a",
    "outputId": "c924e015-71f5-4d40-95ce-3b9c449fbf66"
   },
   "outputs": [
    {
     "name": "stdout",
     "output_type": "stream",
     "text": [
      "Version:  2.8.2\n",
      "Eager mode:  True\n",
      "Hub version:  0.12.0\n",
      "GPU is available\n"
     ]
    }
   ],
   "source": [
    "import matplotlib.pyplot as plt\n",
    "import numpy as np\n",
    "import neural_structured_learning as nsl\n",
    "import tensorflow as tf\n",
    "import tensorflow_hub as hub\n",
    "import tensorflow_text\n",
    "\n",
    "# Resets notebook state\n",
    "tf.keras.backend.clear_session()\n",
    "\n",
    "print(\"Version: \", tf.__version__)\n",
    "print(\"Eager mode: \", tf.executing_eagerly())\n",
    "print(\"Hub version: \", hub.__version__)\n",
    "print(\n",
    "    \"GPU is\",\n",
    "    \"available\" if tf.config.list_physical_devices(\"GPU\") else \"NOT AVAILABLE\")"
   ]
  },
  {
   "cell_type": "code",
   "execution_count": 8,
   "id": "vECgs-urXfUm",
   "metadata": {
    "id": "vECgs-urXfUm"
   },
   "outputs": [],
   "source": [
    "import dataLoader\n",
    "import bertEmbeddings\n",
    "import tfRecordTools\n",
    "import train\n",
    "import importlib\n",
    "import models"
   ]
  },
  {
   "cell_type": "markdown",
   "id": "2964ce30-7e5e-492e-86c2-e2f466d33218",
   "metadata": {
    "id": "2964ce30-7e5e-492e-86c2-e2f466d33218"
   },
   "source": [
    "## Dataset Loading"
   ]
  },
  {
   "cell_type": "code",
   "execution_count": 9,
   "id": "fea73b0a",
   "metadata": {
    "id": "fea73b0a"
   },
   "outputs": [
    {
     "name": "stdout",
     "output_type": "stream",
     "text": [
      "(25000,)\n"
     ]
    }
   ],
   "source": [
    "# Load data from IMDB\n",
    "imdb = tf.keras.datasets.imdb\n",
    "(pp_train_data, pp_train_labels), (pp_test_data, pp_test_labels) = (\n",
    "    imdb.load_data(num_words=10000, seed=12345))\n",
    "\n",
    "print(pp_train_data.shape)"
   ]
  },
  {
   "cell_type": "code",
   "execution_count": 10,
   "id": "cb9bcdc9",
   "metadata": {
    "id": "cb9bcdc9"
   },
   "outputs": [],
   "source": [
    "# This block limits how much is loaded to keep debugging short\n",
    "# don't run on the final experiments\n",
    "\n",
    "limit = 25000\n",
    "\n",
    "pp_train_data = pp_train_data[0:limit]\n",
    "pp_train_labels = pp_train_labels[0:limit]\n",
    "pp_test_data = pp_test_data[0:limit]\n",
    "pp_test_labels = pp_test_labels[0:limit]"
   ]
  },
  {
   "cell_type": "code",
   "execution_count": 11,
   "id": "c9d5eb4e",
   "metadata": {
    "colab": {
     "base_uri": "https://localhost:8080/"
    },
    "id": "c9d5eb4e",
    "outputId": "6ee1db90-14be-4cac-e54d-21d5d46da94d"
   },
   "outputs": [
    {
     "name": "stdout",
     "output_type": "stream",
     "text": [
      "Training entries: 25000, labels: 25000\n",
      "[1, 31, 7, 4, 55, 118, 289, 4656, 3153, 126, 6, 3642, 313, 368, 7, 445, 493, 5, 4, 2, 2932, 4, 4430, 1255, 2, 118, 349, 2, 9, 11, 350, 812, 11, 4, 804, 11, 4, 465, 136, 2, 2, 1568, 321, 1425, 11, 27, 443, 2, 217, 17, 4, 2401, 7, 6, 588, 114, 159, 45, 120, 2, 2, 117, 2, 9, 5652, 8, 87, 962, 14, 3248, 786, 1528, 1102, 44, 17, 702, 17, 101, 2, 346, 5, 6510, 1453, 4, 2, 545, 1178]\n"
     ]
    },
    {
     "data": {
      "text/plain": [
       "(87, 112)"
      ]
     },
     "execution_count": 11,
     "metadata": {},
     "output_type": "execute_result"
    }
   ],
   "source": [
    "# Print data entries\n",
    "print('Training entries: {}, labels: {}'.format(\n",
    "    len(pp_train_data),\n",
    "    len(pp_train_labels)\n",
    "))\n",
    "training_samples_count = len(pp_train_data)\n",
    "print(pp_train_data[0])\n",
    "len(pp_train_data[0]), len(pp_train_data[1])"
   ]
  },
  {
   "cell_type": "code",
   "execution_count": 12,
   "id": "24459eb0-dc05-4fc1-9fee-9ff89dc0483b",
   "metadata": {
    "id": "24459eb0-dc05-4fc1-9fee-9ff89dc0483b"
   },
   "outputs": [],
   "source": [
    "reverseWordIndex = dataLoader.buildReverseWordIndex(imdb)"
   ]
  },
  {
   "cell_type": "code",
   "execution_count": 13,
   "id": "8e51c324",
   "metadata": {
    "colab": {
     "base_uri": "https://localhost:8080/",
     "height": 87
    },
    "id": "8e51c324",
    "outputId": "08fa325c-ab15-41c1-b4eb-bc954dc2c46f"
   },
   "outputs": [
    {
     "data": {
      "text/plain": [
       "\"<START> one of the very best three stooges shorts ever a spooky house full of evil guys and the <UNK> challenge the alert detective <UNK> best men <UNK> is in top form in the famous in the dark scene <UNK> <UNK> provides excellent support in his mr <UNK> role as the target of a murder plot before it's over <UNK> <UNK> little <UNK> is employed to great effect this 16 minute gem moves about as fast as any <UNK> short and packs twice the <UNK> highly recommended\""
      ]
     },
     "execution_count": 13,
     "metadata": {},
     "output_type": "execute_result"
    }
   ],
   "source": [
    "dataLoader.decodeReview(pp_train_data[0], reverseWordIndex)"
   ]
  },
  {
   "cell_type": "markdown",
   "id": "91262af3-e6fd-48ba-946e-0ee5371a580e",
   "metadata": {
    "id": "91262af3-e6fd-48ba-946e-0ee5371a580e"
   },
   "source": [
    "## Pretrained Embeddings"
   ]
  },
  {
   "cell_type": "code",
   "execution_count": 14,
   "id": "00852ae7-69da-493b-ab1d-6eabe98319ba",
   "metadata": {
    "id": "00852ae7-69da-493b-ab1d-6eabe98319ba"
   },
   "outputs": [],
   "source": [
    "# Retrieve small bert embeddings\n",
    "pretrained_embedding = 'https://tfhub.dev/tensorflow/small_bert/bert_en_uncased_L-10_H-512_A-8/2'"
   ]
  },
  {
   "cell_type": "code",
   "execution_count": 15,
   "id": "c2d9317c-a174-4244-b6ef-720ff37ff31a",
   "metadata": {
    "id": "c2d9317c-a174-4244-b6ef-720ff37ff31a"
   },
   "outputs": [],
   "source": [
    "# Preprocess and encode input\n",
    "text_input = tf.keras.layers.Input(shape=(), dtype=tf.string)\n",
    "preprocessor = hub.KerasLayer('https://tfhub.dev/tensorflow/bert_en_uncased_preprocess/3')\n",
    "encoder_inputs = preprocessor(text_input)\n",
    "\n",
    "encoder = hub.KerasLayer('https://tfhub.dev/tensorflow/small_bert/bert_en_uncased_L-10_H-512_A-8/2',trainable=True)\n",
    "\n",
    "outputs = encoder(encoder_inputs)\n",
    "\n",
    "pooled_output = outputs['pooled_output'] # [batch_size, 128].\n",
    "\n",
    "sequence_output = outputs['sequence_output'] #[batch_size, seq_length, 128]."
   ]
  },
  {
   "cell_type": "markdown",
   "id": "3zUs9MwzyFI7",
   "metadata": {
    "id": "3zUs9MwzyFI7"
   },
   "source": [
    "### Pretrained Multi-layer Embeddings for CNN"
   ]
  },
  {
   "cell_type": "code",
   "execution_count": 16,
   "id": "TIPxztf14FDV",
   "metadata": {
    "id": "TIPxztf14FDV"
   },
   "outputs": [],
   "source": [
    "# For testing now. Will be moved to bertEmbeddings.py later.\n",
    "def createBertMultilayerEmbedding(wordVectors, labels, outputPath, startingRecordId, reverseWordIndex, encoder, preprocessor, num_layers):\n",
    "    \"\"\"\n",
    "    Create full set of BERT embeddings including the output of hidden BERT layers\n",
    "\n",
    "    Args:\n",
    "        wordVectors - (np.ndarray) all text to decode\n",
    "        outputPath - (string) path to output file\n",
    "        startingRecordId - (int) ID of the first sample\n",
    "        reverseWordIndex - (dict) The reverse word index to use\n",
    "        encoder - (string) encoder name\n",
    "        preprocessor - (string) preprocessor name\n",
    "        num_layers - (list of int) numbers of embedding layers selected [start, step]\n",
    "    Returns:\n",
    "        recordID - (int) ID of the last sample\n",
    "    \"\"\"\n",
    "    recordID = int(startingRecordId)\n",
    "    with tf.io.TFRecordWriter(outputPath) as writer:\n",
    "        for word_vector, label in zip(wordVectors, labels):\n",
    "            text = dataLoader.decodeReview(word_vector, reverseWordIndex)\n",
    "            \n",
    "            allEmbedding = encoder(preprocessor(tf.reshape(text, shape=[-1, ])))['encoder_outputs'][num_layers[0]::num_layers[1]]\n",
    "            encoder_outputs = np.array([i.numpy() for i in allEmbedding])\n",
    "            encoder_outputs = np.squeeze(encoder_outputs, axis=1)\n",
    "            sentenceEmbedding = tf.reshape(encoder_outputs, shape=[-1,])\n",
    "            \n",
    "            features = {\n",
    "                'id': tfRecordTools.bytesFeature(str(recordID)),\n",
    "                'words': tfRecordTools.floatFeature(sentenceEmbedding.numpy()),\n",
    "                'label':tfRecordTools.int64Feature(np.asarray([label]))\n",
    "            }\n",
    "\n",
    "            example = tf.train.Example(features=tf.train.Features(feature=features))\n",
    "\n",
    "            recordID = recordID + 1\n",
    "            writer.write(example.SerializeToString())\n",
    "    return recordID"
   ]
  },
  {
   "cell_type": "code",
   "execution_count": 17,
   "id": "jUFKMZc-3jZW",
   "metadata": {
    "id": "jUFKMZc-3jZW"
   },
   "outputs": [],
   "source": [
    "# numbers of embedding layers selected: [start, step], until the last hidden layer\n",
    "\n",
    "num_embedding_layers = [-4,1]\n",
    "\n",
    "multiEmbeddingPath = './imdb/embed_'+ str(limit) + '_'"
   ]
  },
  {
   "cell_type": "code",
   "execution_count": 18,
   "id": "d32e1a06",
   "metadata": {},
   "outputs": [],
   "source": [
    "# Following lines generate the embeddings of imdb reviews, which will take some time.\n",
    "# If you have already run the following two blocks before (i.e. already have the files generated), just skip them."
   ]
  },
  {
   "cell_type": "code",
   "execution_count": 34,
   "id": "oIiCOAd8g1ao",
   "metadata": {
    "colab": {
     "base_uri": "https://localhost:8080/"
    },
    "id": "oIiCOAd8g1ao",
    "outputId": "c5f21fba-98b0-46ba-da4e-eef536102d14"
   },
   "outputs": [
    {
     "name": "stdout",
     "output_type": "stream",
     "text": [
      "Creating Small BERT embeddings of whole dataset (25000 reviews) takes about 20 minutes.\n"
     ]
    },
    {
     "data": {
      "text/plain": [
       "25000"
      ]
     },
     "execution_count": 34,
     "metadata": {},
     "output_type": "execute_result"
    }
   ],
   "source": [
    "print(\"Creating Small BERT embeddings of whole dataset (25000 reviews) takes about 20 minutes.\")\n",
    "\n",
    "createBertMultilayerEmbedding(pp_train_data, pp_train_labels, multiEmbeddingPath+\"train_data.tfr\", 0, reverseWordIndex, encoder, preprocessor, num_embedding_layers)"
   ]
  },
  {
   "cell_type": "code",
   "execution_count": 35,
   "id": "iDeO5omFgVvR",
   "metadata": {
    "colab": {
     "base_uri": "https://localhost:8080/"
    },
    "id": "iDeO5omFgVvR",
    "outputId": "98ce6a05-35c3-45d4-eee9-f43872c89fc9"
   },
   "outputs": [
    {
     "data": {
      "text/plain": [
       "25000"
      ]
     },
     "execution_count": 35,
     "metadata": {},
     "output_type": "execute_result"
    }
   ],
   "source": [
    "createBertMultilayerEmbedding(pp_test_data, pp_test_labels, multiEmbeddingPath+\"test_data.tfr\", 0, reverseWordIndex, encoder, preprocessor, num_embedding_layers)"
   ]
  },
  {
   "cell_type": "markdown",
   "id": "cdbabe7b-8263-4aa6-99e5-c5c8093c07dc",
   "metadata": {
    "id": "cdbabe7b-8263-4aa6-99e5-c5c8093c07dc"
   },
   "source": [
    "## Training and Validation"
   ]
  },
  {
   "cell_type": "markdown",
   "id": "98af990c-967c-4bd9-bcab-7c6d7e313fa1",
   "metadata": {
    "id": "98af990c-967c-4bd9-bcab-7c6d7e313fa1"
   },
   "source": [
    "### Training Hyperparameters"
   ]
  },
  {
   "cell_type": "code",
   "execution_count": 19,
   "id": "95805538-265a-4a1e-8e69-d5fbf326cbb1",
   "metadata": {
    "id": "95805538-265a-4a1e-8e69-d5fbf326cbb1"
   },
   "outputs": [],
   "source": [
    "class HParams(object):\n",
    "    \"\"\"\n",
    "    Hyperparameters used for training.\n",
    "    \"\"\"\n",
    "    def __init__(self):\n",
    "        \n",
    "        # Following params are for baseline models\n",
    "        \n",
    "        # dataset parameters\n",
    "        self.num_classes = 2\n",
    "        self.max_seq_length = 256\n",
    "        self.vocab_size = 10000\n",
    "        # neural graph learning parameters\n",
    "        self.distance_type = nsl.configs.DistanceType.L2\n",
    "        self.graph_regularization_multiplier = 0.1\n",
    "        self.num_neighbors = 2\n",
    "        # model architecture\n",
    "        self.num_embedding_dims = 16\n",
    "        self.num_lstm_dims = 64\n",
    "        self.num_fc_units = 64\n",
    "        # training parameters\n",
    "        self.train_epochs = 20\n",
    "        self.batch_size = 32\n",
    "        # eval parameters\n",
    "        self.eval_steps = None  # All instances in the test set are evaluated.\n",
    "\n",
    "        # Following params are for CNN\n",
    "        \n",
    "        self.num_embedding_layers = 4 #according to the pretrained bert\n",
    "        self.embed_max_seq = 128\n",
    "        self.embed_size = 512  #according to the pretrained bert\n",
    "\n",
    "        self.filter_sizes = [3,5,7]       # [3,5,7]\n",
    "        self.num_filters = 256           # [64,128,256]\n",
    "        \n",
    "        self.cnn_learning_rate = 3e-4\n",
    "        self.dropout_rate = 0.4\n",
    "        self.dense_units = 64          # [128,256,512]\n",
    "\n",
    "HPARAMS = HParams()"
   ]
  },
  {
   "cell_type": "markdown",
   "id": "65_BUyTOThzE",
   "metadata": {
    "id": "65_BUyTOThzE",
    "tags": []
   },
   "source": [
    "### Build Traininig and Testing Datasets"
   ]
  },
  {
   "cell_type": "code",
   "execution_count": 25,
   "id": "fnQCkAmvONEX",
   "metadata": {
    "id": "fnQCkAmvONEX"
   },
   "outputs": [],
   "source": [
    "def makeEmbedDataset(filePath, HPARAMS, Training=False):\n",
    "    def parseEmbedExample(exampleProto):\n",
    "        feature_spec = {\n",
    "                'words': tf.io.VarLenFeature(tf.float32),\n",
    "                'label': tf.io.FixedLenFeature((), tf.int64, default_value=-1),\n",
    "            }\n",
    "        features = tf.io.parse_single_example(exampleProto, feature_spec)\n",
    "        # features['words'] = features['words'].values\n",
    "\n",
    "        # feature_length changes based on pretrained model we use\n",
    "        feature_length = HPARAMS.num_embedding_layers * HPARAMS.embed_max_seq * HPARAMS.embed_size\n",
    "        features['words'] = padEmbedSequence(features['words'], feature_length)\n",
    "\n",
    "        labels = features.pop('label')\n",
    "        return features, labels\n",
    "\n",
    "    def padEmbedSequence(sequence, maxSeqLength):\n",
    "        \"\"\"Pads the input sequence (a `tf.SparseTensor`) to `max_seq_length`.\"\"\"\n",
    "        pad_size = tf.maximum([0], maxSeqLength - tf.shape(sequence)[0])\n",
    "        padded = tf.concat(\n",
    "            [sequence.values,\n",
    "            tf.fill((pad_size), tf.cast(0, sequence.dtype))],\n",
    "            axis=0)\n",
    "        # The input sequence may be larger than max_seq_length. Truncate down if\n",
    "        # necessary.\n",
    "        return tf.slice(padded, [0], [maxSeqLength])\n",
    "\n",
    "    dataset = tf.data.TFRecordDataset([filePath])\n",
    "\n",
    "    dataset = dataset.map(parseEmbedExample)\n",
    "    dataset = dataset.batch(HPARAMS.batch_size)\n",
    "\n",
    "    return dataset"
   ]
  },
  {
   "cell_type": "code",
   "execution_count": 26,
   "id": "Dm8wDNrbGSyU",
   "metadata": {
    "id": "Dm8wDNrbGSyU"
   },
   "outputs": [],
   "source": [
    "embedded_train_dataset = makeEmbedDataset(multiEmbeddingPath+\"train_data.tfr\", HPARAMS, True)"
   ]
  },
  {
   "cell_type": "code",
   "execution_count": 27,
   "id": "spGyNR7bgQu1",
   "metadata": {
    "id": "spGyNR7bgQu1"
   },
   "outputs": [],
   "source": [
    "embedded_test_dataset = makeEmbedDataset(multiEmbeddingPath+\"test_data.tfr\", HPARAMS, False)"
   ]
  },
  {
   "cell_type": "markdown",
   "id": "s0bnGBGLURhU",
   "metadata": {
    "id": "s0bnGBGLURhU"
   },
   "source": [
    "### Build Validation Set"
   ]
  },
  {
   "cell_type": "code",
   "execution_count": 28,
   "id": "9XLBlkiQXIwX",
   "metadata": {
    "colab": {
     "base_uri": "https://localhost:8080/"
    },
    "id": "9XLBlkiQXIwX",
    "outputId": "daccacb5-5346-415b-9104-7ac0394d7ef0"
   },
   "outputs": [
    {
     "name": "stdout",
     "output_type": "stream",
     "text": [
      "156\n"
     ]
    }
   ],
   "source": [
    "validation_fraction = 0.2\n",
    "validation_size = int(validation_fraction *\n",
    "                      int(training_samples_count / HPARAMS.batch_size))\n",
    "print(validation_size)\n",
    "embeded_validation_dataset = embedded_train_dataset.take(validation_size)\n",
    "embedded_train_dataset = embedded_train_dataset.skip(validation_size)"
   ]
  },
  {
   "cell_type": "markdown",
   "id": "3b7e1cb4-9f77-4a43-8162-24cc7cd0808a",
   "metadata": {
    "id": "3b7e1cb4-9f77-4a43-8162-24cc7cd0808a"
   },
   "source": [
    "## BERT CNN Model"
   ]
  },
  {
   "cell_type": "markdown",
   "id": "869dbe34-05f0-4a8a-b4e8-e4efd504986a",
   "metadata": {
    "id": "869dbe34-05f0-4a8a-b4e8-e4efd504986a"
   },
   "source": [
    "### Create Model"
   ]
  },
  {
   "cell_type": "code",
   "execution_count": 29,
   "id": "b5e52192",
   "metadata": {},
   "outputs": [
    {
     "data": {
      "text/plain": [
       "(32, 4, 128, 512, 262144)"
      ]
     },
     "execution_count": 29,
     "metadata": {},
     "output_type": "execute_result"
    }
   ],
   "source": [
    "HPARAMS.batch_size, HPARAMS.num_embedding_layers, HPARAMS.embed_max_seq, HPARAMS.embed_size, HPARAMS.num_embedding_layers*HPARAMS.embed_max_seq*HPARAMS.embed_size"
   ]
  },
  {
   "cell_type": "code",
   "execution_count": 30,
   "id": "a2756196-6278-4d93-b820-0af455624d48",
   "metadata": {
    "id": "a2756196-6278-4d93-b820-0af455624d48"
   },
   "outputs": [],
   "source": [
    "# For testing now. Will be moved to models.py later.\n",
    "def makeCnnModel(HPARAMS):\n",
    "    \"\"\"\n",
    "    Builds a CNN model.\n",
    "    \"\"\"\n",
    "\n",
    "    inputs = tf.keras.Input(\n",
    "        shape=(HPARAMS.num_embedding_layers*HPARAMS.embed_max_seq*HPARAMS.embed_size,),\n",
    "        dtype='float32',\n",
    "        name='words')\n",
    "\n",
    "    embeddings = tf.reshape(inputs, shape=[-1,HPARAMS.num_embedding_layers,HPARAMS.embed_max_seq,HPARAMS.embed_size])\n",
    "    print(embeddings)\n",
    "    convolved_layers = []\n",
    "    for K in HPARAMS.filter_sizes:\n",
    "        convolved = tf.keras.layers.Conv2D(filters=HPARAMS.num_filters, kernel_size=(K,HPARAMS.embed_size),\n",
    "                padding='valid', data_format='channels_first', activation='relu',\n",
    "                input_shape=(HPARAMS.embed_size,HPARAMS.embed_size,HPARAMS.num_embedding_layers))(embeddings)\n",
    "        convolved_layers.append(convolved)\n",
    "        # convolved_layers.append(tf.reshape(convolved, shape=[-1, convolved.shape[1], convolved.shape[2]]))\n",
    "    \n",
    "    # should reduce dim before feed to maxpool1d\n",
    "    max_pooled_layers = []\n",
    "    for layer in convolved_layers:\n",
    "        # max_pooled = tf.keras.layers.MaxPooling2D(pool_size=(layer.shape[1],layer.shape[2]))(layer)\n",
    "        max_pooled = tf.keras.layers.MaxPooling2D(pool_size=(1,layer.shape[2]))(layer)\n",
    "        max_pooled_layers.append(max_pooled)\n",
    "\n",
    "        # remove\n",
    "        # max_pooled_layers.append(layer)\n",
    "\n",
    "    concat = tf.keras.layers.Concatenate(axis=1)(max_pooled_layers)\n",
    "\n",
    "    outputs = tf.reshape(concat, shape=[-1,concat.shape[1]])\n",
    "\n",
    "    # outputs = tf.keras.layers.Dropout(0.1)(outputs)\n",
    "\n",
    "#     outputs = tf.keras.layers.Dense(HPARAMS.dense_units,activation='relu')(outputs)\n",
    "    outputs = tf.keras.layers.Dense(HPARAMS.dense_units)(outputs)\n",
    "\n",
    "    outputs = tf.keras.layers.Dropout(HPARAMS.dropout_rate)(outputs)\n",
    "\n",
    "    outputs = tf.keras.layers.Dense(1,activation='sigmoid')(outputs)\n",
    "\n",
    "    return tf.keras.Model(inputs=inputs, outputs=outputs)"
   ]
  },
  {
   "cell_type": "code",
   "execution_count": null,
   "id": "uDuvhbz2S6ZN",
   "metadata": {
    "colab": {
     "base_uri": "https://localhost:8080/"
    },
    "id": "uDuvhbz2S6ZN",
    "outputId": "4fb29b0f-b4ba-4680-d6b0-343a9f537963"
   },
   "outputs": [],
   "source": [
    "tf.keras.backend.clear_session()\n",
    "CnnModel = makeCnnModel(HPARAMS)\n",
    "CnnModel.summary()"
   ]
  },
  {
   "cell_type": "code",
   "execution_count": 32,
   "id": "tMA6lCJU3iRM",
   "metadata": {
    "id": "tMA6lCJU3iRM"
   },
   "outputs": [],
   "source": [
    "# set loss function and optimizer\n",
    "cnn_optimizer = tf.keras.optimizers.Adagrad(learning_rate=HPARAMS.cnn_learning_rate)\n",
    "CnnModel.compile(\n",
    "    # optimizer='rmsprop',\n",
    "    optimizer=cnn_optimizer,\n",
    "    loss=tf.keras.losses.BinaryCrossentropy(from_logits=False),\n",
    "    metrics=['accuracy'])\n"
   ]
  },
  {
   "cell_type": "code",
   "execution_count": 33,
   "id": "cu9KFE9j44Vf",
   "metadata": {
    "id": "cu9KFE9j44Vf"
   },
   "outputs": [],
   "source": [
    "model_all_historys = []"
   ]
  },
  {
   "cell_type": "markdown",
   "id": "uG-7oR47xDMT",
   "metadata": {
    "id": "uG-7oR47xDMT"
   },
   "source": [
    "### Fit Model"
   ]
  },
  {
   "cell_type": "code",
   "execution_count": null,
   "id": "0f8a5809-b610-47bf-8531-0bc71731bfdf",
   "metadata": {
    "colab": {
     "base_uri": "https://localhost:8080/",
     "height": 1000
    },
    "id": "0f8a5809-b610-47bf-8531-0bc71731bfdf",
    "outputId": "3d8cb182-71c2-4ba6-e4d9-35f8c3696ec3",
    "scrolled": true
   },
   "outputs": [],
   "source": [
    "history = CnnModel.fit(\n",
    "    embedded_train_dataset,\n",
    "    validation_data=embeded_validation_dataset,\n",
    "    epochs=HPARAMS.train_epochs,\n",
    "    verbose=1)"
   ]
  },
  {
   "cell_type": "code",
   "execution_count": 36,
   "id": "5372236f",
   "metadata": {},
   "outputs": [
    {
     "data": {
      "text/plain": [
       "1"
      ]
     },
     "execution_count": 36,
     "metadata": {},
     "output_type": "execute_result"
    }
   ],
   "source": [
    "model_all_historys.append(history)\n",
    "len(model_all_historys)"
   ]
  },
  {
   "cell_type": "markdown",
   "id": "QZm-0hbuxGet",
   "metadata": {
    "id": "QZm-0hbuxGet"
   },
   "source": [
    "### Evaluate Model"
   ]
  },
  {
   "cell_type": "code",
   "execution_count": 37,
   "id": "8b11bc9e",
   "metadata": {},
   "outputs": [
    {
     "name": "stdout",
     "output_type": "stream",
     "text": [
      "782/782 [==============================] - 44s 57ms/step - loss: 0.3656 - accuracy: 0.8384\n",
      "[0.36561721563339233, 0.8383600115776062]\n"
     ]
    }
   ],
   "source": [
    "# evaluate model performance on testing set\n",
    "test_results = CnnModel.evaluate(embedded_test_dataset, steps=HPARAMS.eval_steps)\n",
    "print(test_results)"
   ]
  },
  {
   "cell_type": "markdown",
   "id": "3RMp4ZToxIVY",
   "metadata": {
    "id": "3RMp4ZToxIVY"
   },
   "source": [
    "### Plot Performance\n"
   ]
  },
  {
   "cell_type": "code",
   "execution_count": null,
   "id": "2QGjsamixH-G",
   "metadata": {
    "colab": {
     "base_uri": "https://localhost:8080/",
     "height": 295
    },
    "id": "2QGjsamixH-G",
    "outputId": "08e911f5-571e-4c9d-e5f2-7c5968309530"
   },
   "outputs": [],
   "source": [
    "# plot training and validaiton loss over epochs\n",
    "\n",
    "acc, val_acc, loss, val_loss = [], [], [], []\n",
    "\n",
    "for i in range(len(model_all_historys)):\n",
    "    history_dict = model_all_historys[i].history\n",
    "    acc += history_dict['accuracy']\n",
    "    val_acc += history_dict['val_accuracy']\n",
    "    loss += history_dict['loss']\n",
    "    val_loss += history_dict['val_loss']\n",
    "\n",
    "epochs = range(1, len(acc) + 1)\n",
    "\n",
    "# \"-r^\" is for solid red line with triangle markers.\n",
    "plt.plot(epochs, loss, '-r^', label='Training loss')\n",
    "# \"-b0\" is for solid blue line with circle markers.\n",
    "plt.plot(epochs, val_loss, '-bo', label='Validation loss')\n",
    "plt.title('Training and validation loss')\n",
    "plt.xlabel('Epochs')\n",
    "plt.ylabel('Loss')\n",
    "plt.legend(loc='best')\n",
    "\n",
    "plt.show()\n",
    "\n",
    "# plot training and validation accuracy over epochs\n",
    "\n",
    "plt.plot(epochs, acc, '-r^', label='Training acc')\n",
    "plt.plot(epochs, val_acc, '-bo', label='Validation acc')\n",
    "plt.title('Training and validation accuracy')\n",
    "plt.xlabel('Epochs')\n",
    "plt.ylabel('Accuracy')\n",
    "plt.legend(loc='best')\n",
    "\n",
    "plt.show()"
   ]
  },
  {
   "cell_type": "markdown",
   "id": "8aefdc0c",
   "metadata": {},
   "source": [
    "### Analysis"
   ]
  },
  {
   "cell_type": "code",
   "execution_count": 74,
   "id": "03d709ac",
   "metadata": {},
   "outputs": [],
   "source": [
    "# get predictions\n",
    "\n",
    "test_predict = CnnModel.predict(embedded_test_dataset)\n",
    "predictions = np.squeeze(np.where(test_predict>0.5, 1, 0))"
   ]
  },
  {
   "cell_type": "code",
   "execution_count": 75,
   "id": "b4247aa9",
   "metadata": {},
   "outputs": [
    {
     "name": "stdout",
     "output_type": "stream",
     "text": [
      "Accuracy: 0.83836\n"
     ]
    }
   ],
   "source": [
    "# Make sure that the labels of prediction and original test_labels are in the same order\n",
    "\n",
    "correct_idx = np.where(predictions == pp_test_labels)[0]\n",
    "incorrect_idx = np.where(predictions != pp_test_labels)[0]\n",
    "print('Accuracy:', correct_idx.shape[0]/25000)"
   ]
  },
  {
   "cell_type": "code",
   "execution_count": 76,
   "id": "2bf9372e",
   "metadata": {},
   "outputs": [
    {
     "name": "stdout",
     "output_type": "stream",
     "text": [
      "[[0.42376 0.07624]\n",
      " [0.0854  0.4146 ]]\n"
     ]
    },
    {
     "data": {
      "text/plain": [
       "<AxesSubplot:>"
      ]
     },
     "execution_count": 76,
     "metadata": {},
     "output_type": "execute_result"
    },
    {
     "data": {
      "image/png": "[encoded data removed]",
      "text/plain": [
       "<Figure size 432x288 with 2 Axes>"
      ]
     },
     "metadata": {
      "needs_background": "light"
     },
     "output_type": "display_data"
    }
   ],
   "source": [
    "# Confusion Marix\n",
    "\n",
    "from sklearn.metrics import confusion_matrix\n",
    "import seaborn as sns\n",
    "\n",
    "matrix = confusion_matrix(pp_test_labels, predictions, normalize='all')\n",
    "print(matrix)\n",
    "sns.heatmap(matrix)"
   ]
  },
  {
   "cell_type": "code",
   "execution_count": 77,
   "id": "43516e25",
   "metadata": {},
   "outputs": [
    {
     "data": {
      "image/png": "[encoded data removed]",
      "text/plain": [
       "<Figure size 432x288 with 1 Axes>"
      ]
     },
     "metadata": {
      "needs_background": "light"
     },
     "output_type": "display_data"
    }
   ],
   "source": [
    "# Show the length of correct and incorrect classification\n",
    "\n",
    "correct_length=[len(pp_test_data[i]) for i in correct_idx]\n",
    "incorrect_length=[len(pp_test_data[i]) for i in incorrect_idx]\n",
    "incrt = plt.hist(incorrect_length, bins=100, density=True, label='incorrect',alpha=0.5)\n",
    "crt = plt.hist(correct_length, bins=100, density=True, label='correct',alpha=0.5)\n",
    "plt.xlabel('Review Length')\n",
    "plt.ylabel('Percentage')\n",
    "plt.legend()\n",
    "plt.show()\n"
   ]
  },
  {
   "cell_type": "code",
   "execution_count": 78,
   "id": "a1552102",
   "metadata": {
    "scrolled": true
   },
   "outputs": [
    {
     "name": "stdout",
     "output_type": "stream",
     "text": [
      "-------- Correct samples: --------\n",
      "0 for negative, 1 for positive\n",
      "\n",
      "# 0 , label 0\n",
      "<START> i could not watch more than 10 minutes of this movie it has set the standard i will never again give a movie a 1 unless it was as horrible as this one i fully agree with the other comments about this film but since i'm dutch i watched it with dutch translation apparently they didn't have money for a proper translation so they decided to <UNK> it with sometimes hilarious results br br don't smoke don't drink don't do drugs don't watch demon summer br br i was surprised that the actors wow i can't believe i just said that didn't hold the script was there any in their hands while shooting i think they also did a good job on well no they didn't do a good job at all |||\n",
      "\n",
      "# 1 , label 0\n",
      "<START> take a cliché story and insert steve <UNK> need i say anymore this truly is as bad as you would expect sheriff tom <UNK> <UNK> and anna attempt to <UNK> a group of useless inept kids into a winning soccer team lacking originality and direction from the <UNK> it's quite a struggle to maintain any form of interest in this film despite my <UNK> about acting ability i can safely say that the acting of the rival teams coach is actually worse than previously <UNK> i thought this type of story of <UNK> battling all the way to the top has been done before and better every time than this so called <UNK> |||\n",
      "\n",
      "# 2 , label 0\n",
      "<START> <UNK> things was one of my favorite stephen king books but this movie is one of the worst book to film adaptations i have ever seen they changed so many things around that it made me sick even the concept of the book being deception things not always what they appear reminder throughout the book was not shown in the movie <UNK> it was enjoyable as many stephen king films are but as many stephen king films this one did not follow the book and became a piece of hollywood trailer trash 2 10 |||\n",
      "\n",
      "# 3 , label 0\n",
      "<START> pretty twisted horror film that has a few good moments here and there with some creepy blood <UNK> scenes however it's just too dull for it's own good all the characters are ok and the story while had a lot of potential is rather dull however the blood <UNK> scenes looked <UNK> real and as a result they were extremely disturbing it's well made and <UNK> written and it started out really interesting but it just couldn't keep up the pace plus i found the ending to be disappointing <UNK> <UNK> has no more then a very small role in this so i was also disappointed about that and stephen knight does a good job as the lead as he was pretty twisted plus i got this in a dvd horror set called a taste of evil along with a bunch of other horror films there is lots of blood however it's not all that gory and for it's low budget it was pretty well done however as i said it just couldn't sustain it's interest this is a pretty twisted horror film that has a few good moments here and there with some creepy blood <UNK> scenes however it's just too dull for it's own good i would pass but i guess it's worth a watch if you have nothing better to do the direction is ok <UNK> <UNK> norman <UNK> <UNK> do an ok job here with decent camera work and doing a good job on it's low budget however the pace is ||| too inconsistent for my liking the acting is actually alright stephen knight is great as the lead he was creepy twisted sick and gave a very creepy performance the most creepy thing about it though was he seemed like a normal person <UNK> <UNK> did well in her small role christopher <UNK> is ok i guess sin his short time rest of the cast are ok as well overall i would pass but i guess it's worth a watch if you have nothing absolutely better to do 1 2 out of 5\n",
      "\n",
      "# 4 , label 1\n",
      "<START> the thing is a <UNK> in movie making and remains one of my favourite films of all time despite the film's roots in science fiction it is ultimately a horror film that brilliantly <UNK> splatter with psychological trauma today over twenty five years after its release the special effects stand up as an example of sheer brilliance and effects man rob <UNK> suffered a complete physical breakdown for his art it would be impossible to make the same movie today as the studio would most certainly insist on casting a female character or a paul walker type br br an all male american science team in <UNK> are thrown into turmoil when an alien able to perfectly <UNK> and imitate other <UNK> <UNK> their camp their trust in each other <UNK> <UNK> as they become increasingly unsure who is real and who is an imitation and this <UNK> scenario sees their numbers <UNK> <UNK> as one by one they fall victim to the thing when <UNK> it <UNK> itself as a different nightmarish creature the <UNK> always horrific and compelling br br the <UNK> isolation and <UNK> of a team of desperate men with no way out of their situation and no way of help reaching them is expertly <UNK> the long hours of darkness and the <UNK> provide a bleak backdrop to the terror that unfolds director john carpenter selected with great care a team of brilliant character actors and each member of the team fits perfectly into the part they play whether it ||| be the young and street wise chef the elderly and wise doctor or the bitter and cynical helicopter pilot the point is that no one here comes close to being an all american <UNK> superhero with blonde locks and a six pack and the film's real strength is thanks in no small part to this stark realism the people suffering on screen are <UNK> in our daily lives br br the thing remains consistently enjoyable and affecting even after repeated viewings i have now seen the film on more than twenty separate occasions and my <UNK> at the quality of the direction the acting and the special effects is <UNK> my girlfriend prefers the high school spin off of the film the <UNK> which is good and solid entertainment but far more light hearted and she still loves and <UNK> the brilliance of the thing however and thank goodness for that because i could not remain in the company of someone who didn't love this movie br br a classic and then some\n",
      "\n",
      "# 5 , label 0\n",
      "<START> i am a lover of bad movies i own r o t o r and <UNK> vs python and am working to build up my collection to such great titles as <UNK> 2 and what's up but storm <UNK> is not even bad enough to make it to the list of wonderfully terrible movies it's just lame the guy who said he's had better dialogue with his <UNK> plants has it right everything about this movie is stupid when the robot guy runs into the car it seems almost as if he knew it was going to blow up there was just no reason he would ever run in that direction judge jury and <UNK> the perfect cop but they went too far i mean come on why do people bother making these movies anymore r o t o r makes it because it is hysterically awful but storm <UNK> is just a waste of cinema because it isn't even bad enough to be so bad it's worth watching this belongs in someone's home movies collection something they can be sort of proud of but that is all i am p <UNK> off it was on an hbo channel with only 1 star which is why i watched it because it didn't belong there even if you love bad movies do not watch this movie it is shameful |||\n",
      "\n",
      "# 6 , label 0\n",
      "<START> this movie is not so good as i thought it would be there is no story whatsoever no characters and some dialog would have been nice the gore effects are good and it gets quite bloody at times but nothing over the top it starts with an <UNK> on a man and when that is over the scene with the girl starts the music is a classic score and fits the movie very well they should have made a 90 minutes version in which they could have had some time for character development so we can feel sorry for the person on the <UNK> table and some more info about the would have made this movie far scarier than it is don't expect a scary movie but a nice gory special effects reel |||\n",
      "\n",
      "# 7 , label 1\n",
      "<START> this movie caught me by surprise for years i have avoided many of harold <UNK> sound pictures as well as those of keaton because they have a generally well deserved reputation for being lousy compared to the silent films because the basic formula has been lost however when i saw this film i was pleasantly surprised to find i actually liked it once i accepted it really was not a harold lloyd film despite him starring in it this is because although it is nothing like the style of his earlier films it is highly original and lloyd isn't bad playing a totally different type of character br br as i mentioned above the formula of the old films is almost completely missing here lloyd does not do the old familiar stunt work the romance is quite unlike his early screen romances and the plot is just plain weird instead of the usual roles he is the son of a chinese <UNK> who returns to america for the first time since he was a small boy because of this though he looks like an american except for his white suit and helmet he thinks and acts a lot like someone who is chinese in many ways he's very naive about america and is like an innocent among wolves early on he meets a man who turns out to be a local party boss this boss always produces a losing candidate for the <UNK> race because he is bought and paid for by the corrupt mayor ||| to produce a token candidate who has no chance of winning well the old <UNK> who they <UNK> run for office just died and he decides to run the naive lloyd he hasn't a <UNK> of winning well the <UNK> happens and lloyd wins this and <UNK> decision to clean up the town greatly <UNK> the old political machine and they stop at nothing to destroy honest lloyd just when it appears lloyd is headed to jail on a <UNK> up corruption charge he creates a scheme that is 100 impossible and very illegal to get signed <UNK> from the crooks however despite this it is incredibly funny and a great ending so my advice is at the end just suspend disbelief and enjoy br br an important note this movie is definitely not politically correct the word <UNK> is used repeatedly i found it offensive but considering the times i ignored it as you should too if however you are someone who can't and like being angry i suggest you never watch movies anyway as you are bound to become offended again and again\n",
      "\n",
      "# 8 , label 1\n",
      "<START> this film is just plain lovely it's funny as hell and as old as the hills the acting is superb and it's fascinating seeing post war britain and how we used to behave in those days this seems to have been some pre runner to the st <UNK> films given the <UNK> <UNK> and margaret <UNK> connection there's also a very young george cole in there who appeared in many st <UNK> films but i don't myself understand the connection it was shown on recently after a biography of st <UNK> creator ronald however i missed enough of the biography to miss the connection with this film anyway a great film in its own right and something that should be <UNK> for all time |||\n",
      "\n",
      "# 9 , label 0\n",
      "<START> this movie isn't even good enough for the 1 bin at the <UNK> store br br i only purchased it because <UNK> howard was in it guess he couldn't be too about his roles during this time br br the movie in itself was hard to sit through it seemed they were <UNK> at <UNK> with a storyline the guys night out had to be the most boring i've ever seen one minute they are talking and the next <UNK> poetry even the arguments were hard to follow most of the acting lacked any depth br br i have no idea what they were going for with this one but they certainly missed the mark |||\n",
      "\n",
      "# 10 , label 0\n",
      "<START> i'm not even going to comment on what piece of trash this film is since that has already been established however watching this with my friends we all laughed out loud when the lead girl made a shelley hack reference while on the phone we sat there trying to figure out why the writer would throw her into the mix we can only assume he had a charlie's angels <UNK> at one time based on that reference we assumed this film must have been made around her charlie's angels run in 1979 or 1980 but from what i've read here it was made around 1987 you sure couldn't tell that from the poor production values it seems as though it was made by a college student for a film class and while by no means would i expect a low budget trash fest like this to be politically correct the <UNK> in this film sure did like to direct <UNK> gay remarks to each other even so i'd still only rank this as the 2nd worst horror film ever made second only to nail gun massacre |||\n",
      "\n",
      "# 11 , label 0\n",
      "<START> not me if it came down to it i could kick a <UNK> ass and that's why this movie doesn't work for me if it was me against the alien or jason or hell i <UNK> any other horror movie antagonist then <UNK> be no contest and i'd have my ass handed to me <UNK> divine <UNK> a horror movie works because it puts people in a situation with a creature person being <UNK> whatever that is more powerful or <UNK> or intelligent than they are and then people think <UNK> what if that happened to <UNK> and they get scared and that's why this is a horrible idea for a story i can't imagine myself being <UNK> by a dog so i'm not scared |||\n",
      "\n",
      "# 12 , label 0\n",
      "<START> i had heard about this movie through a friend it was supposed to be a thriller but what i watched wasn't a thriller it was more like a weak attempt at one <UNK> smith was a bright spot that may be giving her too much credit the scenes were she was in bed with actress erika were also lame the two actresses did not seem to click with each other at all <UNK> smith was way out of this <UNK> league and it definitely showed on camera she did not seem into those scenes at all i was disappointed because a friend of mine guy of course had <UNK> this movie up to be something great but it was actually more like watching dime store porn |||\n",
      "\n",
      "# 13 , label 0\n",
      "<START> for all its many flaws i'm inclined to be <UNK> towards thing there is the <UNK> of an interesting creepy claustrophobic hitchcock style story here put this in the hands of a writer like theodore <UNK> or if you prefer british perspective robert <UNK> or the guy who wrote day of the <UNK> and you might have had a nasty unsettling little <UNK> story that was the best thing in an book anthology of horror and suspense stories br br however someone chose to tell this story as a feature length movie and a cheap 2nd rate at that and so most of the potential is wasted a story like this really needs a voice like to bring out interesting quirks of character in a better light his classic story the the and is an example of how he can gather together an isolated group of ordinary characters and in the space of 40 pages can turn them into the most amusing sympathetic and fascinating people you've ever met a good writer can with a few chosen words make the reader see some of the most vivid and memorable events ever to <UNK> his emotions br br instead we get a movie where some of the most irritating and unlikeable characters ever made are <UNK> together and made to interact in unconvincing where did that come from moments that just lie there ie the blond psychic girl <UNK> that you're all evil and i hope you are destroyed we get <UNK> pacing and slow motion ||| <UNK> and dull sets and stiff actors i blame the director for the and part these are all 3rd rank character actors who never made the big time but they are also <UNK> actors and a good director could have gotten better performances out of them we get <UNK> for lesbian overtones that make the viewer feel uneasy and exploited without delivering any kind of payoff if i'm going to have my <UNK> instincts exploited and feel guilty about it i want done by stuff staged better than this and we get over an hour of creepy build up <UNK> in about 35 seconds in one of the worst anti <UNK> i've ever seen br br good things about thing um well some of the <UNK> shots of the head <UNK> <UNK> its <UNK> were pretty effective the <UNK> and <UNK> widow <UNK> true to life even if i wanted to stuff a <UNK> in her mouth the first scene where the big simple ranch hand <UNK> turns on the <UNK> cowboy and kills him had a bit of shock value because the plot had taken the trouble to establish the big guy as a fairly sympathetic character and like i said earlier the idea of an <UNK> force from the past turning the members of an isolated community against each other is a good one and can sustain interest far above the actual merit of a bad performance br br which this definitely is br br but as i said i'm inclined to be <UNK> because the director was probably working under a budget <UNK> time constraints and the best actors he could find for the money heaven knows how future generations will judge <UNK> crap like the cave wrong turn or the remake of house of wax 40 years from now i hope they are <UNK> towards our own tastes in supporting our generations wastes of film stock\n",
      "\n",
      "# 14 , label 0\n",
      "<START> i saw this movie on the shelf at blockbuster and thought it looked cool the dvd case <UNK> so many great actors and i wondered to myself why have i never heard of this movie then i turned over the case and saw the director lee and thus the answer began to explain itself br br first of all i want to defeat the idea that a great cast equals a great movie but more importantly i think i should explain why this movie is so terrible okay the script is awful and full of one dimensional characters this is the worst role i've ever seen <UNK> <UNK> play and i'm surprised he would do something this ridiculous however under appreciated yet talented actors must earn their money <UNK> plays a one dimensional police detective who comes off about as dumb as a c movie mob henchman him along with the lead detective the poorly directed nolte the great but simple michael madsen and the late chris penn whose role along with <UNK> was completely thrown away make up an elite squad of la detectives <UNK> to rid the city of <UNK> sometime in the late 30s or 40s the movie introduces this squad as cops who will break every law to make sure those who think they're above the law don't operate in their city at the beginning of the film the cops rough up a local restaurant grab an alleged mobster william peterson and take him to a place they call the <UNK> ||| falls they toss him off one of the <UNK> on <UNK> drive and this is supposed to demonstrate how serious these guys are about <UNK> the city of crime whatever this was nothing more than a cheap excuse to use a crappy title that's designed to make you think of la and its famous sites somewhere later on they find the dead body of jennifer <UNK> and the plot begins br br on to the direction which was nothing short of amateur and weak aside from the fact that the characters were b movie quality the overacting by those such as treat williams the guy who plays the chief of police and the awful daniel baldwin are just a few highlights that made this movie seem like it was lee first film there's not one good performance in the movie aside from maybe <UNK> griffith who some might argue was the worst in the movie she won a <UNK> for this film in the end it was her character that was not that great and she really didn't have much to work with br br as with any bad movie it all begins with the writing and this script was no gem plot is <UNK> simply on the basis of setting up the next scene and never takes into consideration characters' motivations the way the characters <UNK> was unbelievable cops taking the law into their own hands is believable within the right circumstances see la <UNK> but in this case it looked like these guys could get away with anything including murder and never bat an eye about cleaning anything up i guess we as an audience are just supposed to assume that no one saw anything and that people won't ask questions everything about the story is predictable and is <UNK> fed so well that we understand everything that's going to happen a good while before the characters do however it doesn't make us feel smart but rather makes us angry at how stupid the hero is despite the fact that there aren't any heroes in this movie br br in the end the best <UNK> of the movie was the great score by david from the beginning it <UNK> a since of <UNK> which quickly faded when i realized how unbelievable just about everything in the film was it didn't surprise me to learn that it made a <UNK> eleven million in the box office what i will say is that this film is worth watching for a few laughs nick <UNK> acting is like an <UNK> <UNK> <UNK> dog and i laughed every time he tried to be serious i also nearly fell on the floor at each of the slow motion shots used in the film i think there are three with one during a key fight scene when you have to use slow motion in the heat of a dramatic moment you clearly have some problems so even with my negative criticism i will recommend this movie solely for the purpose of <UNK> laughter that is if you appreciate the good movies like la <UNK>\n",
      "\n",
      "# 15 , label 1\n",
      "<START> ted <UNK> was a great choice to play <UNK> even though his background was mostly comedy he shows here that he can do drama just as well or perhaps even better though there is a lot of humour in this hard to turn a blind eye to his american accent especially since his character is supposed to be english but that's just a minor thing br br all the villains are equally well cast james fox edward fox peter o'toole <UNK> davis john standing etc despite the fact that most of them are either tiny people or giants they are 100 believable in everything they do and their motivations are very clear e g the <UNK> suspicion of <UNK> the giant <UNK> hatred of him for <UNK> his position as court <UNK> dr <UNK> attempt to have <UNK> proved insane so he can marry mary br br mary <UNK> is great as mary <UNK> another <UNK> century english character with an american accent but never mind she is a deeply tormented character because she has been waiting nine years for her husband to return home and when he finally does he is talking about tiny people giants a flying island and talking horses mary despite the strong fantasy element in the story is a very believable character br br the special effects are breathtaking especially when you consider that it was filmed on a television scale at a time when cgi was in its <UNK> it looks very realistic when we see a 6 foot ||| tall man walking through a city filled with people who are 6 <UNK> tall br br the cameos are great as well omar <UNK> richard wilson sir john gielgud <UNK> scott thomas ned beatty all great actors who create a strong supporting cast that <UNK> superb acting ability br br the and the <UNK> are probably the most effective element of the story on the satire side of things a society of talking horses who do not possess any of the <UNK> that humans have while the <UNK> are primitive disgusting humans who mate <UNK> and <UNK> their leader depending on how disgusting he is <UNK> and study of them is also very well done and displays the differences and similarities between humans and <UNK> br br the best version of <UNK> travels by far and one of the best mini series ever\n",
      "\n",
      "# 16 , label 0\n",
      "<START> i must <UNK> this comment with a sort of admission i suppose i just have a soft spot for the original 60s 70s tv series i think the filmmakers here blew it from the get go as far as casting in a supposed remake audiences would look for <UNK> of the hip athletic clarence williams iii or the cool with it michael cole and so forth instead we get <UNK> <UNK> as a poor little white rich boy who comes off as just pathetic like he is in all his roles in the office i used to work in i amused myself once by creating a fake movie poster casting various actors as members of the office staff guess who i cast as the <UNK> son of the company president danes does ok as the new julie but none of the characters have much to do as the story just sort of sits there <UNK> in <UNK> so it's quite forgettable besides what was i talking about |||\n",
      "\n",
      "# 17 , label 0\n",
      "<START> a girl named <UNK> becomes possessed by a demon the local priest who <UNK> dated sister must try to save her but the bigger problems are with the family's <UNK> of each other rather than the demon in their daughter br br this film is directed by ethan <UNK> the writer of house and the writer director of house ii i loved the first film and liked the second one even better so you would think this would be a winner alas this one looks like it was thrown together by first year film students dawson <UNK> could have done better i have thought about <UNK> new writer eddy especially because the idea is hardly original are they trying to cash in on the fans of the <UNK> of emily rose but <UNK> should have been able to do his magic br br also you'd like to think veteran horror stars jeffrey combs and james russo would help this film russo playing the bishop barely shows up and combs has a great role as a sheriff for the five minutes he's on screen but i love the mustache so no help here br br after seeing the exorcist all other <UNK> films must be compared to the classic by <UNK> no and the demonic possession in this film was not scary in the least no head spinning or <UNK> activity at all just a girl with a deep voice and <UNK> makeup all the demonic stuff was centered around the father <UNK> everyone of sleeping ||| with his wife as another reviewer wrote you get a lot of <UNK> <UNK> on her bed like it's a <UNK> hiding in her closet and jumping from a <UNK> <UNK> yeah it's chuck e cheese gone wild that sadly sums up the extent of the evil in this movie br br if you want to watch a movie about family members who <UNK> <UNK> and yell at each other while the possessed daughter sits in another room off camera this is the movie for you but if you don't mind my saying so you have a horrible taste in film if this is what you're seeking br br the plot seems to focus on the father <UNK> a cowboy of sleeping with his wife who didn't but did sleep with his daughter and of the <UNK> of sleeping with his wife who might have but <UNK> it and then you have a <UNK> who attacks the possessed girl with a <UNK> and tells the family to call an exorcist but once the priest arrives the <UNK> declares he does not believe in god what was all the bible <UNK> you were doing five minutes ago br br a horrible <UNK> movie examples of what combs and russo are capable of and such a sad display of directing after the house series of films became classic i would like to pretend <UNK> had no part in making this <UNK> derivative and unoriginal uninspired film the power of christ <UNK> you to avoid this movie as if viewing it were a <UNK> sin\n",
      "\n",
      "# 18 , label 1\n",
      "<START> 1956 was the 20th <UNK> of the communist party and the soviet <UNK> made a speech <UNK> <UNK> and the <UNK> and the <UNK> labor systems revealing information that was previously forbidden <UNK> revealing horrible new truths which opened the door for a new soviet cinema led by <UNK> once head of film production this film features a red army that is not <UNK> in fact they are <UNK> in a <UNK> mode with many people dying including the hero in a film set after <UNK> <UNK> <UNK> the german invasion of russia when germany introduced the <UNK> plan a <UNK> invasion intended to bring about a quick victory and the ultimate <UNK> of the and very nearly succeeded actually getting within 20 miles of <UNK> in what was a red army wipe out a <UNK> of human <UNK> 15 to 20 million russians died or 20 of the entire population historically this was a moment of great trauma and suffering a psychological shock to the russian people but the red army held and prolonged the war 4 more years until they were ultimately <UNK> br br during the war <UNK> used the war genre in films for obvious <UNK> <UNK> introducing female <UNK> who were ultra patriotic and strong and idealistic suggesting that if females could be so successful and patriotic then russia could expect at least as much from their soldiers <UNK> eliminated the mass hero of the <UNK> and replaced it with an individual bold leader who was successful at killing many ||| of the enemy an obvious reference to <UNK> himself who was always portrayed in film as a bold wise and <UNK> leader but changed this depiction as the <UNK> are flying was made after death causing a political <UNK> and creating a worldwide sensation winning the cannes film festival palm <UNK> as well as the best director and best actress <UNK> the west to soviet cinema for the first time since <UNK> <UNK> the terrible in the 40's br br this film featured brilliant breathtaking and extremely mobile camera work from his extraordinary cinematographer <UNK> using spectacular <UNK> and tracking shots images of wartime <UNK> <UNK> and crowded streets that are extremely vivid and real another brilliant scene features the lead heroine <UNK> who hasn't heard from her lover boris in the 4 years at war so he is presumed dead but she continues to love him expressed in a scene where she runs towards a bridge with a train following behind her a moment when the viewer was wondering if she might throw herself in front of that train instead she saves a 3 <UNK> old boy named boris who was about to be hit by a car another scene captures the death of boris on the battlefield who dies a senseless death and his thoughts spin and <UNK> in a beautiful montage of trees sky leaves all spinning in a <UNK> of his own thoughts and dreams including an imaginary wedding with <UNK> this film features the famous line you can dream when the war is over in the final sequence when the war is over the soldiers are returning in a mass scene on the streets <UNK> learns boris died all are happy and excited with the <UNK> return but <UNK> is in despair passing out flowers to soldiers and strangers on the street in an extreme gesture of <UNK> and <UNK> revealing <UNK> white and gray floating in the sky br br the film was released in 1957 in russia and according to some reviews the silence in the theater was profound the wall between art and living life had fallen and tears <UNK> the doors br br br br\n",
      "\n",
      "# 19 , label 0\n",
      "<START> <UNK> valley <UNK> is a movie about a possessed young girl do i need to describe any more of the plot to you the exorcist and the <UNK> of emily rose are two terrific terrifying movies classics imo <UNK> valley <UNK> is not not by a long shot it's certainly not as terrible as a low budget copy of the exorcist could have been from start to finish it has the feel of a made for sci fi channel production it's one of those movies that will probably be <UNK> and <UNK> on mystery science theater 3000 or a similar show br br the make up and effects were absolutely laughable the acting was <UNK> bad there was not a single performance that didn't lead to me rolling my eyes or <UNK> oh except maybe for <UNK> re animator combs as the sheriff the script wasn't that terrible but it certainly wasn't anything special br br it seems like through most of the movie everyone is more focused on who is sleeping with who than they are with the demon possessed girl in the other room oh there was something i learned from this movie apparently if your teenage daughter is possessed by a demon then all you have to do is lock them in the room c'mon and if your daughter is possessed don't worry too much because all it does it make them talk in funny voices eat <UNK> try to stare you down and put fog machines in their bed other than ||| that there is nothing to worry about apparently she was possessed with a low budget d list demon br br there was none of the ghastly deeds done by a list demons like <UNK> <UNK> painful body <UNK> or even <UNK> <UNK> br br totally laughable movie not worth even a <UNK> rental br br 2 out of 10\n",
      "\n",
      "# 20 , label 0\n",
      "<START> i bought this film as i thought the cast was decent and i like jennifer <UNK> <UNK> <UNK> br br first off let me say the acting is not of a high standard stephen baldwin makes his character look almost retarded at times and at other times <UNK> <UNK> <UNK> is so so but not too convincing in some scenes and the supposed poetry she <UNK> in a particular scene in her hotel room is utterly meaningless rubbish ms <UNK> is certainly very suggestive and sexy here but ultimately i think jennifer <UNK> is by far the best in this film ms character is at first innocent then sexy as she plays stephen <UNK> character travis for a fool the supporting cast includes adam baldwin no relation to his more famous m walsh who has appeared in many films also i noticed art evans who was one of john allies in die hard 2 the movie is decent and there are a few nude scenes with <UNK> <UNK> a bit of action but this is certainly not a fast moving or intelligent thriller there is a particular scene when they are in the car about to commit a crime and stephen character is wearing <UNK> and when you see him again the area around his eyes etc is painted black instead then the <UNK> <UNK> later when they are leaving the crime scene and police are in pursuit a very obvious error in editing br br if you are fans of either of the ladies ||| or either baldwin then you may find something to like here but others should steer clear this is a reasonable but <UNK> thriller and not really worth more than a couple of dollars if you want it\n",
      "\n",
      "# 21 , label 1\n",
      "<START> this movie is stunningly free from storytelling it's a pure experience where the music <UNK> the visual impression words cannot of course enough express what should be expressed but it is the <UNK> of the <UNK> classes that <UNK> is put forward entered into production lines of mediocrity and therefore a necessity in order to express any sensible thought or opinion about something which should not need to be <UNK> by <UNK> therefore these elaborate opinions are put forward to satisfy those empty minds which need to be filled by noise that you will not find however hard you try in this movie |||\n",
      "\n",
      "# 22 , label 0\n",
      "<START> the first time i saw this was when i was with a date and she thought it was an awesome movie i didn't br br the second time i saw this was last night on tv it still sucks br br as a love story this sucks as having julia portray a street hooker this is repulsive to me she was a <UNK> with a <UNK> and heels she had no tough shell to her she wasn't tortured <UNK> <UNK> starving or anything else her hooker character was so flawed like comparing a <UNK> to a diamond the two simply don't fit no matter what they look like br br the only cast i felt was worth watching was the 2 bitchy <UNK> whom were excellently cast they did such a fine job that i hated them for the few seconds that they were on screen they had real definition for the minor roles ok so the movie wasn't entirely trash the two ignorant <UNK> saved the film br br aside from those two women sales people the rest of the cast including the big names was just crap either everybody was an ass <UNK> or had absolutely no reason to fill any dialog in the movie aside from just <UNK> julia roberts or kissing ass to richard gere br br this was a movie about how when you walk around in high heels and a tight <UNK> in beverly hills people <UNK> at you and guys who work in <UNK> <UNK> as if they ||| just had a baseball bat struck to their face br br while in reality the women who are dressed to the <UNK> in beverly hills are <UNK> and prostitutes to a higher degree but since they aren't wearing the <UNK> madonna looking jewelry or the <UNK> boots they can look down on the others who do br br the hotel cast was <UNK> sad to watch and anybody who had any real character had less than a minute of screen time br br this is an insult to romantic movies comedies dramas and even to prostitutes who face wealthy customers on a daily basis with hopes of having their lives work out perfect br br the story is about julia roberts being <UNK> yes <UNK> by a <UNK> in a business suit and <UNK> br br she is still owned still told how to act how to move what to wear what to say where to go and what to do he is more controlling than a street <UNK> but the folks at disney <UNK> <UNK> <UNK> it up to make it easier to swallow br br had richard gere been a black man with a gold tooth and an <UNK> <UNK> at his side instead of an case this movie would be about how a woman has to struggle to get away from the <UNK> of prostitution same story different characters will make a very different <UNK> br br oh yeah change the white man for a black man or asian or spanish have the land business deal be changed to a deal of weapons or <UNK> and the entire concept of romantic comedy is thrown away br br as far as i'm concerned pretty woman is still trash dressed with <UNK> and <UNK> br br i didn't like it 15 years ago when i didn't understand it and was led by the hollywood hype i hate it now that i can see past the pretty <UNK> that is called love br br this movie is not a romantic comedy it's a story on how to control a woman as long as you have the means and <UNK> to do so br br this is an insult to strong women weak women and women in general as well as to my television screen br br do i hate it yes does it suck yes would i recommend it to you no well maybe if i really hated you br br will this review get posted we'll see br br <UNK> that's all for now\n",
      "\n",
      "# 23 , label 0\n",
      "<START> terrible absolutely terrible long confusing and <UNK> after about three hours of this painful mess the ending truly is the final nail in the coffin not even the magnificent sexy beautiful <UNK> <UNK> <UNK> can save this poor adaptation of agatha <UNK> work the plot drags and drags and time goes by slowly and suddenly you realize that you don't even have any idea of what's going on anymore by the end even with the usual explanation by the villain there's still a lot that's left unexplained and <UNK> it's over a complete waste of time and without a doubt one of the worst to bear the name of agatha christie |||\n",
      "\n",
      "# 24 , label 1\n",
      "<START> a must for any die hard <UNK> fans br br <UNK> does the role of <UNK> a amount of justice and although the <UNK> isn't 100 factual is still a good insight into the lives of both richard and karen and worth a watch just for the soundtrack br br makes me cry <UNK> br br |||\n",
      "\n",
      "# 25 , label 1\n",
      "<START> an intense dark action drama with unusually rich support from <UNK> keith et al many of whom get the best roles of their careers and run with it the film is oddly shaped often the action slows down just to let the characters get caught up in odd but well done seemingly improved dialogues during the almost all of the machine get caught up in perfectly delivered humorous monologues and reynolds the director deserves <UNK> credit for having reynolds the star step back and give them room and unlike most action films you really get to like the characters which makes the 2nd half when their various <UNK> good and bad unfold unusually affecting the combination of character development brutal violence a <UNK> soundtrack tarantino must be a fan watch this then jackie brown and you'll see what i'm talking about make this occasionally flawed film the bad guys are a bit melodramatic one of the better modern cop films and in my mind superior to many of the overrated modern <UNK> such as body heat such |||\n",
      "\n",
      "# 26 , label 0\n",
      "<START> truly awful nonsensical garbage this movie does everything wrong except make the running time under an hour the gore fx defy gravity logic there are no scares the acting is abysmal with everyone appearing to be reading their lines there's a surprise ending that's just silly where we find out that things we saw happen didn't even happen boy do i hate cop out endings they pad this thing out with long drawn out shots of people doing nothing interesting like putting on make up or talking for what seems like forever they have to pad out a movie that's under an hour long ridiculous the story itself is pretty <UNK> thin i mean it's just a variation of the movie april <UNK> day if i remember that movie correctly and that film wasn't all that great either the only good thing i can say is it seems to have been shot well too bad nothing happens that's very exciting |||\n",
      "\n",
      "# 27 , label 1\n",
      "<START> i took my younger niece to an early showing and she loved it i enjoyed it myself as well i don't need to explain the plot since the movie remains completely true to the award winning top selling book by famed author carl the movie takes the popular book and layers it with beautiful cinematography i want to go to florida now humor thanks to funny man luke wilson and some new <UNK> and great music i have to get to get a jimmy <UNK> cd now i know a movie is good when i get <UNK> <UNK> in the end overall it was great family film that i felt comfortable taking my younger niece to i'd recommend it to any and everyone |||\n",
      "\n",
      "# 28 , label 0\n",
      "<START> i rented this movie to get an easy entertained view of the history of texas i got a headache instead the depiction of history in this movie is so comical that even mad tv would not have done a better job |||\n",
      "\n",
      "# 29 , label 0\n",
      "<START> this soft soft core sci fi b movie is what you'd have if you took an early fred <UNK> ray film and took out the fun or <UNK> it's like an uwe boll <UNK> but without as much <UNK> a young <UNK> chain gang convict c c <UNK> agrees to pose as a space <UNK> in order to stop wacky kim <UNK> plans of having everyone have sex with everyone else apparently that vile fiend anyone who went into this film looking for serious science fiction well you got what you deserved for not doing any <UNK> on the film at all first of all when did kim dawson ever star in anything other than soft core <UNK> level crap for that matter take a look at the <UNK> for <UNK> and the director before you take a <UNK> fit saying you expected something else don't get me wrong for a space action soft core <UNK> flick this film is still not good but if you expected something along the lines of contact i do not pity you br br my grade d br br where i saw it <UNK> on demand available until december <UNK> 2005 |||\n",
      "\n",
      "# 30 , label 0\n",
      "<START> right then this film is totally unfunny <UNK> has gags from other films has songs from other films blink <UNK> grand <UNK> we <UNK> u an unlikeable leading man a ridiculous plot and lame parodies of films like mission impossible 2 and american beauty redeeming features shannon elizabeth and <UNK> <UNK> enough said |||\n",
      "\n",
      "# 31 , label 1\n",
      "<START> jackass number two is easily the most hilarious film of 2006 beating the also hilarious <UNK> ii it is one of the best sequels in recent memory beating jackass the movie in every way now this film may be the funniest but it is also the most offensive appalling and utterly disgusting you will find yourself feeling sick several times throughout the film i'm completely serious when i say don't eat anything before watching or during this film because chances are that it will literally come back to haunt you keep the drinking to a minimum as well you've been warned because just like the <UNK> says it will make you beg for mercy br br jackass number two follows the crazy men from the hit show jackass johnny <UNK> <UNK> ryan <UNK> steve o chris <UNK> <UNK> <UNK> preston <UNK> dave england brandon and jason man' chris is absent as they perform the most outrageous life threatening and revolting stunts imaginable i'm not going to tell what the stunts are but i will warn you that any scene with an animal will be sickening or psychologically frightening and that one cast member once again not telling will <UNK> with death several times in the film br br what makes jackass number two so entertaining is not the stunts themselves but how the cast <UNK> to them and to doing them to put it simple if they loved doing it and had a blast you will too this goes for 99 of the stunts all ||| the stunts are very original and 90 of them are never before seen you will witness a few recycled ones but they're <UNK> up you wouldn't think directing really factors into a movie like this but it does jeff <UNK> direction makes the movie so much funnier because he provides <UNK> for the gang in their comedic timing which is simply brilliant on his part he could have just sat back and slept throughout filming actually you'll see in the film that he did sleep through some filming but he went out there and helped these crazy guys make the stunts as funny as he could i give mr <UNK> two thumbs up for that another great thing about jackass is its bonanza of celebrity cameos and this time they include <UNK> legend <UNK> hoffman <UNK> god tony <UNK> director actor jay <UNK> super troopers actor luke wilson miami <UNK> star jason taylor and director actor mike judge office space the scenes with hoffman taylor and <UNK> are among the funniest in the film as it's even funnier to see these men as a part of the film br br jackass number two is one of the most politically incorrect morally <UNK> and just plain wrong movies of all time if not the most despite this it is so original and so hilarious that you won't care about that you'll be <UNK> for air laughing so hard you'll be crying and jumping out of your seat laughing throughout the entire film due to the explicit and potentially disturbing graphic content of this film no one under 18 should watch this film you've been warned i hope you enjoy jackass number two as much as i did br br 10 10 spy\n",
      "\n",
      "# 32 , label 0\n",
      "<START> twins effect is a poor film in so many respects the only good element is that it doesn't take itself seriously other than that this is not really a movie but rather a <UNK> tool for the film's two stars popular pop <UNK> in their native hong kong br br the film itself is poorly constructed and acted the direction offers up some silly martial arts which is odd since the action director and supposedly co director is <UNK> <UNK> like many hong kong films <UNK> for the teen audience the major <UNK> of actors like the twins the two girls who stars in this film and <UNK> <UNK> there is so much bad music to <UNK> the audience into believing certain scenes are funny clever etc br br the final conclusion it's all for <UNK> even as a fan of hong kong movies this is a poor film not funny enough not serious enough and just generally too bubble <UNK> fake for its own good br br 3 out of 10 br br go to http www <UNK> com for a more in depth review of this movie and other foreign films |||\n",
      "\n",
      "# 33 , label 1\n",
      "<START> errol flynn had quite a gift for comedy that was sadly rarely exploited given the right material this film demonstrates that he could have happily been quite at home in cary grant style gentle comedies out of his various <UNK> into the genre this is certainly the best <UNK> brady gives a fine performance in the child part and <UNK> parker looks simply stunning throughout the film an added bonus is the wonderful <UNK> <UNK> who is sadly underused in this film a welcome presence none the less flynn carries off his comedic duties with the same easy style that he brought to his <UNK> roles the fact that he makes it look like it's easy doesn't mean that it is a super little family comedy great for the christmas period or any other time you feel like being <UNK> up |||\n",
      "\n",
      "# 34 , label 0\n",
      "<START> i saw this video at a friends house and it was the <UNK> thing i have seen ever i lost a lot of the little respect i had for <UNK> very boring and the music is as equally interesting dont waste your time unless you are a hardcore <UNK> fan |||\n",
      "\n",
      "# 35 , label 1\n",
      "<START> i recently purchased this on dvd as i hadn't heard of it and like robert <UNK> br br obviously this movie is not going to have hollywood blockbuster special effects in saying that though the special effects were decent enough and the acting was fine also br br i found the movie to be enjoyable and do not regret buying it at all at almost 2 hours long it is just the right length for this type of movie br br do not expect thrilling explosive action from beginning to end though it is a fairly well balanced movie with a decent enough storyline |||\n",
      "\n",
      "# 36 , label 1\n",
      "<START> a <UNK> to the old fashioned westerns of the 30s and 40s such as dodge city dallas has a number of things going for it gary cooper at his coolest blazing technicolor photography by ernest gone with the wind and a pulse <UNK> max <UNK> king kong <UNK> dodge city et al score in addition there is a <UNK> mistaken identity a <UNK> death and more hair breath escapes than a republic serial as always cooper <UNK> what it is to be a man under pressure forget the 50s angst western this is pure entertainment |||\n",
      "\n",
      "# 37 , label 0\n",
      "<START> terrible psychological thriller that is almost painful to sit through every aspect being awful br br the combined talents of top actors kevin bacon and gary <UNK> are totally wasted and though they give good performances one wonders why they bothered the script from mark <UNK> is a complete mess and martin campbell has the narrative jumping all over the place but if you're unable to follow it take it as a <UNK> there are far too many pointless crazy scenes that just don't make sense jerry <UNK> music is not much help either br br even if there was potential in the plot director <UNK> approach has utterly ruined it avoid at all costs br br monday <UNK> 26 1996 video |||\n",
      "\n",
      "# 38 , label 0\n",
      "<START> the real plot br br a group of post civil war prostitutes seek alternative <UNK> in <UNK> boom <UNK> everett and a close <UNK> family of call girls have been eating date <UNK> <UNK> for days and plan to move into the former <UNK> <UNK> locals warn the women of eating more of the dated <UNK> because there is a vicious <UNK> loose in the area and he refuse to <UNK> them out to the property when they finally arrive at their destination they discover their stomach is full of <UNK> after all the bad <UNK> it is not long before they learn why their new home is called <UNK> boom |||\n",
      "\n",
      "# 39 , label 1\n",
      "<START> one of the best of the <UNK> fantastic views of london and <UNK> snippets of working class life of the 60's <UNK> eye seems to capture everything yet makes no judgment a taste of things to come as with and <UNK> it serves as a cinematic social history of britain carol white is completely convincing you love her fancy her want to take care of her but hold your head at her self destructive decisions and still follow her in some vain hope well backed up by <UNK> <UNK> fresh off 'the <UNK> also catch 'the and a <UNK> of english faces all looking very young set to tones <UNK> sings <UNK> is the in a lovely scene ending with him saying getting better ain't i song also used in 'the rules of i think watch carol whites screen mum getting ready to <UNK> out and get a putting on her false eye <UNK> to the sound of on the radio priceless a treasure for anyone who was around at the time and a reminder of how good life is now in england incidentally <UNK> used clips from in 'the |||\n",
      "\n",
      "# 40 , label 1\n",
      "<START> in a genre by itself this film has a limited audience and narrow appeal coupled with a subtle <UNK> which <UNK> the entire production nevertheless it is a remarkable piece of cinema which is as timeless as a rare work of art capturing a time in rarely seen in movies <UNK> <UNK> strength lies in the depth of its characters and the <UNK> of the settings <UNK> and <UNK> is brilliantly cast as the backdrop which could not possibly be achieved by anyone other than a pure <UNK> br br it would be far too easy to resort to stereotypes clichés and single minded <UNK> statements in this story yet the director chose to skip the forced imagery and instead focused on the essence of life in rural of the time that makes this film exceptional in its authenticity while not being pretentious in its presentation if only more contemporary cinematic <UNK> would do the same the viewing public might not be forced to choose between the over hyped hollywood that passes for <UNK> <UNK> viewing br br <UNK> <UNK> <UNK> is in every sense of the word unforgettable it will leave a lasting impression on anyone who has ever lived in or visited a classic br br follow up 10 may 2008 br br after reviewing some of the comments it's worth noting <UNK> <UNK> <UNK> is not and probably wasn't meant to serve as standard hollywood american cinema for mass market sales a coming of age story yes but far more than simple ||| <UNK> of <UNK> in 1940's viewers <UNK> looking for sheer entertainment at the expense of complex development of the characters will be sorely disappointed go watch action adventure romance comedies to be amused watch <UNK> <UNK> <UNK> to be drawn into a seldom seen but absolutely remarkable society that has been overlooked and ignored for far too long br br the <UNK> of wrath is hardly an edge of the seat thriller yet the story and characters are what makes this american classic an enduring film <UNK> <UNK> <UNK> is in the same genre\n",
      "\n",
      "# 41 , label 1\n",
      "<START> really don't care that no one on here likes this movie i do and that's what this review is about lou diamond phillips is great in this comedic role that line about train a b and c is now to me an instant classic the cg is great yeah train looks a little fake but the aliens wow do they ever rock todd bridges where's arnold and mr <UNK> wow he's been out of the loop guess that's what jail does to you a bullet train is on it's way to las vegas with the senator for him to deliver a big speech a meteor has just hit and now all of a sudden we got aliens running loose aboard the train and our hero cop has to save the day to make matters worse his ex wife is on board arguing with him i just thought this movie was so wonderful a must see if you like action |||\n",
      "\n",
      "# 42 , label 0\n",
      "<START> watched this piece <UNK> because the description was kind of outlandish this film stinks of cocaine the opening scene alone must have cost at least five figures in blow to film this is a racist <UNK> piece of garbage that <UNK> along for a good <UNK> and with absolutely no direction i am a little confused on how this has good reviews here i won't bother telling you the plot line because as far as i can tell there is no plot i'm pretty sure everyone showed up to the set everyday did giant lines dressed loretta in <UNK> <UNK> to show as much <UNK> as possible and <UNK> action letting the cast <UNK> in a cocaine frenzy much like real beer this movie nearly caused my <UNK> to fail half way through save your money and watch <UNK> instead |||\n",
      "\n",
      "# 43 , label 0\n",
      "<START> as i read the script on line i thought capote needed a <UNK> having just seen it on <UNK> i can tell you it wasn't <UNK> it was butchered like that poor family example in the script truman <UNK> shawn adorable one here he is mr shawn br br bad enough the amateurs behind this movie de flame capote and bash his circle are we to really believe they thought so little of they <UNK> her little <UNK> like an obnoxious in joke they turn perry smith into this oh so sensitive victim even as he's shown <UNK> the <UNK> it's one thing to <UNK> the facts it's another to drop the ball the <UNK> were carried out between 12 45 1 19 am april 14 truman is shown at the prison 22 hours later br br i was totally <UNK> by the acting <UNK> doesn't even try to sound like an <UNK> native the way cooper kept shouting alvin i was waiting for the to show up hoffman gives us not the charming <UNK> but a pathetic suck up who sees an horrific act as his ticket to the big time when hoffman <UNK> about being tortured by the endless appeals i wanted to give him a shotgun so he could do us both a favor and blow his brains out |||\n",
      "\n",
      "# 44 , label 1\n",
      "<START> when i first heard about greek i figured i would watch it because it sounded ridiculous another of abc family's so bad they're almost good shows but <UNK> in with a friend from college found us both enjoying the pilot episode a lot more than we had expected br br as a member of a greek society i can say that a lot of the stereotypes that are brought up here are ones that come up almost every time someone starts talking about the <UNK> and <UNK> on a campus and are also very fun to play with just on are own let alone to watch on a tv screen the opening scene to an only slightly <UNK> version of preparing for an actual <UNK> rush in some <UNK> and it continued on from there br br this isn't a show for over sensitive <UNK> if you get offended even at jokes about things that aren't so great about greek life then you'll spend the entire first episode and probably many other cringing and yelling but everyone else should have a ton of fun watching it it's nothing new but when it comes to college nothing ever is |||\n",
      "\n",
      "# 45 , label 0\n",
      "<START> i rated this one better than awful because i liked seeing <UNK> from buffy in something again even if it was the same role br br first the concept is kind of cute for a short but not an entire movie the writing was forced and contrived i have the feeling that the movie suffered the most during editing br br second amanda <UNK> always looks like her eyes are crossed even when she's not trying to do it she's just not funny she always plays some sort of <UNK> girl who <UNK> by being herself ironic considering amanda seems to always be a caricature i would actually like to see her in something serious i really want to give her a chance but she is always cast in these trite roles where she and makes faces and somehow that's a good thing br br finally the whole i'm a <UNK> segment was ripped off from revenge of the <UNK> there was nothing in this movie that was unpredictable br br shame shame shame |||\n",
      "\n",
      "# 46 , label 0\n",
      "<START> can't <UNK> like alec baldwin get it through their heads that they lost the <UNK> of 2000 and 2004 the ridiculous lame <UNK> at <UNK> non union workers george w bush and the stock market not to mention the intentional <UNK> accent that character uses in the film just makes him look silly and bitter on screen as the credits roll the sour <UNK> continue as special thanks are given to ken lay and other <UNK> from <UNK> and let me clue you in to something if you put all your money into one <UNK> stock you're an idiot we don't need this excuse for a movie to tell us that what a waste of jim <UNK> talent from the trailer i expected a completely different movie what i got was a 90 minute commercial on how to scare people into not <UNK> for their own future keep them stupid and keep them <UNK> on government no wonder hollywood is in trouble and can't make a decent movie anymore maybe you guys could get an original idea and put it on screen for once although i shouldn't be surprised since jane fonda was cast in the original |||\n",
      "\n",
      "# 47 , label 1\n",
      "<START> so dark the night poses a tough challenge it's very hard to write about it in any detail without ruining it for those who haven't yet seen it since it remains quite obscure that includes just about everybody the movie will strike those familiar with its director joseph h <UNK> better known titles in the noir cycle  gun crazy the big <UNK> even my name is julia ross which in its <UNK> it resembles  as an odd choice br br for starters the <UNK> french countryside serves as its setting steven a middle aged detective with the in paris sets out for a vacation in the village of <UNK> <UNK> or maybe <UNK> quite unexpectedly he finds himself falling in love with the daughter even though she's <UNK> to a rough <UNK> local farmer but the <UNK> song of life in paris is hard to resist so she agrees to marry him despite the <UNK> in their ages which inevitably becomes the talk of the town br br but on the night of their engagement party she fails to return to the <UNK> soon a <UNK> finds her body by the river her jealous <UNK> lover is the logical suspect but he too is found dead then anonymous notes <UNK> more deaths which come to pass for the first time in his career the <UNK> finds himself <UNK> br br a particularly weak script all but does the movie in it plays like bad <UNK> <UNK> crossed with the murder of roger <UNK> ||| but lewis does this <UNK> vehicle proud he takes his time near the beginning but then the story  and the storytelling  gain momentum alas just about the time the script breaks an <UNK> <UNK> and photographed the film with an intriguing <UNK> of <UNK> out of and <UNK> into windows there's also an effective score by hugo who <UNK> <UNK> menace to many <UNK> a good deal of talent has been <UNK> on so dark the night but at the end it <UNK> down to not much more than a gimmick  and not a very good gimmick at that it's a one trick <UNK> of a movie br br\n",
      "\n",
      "# 48 , label 1\n",
      "<START> i saw this film back in the early 70's and i was <UNK> by judy <UNK> for me it captured the <UNK> nature of rod <UNK> obsession with the young and extremely sexy <UNK> <UNK> played by <UNK> br br you couldn't help feel a little sorry for the wife played brilliantly by claire bloom i was really disappointed to see that the original cut may have been lost and there is little chance of it being released on dvd br br i defy anyone who saw the film and it's strong message not to be equally absorbed by the three main character performances and i would have loved to have seen it again if nothing else for a purely nostalgic reason br br going back in time some 35 years br br a real classic |||\n",
      "\n",
      "# 49 , label 1\n",
      "<START> i did enjoy watching <UNK> jerk around the crew in this episode though after a while the whole thing just seemed a little too long sure the <UNK> were kind of funny for a while and the ending was a pretty good way to wrap the whole thing together i think the problem was that i enjoyed seeing when he was full of <UNK> and fun the fun seemed to <UNK> when became <UNK> and nasty talk about a mood killer going from the obnoxious but <UNK> host to the guy <UNK> kirk to death but despite this the episode was enjoyable and worth my time for die hard <UNK> this is a must see for others it's just a pretty run of the mill one |||\n",
      "\n",
      "# 50 , label 0\n",
      "<START> i only gave this film a 4 because i saw it in 3 d if you don't see it in 3 d i give it a 2 this movie is so bad it's not funny anyone can make a film like this for a weeks pay bad acting effects and story but it was cool to watch in 3d why can't they make good movies in the 3 d format |||\n",
      "\n",
      "# 51 , label 1\n",
      "<START> the family happiness is <UNK> when the from the beginning rich father ward michael <UNK> gets poor and cannot support the family any longer then the mother faye <UNK> smith has to take the role as the <UNK> in the family and starts to work in order to support the family and at the same time <UNK> alone has to manage the family life not always that good but as good as she can the family life hardly gets easier when the father learns that the son lionel joe stargate atlantis is gay and is living together with his lover john joel the also an old family friend resulting in that the father makes clear to lionel that he is no longer welcome in the family lionel is the one who meant the most to his sister anne leslie during her up bringing since the family neglected her anne cannot stand the fact that their father have cut the <UNK> with lionel and therefore she run away from home as this wasn't enough the son greg brian <UNK> <UNK> <UNK> in the marines and is sent to war the storyline in this film can on some occasions feel a bit thin in spite of that it still has a lot of realism in it which makes it well worth seeing since this film illustrates many sensitive relations and situations i would believe that it is best appreciated by a mature audience even though it wouldn't hurt for teenagers to see it and get something to ||| think about before <UNK>\n",
      "\n",
      "# 52 , label 1\n",
      "<START> like the first film in this series slaughter 1972 i think it would be a mistake to just label this a film sure slaughter is a tough gun <UNK> black man but it's more of an action picture regardless of the color of the leading man or the bad guys and a very good action picture at that br br for the second and final time jim brown plays the title character the film begins with one of the <UNK> scenes i can remember in a film as slaughter and his friends are enjoying an <UNK> party along comes a <UNK> and begins <UNK> the group with machine gun fire no slaughter isn't so tough that he then shoots down the plane with his <UNK> but slaughter is <UNK> and no one is sure why this hit was happened however slaughter is going to get to the bottom of it well it turns out that the hit was attempted in <UNK> for the last movie in it slaughter takes on the mafia and kicks lots of butt down in mexico now in a horribly <UNK> and clumsy attempt the guys in the plane kill and <UNK> quite a few people but miss slaughter and because the job was <UNK> so badly the mob boss ed <UNK> orders the pilot and <UNK> killed by his brutal assassin don <UNK> in a very typical sort of role for him <UNK> is great scary and nasty to the core but ed <UNK> as the boss wow that's an ||| interesting twist br br slaughter is now <UNK> he figured out who the two guys were in the plane but by the time he got to them they were dead so to help him along in his own private <UNK> <UNK> peters who plays a cop tells him who the <UNK> are who ordered the hit and got slaughter to agree to help by doing some illegal undercover work so slaughter and his <UNK> friend break into the <UNK> mansion and steal a list of <UNK> to key government and police officials and naturally there is a lot of shooting and bloodshed in the process br br <UNK> isn't about to let slaughter get away with this and kidnaps girlfriend now it's a <UNK> slaughter has the list but if he doesn't give it back the lady is dead being a tough but <UNK> man you might just be able to guess much of what happens next br br the action is very good in the film and jim brown is menacing and tough the only negative i noticed was that while having <UNK> play this nasty boss at the end he simply <UNK> and way too quickly when slaughter catches up to him <UNK> becomes a <UNK> and all the previous <UNK> disappears and this is too much of a cliché and inconsistent still despite this minor <UNK> it's an engaging film that is not for the kids due to all the violence and boobs\n",
      "\n",
      "# 53 , label 1\n",
      "<START> committed is all about graham as an <UNK> <UNK> who goes in search of her self estranged husband who has gone in search of himself which all leads to a sort of upbeat comedic odyssey involving a bunch of side characters and issues a fresh fun and unpredictable little flick what committed lacks in story it makes up for in good and subtle morals and if you enjoy this little chick flick which received slightly above average reviews by critics and public alike you might want to check out lisa <UNK> hit indie <UNK> lo 1996 b |||\n",
      "\n",
      "# 54 , label 0\n",
      "<START> this film is <UNK> along with <UNK> le <UNK> lo and both films leave a lot to be desired in the way of their dvd <UNK> first both films are very dark occasionally making it hard to see exactly what's happening second neither film has subtitles and you are forced to watch a dubbed film though <UNK> del does seem to have a better dub personally i always prefer subtitles but for the non <UNK> out there this isn't a problem these dvd problems however are not the fault of the original film makers just the indifferent package being <UNK> four decades later br br as for the film it's about the assassination of president garfield this is a major problem as van johnson looks about as much like garfield as judy garland in no way whatsoever does he look like garfield he's missing the beard has the wrong hair color and style and is just not even close in any way trust me on this i am an american history teacher and we are paid to know these sort of things the real life garfield was a civil war general and looked like the guys on the smith brothers <UNK> drop boxes plus using some other actor to provide the voice for johnson in the dubbing is just surreal never before or since has van johnson sounded quite so macho he was a fine actor but certainly not a convincing general or macho president br br in addition to the stupid casting president <UNK> ||| death was in no way like this film it's obvious that the film makers are actually <UNK> in on the crazy <UNK> about <UNK> concerning the death of <UNK> not garfield garfield was shot in washington <UNK> not dallas by a lone <UNK> with severe mental problems not a group of men with <UNK> however according to most experts what actually killed garfield over two months later were incompetent doctors who and and to retrieve a bullet to no <UNK> and never bothered cleaning their hands or <UNK> in the process in other words like george washington who was basically killed by repeated <UNK> when suffering with <UNK> he died due to <UNK> in the movie they got nothing right whatsoever other than indeed president garfield was shot br br because the film bears almost no similarity to real history it's like a history lesson as taught from someone from another planet or someone with a severe brain injury why not also include ninjas fighting robots and the greek gods while you're at it aside from some decent acting and production values because the script is utter cow crap i don't recommend anyone watch it it's just a complete and utter mess\n",
      "\n",
      "# 55 , label 1\n",
      "<START> a powerful real tv movie very <UNK> and therefore remaining almost un <UNK> almost <UNK> 2 <UNK> in france after you've watched this <UNK> all movies filmed with the same concept a documentary team following the events as they arrived seem so weak br br david |||\n",
      "\n",
      "# 56 , label 0\n",
      "<START> in <UNK> the priest owen vincent <UNK> hires a team to guide him in the underworld to find his friend <UNK> <UNK> <UNK> that is missing while <UNK> the legend about the existence of demons and an entrance to hell beneath the city br br i bought this dvd based on the name of val kilmer and the interesting pictures on the cover i am totally disappointed since this film is one of the worst movies i have ever seen i do not understand how val kilmer accepted to participate in this production there are two shameful reviews in imdb promoting this movie and they are typically fake written by users with only one review in this site there are two possible ways to see this boring and awful film my wife and i many times because of the <UNK> of this pointless story and we used the <UNK> button of the dvd to repeat each lost scene however the correct way should have been the use of the fast forward or the stop button to end this crap faster my vote is one br br title brazil dark city |||\n",
      "\n",
      "# 57 , label 0\n",
      "<START> the ten steps has basically a reasonably good premise for a scary short but the execution is simply appalling the dialogue is terrible and the acting is of the kind so regularly witnessed in irish short films really really embarrassingly bad the girl has to go down the 10 steps of the <UNK> to change the blown <UNK> she <UNK> her father who is entertaining his boss at dinner the mother an actress with very questionable acting skills answers the phone and in a loud <UNK> voice tells her not to be <UNK> as dad is <UNK> to impress his <UNK> the actress playing the <UNK> wife very successfully <UNK> the mother's poor acting when she tells them that their house is haunted the rest of the film consists of the father <UNK> his daughter down the stairs on the <UNK> the ten steps employs the stock techniques in camera movement lighting and music that one would expect in a below average horror film poor |||\n",
      "\n",
      "# 58 , label 0\n",
      "<START> this is one of those movies you find when you stay up too late and only have basic cable it's hard to believe this movie was made in <UNK> considering it looks like something out of the late 80s <UNK> youngsters with varied home problems face a demented ice cream man who's on a mission to make the best flavor ever soylent cream br br this movie is extremely demented and is only scary in how creepy and absolutely ridiculously gross it is actually the really scary thing about this movie is the nature of the problems these kids face at home the fact that these kids have no escape from their silent suburban <UNK> makes any random loony loose in the neighborhood seem like a walk in the park br br the most laughable part of this movie is the fact that the stereotypical fat kid is so obviously a slim pre teen with a mountain of padding under his <UNK> i guess that either a they hadn't invented couldn't afford a fat suit b the casting director was too lazy to find a <UNK> child star or c we are honestly supposed to believe that this child is starving and has an enormously <UNK> belly br br so if you're up at 2 am and need something ridiculous and disgusting to rip on with your <UNK> friends go ahead and take a look personally i'd rather be sleeping |||\n",
      "\n",
      "# 59 , label 0\n",
      "<START> i made it about 8 minutes into steel frontier before i turned it off then <UNK> for punishment that i am i watched some more the next day today i had to iron a pile of clothes so i decided to finish the movie and that was its own punishment here's what i don't understand robert rodriguez and <UNK> each spent 7 000 on their debut features and created two remarkable movies yet here we have two directors with arguably way more money and they <UNK> out a huge steaming pile of crap let me see if i can figure out the logic it's <UNK> but it's like a future western we'll get the <UNK> <UNK> we can find we'll have my mentally challenged cousin write the script and we'll spend the budget on a bunch of explosions we can't lose br br seriously i don't think even the mst3k guys could improve this but if you insist on watching it i recommend getting very drunk first |||\n",
      "\n",
      "# 60 , label 0\n",
      "<START> i was really disappointed after viewing <UNK> revenge the other night i had a good <UNK> that it was going to be a bad one but i didn't think that it'd be as bad as it turned out a wooden puppet of a murdered boy falls into the hands of an <UNK> eight year old daughter from there it is a murderous path for anyone who gets in the way between the puppet and the little girl we've seen movies like this before i e the child's play series which is by the way far better however it was good to see actors like james w quinn and todd allen both of which have worked under kevin <UNK> before in any event i encourage viewers to check out night of the demons and the original <UNK> these are titles that tend to bring out the best in kevin s <UNK> |||\n",
      "\n",
      "# 61 , label 1\n",
      "<START> michelle pfeiffer is <UNK> cast as the frustrated mob widow in this colourful black comedy matthew <UNK> plays a clumsy fbi agent who has taken a fancy to her dean <UNK> steals the show as the big shot who keeps on pfeiffer <UNK> <UNK> is dynamic as his jealous wife it's all very eighties but that just adds to the fun a nice little flick though not for every taste |||\n",
      "\n",
      "# 62 , label 1\n",
      "<START> when a group of escaped <UNK> manage to flee to a remote island they soon find that their new home is inhabited by a strangely menacing doctor richard johnson of zombi 2 fame a mad scientist joseph <UNK> his beautiful daughter barbara bach and a <UNK> of <UNK> natives the <UNK> say that the doctor has created grotesque half human half fish creatures for evil <UNK> purposes and though at first the prisoners do not believe this as they disappear one by one they begin to change their minds is a very entertaining mix of mysterious island and <UNK> from the deep there is plenty of gore with really cool <UNK> scene and throat <UNK> to boost the acting is so so but the film is fast paced and entertaining give it a look 8 out of 10 |||\n",
      "\n",
      "# 63 , label 1\n",
      "<START> lead actor <UNK> <UNK> <UNK> so much in the exceptionally <UNK> the a <UNK> on missed chances in the life of a 50 something woman <UNK> her routine with sincerely poignant motives played out in the <UNK> <UNK> town of <UNK> <UNK> unconventional romantic film so to speak is less a straight out melodrama than a deliberate <UNK> of its characters' surrender to their current lives as a result of a tragic past that forced them to a choice they did not call for br br perfectly <UNK> the requisite world <UNK> subjected to a <UNK> routine <UNK> plays a middle aged woman who before her work shift at a supermarket takes it upon herself to deliver <UNK> of milk among the residents of the <UNK> <UNK> one of the houses she constantly passes by to make such a delivery is that of a local government employee caring for her <UNK> ill wife and were high school <UNK> who courtesy of an <UNK> event concerning their parents separated ways since then br br opening his film with the foreboding narration of a young <UNK> never to leave <UNK> does as such with the narrative <UNK> sticking with as he <UNK> aided by understated yet highly effective performance follows her whether she's having <UNK> with her aunt <UNK> on being single or when she <UNK> up and down the countless footsteps of their <UNK> town to <UNK> milk as she and gradually overcome the <UNK> that kept them apart for years such <UNK> development may not ||| suit viewers <UNK> on fast paced <UNK> but for the rest it's a heartfelt <UNK> that affects <UNK> and <UNK>\n",
      "\n",
      "# 64 , label 1\n",
      "<START> this is a masterpiece 'the big is a crazy weird hilarious and eventually touching look at an old married couple and their quiet life who argue over <UNK> and <UNK> while a nuclear war <UNK> on outside everything in this great animated short stands out as memorable the eye shaking of the wife the <UNK> the husband's saw fetish keep an eye on those backgrounds the very verbal cat the demented game show the informative news anchor the beautiful <UNK> <UNK> and the moving and memorable ending i am so glad i found 'the big which is hands down one of the greatest works of film ever produced |||\n",
      "\n",
      "# 65 , label 1\n",
      "<START> the martial arts movies got huge in the 60's in parts of asia but with the growing popularity of the infamous shaw brothers films america was bound to catch on this movie was the first to be presented in america under the warner bros label and it did in fact start a <UNK> here that <UNK> the 70's with martial arts films many of the films to follow would pale in comparison but some were great and many like enter the dragon which came out shortly after this one became huge success stories and made <UNK> out of these fighters br br fast forward almost 40 years later and this movie still holds up most shaw brothers films are as good today as they were back then and truth be told no films have been made in this genre to compete with those made by the shaw bros back in the day br br i like to think martial arts are like porn and nobody watches porn for the plot just the action well same goes with m a films and most of them are just a bunch of great fights with little story this one is an exception it doesn't have an amazing story but there is one there br br the main guy played by lo <UNK> actually stands out amongst karate film heroes he never <UNK> and he never fights just because he can he is often seen as weak and less of a fighter than most but when he must fight ||| he is damn well the greatest alive i really loved this character many of the bad guys were memorable and the fight scenes were just presented so amazingly even a small role with <UNK> <UNK> can be seen as the huge <UNK> and <UNK> is in my top 5 as greatest martial artist film stars ever he was also in the above mentioned enter the dragon br br the production as i've said over and over is wonderful you can't beat the the direction was something unlike i have seen much in films of the 70's the use of color was well placed and made this movie stand alone and rise above the others when the light shines on <UNK> hands as he does the iron fist its pure beauty br br the music was superb as well martial arts films were to asia what westerns were to italy two separate art forms with so much in common the countries making these films had all genres but the japanese films were what was making waves there as the spaghetti westerns were in italy with their many differences the styles of these two genres were neck and neck as seen in movies like 5 fingers of death the fights were easily compared to <UNK> cowboy stand offs and the music tied the genres together so well the music here borrowed a little from <UNK> but it was still very original br br many films were inspired by this one and when i watch it i can see everything from the master killer to <UNK> having been influenced the most obvious movie to have been influenced was kill bill which to me is the greatest of all time many of the sets quentin used are complete <UNK> of ones seen here and he used the music from this film even though the music he used was the music borrowed from <UNK> and the fight scene at the end of kill bill <UNK> 1 with the bride and o <UNK> is at times exact in comparison to the fight with <UNK> and the japanese thug at the end of this movie br br i have seen many martial arts films a few even better but this is a must see for fans of the genre you can't go wrong here the movie starts off slow but 15 20 minutes into it it picks up and doesn't slow down\n",
      "\n",
      "# 66 , label 1\n",
      "<START> well unlike most people i went into this movie expecting it to not be that good and it turned out to be an awesome film pretty cool plot i love the idea of it but what really made this movie was the actors they all did an incredible job and it was pretty cool to see <UNK> and dillon work together it's a movie where you go in thinking right away you will be able to predict whats going to happen but it <UNK> quite turn out how you predicted i don't want to give away anything about the story so i wont but i suggest giving this one a chance if you saw the movie money train and enjoyed that you would love this movie maybe everything lawrence <UNK> touches is gold |||\n",
      "\n",
      "# 67 , label 0\n",
      "<START> no matter what other people have said you can't review this movie without comparing it to the original if it existed on it's own it would be a 2 3 out of 5 film but it is a remake of a 4 5 out of 5 film and so has standards to live up to and we need to see if it reached those standards if the film was a re working or as in planet of the apes a re imagining of the original you would be able to look at the film in it's own right only <UNK> the original imagine it this way if someone took the model in the <UNK> her in a different way and painted her you could only compare the framing concept etc to the original but if someone just <UNK> her in the position of the original you would have to compare it totally br br that said this film doesn't just fail to be as good as the original it fails spectacularly like it or not the original was one of the best movies ever made the shower scene will never be forgotten the remake was meant to be a celebration of hitchcock but ended up actually <UNK> him and his master work br br the <UNK> aspects of this picture were vince vaughn and anne <UNK> it's nothing to do with <UNK> they acted better or not it's that the relationship between norman and marion in the original was really quite innocent norman didn't really ||| understand sex he had hardly any contact with the outside world and when he meets beautiful marion and watches her change you feel that he is partly doing it from fascination as he doesn't really understand sex and his attraction to her this makes norman sympathetic and almost an anti hero you are on his side because he doesn't fully understand the world and is constantly fighting with himself and his <UNK> in the remake that whole dynamic is gone i must admit to janet leigh not being my type but she is very attractive and you can see that anne <UNK> is really unattractive and so norman finding <UNK> marion attractive is unbelievable if you add that to vince <UNK> norman <UNK> whilst looking at her and you get a norman that is just waiting for a chance to jack off at any naked woman no matter what she looks like who you feel absolutely no sympathy for they further destroy <UNK> innocent nature by putting the porno <UNK> in his room it destroys a character that we have come to like and feel sorry for it's like re making <UNK> a wonderful <UNK> and having the main character a <UNK> totally <UNK> br br the only other character that i had problems with was rita wilson as caroline <UNK> <UNK> in the original when pat hitchcock says the line <UNK> must have noticed my wedding it <UNK> a response of laughter as she is absolutely kidding herself when rita says it it just seems plausible as there really isn't any other reason why any man would <UNK> with anne <UNK> over her br br i'll admit that i am very biased the original <UNK> is my favorite film of all time had the film been a <UNK> with a different angle then you could have turned these characters on their heads and it would have been perfectly acceptable br br <UNK> <UNK> the film would be too gory in colour and made it in black and white to <UNK> it this also made the film more atmospheric and frightening in it's own way and it gave it a beauty that could never be captured in colour and it is a sad statement about how movies are de the public that people have said how the shower scene was more frightening in colour n b before people think <UNK> can't remember i'm from england and we spell it colour br br a remake should be just that re made this is a <UNK> a complete copy and a very bad one at that i could go on comparing but there is no point almost everything is superior in the original the only one thing that is better is the performance of viggo <UNK> as sam <UNK> john <UNK> was very flat in the original <UNK> called him 'the behind his back and <UNK> gives a more believable if less likeable performance william h macy and <UNK> moore are the only other actors that hold up to the originals br br overall a movie that should be labeled embarrassing failed experiment only view if comparing to original or if original is unknown to you but view original <UNK> the movie would have got a 3 out of 5 if it were original or a <UNK> but as it is 0 5 out of 5 for macy moore and <UNK>\n",
      "\n",
      "# 68 , label 0\n",
      "<START> i rented this one by accident i lifted the video up and looked at the back and thought shameless blair witch rip off then in a moment of <UNK> i grabbed 'the thinking it was something else my horror upon arriving home and realizing my mistake was far more terrifying than anything this film had to offer boring characters bad acting and a feeling of <UNK> saw the blair witch project and could do the <UNK> <UNK> the action to the point where watching on fast forward will lead you straight to the credits i'm not one to fault film makers for being lazy or desperate but after this yawn fest i felt the need to warn everyone don't waste your time you have a life |||\n",
      "\n",
      "# 69 , label 1\n",
      "<START> it is so refreshing to see a movie like this with actual mood and personality instead of just a bunch of cgi cartoon gimmicks this is a great horror spoof that has genuine chills along side some really great sets and performances its laughs are subtle but <UNK> because there is very little if any cgi there is no need to violently shake the camera around to hide the crappy effects this makes the movie immensely watchable compared to the other camera man must be sh ing his pants films of this genre that have come out in the last decade or so br br far more enjoyable than the big budget re made garbage being released by hollywood today br br see it |||\n",
      "\n",
      "# 70 , label 1\n",
      "<START> a couple of weeks after i saw this movie it began to remind me of john carpenter's in the mouth of madness not for the story for the atmosphere the fast elements of surprise and the <UNK> sequences on the other hand this movie mixes very well the image and the music note the 4th chapter in the movie |||\n",
      "\n",
      "# 71 , label 0\n",
      "<START> the story is shortly about the faith lacking business man priest daniel <UNK> christian slater who is looking closer on a case where another priest is suspected for murder the priest <UNK> he's guilty but at the same time he is not able to discuss the matter due to <UNK> enter daniel <UNK> who starts playing cop br br while the plot isn't ridiculous everything else is let's start with the visual side the cinematography is dull it looks more like a tv series than a movie the camera angles are boring in fact there's not a single memorable camera angle in the entire movie there's no interesting closeups revealing details and the scene transitions well there's not much to say about those they aren't smooth at all there seems to be no connection between the scenes than the actual plot okay they did use a transition with music in between two scenes but there are no interesting visual transitions in the entire movie the times <UNK> was used there was no visual connection between the scenes br br the boring visual part could be forgiven if the film would offer anything else unfortunately the film only offers forced wooden acting and clumsy dialogue with no punch on top of that the film suffers from audio problems the sound volume is <UNK> several times in the movie as if the <UNK> would be too far br br i didn't predict the solution of the film it could be because the film never gave me the ||| opportunity or it could be due to the presentation which was so boring i never even tried to figure it out br br put two plus two together and it equals a b movie where <UNK> stands for boring\n",
      "\n",
      "# 72 , label 0\n",
      "<START> hey what a great idea to open a film show someone s home movie drama schools must be full of idiots there they are taking drama lessons hoping to become the next big thing in hollywood when all you have to do is send a home movie to a studio hey i think i ll send in the video of my wedding and call it the greatest romance ever seen or send in a tape of my honeymoon and call it the greatest sex ever seen oh hold on i m not married and i <UNK> never been on honeymoon not to worry i ll send in a video of someone <UNK> wedding honeymoon br br mild spoilers br br you d think with an opening like that shark hunter could only improve <UNK> t you as shocking as it may seem the home movie is the best directed best written and best acted part of the film alas it s all downhill from here as the family go to sea in reality a fog <UNK> swimming pool in a three foot <UNK> where mom and dad get eaten by a cgi <UNK> and their son spencer <UNK> revenge against the <UNK> cut forward to the present day and the french are using an underwater research base for oil exploration only thing is and it s so obvious you can t fail to notice this it s not filmed underwater the director <UNK> t made any attempt whatsoever to even use the unconvincing technique of ||| shooting the scene through a fish tank the underwater research base is blown up by the shark maybe it s hired by killing everyone inside and spencer now a grown man is hired to hunt down the shark that killed his parents and a bunch of <UNK> what else happens no idea because i decided to watch something else br br no hard feelings if any of the cast and crew are reading this and i do hope matt becomes a big fish in hollywood you think you know about sharks matt you t seen nothing yet\n",
      "\n",
      "# 73 , label 1\n",
      "<START> i've only seen about a half dozen films starring <UNK> <UNK> but this one seems very much like the others he plays a <UNK> criminal one who is short on words and subdued yet occasionally explosive given his quiet persona in such films as army of shadows and second breath i've noticed that his <UNK> style of acting is extremely effective in other words because he is so quiet and mannered when he does bad things you tend to notice and like these other films he also has a very strong though twisted moral code br br <UNK> <UNK> and his partner are both living in italy and are career criminals both grew up in france and eventually had to flea due to their criminal activities now in italy as the film begins they continue to live the life of thugs and the heat is on to catch them oddly instead of running to yet a third country they decide to go back to france even though has been tried and convicted in and if he's caught it could mean a life in prison or the death penalty much of the first third of the film concerns their <UNK> return br br unfortunately for the return doesn't go perfectly and now it seems as if every cop in france is looking for him additionally the reaction of his old <UNK> in crime is not at all what he'd expect in fact their tepid response to his return ends up <UNK> a series of terrible events ||| towards the end of the film br br along the way meets and is taken in my a stranger eric stark jean paul <UNK> despite seemingly having no friends stark and his lady friend try their best to make his return successful what throws another monkey <UNK> into this though is two very young sons what is to do with them keep them with him in his hiding place br br overall this is a very good crime film sort of like french film noir unlike american noir the many french versions i have seen have a more realistic as well as bleak <UNK> to them <UNK> <UNK> supreme that's for sure the acting is first rate especially from <UNK> and <UNK> the direction very sure and the writing very nice though i am sure many won't like the ending it just seems to be tacked on like an <UNK> i understood why they did it this way but can also see how it might leave many <UNK> as for me it did leave me a tad flat otherwise an exceptional film\n",
      "\n",
      "# 74 , label 1\n",
      "<START> in my opinion the movie is an excellent example of the realities of war and a tribute to the soldiers of all nations who fought and <UNK> into the <UNK> <UNK> the lack of violence in no way <UNK> from the <UNK> of the tale in hand it is honest true and brave just like the men that fought and died at the the lack of brutal depictions of violence are just and proper those men suffered enough for freedom liberty and the right to self determination in a free and better world they never wished to ever see such <UNK> again that is the legacy of the event of <UNK> to suffer <UNK> of gratuitous <UNK> and blood and gore is best not shown for the <UNK> of proper respect for the <UNK> of this <UNK> of br br this film <UNK> in the <UNK> of men fighting for their lives with honour courage dignity and <UNK> spirit and humour in the face of appalling <UNK> this film is not interested in making a spectacle for fools to cheer over the brutal <UNK> that from these personal <UNK> of these men is not a thing that those that survived ever wished to see on a screen for entertainment they saw enough of that at the time and would much rather have never seen it at first and never wished to review such scenes again on a screen in the name of entertainment the brutal horrors of the <UNK> of the vicious combat fought at ||| <UNK> were scenes that haunted their waking and sleeping hours for the rest of their natural days it was the painful internal <UNK> they the men of all those nations who fought carried inside to their graves they all fought and many died in the face of it all and somehow they those mighty hearted men managed to laugh in the teeth of constant dread death because they <UNK> insult their mates by not being prepared to die game beside them that's for brave game is but it applied to all <UNK> to a greater or lesser degree but word from the boy's that fought was that <UNK> was as game that is as brave as you would ever wish for a soldier to be br br and <UNK> were fighting to establish their place on the world stage and from 25 <UNK> 15 <UNK> their respective claims for <UNK> in were made known and <UNK> to that world the director has made a masterpiece that truly <UNK> the spirit and memory of those soldiers and serves as a reminder to future generations of all ages for children can be taken without fear of frightening them for the sake of visual horror and it's morbid and pointless appeal and children should attend this movie so as to learn what happened at that sacred shore before they were born so that they can remember for it is the nature of men that they soon forget\n",
      "\n",
      "# 75 , label 1\n",
      "<START> unlike bond and other detective movies alfred hitchcock's hero used to be a common man who would get into trouble and then with his <UNK> and courage and luck would get out of it jewel thief is based on the same principle and so in a way it is <UNK> <UNK> tribute to the master of suspense the tribute as it may be but it stands its own grounds and <UNK> <UNK> <UNK> as a great director himself br br it is the story of a common man <UNK> who one day realizes that he has a double called <UNK> who in fact is a jewel thief suddenly <UNK> finds himself in the middle of a <UNK> scheme and to save himself goes on a wild <UNK> chase to find this <UNK> who remains one step ahead of him the suspense is almost killing throughout the movie and as the plot <UNK> you are hit by the brilliance of the scheme just like hitchcock's movies jewel thief can <UNK> of a grand climax shot inside the grand palace of br br everyone and i mean everyone <UNK> <UNK> <UNK> <UNK> <UNK> kumar <UNK> <UNK> <UNK> <UNK> kumar etc etc are in their top forms this is one of the best thrillers ever made in india |||\n",
      "\n",
      "# 76 , label 1\n",
      "<START> house of dracula is a good sequel to house of frankenstein there isn't as much action but the acting is just as good <UNK> stevens is the <UNK> doctor who turns bad after receiving blood from dracula via a <UNK> dracula was actually receiving the <UNK> to overcome his <UNK> but he puts a spell on a <UNK> nurse and then his blood into the doctor it turns out that dracula really didn't come to seek a cure but instead drain blood from a beautiful nurse dracula is destroyed and the wolf man is next in line for a cure which is successful in the meantime <UNK> monster is discovered and <UNK> briefly before burning to death don't worry the same trio came back in <UNK> and <UNK> meet frankenstein john carradine again plays a sinister dracula baron is his <UNK> at the start of the film and in house of frankenstein <UNK> <UNK> is the sympathetic wolf man and glenn strange returns as the frankenstein monster lionel <UNK> again plays an inspector which he often does in the universal studios monster films a keeper for your collection |||\n",
      "\n",
      "# 77 , label 0\n",
      "<START> sit in your basement with the light out for an hour and a half that's about the same as watching this <UNK> search for the devil's door an american <UNK> owen vincent <UNK> travels to <UNK> and <UNK> a rescue team to search for his friend <UNK> <UNK> an <UNK> who has disappeared in the <UNK> beneath <UNK> capital city they will be shocked to discover <UNK> <UNK> <UNK> in the <UNK> and dark complex system of <UNK> and <UNK> the <UNK> will come upon the <UNK> of hell val kilmer and will strike a deal to continue their venture only to succeed in being scared almost witless when realizing they are among walking dead also in the cast <UNK> de <UNK> stallone <UNK> <UNK> and <UNK> |||\n",
      "\n",
      "# 78 , label 0\n",
      "<START> oh man i hated this movie granted the site locations were great but that's about the only positive thing i can say about it now i'm going to state right at the beginning that i am very critical of the way weapons especially <UNK> are both portrayed and handled in movies being a war flick portrayal was fine but the shoddy weapons handling in the movie would have never been <UNK> by a real seal team the acting was more wooden than my first the equipment carried or lack of it was laughable and the dialogue was shall we say lacking in anything interesting well with the exception of the journalist which was actually <UNK> watching this movie was comparable to watching with woody <UNK> where each scene was so bad you just couldn't turn it off because you had to see if they could get worse with the next scene like they certainly did the scene in the water where after shooting the first of the enemy they blow the damn boat up thereby having to face possible drowning made me laugh so hard that for a <UNK> i almost thought it was worth waiting through the movie for then charlie sheen decided to drag the surviving enemy down to the depths of the ocean the way it was filmed with the many camera cuts it looked like they went down about 80 feet nice continuity there before <UNK> his throat was so damn stupid i was stunned then again so was the whole ||| damn movie i enjoy action movies but not this one note the version i watched was a tv version pan <UNK> i can't imagine that made a difference except for making the whole thing <UNK> shorter\n",
      "\n",
      "# 79 , label 1\n",
      "<START> i thought this was a beautiful film it is not my favourite of his films <UNK> express holds that spot this one is quite different from anything else i have seen of his it is slow but not annoyingly so it takes its time and <UNK> the characters there is minimal movement in the frame the <UNK> is wonderful the acting is great the film feels like a long warm <UNK> drink |||\n",
      "\n",
      "# 80 , label 1\n",
      "<START> i am surprised by the relatively low rating this film has it is a screwball comedy romance film rolled together by someone besides billy wilder but it does a really good job even won an oscar br br it is ingrid <UNK> first film in the us since the 1950's even though she is no longer the young <UNK> she was in her early films she brings off a difficult role quite <UNK> this film proves she had multiple talents beyond her good looks br br goldie hawn who won an oscar in this her first film as supporting actress is very good as the modern sophisticated yet quirky latest mistress to dentist playboy love them leave them walter goldie is delightful to all the senses in this role which with a great cast set her up as a slam <UNK> for this early career award br br this film is not real deep but is a gem that has stood the test of time very well not sure why it's average is so low as i give it a solid 8 |||\n",
      "\n",
      "# 81 , label 0\n",
      "<START> this must be the first movie i've rented and not seen to the end complete garbage the acting the plot set and wardrobe looked like it came from a porno movie with a plot not even a b move |||\n",
      "\n",
      "# 82 , label 0\n",
      "<START> i thought i was going to see a <UNK> movie instead i saw a movie that was trying to make the audience me make the decision to accept christ in my life or risk going to hell the whole <UNK> thing was one big red <UNK> the acting in it was pretty pathetic in fact it looked as though some people from an <UNK> church just got got together and decided they wanted to make a movie all the characters talked as though they were in church <UNK> with other church members it wasn't real life dialog at all i wish i had read some reviews before seeing this movie so i wouldn't have wasted my money on it if on the other hand you are into the whole church scene in a big way and want to see a <UNK> of how to push your views no matter how <UNK> onto other people then by all means go see it |||\n",
      "\n",
      "# 83 , label 1\n",
      "<START> this is a masterful piece of film making with many themes <UNK> and occasionally <UNK> over in this <UNK> and all study of the <UNK> <UNK> self indulgent wartime years that span the <UNK> of london and the <UNK> of a <UNK> <UNK> <UNK> the <UNK> between friendship lust and love dedication to art and experience versus practical concerns jealousy rivalry <UNK> and <UNK> versus <UNK> and self sacrifice and more a mature subtle script that suggests and occasionally brings into dramatic focus the underlying tensions is well served by perfect performances apart from the odd inappropriate smiling that <UNK> knightley is prone to though perhaps under direction this time as the other characters themselves often mention it but above all the exquisite visual composition of each moment with inventive and elegant use of close up camera angle and lighting including faux home movie footage is a wonder and joy to behold it's as continuously beautiful to look at as a <UNK> but the relationships here are more convincing and the narrative more engaging than some of that <UNK> work a very rare type of film these days it holds the attention and <UNK> the emotions without <UNK> artistic integrity and <UNK> to manipulative superficial <UNK> |||\n",
      "\n",
      "# 84 , label 0\n",
      "<START> this film was <UNK> from my friends mum who worked in a charity shop she gave it to us along with a load of other unknown <UNK> tapes the film itself is a bit rubbish there are a few notable bits to laugh at like the bit when his girlfriend gets her head <UNK> into but in general the film is bland when i saw the trailer for the island i couldn't help <UNK> the similarities may have been the inspiration for that film all in all don't bother watching this film as it is dull and boring we enjoyed it so much when we were 16 that we named our band after it another sign this film is a bit crappy is the shots on the back of the video case don't actually appear in the film weird |||\n",
      "\n",
      "# 85 , label 0\n",
      "<START> if you can watch a film without worrying about the plot or corny acting then is definitely the one br br however if like me you like watching films that you can believe then has some serious flaws it doesn't offer anything new and there are hundreds of 90's action films that follow identical <UNK> whilst not being quite as clunky br br after two <UNK> i'm thinking this has got to go somewhere else i mean how many big fires are there in one city surely <UNK> do other things such as getting cats out of trees well i was wrong and the <UNK> continues again and again up until the end br br a good aspect of the film is the fire itself well filmed and i must say i felt quite hot while watching it which suggests that two hours of watching fire without a story or acting would have been more suited to my taste |||\n",
      "\n",
      "# 86 , label 1\n",
      "<START> i have just started watching this show its airing in ireland at the moment on the irish television station at 12 <UNK> in the afternoon as of <UNK> july 2006 br br this program literally makes me laugh out <UNK> and i cannot <UNK> that on most apart from <UNK> 'the <UNK> with ricky <UNK> in it br br todays episode of 26 july 2006 was the one where carrie starts a new job and invites her friends home and goes off to make some coffee and doug wants carrie to have no friends so he lifts up his top and shows off his hair ' and <UNK> <UNK> when he goes out to dinner but another funny episode was the other week when the old <UNK> carries dad won on the <UNK> and that episode me up with laughter especially when they went out and got a replacement <UNK> and carries father stood there looking at it and thought it was new br br so i don't know how much longer this has got to run on irish tv or at which stage year recorded we are at but i hope it don't end soon because i am really enjoying it br br to sum up there is some great writing some great characters and comedy acting namely by carrie doug and carries father some great <UNK> and delivered well a bit <UNK> and near the mark sometimes send the kids out the room but i think this us sitcom is a winner and ||| very funny\n",
      "\n",
      "# 87 , label 0\n",
      "<START> i fail to understand why anyone would allow a sub par director to put drivel like this onto celluloid this movie has already been made at least two other times that were better than this here comes mr jordan 1941 and heaven can wait 1978 the only saving factor for figure <UNK> fans might have been some nice ice <UNK> done by a professional cast of <UNK> but this just does not happen the closest thing the audience sees to good <UNK> is when tara character takes a turn on the ice for a just a moment others like nancy <UNK> and elvis are hidden in the background and do not do any figure <UNK> at all there is not much real emotion shown and there is not really any reason to tune in to this obviously made for tv movie my advice rent the original |||\n",
      "\n",
      "# 88 , label 0\n",
      "<START> first off this movie leaves you in a <UNK> mood wise you don't know what to feel so much so that you don't feel bad for character when his son gets murdered which was actually mostly due to bad editing the script was too bland none of the situations matter as you watch them the soundtrack or lack there of if there was it wasn't good enough to even remember does not help it one bit only good surprise to this movie was andy performance it was on par if not better than <UNK> the story would have probably gone better off if would have killed him because quite frankly you don't feel any kind of redemption in the climax just a feeling of lack of feeling if ya feel me basically this movie <UNK> lacks draw leaving the audience <UNK> throughout the entire thing |||\n",
      "\n",
      "# 89 , label 1\n",
      "<START> john huston actor and director better known for more <UNK> fare such as the <UNK> and african queen directs his daughter <UNK> huston in what would be his last film indeed the film was released after <UNK> death based on james <UNK> <UNK> of the same name the dead tells the quiet story of a new year's celebration in <UNK> <UNK> huston his cast and his screenwriters including his son tony have created a gem of a movie the <UNK> is among <UNK> finest works as well as being the only one that is <UNK> the film is a tribute to <UNK> genius he has taken a small beautiful story and has made a small beautiful movie <UNK> <UNK> and <UNK> huston shine although shine is too <UNK> too flashy a word to describe their quiet understated performances the dead reflects the huston family's love for ireland and is in its own quiet way a fitting final movie for a legend |||\n",
      "\n",
      "# 90 , label 0\n",
      "<START> the <UNK> triangle we are told in this waste of celluloid is the <UNK> to another time and dimension and can be crossed using cheap special effects by bad actors <UNK> inane dialogue br br i simply was unable to decide who the makers of this thought would be its target audience as it seems impossible anybody could <UNK> even a <UNK> of pleasure from the outcome avoid its not even bad enough to be good |||\n",
      "\n",
      "# 91 , label 1\n",
      "<START> this movie had a lot of ups downs the storyline is strong while telling the saga of barker growing up then her <UNK> with her boys and the fbi <UNK> russell is very talented and her beauty even shines through as barker in public enemies the direction of mark l lester while not as good as in <UNK> was still very interesting br br eric roberts plays a short lived part as a security guard turned thug and lover and <UNK> <UNK> plays a prostitute who hangs with the gang frank stallone plays a thug who helps out the gang while one of his exploits gets one of boy into trouble he gets himself out in a final way so to speak br br i was <UNK> intrigued captivated throughout this movie so it makes me wonder what movie all these others who voted it so low watched for all those wondering <UNK> the fbi was actually that bad in the beginning didn't have tommy guns like the <UNK> had were thus at quite a <UNK> whenever they did get into with <UNK> of that era since everything i saw represented the 30's i felt it was more realistic than many other movies made portraying that era it is in may ways like a train wreck happening you don't want to watch but just have too enjoy |||\n",
      "\n",
      "# 92 , label 0\n",
      "<START> i caught this film under the title of what lies above on lifetime movie network last night and just had to comment on it designed as a <UNK> woman in peril action adventure yarn it is so unintentionally funny thanks in large part to marc <UNK> scenery chewing hammy performance that i thought i was watching a cross between cliffhanger and home alone 5 heroine nicole <UNK> makes her <UNK> but dumb as dirt male <UNK> look like the three stooges <UNK> to her ridiculous <UNK> <UNK> traps somehow she manages to <UNK> a swinging <UNK> ram with rope and a <UNK> in a matter of minutes which <UNK> takes out one of the <UNK> who want to kill her worth watching for a <UNK> laugh |||\n",
      "\n",
      "# 93 , label 1\n",
      "<START> after a very long time <UNK> cinema has come with some good movie this movie is one of the best <UNK> movies ever made it shows how a old grandfather tries to save his <UNK> eye he tries everything that is possible in his hands to save the child's eye doctor and a relative of his tries to help him in his attempt br br the acting by the grandfather the boy and the doctor are simply superb they have shown true picture of a typical <UNK> life every bit of action has some meaning in it i would recommend to watch this movie as initially i thought this one would be of documentary type but this was above my expectations br br this film is really going to touch your hearts i would expect more <UNK> movies to come up with performances like this |||\n",
      "\n",
      "# 94 , label 1\n",
      "<START> monster of mexico i do agree is the weakest of the modern scooby doo movies mainly because of the weak plot and how predictable it all was <UNK> <UNK> monster however is a considerable improvement with gorgeous animation honestly scotland looked beautiful the music is good and the plot is well thought out plus there is some great dialogue and the voice acting was fabulous with <UNK> <UNK> a consistent delight as shaggy and the beautiful scottish singer <UNK> a pleasant surprise in a guest starring role in fact my only complaints were some strange accents in one or two members of the voice cast with the exception of whose accent did sound genuine and somehow the <UNK> <UNK> monster wasn't as well designed as it had potential to be overall a solid and enjoyable scooby doo film 8 10 <UNK> cox |||\n",
      "\n",
      "# 95 , label 1\n",
      "<START> i'm serious as well i mean don't get me wrong if you haven't got a bent for this type of z grade <UNK> creature feature why would you be watching is my first thought then it's a rating of about 3 to 4 out of 10 tops but to me it's a special kind of nonsense that takes me back to a nice time in my childhood you know the kind the memories that never leave you eagerly taking it all in with youthful <UNK> as doug <UNK> and peter cushing tunnel beneath the <UNK> to do battle with a host of creatures and sub human and guys now we are all grown up we can admire most seriously at the wonder of caroline <UNK> and her <UNK> <UNK> no wonder my older brother was keen to take me to the cinema to see this one br br yes the effects are bad men in suits strings parrot monsters around and exploding rubber frog like <UNK> us greatly and yes cushing and a surprisingly <UNK> <UNK> act as if they have truly been <UNK> by the evil at the core of our film but it matters not zany and clunky and <UNK> in glorious colour at the <UNK> core is a <UNK> to a special pre <UNK> time when kids like me around the block to see such <UNK> nonsense 8 10 |||\n",
      "\n",
      "# 96 , label 1\n",
      "<START> even if you're not a theatre person i highly recommend that you see this based off of a play of the same name by christopher bond which in turn had been based off of an old london legend <UNK> did a wonderful job bringing it to the musical theatre stage the score is just amazing by far <UNK> best and probably one of the best scores written for a musical ever the show was cast extremely well my only complaint being of <UNK> portrayal of <UNK> it s good mind you and she's a very versatile actress but she just doesn't sing and bird too well but other than that it's all phenomenal angela lansbury made the role of mrs and she just does it so well george was a good replacement for <UNK> in the title role and ken <UNK> gives a great performance as <UNK> the ending will give you chills top marks for a wonderful show |||\n",
      "\n",
      "# 97 , label 0\n",
      "<START> this was the worst movie i have ever seen i have to admit i didn't watch it from beginning to end as cleaning the toilet was more entertaining br br the <UNK> was the most unpleasant character i've ever seen neither funny nor attractive in fact creepy and obnoxious are far too <UNK> br br it is painful to watch there is no acting especially not from the star who behaves as a <UNK> up mentally <UNK> take off on one of those loud mouthed black actors br br as horrible as it is to watch one of those can't shut up black actors watching a puerto <UNK> one is even worse br br the name of the movie is <UNK> he is the <UNK> this movie is a must miss |||\n",
      "\n",
      "# 98 , label 1\n",
      "<START> i remember running home from school almost every day to catch channel 5 monster movies but never did i run home faster then when this movie was <UNK> somehow the idea of being a boy and having a giant robot as a friend <UNK> to me in a very unique way sure i <UNK> to be <UNK> batman and other <UNK> but i really wanted to be johnny over any of them br br i have not seen this movie in 30 years and i can still remember it vividly who can forget the way giant robot shot <UNK> out of his fingers or how about the way threw his <UNK> to make explosions <UNK> i can even still <UNK> the theme music that plays at the end which is so tragic that i remember crying myself to sleep a number of times br br only one other movie has the kind of magic that this movie does in my mind and that is the wizard of oz but i have seen that movie many times since i was a kid of course the wizard of oz is a true classic whereas voyage into space is low budget nonsense these two films shouldn't even be mentioned in the same sentence but to a young boy it isn't high production values or continuity that capture your heart its flying monkeys and giant robots br br p s my cousin use to do a very accurate impression of giant robot he <UNK> it giant if you recall ||| giant robot had a particular way of shooting his <UNK> and my cousin had it down cold i made him repeat the routine endlessly for my personal amusement\n",
      "\n",
      "# 99 , label 0\n",
      "<START> i have been collecting iron man comics since the early 70s and always enjoyed the character who is far far from the average clean cut hero and his many and varied enemies there have been no less than three attempts at an animated series for iron man and only the original and part of the second have ever done the character justice so i was somewhat hopeful that this <UNK> version would be good boy was i wrong the dvd art is very misleading and presents an image that is not the movie fist off the good what little there is the art and animation are well drawn and the writing and dialog are generally good though with notable exceptions character voices are very well selected and each character is distinctive and well acted now for the bad unfortunately the writers <UNK> to totally screw around with both iron man's origin and especially the on top of that they decided to do iron man and his opponents all in cgi bad cgi this makes them stand out almost as badly as live actors would in a cartoon the cg work is often repetitive and glaring <UNK> are taken at times the cg battles are clumsy as well further <UNK> the fact that cg and line animation do not mix well the movie would certainly have <UNK> better had they <UNK> to actually draw all the characters another problem is that iron man is in his traditional red and gold suit for all of one battle ||| and its not even the big fight at the end all this drags the movie down and it never picks up br br spoilers or <UNK> may follow br br the movie starts off with an interestingly unusual stop motion credit sequence of <UNK> <UNK> and <UNK> then we are introduced to what looks like a chinese temple in the process of being restored and prominent is a statue of what fans will recognize as the <UNK> things go strangely <UNK> progress in <UNK> the temple <UNK> it is james <UNK> tony long time friend seems they plan to actually raise the temple up from the earth despite opposition by a group who insist that raising the temple will bring about a terrible disaster <UNK> is captured in a raid stark shown in a hot <UNK> with a lovely lady is informed of the problems and sets out to personally <UNK> the project and rescue his friend while in the background his father deals with board executives who are pushing to have tony removed tony arrives only to have his <UNK> <UNK> <UNK> and blown to pieces tony later <UNK> <UNK> wounded in the heart and a prisoner of the rebels he is saved only by quick action from <UNK> and a scientist eventually stark must build the prototype gray iron armor and makes good an escape but only after some loss of life while with the rebels he meets a troubled girl named li <UNK> and the two fall in love the temple is raised and four <UNK> beings all done in cg appear and proceed to start collecting hidden rings of power stark and find trouble back home but manage to confront the without success in really stopping them first using the <UNK> armor then the more classic red and gold armor and finally everything returns to the temple and stark is back in the <UNK> gray armor for a final showdown and a run in with what may be <UNK> <UNK> also in cg here the story takes a major twist as it turns out that the <UNK> needs a host body to <UNK> this leads to a somewhat tragic final battle marred by the fact that the <UNK> is little more than a ghost and isn't seen till the last 5 minutes of the movie ugh br br if you are an iron man fan then you will likely not enjoy this outing and even non fans may well find the movie somewhat lacking or not\n"
     ]
    }
   ],
   "source": [
    "# Show some samples\n",
    "\n",
    "print('-------- Correct samples: --------')\n",
    "print('0 for negative, 1 for positive')\n",
    "\n",
    "for i in range(100):\n",
    "    sample_idx = correct_idx[i]\n",
    "    print('\\n#', i, ', label', pp_test_labels[sample_idx])\n",
    "    if len(pp_test_data[sample_idx]) <= 256:\n",
    "        print(dataLoader.decodeReview(pp_test_data[sample_idx], reverseWordIndex),\"|||\")\n",
    "    else:\n",
    "        print(dataLoader.decodeReview(pp_test_data[sample_idx][:256], reverseWordIndex),\"|||\",\n",
    "              dataLoader.decodeReview(pp_test_data[sample_idx][256:], reverseWordIndex))"
   ]
  },
  {
   "cell_type": "code",
   "execution_count": 79,
   "id": "78513bad",
   "metadata": {
    "scrolled": true
   },
   "outputs": [
    {
     "name": "stdout",
     "output_type": "stream",
     "text": [
      "-------- Incorrect samples: --------\n",
      "0 for negative, 1 for positive\n",
      "\n",
      "# 0 , label 0 , prediction 1\n",
      "<START> documentary content amazing man amazing movement he started amazing stories most of them yet to be really told br br celluloid treatment <UNK> ad sorry ain't got nothing else to say about this but that you can say all you want about the dire circumstances in the <UNK> but if you attempt to support that claim with flashy and <UNK> images and camera work of that life the <UNK> necessary to show this life as an <UNK> filmmaker goes out the window and with that goes the <UNK> of the narrative besides that the time space <UNK> in the film is all off and i'm not necessarily against that in films as a tool but here it serves only to confuse the viewer into wondering what was said when thus leading me to the question is this a documentary or a <UNK> br br <UNK> com |||\n",
      "\n",
      "# 1 , label 0 , prediction 1\n",
      "<START> to some of us director <UNK> lubitsch <UNK> for his underlying and ironic comic touches was rather wet when it came to picking material it isn't that lubitsch is overrated on the contrary he probably was ahead of his time in terms of a visual narrative yet the projects he became attached to or was assigned to are not quite the <UNK> of comedy his fans like to label them with heaven can wait a screen adaptation of bus play birthday lubitsch is <UNK> with sleepy don <UNK> in the lead and the combination of an <UNK> plot a <UNK> star and a <UNK> flashback <UNK> the director a wicked man at the turn of the century falls asleep without realizing it presenting the facts of his life in front of <UNK> entrance <UNK> wicked that was problem number one the promising opening sequence set in the <UNK> <UNK> quickly gives way to dreary <UNK> and the supporting cast is of little help 1 2 from |||\n",
      "\n",
      "# 2 , label 1 , prediction 0\n",
      "<START> being a seasoned fan of italian thrillers and directors <UNK> <UNK> mario <UNK> sergio martino and <UNK> i thought of lucio fulci as an overrated hack i had seen the beyond which i think is totally overrated i found the new york <UNK> to be simply appalling and i didn't particularly like the house by the cemetery these three movies left me to conclude that fulci is the least interesting of these italian filmmakers but my <UNK> <UNK> and i had to check out more of his films city of the living dead was a film i found very interesting but don't torture a <UNK> is very nearly a masterpiece br br set in a small town in the italian countryside in a <UNK> religious community where young boys are being murdered the authorities are clueless as to who's behind these crimes especially after their prime suspect has been <UNK> an eager young reporter along with a rather <UNK> girl who <UNK> young boys investigate and eventually get to the bottom of it br br brilliant atmosphere combined with a good story and a good cast not always the case with 70's italian thrillers make don't torture a <UNK> a <UNK> good thriller the plot is well constructed not easily figured out and the end conclusion is very satisfying fulci creates a dynamic atmosphere of <UNK> and guilt in a very <UNK> and ignorant community and creates some very strong visuals particularly in a scene where a woman gets beaten to death by some local ||| <UNK> <UNK> social commentary concerning religion and innocence are quite edgy and every aspect is well handled when thinking of his zombie flicks and his ultra violent giallo new york <UNK> it's amazing how well he <UNK> his critique with explicit violence and makes an even stronger point so far i haven't seen any fulci film made as <UNK> as this one br br while not a traditional giallo film <UNK> has many of the <UNK> <UNK> fulci displays complete control over the format only once going overboard with an unconvincing gore moment but overall he seems to be even better at making mysteries than full blown gore epics the extreme scenes here are much more powerful and really pack a punch br br so far don't torture a <UNK> is <UNK> best film by far in my opinion edgy social commentary combined with explicit scenes of violence and a <UNK> good mystery to boot\n",
      "\n",
      "# 3 , label 1 , prediction 0\n",
      "<START> take a subject i didn't know much about and make it exciting why don't you it so happens that back about 1979 director robert altman said that he didn't believe he had ever made a real movie and that he expected that one of these kids riding <UNK> if he doesn't break his neck will make the first movie well i wouldn't put such an expectation on <UNK> <UNK> but he is a <UNK> who has made a good movie of course he was forced by the nature of the film he was making to use existing footage and it is certainly a good thing that so much <UNK> footage existed <UNK> edited it together well with not your usual talking head shots of his <UNK> colleagues as they are today the whole effect is post modern in the best sense but that has been done altman's <UNK> hasn't quite come true what <UNK> has done however is capture enough of the energy of those <UNK> days that we can appreciate what it must have been like when modern <UNK> was invented by the z boys this is all good i highly recommend <UNK> |||\n",
      "\n",
      "# 4 , label 1 , prediction 0\n",
      "<START> first at all if you like watching movies i recommend you not to watch this one why afterwards you won't appreciate any other movie so easily anymore br br actually i don't wanna give rise to any excessive expectations but it is almost frightening how perfect intense and beautiful this work of is when in most movies there is at least one aspect spoiling the whole thing like good actors but horrible dialogs or a nice scenery but low budget cinematography  in of the universe there is nothing of this <UNK> really everything is just great even and not least the soundtrack with the magnificent <UNK> br br in this story about <UNK> a student that goes <UNK> after being dumped by his girlfriend especially the dialogs and monologues deserve some attention together with and sometimes in sharp contrast to the plot they range from depressing and <UNK> to the whole opposite of comical and totally absurd what is more they are often with quotes from <UNK> and shakespeare of such a poetic beauty that the movie almost <UNK> into a surreal <UNK> and is only saved to the real world by its incredibly authentic actors br br one of the other comments was already referring to another point this movie is no trivial entertainment for relaxing in the evening despite of several comical <UNK> in between it is largely disturbing partly cynical and bitter and most of all sad it is a modern poetry about a life of insanity with all its <UNK> ||| rage and <UNK> br br finally when you've seen the movie  watch it again there are some great visual <UNK> and <UNK> in it that you realize only when you look twice and connect them with the of the story and of course read the book it contains a lot more of the small funny stories in between and also makes you understand some things in the movie a bit better\n",
      "\n",
      "# 5 , label 1 , prediction 0\n",
      "<START> this scene shows how <UNK> experiment by using his brain manipulation invention goes terribly wrong creating the were rabbit his desire as a social <UNK> is to improve society for the better therefore created a brain <UNK> machine he <UNK> his own life to help solve rabbit problem and more importantly to overcome the <UNK> of <UNK> being <UNK> and <UNK> in his basement though he thought his experiment worked however it resulted in placing more pressure on him and <UNK> to find a solution before the <UNK> <UNK> competition again <UNK> his life <UNK> who is a silent faithful dog and a loyal <UNK> finds himself continuously thinking of innovative ways to save his master from his radical crazy <UNK> going terribly wrong what is interesting in this movie is trying to identify who is more <UNK> wallace or <UNK> |||\n",
      "\n",
      "# 6 , label 0 , prediction 1\n",
      "<START> this is the second adaptation of charlotte armstrong by claude <UNK> for the screen the first was la <UNK> 1970 from novel the balloon man and it's really a pity no one cares about it it's <UNK> sleeper and i urge any of his fans to see it br br the chocolate <UNK> was not that strong a detective story to begin with i read it 20 years ago and forgot all about it the movie promises some good things at first though then finally disappoints to a fault this is a confusing <UNK> movie mixing elements of the <UNK> circa 1969 and a <UNK> tongue in chick stuff coming from the eighties the likes of <UNK> not one particularly memorable work br br part of the disappointment comes from the cast this is a <UNK> poor gathering jacques plays like a zombie isabelle <UNK> reveals herself a somewhat limited actress finally rather vulgar it worked in <UNK> <UNK> de femme it does not here they are not supported by the young couple both are bland and <UNK> actors from the past say <UNK> or michel <UNK> both in la <UNK> were brilliant and contributed to <UNK> then unique atmosphere br br the story itself is <UNK> beginning as some kind of serious la <UNK> <UNK> un long besides a character hints at <UNK> very funny movie the movie drags on and on as a laughable psychological drama afterwards we will not <UNK> the young female <UNK> who after all she learned about her wicked ||| <UNK> agrees to drive a car along a dangerous road br br because he makes too many movies <UNK> frequently releases <UNK> one wonder why people who wants to watch one of his movies should choose this one among all his stuff up for grabs br br it seems that <UNK> <UNK> satire has finally given way to <UNK> in la <UNK> the first armstrong adaptation an average detective story which <UNK> completely <UNK> you should hear say they have so much money here <UNK> has lost his bite his strength\n",
      "\n",
      "# 7 , label 0 , prediction 1\n",
      "<START> the clever <UNK> is he is jess franco naturally also <UNK> in on the huge <UNK> success of psychedelic spy movies like mario <UNK> ultimately sensational danger franco is the ideal man to shoot a similar film as he could <UNK> insert as much sleaze <UNK> scenery and <UNK> grotesque plot twists as he wanted to and he partially understood this very well as the girl from <UNK> revolves on a man hating organization led by a funky dressed <UNK> that plots to turn all men into <UNK> slaves unfortunately for them at least the diabolical plans conflict with the daily business of a feared crime <UNK> boss played by george sanders all the right ingredients are well presented yet this is a surprisingly weak and unsatisfying adventure movie the plot is rich on imagination but seemingly only on paper as the action is quite tame the film is also very colorful but not too bright and especially shocking was the total lack of vicious sex there's a bit of nudity sure but too few according to normal franco standards all the characters are sick in the head so the least i expected or hoped for were more perverted undertones or <UNK> themes franco obviously had a bigger budget as usual to work with and i must say he spends that money well on more convincing set pieces and talented cast members particularly the veteran actor george sanders village of the damned <UNK> is one of the best players ever to appear in a franco ||| production too bad even he can't save the girl from <UNK> from being a huge letdown a legendary euro <UNK> filmmaker like jess franco could and should have done more with this concept shame shame shame\n",
      "\n",
      "# 8 , label 0 , prediction 1\n",
      "<START> i bought this out of curiosity how did john carradine who died in 1988 and cameron mitchell who died in 1994 make appearances in a film made in 1995 thanks to the miracle of <UNK> film can footage that's probably been sitting on a shelf somewhere for ten years that's how you can tell because the film stock used to shoot their scenes doesn't match the film used for shooting jack o the curse of ed wood lives on the good thing for both carradine and mitchell is that this is exactly the kind of movie you'd expect to find on both of their <UNK> same goes for scream queens <UNK> <UNK> <UNK> stevens and dawn <UNK> br br the setting is crossing on halloween and some kind of curse is released when dumb beer <UNK> teens <UNK> a grave the result a <UNK> killer with a <UNK> and a big plastic <UNK> on his head he it goes after the wholesome kelly family for revenge and kills others who get in his way the father opens a haunted garage for the neighborhood <UNK> the son ryan son of the director has one continuous <UNK> facial expression for all his scenes and one hilariously badly acted dramatic scene lying in a grave at least he's a kid the mother's eyes about pop out of her head while she <UNK> to read her dialogue there is also an annoying woman who shows up to explain things who seems to be trying to <UNK> <UNK> all of ||| her dialogue br br so what about the name actors you see stevens <UNK> and mitchell briefly on a tv screen they're used to pad out the time <UNK> has a bigger role as a babysitter and she does exactly what she can with it her enthusiastic performance helps a little bit there's also one out of nowhere laugh when an ultra conservative couple who watch a rush <UNK> clone on tv bite it the woman slips on a <UNK> and stabs a <UNK> with a knife she's <UNK> and the end result looks like a flame <UNK> muppet br br all and all pretty entertaining stuff i wasn't bored\n",
      "\n",
      "# 9 , label 0 , prediction 1\n",
      "<START> i was in <UNK> grade and this movie aired on <UNK> during a series called ' i distinctly remember sitting on a couch watching the movie with tears running down my face at the end in the film jesse the main character forms an unusual friendship with a girl named leslie due to a very simple but <UNK> mistake one of the pair dies at the time i found the story very powerful because the fatal mistake is exactly the type of mistake a kid would make and so any kid watching the film will find it very easy to identify with and feel the emotional weight of the tragedy that ensues br br last year i finally <UNK> down a vhs copy of the show i probably should have stuck with my memories watching the show as an adult i was absolutely shocked by what a horribly made film this was my girlfriend had a similar memory of the movie as well and she too was pretty sad about how bad the movie was compared to her memories br br many adults probably have a good memory of watching this movie when they were kids i strongly advise that these people leave their memories intact and avoid seeing this film as an adult |||\n",
      "\n",
      "# 10 , label 1 , prediction 0\n",
      "<START> i found this to be an entertaining account of the challenges an independent film maker might encounter something i never even thought about the film managed to keep my interest the entire time and i actually laughed out loud more than once i'm not a film maker so i know nothing about the technology but i though it was well edited and <UNK> smoothly telling the story as a <UNK> i contributed to this effort after the fact providing music for the soundtrack but i was not involved in the creation of this film and i could not tell you a thing about <UNK> man except that i remembered seeing it way back when i'm not really a sci fi fiend i enjoyed the comparisons the film made of punk rock file making to punk rock music my wife went with me to see the film and she did not know a thing about it before hand and we had a great time |||\n",
      "\n",
      "# 11 , label 0 , prediction 1\n",
      "<START> the palestinian situation is <UNK> and as yet largely <UNK> <UNK> for film making <UNK> <UNK> tries hard and gives us an insightful <UNK> into the almost surreal life of those caught up in the troubles but the film amounts to little more than a handful of admittedly lovely visual jokes thrown onto celluloid while the <UNK> between them become increasingly obscure as the film progresses a missed opportunity to say something more coherent about a very <UNK> issue |||\n",
      "\n",
      "# 12 , label 0 , prediction 1\n",
      "<START> i was so looking forward to seeing this film that i can't really understand how i got the impression i would enjoy it i'm afraid it really is a yawn fest every single <UNK> in the cinema i attended <UNK> and <UNK> frequently during the whole film this is a shame because it is a fantastic story i'm inclined to think that it would make a better read it is not helped by the principle character only showing his teeth once and that was as a result of the camera angle as the story unfolds it becomes easier to understand the main character's <UNK> however the suspense and drama that could have made this a really top rated film have been completely <UNK> by the dull treatment dull as a half baked documentary |||\n",
      "\n",
      "# 13 , label 0 , prediction 1\n",
      "<START> <UNK> is not a classic it is a <UNK> of the wonderful original <UNK> le <UNK> directed by <UNK> and starring a much more attractive and charming <UNK> jean <UNK> if you want to fully experience the and the characters in <UNK> i recommend you don't even watch this movie and see <UNK> le <UNK> instead for it is much more elaborate more beautifully filmed the lines are not clichéd and the characters <UNK> much more to reality furthermore the ending is so dramatic and key to <UNK> character that you'll find the <UNK> version <UNK> although <UNK> does an almost excellent job <UNK> each scene the acting falls short as does the credibility of the characters plus the wardrobe is truly breath taking in all scenes particularly <UNK> in the last scene and at all times but also when she's on the boat frankly <UNK> is cheap as far as <UNK> go |||\n",
      "\n",
      "# 14 , label 0 , prediction 1\n",
      "<START> i went to see this film over <UNK> men in fact buying the tickets to <UNK> men and going to the other because it looked like a fun movie with action romance thrills <UNK> and exotic locations they had all that but so do a lot of movies with a conception of story br br all i can say is why why why why did they not just make it a straight narrative instead of some sappy flashback story br br here is all the movies from what i've seen the film was derived from of course indiana jones and <UNK> the stone but also true lies proof of life that old 80s tom <UNK> movie <UNK> woody allen and hero from the use of digital extras br br ps the only scene in the movie that was cool is when the central character finds her room blown up |||\n",
      "\n",
      "# 15 , label 0 , prediction 1\n",
      "<START> this movie starts by showing you a map and then explaining radar and it is quite awhile before you ever see the deadly <UNK> probably a better movie in the 50's this dated piece is a bit to slow moving and the pay off in the end isn't very good though it has its moments like when the guy from perry mason <UNK> with an old man and when he says i have <UNK> the possibilities to one excuse me but when you narrow something down you have a couple or more possibilities not one if you get it down to one you haven't <UNK> it down but you have in fact figured out what it is the monster is standard 50's sci fi fair better than say the <UNK> in the beginning of the end acting is sub par and the heroine is the most unattractive in fact in some shots she does look like a guy in drag you see plenty of fighter plane stock footage and other things but you won't see much at all of the deadly <UNK> |||\n",
      "\n",
      "# 16 , label 1 , prediction 0\n",
      "<START> brilliant screenplay br br the screenplay is very tight that u will be <UNK> in seat br br this movie is an example for movie can survive only with screenplay and no story needed br br story is very simple that u can write in one line but screenplay was amazing br br brilliant performance by <UNK> and br br though plot is similar to director adapted only the plot <UNK> version is much fast paced than <UNK> br br movie travels straight without any chance of <UNK> though u can understand each and every characters back drop br br keep going |||\n",
      "\n",
      "# 17 , label 1 , prediction 0\n",
      "<START> <UNK> the <UNK> is one of the modern day television productions that prove that some television can be just as good or even better as this is than what you see at your local theater br br if you want to read the plot read this and if you want other details skip down to the next paragraph this is the unforgettable portrait of an unconventional young girl named <UNK> who works as a naive <UNK> girl until she discovers her repressed homosexuality when she falls in love with a successful woman named kitty who dresses as a male for her stage profession the young girl soon joins the act as another male <UNK> and they are a major hit soon the both of them <UNK> on a tender affair kitty eventually becomes <UNK> in a marriage of <UNK> and <UNK> young heart from then on <UNK> works as male <UNK> prostitute to men looking to have sex with boys then she becomes the private sex slave to the evil and <UNK> diana where <UNK> experiences severe emotional abuse when that ends badly <UNK> is on the streets again where she recalls a young woman named <UNK> a good hearted <UNK> who had the true potential of being a wonderful partner that's where <UNK> will discover the power of <UNK> and learn how to get back to fame br br the region 1 transfer is of exceptional picture quality there is a very good scene selection an <UNK> photo gallery and a fun interview between ||| novelist sara waters and the film's writer andrew davies br br the sets costumes cinematography and music are gorgeous the acting writing and directing are extremely strong and filled with realism class and originality i loved the film and the novel section iii in the film is much different in the film than in the novel because section iii in the novel is great written down but isn't screen material i will be brave and say that i love the films interpretation of it much more br br this breathtaking historical <UNK> combines drama comedy <UNK> and romance to vibrant perfection in a way that is both deeply moving and <UNK> uplifting for every mature and open minded adult who has ever felt the pleasures pains and power of falling in love and living life to it's <UNK> a revolutionary production an absolute must see\n",
      "\n",
      "# 18 , label 1 , prediction 0\n",
      "<START> it <UNK> me that production companies will sue because of they will not supply i've been looking for this movie on dvd for a while and vhs for years one can get all sorts of movies on line old movies new movies but it all targets a particular group this movie is very nostalgic for many i'm not sure why i can't get a copy maybe if enough people will write in the <UNK> <UNK> will get a clue it's about time for this to happen yes it's date but so is the wizard of oz it doesn't seem like this should be so difficult so for now i'll keep seeing those illegal copies on search <UNK> like many others |||\n",
      "\n",
      "# 19 , label 0 , prediction 1\n",
      "<START> while most of wayne's b efforts are entertaining in a fun way this film is so <UNK> edited and written it is a dud the first ten minutes alone show wayne and <UNK> in <UNK> scenes <UNK> with stock footage obviously shot in the day plays a half white half <UNK> <UNK> with a heavy mexican accent and he cannot seem to pull off any <UNK> i give this a 3 |||\n",
      "\n",
      "# 20 , label 1 , prediction 0\n",
      "<START> robin williams shows his stand up talents and <UNK> up his status as a comedian in this movie of what's wrong in american politics and how can hollywood try to make an influence without boring people of course hollywood uses movies with hidden or not so hidden <UNK> i think this movie is for people who likes stand up and political discussion and the trailers of this movie were for everybody just to make sure as many people as possible will see this everybody knows hollywood is more liberal <UNK> than the bush co so they have to make these movies every now and then but this one was perhaps too obvious at least i thought so for making any real change br br still great stand up and fresh political issues and talks i enjoyed it and thanks to imdb com ratings i was positively surprised when i walked out from the movie theater and yes i laughed many times sometimes you just have to let it go and forget all the seriousness see this movie if you like good and clever stand up or politics and you will not be offended by the several references of how things are not good right now rent it if that doesn't match you |||\n",
      "\n",
      "# 21 , label 1 , prediction 0\n",
      "<START> the book is better than the film mostly because of the writer <UNK> before i saw this film someone who had seen it told me the love depicted in this film isn't real after seeing this film i can see how her suspension of disbelief in this regard could've been distracting to other movie goers as well frankly some of the intense displays of love were laughable and seem to be on the edge of parody but by the end everyone should realize this is a big message piece of art it is not specifically about love at all it uses love to reveal the human <UNK> or the <UNK> borders of countries that help justify wars and hatred it is about <UNK> and the blind following of the things that supposedly separate us the critical scene for the real theme of this movie is when the hero or <UNK> for help for his stranded lover in the desert is ignored and <UNK> for the reasons shown in that scene this film is also about hope and forgiveness the hope <UNK> in the <UNK> relationship between <UNK> recovering character and the indian <UNK> <UNK> in the buddy buddy relationship with his white <UNK> who ends up dying and the forgiveness <UNK> in the <UNK> character's first hunt and then forcing out of what he thinks will be the hero's <UNK> for his war crimes betrayal of country i think the film could've been made even better than it is i don't know if a more ||| realistic portrayal of the circumstances of love would've made the real themes and points of this film even more obvious or not but i agree this film is not about realistic romantic love as the people behind this piece of art or film imply in an early scene when the eventual lovers first meet the hero talks about how a new car broken down car fast car etc i'm <UNK> is still just a car no matter what <UNK> you put in front of it she replies but <UNK> love <UNK> love romantic love etc are very different kinds of love this is ironic because this film is really about the one love all humans should want which is the love of or for peace not <UNK> things which are usually the real reasons for wars <UNK> in something most of us want such as cars let's say otherwise we may be left stranded to die in a cave in a vast desert with ancient wall art drawings of <UNK> suggesting that the <UNK> and life supporting waters which were once there have all but disappeared i believe the english patient won the oscar because of these big messages not specifically for its depiction of romantic love awards tend to go that way the relationship of the hero and heroine was necessary to draw the audience in unfortunately this view of love may be <UNK> in the age of divorce and so many <UNK> who can't seem to get together on so many levels so ridiculous versions of <UNK> love are hard to get into even in <UNK> which film love has always been especially in good old hollywood the film may fall short of what people expect but a 7 out of 10 movie worth seeing regardless\n",
      "\n",
      "# 22 , label 0 , prediction 1\n",
      "<START> if you read the book before seeing the movie you may be disappointed like i was the book was great and i was sure after seeing the movie preview that the movie would be great as well however i felt like i was watching a movie where the director and cast did not even read what these characters where like the movie is short and they do not really ever make us feel that these people were truly in love and felt like sole mates even if the movie did not go in the same direction as the book at least they could of made the romance between these two characters feel more intense i think both diane lane and richard gere were perfect for these two characters and they have good chemistry however they just did not develop a long enough storyline for us to see how they <UNK> for each other the book was true love story and i think this movie could of been a lot better |||\n",
      "\n",
      "# 23 , label 1 , prediction 0\n",
      "<START> american <UNK> jules <UNK> makes an award winning french gangster film the plot involves tony the a <UNK> just out of prison who takes his band of thieves on a <UNK> million jewel heist unfortunately his ex wife's relationship with a notorious gangster named an italian safe cracker named <UNK> with a weakness for women and the <UNK> of his own friend jo cause the successful heist to turn into a bloody race against time as holds <UNK> son hostage for the cash in typical crime never pays tragedy fashion br br the <UNK> in the title is explained in a song to mean <UNK> for basically violence and sex and the full title du <UNK> <UNK> les means roughly some naughty in the house of men which is pretty much where the fatal flaw of the characters take place leave it to a gangster film to place most of the emphasis on the <UNK> on the women but this time <UNK> wife gets the last laugh if you could call it a laugh when she <UNK> all of you are just going to kill each other the characters aren't the most sympathetic and the women are mostly weak but <UNK> still builds an extremely well crafted suspense film out of them as they pull off a heist that requires the <UNK> quiet hide the goods and then attempt to survive what basically becomes a cross country cat and mouse game in the mix are some very amazing photography and a fine attention to detail ||| in editing leading to a pacing and visual experience that well <UNK> the otherwise generic plot it's not only easy to see why this is held as a classic it's also easy to see why it's among the top 250 on the imdb it's suspenseful visually magnificent full of sex and violence and maintains that classy gangster attitude we film buffs like so much\n",
      "\n",
      "# 24 , label 0 , prediction 1\n",
      "<START> when the <UNK> chair <UNK> beware of its soft colorful br br the movie starts out quite well josh mark and emily kathryn are a boyfriend girlfriend couple having a bit of a tough time with their relationship an argument occurs one night and in order to make up josh asks emily to come along on a <UNK> to his father's house where josh plans to deliver a <UNK> for his <UNK> birthday emily accepts and along the way they pick up <UNK> <UNK> brother <UNK> <UNK> <UNK> an <UNK> looking fellow more in touch with other <UNK> lives than his own br br the <UNK> quickly <UNK> into more <UNK> between josh and emily as well as a bitter feeling for the <UNK> chair it is initially very <UNK> and falling apart until josh convinces the original owner to <UNK> it <UNK> quickly that the cause of all of emily and <UNK> problems is the and sets it to the torch one night br br and that's the last we hear of the chair even though there are many minutes left in the film br br the big issue is that the title of the film is the <UNK> chair when it isn't the chair at all that takes center stage it is josh and <UNK> doomed relationship and how the <UNK> <UNK> their feelings for one another once the chair is destroyed there's never another mention of it even though they arrive at <UNK> parents place on his father's birthday without a gift ||| josh never mentions the chair nor does his father there's no connection between it and the lives of these people so why call the movie the <UNK> chair and why isn't there a tie in with it at the end bad script br br the other annoying thing is that mark brother jay is not only the director but also the cameraman and not a very good nearly every scene has a rapid zoom in on the characters that goes grainy and out of focus before the <UNK> <UNK> catches up and rights itself initially this took on a quaint and artistic feel but rapidly became unbearable br br the acting in the film is accessible and entertaining all of the actors actresses did fine jobs but the poor production quality stilted ending and lack of <UNK> to the title caused this flick too many problems\n",
      "\n",
      "# 25 , label 1 , prediction 0\n",
      "<START> several weeks back i lost my beloved companion and friend of <UNK> years a golden <UNK> named <UNK> when i came home from the animal hospital alone after having made one of the most painful decisions of my life my teenage daughter sat by my side and we talked about this episode of the twilight zone i could be wrong but i recall a line that arthur <UNK> said when satan was trying to trick him into hell but his dog could not go with him and his dog in turn was <UNK> in <UNK> at the <UNK> who was trying to trick the old hunter to step inside that it would be one <UNK> of heaven if dogs were not allowed and the spirit of the old mountain man and his dog decided to turn away from the gate of what they had thought was heaven to wander eternity alone what a <UNK> moment when they meet a good <UNK> country boy on that eternal road only to discover he is an angel sent out to find 'em and sure neighbor of course dogs are allowed into heaven br br i'll confess i cried as i talked about this with my daughter while we <UNK> the passing of our beloved golden rod <UNK> was truly a genius a voice that in the early sixties spoke out against racism hatred know and was a profound inspiration to me to become a writer this episode across forty five years carried a message of comfort to all ||| of us who have lost a beloved friend i urge you to get a copy the next time there is a one of the twilight zone <UNK> or purchase it there will be some tears but comfort as well as always thanks rod for all that you taught us even now\n",
      "\n",
      "# 26 , label 0 , prediction 1\n",
      "<START> i wish i could have voted this movie a ten it's that funny if they had intended for it to be that funny i would have given it a ten i have to give it a 1 but it's the funniest darn 1 you'll ever want to watch see the giant <UNK> flash across the screen where did it come from what is it it flies it <UNK> it's <UNK> it's on strings this bird has real personality i was about ten when i saw it for the first time and when big bird appeared on <UNK> street i was sure they were one and the same |||\n",
      "\n",
      "# 27 , label 0 , prediction 1\n",
      "<START> i don't understand the exaggerated good critics about this film except that a lot of people from <UNK> are understandably very excited based on that the <UNK> cinema is really a bit behind of what other countries are in the region br br the movie first of all is too repetitive a lot of scenes are almost identical from each of the both leading roles so you get the impression that it's a time filler a time filler is also a good point as this movie is definitely too long with <UNK> minutes you will start to get tired after a while and watch on the clock br br all actors are quite bad by exception of the <UNK> guy edgar <UNK> who brings in a bit of slapstick and plays the role of the <UNK> <UNK> <UNK> br br by the way this is not a representative movie about the people of the region <UNK> zone it tends to <UNK> them |||\n",
      "\n",
      "# 28 , label 0 , prediction 1\n",
      "<START> starring james belushi peter alex and jason lee underdog is a true hero's tale here is the story of a regular playful little when he is dog by a <UNK> midget hell bent on destruction something freaky happens br br our quirky little neighborhood <UNK> <UNK> extraordinary powers he can run as fast a <UNK> fly as fast a superhero and has the power of thunder he is no longer he is underdog  the best crime fighter in the animal kingdom the city cannot sleep until underdog it of the evil midget dr simon and his <UNK> br br if you fancy some really light hearted entertainment with all the clichés of superhero action flicks then this one is for you as for quality entertainment this one is strictly for the <UNK> those of you hoping to enjoy the comedy of the fast <UNK> star james belushi a word of caution this is not one of his <UNK> works |||\n",
      "\n",
      "# 29 , label 1 , prediction 0\n",
      "<START> the show start out with the boat <UNK> was i it then they went to try to save walt and lock things that the button pushing is a big joke at the same time <UNK> found out that hes the one that crashed the plane <UNK> tries to open the door that locked on him and charlie helped him find the bomb while <UNK> and jack plan is that is to find the others first and see who and what the other are and find if there armed and have any weapons br br micheal takes jack kate and hugo in a trap and they get caught br br after the show there were more questions then answers but that what makes the show great and can't wait until season 3 |||\n",
      "\n",
      "# 30 , label 1 , prediction 0\n",
      "<START> look as being <UNK> irish i assure you this reviewer is anything but bias but i assure you this is very much an irish film and not english as the last comment seems to have suggested this film was written by neil and <UNK> <UNK> and directed by <UNK> <UNK> too both irish the cast is almost entirely irish it was shot in ireland with an irish crew even michael was born in ireland i remember him joking about it in an interview about this film br br michael <UNK> was evidently brought in to boost box office abroad br br loved the film i just wanted to correct a totally <UNK> comment br br now on with the review i loved dylan <UNK> have always been a fan of his himself and michael <UNK> formed a surprisingly good double act it was great to see range as an actor as he plays several different made up characters during the film i would recommend this film to anyone with an interest in comedy as it represents a fresh quirky and inventive turn in irish feature length chuckle films i laughed a lot what more could you ask for |||\n",
      "\n",
      "# 31 , label 1 , prediction 0\n",
      "<START> another hand held horror means another <UNK> movie that fans should still seek out and make up their own minds about br br imagine a cross between the blair witch project and the grudge and you're close to the overall content of this movie it's another <UNK> horror but this time most of it is edited together in <UNK> for a video doc that was never completed by a supernatural investigator who disappeared br br i certainly had a feeling of dread while watching this movie does anyone do dreadful better than our asian friends but the creepy moments the genuinely creepy moments were sadly a bit fewer and <UNK> between than i had hoped i also felt that i was two or three steps ahead of the investigator when apparent revelations appeared throughout so i certainly can't recommend this as highly as <UNK> br br having said that it would be <UNK> of me not to highly recommend any film that goes on at length about worms contains at least two subtly spooky ghost moments and made sure that i had to put the lights back on for a while when the sun went down br br check it out if you have been enjoying some of the other hand held genre releases of late and the finale is a hair raising <UNK> br br see this if you like the last broadcast pulse angel heart |||\n",
      "\n",
      "# 32 , label 1 , prediction 0\n",
      "<START> if anyone ever <UNK> a <UNK> on modern american horror that is truly worth it's salt there will have to be an entry for sf in asylum horror every time i watch this movie i am impressed by the complete economy of the film from the <UNK> totally self contained plot with a puzzling beginning and an all too horrible ending the engaging performances by what was essentially a group of non professional actors and a sense of dread and <UNK> that effectively <UNK> the with a certain <UNK> which is all the more terrifying because the viewers know what is going on long before the hero <UNK> with the only question being when are they going to wake up smell the coffee br br shot on a dental <UNK> budget in native texas at an old <UNK> <UNK> that nicely serves as the setting for a private <UNK> don't look in the basement is another intriguing twist on the good old edgar allan poe <UNK> about inmates taking over the asylum just before an otherwise normal <UNK> <UNK> joins the ranks without realizing until it is far too late that not all is what it seems they are totally cut off beyond any outside help and inevitably find their own sanity <UNK> as the madness <UNK> out of control the original star trek tv series had a go at this with their whom gods destroy episode from 1968 juan gave the proceedings a <UNK> <UNK> mexican psychedelic trip in dr <UNK> torture <UNK> in ||| 1972 and <UNK> related is <UNK> <UNK> <UNK> asylum <UNK> slaughter hotel which <UNK> the elements of an unknown killer and an ending that can only be defined as splatter cinema may not have seen or been thinking of slaughter hotel but he sure came up with some similar ideas br br former playboy <UNK> <UNK> plays charlotte <UNK> <UNK> in <UNK> psychology who has just left her nice job as a <UNK> at a major hospital to travel way out into the middle of some god <UNK> waste right out of a <UNK> movie to work with a dr stevens at his private <UNK> dr stevens has <UNK> a new form of therapy based upon basically <UNK> the emotionally psychologically <UNK> to face their inner <UNK> bring them to the surface and hopefully rid the patients of whatever has fried their sense of reasoning nice idea but <UNK> a <UNK> 250 pound utterly insane man with an axe and telling him to pound out his <UNK> and then turning your back on him probably isn't the <UNK> idea and dr stevens is <UNK> before ms even appears <UNK> with a good <UNK> to the lower portion of his skull br br this event leaves the <UNK> effectively in the hands of one <UNK> masters actress <UNK> who also served as the script <UNK> production manager a woman of <UNK> professional demeanor who quickly <UNK> the situation with the help of sam the film's wonderfully unlikely hero a <UNK> african american played by an actor named bill who was sadly robbed of a supporting oscar nomination for his turn as a mass of muscle with the brain of an 8 year old boy <UNK> one wish is to have someone help him put his <UNK> toy boat in the water and his <UNK> asking of the various female cast members to do so and his <UNK> <UNK> of chocolate <UNK> as some kind of underlying theme though we will avoid such here because the kids might still be up there is also a quick subplot about a staff member who has decided to leave after being threatened by one of the patients but i'll leave the details of that to your discovery br br ms arrives just as dr stevens has been effectively laid to rest and is quickly won over by the snappy <UNK> of ms masters who reluctantly allows the <UNK> young nurse to stay on in spite of the tragedy that has just happened oh twenty minutes ago which you must admit was rather sporting of her nurse <UNK> begins to demonstrate <UNK> of not being the <UNK> meat <UNK> in the <UNK> however when informed that she shares living quarters with a bunch of <UNK> and there are no locks on the doors doesn't <UNK> off for the nearest ace <UNK> store to pick up a and to secure herself and we are treated to a couple of truly creepy scenes where some of the inmates sneak into her room do stuff like smell her hair try to kill her with butcher knives and <UNK> her neck with axe heads but that's all a part of working in such a radical psychiatric health care environment ms <UNK> informs her and she goes about her oddly defined rounds that consist of wearing as leg defining a nurse outfit as you can find in a <UNK> street fetish <UNK> and getting to know the inmates br br is a obsessive <UNK> <UNK> with homicidal who likes to take off her shirt provide the film with some t a between fits of <UNK> harriet is a young former mother who let her child die in a stupid accident and now <UNK> on a beat up old doll that she is also <UNK> protective of the is an actual and implied vietnam vet who's <UNK> led to the death of his platoon and now watches from the window with <UNK> for the approach of an unseen enemy jennifer is a fan who couldn't score a ticket to the new year's eve show and went insane likes to <UNK> down and other when nobody is looking and likewise has hidden homicidal linked to her inability to find a <UNK> judge cameron is apparently a homicidal <UNK> who became obsessed with his own sense of power and now likes to chop things up with <UNK> ms is an aged poet who serves as a sort of old <UNK> from <UNK> before the cat gets her tongue and danny is an insane idiot who was included in the cast as the random element that the plot cannot control and who's antics serve as the real <UNK> for the series of <UNK> murders that ultimately take place in this dark old creepy house in the middle of nowhere br br the house itself is a wonderful set with a <UNK> early 1970's <UNK> that is remarkable in it's with a fantastic use of color achieved by subtle <UNK> lighting the house is a series of <UNK> and rooms with shiny brown wooden floors <UNK> confined <UNK> <UNK> and <UNK> leading to the different larger areas and of course the basement mentioned in the title visited only once but boy it sure proves to be a <UNK> i love the old <UNK> where sam keeps his <UNK> of <UNK> the utterly plain <UNK> that remind me of a summer home our family used to visit every year force us to in the heat everyone is covered with <UNK> of and looks exhausted and even the ever cheerful sam at one point begins to suspect that bad things are happening though he cannot understand what it all means and <UNK> h is too firm in her belief of her profession to even suspect what has really happened and while ms limitations of an actress may have <UNK> the <UNK> of her big revelation scene she's a great <UNK> when all hell starts to break loose and <UNK> of some nice camera shots of her in various suggestive poses or stages of <UNK> that show off what a pretty lady she is without exposing anything more than her contract too bad br br the real show <UNK> is sam however and fans of what i have been taught to refer to as splatter cinema will not be disappointed by the rather shocking finale and there is something moving about how sam runs to the protection of his friend and brutally kills everyone within arms reach in a matter of seconds that either suggests he was one mean before his <UNK> or the film is cut in any event you won't be prepared for the ending the first time you see it even though you as the viewer know what the score is long before anyone else in the film has put it all together br br except for one person <UNK> <UNK> stereotyped old <UNK> mrs who seems to be inspired by the donald sutherland old woman character from the michael <UNK> 1964 christopher lee film castle of the living dead in addition to a rather nasty death by round spike to the eye who not only <UNK> the future but has the film's most laugh out loud amusing bit of dialogue while on a walk in the garden with ms that runs something like this br br it's really beautiful out here do you get out much mrs asks to which the old woman replies br br it's you who needs to get out br br hilarious and one of those things you gotta kind of see for yourself to get don't look in the basement is available on at least a half dozen bargain bin dvd releases by companies like <UNK> home video diamond entertainment and <UNK> disc <UNK> 's horror classics series i kind of like <UNK> <UNK> <UNK> <UNK> <UNK> 6 release from 2003 br br dig through those bargain <UNK> but make sure you get one with the <UNK> 90 minute print contained <UNK> an older <UNK> minute version is downright confusing due to some of the and you really need to see the ending credits as intended to bring this sick twisted and surprisingly entertaining yarn to it's end br br masterpiece maybe not compared to the exorcist or rosemary's baby but it is a very uniquely american horror film and a genuine classic of the drive in age that deserves to be <UNK> by anyone looking for something made with more than just a little bit of brain juice and not a penny more than they absolutely needed br br 1 2 out of\n",
      "\n",
      "# 33 , label 0 , prediction 1\n",
      "<START> tragic hero is a film that is most definitely trying to <UNK> the classic godfather films focusing on family crime loyalty and revenge also this is part of a two part series as the godfather also was at the time however this film comes nowhere near the level of those classic films and actually <UNK> worse than other <UNK> thrillers being released in hong kong at the time br br one reason is the acting with the exception of <UNK> <UNK> fat the acting is generally over the top and unbelievable the audience tends to find the proceedings humorous simply because the actors' inability to maintain any degree of seriousness as a result we find the film not truly emotionally involving or intense since we don't particularly care what occurs with these characters br br another reason is its lack of focus the narrative tries to <UNK> many different story elements into the film but this results in portions of the movie becoming underdeveloped as well as lacking any real sense of <UNK> the audience sometimes becomes lost at the proceedings we are viewing not knowing what the character's motivations are br br the film's climax does contain a decent gun fight but again since we don't care about the characters we don't care who lives or who dies the scene loses it's intensity and suspense because of this the other action set pieces are rather mundane in nature with a feeling of it being too controlled rather than free flowing br br in general ||| this is a strictly average film and isn't recommended to the general film viewer only hard core genre <UNK> and fans of <UNK> <UNK> fat should consider this film for viewing\n",
      "\n",
      "# 34 , label 1 , prediction 0\n",
      "<START> this was one of the few shows that my wife and i agreed on watching i was upset to hear that it was canceled especially because i didn't realize the ratings were so poor as far as i knew it was doing very well with a lot of viewers almost all my friends and most of the people i spoke to watched the show now we are stuck watching either crappy shows or dvd's how bad was the show doing does anyone know the real results of the shows viewings i know that when it went to <UNK> it was more difficult for me to catch thank g d for br br anyways this was a real surprise to know that there will be no more the war at home if any other networks see this please pick up the show please |||\n",
      "\n",
      "# 35 , label 1 , prediction 0\n",
      "<START> if you are looking for a movie that doesn't take itself seriously than <UNK> is for you i must say before i write anything more that if you have not seen any of the camp kill yourself videos than the movie most likely won't be as funny my advice is to watch a few clips of those videos that <UNK> and his friends made <UNK> does not take itself seriously at all and that was never the purpose throughout the movie you will have random moments that have nothing to do with the plot which may get annoying but its nothing that is out of control even through all that the plot does stay focused and the story of ryan <UNK> character does unfold quite nicely this plot i have been told is based off a true story for the most part of ryan <UNK> ex girlfriend brandon is by far the best character in the movie he has a lot of talent and knows how to make people laugh he stole the movie if you ask me overall i love this movie for its simplicity and straight up weirdness its a <UNK> movie people its not going to be normal <UNK> is filled with hilarious quotes that my friends and i constantly used since the first time we saw it i've seen the movie 6 7 times and still find new things every time the soundtrack is just as good everything from kill to new order and some <UNK> just don't go into the ||| movie with high expectations let it all unfold and then judge it for what it is\n",
      "\n",
      "# 36 , label 0 , prediction 1\n",
      "<START> this movie isn't that great at all but it's good when you want to just laugh because it's pretty ridiculous there are a lot of mistakes in it and it's cheesy i got this movie for christmas like 5 years ago but for some reason i've never given it away i guess i just like it for a rainy day even though i only watch it like once a year this is a very 90's movie so it's really funny to see how everyone dresses and acts this movie is good for someone young although come to think of it i didn't even like it much when i was like 12 but that's just my personal opinion the movie was really predictable i wish it had had some extra weird twists but i guess it was trying to be an appropriate movie for everyone to enjoy i think it was appropriate for the whole family but dress was a bit but certainly appropriate enough for family material |||\n",
      "\n",
      "# 37 , label 0 , prediction 1\n",
      "<START> this is a good <UNK> for a study of corporate power and the between required public life and the need for <UNK> robert taylor has been <UNK> by corporate head <UNK> <UNK> as a surrogate son to replace him as head of the corporation he sends him to england to <UNK> a deal where taylor is both taken <UNK> by the <UNK> and morality of the men he is dealing with and manages to fall in love with a <UNK> while he's at it he comes back handed having done his duty but having told the truth to the english about his motives he attempts to marry the <UNK> rather than the <UNK> niece and so begins an attempt by <UNK> to <UNK> the <UNK> as a suitable wife for a corporate executive it could have been <UNK> <UNK> and less romantic the amount of time spent on the romance <UNK> the film away from the points it's trying to make about corporate <UNK> br br somehow the costume design was nominated <UNK> for an oscar it's all business suits and the two women in the film dress <UNK> studio politics at work yet again no doubt br br what is however is the black and white <UNK> cinematography which is excellent this if anything deserved the oscar <UNK> it was <UNK> first film in b w br br not as good as it could have been but not terrible either |||\n",
      "\n",
      "# 38 , label 1 , prediction 0\n",
      "<START> spoiler nothing but spoiler br br i have to add my name to the list of folks who feel that the other viewers just don't get it but no one has even mentioned the s word so far as i have seen br br while i agree that the kid died i think we can be more specific he committed suicide he races down the <UNK> in an old <UNK> shoots off the cliff and flies away maybe the whole account of the form of death is allegory or maybe he does commit suicide in a <UNK> as laid out in either case he flies away c'mon not that tough a metaphor br br maybe i just have a thing for tom hanks but i was ok with the narration besides he is raising for the ww2 <UNK> and you gotta love him for that br br oh yeah i loved the movie and found it incredibly moving |||\n",
      "\n",
      "# 39 , label 0 , prediction 1\n",
      "<START> shirley <UNK> films for <UNK> century fox aren't <UNK> because they're poorly made <UNK> f <UNK> <UNK> most of them after all they don't retain much of a classic stature among cinema <UNK> mainly because they're <UNK> down with the <UNK> optimism of depression era hollywood 1930s audiences were by the delight of seeing a often <UNK> sunshine girl making the grown ups look foolish by comparison they <UNK> and <UNK> their hands while she <UNK> her troubles away seen these many years later <UNK> vehicles barely get by on story aided always by musical sequences to <UNK> the content and her timing always too perfect and exaggerated reactions might leave most modern viewers rolling their eyes no one could possibly be blamed for their <UNK> over <UNK> performance here shouting lines at the top of her <UNK> or the <UNK> of her dance steps with a crowd of sailors to at the <UNK> ball still the fantasy aspect of this particular story previously filmed in <UNK> from the book by laura e richard is enough to <UNK> those in the proper <UNK> spirit seems <UNK> was pulled from a <UNK> by a government <UNK> <UNK> keeper but when a <UNK> officer from the state board finds out the <UNK> isn't in school she threatens to take the kid away it doesn't really matter if the <UNK> faced officer has a point that temple isn't being raised properly the woman is turned into the proverbial <UNK> almost immediately one can see right away that temple ||| can hold her own taking care of herself and her elderly guardian in the bargain as well as the local widow who has her <UNK> in for the captain temple isn't the only one overly <UNK> guy <UNK> january is <UNK> for wide eyed reactions so often you wonder if maybe if he didn't film them all in one day the dialogue is <UNK> in <UNK> <UNK> you can't rush a <UNK> well don't give up the ship and something about the whole enterprise seems strangely <UNK> from\n",
      "\n",
      "# 40 , label 1 , prediction 0\n",
      "<START> i love dogs and the most interesting character in this movie is a golden <UNK> he is smarter better looking and more interesting than any of the human characters like many other <UNK> i have not read the book but i doubt that having done so would change my opinion of the movie it is predictable from the first five minutes on no surprises mad scientists create a monster that gets loose and a teen age boy and his wonder dog <UNK> to destroy it all in all the movie is a dog but as i said i love dogs and will therefore give this movie a 7 10 rating watch it if it comes on tv rent it if you are bored and nothing else catches your eye but don't buy it unless it is on special |||\n",
      "\n",
      "# 41 , label 0 , prediction 1\n",
      "<START> this <UNK> middle class sitcom became the subject of much hatred by the new breed of talented comedians in the 1980s such as ben <UNK> did it deserve such <UNK> well terry and june was never clever it was never a well written tale with different threads which <UNK> at the conclusion it was the show your mother and father and probably grandparents watched they <UNK> rather than laughed but they were never likely to be offended by the show so the fact that it never challenged them was <UNK> br br one foot in the grave suffered initially because it appeared at first sight to be just another terry and june br br a few days after the death of terry scott an episode was broadcast on <UNK> tv and that has been its final outing there have been few repeats of the show on any tv channel br br thankfully tv comedy has advanced since terry and june it's hard to find kind words for it terry scott did make the best of weak scripts |||\n",
      "\n",
      "# 42 , label 1 , prediction 0\n",
      "<START> latter days br br aspect ratio 1 85 1 br br sound format <UNK> br br trouble <UNK> when an la party boy wes <UNK> falls in love with a handsome mormon <UNK> steve br br a huge hit on the festival circuit and on limited theatrical release this likable movie the feature debut of screenwriter c jay cox sweet home <UNK> is an exercise in in which <UNK> shallow minded character is changed forever after falling hard for vulnerable beauty who is <UNK> by the <UNK> of his religious <UNK> here the path of true love is <UNK> with <UNK> not least of which is the reaction of fellow <UNK> to his <UNK> sexuality which results in his <UNK> from the church and the wrath of his <UNK> parents mary kay place has a small but devastating cameo as the boy's <UNK> mother but <UNK> script focuses <UNK> on <UNK> path to redemption as his <UNK> lifestyle is thrown into <UNK> by influence and by the <UNK> which emerge as a consequence of his developing maturity he <UNK> as an <UNK> <UNK> delivering food to aids patients living at home leading to an unexpected friendship with former party boy <UNK> <UNK> tv's er whose illness provides <UNK> with a much needed wake up call br br <UNK> script is laced with <UNK> one liners and various <UNK> of wisdom on <UNK> your church doesn't like alcohol or <UNK> well i'm definitely not joining i can't imagine heaven without both and the characters are surprisingly ||| complex and well drawn <UNK> has the <UNK> role he's first seen doing something rude to a willing <UNK> but it's who has become something of a gay icon with his sensitive portrayal of a sweet natured innocent whose journey from darkness into light leads to a startling revelation about his place in the world around him he and <UNK> are well matched and their inevitable sex scene brief but memorable is followed by a compelling sequence in which <UNK> describes a childhood trauma which has defined his life to date br br filmed on hi <UNK> video and transferred to <UNK> for theatrical <UNK> the movie's <UNK> budget places limitations on the scope and <UNK> of <UNK> ambitions though the characters and situations are strong enough to survive this minor <UNK> <UNK> <UNK> shines as a <UNK> wise <UNK> at the diner where <UNK> waits tables for a living and joseph gordon <UNK> third rock from the sun steals everyone's thunder as fellow mormon opposed to his friend's relationship with <UNK> on religious principle but only on principle though a little stilted in places the movie with romantic longing and deserves <UNK> for its honesty and compassion best seen with a crowd of like minded viewers preferably with a loved one by your side\n",
      "\n",
      "# 43 , label 0 , prediction 1\n",
      "<START> as an avid gone with the wind fan i was disappointed to watch the original movie and see that they had left out many important characters luckily the film on its own was a wonderful piece when the book scarlett came out i read it in hopes of following two of my favorite literary characters <UNK> on their journey together while the book lacks any true quality it remains a good story and as long as i was able to separate it from the original was and still is enjoyable however i consider the six hours i spent watching the scarlett miniseries to be some of the worst spent hours of my life any of the original character traits so well formed in margaret <UNK> book this series also turned the story of the sequel into one of rape <UNK> murder and relationships that even the book scarlett stayed away from the casting for many of the characters refused to examine the traits that had been so well formed in both the original novel and film and even carried through in the second book and again leaves out at least one incredibly crucial character in the novel scarlett o'hara butler follows her estranged husband <UNK> butler to <UNK> under the <UNK> of visiting extended family after coming to an <UNK> with <UNK> she agrees to leave and proceeds to <UNK> with her o'hara relatives in <UNK> eventually she <UNK> her cousin a passionate leader of the <UNK> to ireland to further explore her family's roots ||| that go deep and is eventually named the o'hara the head of the family while her duties as the o'hara keep her engaged in her town of scarlett <UNK> out into the world of the english <UNK> and instantly becomes a sought after guest at many of their parties she having been <UNK> by <UNK> time and time again eventually agrees to marry luke the earl of <UNK> until <UNK> comes along in a clichéd night on white horse type of a rescue the scarlett miniseries fails even to do this justice raped by her fiancé and <UNK> by her family the series shows scarlett thrown in jail after she is blamed for a murder her cousin committed br br i <UNK> advise anyone considering spending their day watching this to <UNK> this decision\n",
      "\n",
      "# 44 , label 1 , prediction 0\n",
      "<START> having seen rush live i'm able to appreciate the <UNK> of this others may complain of sound problems but it's sometimes over dubbed by the overwhelming screams of 60 000 <UNK> and it goes to show the <UNK> <UNK> gain of attention |||\n",
      "\n",
      "# 45 , label 0 , prediction 1\n",
      "<START> nice movie and tom does a fantastic job playing the guy in the girl's body she really does it well br br a sort of teen version of many other movies but well done br br well casted from matt to |||\n",
      "\n",
      "# 46 , label 1 , prediction 0\n",
      "<START> me and a friends form university <UNK> lopez dave hall <UNK> we <UNK> from uk in 1997 still get together and watch b movies once a month br br we are <UNK> experts in the art of bad movie making and this film was quickly placed in the top 10 of awful brilliant movies br br so if you've just got the beers and <UNK> in and need a film to laugh like a drain at <UNK> <UNK> aka phoenix 2 is the film for you marc singer is totally aware he's in a turkey of a film here and <UNK> it for everything he can <UNK> is sublime in his wooden acting and <UNK> is that a word as he <UNK> but i want my 20 thousand pure <UNK> gold if you liked this also see <UNK> the <UNK> and anything by charles band or fred <UNK> ray but be warned some of their films are completely and utterly without merit and you'll be screaming for those lost hours of your life |||\n",
      "\n",
      "# 47 , label 1 , prediction 0\n",
      "<START> this movie is not about the <UNK> nor is it quite the french connection br br the seven ups are a group of elite policemen that use tactics not in <UNK> with <UNK> of the <UNK> <UNK> heads the group with his <UNK> or regular looking <UNK> they are running <UNK> on a local <UNK> and things go awry when a <UNK> wire is found out br br meanwhile richard lynch the most evil looking man in film invasion america little <UNK> and his partner end up killing the cop by accident and escape from <UNK> in the coolest chase scene i've seen <UNK> and french connection are not as good as they one up the west side to the george washington and onto the <UNK> in new jersey br br the stunt drivers are terrific and lynch makes it away free though he looks scared witless from the dangerous trip roy <UNK> is nearly killed when his car <UNK> into the <UNK> rear of mack truck ripping the roof of his vehicle off br br things come to a head and one has to keep watching to follow up on such a sequence quick moving and intense fresh for a thirty years |||\n",
      "\n",
      "# 48 , label 0 , prediction 1\n",
      "<START> terrible the only way i could even begin to consider it funny is if it made fun of itself amazing it's about an ass that fights crime and he drinks <UNK> how very funny it's funny because where most people put things in their mouth he puts them in himself and now he's getting sexual service from some lady this show is so great that is what i would have to say if i liked the show though i'm sure you can see the obvious sarcasm i've noticed some people have been comparing this show to 12 oz mouse and <UNK> <UNK> why would you even try there's nothing to compare the other two shows actually have some decent character development in conclusion i hate <UNK> i <UNK> at the name of it |||\n",
      "\n",
      "# 49 , label 1 , prediction 0\n",
      "<START> i watched all of the doctor who episodes that my local <UNK> station played while growing up got introduced to the doctor by way of john pertwee as well as camera copies of doctor who sent to america by uk fans to their us counterparts i had a great time w the show but it never seemed to take itself seriously i mean as seriously as a sci fi show about a time <UNK> could be i went to the cons did the costume bit doctor 5 6 and <UNK> were my costume characters loved it then it all came to a sudden halt program politics and lack of interest and funding turned doctor who into a old <UNK> that <UNK> into the <UNK> br br when i heard that the sci fi channel had picked up the new doctor my first thought was cool now my 11 year old son can see what i've been <UNK> on about all these years and know what the heck a <UNK> is i have several phone boxes and of various <UNK> around the house i didn't expect the excellent quality of story character development and f x i was to say the least pleased for the first time i found a doctor that wasn't a <UNK> a clown a <UNK> a trip head a <UNK> or a jerk christopher <UNK> is by far the most believable doctor to date now now calm down tom baker fans don't get me wrong i loved almost every doctor and his ||| quirks but christopher gave something to the doctor that he'd never had before real word believability i'm just sad that he decided against another season i'll try out david <UNK> as i would any other doctor but now the bar has <UNK> br br bad wolf rules br br 2008 update i love david <UNK> his <UNK> persona is something that my generation remembers my son's generation can deal with and fashion <UNK> can relax he's a little more human than christopher but not as as other former doctors i miss rose i dig martha and what were they thinking with donna noble it's still the best ride on tv\n",
      "\n",
      "# 50 , label 0 , prediction 1\n",
      "<START> i watched the first episode and i found it to be a very wooden performance br br i have watched the original from it's early days on big girls <UNK> to the last series on channel seven and kim was a great <UNK> and it's humor is something that most people get br br however in this american version i found it to be dull molly shannon is to <UNK> to be day wardrobe is supposed to be stuck in the 80s with her <UNK> <UNK> while <UNK> <UNK> figure <UNK> clothes isn't as good as what the original <UNK> wore i also found that <UNK> seemed to be <UNK> her belly out a lot she is obviously a australian size 12 where kim should be australian a size 16 18 br br the <UNK> from molly and <UNK> is obviously so scripted and there is pauses where there shouldn't be pauses or the pauses are a bit long as someone suggested there could be a laughter track in there during those pauses it's like molly and shannon are not used to each other there is no mother daughter chemistry br br phil was okay he had the eccentric air around him like <UNK> however craig was to handsome and not the sweet plain humble brett from the aussie version br br i found watching this was like watching a very bad stage play the acting was pretty much wooden and the exaggeration of expressions wore the funny off after ten minutes especially her <UNK> ||| scenes br br to sum up i find this show to be a waste of time the script obviously has been <UNK> down for americans which most on the board say they prefer the original if nbc wanted to show and kim why not pay the producers the money to screen the original br br all i can add is <UNK> you are one smart cookie for not letting the producers use your character of sharon\n",
      "\n",
      "# 51 , label 0 , prediction 1\n",
      "<START> up until around 1970 lucille ball was one great <UNK> she was such a perfect clown i only wish more people could have seen her with bob hope in the facts of life because she could do dry deadpan too as well as slapstick br br yep lucille ball was wonderful until <UNK> br br trying to see lucille ball in <UNK> is physically impossible because there is so much <UNK> on the already <UNK> <UNK> that you'd need <UNK> to see lucille ball in some scenes so even if you see lucille ball in <UNK> you can't really see lucille ball in <UNK> which is a <UNK> br br that's about the <UNK> thing i can say about <UNK> the movie of the musical of the movie of the play this could go on but it started with a perfectly funny book called <UNK> <UNK> giving this a bad rap is like beating a <UNK> so it does not matter that the music is rather than sung most of the songs weren't much anyway there isn't any difference in the first three it's today open a new window and we need a little christmas are all the same song <UNK> should do an album with them they're so big and dull the killer <UNK> if he walked into my life today needs a confident gorgeous voice won a <UNK> for doing it in 1967 that poor lucille ball did not possess when she made this movie true <UNK> can't carry a tune in a ||| bucket either but at least can put over a song br br if you still feel your life is not going to be complete unless you see the movie musical <UNK> notice how there is dancing in it but whenever lucy <UNK> starts to do anything beyond a <UNK> <UNK> the camera cuts away returning right when the number is over and the star poses with the dancers again it's just as well jane got to <UNK> the role of pathetic <UNK> after lucille ball had <UNK> <UNK> fired to ensure no comic originality would <UNK> the star is a stage performer who like carol <UNK> and <UNK> can't scale down her performances for films so she joins lucille ball in being embarrassing though for different reasons br br the lavish <UNK> are by van van <UNK> and they provide the color missing in all but one of the cast br br <UNK> arthur as the actress vera charles best friend ignores everyone and does her own fun thing if only she was in more scenes she's too old for her role too but at least she didn't it\n",
      "\n",
      "# 52 , label 0 , prediction 1\n",
      "<START> spoilers beware <UNK> is a fair movie in my opinion some things do confuse me about it e g <UNK> asks alex how long it took for her to get so good at dancing alex replies about 25 years isn't alex supposed to be 18 and some things do <UNK> me about it i loved the <UNK> overall though it intrigued me when this movie was made i wasn't even born i didn't really experience the eighties i was born in <UNK> and i have to wonder sometimes alex would just run in place a bit or throw herself all over not really dancing just <UNK> in to things <UNK> her head back and waving her arms was this considered dancing back then if it was i'm not sure i could've it the <UNK> the flip the fluid movements were great but some of it my <UNK> <UNK> could've done better also if alex is a during the day wouldn't she be tired after a hard day's work when she doesn't go to work for nearly a week wouldn't she be laid off living in a warehouse i can almost see it but not quite it doesn't seem right that she's a owns a warehouse house and is trying to get into ballet none of it really makes sense i shouldn't be too <UNK> considering my own background but please maybe jennifer <UNK> is too feminine for me to see her as a i don't know but either way they could've picked a better actress ||| the actors were fine i even liked the romance you make your own decision but mine is rent it once don't see it again it isn't worth it\n",
      "\n",
      "# 53 , label 1 , prediction 0\n",
      "<START> i was never in the past interested in this play although love shakespeare and have seen most of his plays now and <UNK> studied some at school something about this story and all the fuss about it seemed to put me off i never bothered to try to see hamlet until fairly recently deciding i should at least try to watch it and i borrowed the olivier version from the library well i <UNK> with it olivier seemed far too old not only in his looks but in his acting of the part the play had been enormously cut to fit a more conventional movie length and i think must have missed out too much as i found it difficult to concentrate on it soon became bored and annoyed by it i still think <UNK> henry v is the best version i've seen of that rousing play <UNK> admit i haven't <UNK> the <UNK> version yet and can't recall how it was when first shown br br i heard of the branagh full length version of hamlet although i enjoyed his much <UNK> i think the <UNK> version is far better and i wasn't entirely impressed by his henry v but i was off branagh a bit after seeing his disappointing effort at a musical of <UNK> <UNK> lost which is a play i like and was so well made by the <UNK> br br finally <UNK> the complete <UNK> shakespeare on dvd recently i soon <UNK> one of my most favourite shakespeare plays richard ||| ii and was simply enthralled by <UNK> in the part so was immediately <UNK> to watch his hamlet next what a revelation this play now is for me yes it is splendid but i feel it needs an actor you can with to play hamlet and this for me is <UNK> amazing intriguing to note that although he is older than i understand the character hamlet was it doesn't show whilst in olivier it did now i note he's also in the branagh version and had much to do with training branagh so i shall have to watch that to see what does with <UNK> i'm interested to discover <UNK> has trained branagh as yes you can certainly see the influence br br and now i'm going to watch it all over again\n",
      "\n",
      "# 54 , label 1 , prediction 0\n",
      "<START> <UNK> little <UNK> really <UNK> itself from other zombie movies first off all of the zombies in the movie don't exactly starting biting at you and <UNK> your flesh apart with their bare hands they kill you with either a or <UNK> and eat you after <UNK> second they can't die in most zombie movies you can shoot a zombie in the head and kill them but these simply won't die third which is the biggest reason why this movie <UNK> itself all of the zombies are children how did they die exactly to become zombies they were working in a coal mine when suddenly they were all killed in a collapse now they wander the forest carrying their <UNK> and <UNK> waiting for someone to come by so they can kill them and eat them oh they also come out at night yep only at night that makes the movie even more fun then it would be if they came out in the morning despite all of the violent and gory mayhem in this movie <UNK> little <UNK> is a great choice if you're looking for a movie about zombie children don't expect anything great like <UNK> of the <UNK> or <UNK> of the <UNK> but do expect lots of gore and violence that makes this movie a real zombie fan <UNK> everyone give <UNK> taylor <UNK> from rob <UNK> <UNK> a big hand for delivering a great performance like the one she did in <UNK> she really needs to start starring in more ||| horror movies\n",
      "\n",
      "# 55 , label 1 , prediction 0\n",
      "<START> from the director of <UNK> comes this slick vampire flick <UNK> ho song stars as a priest who is accidentally changed into a vampire while being <UNK> of a deadly mysterious virus his <UNK> and <UNK> are quite at conflict but he is able to survive by robbing the <UNK> blood bank and unconscious patients who might not mind some blood because of his supposedly <UNK> survival he comes into the lives of ha <UNK> <UNK> family shin has cancer and his mother believes that song can cure it unfortunately <UNK> <UNK> raises his levels of lust to a height where he can't help but fall for <UNK> young wife ok <UNK> kim kim is intensely interested in the world of <UNK> and the two become lovers the film from there goes in weird directions that i think one should experience for themselves what really should be mentioned is chan <UNK> <UNK> <UNK> of the medium of cinema my god i've rarely seen such a masterful visual artist at the peak of his powers the major flaw of the film is that it's a little incoherent especially near the beginning park is interested in telling his stories mostly in the visuals which can be difficult to follow at times but when it works man does it fly the film is also <UNK> hilarious the final sequence easily one of the best of the decade is simultaneously heartbreaking and delightfully ridiculous ok <UNK> kim should become a worldwide star after this film she gives one of ||| the best performances of the year\n",
      "\n",
      "# 56 , label 1 , prediction 0\n",
      "<START> wesley is young <UNK> brian foster who's invented a new crime <UNK> security device in the form of a robot dog the titular c h o m p s it stands for <UNK> home protection system c h o m p s who's been <UNK> after <UNK> real dog <UNK> can do just about anything he's got enhanced speed strength x ray vision and the like it's just the thing to save his boss ralph <UNK> conrad <UNK> security company naturally a slimy <UNK> <UNK> jim <UNK> wants the edge so he tries to get his hands on the secret br br this is the kind of thing that's just too hard to resist it's got plenty of slapstick chuck <UNK> and red buttons play a great pair of bumbling idiots an upbeat attitude an engaging cast and enough good laughs to keep one entertained the energetic disco style music gets repetitive but is undeniably catchy the story is straightforward and the dogs themselves are absolutely adorable in one thoroughly odd but side splitting touch there's another dog in the film named monster whose thoughts we actually get to hear both his dialog and the performer doing the voice are priceless in fact he even <UNK> some mild profanity and his last words end the film on a positively gut <UNK> final note br br and the cute valerie <UNK> are very likable young leads and their veteran supporting cast plays the material with all the gusto they can <UNK> larry bishop <UNK> <UNK> robert ||| q lewis and <UNK> <UNK> also co star br br a rare theatrical live action venture for the cartoon creating team of <UNK> <UNK> 'the <UNK> <UNK> 'the and so on c h o m p s is <UNK> silly stuff i know it left me with a smile on my face br br 7 10\n",
      "\n",
      "# 57 , label 1 , prediction 0\n",
      "<START> spoilers br br i don't care what anyone says this movie is <UNK> hilarious this is the sequel to jack frost a movie about a killer snowman the snowman is created when a convicted serial killer about to be executed is taken to the execution chamber but the truck crashes with a truck carrying <UNK> manipulation <UNK> that make human <UNK> bond with dirt or in this case snow the first movie was just boring and eventually the snowman is destroyed by <UNK> <UNK> on him br br or so they thought br br this movie takes place about a year after the second some scientists <UNK> jack frost by mixing the <UNK> with <UNK> no explanation is ever given for why they do this they just do meanwhile the who arrested frost in the first is going to the <UNK> unfortunately the snowman comes with him br br this movie has it all it has talking <UNK> that can stand up ice <UNK> that explode when you stick them in your mouth and killer <UNK> yes killer <UNK> they even say <UNK> like babies i'll have to give the makers of this credit the <UNK> are some of the <UNK> little things ever <UNK> up i wish that i could get one as a pet frost finally <UNK> the island as if a killer snowman has the ability to influence major weather <UNK> br br then there's the actors there's manners the fbi agent from the first movie except here he's wearing an <UNK> ||| <UNK> me <UNK> i be an fbi agent and then there's the stereotypical british <UNK> and the stereotypical black <UNK> with <UNK> and finally captain fun the man on the face of the planet bar none br br this movie isn't scary but is is hilarious i laughed my butt off the whole way through and i recommend this for anyone who likes a good bad movie br br out\n",
      "\n",
      "# 58 , label 1 , prediction 0\n",
      "<START> watching stranger than fiction director marc <UNK> the <UNK> runner is the cinematic equivalent of eating your <UNK> because this art house epic rated pg 13 is good for your movie going <UNK> no this isn't the kind of movie that i like to <UNK> on the couch and <UNK> at the end of a tough day the <UNK> runner isn't your typical mainstream movie designed to entertain you and make you forget about your troubles first no celebrity stars appear in it second nothing is cut and <UNK> black or white or so outlandish that you don't believe an image that you see third the <UNK> runner <UNK> into subtitles when the characters occasionally speak in their native tongue fourth <UNK> film isn't a romantic <UNK> about boy wants girl boy loses girl and then boy wins girl back fifth this foreign language film may make you feel uncomfortable and challenge your <UNK> about life friendship and survival the chief themes here are <UNK> and redemption the protagonist commits a cowardly offense in the first half of the action that he must <UNK> for at the cost of his own personal safety and integrity right the <UNK> runner is about redeeming <UNK> for the sins of the past we're talking about personal <UNK> so don't rent or buy this wonderful movie for a boy's night out celebration or something to take the bad taste of the day out of your system based on <UNK> novel this <UNK> <UNK> melodrama about right and down initially ||| looks like one of those light hearted friendship movies about <UNK> in the vein of the adventures of tom <UNK> and the about a half hour into its <UNK> minutes this <UNK> about two youngsters who fly <UNK> in afghanistan turns dark and <UNK> nevertheless if you can handle the remaining hour of the plot you'll emerge <UNK> <UNK> and perhaps even entertained br br the <UNK> runner opens in san francisco in the year 2000 as our protagonist <UNK> <UNK> <UNK> jan of united <UNK> and his wife <UNK> of the <UNK> receive two boxes of published copies of first novel no sooner has <UNK> had a chance to in his triumph of a life time as a <UNK> than the phone <UNK> him from his <UNK> and he is drawn reluctantly back into a past that is best left forgotten for him khan shaun of the <UNK> story calls <UNK> from <UNK> to make a request was a servant in household back in the 1970s when <UNK> lived with his wealthy <UNK> father <UNK> of a taste of <UNK> in afghanistan before the soviet invasion you have one more chance to be good informs <UNK> without sugar <UNK> his request basically wants <UNK> to fly to <UNK> and then enter war torn afghanistan and rescue young <UNK> ali danish <UNK> who is being held a prisoner against his will as a sex slave for newcomer <UNK> a cruel <UNK> <UNK> and once <UNK> <UNK> br br the <UNK> runner shifts from san francisco in 2000 to an extended flashback set in <UNK> in 1978 when life was <UNK> twelve year old <UNK> and the son of his father's servant <UNK> ahmad khan love to watch movies such as john <UNK> western the magnificent seven when they aren't flying <UNK> incidentally this is <UNK> flying like you've never seen <UNK> flying not only do the kids fly them but they also compete with other kids to see who can cut the strings of another kid's <UNK> the <UNK> fighting flight scenes generate the same kind of excitement that the dog fighting scenes had in tony scott's top gun <UNK> is best friend but unlike <UNK> <UNK> belongs to the <UNK> minority earlier young <UNK> and <UNK> had a confrontation with young and his two was about to beat them up but <UNK> pulls out his <UNK> and threatened to use it on had no choice but to back down meanwhile <UNK> was prepared to suffer the hand fate had dealt him father <UNK> <UNK> his son's lack of spine and fears that he will grow up half of a man because he is a coward unlike the <UNK> little <UNK> who <UNK> <UNK> out of <UNK> anyway <UNK> and <UNK> emerge from the showdown with without a scratch later after <UNK> sets a new record with his <UNK> flying and fight skills <UNK> runs after a <UNK> to claim it <UNK> is the eponymous character referred to in the title <UNK> claims the fallen <UNK> but he finds himself at the mercy of and his two <UNK> lets <UNK> kept the <UNK> but his <UNK> pin <UNK> spread eagle belly down in an alley while <UNK> the youth worst a traumatized <UNK> watches the assault from nearby but lacks the courage to <UNK> on behalf of his friend who would have <UNK> for him br br aside from the extraordinary <UNK> scenes with the <UNK> the <UNK> runner is down to earth straight forward stuff when <UNK> returns to afghanistan to rescue he <UNK> as a <UNK> fighter but he doesn't carry a <UNK> the rescue scene in the <UNK> runner is rather like the escape scene from the midnight express while <UNK> doesn't explore the local politics or <UNK> us into the ethnic and cultural issues at stake here indeed <UNK> <UNK> david had to eliminate some parts of the book and the racial and ethnic prejudices aren't clearly <UNK> so you have to accept some things on faith <UNK> <UNK> the film in nearly china to give it an authentic look <UNK> deserves credit for making this two hour plus epic fascinating the performances especially by the children stand out for their believability the <UNK> runner is a film that you won't easily forget\n",
      "\n",
      "# 59 , label 1 , prediction 0\n",
      "<START> scooby doo and the monster of mexico was no doubt the weakest of the modern scooby doo animated features <UNK> <UNK> monster is a considerable improvement br br this time the gang head off to scotland to see the <UNK> games and visit blake castle <UNK> <UNK> home and wouldn't you know the castle happens to be in the <UNK> fishing village of on the <UNK> of <UNK> <UNK> br br during their stay they meet a few interesting folks first there is <UNK> a scientist who has drowned all of her money into finding the <UNK> <UNK> monster br br sir ian the boss of the national <UNK> museum of scotland he is <UNK> non believer of br br the the own a <UNK> <UNK> on the <UNK> of the <UNK> the sons are a couple of local <UNK> always into <UNK> br br del a wild paranoid hippie dude who is convinced the monster is out there and will stop at nothing on find her br br and finally <UNK> the <UNK> master who has seen too many times to count br br most of these characters are stereotypes which gets a bit annoying as this is teaching younger audiences a load of crap and giving the wrong impression however if you can <UNK> yourself to it you'll be alright being from scotland i can't help but <UNK> at the awfully <UNK> scottish accents fact we don't sound like that br br soon enough looking rather more demonic than shows up and causes ||| havoc looks like the gang have another mystery on their hands the usual chase scenes clues and <UNK> wacky <UNK> follow there are plenty of laughs the animation is splendid with some atmospheric scenes and locations and the plot a lot better than monster of mexico br br the only bad thing this time around is the music i miss louis <UNK> and the songs here are pretty rotten too where are the <UNK> girls when you need 'em br br the region 2 dvd is in crystal clear 1 <UNK> 1 <UNK> widescreen the region 1 ain't with <UNK> 5 0 sound some okay extras are included definitely worth getting\n",
      "\n",
      "# 60 , label 0 , prediction 1\n",
      "<START> the film is somewhat entertaining but the greatest feature is <UNK> <UNK> laughable performance it has been 4 years since this movie was released and hopefully harlow has gone through more training perhaps she should stick to the more <UNK> somewhat characters that she has generated in other performances |||\n",
      "\n",
      "# 61 , label 0 , prediction 1\n",
      "<START> not confusing in the sense that gee this movie is really complex and thus hard to follow but confusing in the sense that gee this movie really has no idea what it's doing br br dream of a warrior is a hong kong south korean collaboration but it's all utter nonsense a movie about parallel <UNK> mixed in with time travel mixed in with love story mixed in with silliness br br the film has the type of concept that <UNK> the mind again not <UNK> the mind because it's so great and complex but <UNK> in the sense that it's so ridiculous and one can't <UNK> of anyone ever coming up with such an awful premise to begin with br br nothing in dream of a warrior makes sense and that's because the whole movie should never have been made it is quite awful the only saving grace is the actress who plays the female warrior not the female lead br br 3 out of 10 |||\n",
      "\n",
      "# 62 , label 1 , prediction 0\n",
      "<START> well i expected for all the hype and oscar nominations an epic civil war drama something with the <UNK> of the english patient given the same director this film isn't of epic stature but it turns out i was <UNK> it wasn't it's a love story in the midst of the horrors of war where young men are sent off to fight are <UNK> and killed and the women and children at home are left to <UNK> for themselves while the men are gone br br anyway i thought nicole kidman and <UNK> were pretty decent and not knowing much about jude law he was all right also it seems <UNK> z had the more fun part of the 3 leads and was able to <UNK> play a spirited <UNK> <UNK> woman with much <UNK> also for me it was good to see actress kathy baker someone's who's talent needs to be more recognized acknowledged br br this film is worth seeing this i'm can't <UNK> why really but maybe because it is a slice of <UNK> br br |||\n",
      "\n",
      "# 63 , label 1 , prediction 0\n",
      "<START> president harry s truman once said that the only thing new in the world is the history you don't know br br seven years before richard superb <UNK> prize winning the making of the atomic bomb the bbc produced a seven part miniseries <UNK> that was a character study of the people who designed and built the weapon that <UNK> in the atomic age <UNK> joining science and technology to the state and in particular the military not merely making history but changing the world forever br br the production is impeccable the casting nothing short of <UNK> not only the main characters but even secondary characters bear uncanny <UNK> to the persons portrayed in particular are sam <UNK> in the title role of american <UNK> j robert <UNK> scientific director of the manhattan project who was based at the los laboratory the site for which he personally chose <UNK> <UNK> as general leslie r who <UNK> the entire manhattan <UNK> district the <UNK> name david <UNK> as <UNK> and ultimate nemesis of <UNK> edward <UNK> who nearly forty years later <UNK> into ronald <UNK> ear and brought us the <UNK> defense <UNK> star wars and <UNK> <UNK> as kitty <UNK> the attention to detail is uniformly excellent throughout br br part thriller part love story and ultimately a tragedy this series <UNK> <UNK> a chapter in world history and that of science that we dare not forget highest recommendation br br note viewers who enjoy this series will also enjoy <UNK> 13 part series ||| the <UNK> of man and the bbc film of michael play <UNK>\n",
      "\n",
      "# 64 , label 1 , prediction 0\n",
      "<START> have pulled yet another beauty out of a seemingly <UNK> bag of great games if any further proof was required that they rule this genre of <UNK> then this is it before actually playing the game there was a little concern about how the writers were going to keep up the pace of gags after the first two games fears were <UNK> that it was going to wear a bit thin br br play the game and see how quickly those fears are from the <UNK> video with in the boat to the closing stages in the <UNK> the jokes just keep on coming i was a great fan of the first two games and the other works day of the <UNK> sam max etc and this one does not fail to deliver the quality you will not be disappointed well i wasn't |||\n",
      "\n",
      "# 65 , label 0 , prediction 1\n",
      "<START> the <UNK> is a spoof on inspirational sports movies and let me just tell you it is not a good one tom brady the director probably found it hilarious that <UNK> sports films from <UNK> gang <UNK> and even miracle to the longest yard and <UNK> yes <UNK> and <UNK> in a couple of sex jokes would be the funniest thing since airplane well he was wrong they did such a <UNK> job you'd thought it was written in a week i have found it that if a director loves the genre the movie will be good obviously brady does not love the genre he is <UNK> this movie is a <UNK> piece of garbage not worth viewing so don't see it |||\n",
      "\n",
      "# 66 , label 0 , prediction 1\n",
      "<START> yes we all know about dan <UNK> odd little fascination with making shows with young kids and is no exception see young girls <UNK> their <UNK> and stick their <UNK> out for the camera and wear skimpy clothes and <UNK> yes it makes you wonder if these shows were made for teens or for some older <UNK> crowd either way the show isn't that good when compared to dan other shows like the far superior amanda show drake and josh br br the show is about a brother and sister <UNK> and spencer living alone and having to get by on their own while their father is off in the army and their mother is strangely absent from their lives <UNK> has a mean spirited friend named sam and they do a very well produced award winning web show called with their little school friend <UNK> the episodes deal with their lives in and around the web show and their hi <UNK> at school br br <UNK> is a young all knowing web personality business woman producer played by miranda <UNK> a young actress who relies on talking very very <UNK> and fast to get her point across and making odd faces her brother spencer is a somewhat mean spirited dim wit and eccentric artist played by jerry <UNK> who tries a bit to hard to be like jim carrey and whose comedy style seems to be aimed at the young male audience who'd like this type of joey <UNK> humor then there's sam <UNK> ||| an unlikable mean little lying thief of a brat who needs an attitude <UNK> played by <UNK> <UNK> who clearly wears hair <UNK> as you can see them disappear then <UNK> from scene to scene and finally there's <UNK> benson the web shows nerdy cameraman and technical <UNK> who has a major crush on <UNK> but will obviously get nowhere with her who's played by nathan br br other secondary characters come and go such as mother grandfather annoying teachers and many of their annoying little school friends to round out the cast most of the comedy is mean spirited like blowing up the <UNK> as a gag throwing a water balloon at a teacher and knocking over the table of young girl <UNK> selling <UNK> all of the adults come off as complete idiots while the children are all knowing and certain main characters have absolutely no morals lying cheating stealing and violence all are acceptable in this children's show created and written by dan schneider yes it's a children's show what more could the young viewers ask for well with dan schneider we can expect to have the young girls dress in tight clothes and <UNK> and do some odd things like sticking their <UNK> out for the camera and eating br br shows like this are just what the young crowd likes though and i guess no worse then any of the other garbage nick <UNK> at its young crowd there's always fans to be found for anything seen on tv at least this is a bit better then most of the stuff seen on nick like that horrible naked brothers show\n",
      "\n",
      "# 67 , label 0 , prediction 1\n",
      "<START> i was only <UNK> when i first saw the alien movies and i immediately came to like it original terrifying and classic <UNK> weaver was the perfect choice for the female hero character and she would have deserved a <UNK> for her act in 1979 something <UNK> was born than the immortal series continued with a nothing less legendary movie than the first was a different point of view but i think this part was the most <UNK> and unique of all this was my favourite unfortunately the last one was a failure in many ways it was strained illogical with full of meaningless <UNK> i didn't like it at all but i never thought that a worse part would ever be made in the future well as it turned out in 2004 i was wrong alien vs predator was a bad break and it should have been directed by a more talented director or should have never been made at all but when i saw alien vs predator <UNK> i was totally shocked moreover <UNK> when i sat down and decided to watch it with full of doubt even than i had never thought that such a bad movie could be made without a screenplay without a director and without actors i don't understand how can a film be made because this film misses these three terms what you get is a nice massacre show without a story but with a lot of annoying and boring dialogues waste of money and waste of time ||| this movie is rather <UNK> than honor to the fans of the both sides alien predator shame\n",
      "\n",
      "# 68 , label 1 , prediction 0\n",
      "<START> victor <UNK> the viewer into life's lower depths for much of its running time with grim scenes of alcoholic <UNK> family violence and <UNK> despair but the most memorable <UNK> involve the <UNK> image of death itself here death is <UNK> as a ghostly horse drawn <UNK> driven by a wretched <UNK> who was the last person to die on the previous new year's eve for one year the <UNK> must collect the souls of the newly <UNK> and after twelve months of this horrible <UNK> the <UNK> own soul is finally released when the last person to die on december <UNK> becomes the new driver br br the scenes involving this <UNK> the film was known as the phantom <UNK> or the phantom <UNK> in english speaking countries are eerie and mesmerizing <UNK> double exposure cinematography that was quite sophisticated for its time and still effective when seen today most strikingly the <UNK> travels to the floor of the ocean to collect the soul of a person who drowned as fascinating as these scenes are however the bulk of the film is concerned with the <UNK> spiral of david <UNK> played by the director himself in an understated portrayal of a man who has given up on the possibility of living a decent life in flashbacks we see <UNK> enjoying a pleasant day at the beach with his wife children and brother and he appears to be a perfectly ordinary guy abruptly without <UNK> or explanation we then see <UNK> as an alcoholic wreck ||| in trouble with the law and <UNK> from his family <UNK> this leap from before to after might feel like a story telling <UNK> but in this case the filmmakers trust us to fill in the familiar <UNK> details on our own it's suggested that <UNK> has been led <UNK> by his friend georges the drinking companion who first relates the tale of the phantom <UNK> but whatever the cause of his downfall <UNK> appears to be a lost cause a mean spirited drunk who takes perverse pleasure in <UNK> pain on his family and in <UNK> to <UNK> br br while david <UNK> is our central figure the story's true <UNK> is a young salvation army nurse who takes a sympathetic interest in his case and <UNK> believes in him despite his hateful behavior when the nurse herself is dying <UNK> due to her <UNK> on <UNK> behalf she demands to see him and thus inadvertently sets in motion a chain of events that will result in his <UNK> br br at times this film resembles <UNK> tale of scrooge in its use of ghostly <UNK> who inspire a deeply flawed man to take stock of his life suffer over his and <UNK> i was also reminded of <UNK> drama <UNK> in which a man returns from jail to find his house empty and his family gone a sequence <UNK> here the director also <UNK> a standard theme of <UNK> <UNK> found earlier in his <UNK> hans a k a the outlaw and his wife <UNK> that no man can <UNK> his fate this time however it could be <UNK> that david <UNK> actually succeeds in <UNK> his seemingly inevitable fate for he's given an unexpected second chance to make <UNK> br br viewers expecting a <UNK> into the supernatural will appreciate the sequences featuring the phantom <UNK> of the title but may not be prepared for this film's painful examination of a troubled man's alcoholic downfall but those with a taste for intense and powerful silent drama will appreciate in its entirety it stands with the best serious cinema of its era and is certainly one of most accomplished works\n",
      "\n",
      "# 69 , label 1 , prediction 0\n",
      "<START> i just saw this movie tonight <UNK> <UNK> 2005 for the first time i wanted to watch it cause i saw the basketball <UNK> <UNK> <UNK> <UNK> and loved that but this was far more heavy going i think it had a good depiction of drugs to an extent i empathize mostly with nick character probably because if i someone i was crazy about was on that stuff i'd want to help them get off it a promising student and <UNK> who spends all his time training and studying well it's understandable that he'd want to try teenage life the crazy side of it and in his efforts as what begins is helping his friend he ends up addicted because he wanted to see what it is all about and because of his horrendous family situation which results in his most tragic death a truly sad film but one flaw i noticed is that you don't get a good enough insight into the damage it does to families but apart from that excellent performances on a truly heartbreaking movie |||\n",
      "\n",
      "# 70 , label 1 , prediction 0\n",
      "<START> i think that just sums up this film watch it and you'll find out why the acting of the lead character john is really really bad and he has no on screen charisma whatsoever it's very funny because of this thought as is the ending where <UNK> the bad guy despite the fact he is <UNK> and has <UNK> brilliant |||\n",
      "\n",
      "# 71 , label 1 , prediction 0\n",
      "<START> i'm not sure as to call this movie a children's drama or a fantasy film when i first watched this i couldn't really make out the ending and that's the only part of movie that's seemed to lack depth and left me a bit depressed for awhile then i watched it a second time and realised how great the acting was and was clueless as to why it received the <UNK> attention it did at the time br br unforgettable performances by the young and wood should have made this film a classic br br although the it was probably intended to be a fantasy drama by the original writer director evans once <UNK> took over he presumably made it with a more <UNK> <UNK> especially the ending which left a lot to be desired as to what really happened to bobby was he killed did he escape really do all those fantastic <UNK> or was it just an imaginary story woven by hanks to prove a point to the kids br br but in all it didn't provide the closure of a happy ending that we are so used to in a children's film perhaps it's because it's not just that br br to see what may have been a more classical ending check out the official <UNK> wood site where you'll find the first rough draft script of the conclusion of the movie presumably by the original writer br br also a note of the music by hans <UNK> which is one the ||| best <UNK> i've ever heard a mixture of childish and dark sentiments throughout the movie a great cd to get hold of if you can br br\n",
      "\n",
      "# 72 , label 0 , prediction 1\n",
      "<START> now i know why this movie can be bought for so cheap at the video stores i was curious since it had three big name stars yet was among the <UNK> movies that the video apparently can't even give away the answer is it is a film that would attract a very limited audience an over 50 crowd with very liberal sensibilities br br who else who watch robert redford willem dafoe and helen <UNK> give essentially a basic message that cheating on your wife is okay so long as you still love her that's the nice feel good message here particularly at the end at the end of this strange kidnapping story who wrote this script bill <UNK> br br i say strange because the <UNK> is the <UNK> <UNK> dafoe you've ever seen except at the end he his hostage redford frequently which no <UNK> would risk has casual conversations about family matters etc it's all ludicrous well the l a times says it's an intelligent thriller ha ha well that <UNK> what most people know of the l a times for those of you who believe that and haven't seen it i won't spoil it with more of the gigantic holes in this story particularly at the end the fact is it's an insult to anyone with intelligence br br anyway you can't fool all the people all the time as critics have yet to figure out here is another film they <UNK> that <UNK> bombed at the box office and video ||| store\n",
      "\n",
      "# 73 , label 1 , prediction 0\n",
      "<START> even for sci fi this movie is movie is a little out there alright more than a little my first thought after watching it was that i had just lost my mind br br don't watch this movie expecting another <UNK> <UNK> fans are never going to like another richard kelly movie because of their freaky cult standards <UNK> <UNK> is a thing of the past get over it br br richard kelly loves making movies that make you feel stupid for not understanding the <UNK> the first time you watch them to be honest i had to watch the box twice before i liked it br br the deeper meaning to spare you a bunch of <UNK> psycho <UNK> humans are self serving we make decisions that can destroy our lives and don't open mail without a return address br br summary creepy old man tells diaz if you push the button i will kill someone you don't know and give you a million bucks of course she pushes it and as promised by the creepy old gets a case of money then the movie takes a dive into the unusual to spare my fingers the <UNK> for pushing the button diaz and her husband are cursed by supernatural alien beings in an elaborate experiment to gage the morality of the human race br br i liked the <UNK> of the movie to ignore the generic movie <UNK> its different its intense it has a deeper meaning although its philosophy 101 material it leaves ||| you guessing not a hollywood ending br br i disliked why would any being with the technology to <UNK> another life form <UNK> such a ridiculous scheme what god like alien has the patience for that diaz was good but was there a need for the country accent they live in virginia br br i give it a 7 because kelly didn't put as much attention to detail as with his other movies overall good flick\n",
      "\n",
      "# 74 , label 1 , prediction 0\n",
      "<START> what is it about certain films that <UNK> such polar opposite reactions br br some people here have called high roller disgusting some have called it extraordinary as would i actually br br why i think it's because films like this don't make heroes out of <UNK> or <UNK> out of <UNK> and some people just can't deal with that emotionally they need a hero and i'd also add that if they're <UNK> or poker players they might feel personally betrayed when their existence isn't justified br br high roller in not a poker movie it's a people movie it's not perfect but it looks good is well written and wonderfully acted and best of all it <UNK> an emotional response and <UNK> reflection br br and maybe that's what makes some people so damn mad |||\n",
      "\n",
      "# 75 , label 1 , prediction 0\n",
      "<START> this movie is really sick and funny i have made my friends cringe describing it to them i saw it about 8 months ago and i still have the song <UNK> we gather at the <UNK> <UNK> through my head br br so basically it is a romeo and juliet but it goes beyond what you would expect let's just say incest references to child <UNK> gore of course but unfortunately has a sort of happy ending sort of it's more weird than happy <UNK> <UNK> was brilliant he has this sort of intellectual <UNK> tone he's abusive but <UNK> he quotes more shakespeare than anyone else in the film all while engaging in his sadistic role as a husband and father br br the meat guy was pretty cool too he was fiancé deeply <UNK> with her and soon to be <UNK> because of <UNK> and <UNK> a true romantic he's a handsome really sweet guy desperate to find true love <UNK> <UNK> make <UNK> to burn <UNK> ' unfortunately troma just had to resort to that awful fake green vomit and their other antics they really get carried away with that stuff sometimes but hey this film made a great impression on me how often do i refer to it in real life situations wow that's pathetic br br anyway enjoy |||\n",
      "\n",
      "# 76 , label 1 , prediction 0\n",
      "<START> i own a video store with hundreds of documentaries i have seen loads of them and love all of the great info out there only a small handful though even come close to offering info as important as this one i have been reading through other peoples reviews of this film and can't help but notice that the main things people are <UNK> are irrelevant such as it is very one sided such a pathetic criticism every where in society that you look you will see the other side and if you still need help go to com it is the same people over and over uh one might be led to believe that these people are the experts so maybe they are the best people to interview filming style is all the same head shots with few exceptions if you want flash and <UNK> watch micheal moore if you want info watch real <UNK> such as this one as you can <UNK> see none of these complaints have any relevance to the information contained my guess is that these people are just missing the point and don't wanna give up there <UNK> br br my recommendation watch it learn from it and continue your education about such subjects it is very important stuff for everyone |||\n",
      "\n",
      "# 77 , label 1 , prediction 0\n",
      "<START> based on an actual story john <UNK> shows the struggle of an american doctor whose husband and son were murdered and she was continually plagued with her loss a holiday to <UNK> with her sister seemed like a good idea to get away from it all but when her <UNK> was stolen in she could not leave the country with her sister and was forced to stay back until she could get i d papers from the american <UNK> to fill in a day before she could fly out she took a trip into the countryside with a tour guide i tried finding something in those stone <UNK> but nothing <UNK> in me i was stone myself br br suddenly all hell broke loose and she was caught in a political revolt just when it looked like she had escaped and safely <UNK> a train she saw her tour guide get beaten and shot in a split second she decided to jump from the moving train and try to rescue him with no thought of herself continually her life was in danger br br here is a woman who demonstrated spontaneous <UNK> charity <UNK> her life to save another patricia arquette is beautiful and not just to look at she has a beautiful heart this is an unforgettable story br br we are taught that suffering is the one promise that life always keeps |||\n",
      "\n",
      "# 78 , label 0 , prediction 1\n",
      "<START> ok i will make this review short and to the point for those people whose mental capacity is perfect for watching this movie everybody knows of motion picture association of america's ratings g pg pg 13 r and <UNK> 17 for the purposes of this movie i think the should create a new rating standard iq 20 |||\n",
      "\n",
      "# 79 , label 0 , prediction 1\n",
      "<START> if daphne du <UNK> had set rebecca in 1950s san francisco it might very well resemble this uptight highly unusual noir from robert wise <UNK> <UNK> plays a concentration camp survivor who steals the identity of a dead woman and <UNK> herself into the life of richard who happens also to be the guardian of the dead woman's son it's absurd and over the top but also entertainment <UNK> is terrific slowly falling apart as she realizes the mistake she's made is fine if a bit bland although the lighting toward the end makes him appear very menacing fay baker makes a very good mrs <UNK> like caretaker wise is a fine director and he keeps things moving at a pretty <UNK> clip he also stages a now classic out of control car crash with <UNK> or at least a stunt <UNK> at the wheel |||\n",
      "\n",
      "# 80 , label 1 , prediction 0\n",
      "<START> warning may contain some minor spoilers br br hard to say anything bad about this movie except for one thing br br you don't get to see it much anymore then again maybe that's because you have to be home in the morning or at 3 am to catch it the fox movie channel br br too bad for this is another gem lost to time <UNK> <UNK> takes his <UNK> sour know it all demeanor he had <UNK> as <UNK> sitting pretty and sequels and turns <UNK> br br actually it's like this br br <UNK> plays robert jordan the host of a sunday children's educational program that is losing audience share and the network breaks it to him that he needs to do something about it or else br br part of the problem may be due to the fact that the married host has no children br br <UNK> but as such things happen the local church <UNK> needs a leader for an <UNK> <UNK> of boy <UNK> and finds a willing victim <UNK> <UNK> in the host so jordan he takes the position br br problem solved right br br wrong this being a movie there are other problems br br for example it turns out one of the <UNK> is the son of his boss at the tv station which causes a little <UNK> especially since the kid is overweight has <UNK> as well as an attitude br br and he is the more reasonable one br br also there ||| is this <UNK> <UNK> mike george <UNK> who wants to hang around being the type br br as it turns out the reason is that he has no folks of his own but is cared for by a relative who hasn't much time for him br br it is things like this that makes his job harder than expected br br all in all <UNK> becomes more understanding of kids and not only saves his show but learns a rewarding lesson and eventually even <UNK> mike br br still a great movie after all these years\n",
      "\n",
      "# 81 , label 0 , prediction 1\n",
      "<START> well i got and saw this movie based on the rather high score here 7 1 now and some of the good reviews usually imdb is a good guide when it comes to score though in this case i was very much <UNK> br br the movie is a present day detective story with <UNK> jones as the investigator journalist who <UNK> the death of a construction worker mixed with this is a made up <UNK> novel called the <UNK> set in the 18th or 19th century which also deals with a murder story both story lines are connected through the discovery of an <UNK> <UNK> br br sounds interesting it could have been however this movie horribly fails in a number of areas 1 acting mediocre at best but it is watchable no worse than your average uk sitcom though for a movie one expects a little better especially with a score of over 7 2 music the music used is simply horrible it <UNK> and it is annoying especially the pub music and the music which plays in the <UNK> apartment 3 storyline this is a big joke there are <UNK> plot holes everywhere and even the obligatory love story is so unrealistic that it's almost funny furthermore without going into any detail i can safely say that the ending is absurd and one of the worst pieces of acting and storyline of the year 4 camera work at times camera positions and views are distracting and serve absolutely no purpose to the ||| story br br i'm a bit of a movie fanatic and watch on average 1 to 2 movies a day but this is easily the worst movie i've seen in months don't waste your money or your time on this rubbish\n",
      "\n",
      "# 82 , label 0 , prediction 1\n",
      "<START> this is a family movie set in 1950's rural america about a boy whose uncle <UNK> sheep killing charges against his dog drum starting not only a family legal <UNK> but community <UNK> as their town begins to take sides br br this is formula film that attempts to be very touching and sweet its biggest weakness is that the only people who could really act were scott <UNK> defense lawyer ron <UNK> father owner and the dog john and kathy <UNK> sissy from the original family affair as the uncle and his wife were okay the children were not that good basically they looked like they were acting and that's a problem when the film really revolves around them aaron who plays the bully <UNK> makes me think of what the actor russell <UNK> must have looked liked as a child only with no talent but a lot of ham br br favorite line spoken by the <UNK> after scott <UNK> defense closing trial speech we'll be lucky if they don't lynch us br br favorite line spoken by ron <UNK> after his son punches the bully now making him your friend that will be the hard part br br cute enough to rent buy used |||\n",
      "\n",
      "# 83 , label 0 , prediction 1\n",
      "<START> <UNK> two is a good movie by itself but compared to the original it cant stack up robert stack is a horrible replacement for ted knight and jackie mason while funny just cant compete with rodney <UNK> <UNK> <UNK> is funny being the only character from the original most of the other characters in the movie lack the punch of the original henry <UNK> for example except for the funny lawyer peter blunt being played by randy quaid every line he says reminds me of the originals humor especially the scene at his office i don't go in for law suits or motions i find out where you live and come to your house and beat down your door with a f ing baseball bat make a <UNK> with the maybe <UNK> that golden <UNK> then eat it and then i'm <UNK> upstairs junior and i'm grabbing you by your brooks brothers and <UNK> your brand new <UNK> up your tight a do we have an understanding his small role however is dan who is obviously no replacement for bill murray his voice is beyond irritating and everything he does <UNK> even funny its just stupid overall <UNK> ii is a good movie but in comparison to the awesome original it just cant cut it |||\n",
      "\n",
      "# 84 , label 0 , prediction 1\n",
      "<START> i happened to see this film on a flight from paris to boston and it reminded me of the food on the plane generic tasteless and obscure the french cinema seems to have lost its <UNK> these days and this is a good example of how a <UNK> script can waste brilliant actors while some may find the of the script to be in line with the <UNK> of euro post <UNK> the whole project seems more like a post <UNK> on the death of euro <UNK> golden years and truly fabulous talents one is vaguely reminded here of <UNK> but without the charm or wit |||\n",
      "\n",
      "# 85 , label 1 , prediction 0\n",
      "<START> with the war not going well for the soviet union <UNK> accepted <UNK> from the <UNK> and used the prisoners as shock troops this is the story of one such <UNK> there are petty crooks political prisoners soldiers kicked out of other <UNK> gray haired veterans of the white army plus some dangerous criminals br br they are thrown into battle ill <UNK> <UNK> and face the threat of the <UNK> if they show signs of <UNK> or failure br br the special effects are <UNK> and many of the minor characters are one dimensional but the overall story is very human and riveting br br i have not seen a version with subtitles or dubbing viewing the show required liberal use of the pause button and explanations from a native <UNK> of russian |||\n",
      "\n",
      "# 86 , label 1 , prediction 0\n",
      "<START> there's a sign on the lost highway that says br br major spoilers ahead br br but you already knew that didn't you br br since there's a great deal of people that apparently did not get the point of this movie i'd like to contribute my interpretation of why the plot makes perfect sense as others have pointed out one single viewing of this movie is not sufficient if you have the dvd of <UNK> you can cheat by looking at david lynch's top 10 hints to <UNK> <UNK> but only upon second or third viewing please br br first of all <UNK> drive is downright brilliant a masterpiece this is the kind of movie that refuse to leave your head not often are the comments on the dvds very accurate but it gets inside your head and stays there really hit the mark br br david lynch deserves praise for creating a movie that not only has a beautifully stylish look to it cinematography wise has great acting <UNK> <UNK> <UNK> a haunting soundtrack by <UNK> and a very dream like quality to it but on top of it all it also manages to involve the viewer in such a way that few movies have before after all when is the last time you saw a movie that just wouldn't leave your mind and that everyone felt compelled to talk and write about regardless of whether they liked it or hated it br br <UNK> enough about all that it's time to justify ||| those statements br br most people that have gone through some effort to try to piece the plot together will have come to the conclusion that the first half of the picture is an illusion a dream sequence br br of course that's too bad for all those trying to make sense of the movie by expecting traditional methods in which the story is laid out in a <UNK> logic and linear manner for the viewer but for those expecting that i urge you to check the name of the director and come back again br br <UNK> is the story of the sad demise of diane <UNK> a wannabe actor who is hopelessly in love with another actor <UNK> due to <UNK> lack of talent she is constantly struggling to advance her career and feels she failed to deliver on her own and her parents' expectations upon realizing that <UNK> will never be hers c becomes engaged with adam the director she hires a <UNK> to get rid of her and subsequently has to deal with the guilt that it produces br br the movie first starts off with what may seem as a strange opening for this kind of thriller which is some 50s dance <UNK> contest in which we can see the main character betty giving a great performance we also see an elderly couple which we will see twice more throughout the movie together with her and <UNK> her br br no wait this is what most people see the first time they view it there's actually another very significant fact that is given before the credits the camera moving into an object although <UNK> and the scene quickly <UNK> out if you look closely the object is actually a <UNK> revealing that what follows is a dream br br the main characters seen in the first half of the movie br br betty diane imaginary self used in the first half of the movie that <UNK> the dream sequence a positive portrayal of a successful aspiring young actor the complete opposite of diane was chosen as the name as that is the real name of the waitress at notice that in the dream version the name is br br rita the fantasy version of <UNK> <UNK> that through <UNK> dream and with the help of an imaginary car accident is turned into an <UNK> this makes her vulnerable and <UNK> on <UNK> love she is then conveniently placed in betty <UNK> <UNK> <UNK> home which betty has been allowed to stay in br br <UNK> in real life <UNK> mother in the dream part the woman in charge of the apartment complex that betty stays in she's mainly a strong authority figure as can be witnessed in both parts of the film br br adam the director we know from the second half that he gets engaged with <UNK> his sole purpose for being in the first half of the movie is only to serve as a <UNK> bag for betty diane since she develops such hatred towards him br br aunt ruth <UNK> real aunt but instead of being out of town she is actually dead diane inherited the money left by her aunt and used that to pay for murder br br mr roach a typical <UNK> character not real appears only in <UNK> dream sequence he's a mysterious influential person that controls the chain of events in the dream from his wheelchair he serves much of the same function as the backwards talking dwarf which he also plays in twin peaks br br the <UNK> the person that murders <UNK> this character is basically the same in both parts of the movie although rendered in a slightly more goofy fashion in the dream sequence more on that below br br now having established the various versions of the characters in the movie we can begin to delve into the plot of course i will not go into every little detail neither will i lay it out <UNK> but i will try to explain some of the important scenes in relation to hint sheet br br as i mentioned above <UNK> was re produced as an <UNK> through her improbable survival of a car accident in the first 10 minutes of the movie which left her completely vulnerable what i found very intriguing with <UNK> is that lynch constantly gives hints on what is real and what isn't i've already mentioned the camera moving into the <UNK> but notice how there's two cars riding in each lane approaching the <UNK> br br only one of the cars actually hit the <UNK> what about the other even if they stayed clear of the accident themselves wouldn't they try to help the others or at least call for help my theory is that since this is a dream the presence of the other car is just set aside and forgotten about since as ebert so <UNK> puts it like real dreams it does not explain does not complete its sequences <UNK> over what it finds fascinating <UNK> <UNK> <UNK> br br shortly after rita <UNK> down from the crash site at <UNK> dr and makes her way down the <UNK> and <UNK> into aunt <UNK> apartment betty arrives and we see this creepy old couple driving away staring <UNK> at each other and <UNK> at themselves and the camera this is the first indication that what we're seeing is a nightmare br br although the old couple seem to be unfamiliar to betty i think they're actually her parents since they were <UNK> her at the <UNK> contest perhaps she didn't know them all that well and didn't really have as good a relationship with them as she wanted so the couple is shown as very pleasant and helpful to her in the dream they also represent her feelings of guilt from the murder and <UNK> sense of <UNK> regarding her <UNK> goals in her life br br a rather long and hilarious scene is the one involving the <UNK> diane apparently sees him as the major force behind the campaign trying to pressure the director to accept part in the movie from <UNK> party in the second half of the movie and he therefore <UNK> a major part of her dream because of her feelings of guilt and <UNK> towards the murder of <UNK> a part of her wants him to miss so she turns him into a dumb criminal br br this scene i think is also lynch's attempt at totally <UNK> his audience over since they're given a false <UNK> in which to view the movie br br gotta love that <UNK> just bit me <UNK> line though br br the next interesting scene is the one with the two persons at <UNK> who are having a conversation about how one of them keep having this recurring nightmare involving a man which is seen by him through a wall outside of the diner that they're sitting in after a little talk they head outside and keep walking toward the corner of a fence accompanied of course by excellent music matching the mood of the scene br br when reaching the corner a bum like character with a <UNK> face appears out from behind the corner <UNK> the living crap out of the man having the nightmare this nightmare exists only in <UNK> mind she saw that guy in the diner when paying for the murder so in short her translate into that poor guy's nightmares the bum also <UNK> <UNK> evil side as can be witnessed later in the movie br br the cowboy <UNK> along with the dwarf one of the strange characters that are always present in the <UNK> landscape diane only saw him for a short while at <UNK> party but just like our own dreams can award insignificant persons that we hardly know a major part in our dreams so can he be awarded an important part in her dream we are also given further clues during his scenes that what we're seeing is not real his sudden disappearance etc br br the cowboy is also used as a tool to mock the director when he meets up with him at the odd location the lights here give a clear indication that this is part of a dream also notice how he says that he will appear one more time if he adam does good or two more times if he does bad throughout the movie he appears two more times <UNK> to diane that she did bad he is also the one to wake her up to reality that scene is probably an illusion made to fit into her <UNK> of him appearing twice and shortly thereafter she commits suicide br br the <UNK> scene with the brothers where we can see <UNK> the composer as <UNK> is probably a result of the fact that diane was having an <UNK> just before <UNK> and adam made their <UNK> at <UNK> party in the second half it could at the same time also be a statement from lynch br br during the scene in which they enter <UNK> apartment the body lying in the bed is <UNK> but notice how she's assumed <UNK> sleeping position diane is seeing herself in her own dream but the face is not hers although it had the same wounds on the face as diane would have after shooting herself this scene is also filled with some genuine <UNK> creepiness since diane did not know where or when the <UNK> would get to <UNK> and finish her off she just put her into her own home br br in real life <UNK> audition for the movie part was bad in her dream she delivers a perfect audition leaving the whole crew <UNK> about her performance br br also interesting is the fact that the money that in real life was used to pay for murder now appears in rita purse this is part of <UNK> <UNK> of her terrible act by effectively being given the money back as the murder now hasn't taken place br br when her neighbor arrives to get her piano shaped <UNK> another hint is given she takes the <UNK> from her table and leaves yet later when <UNK> and betty have their encounter on the couch we see the <UNK> appear again when the camera pans over the table suggesting that <UNK> encounter with the neighbor was a fantasy br br the catch phrase of the movie adam is <UNK> actresses for is she is the girl which are the exact same words that diane uses when giving the <UNK> photo resume br br the blue box and the key represent the major turning point in the movie and is where the true identities of the characters are revealed there's much symbolism going on here the box may represent <UNK> future it's empty or it may be a sort of a <UNK> box the <UNK> laughs when she asks him what the key will open either way it is connected to the murder by means of the blue key which is placed next to her after the murder has taken place the box is also seen at the end of the movie in the hands of the <UNK> bum br br club is a neat little addition to further remind the viewer that what s he is viewing is not real it also <UNK> that diane is about to wake up to her reality her reality being a nightmare that she is unable to escape from even in her dreams br br during the chilling scene at the end where the creepy old couple <UNK> diane is tormented in such a way that she sees suicide as the only way out in order to escape the screams and to avoid being haunted by her fears br br anyway that is my 0 <UNK> hope this could help people from bashing out at this movie and calling it 'the worst movie <UNK> or something to that effect without realizing the plot br br as usual lynch is all about creating irrational fears and he certainly achieves that with this picture as well br br 10 out of 10\n",
      "\n",
      "# 87 , label 0 , prediction 1\n",
      "<START> was a big disappointment for me i'd <UNK> how great it was how important it was it just didn't strike me it had a dim witted story line plus some moronic and sadistic native american characters that are offensive by today's standards while most of d w <UNK> films have depth and this one feels more like a formula programme picture br br i loved seeing <UNK> <UNK> and mae <UNK> in pre birth of a nation roles plus some of the staging of the battle scenes were pretty good to future griffith cameraman karl brown audiences were standing on their seats and cheering once the <UNK> comes riding in at the end i felt nothing and me i watching <UNK> early work at <UNK> this film just isn't what it used to be br br the best thing about this film it that for all of it's flaws it has many of <UNK> touches to it he handles his principal actors pretty well plus the scene where the indians are the cabin it reminiscent to the climax of birth of a nation a far superior film that would send shock waves across america a little over a year later |||\n",
      "\n",
      "# 88 , label 0 , prediction 1\n",
      "<START> yes the votes are in this film may very well be the plan 9 from outer space for our generation but whereas ed <UNK> film for all its flaws <UNK> a certain charm despite it all this film <UNK> the word <UNK> to the <UNK> degree in fact i'd suggest to the <UNK> of the <UNK> english <UNK> to <UNK> this movie as a key example defining the that word in the next update to the <UNK> br br <UNK> top is a performer of such abysmal ability that normally rational people that i know once they hear his name become homicidal <UNK> dedicated to wanting to kill mr top as soon as possible indeed if one goes to amazon com and look at <UNK> reviews for <UNK> movie and other performance dvd one will find several that could be <UNK> as death <UNK> to mr top br br one other curious fact about this film i recall that mike nelson the head writer for <UNK> 3000 in his book <UNK> mega cheese about movies good and bad said he saw this film and shortly <UNK> couldn't recall a thing about it including the title obviously mike was suffering a classic reaction to trauma viewing this atrocity was so soul numbing mike nelson had to block it from his mind evidently in a later chapter in his book mike nelson had <UNK> his of this film from the review he offers mike nelson was definitely not grateful for the <UNK> memory br br the only ||| comment i offer about the film and it is not a spoiler it's simply god's honest truth it's not funny none of it is not even a <UNK> of it is funny\n",
      "\n",
      "# 89 , label 1 , prediction 0\n",
      "<START> dead man walking absolutely brilliant in tears by the end you can not watch this film and not think about the issues it raises how can you justify killing whether it be murder or the death penalty and to what point is forgiveness possible not just in a spiritual way don't watch this film when your down but watch it |||\n",
      "\n",
      "# 90 , label 1 , prediction 0\n",
      "<START> 1987 br br director <UNK> <UNK> deep red <UNK> screenplay <UNK> <UNK> and franco the church <UNK> demons photography <UNK> taylor a chorus line <UNK> music <UNK> <UNK> br br story betty <UNK> is the lady <UNK> of a very stylized staging of <UNK> <UNK> opera <UNK> time to shine comes when the <UNK> star breaks her leg before opening night when she is hit by a car running away in a <UNK> the famous curse of <UNK> takes a more sinister and <UNK> turn when right away the body count begins to rise it seems betty gets her first fan via a stalker who ties her up and tapes <UNK> to her eyes to force her to witness the grisly murders of the people around her story 3 of 5 br br acting acting in a lot of these italian films can sometimes be hard to judge english italian french german spanish can sometimes all be in the same flick as they usually speak their native languages making dubbing rule of thumb and hard to judge i usually cut them some slack in the area as a result acting 4 of 5 br br direction giallo <UNK> <UNK> enters again the genre helped <UNK> shows him at the top of his game with an exquisite blend of gore tension and beauty direction 4 of 5 br br visual this has to be one of <UNK> best looking films <UNK> filmed by taylor features some stunning and inventive camera work that keeps the film running ||| fast and hard and keeps the eye candy coming the camera always seems to be in notion whether it is a wonderful shot of the camera going up a spiral <UNK> or a sequence towards the end of a <UNK> eye view of said bird <UNK> the crowd at the opera house visual 5 of 5 br br audio frequent <UNK> <UNK> through his various bands <UNK> and solo effort <UNK> the screen action with <UNK> as his score touches from the classical <UNK> to metal <UNK> with a little help from brian and roger and bill <UNK> and lends music muscle to the <UNK> bloody the sound design give you all that you need from <UNK> to <UNK> fire to screams and masterfully <UNK> on the anchor bay disc in glorious 6 1 for every <UNK> and <UNK> audio 5 of 5 br br technical the editing keeps the film flowing and moving wonderfully combined with the camera work the editing help keeps the surreal dreamy imagery flowing the exquisite opera house is one hell of a location and perfect for staging the horror version of <UNK> one can't end a review of an <UNK> film without having to comment on the kills <UNK> <UNK> characters with glee this time around with a brilliant stabbing sequence crow eye <UNK> and the film highlight of a gun blast through a <UNK> into the eye and out the back of the head shot that once again sends <UNK> ex wife daria to the movie <UNK> priceless technical 5 of 5 br br wrap up a nearly flawless giallo that suffers from a slightly unnecessary <UNK> in switzerland that delivers all the visual thrills that <UNK> fans <UNK> br br overall 4 of 5\n",
      "\n",
      "# 91 , label 0 , prediction 1\n",
      "<START> in the mid 1970s my nyc apt building was finally <UNK> for cable tv and since showtime instead of hbo was the only <UNK> channel offered showing recent movies i signed up for it being a writer and night owl by nature i soon discovered the channel was showing movies late at night and until the wee hours of the morning i'd never even heard of most of them american independent films and foreign films that had never been given a u s theatrical release many of them had recognizable star casts and respectable directors and thanks to showtime i discovered many first rate films i and other showtime <UNK> would never else have had the opportunity to see most of these cinematic were indeed dogs but often so bad they were unintentionally hilarious one night showtime <UNK> a little italian made gem called redneck filmed in 1972 given a limited european release in 1973 even though the movie had never been released in the u s the mpaa rating was listed as an <UNK> since the director was one <UNK> the director who made his name with the glorious <UNK> girl and the three leads were mark oliver lester <UNK> <UNK> and telly <UNK> i decided to give it a try and found myself nailed to my tv screen in disbelief for <UNK> minutes as i recall <UNK> and <UNK> played two criminals the former a raging maniac who in one stomach <UNK> scene casually sent a german family to their deaths by <UNK> ||| their trailer off a cliff thereby <UNK> to the wilderness depths below so far so bad then out of nowhere <UNK> as the nice psycho and lester all of 14 when the movie was made are seen both nude in a men's room <UNK> <UNK> <UNK> at the kid's body while <UNK> and poor confused lester <UNK> on close ups of naked butt as a not yet jaded member of the movie industry and a card carrying liberal i was as much against censorship then as i am today the entire movie made me <UNK> and being the early '70s when i seen everything in the anything goes movies of that <UNK> era including the uncut version of altman's that cold day in the park a real jaw until it was <UNK> for an <UNK> rating and would have spelled the end for altman's career had he not next come up with something called m a s h i still wonder if anyone else except me ever saw redneck and was appalled as i was <UNK> the actors and movie going audiences is joy <UNK> filmmakers have been <UNK> <UNK> in since the beginning of time but <UNK> <UNK> a highly respected and talented child actor mr lester at a time when he was beginning to make the difficult <UNK> from child to adult actor and i'm sure his film offers had thereby <UNK> to <UNK> junk like redneck mr you should be hanging your head in shame incidentally i was soon to make friends with actors who had appeared in future <UNK> efforts they both <UNK> him surprise\n",
      "\n",
      "# 92 , label 1 , prediction 0\n",
      "<START> i read a <UNK> hidden remarks on a previous comments stating that this film showed a bunch of gay guys <UNK> around their <UNK> br br this couldn't be more misleading <UNK> is not a gay film it has only three gay characters in it and one of them is the victim of prejudice of people like the one who wrote the comments despite his confession of fairness br br grandfather was not gay the tender scene of the soldier and his sergeant is male bonding at the crucial moment of death but some people gets appalled by a kiss and welcome scene of guts flying out of a man killed by a bomb br br the focus of the film is the straight relationship of <UNK> and that sweet girl and their facing their social <UNK> and <UNK> br br ralph www info |||\n",
      "\n",
      "# 93 , label 0 , prediction 1\n",
      "<START> oh boy it was just a dream what a great idea mr lynch is very lucky most people try to tell classical stories this way he can play with his little and his even more little <UNK> check out <UNK> the <UNK> for far more intelligent mix of fantasy and reality |||\n",
      "\n",
      "# 94 , label 1 , prediction 0\n",
      "<START> i happened to catch about the last 45 minutes of the movie late night about 8 years ago what a wild and funny 45 minutes i was absolutely knocked out by chase shoot out at the end that takes place at night inside an old hotel that's being torn down with a <UNK> ball incredible i vaguely remember <UNK> <UNK> stealing a cop car <UNK> being a cop and strong <UNK> some <UNK> <UNK> to <UNK> hey why ya us <UNK> it's my job you're correct they don't make them like that anymore great movie the hopefully it will see the light of day as a dvd along with other lost <UNK> <UNK> and being one such |||\n",
      "\n",
      "# 95 , label 1 , prediction 0\n",
      "<START> without going into any details of a good if a somewhat provocative tv movie there seems to be a <UNK> among the users that there is no one to blame here br br i disagree yes the young male lover of beverly <UNK> played by rob <UNK> may be young and horny and good looking because he's not getting as much as he wants from mom that doesn't mean he can climb in bed and have sex with daughter ok he can use the excuse he just wanted to watch tv with her but i don't buy it people have to take responsibility for their actions not only did he cross the line by having sex with a very vulnerable teen when he was supposedly the responsible adult he said your mom must never know about this how responsible was he then yes it's a good flick but he got what was coming to him don't kid yourselves folks that what happened was no one's fault |||\n",
      "\n",
      "# 96 , label 1 , prediction 0\n",
      "<START> this is an ok early 80's horror flick in which a young girl meg <UNK> is wanting to shed her <UNK> two shoes image and becomes part of a girl gang called the sisters their <UNK> for her consists of spending the night in a <UNK> too bad the <UNK> is the final <UNK> place of some psycho russian psychic and he's not quite dead yet seems this guy was found in his apartment with lots of things stuck into the walls from his <UNK> target practice plus there is a pile of young dead girls found in the closet all proof that <UNK> <UNK> can be dangerous so listen up girls the daughter of this man is rather <UNK> about her father's death and is confronted by a man that said he knew and given a tape to listen too her <UNK> adam west of batman fame is there to laugh and <UNK> and not much else but it seems that perhaps daughter may also have some abilities that she doesn't realize anyway having <UNK> their unfortunate <UNK> at the <UNK> the rest of the sisters take off to go get stuff like masks sheets etc to come back and scare the crap out of her but little do they suspect what's going on and they get more than the crap scared out of them for even in death is kind of a busy guy and he's <UNK> lots of corpses for entertainment and it would also seem that he has a thing for ||| jail bait overall this is acceptable horror nothing too intense but not terrible either the dvd from media <UNK> also contains another version of the movie that's a rough cut i guess i only watched a little of it so i don't know how different it is from the theatrical release but from what i saw i guess it's a <UNK> and all presentation 7 out of 10\n",
      "\n",
      "# 97 , label 1 , prediction 0\n",
      "<START> i have seen so many bad reviews on de los that i felt compelled to stand for it or at least i'll try first of all of course that it looks dated it was made in the seventies with very low budget but that's part of it's charm i like contemporary films but also dig the old ones for what they worth i'm not the one to feel the urge to only see or like movies with modern <UNK> and effects besides almost every movie buff likes old fashioned motion pictures who doesn't like films from el <UNK> or plan 9 from outer space no matter it's overall quality in the aspect of pace is just a tool for covering again it's low cost and i think the constant dialogs are in order of a better character and situations development sure alive has better fx but i won't despise the old one just because of that and i don't feel quite attracted to english <UNK> in an event involving people from <UNK> and for me that gives a plus to de los it's like even if from the seventies and based on a true event too would have a better remake now due to the advance of technology but i think i would stick to that one based on the emotions that offers regardless it's production date br br all of this is based in the impact that had on me because the first time i saw it was on tv and nowadays i don't ||| think it has lost some of it's primal force of course it's been a long time and i've seen tons of better movies in every aspect of cinema but that doesn't <UNK> it's true value it's not a bad film and i place it above alive without <UNK> just give it a break\n",
      "\n",
      "# 98 , label 1 , prediction 0\n",
      "<START> meant to be some sort of a social commentary about the way that our lives were spinning out of control in the 1970's this movie plays more like something mr <UNK> threw together after having a bad day on the <UNK> a <UNK> mash of snippets about the nuts encountered along the <UNK> in florida and along the <UNK> of life the cast is mostly wasted and probably ended up on the cutting room floor the problem is that what didn't end up on the cutting room floor probably should have now available on dvd it's kinda fun to see a comedy that would have cost 100 million to produce had it been made in 2004 it rolls along and isn't too difficult to sit through and strangely enough in 2004 we're all still pretty much just br br <UNK> in our cars and going faster and faster heading nowhere |||\n",
      "\n",
      "# 99 , label 0 , prediction 1\n",
      "<START> personally i've watched it because of <UNK> <UNK> appearance and i didn't really expect to enjoy the movie as such but surprisingly i kept watching it until the end br br let's face it it just one of the saga like stories and isn't particularly original or entertaining but strangely it just keeps you by the tv my opinion about will of their own would be much better if there wouldn't be one point that i just don't get br br there is lovely and really <UNK> scene in which <UNK> <UNK> character is running on the street holding baby in her arms the snow is falling she is cold scared and has no place to stay she doesn't know what to do next and then about 10 12 years later when things are better for her she just leaves the same kid without any warning to take up the career she was dreaming about br br i just don't get it i don't see how is it possible that she would do such thing it was the opposite action to all that she done so far in her life when all that she was doing was aimed on that child survival after this character flip i just couldn't enjoy rest of the movie |||\n"
     ]
    }
   ],
   "source": [
    "print('-------- Incorrect samples: --------')\n",
    "print('0 for negative, 1 for positive')\n",
    "\n",
    "for i in range(100):\n",
    "    sample_idx = incorrect_idx[i]\n",
    "    print('\\n#', i, ', label', pp_test_labels[sample_idx], ', prediction', predictions[sample_idx])\n",
    "    if len(pp_test_data[sample_idx]) <= 256:\n",
    "        print(dataLoader.decodeReview(pp_test_data[sample_idx], reverseWordIndex),\"|||\")\n",
    "    else:\n",
    "        print(dataLoader.decodeReview(pp_test_data[sample_idx][:256], reverseWordIndex),\"|||\",\n",
    "              dataLoader.decodeReview(pp_test_data[sample_idx][256:], reverseWordIndex))"
   ]
  }
 ],
 "metadata": {
  "accelerator": "GPU",
  "colab": {
   "collapsed_sections": [
    "e2f42663-75fa-45f8-a0c2-9954ab729e9b",
    "b3a6cbd5-c59f-4237-ac47-ecd75de219fe",
    "36e8e810-1537-4c90-80ff-eb8812c46588",
    "48770a57-8748-41b8-86b8-95cb7035ba49",
    "6ba369a2-7dfc-462a-a769-8a5d1bc73a4f"
   ],
   "name": "MainNotebook with cnn - smaller cnn.ipynb",
   "provenance": [],
   "toc_visible": true
  },
  "kernelspec": {
   "display_name": "Python 3 (ipykernel)",
   "language": "python",
   "name": "python3"
  },
  "language_info": {
   "codemirror_mode": {
    "name": "ipython",
    "version": 3
   },
   "file_extension": ".py",
   "mimetype": "text/x-python",
   "name": "python",
   "nbconvert_exporter": "python",
   "pygments_lexer": "ipython3",
   "version": "3.10.4"
  }
 },
 "nbformat": 4,
 "nbformat_minor": 5
}
