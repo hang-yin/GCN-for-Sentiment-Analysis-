{
 "cells": [
  {
   "cell_type": "markdown",
   "id": "bc5f4233-f3dc-4b83-9c8e-fedafeb73041",
   "metadata": {
    "id": "bc5f4233-f3dc-4b83-9c8e-fedafeb73041"
   },
   "source": [
    "# Abstract for the Project"
   ]
  },
  {
   "cell_type": "markdown",
   "id": "793b87ce-4aba-43e4-a19a-3ef6910df878",
   "metadata": {
    "id": "793b87ce-4aba-43e4-a19a-3ef6910df878"
   },
   "source": [
    "## Task"
   ]
  },
  {
   "cell_type": "markdown",
   "id": "f96b3d88-211a-46a2-8029-f91ba4023be6",
   "metadata": {
    "id": "ba8ae1b5-e2d9-4c46-99a2-ec0da3c15642"
   },
   "source": [
    "The task is to test which model architecture performs best at imdb sentiment classification."
   ]
  },
  {
   "cell_type": "markdown",
   "id": "20d4617e-384e-444d-97cf-663141d35e98",
   "metadata": {
    "id": "20d4617e-384e-444d-97cf-663141d35e98"
   },
   "source": [
    "## Model"
   ]
  },
  {
   "cell_type": "markdown",
   "id": "39586fc7-bdb3-41f5-af12-75a5047dec29",
   "metadata": {
    "id": "f67c597c-7979-48ba-b497-3cec44079aea"
   },
   "source": [
    "The models utilize BERT embeddings and various combinations of lstm , cnn , and graph techniques."
   ]
  },
  {
   "cell_type": "markdown",
   "id": "2beddffa-3a84-4c52-9f2d-7cda2ed81c95",
   "metadata": {
    "id": "2beddffa-3a84-4c52-9f2d-7cda2ed81c95"
   },
   "source": [
    "## Experiment"
   ]
  },
  {
   "cell_type": "markdown",
   "id": "3238a08d-07a3-4bb0-881a-9b53737cc1ec",
   "metadata": {
    "id": "ceb8a21e-21e4-4b4f-9d8a-633cbb64bb56"
   },
   "source": [
    "The experiments are in progress. We are looking for accuracy, failure points, and interpretability. The goal is to test for full data, limited data, and limited label scenarios."
   ]
  },
  {
   "cell_type": "markdown",
   "id": "017cfee9-d0b0-40b5-813b-a18e39af04d9",
   "metadata": {
    "id": "017cfee9-d0b0-40b5-813b-a18e39af04d9"
   },
   "source": [
    "## Datasets"
   ]
  },
  {
   "cell_type": "markdown",
   "id": "cc7f386a-76fe-4af7-911e-ad7d29cb3fac",
   "metadata": {
    "id": "fa69482d-b35f-47e0-8519-af531ca73713"
   },
   "source": [
    "The main dataset is the IMDB movie reviews and whatever was used to produce the BERT embeddings."
   ]
  },
  {
   "cell_type": "markdown",
   "id": "c1b7b98f-2c66-4438-8a47-2c4f8e4ddbba",
   "metadata": {
    "id": "c1b7b98f-2c66-4438-8a47-2c4f8e4ddbba"
   },
   "source": [
    "# Code"
   ]
  },
  {
   "cell_type": "markdown",
   "id": "2a602346-56ca-4a16-88ce-2dc585b155f2",
   "metadata": {
    "id": "2a602346-56ca-4a16-88ce-2dc585b155f2"
   },
   "source": [
    "## Import statements"
   ]
  },
  {
   "cell_type": "code",
   "execution_count": 75,
   "id": "Ooc42YZHqHn8",
   "metadata": {
    "colab": {
     "base_uri": "https://localhost:8080/"
    },
    "id": "Ooc42YZHqHn8",
    "outputId": "b29be16c-9873-4f44-a586-ab4853873167",
    "tags": []
   },
   "outputs": [],
   "source": [
    "# !pip install -U tensorflow-text==2.8.1"
   ]
  },
  {
   "cell_type": "code",
   "execution_count": 2,
   "id": "33cb8783-f4e7-4f35-8ea8-f6bc1e30584a",
   "metadata": {
    "colab": {
     "base_uri": "https://localhost:8080/"
    },
    "id": "33cb8783-f4e7-4f35-8ea8-f6bc1e30584a",
    "outputId": "26a9c974-8153-4912-e776-8529812ecacc"
   },
   "outputs": [
    {
     "name": "stdout",
     "output_type": "stream",
     "text": [
      "Version:  2.8.0\n",
      "Eager mode:  True\n",
      "Hub version:  0.12.0\n",
      "GPU is available\n"
     ]
    }
   ],
   "source": [
    "import matplotlib.pyplot as plt\n",
    "import numpy as np\n",
    "import neural_structured_learning as nsl\n",
    "import tensorflow as tf\n",
    "import tensorflow_hub as hub\n",
    "import tensorflow_text\n",
    "\n",
    "# Resets notebook state\n",
    "tf.keras.backend.clear_session()\n",
    "\n",
    "print(\"Version: \", tf.__version__)\n",
    "print(\"Eager mode: \", tf.executing_eagerly())\n",
    "print(\"Hub version: \", hub.__version__)\n",
    "print(\n",
    "    \"GPU is\",\n",
    "    \"available\" if tf.config.list_physical_devices(\"GPU\") else \"NOT AVAILABLE\")"
   ]
  },
  {
   "cell_type": "code",
   "execution_count": 3,
   "id": "vECgs-urXfUm",
   "metadata": {
    "id": "vECgs-urXfUm"
   },
   "outputs": [],
   "source": [
    "import dataLoader\n",
    "import bertEmbeddings\n",
    "import tfRecordTools\n",
    "import train\n",
    "import importlib\n",
    "import models"
   ]
  },
  {
   "cell_type": "markdown",
   "id": "2964ce30-7e5e-492e-86c2-e2f466d33218",
   "metadata": {
    "id": "2964ce30-7e5e-492e-86c2-e2f466d33218"
   },
   "source": [
    "## Dataset Loading"
   ]
  },
  {
   "cell_type": "code",
   "execution_count": 4,
   "id": "fea73b0a",
   "metadata": {
    "id": "fea73b0a"
   },
   "outputs": [],
   "source": [
    "# Load data from IMDB\n",
    "imdb = tf.keras.datasets.imdb\n",
    "(pp_train_data, pp_train_labels), (pp_test_data, pp_test_labels) = (\n",
    "    imdb.load_data(num_words=10000))"
   ]
  },
  {
   "cell_type": "code",
   "execution_count": 5,
   "id": "cb9bcdc9",
   "metadata": {
    "id": "cb9bcdc9"
   },
   "outputs": [],
   "source": [
    "# This block limits how much is loaded to keep debugging short\n",
    "# don't run on the final experiments\n",
    "\n",
    "limit = 5000\n",
    "\n",
    "pp_train_data = pp_train_data[0:limit]\n",
    "pp_train_labels = pp_train_labels[0:limit]\n",
    "pp_test_data = pp_test_data[0:limit]\n",
    "pp_test_labels = pp_test_labels[0:limit]"
   ]
  },
  {
   "cell_type": "code",
   "execution_count": 6,
   "id": "c9d5eb4e",
   "metadata": {
    "colab": {
     "base_uri": "https://localhost:8080/"
    },
    "id": "c9d5eb4e",
    "outputId": "7d927041-fa96-482c-f50a-250838b5e454"
   },
   "outputs": [
    {
     "name": "stdout",
     "output_type": "stream",
     "text": [
      "Training entries: 5000, labels: 5000\n",
      "[1, 14, 22, 16, 43, 530, 973, 1622, 1385, 65, 458, 4468, 66, 3941, 4, 173, 36, 256, 5, 25, 100, 43, 838, 112, 50, 670, 2, 9, 35, 480, 284, 5, 150, 4, 172, 112, 167, 2, 336, 385, 39, 4, 172, 4536, 1111, 17, 546, 38, 13, 447, 4, 192, 50, 16, 6, 147, 2025, 19, 14, 22, 4, 1920, 4613, 469, 4, 22, 71, 87, 12, 16, 43, 530, 38, 76, 15, 13, 1247, 4, 22, 17, 515, 17, 12, 16, 626, 18, 2, 5, 62, 386, 12, 8, 316, 8, 106, 5, 4, 2223, 5244, 16, 480, 66, 3785, 33, 4, 130, 12, 16, 38, 619, 5, 25, 124, 51, 36, 135, 48, 25, 1415, 33, 6, 22, 12, 215, 28, 77, 52, 5, 14, 407, 16, 82, 2, 8, 4, 107, 117, 5952, 15, 256, 4, 2, 7, 3766, 5, 723, 36, 71, 43, 530, 476, 26, 400, 317, 46, 7, 4, 2, 1029, 13, 104, 88, 4, 381, 15, 297, 98, 32, 2071, 56, 26, 141, 6, 194, 7486, 18, 4, 226, 22, 21, 134, 476, 26, 480, 5, 144, 30, 5535, 18, 51, 36, 28, 224, 92, 25, 104, 4, 226, 65, 16, 38, 1334, 88, 12, 16, 283, 5, 16, 4472, 113, 103, 32, 15, 16, 5345, 19, 178, 32]\n"
     ]
    },
    {
     "data": {
      "text/plain": [
       "(218, 189)"
      ]
     },
     "execution_count": 6,
     "metadata": {},
     "output_type": "execute_result"
    }
   ],
   "source": [
    "# Print data entries\n",
    "print('Training entries: {}, labels: {}'.format(\n",
    "    len(pp_train_data),\n",
    "    len(pp_train_labels)\n",
    "))\n",
    "training_samples_count = len(pp_train_data)\n",
    "print(pp_train_data[0])\n",
    "len(pp_train_data[0]), len(pp_train_data[1])"
   ]
  },
  {
   "cell_type": "code",
   "execution_count": 7,
   "id": "24459eb0-dc05-4fc1-9fee-9ff89dc0483b",
   "metadata": {},
   "outputs": [],
   "source": [
    "reverseWordIndex = dataLoader.buildReverseWordIndex(imdb)"
   ]
  },
  {
   "cell_type": "code",
   "execution_count": 8,
   "id": "8e51c324",
   "metadata": {
    "colab": {
     "base_uri": "https://localhost:8080/",
     "height": 174
    },
    "id": "8e51c324",
    "outputId": "3a339e9b-c7ef-4fd8-b0d8-0efb7de8f88b"
   },
   "outputs": [
    {
     "data": {
      "text/plain": [
       "\"<START> this film was just brilliant casting location scenery story direction everyone's really suited the part they played and you could just imagine being there robert <UNK> is an amazing actor and now the same being director <UNK> father came from the same scottish island as myself so i loved the fact there was a real connection with this film the witty remarks throughout the film were great it was just brilliant so much that i bought the film as soon as it was released for <UNK> and would recommend it to everyone to watch and the fly fishing was amazing really cried at the end it was so sad and you know what they say if you cry at a film it must have been good and this definitely was also <UNK> to the two little boy's that played the <UNK> of norman and paul they were just brilliant children are often left out of the <UNK> list i think because the stars that play them all grown up are such a big profile for the whole film but these children are amazing and should be praised for what they have done don't you think the whole story was so lovely because it was true and was someone's life after all that was shared with us all\""
      ]
     },
     "execution_count": 8,
     "metadata": {},
     "output_type": "execute_result"
    }
   ],
   "source": [
    "dataLoader.decodeReview(pp_train_data[0], reverseWordIndex)"
   ]
  },
  {
   "cell_type": "markdown",
   "id": "91262af3-e6fd-48ba-946e-0ee5371a580e",
   "metadata": {
    "id": "91262af3-e6fd-48ba-946e-0ee5371a580e"
   },
   "source": [
    "## Pretrained Embeddings"
   ]
  },
  {
   "cell_type": "code",
   "execution_count": 9,
   "id": "00852ae7-69da-493b-ab1d-6eabe98319ba",
   "metadata": {
    "id": "00852ae7-69da-493b-ab1d-6eabe98319ba"
   },
   "outputs": [],
   "source": [
    "# Retrieve small bert embeddings\n",
    "pretrained_embedding = 'https://tfhub.dev/tensorflow/small_bert/bert_en_uncased_L-2_H-128_A-2/2'"
   ]
  },
  {
   "cell_type": "code",
   "execution_count": 10,
   "id": "c2d9317c-a174-4244-b6ef-720ff37ff31a",
   "metadata": {
    "id": "c2d9317c-a174-4244-b6ef-720ff37ff31a"
   },
   "outputs": [
    {
     "name": "stdout",
     "output_type": "stream",
     "text": [
      "Metal device set to: Apple M1 Max\n"
     ]
    },
    {
     "name": "stderr",
     "output_type": "stream",
     "text": [
      "2022-05-22 12:01:09.635332: I tensorflow/core/common_runtime/pluggable_device/pluggable_device_factory.cc:305] Could not identify NUMA node of platform GPU ID 0, defaulting to 0. Your kernel may not have been built with NUMA support.\n",
      "2022-05-22 12:01:09.635442: I tensorflow/core/common_runtime/pluggable_device/pluggable_device_factory.cc:271] Created TensorFlow device (/job:localhost/replica:0/task:0/device:GPU:0 with 0 MB memory) -> physical PluggableDevice (device: 0, name: METAL, pci bus id: <undefined>)\n",
      "2022-05-22 12:01:10.352275: W tensorflow/core/platform/profile_utils/cpu_utils.cc:128] Failed to get CPU frequency: 0 Hz\n",
      "2022-05-22 12:01:10.366063: I tensorflow/core/grappler/optimizers/custom_graph_optimizer_registry.cc:113] Plugin optimizer for device_type GPU is enabled.\n"
     ]
    }
   ],
   "source": [
    "# Preprocess and encode input\n",
    "text_input = tf.keras.layers.Input(shape=(), dtype=tf.string)\n",
    "preprocessor = hub.KerasLayer('https://tfhub.dev/tensorflow/bert_en_uncased_preprocess/3')\n",
    "encoder_inputs = preprocessor(text_input)\n",
    "\n",
    "encoder = hub.KerasLayer('https://tfhub.dev/tensorflow/small_bert/bert_en_uncased_L-2_H-128_A-2/2',trainable=True)\n",
    "\n",
    "outputs = encoder(encoder_inputs)\n",
    "\n",
    "pooled_output = outputs['pooled_output'] # [batch_size, 128].\n",
    "# [batch_size, seq_length, 128].\n",
    "\n",
    "sequence_output = outputs['sequence_output']"
   ]
  },
  {
   "cell_type": "code",
   "execution_count": 12,
   "id": "1T7FSUmGrS9I",
   "metadata": {
    "id": "1T7FSUmGrS9I"
   },
   "outputs": [
    {
     "name": "stderr",
     "output_type": "stream",
     "text": [
      "2022-05-22 12:01:27.588390: I tensorflow/core/grappler/optimizers/custom_graph_optimizer_registry.cc:113] Plugin optimizer for device_type GPU is enabled.\n",
      "2022-05-22 12:01:27.666678: I tensorflow/core/grappler/optimizers/custom_graph_optimizer_registry.cc:113] Plugin optimizer for device_type GPU is enabled.\n"
     ]
    }
   ],
   "source": [
    "oneEmbedding = bertEmbeddings.createBertEmbeddingExample(pp_train_data[0], 0, reverseWordIndex, encoder, preprocessor)"
   ]
  },
  {
   "cell_type": "code",
   "execution_count": 74,
   "id": "e3b23e93-343d-48d8-9534-d3134fed6a40",
   "metadata": {
    "tags": []
   },
   "outputs": [],
   "source": [
    "# oneEmbedding"
   ]
  },
  {
   "cell_type": "code",
   "execution_count": 14,
   "id": "5FapV4KEK3CA",
   "metadata": {
    "id": "5FapV4KEK3CA"
   },
   "outputs": [
    {
     "data": {
      "text/plain": [
       "5000"
      ]
     },
     "execution_count": 14,
     "metadata": {},
     "output_type": "execute_result"
    }
   ],
   "source": [
    "# Generate full BERT embeddings\n",
    "\n",
    "bertEmbeddingsPath = '/tmp/imdb/bertEmeddings.tfr'\n",
    "bertEmbeddings.createBertEmbedding(pp_train_data, bertEmbeddingsPath, 0, reverseWordIndex, encoder, preprocessor)"
   ]
  },
  {
   "cell_type": "code",
   "execution_count": 15,
   "id": "cc08adb2-aea9-45a4-939f-58d04621ab05",
   "metadata": {},
   "outputs": [
    {
     "name": "stdout",
     "output_type": "stream",
     "text": [
      "   46663 /tmp/imdb/bertEmeddings.tfr\n"
     ]
    }
   ],
   "source": [
    "!wc -l {bertEmbeddingsPath}"
   ]
  },
  {
   "cell_type": "markdown",
   "id": "e2f42663-75fa-45f8-a0c2-9954ab729e9b",
   "metadata": {},
   "source": [
    "## Constructing the BERT Graph"
   ]
  },
  {
   "cell_type": "code",
   "execution_count": 16,
   "id": "0e086c35-9654-482f-8efe-eb87304041c9",
   "metadata": {},
   "outputs": [
    {
     "data": {
      "text/plain": [
       "(5000,)"
      ]
     },
     "execution_count": 16,
     "metadata": {},
     "output_type": "execute_result"
    }
   ],
   "source": [
    "pp_train_data.shape"
   ]
  },
  {
   "cell_type": "code",
   "execution_count": 17,
   "id": "9d54e0c3-c45a-42d1-aa6b-fbe2f6481ebc",
   "metadata": {},
   "outputs": [],
   "source": [
    "bertGraphPath = '/tmp/imdb/bert_graph_99.tsv'"
   ]
  },
  {
   "cell_type": "code",
   "execution_count": 18,
   "id": "bd9154d7-a856-41fb-9857-4bb8cb7fc785",
   "metadata": {},
   "outputs": [],
   "source": [
    "graph_builder_config = nsl.configs.GraphBuilderConfig(\n",
    "    similarity_threshold=0.99,\n",
    "    lsh_splits=32,\n",
    "    lsh_rounds=15,\n",
    "    random_seed=12345)\n",
    "\n",
    "nsl.tools.build_graph_from_config([bertEmbeddingsPath],\n",
    "                                  bertGraphPath,\n",
    "                                  graph_builder_config)"
   ]
  },
  {
   "cell_type": "code",
   "execution_count": 19,
   "id": "bc6f60da-4773-401f-a1c1-bde1805c3ae1",
   "metadata": {},
   "outputs": [
    {
     "name": "stdout",
     "output_type": "stream",
     "text": [
      "    1292 /tmp/imdb/bert_graph_99.tsv\n"
     ]
    }
   ],
   "source": [
    "!wc -l {bertGraphPath}"
   ]
  },
  {
   "cell_type": "markdown",
   "id": "b3a6cbd5-c59f-4237-ac47-ecd75de219fe",
   "metadata": {},
   "source": [
    "## Sample Features"
   ]
  },
  {
   "cell_type": "code",
   "execution_count": 20,
   "id": "4ad3fae3-7ff2-43a5-b294-eb2783e82d13",
   "metadata": {},
   "outputs": [],
   "source": [
    "trainDataPath = '/tmp/imdb/train_data.tfr'\n",
    "testDataPath = '/tmp/imdb/test_data.tfr'"
   ]
  },
  {
   "cell_type": "code",
   "execution_count": 21,
   "id": "7e5ee589-3ee1-4c59-bf3a-37bd85b792d5",
   "metadata": {},
   "outputs": [
    {
     "data": {
      "text/plain": [
       "10000"
      ]
     },
     "execution_count": 21,
     "metadata": {},
     "output_type": "execute_result"
    }
   ],
   "source": [
    "next_record_id = train.createRecords(pp_train_data,\n",
    "                                pp_train_labels,\n",
    "                                trainDataPath,\n",
    "                                0)\n",
    "train.createRecords(pp_test_data,\n",
    "               pp_test_labels,\n",
    "               testDataPath,\n",
    "               next_record_id)"
   ]
  },
  {
   "cell_type": "markdown",
   "id": "36e8e810-1537-4c90-80ff-eb8812c46588",
   "metadata": {},
   "source": [
    "## Augment the training data using graphs"
   ]
  },
  {
   "cell_type": "code",
   "execution_count": 22,
   "id": "f416d976-8a70-4c4d-a04f-598d74a545bb",
   "metadata": {},
   "outputs": [],
   "source": [
    "nslTrainPath = '/tmp/imdb/nsl_train_data.tfr'"
   ]
  },
  {
   "cell_type": "code",
   "execution_count": 24,
   "id": "c2dc1df0-3900-407e-8449-0611faed6f91",
   "metadata": {},
   "outputs": [],
   "source": [
    "nsl.tools.pack_nbrs(\n",
    "    trainDataPath,\n",
    "    '',\n",
    "    bertGraphPath,\n",
    "    nslTrainPath,\n",
    "    add_undirected_edges=True,\n",
    "    max_nbrs=3)"
   ]
  },
  {
   "cell_type": "code",
   "execution_count": 25,
   "id": "4379fd05-7b25-4ae8-afe1-08f5a983eb7f",
   "metadata": {},
   "outputs": [
    {
     "name": "stdout",
     "output_type": "stream",
     "text": [
      "  125355 /tmp/imdb/nsl_train_data.tfr\n"
     ]
    }
   ],
   "source": [
    "!wc -l {nslTrainPath}"
   ]
  },
  {
   "cell_type": "code",
   "execution_count": 73,
   "id": "62f08399-b72d-4ee0-8cc8-aa16c2a609b4",
   "metadata": {},
   "outputs": [
    {
     "name": "stdout",
     "output_type": "stream",
     "text": [
      "   87204 /tmp/imdb/train_data.tfr\n"
     ]
    }
   ],
   "source": [
    "!wc -l {trainDataPath}"
   ]
  },
  {
   "cell_type": "markdown",
   "id": "cdbabe7b-8263-4aa6-99e5-c5c8093c07dc",
   "metadata": {
    "id": "cdbabe7b-8263-4aa6-99e5-c5c8093c07dc"
   },
   "source": [
    "## Training and Validation"
   ]
  },
  {
   "cell_type": "markdown",
   "id": "98af990c-967c-4bd9-bcab-7c6d7e313fa1",
   "metadata": {
    "id": "98af990c-967c-4bd9-bcab-7c6d7e313fa1"
   },
   "source": [
    "### Training Hyperparameters"
   ]
  },
  {
   "cell_type": "code",
   "execution_count": 62,
   "id": "0G8QR80QOy_S",
   "metadata": {
    "id": "0G8QR80QOy_S"
   },
   "outputs": [],
   "source": [
    "# Set parameters\n",
    "NBR_FEATURE_PREFIX = 'NL_nbr_'\n",
    "NBR_WEIGHT_SUFFIX = '_weight'"
   ]
  },
  {
   "cell_type": "code",
   "execution_count": 63,
   "id": "95805538-265a-4a1e-8e69-d5fbf326cbb1",
   "metadata": {},
   "outputs": [],
   "source": [
    "class HParams(object):\n",
    "    \"\"\"\n",
    "    Hyperparameters used for training.\n",
    "    \"\"\"\n",
    "    def __init__(self):\n",
    "        # dataset parameters\n",
    "        self.num_classes = 2\n",
    "        self.max_seq_length = 256\n",
    "        self.vocab_size = 10000\n",
    "        # neural graph learning parameters\n",
    "        self.distance_type = nsl.configs.DistanceType.L2\n",
    "        self.graph_regularization_multiplier = 0.1\n",
    "        self.num_neighbors = 2\n",
    "        # model architecture\n",
    "        self.num_embedding_dims = 16\n",
    "        self.num_lstm_dims = 64\n",
    "        self.num_fc_units = 64\n",
    "        # training parameters\n",
    "        self.train_epochs = 20\n",
    "        self.batch_size = 128\n",
    "        # eval parameters\n",
    "        self.eval_steps = None  # All instances in the test set are evaluated."
   ]
  },
  {
   "cell_type": "code",
   "execution_count": 64,
   "id": "7fe23718-d03e-47bc-9451-11d8fdfcd212",
   "metadata": {},
   "outputs": [],
   "source": [
    "HPARAMS = HParams()"
   ]
  },
  {
   "cell_type": "markdown",
   "id": "65_BUyTOThzE",
   "metadata": {
    "id": "65_BUyTOThzE",
    "tags": []
   },
   "source": [
    "### Build Traininig and Testing Datasets"
   ]
  },
  {
   "cell_type": "code",
   "execution_count": 65,
   "id": "vqigJ7EnOpsL",
   "metadata": {
    "id": "vqigJ7EnOpsL"
   },
   "outputs": [],
   "source": [
    "# Create training and testing datasets\n",
    "train_dataset = train.makeDataset(trainDataPath, HPARAMS, NBR_FEATURE_PREFIX, NBR_WEIGHT_SUFFIX, True)\n",
    "test_dataset = train.makeDataset(testDataPath, HPARAMS, NBR_FEATURE_PREFIX, NBR_WEIGHT_SUFFIX, False)"
   ]
  },
  {
   "cell_type": "markdown",
   "id": "s0bnGBGLURhU",
   "metadata": {
    "id": "s0bnGBGLURhU"
   },
   "source": [
    "### Build Validation Set"
   ]
  },
  {
   "cell_type": "code",
   "execution_count": 66,
   "id": "LzzGvGQuUV77",
   "metadata": {
    "id": "LzzGvGQuUV77"
   },
   "outputs": [
    {
     "name": "stdout",
     "output_type": "stream",
     "text": [
      "19\n"
     ]
    }
   ],
   "source": [
    "validation_fraction = 0.5\n",
    "validation_size = int(validation_fraction *\n",
    "                      int(training_samples_count / HPARAMS.batch_size))\n",
    "print(validation_size)\n",
    "validation_dataset = train_dataset.take(validation_size)\n",
    "train_dataset = train_dataset.skip(validation_size)"
   ]
  },
  {
   "cell_type": "markdown",
   "id": "48770a57-8748-41b8-86b8-95cb7035ba49",
   "metadata": {
    "id": "48770a57-8748-41b8-86b8-95cb7035ba49"
   },
   "source": [
    "## Setting up Base Models (Bi-LSTM)"
   ]
  },
  {
   "cell_type": "markdown",
   "id": "7daaa227-cbe1-470f-9f71-7243fd8b0c07",
   "metadata": {
    "id": "7daaa227-cbe1-470f-9f71-7243fd8b0c07"
   },
   "source": [
    "### Create Models"
   ]
  },
  {
   "cell_type": "code",
   "execution_count": 67,
   "id": "_uwHmlJRVoJ5",
   "metadata": {
    "colab": {
     "base_uri": "https://localhost:8080/"
    },
    "id": "_uwHmlJRVoJ5",
    "outputId": "09344e18-d42f-442b-832e-f49929acc9bd"
   },
   "outputs": [
    {
     "name": "stdout",
     "output_type": "stream",
     "text": [
      "Model: \"model\"\n",
      "_________________________________________________________________\n",
      " Layer (type)                Output Shape              Param #   \n",
      "=================================================================\n",
      " words (InputLayer)          [(None, 256)]             0         \n",
      "                                                                 \n",
      " embedding (Embedding)       (None, 256, 16)           160000    \n",
      "                                                                 \n",
      " bidirectional (Bidirectiona  (None, 128)              41472     \n",
      " l)                                                              \n",
      "                                                                 \n",
      " dense (Dense)               (None, 64)                8256      \n",
      "                                                                 \n",
      " dense_1 (Dense)             (None, 1)                 65        \n",
      "                                                                 \n",
      "=================================================================\n",
      "Total params: 209,793\n",
      "Trainable params: 209,793\n",
      "Non-trainable params: 0\n",
      "_________________________________________________________________\n"
     ]
    }
   ],
   "source": [
    "# build Bi-LSTM model\n",
    "tf.keras.backend.clear_session()\n",
    "model = models.makeBilstmModel(HPARAMS)\n",
    "model.summary()"
   ]
  },
  {
   "cell_type": "code",
   "execution_count": 68,
   "id": "lNjp9UQrV060",
   "metadata": {
    "id": "lNjp9UQrV060"
   },
   "outputs": [],
   "source": [
    "# set loss function and optimizer\n",
    "model.compile(\n",
    "    optimizer='rmsprop',\n",
    "    loss=tf.keras.losses.BinaryCrossentropy(from_logits=True),\n",
    "    metrics=['accuracy'])"
   ]
  },
  {
   "cell_type": "markdown",
   "id": "be3126a2-34b0-4263-879e-7e05f2233865",
   "metadata": {
    "id": "be3126a2-34b0-4263-879e-7e05f2233865"
   },
   "source": [
    "### Fit Model"
   ]
  },
  {
   "cell_type": "code",
   "execution_count": 69,
   "id": "nJheMkn5V6yr",
   "metadata": {
    "id": "nJheMkn5V6yr"
   },
   "outputs": [
    {
     "name": "stdout",
     "output_type": "stream",
     "text": [
      "Epoch 1/20\n"
     ]
    },
    {
     "name": "stderr",
     "output_type": "stream",
     "text": [
      "2022-05-22 12:09:29.658089: I tensorflow/core/grappler/optimizers/custom_graph_optimizer_registry.cc:113] Plugin optimizer for device_type GPU is enabled.\n",
      "2022-05-22 12:09:29.926061: I tensorflow/core/grappler/optimizers/custom_graph_optimizer_registry.cc:113] Plugin optimizer for device_type GPU is enabled.\n",
      "2022-05-22 12:09:29.940457: I tensorflow/core/grappler/optimizers/custom_graph_optimizer_registry.cc:113] Plugin optimizer for device_type GPU is enabled.\n",
      "2022-05-22 12:09:30.505304: I tensorflow/core/grappler/optimizers/custom_graph_optimizer_registry.cc:113] Plugin optimizer for device_type GPU is enabled.\n",
      "2022-05-22 12:09:30.520356: I tensorflow/core/grappler/optimizers/custom_graph_optimizer_registry.cc:113] Plugin optimizer for device_type GPU is enabled.\n"
     ]
    },
    {
     "name": "stdout",
     "output_type": "stream",
     "text": [
      "     21/Unknown - 6s 194ms/step - loss: 0.6933 - accuracy: 0.4996"
     ]
    },
    {
     "name": "stderr",
     "output_type": "stream",
     "text": [
      "2022-05-22 12:09:35.563618: I tensorflow/core/grappler/optimizers/custom_graph_optimizer_registry.cc:113] Plugin optimizer for device_type GPU is enabled.\n",
      "2022-05-22 12:09:35.643933: I tensorflow/core/grappler/optimizers/custom_graph_optimizer_registry.cc:113] Plugin optimizer for device_type GPU is enabled.\n",
      "2022-05-22 12:09:35.651960: I tensorflow/core/grappler/optimizers/custom_graph_optimizer_registry.cc:113] Plugin optimizer for device_type GPU is enabled.\n"
     ]
    },
    {
     "name": "stdout",
     "output_type": "stream",
     "text": [
      "21/21 [==============================] - 8s 286ms/step - loss: 0.6933 - accuracy: 0.4996 - val_loss: 0.6948 - val_accuracy: 0.4844\n",
      "Epoch 2/20\n",
      "21/21 [==============================] - 4s 177ms/step - loss: 0.6928 - accuracy: 0.4833 - val_loss: 0.6852 - val_accuracy: 0.4926\n",
      "Epoch 3/20\n",
      "21/21 [==============================] - 4s 188ms/step - loss: 0.6851 - accuracy: 0.5008 - val_loss: 0.6506 - val_accuracy: 0.4889\n",
      "Epoch 4/20\n",
      "21/21 [==============================] - 4s 192ms/step - loss: 0.6119 - accuracy: 0.5826 - val_loss: 0.5510 - val_accuracy: 0.7726\n",
      "Epoch 5/20\n",
      "21/21 [==============================] - 4s 193ms/step - loss: 0.5508 - accuracy: 0.7508 - val_loss: 2.2254 - val_accuracy: 0.5670\n",
      "Epoch 6/20\n",
      "21/21 [==============================] - 4s 190ms/step - loss: 0.5263 - accuracy: 0.7878 - val_loss: 0.3141 - val_accuracy: 0.8795\n",
      "Epoch 7/20\n",
      "21/21 [==============================] - 4s 194ms/step - loss: 0.4607 - accuracy: 0.8146 - val_loss: 0.3341 - val_accuracy: 0.8849\n",
      "Epoch 8/20\n",
      "21/21 [==============================] - 4s 190ms/step - loss: 0.3114 - accuracy: 0.8762 - val_loss: 0.3248 - val_accuracy: 0.8277\n",
      "Epoch 9/20\n",
      "21/21 [==============================] - 4s 190ms/step - loss: 0.3200 - accuracy: 0.8758 - val_loss: 0.2656 - val_accuracy: 0.9046\n",
      "Epoch 10/20\n",
      "21/21 [==============================] - 4s 186ms/step - loss: 0.2674 - accuracy: 0.8964 - val_loss: 0.1681 - val_accuracy: 0.9428\n",
      "Epoch 11/20\n",
      "21/21 [==============================] - 4s 185ms/step - loss: 0.2304 - accuracy: 0.9081 - val_loss: 0.1848 - val_accuracy: 0.9400\n",
      "Epoch 12/20\n",
      "21/21 [==============================] - 4s 185ms/step - loss: 0.3055 - accuracy: 0.8910 - val_loss: 0.2078 - val_accuracy: 0.9420\n",
      "Epoch 13/20\n",
      "21/21 [==============================] - 4s 186ms/step - loss: 0.1858 - accuracy: 0.9299 - val_loss: 0.1208 - val_accuracy: 0.9576\n",
      "Epoch 14/20\n",
      "21/21 [==============================] - 4s 192ms/step - loss: 0.1508 - accuracy: 0.9451 - val_loss: 1.8942 - val_accuracy: 0.6567\n",
      "Epoch 15/20\n",
      "21/21 [==============================] - 4s 183ms/step - loss: 0.2119 - accuracy: 0.9385 - val_loss: 0.0799 - val_accuracy: 0.9757\n",
      "Epoch 16/20\n",
      "21/21 [==============================] - 4s 189ms/step - loss: 0.1220 - accuracy: 0.9560 - val_loss: 0.3327 - val_accuracy: 0.8808\n",
      "Epoch 17/20\n",
      "21/21 [==============================] - 4s 187ms/step - loss: 0.1548 - accuracy: 0.9439 - val_loss: 0.0674 - val_accuracy: 0.9827\n",
      "Epoch 18/20\n",
      "21/21 [==============================] - 4s 190ms/step - loss: 0.1091 - accuracy: 0.9626 - val_loss: 0.0590 - val_accuracy: 0.9819\n",
      "Epoch 19/20\n",
      "21/21 [==============================] - 4s 185ms/step - loss: 0.1125 - accuracy: 0.9646 - val_loss: 0.5201 - val_accuracy: 0.6916\n",
      "Epoch 20/20\n",
      "21/21 [==============================] - 4s 187ms/step - loss: 0.1143 - accuracy: 0.9494 - val_loss: 0.0319 - val_accuracy: 0.9910\n"
     ]
    }
   ],
   "source": [
    "history = model.fit(\n",
    "    train_dataset,\n",
    "    validation_data=validation_dataset,\n",
    "    epochs=HPARAMS.train_epochs,\n",
    "    verbose=1)"
   ]
  },
  {
   "cell_type": "markdown",
   "id": "0f56699b-7473-4297-aa56-8b820d1f09aa",
   "metadata": {
    "id": "0f56699b-7473-4297-aa56-8b820d1f09aa"
   },
   "source": [
    "### Evaluate Model"
   ]
  },
  {
   "cell_type": "code",
   "execution_count": 70,
   "id": "f0vMq3iuWA1L",
   "metadata": {
    "id": "f0vMq3iuWA1L"
   },
   "outputs": [
    {
     "name": "stderr",
     "output_type": "stream",
     "text": [
      "2022-05-22 12:10:54.309550: I tensorflow/core/grappler/optimizers/custom_graph_optimizer_registry.cc:113] Plugin optimizer for device_type GPU is enabled.\n",
      "2022-05-22 12:10:54.391284: I tensorflow/core/grappler/optimizers/custom_graph_optimizer_registry.cc:113] Plugin optimizer for device_type GPU is enabled.\n",
      "2022-05-22 12:10:54.405833: I tensorflow/core/grappler/optimizers/custom_graph_optimizer_registry.cc:113] Plugin optimizer for device_type GPU is enabled.\n"
     ]
    },
    {
     "name": "stdout",
     "output_type": "stream",
     "text": [
      "40/40 [==============================] - 4s 71ms/step - loss: 0.6145 - accuracy: 0.8250\n",
      "[0.6144622564315796, 0.8250000476837158]\n"
     ]
    }
   ],
   "source": [
    "# evaluate model performance on test data\n",
    "results = model.evaluate(test_dataset, steps=HPARAMS.eval_steps)\n",
    "print(results)"
   ]
  },
  {
   "cell_type": "markdown",
   "id": "85b8bc72-e988-485a-820a-7b7f97c98fbb",
   "metadata": {
    "id": "85b8bc72-e988-485a-820a-7b7f97c98fbb"
   },
   "source": [
    "### Plot Performance"
   ]
  },
  {
   "cell_type": "code",
   "execution_count": 71,
   "id": "2cca2741-5009-4191-a6e1-b0b8d5267232",
   "metadata": {
    "id": "2cca2741-5009-4191-a6e1-b0b8d5267232"
   },
   "outputs": [
    {
     "data": {
      "image/png": "[encoded data removed]",
      "text/plain": [
       "<Figure size 432x288 with 1 Axes>"
      ]
     },
     "metadata": {
      "needs_background": "light"
     },
     "output_type": "display_data"
    }
   ],
   "source": [
    "# plot training and validaiton loss over epochs\n",
    "history_dict = history.history\n",
    "acc = history_dict['accuracy']\n",
    "val_acc = history_dict['val_accuracy']\n",
    "loss = history_dict['loss']\n",
    "val_loss = history_dict['val_loss']\n",
    "\n",
    "epochs = range(1, len(acc) + 1)\n",
    "\n",
    "# \"-r^\" is for solid red line with triangle markers.\n",
    "plt.plot(epochs, loss, '-r^', label='Training loss')\n",
    "# \"-b0\" is for solid blue line with circle markers.\n",
    "plt.plot(epochs, val_loss, '-bo', label='Validation loss')\n",
    "plt.title('Training and validation loss')\n",
    "plt.xlabel('Epochs')\n",
    "plt.ylabel('Loss')\n",
    "plt.legend(loc='best')\n",
    "\n",
    "plt.show()"
   ]
  },
  {
   "cell_type": "code",
   "execution_count": 72,
   "id": "b0c446d9-9979-4e59-b8fd-97ec51dac593",
   "metadata": {
    "id": "b0c446d9-9979-4e59-b8fd-97ec51dac593"
   },
   "outputs": [
    {
     "data": {
      "image/png": "[encoded data removed]",
      "text/plain": [
       "<Figure size 432x288 with 1 Axes>"
      ]
     },
     "metadata": {
      "needs_background": "light"
     },
     "output_type": "display_data"
    }
   ],
   "source": [
    "# plot training and validation accuracy over epochs\n",
    "plt.clf()   # clear figure\n",
    "\n",
    "plt.plot(epochs, acc, '-r^', label='Training acc')\n",
    "plt.plot(epochs, val_acc, '-bo', label='Validation acc')\n",
    "plt.title('Training and validation accuracy')\n",
    "plt.xlabel('Epochs')\n",
    "plt.ylabel('Accuracy')\n",
    "plt.legend(loc='best')\n",
    "\n",
    "plt.show()"
   ]
  },
  {
   "cell_type": "markdown",
   "id": "3b7e1cb4-9f77-4a43-8162-24cc7cd0808a",
   "metadata": {
    "id": "3b7e1cb4-9f77-4a43-8162-24cc7cd0808a"
   },
   "source": [
    "## CNN Models"
   ]
  },
  {
   "cell_type": "markdown",
   "id": "869dbe34-05f0-4a8a-b4e8-e4efd504986a",
   "metadata": {
    "id": "869dbe34-05f0-4a8a-b4e8-e4efd504986a"
   },
   "source": [
    "### Same categories as before"
   ]
  },
  {
   "cell_type": "code",
   "execution_count": null,
   "id": "a2756196-6278-4d93-b820-0af455624d48",
   "metadata": {
    "id": "a2756196-6278-4d93-b820-0af455624d48"
   },
   "outputs": [],
   "source": []
  },
  {
   "cell_type": "code",
   "execution_count": null,
   "id": "0f8a5809-b610-47bf-8531-0bc71731bfdf",
   "metadata": {
    "id": "0f8a5809-b610-47bf-8531-0bc71731bfdf"
   },
   "outputs": [],
   "source": []
  },
  {
   "cell_type": "code",
   "execution_count": null,
   "id": "9e477ea7-40c6-415c-ab64-99b7cbe6f751",
   "metadata": {
    "id": "9e477ea7-40c6-415c-ab64-99b7cbe6f751"
   },
   "outputs": [],
   "source": []
  },
  {
   "cell_type": "markdown",
   "id": "6ba369a2-7dfc-462a-a769-8a5d1bc73a4f",
   "metadata": {
    "id": "6ba369a2-7dfc-462a-a769-8a5d1bc73a4f"
   },
   "source": [
    "## Graph Models"
   ]
  },
  {
   "cell_type": "markdown",
   "id": "6f5c66ce-9190-46e7-95f9-15d2a227050a",
   "metadata": {},
   "source": [
    "### Switch to the NSL augmernted data"
   ]
  },
  {
   "cell_type": "markdown",
   "id": "1ed0968c-139e-49ef-ba57-0c9f0c979f72",
   "metadata": {
    "id": "1ed0968c-139e-49ef-ba57-0c9f0c979f72"
   },
   "source": [
    "### Same categories as before"
   ]
  },
  {
   "cell_type": "code",
   "execution_count": null,
   "id": "0a6c3222-743e-4fd2-a106-68f2bbdd939b",
   "metadata": {
    "id": "0a6c3222-743e-4fd2-a106-68f2bbdd939b"
   },
   "outputs": [],
   "source": []
  },
  {
   "cell_type": "code",
   "execution_count": null,
   "id": "ddf29b59-296b-4330-b57f-9f7e058c5756",
   "metadata": {
    "id": "ddf29b59-296b-4330-b57f-9f7e058c5756"
   },
   "outputs": [],
   "source": []
  },
  {
   "cell_type": "code",
   "execution_count": null,
   "id": "2a52ad69-176a-4fbf-adb6-576880f00f8a",
   "metadata": {
    "id": "2a52ad69-176a-4fbf-adb6-576880f00f8a"
   },
   "outputs": [],
   "source": []
  }
 ],
 "metadata": {
  "colab": {
   "collapsed_sections": [
    "bc5f4233-f3dc-4b83-9c8e-fedafeb73041",
    "3b7e1cb4-9f77-4a43-8162-24cc7cd0808a",
    "869dbe34-05f0-4a8a-b4e8-e4efd504986a",
    "6ba369a2-7dfc-462a-a769-8a5d1bc73a4f",
    "1ed0968c-139e-49ef-ba57-0c9f0c979f72"
   ],
   "name": "MainNotebook.ipynb",
   "provenance": []
  },
  "kernelspec": {
   "display_name": "Python 3 (ipykernel)",
   "language": "python",
   "name": "python3"
  },
  "language_info": {
   "codemirror_mode": {
    "name": "ipython",
    "version": 3
   },
   "file_extension": ".py",
   "mimetype": "text/x-python",
   "name": "python",
   "nbconvert_exporter": "python",
   "pygments_lexer": "ipython3",
   "version": "3.9.7"
  }
 },
 "nbformat": 4,
 "nbformat_minor": 5
}
