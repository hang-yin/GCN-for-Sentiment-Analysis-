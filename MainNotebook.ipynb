{
 "cells": [
  {
   "cell_type": "markdown",
   "id": "bc5f4233-f3dc-4b83-9c8e-fedafeb73041",
   "metadata": {
    "id": "bc5f4233-f3dc-4b83-9c8e-fedafeb73041"
   },
   "source": [
    "# Abstract for the Project"
   ]
  },
  {
   "cell_type": "markdown",
   "id": "793b87ce-4aba-43e4-a19a-3ef6910df878",
   "metadata": {
    "id": "793b87ce-4aba-43e4-a19a-3ef6910df878"
   },
   "source": [
    "## Task"
   ]
  },
  {
   "cell_type": "code",
   "execution_count": null,
   "id": "ba8ae1b5-e2d9-4c46-99a2-ec0da3c15642",
   "metadata": {
    "id": "ba8ae1b5-e2d9-4c46-99a2-ec0da3c15642"
   },
   "outputs": [],
   "source": []
  },
  {
   "cell_type": "code",
   "execution_count": null,
   "id": "7aaca91c-5885-4a68-9878-7632ca279c00",
   "metadata": {
    "id": "7aaca91c-5885-4a68-9878-7632ca279c00"
   },
   "outputs": [],
   "source": []
  },
  {
   "cell_type": "markdown",
   "id": "20d4617e-384e-444d-97cf-663141d35e98",
   "metadata": {
    "id": "20d4617e-384e-444d-97cf-663141d35e98"
   },
   "source": [
    "## Model"
   ]
  },
  {
   "cell_type": "code",
   "execution_count": null,
   "id": "f67c597c-7979-48ba-b497-3cec44079aea",
   "metadata": {
    "id": "f67c597c-7979-48ba-b497-3cec44079aea"
   },
   "outputs": [],
   "source": []
  },
  {
   "cell_type": "code",
   "execution_count": null,
   "id": "1e3533a4-5f0b-44af-a426-c90001cc05ad",
   "metadata": {
    "id": "1e3533a4-5f0b-44af-a426-c90001cc05ad"
   },
   "outputs": [],
   "source": []
  },
  {
   "cell_type": "markdown",
   "id": "2beddffa-3a84-4c52-9f2d-7cda2ed81c95",
   "metadata": {
    "id": "2beddffa-3a84-4c52-9f2d-7cda2ed81c95"
   },
   "source": [
    "## Experiment"
   ]
  },
  {
   "cell_type": "code",
   "execution_count": null,
   "id": "ceb8a21e-21e4-4b4f-9d8a-633cbb64bb56",
   "metadata": {
    "id": "ceb8a21e-21e4-4b4f-9d8a-633cbb64bb56"
   },
   "outputs": [],
   "source": []
  },
  {
   "cell_type": "code",
   "execution_count": null,
   "id": "46580b52-0885-49c8-ad5f-21b4187f192e",
   "metadata": {
    "id": "46580b52-0885-49c8-ad5f-21b4187f192e"
   },
   "outputs": [],
   "source": []
  },
  {
   "cell_type": "markdown",
   "id": "017cfee9-d0b0-40b5-813b-a18e39af04d9",
   "metadata": {
    "id": "017cfee9-d0b0-40b5-813b-a18e39af04d9"
   },
   "source": [
    "## Datasets"
   ]
  },
  {
   "cell_type": "code",
   "execution_count": null,
   "id": "fa69482d-b35f-47e0-8519-af531ca73713",
   "metadata": {
    "id": "fa69482d-b35f-47e0-8519-af531ca73713"
   },
   "outputs": [],
   "source": []
  },
  {
   "cell_type": "code",
   "execution_count": null,
   "id": "1d800d5e-acd2-4935-a35f-b40e9a51955b",
   "metadata": {
    "id": "1d800d5e-acd2-4935-a35f-b40e9a51955b"
   },
   "outputs": [],
   "source": []
  },
  {
   "cell_type": "markdown",
   "id": "c1b7b98f-2c66-4438-8a47-2c4f8e4ddbba",
   "metadata": {
    "id": "c1b7b98f-2c66-4438-8a47-2c4f8e4ddbba"
   },
   "source": [
    "# Code"
   ]
  },
  {
   "cell_type": "markdown",
   "id": "2a602346-56ca-4a16-88ce-2dc585b155f2",
   "metadata": {
    "id": "2a602346-56ca-4a16-88ce-2dc585b155f2"
   },
   "source": [
    "## Import statements"
   ]
  },
  {
   "cell_type": "code",
   "execution_count": 1,
   "id": "Ooc42YZHqHn8",
   "metadata": {
    "colab": {
     "base_uri": "https://localhost:8080/"
    },
    "collapsed": true,
    "id": "Ooc42YZHqHn8",
    "jupyter": {
     "outputs_hidden": true
    },
    "outputId": "b29be16c-9873-4f44-a586-ab4853873167",
    "tags": []
   },
   "outputs": [
    {
     "name": "stdout",
     "output_type": "stream",
     "text": [
      "Requirement already satisfied: tensorflow-text==2.8.1 in /usr/local/lib/python3.7/dist-packages (2.8.1)\n",
      "Requirement already satisfied: tensorflow<2.9,>=2.8.0 in /usr/local/lib/python3.7/dist-packages (from tensorflow-text==2.8.1) (2.8.1)\n",
      "Requirement already satisfied: tensorflow-hub>=0.8.0 in /usr/local/lib/python3.7/dist-packages (from tensorflow-text==2.8.1) (0.12.0)\n",
      "Requirement already satisfied: google-pasta>=0.1.1 in /usr/local/lib/python3.7/dist-packages (from tensorflow<2.9,>=2.8.0->tensorflow-text==2.8.1) (0.2.0)\n",
      "Requirement already satisfied: setuptools in /usr/local/lib/python3.7/dist-packages (from tensorflow<2.9,>=2.8.0->tensorflow-text==2.8.1) (57.4.0)\n",
      "Requirement already satisfied: termcolor>=1.1.0 in /usr/local/lib/python3.7/dist-packages (from tensorflow<2.9,>=2.8.0->tensorflow-text==2.8.1) (1.1.0)\n",
      "Requirement already satisfied: typing-extensions>=3.6.6 in /usr/local/lib/python3.7/dist-packages (from tensorflow<2.9,>=2.8.0->tensorflow-text==2.8.1) (4.2.0)\n",
      "Requirement already satisfied: libclang>=9.0.1 in /usr/local/lib/python3.7/dist-packages (from tensorflow<2.9,>=2.8.0->tensorflow-text==2.8.1) (14.0.1)\n",
      "Requirement already satisfied: tensorflow-estimator<2.9,>=2.8 in /usr/local/lib/python3.7/dist-packages (from tensorflow<2.9,>=2.8.0->tensorflow-text==2.8.1) (2.8.0)\n",
      "Requirement already satisfied: keras<2.9,>=2.8.0rc0 in /usr/local/lib/python3.7/dist-packages (from tensorflow<2.9,>=2.8.0->tensorflow-text==2.8.1) (2.8.0)\n",
      "Requirement already satisfied: keras-preprocessing>=1.1.1 in /usr/local/lib/python3.7/dist-packages (from tensorflow<2.9,>=2.8.0->tensorflow-text==2.8.1) (1.1.2)\n",
      "Requirement already satisfied: protobuf>=3.9.2 in /usr/local/lib/python3.7/dist-packages (from tensorflow<2.9,>=2.8.0->tensorflow-text==2.8.1) (3.17.3)\n",
      "Requirement already satisfied: astunparse>=1.6.0 in /usr/local/lib/python3.7/dist-packages (from tensorflow<2.9,>=2.8.0->tensorflow-text==2.8.1) (1.6.3)\n",
      "Requirement already satisfied: grpcio<2.0,>=1.24.3 in /usr/local/lib/python3.7/dist-packages (from tensorflow<2.9,>=2.8.0->tensorflow-text==2.8.1) (1.46.1)\n",
      "Requirement already satisfied: tensorflow-io-gcs-filesystem>=0.23.1 in /usr/local/lib/python3.7/dist-packages (from tensorflow<2.9,>=2.8.0->tensorflow-text==2.8.1) (0.25.0)\n",
      "Requirement already satisfied: tensorboard<2.9,>=2.8 in /usr/local/lib/python3.7/dist-packages (from tensorflow<2.9,>=2.8.0->tensorflow-text==2.8.1) (2.8.0)\n",
      "Requirement already satisfied: flatbuffers>=1.12 in /usr/local/lib/python3.7/dist-packages (from tensorflow<2.9,>=2.8.0->tensorflow-text==2.8.1) (1.12)\n",
      "Requirement already satisfied: opt-einsum>=2.3.2 in /usr/local/lib/python3.7/dist-packages (from tensorflow<2.9,>=2.8.0->tensorflow-text==2.8.1) (3.3.0)\n",
      "Requirement already satisfied: wrapt>=1.11.0 in /usr/local/lib/python3.7/dist-packages (from tensorflow<2.9,>=2.8.0->tensorflow-text==2.8.1) (1.14.1)\n",
      "Requirement already satisfied: absl-py>=0.4.0 in /usr/local/lib/python3.7/dist-packages (from tensorflow<2.9,>=2.8.0->tensorflow-text==2.8.1) (1.0.0)\n",
      "Requirement already satisfied: gast>=0.2.1 in /usr/local/lib/python3.7/dist-packages (from tensorflow<2.9,>=2.8.0->tensorflow-text==2.8.1) (0.4.0)\n",
      "Requirement already satisfied: numpy>=1.20 in /usr/local/lib/python3.7/dist-packages (from tensorflow<2.9,>=2.8.0->tensorflow-text==2.8.1) (1.21.6)\n",
      "Requirement already satisfied: six>=1.12.0 in /usr/local/lib/python3.7/dist-packages (from tensorflow<2.9,>=2.8.0->tensorflow-text==2.8.1) (1.15.0)\n",
      "Requirement already satisfied: h5py>=2.9.0 in /usr/local/lib/python3.7/dist-packages (from tensorflow<2.9,>=2.8.0->tensorflow-text==2.8.1) (3.1.0)\n",
      "Requirement already satisfied: wheel<1.0,>=0.23.0 in /usr/local/lib/python3.7/dist-packages (from astunparse>=1.6.0->tensorflow<2.9,>=2.8.0->tensorflow-text==2.8.1) (0.37.1)\n",
      "Requirement already satisfied: cached-property in /usr/local/lib/python3.7/dist-packages (from h5py>=2.9.0->tensorflow<2.9,>=2.8.0->tensorflow-text==2.8.1) (1.5.2)\n",
      "Requirement already satisfied: google-auth-oauthlib<0.5,>=0.4.1 in /usr/local/lib/python3.7/dist-packages (from tensorboard<2.9,>=2.8->tensorflow<2.9,>=2.8.0->tensorflow-text==2.8.1) (0.4.6)\n",
      "Requirement already satisfied: requests<3,>=2.21.0 in /usr/local/lib/python3.7/dist-packages (from tensorboard<2.9,>=2.8->tensorflow<2.9,>=2.8.0->tensorflow-text==2.8.1) (2.23.0)\n",
      "Requirement already satisfied: werkzeug>=0.11.15 in /usr/local/lib/python3.7/dist-packages (from tensorboard<2.9,>=2.8->tensorflow<2.9,>=2.8.0->tensorflow-text==2.8.1) (1.0.1)\n",
      "Requirement already satisfied: tensorboard-plugin-wit>=1.6.0 in /usr/local/lib/python3.7/dist-packages (from tensorboard<2.9,>=2.8->tensorflow<2.9,>=2.8.0->tensorflow-text==2.8.1) (1.8.1)\n",
      "Requirement already satisfied: google-auth<3,>=1.6.3 in /usr/local/lib/python3.7/dist-packages (from tensorboard<2.9,>=2.8->tensorflow<2.9,>=2.8.0->tensorflow-text==2.8.1) (1.35.0)\n",
      "Requirement already satisfied: tensorboard-data-server<0.7.0,>=0.6.0 in /usr/local/lib/python3.7/dist-packages (from tensorboard<2.9,>=2.8->tensorflow<2.9,>=2.8.0->tensorflow-text==2.8.1) (0.6.1)\n",
      "Requirement already satisfied: markdown>=2.6.8 in /usr/local/lib/python3.7/dist-packages (from tensorboard<2.9,>=2.8->tensorflow<2.9,>=2.8.0->tensorflow-text==2.8.1) (3.3.7)\n",
      "Requirement already satisfied: cachetools<5.0,>=2.0.0 in /usr/local/lib/python3.7/dist-packages (from google-auth<3,>=1.6.3->tensorboard<2.9,>=2.8->tensorflow<2.9,>=2.8.0->tensorflow-text==2.8.1) (4.2.4)\n",
      "Requirement already satisfied: rsa<5,>=3.1.4 in /usr/local/lib/python3.7/dist-packages (from google-auth<3,>=1.6.3->tensorboard<2.9,>=2.8->tensorflow<2.9,>=2.8.0->tensorflow-text==2.8.1) (4.8)\n",
      "Requirement already satisfied: pyasn1-modules>=0.2.1 in /usr/local/lib/python3.7/dist-packages (from google-auth<3,>=1.6.3->tensorboard<2.9,>=2.8->tensorflow<2.9,>=2.8.0->tensorflow-text==2.8.1) (0.2.8)\n",
      "Requirement already satisfied: requests-oauthlib>=0.7.0 in /usr/local/lib/python3.7/dist-packages (from google-auth-oauthlib<0.5,>=0.4.1->tensorboard<2.9,>=2.8->tensorflow<2.9,>=2.8.0->tensorflow-text==2.8.1) (1.3.1)\n",
      "Requirement already satisfied: importlib-metadata>=4.4 in /usr/local/lib/python3.7/dist-packages (from markdown>=2.6.8->tensorboard<2.9,>=2.8->tensorflow<2.9,>=2.8.0->tensorflow-text==2.8.1) (4.11.3)\n",
      "Requirement already satisfied: zipp>=0.5 in /usr/local/lib/python3.7/dist-packages (from importlib-metadata>=4.4->markdown>=2.6.8->tensorboard<2.9,>=2.8->tensorflow<2.9,>=2.8.0->tensorflow-text==2.8.1) (3.8.0)\n",
      "Requirement already satisfied: pyasn1<0.5.0,>=0.4.6 in /usr/local/lib/python3.7/dist-packages (from pyasn1-modules>=0.2.1->google-auth<3,>=1.6.3->tensorboard<2.9,>=2.8->tensorflow<2.9,>=2.8.0->tensorflow-text==2.8.1) (0.4.8)\n",
      "Requirement already satisfied: chardet<4,>=3.0.2 in /usr/local/lib/python3.7/dist-packages (from requests<3,>=2.21.0->tensorboard<2.9,>=2.8->tensorflow<2.9,>=2.8.0->tensorflow-text==2.8.1) (3.0.4)\n",
      "Requirement already satisfied: certifi>=2017.4.17 in /usr/local/lib/python3.7/dist-packages (from requests<3,>=2.21.0->tensorboard<2.9,>=2.8->tensorflow<2.9,>=2.8.0->tensorflow-text==2.8.1) (2021.10.8)\n",
      "Requirement already satisfied: urllib3!=1.25.0,!=1.25.1,<1.26,>=1.21.1 in /usr/local/lib/python3.7/dist-packages (from requests<3,>=2.21.0->tensorboard<2.9,>=2.8->tensorflow<2.9,>=2.8.0->tensorflow-text==2.8.1) (1.24.3)\n",
      "Requirement already satisfied: idna<3,>=2.5 in /usr/local/lib/python3.7/dist-packages (from requests<3,>=2.21.0->tensorboard<2.9,>=2.8->tensorflow<2.9,>=2.8.0->tensorflow-text==2.8.1) (2.10)\n",
      "Requirement already satisfied: oauthlib>=3.0.0 in /usr/local/lib/python3.7/dist-packages (from requests-oauthlib>=0.7.0->google-auth-oauthlib<0.5,>=0.4.1->tensorboard<2.9,>=2.8->tensorflow<2.9,>=2.8.0->tensorflow-text==2.8.1) (3.2.0)\n"
     ]
    }
   ],
   "source": [
    "!pip install -U tensorflow-text==2.8.1"
   ]
  },
  {
   "cell_type": "code",
   "execution_count": 1,
   "id": "33cb8783-f4e7-4f35-8ea8-f6bc1e30584a",
   "metadata": {
    "colab": {
     "base_uri": "https://localhost:8080/"
    },
    "id": "33cb8783-f4e7-4f35-8ea8-f6bc1e30584a",
    "outputId": "26a9c974-8153-4912-e776-8529812ecacc"
   },
   "outputs": [
    {
     "name": "stdout",
     "output_type": "stream",
     "text": [
      "Version:  2.8.0\n",
      "Eager mode:  True\n",
      "Hub version:  0.12.0\n",
      "GPU is available\n"
     ]
    }
   ],
   "source": [
    "import matplotlib.pyplot as plt\n",
    "import numpy as np\n",
    "import neural_structured_learning as nsl\n",
    "import tensorflow as tf\n",
    "import tensorflow_hub as hub\n",
    "import tensorflow_text\n",
    "\n",
    "# Resets notebook state\n",
    "tf.keras.backend.clear_session()\n",
    "\n",
    "print(\"Version: \", tf.__version__)\n",
    "print(\"Eager mode: \", tf.executing_eagerly())\n",
    "print(\"Hub version: \", hub.__version__)\n",
    "print(\n",
    "    \"GPU is\",\n",
    "    \"available\" if tf.config.list_physical_devices(\"GPU\") else \"NOT AVAILABLE\")"
   ]
  },
  {
   "cell_type": "code",
   "execution_count": 25,
   "id": "vECgs-urXfUm",
   "metadata": {
    "id": "vECgs-urXfUm"
   },
   "outputs": [],
   "source": [
    "import dataLoader\n",
    "import bertEmbeddings\n",
    "import tfRecordTools\n",
    "import train\n",
    "import importlib"
   ]
  },
  {
   "cell_type": "code",
   "execution_count": 26,
   "id": "3600aa3a-b367-477c-a425-d6a468599e5c",
   "metadata": {},
   "outputs": [
    {
     "data": {
      "text/plain": [
       "<module 'dataLoader' from '/Users/zeyuyang/Projects/CS397Project/dataLoader.py'>"
      ]
     },
     "execution_count": 26,
     "metadata": {},
     "output_type": "execute_result"
    }
   ],
   "source": [
    "reload(dataLoader)"
   ]
  },
  {
   "cell_type": "markdown",
   "id": "2964ce30-7e5e-492e-86c2-e2f466d33218",
   "metadata": {
    "id": "2964ce30-7e5e-492e-86c2-e2f466d33218"
   },
   "source": [
    "## Dataset Loading"
   ]
  },
  {
   "cell_type": "code",
   "execution_count": 4,
   "id": "fea73b0a",
   "metadata": {
    "id": "fea73b0a"
   },
   "outputs": [],
   "source": [
    "# Load data from IMDB\n",
    "imdb = tf.keras.datasets.imdb\n",
    "(pp_train_data, pp_train_labels), (pp_test_data, pp_test_labels) = (\n",
    "    imdb.load_data(num_words=10000))"
   ]
  },
  {
   "cell_type": "code",
   "execution_count": 5,
   "id": "cb9bcdc9",
   "metadata": {
    "id": "cb9bcdc9"
   },
   "outputs": [],
   "source": [
    "# This block limits how much is loaded to keep debugging short\n",
    "# don't run on the final experiments\n",
    "\n",
    "limit = 100\n",
    "\n",
    "pp_train_data = pp_train_data[0:limit]\n",
    "pp_train_labels = pp_train_labels[0:limit]\n",
    "pp_test_data = pp_test_data[0:limit]\n",
    "pp_test_labels = pp_test_labels[0:limit]"
   ]
  },
  {
   "cell_type": "code",
   "execution_count": 20,
   "id": "c9d5eb4e",
   "metadata": {
    "colab": {
     "base_uri": "https://localhost:8080/"
    },
    "id": "c9d5eb4e",
    "outputId": "7d927041-fa96-482c-f50a-250838b5e454"
   },
   "outputs": [
    {
     "name": "stdout",
     "output_type": "stream",
     "text": [
      "Training entries: 100, labels: 100\n",
      "[1, 14, 22, 16, 43, 530, 973, 1622, 1385, 65, 458, 4468, 66, 3941, 4, 173, 36, 256, 5, 25, 100, 43, 838, 112, 50, 670, 2, 9, 35, 480, 284, 5, 150, 4, 172, 112, 167, 2, 336, 385, 39, 4, 172, 4536, 1111, 17, 546, 38, 13, 447, 4, 192, 50, 16, 6, 147, 2025, 19, 14, 22, 4, 1920, 4613, 469, 4, 22, 71, 87, 12, 16, 43, 530, 38, 76, 15, 13, 1247, 4, 22, 17, 515, 17, 12, 16, 626, 18, 2, 5, 62, 386, 12, 8, 316, 8, 106, 5, 4, 2223, 5244, 16, 480, 66, 3785, 33, 4, 130, 12, 16, 38, 619, 5, 25, 124, 51, 36, 135, 48, 25, 1415, 33, 6, 22, 12, 215, 28, 77, 52, 5, 14, 407, 16, 82, 2, 8, 4, 107, 117, 5952, 15, 256, 4, 2, 7, 3766, 5, 723, 36, 71, 43, 530, 476, 26, 400, 317, 46, 7, 4, 2, 1029, 13, 104, 88, 4, 381, 15, 297, 98, 32, 2071, 56, 26, 141, 6, 194, 7486, 18, 4, 226, 22, 21, 134, 476, 26, 480, 5, 144, 30, 5535, 18, 51, 36, 28, 224, 92, 25, 104, 4, 226, 65, 16, 38, 1334, 88, 12, 16, 283, 5, 16, 4472, 113, 103, 32, 15, 16, 5345, 19, 178, 32]\n"
     ]
    },
    {
     "data": {
      "text/plain": [
       "(218, 189)"
      ]
     },
     "execution_count": 20,
     "metadata": {},
     "output_type": "execute_result"
    }
   ],
   "source": [
    "# Print data entries\n",
    "print('Training entries: {}, labels: {}'.format(\n",
    "    len(pp_train_data),\n",
    "    len(pp_train_labels)\n",
    "))\n",
    "training_samples_count = len(pp_train_data)\n",
    "print(pp_train_data[0])\n",
    "len(pp_train_data[0]), len(pp_train_data[1])"
   ]
  },
  {
   "cell_type": "code",
   "execution_count": 22,
   "id": "24459eb0-dc05-4fc1-9fee-9ff89dc0483b",
   "metadata": {},
   "outputs": [],
   "source": [
    "reverseWordIndex = dataLoader.buildReverseWordIndex(imdb)"
   ]
  },
  {
   "cell_type": "code",
   "execution_count": 24,
   "id": "8e51c324",
   "metadata": {
    "colab": {
     "base_uri": "https://localhost:8080/",
     "height": 174
    },
    "id": "8e51c324",
    "outputId": "3a339e9b-c7ef-4fd8-b0d8-0efb7de8f88b"
   },
   "outputs": [
    {
     "data": {
      "text/plain": [
       "\"<START> this film was just brilliant casting location scenery story direction everyone's really suited the part they played and you could just imagine being there robert <UNK> is an amazing actor and now the same being director <UNK> father came from the same scottish island as myself so i loved the fact there was a real connection with this film the witty remarks throughout the film were great it was just brilliant so much that i bought the film as soon as it was released for <UNK> and would recommend it to everyone to watch and the fly fishing was amazing really cried at the end it was so sad and you know what they say if you cry at a film it must have been good and this definitely was also <UNK> to the two little boy's that played the <UNK> of norman and paul they were just brilliant children are often left out of the <UNK> list i think because the stars that play them all grown up are such a big profile for the whole film but these children are amazing and should be praised for what they have done don't you think the whole story was so lovely because it was true and was someone's life after all that was shared with us all\""
      ]
     },
     "execution_count": 24,
     "metadata": {},
     "output_type": "execute_result"
    }
   ],
   "source": [
    "dataLoader.decodeReview(pp_train_data[0], reverseWordIndex)"
   ]
  },
  {
   "cell_type": "markdown",
   "id": "91262af3-e6fd-48ba-946e-0ee5371a580e",
   "metadata": {
    "id": "91262af3-e6fd-48ba-946e-0ee5371a580e"
   },
   "source": [
    "## Pretrained Embeddings"
   ]
  },
  {
   "cell_type": "code",
   "execution_count": 27,
   "id": "00852ae7-69da-493b-ab1d-6eabe98319ba",
   "metadata": {
    "id": "00852ae7-69da-493b-ab1d-6eabe98319ba"
   },
   "outputs": [],
   "source": [
    "# Retrieve small bert embeddings\n",
    "pretrained_embedding = 'https://tfhub.dev/tensorflow/small_bert/bert_en_uncased_L-2_H-128_A-2/2'"
   ]
  },
  {
   "cell_type": "code",
   "execution_count": 29,
   "id": "c2d9317c-a174-4244-b6ef-720ff37ff31a",
   "metadata": {
    "id": "c2d9317c-a174-4244-b6ef-720ff37ff31a"
   },
   "outputs": [
    {
     "name": "stderr",
     "output_type": "stream",
     "text": [
      "2022-05-22 10:50:38.298501: I tensorflow/core/common_runtime/pluggable_device/pluggable_device_factory.cc:305] Could not identify NUMA node of platform GPU ID 0, defaulting to 0. Your kernel may not have been built with NUMA support.\n",
      "2022-05-22 10:50:38.298794: I tensorflow/core/common_runtime/pluggable_device/pluggable_device_factory.cc:271] Created TensorFlow device (/job:localhost/replica:0/task:0/device:GPU:0 with 0 MB memory) -> physical PluggableDevice (device: 0, name: METAL, pci bus id: <undefined>)\n"
     ]
    },
    {
     "name": "stdout",
     "output_type": "stream",
     "text": [
      "Metal device set to: Apple M1 Max\n"
     ]
    },
    {
     "name": "stderr",
     "output_type": "stream",
     "text": [
      "2022-05-22 10:50:38.945962: W tensorflow/core/platform/profile_utils/cpu_utils.cc:128] Failed to get CPU frequency: 0 Hz\n",
      "2022-05-22 10:50:38.975252: I tensorflow/core/grappler/optimizers/custom_graph_optimizer_registry.cc:113] Plugin optimizer for device_type GPU is enabled.\n"
     ]
    }
   ],
   "source": [
    "# Preprocess and encode input\n",
    "text_input = tf.keras.layers.Input(shape=(), dtype=tf.string)\n",
    "preprocessor = hub.KerasLayer('https://tfhub.dev/tensorflow/bert_en_uncased_preprocess/3')\n",
    "encoder_inputs = preprocessor(text_input)\n",
    "\n",
    "encoder = hub.KerasLayer('https://tfhub.dev/tensorflow/small_bert/bert_en_uncased_L-2_H-128_A-2/2',trainable=True)\n",
    "\n",
    "outputs = encoder(encoder_inputs)\n",
    "\n",
    "pooled_output = outputs['pooled_output'] # [batch_size, 128].\n",
    "# [batch_size, seq_length, 128].\n",
    "\n",
    "sequence_output = outputs['sequence_output']"
   ]
  },
  {
   "cell_type": "code",
   "execution_count": 51,
   "id": "f72fe987-4b94-495c-abc8-f663565f5bbf",
   "metadata": {},
   "outputs": [
    {
     "data": {
      "text/plain": [
       "<module 'tfRecordTools' from '/Users/zeyuyang/Projects/CS397Project/tfRecordTools.py'>"
      ]
     },
     "execution_count": 51,
     "metadata": {},
     "output_type": "execute_result"
    }
   ],
   "source": [
    "reload(bertEmbeddings)\n",
    "reload(tfRecordTools)"
   ]
  },
  {
   "cell_type": "code",
   "execution_count": 49,
   "id": "1T7FSUmGrS9I",
   "metadata": {
    "id": "1T7FSUmGrS9I"
   },
   "outputs": [],
   "source": [
    "oneEmbedding = bertEmbeddings.createBertEmbeddingExample(pp_train_data[0], 0, reverseWordIndex, encoder, preprocessor)"
   ]
  },
  {
   "cell_type": "code",
   "execution_count": 50,
   "id": "e3b23e93-343d-48d8-9534-d3134fed6a40",
   "metadata": {},
   "outputs": [
    {
     "data": {
      "text/plain": [
       "features {\n",
       "  feature {\n",
       "    key: \"embedding\"\n",
       "    value {\n",
       "      float_list {\n",
       "        value: -0.9970534443855286\n",
       "        value: 0.131486177444458\n",
       "        value: -0.9839852452278137\n",
       "        value: 0.9861465096473694\n",
       "        value: -0.9971204400062561\n",
       "        value: 0.856085479259491\n",
       "        value: -0.9944372773170471\n",
       "        value: -0.13611185550689697\n",
       "        value: -0.033533722162246704\n",
       "        value: 0.1380845159292221\n",
       "        value: -0.8371204733848572\n",
       "        value: 0.012691838666796684\n",
       "        value: -0.05454445630311966\n",
       "        value: 0.9937337040901184\n",
       "        value: -0.622428297996521\n",
       "        value: -0.9658992886543274\n",
       "        value: 0.9696784615516663\n",
       "        value: 0.005809218622744083\n",
       "        value: -0.8203678131103516\n",
       "        value: 0.979274570941925\n",
       "        value: 0.7504119277000427\n",
       "        value: 0.05522230267524719\n",
       "        value: 0.9424341320991516\n",
       "        value: 0.07357314974069595\n",
       "        value: -0.999937117099762\n",
       "        value: -0.03137080371379852\n",
       "        value: -0.9918352961540222\n",
       "        value: 0.9417163133621216\n",
       "        value: 0.9879518747329712\n",
       "        value: 0.19298502802848816\n",
       "        value: 0.2754269540309906\n",
       "        value: 0.14537540078163147\n",
       "        value: -0.9920747876167297\n",
       "        value: -0.564655065536499\n",
       "        value: 0.9556254148483276\n",
       "        value: 0.9966794848442078\n",
       "        value: -0.2129620909690857\n",
       "        value: -0.14163309335708618\n",
       "        value: -0.03253911808133125\n",
       "        value: -0.9948015213012695\n",
       "        value: 0.3097033202648163\n",
       "        value: 0.993799090385437\n",
       "        value: -0.9927107691764832\n",
       "        value: 0.7712802886962891\n",
       "        value: -0.9788926839828491\n",
       "        value: -0.3222353458404541\n",
       "        value: -0.9982249140739441\n",
       "        value: 0.9900729656219482\n",
       "        value: 0.15506422519683838\n",
       "        value: 0.9800440669059753\n",
       "        value: 0.9569339752197266\n",
       "        value: -0.9695091247558594\n",
       "        value: 0.13444241881370544\n",
       "        value: 0.9866064190864563\n",
       "        value: 0.9986727237701416\n",
       "        value: 0.9574974179267883\n",
       "        value: -0.8933827877044678\n",
       "        value: 0.6398172974586487\n",
       "        value: 0.721250057220459\n",
       "        value: -0.9690951108932495\n",
       "        value: 0.08886729180812836\n",
       "        value: -0.42052143812179565\n",
       "        value: 0.673798680305481\n",
       "        value: 0.9192366003990173\n",
       "        value: -0.20413435995578766\n",
       "        value: -0.992947518825531\n",
       "        value: 0.9228846430778503\n",
       "        value: -0.17974457144737244\n",
       "        value: 0.8134275078773499\n",
       "        value: 0.308112770318985\n",
       "        value: 0.9814067482948303\n",
       "        value: -0.30775186419487\n",
       "        value: -0.9979097843170166\n",
       "        value: 0.26039576530456543\n",
       "        value: 0.11542494595050812\n",
       "        value: -0.9850112795829773\n",
       "        value: -0.14761982858181\n",
       "        value: 0.046091869473457336\n",
       "        value: -0.7193471789360046\n",
       "        value: 0.035624802112579346\n",
       "        value: 0.4605465233325958\n",
       "        value: -0.20232878625392914\n",
       "        value: -0.9358705878257751\n",
       "        value: -0.9999460577964783\n",
       "        value: 0.9964761137962341\n",
       "        value: -0.5412644743919373\n",
       "        value: 0.9959030151367188\n",
       "        value: -0.3471171259880066\n",
       "        value: -0.8467786908149719\n",
       "        value: 0.9646186828613281\n",
       "        value: -0.2704566419124603\n",
       "        value: 0.9891543388366699\n",
       "        value: -0.024348806589841843\n",
       "        value: 0.9931716322898865\n",
       "        value: 0.8267182111740112\n",
       "        value: 0.790899395942688\n",
       "        value: -0.9328992366790771\n",
       "        value: -0.9747947454452515\n",
       "        value: -0.9167670011520386\n",
       "        value: -0.9841774702072144\n",
       "        value: -0.9686798453330994\n",
       "        value: 0.5471987724304199\n",
       "        value: -0.9726107120513916\n",
       "        value: -0.8856027126312256\n",
       "        value: -0.9940360188484192\n",
       "        value: 0.7751185894012451\n",
       "        value: -0.9787068367004395\n",
       "        value: -0.6042645573616028\n",
       "        value: -0.7438167929649353\n",
       "        value: 0.9935137033462524\n",
       "        value: 0.9635453224182129\n",
       "        value: 0.9352121353149414\n",
       "        value: -0.0038182237185537815\n",
       "        value: 0.9820680022239685\n",
       "        value: -0.9887178540229797\n",
       "        value: 0.3365741968154907\n",
       "        value: 0.9267038702964783\n",
       "        value: 0.6516972780227661\n",
       "        value: 0.120675228536129\n",
       "        value: -0.22844865918159485\n",
       "        value: 0.2070663571357727\n",
       "        value: -0.9995872378349304\n",
       "        value: -0.8881444931030273\n",
       "        value: 0.9469502568244934\n",
       "        value: -0.9658233523368835\n",
       "        value: 0.46490389108657837\n",
       "        value: 0.9740654826164246\n",
       "        value: 0.986060619354248\n",
       "      }\n",
       "    }\n",
       "  }\n",
       "  feature {\n",
       "    key: \"id\"\n",
       "    value {\n",
       "      bytes_list {\n",
       "        value: \"0\"\n",
       "      }\n",
       "    }\n",
       "  }\n",
       "}"
      ]
     },
     "execution_count": 50,
     "metadata": {},
     "output_type": "execute_result"
    }
   ],
   "source": [
    "oneEmbedding"
   ]
  },
  {
   "cell_type": "code",
   "execution_count": 53,
   "id": "5FapV4KEK3CA",
   "metadata": {
    "id": "5FapV4KEK3CA"
   },
   "outputs": [
    {
     "data": {
      "text/plain": [
       "100"
      ]
     },
     "execution_count": 53,
     "metadata": {},
     "output_type": "execute_result"
    }
   ],
   "source": [
    "# Generate full BERT embeddings\n",
    "\n",
    "bertEmbeddingsPath = '/tmp/imdb/bertEmeddings.tfr'\n",
    "createBertEmbedding(pp_train_data, bertEmbeddingsPath, 0, reverseWordIndex, encoder, preprocessor)"
   ]
  },
  {
   "cell_type": "markdown",
   "id": "cdbabe7b-8263-4aa6-99e5-c5c8093c07dc",
   "metadata": {
    "id": "cdbabe7b-8263-4aa6-99e5-c5c8093c07dc"
   },
   "source": [
    "## Training and Validation"
   ]
  },
  {
   "cell_type": "markdown",
   "id": "98af990c-967c-4bd9-bcab-7c6d7e313fa1",
   "metadata": {
    "id": "98af990c-967c-4bd9-bcab-7c6d7e313fa1"
   },
   "source": [
    "### Training Hyperparameters"
   ]
  },
  {
   "cell_type": "code",
   "execution_count": 26,
   "id": "0G8QR80QOy_S",
   "metadata": {
    "id": "0G8QR80QOy_S"
   },
   "outputs": [],
   "source": [
    "# Set parameters\n",
    "NBR_FEATURE_PREFIX = 'NL_nbr_'\n",
    "NBR_WEIGHT_SUFFIX = '_weight'\n",
    "HPARAMS = HParams()"
   ]
  },
  {
   "cell_type": "markdown",
   "id": "f6L6sa-HTYQF",
   "metadata": {
    "id": "f6L6sa-HTYQF"
   },
   "source": [
    "### Sample Features"
   ]
  },
  {
   "cell_type": "code",
   "execution_count": null,
   "id": "496b4dc1-f541-4298-8e77-97b150ddf90e",
   "metadata": {
    "id": "496b4dc1-f541-4298-8e77-97b150ddf90e"
   },
   "outputs": [],
   "source": [
    "# Persist TF.Example features (word vectors and labels) for training and test\n",
    "# data in TFRecord format.\n",
    "next_record_id = create_records(pp_train_data,\n",
    "                                pp_train_labels,\n",
    "                                '/tmp/imdb/train_data.tfr',\n",
    "                                0)\n",
    "create_records(pp_test_data,\n",
    "               pp_test_labels,\n",
    "               '/tmp/imdb/test_data.tfr',\n",
    "               next_record_id)"
   ]
  },
  {
   "cell_type": "markdown",
   "id": "65_BUyTOThzE",
   "metadata": {
    "id": "65_BUyTOThzE"
   },
   "source": [
    "### Build Traininig and Testing Datasets"
   ]
  },
  {
   "cell_type": "code",
   "execution_count": null,
   "id": "vqigJ7EnOpsL",
   "metadata": {
    "id": "vqigJ7EnOpsL"
   },
   "outputs": [],
   "source": [
    "# Create training and testing datasets\n",
    "train_dataset = make_dataset('/tmp/imdb/nsl_train_data.tfr', HPARAMS, NBR_FEATURE_PREFIX, NBR_WEIGHT_SUFFIX, True)\n",
    "test_dataset = make_dataset('/tmp/imdb/test_data.tfr', HPARAMS, NBR_FEATURE_PREFIX, NBR_WEIGHT_SUFFIX, False)"
   ]
  },
  {
   "cell_type": "markdown",
   "id": "s0bnGBGLURhU",
   "metadata": {
    "id": "s0bnGBGLURhU"
   },
   "source": [
    "### Build Validation Set"
   ]
  },
  {
   "cell_type": "code",
   "execution_count": null,
   "id": "LzzGvGQuUV77",
   "metadata": {
    "id": "LzzGvGQuUV77"
   },
   "outputs": [],
   "source": [
    "validation_fraction = 0.9\n",
    "validation_size = int(validation_fraction *\n",
    "                      int(training_samples_count / HPARAMS.batch_size))\n",
    "print(validation_size)\n",
    "validation_dataset = train_dataset.take(validation_size)\n",
    "train_dataset = train_dataset.skip(validation_size)"
   ]
  },
  {
   "cell_type": "markdown",
   "id": "48770a57-8748-41b8-86b8-95cb7035ba49",
   "metadata": {
    "id": "48770a57-8748-41b8-86b8-95cb7035ba49"
   },
   "source": [
    "## Setting up Base Models (Bi-LSTM)"
   ]
  },
  {
   "cell_type": "markdown",
   "id": "7daaa227-cbe1-470f-9f71-7243fd8b0c07",
   "metadata": {
    "id": "7daaa227-cbe1-470f-9f71-7243fd8b0c07"
   },
   "source": [
    "### Create Models"
   ]
  },
  {
   "cell_type": "code",
   "execution_count": 31,
   "id": "_uwHmlJRVoJ5",
   "metadata": {
    "colab": {
     "base_uri": "https://localhost:8080/"
    },
    "id": "_uwHmlJRVoJ5",
    "outputId": "09344e18-d42f-442b-832e-f49929acc9bd"
   },
   "outputs": [
    {
     "name": "stdout",
     "output_type": "stream",
     "text": [
      "Model: \"model\"\n",
      "_________________________________________________________________\n",
      " Layer (type)                Output Shape              Param #   \n",
      "=================================================================\n",
      " words (InputLayer)          [(None, 256)]             0         \n",
      "                                                                 \n",
      " embedding (Embedding)       (None, 256, 16)           160000    \n",
      "                                                                 \n",
      " bidirectional (Bidirectiona  (None, 128)              41472     \n",
      " l)                                                              \n",
      "                                                                 \n",
      " dense (Dense)               (None, 64)                8256      \n",
      "                                                                 \n",
      " dense_1 (Dense)             (None, 1)                 65        \n",
      "                                                                 \n",
      "=================================================================\n",
      "Total params: 209,793\n",
      "Trainable params: 209,793\n",
      "Non-trainable params: 0\n",
      "_________________________________________________________________\n"
     ]
    }
   ],
   "source": [
    "# build Bi-LSTM model\n",
    "model = make_bilstm_model(HPARAMS)\n",
    "model.summary()"
   ]
  },
  {
   "cell_type": "code",
   "execution_count": 32,
   "id": "lNjp9UQrV060",
   "metadata": {
    "id": "lNjp9UQrV060"
   },
   "outputs": [],
   "source": [
    "# set loss function and optimizer\n",
    "model.compile(\n",
    "    optimizer='adam',\n",
    "    loss=tf.keras.losses.BinaryCrossentropy(from_logits=True),\n",
    "    metrics=['accuracy'])"
   ]
  },
  {
   "cell_type": "markdown",
   "id": "be3126a2-34b0-4263-879e-7e05f2233865",
   "metadata": {
    "id": "be3126a2-34b0-4263-879e-7e05f2233865"
   },
   "source": [
    "### Fit Model"
   ]
  },
  {
   "cell_type": "code",
   "execution_count": null,
   "id": "nJheMkn5V6yr",
   "metadata": {
    "id": "nJheMkn5V6yr"
   },
   "outputs": [],
   "source": [
    "history = model.fit(\n",
    "    train_dataset,\n",
    "    validation_data=validation_dataset,\n",
    "    epochs=HPARAMS.train_epochs,\n",
    "    verbose=1)"
   ]
  },
  {
   "cell_type": "markdown",
   "id": "0f56699b-7473-4297-aa56-8b820d1f09aa",
   "metadata": {
    "id": "0f56699b-7473-4297-aa56-8b820d1f09aa"
   },
   "source": [
    "### Evaluate Model"
   ]
  },
  {
   "cell_type": "code",
   "execution_count": null,
   "id": "f0vMq3iuWA1L",
   "metadata": {
    "id": "f0vMq3iuWA1L"
   },
   "outputs": [],
   "source": [
    "# evaluate model performance on test data\n",
    "results = model.evaluate(test_dataset, steps=HPARAMS.eval_steps)\n",
    "print(results)"
   ]
  },
  {
   "cell_type": "markdown",
   "id": "85b8bc72-e988-485a-820a-7b7f97c98fbb",
   "metadata": {
    "id": "85b8bc72-e988-485a-820a-7b7f97c98fbb"
   },
   "source": [
    "### Plot Performance"
   ]
  },
  {
   "cell_type": "code",
   "execution_count": null,
   "id": "2cca2741-5009-4191-a6e1-b0b8d5267232",
   "metadata": {
    "id": "2cca2741-5009-4191-a6e1-b0b8d5267232"
   },
   "outputs": [],
   "source": [
    "# plot training and validaiton loss over epochs\n",
    "history_dict = history.history\n",
    "acc = history_dict['accuracy']\n",
    "val_acc = history_dict['val_accuracy']\n",
    "loss = history_dict['loss']\n",
    "val_loss = history_dict['val_loss']\n",
    "\n",
    "epochs = range(1, len(acc) + 1)\n",
    "\n",
    "# \"-r^\" is for solid red line with triangle markers.\n",
    "plt.plot(epochs, loss, '-r^', label='Training loss')\n",
    "# \"-b0\" is for solid blue line with circle markers.\n",
    "plt.plot(epochs, val_loss, '-bo', label='Validation loss')\n",
    "plt.title('Training and validation loss')\n",
    "plt.xlabel('Epochs')\n",
    "plt.ylabel('Loss')\n",
    "plt.legend(loc='best')\n",
    "\n",
    "plt.show()"
   ]
  },
  {
   "cell_type": "code",
   "execution_count": null,
   "id": "b0c446d9-9979-4e59-b8fd-97ec51dac593",
   "metadata": {
    "id": "b0c446d9-9979-4e59-b8fd-97ec51dac593"
   },
   "outputs": [],
   "source": [
    "# plot training and validation accuracy over epochs\n",
    "plt.clf()   # clear figure\n",
    "\n",
    "plt.plot(epochs, acc, '-r^', label='Training acc')\n",
    "plt.plot(epochs, val_acc, '-bo', label='Validation acc')\n",
    "plt.title('Training and validation accuracy')\n",
    "plt.xlabel('Epochs')\n",
    "plt.ylabel('Accuracy')\n",
    "plt.legend(loc='best')\n",
    "\n",
    "plt.show()"
   ]
  },
  {
   "cell_type": "markdown",
   "id": "3b7e1cb4-9f77-4a43-8162-24cc7cd0808a",
   "metadata": {
    "id": "3b7e1cb4-9f77-4a43-8162-24cc7cd0808a"
   },
   "source": [
    "## CNN Models"
   ]
  },
  {
   "cell_type": "markdown",
   "id": "869dbe34-05f0-4a8a-b4e8-e4efd504986a",
   "metadata": {
    "id": "869dbe34-05f0-4a8a-b4e8-e4efd504986a"
   },
   "source": [
    "### Same categories as before"
   ]
  },
  {
   "cell_type": "code",
   "execution_count": null,
   "id": "a2756196-6278-4d93-b820-0af455624d48",
   "metadata": {
    "id": "a2756196-6278-4d93-b820-0af455624d48"
   },
   "outputs": [],
   "source": []
  },
  {
   "cell_type": "code",
   "execution_count": null,
   "id": "0f8a5809-b610-47bf-8531-0bc71731bfdf",
   "metadata": {
    "id": "0f8a5809-b610-47bf-8531-0bc71731bfdf"
   },
   "outputs": [],
   "source": []
  },
  {
   "cell_type": "code",
   "execution_count": null,
   "id": "9e477ea7-40c6-415c-ab64-99b7cbe6f751",
   "metadata": {
    "id": "9e477ea7-40c6-415c-ab64-99b7cbe6f751"
   },
   "outputs": [],
   "source": []
  },
  {
   "cell_type": "markdown",
   "id": "6ba369a2-7dfc-462a-a769-8a5d1bc73a4f",
   "metadata": {
    "id": "6ba369a2-7dfc-462a-a769-8a5d1bc73a4f"
   },
   "source": [
    "## Graph Models"
   ]
  },
  {
   "cell_type": "markdown",
   "id": "1ed0968c-139e-49ef-ba57-0c9f0c979f72",
   "metadata": {
    "id": "1ed0968c-139e-49ef-ba57-0c9f0c979f72"
   },
   "source": [
    "### Same categories as before"
   ]
  },
  {
   "cell_type": "code",
   "execution_count": null,
   "id": "0a6c3222-743e-4fd2-a106-68f2bbdd939b",
   "metadata": {
    "id": "0a6c3222-743e-4fd2-a106-68f2bbdd939b"
   },
   "outputs": [],
   "source": []
  },
  {
   "cell_type": "code",
   "execution_count": null,
   "id": "ddf29b59-296b-4330-b57f-9f7e058c5756",
   "metadata": {
    "id": "ddf29b59-296b-4330-b57f-9f7e058c5756"
   },
   "outputs": [],
   "source": []
  },
  {
   "cell_type": "code",
   "execution_count": null,
   "id": "2a52ad69-176a-4fbf-adb6-576880f00f8a",
   "metadata": {
    "id": "2a52ad69-176a-4fbf-adb6-576880f00f8a"
   },
   "outputs": [],
   "source": []
  }
 ],
 "metadata": {
  "colab": {
   "collapsed_sections": [
    "bc5f4233-f3dc-4b83-9c8e-fedafeb73041",
    "3b7e1cb4-9f77-4a43-8162-24cc7cd0808a",
    "869dbe34-05f0-4a8a-b4e8-e4efd504986a",
    "6ba369a2-7dfc-462a-a769-8a5d1bc73a4f",
    "1ed0968c-139e-49ef-ba57-0c9f0c979f72"
   ],
   "name": "MainNotebook.ipynb",
   "provenance": []
  },
  "kernelspec": {
   "display_name": "Python 3 (ipykernel)",
   "language": "python",
   "name": "python3"
  },
  "language_info": {
   "codemirror_mode": {
    "name": "ipython",
    "version": 3
   },
   "file_extension": ".py",
   "mimetype": "text/x-python",
   "name": "python",
   "nbconvert_exporter": "python",
   "pygments_lexer": "ipython3",
   "version": "3.9.7"
  }
 },
 "nbformat": 4,
 "nbformat_minor": 5
}
