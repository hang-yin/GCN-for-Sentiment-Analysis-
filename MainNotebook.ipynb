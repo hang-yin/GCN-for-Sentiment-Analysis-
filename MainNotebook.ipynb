{
 "cells": [
  {
   "cell_type": "markdown",
   "id": "bc5f4233-f3dc-4b83-9c8e-fedafeb73041",
   "metadata": {},
   "source": [
    "# Abstract for the Project"
   ]
  },
  {
   "cell_type": "markdown",
   "id": "793b87ce-4aba-43e4-a19a-3ef6910df878",
   "metadata": {},
   "source": [
    "## Task"
   ]
  },
  {
   "cell_type": "code",
   "execution_count": null,
   "id": "ba8ae1b5-e2d9-4c46-99a2-ec0da3c15642",
   "metadata": {},
   "outputs": [],
   "source": []
  },
  {
   "cell_type": "code",
   "execution_count": null,
   "id": "7aaca91c-5885-4a68-9878-7632ca279c00",
   "metadata": {},
   "outputs": [],
   "source": []
  },
  {
   "cell_type": "markdown",
   "id": "20d4617e-384e-444d-97cf-663141d35e98",
   "metadata": {},
   "source": [
    "## Model"
   ]
  },
  {
   "cell_type": "code",
   "execution_count": null,
   "id": "f67c597c-7979-48ba-b497-3cec44079aea",
   "metadata": {},
   "outputs": [],
   "source": []
  },
  {
   "cell_type": "code",
   "execution_count": null,
   "id": "1e3533a4-5f0b-44af-a426-c90001cc05ad",
   "metadata": {},
   "outputs": [],
   "source": []
  },
  {
   "cell_type": "markdown",
   "id": "2beddffa-3a84-4c52-9f2d-7cda2ed81c95",
   "metadata": {},
   "source": [
    "## Experiment"
   ]
  },
  {
   "cell_type": "code",
   "execution_count": null,
   "id": "ceb8a21e-21e4-4b4f-9d8a-633cbb64bb56",
   "metadata": {},
   "outputs": [],
   "source": []
  },
  {
   "cell_type": "code",
   "execution_count": null,
   "id": "46580b52-0885-49c8-ad5f-21b4187f192e",
   "metadata": {},
   "outputs": [],
   "source": []
  },
  {
   "cell_type": "markdown",
   "id": "017cfee9-d0b0-40b5-813b-a18e39af04d9",
   "metadata": {},
   "source": [
    "## Datasets"
   ]
  },
  {
   "cell_type": "code",
   "execution_count": null,
   "id": "fa69482d-b35f-47e0-8519-af531ca73713",
   "metadata": {},
   "outputs": [],
   "source": []
  },
  {
   "cell_type": "code",
   "execution_count": null,
   "id": "1d800d5e-acd2-4935-a35f-b40e9a51955b",
   "metadata": {},
   "outputs": [],
   "source": []
  },
  {
   "cell_type": "markdown",
   "id": "c1b7b98f-2c66-4438-8a47-2c4f8e4ddbba",
   "metadata": {},
   "source": [
    "# Code"
   ]
  },
  {
   "cell_type": "markdown",
   "id": "2a602346-56ca-4a16-88ce-2dc585b155f2",
   "metadata": {},
   "source": [
    "## Import statements"
   ]
  },
  {
   "cell_type": "code",
   "execution_count": 16,
   "id": "9e1d30f5-8125-4d4c-bd55-d20d24d3b23e",
   "metadata": {},
   "outputs": [],
   "source": [
    "from dataLoader import *"
   ]
  },
  {
   "cell_type": "code",
   "execution_count": null,
   "id": "33cb8783-f4e7-4f35-8ea8-f6bc1e30584a",
   "metadata": {},
   "outputs": [],
   "source": []
  },
  {
   "cell_type": "markdown",
   "id": "2964ce30-7e5e-492e-86c2-e2f466d33218",
   "metadata": {},
   "source": [
    "## Dataset Loading"
   ]
  },
  {
   "cell_type": "code",
   "execution_count": 18,
   "id": "f5aa2220-af09-4cd0-ba04-d8a30ec6c359",
   "metadata": {},
   "outputs": [
    {
     "data": {
      "text/plain": [
       "55"
      ]
     },
     "execution_count": 18,
     "metadata": {},
     "output_type": "execute_result"
    }
   ],
   "source": [
    "sampleFunction(4)"
   ]
  },
  {
   "cell_type": "code",
   "execution_count": null,
   "id": "a970214a-4b8e-48fd-8b9e-c9a8bb1a42bd",
   "metadata": {},
   "outputs": [],
   "source": []
  },
  {
   "cell_type": "markdown",
   "id": "33cffe3a-244d-47d7-9b1c-48c9a731c2c9",
   "metadata": {},
   "source": [
    "## Data Preprocessing"
   ]
  },
  {
   "cell_type": "code",
   "execution_count": null,
   "id": "6ef4b212-f17d-4a92-b8ab-05eb50edac65",
   "metadata": {},
   "outputs": [],
   "source": []
  },
  {
   "cell_type": "code",
   "execution_count": null,
   "id": "8add5317-452d-4e47-b92b-7f0076968538",
   "metadata": {},
   "outputs": [],
   "source": []
  },
  {
   "cell_type": "markdown",
   "id": "91262af3-e6fd-48ba-946e-0ee5371a580e",
   "metadata": {},
   "source": [
    "## Pretrained Embeddings"
   ]
  },
  {
   "cell_type": "code",
   "execution_count": null,
   "id": "00852ae7-69da-493b-ab1d-6eabe98319ba",
   "metadata": {},
   "outputs": [],
   "source": []
  },
  {
   "cell_type": "code",
   "execution_count": null,
   "id": "c2d9317c-a174-4244-b6ef-720ff37ff31a",
   "metadata": {},
   "outputs": [],
   "source": []
  },
  {
   "cell_type": "markdown",
   "id": "cdbabe7b-8263-4aa6-99e5-c5c8093c07dc",
   "metadata": {},
   "source": [
    "## Training and Validation"
   ]
  },
  {
   "cell_type": "code",
   "execution_count": null,
   "id": "496b4dc1-f541-4298-8e77-97b150ddf90e",
   "metadata": {},
   "outputs": [],
   "source": []
  },
  {
   "cell_type": "code",
   "execution_count": null,
   "id": "3f3b5b44-a459-4194-bb99-4dcea5816022",
   "metadata": {},
   "outputs": [],
   "source": []
  },
  {
   "cell_type": "markdown",
   "id": "48770a57-8748-41b8-86b8-95cb7035ba49",
   "metadata": {},
   "source": [
    "## Setting up Base Models"
   ]
  },
  {
   "cell_type": "code",
   "execution_count": null,
   "id": "96dd6916-e2a5-4006-b894-ad08a32f5c51",
   "metadata": {},
   "outputs": [],
   "source": []
  },
  {
   "cell_type": "code",
   "execution_count": null,
   "id": "5c3a7b9e-00e5-4686-af05-b6557491041b",
   "metadata": {},
   "outputs": [],
   "source": []
  },
  {
   "cell_type": "markdown",
   "id": "98af990c-967c-4bd9-bcab-7c6d7e313fa1",
   "metadata": {},
   "source": [
    "### Training Hyperparameters"
   ]
  },
  {
   "cell_type": "markdown",
   "id": "7daaa227-cbe1-470f-9f71-7243fd8b0c07",
   "metadata": {},
   "source": [
    "### Create Models"
   ]
  },
  {
   "cell_type": "markdown",
   "id": "be3126a2-34b0-4263-879e-7e05f2233865",
   "metadata": {},
   "source": [
    "### Fit Model"
   ]
  },
  {
   "cell_type": "markdown",
   "id": "0f56699b-7473-4297-aa56-8b820d1f09aa",
   "metadata": {},
   "source": [
    "### Evaluate Model"
   ]
  },
  {
   "cell_type": "markdown",
   "id": "85b8bc72-e988-485a-820a-7b7f97c98fbb",
   "metadata": {},
   "source": [
    "### Plot Performance"
   ]
  },
  {
   "cell_type": "code",
   "execution_count": null,
   "id": "2cca2741-5009-4191-a6e1-b0b8d5267232",
   "metadata": {},
   "outputs": [],
   "source": []
  },
  {
   "cell_type": "code",
   "execution_count": null,
   "id": "b0c446d9-9979-4e59-b8fd-97ec51dac593",
   "metadata": {},
   "outputs": [],
   "source": []
  },
  {
   "cell_type": "markdown",
   "id": "3b7e1cb4-9f77-4a43-8162-24cc7cd0808a",
   "metadata": {},
   "source": [
    "## CNN Models"
   ]
  },
  {
   "cell_type": "markdown",
   "id": "869dbe34-05f0-4a8a-b4e8-e4efd504986a",
   "metadata": {},
   "source": [
    "### Same categories as before"
   ]
  },
  {
   "cell_type": "code",
   "execution_count": null,
   "id": "a2756196-6278-4d93-b820-0af455624d48",
   "metadata": {},
   "outputs": [],
   "source": []
  },
  {
   "cell_type": "code",
   "execution_count": null,
   "id": "0f8a5809-b610-47bf-8531-0bc71731bfdf",
   "metadata": {},
   "outputs": [],
   "source": []
  },
  {
   "cell_type": "code",
   "execution_count": null,
   "id": "9e477ea7-40c6-415c-ab64-99b7cbe6f751",
   "metadata": {},
   "outputs": [],
   "source": []
  },
  {
   "cell_type": "markdown",
   "id": "6ba369a2-7dfc-462a-a769-8a5d1bc73a4f",
   "metadata": {},
   "source": [
    "## Graph Models"
   ]
  },
  {
   "cell_type": "markdown",
   "id": "1ed0968c-139e-49ef-ba57-0c9f0c979f72",
   "metadata": {},
   "source": [
    "### Same categories as before"
   ]
  },
  {
   "cell_type": "code",
   "execution_count": null,
   "id": "0a6c3222-743e-4fd2-a106-68f2bbdd939b",
   "metadata": {},
   "outputs": [],
   "source": []
  },
  {
   "cell_type": "code",
   "execution_count": null,
   "id": "ddf29b59-296b-4330-b57f-9f7e058c5756",
   "metadata": {},
   "outputs": [],
   "source": []
  },
  {
   "cell_type": "code",
   "execution_count": null,
   "id": "2a52ad69-176a-4fbf-adb6-576880f00f8a",
   "metadata": {},
   "outputs": [],
   "source": []
  }
 ],
 "metadata": {
  "kernelspec": {
   "display_name": "Python 3 (ipykernel)",
   "language": "python",
   "name": "python3"
  },
  "language_info": {
   "codemirror_mode": {
    "name": "ipython",
    "version": 3
   },
   "file_extension": ".py",
   "mimetype": "text/x-python",
   "name": "python",
   "nbconvert_exporter": "python",
   "pygments_lexer": "ipython3",
   "version": "3.9.7"
  }
 },
 "nbformat": 4,
 "nbformat_minor": 5
}
