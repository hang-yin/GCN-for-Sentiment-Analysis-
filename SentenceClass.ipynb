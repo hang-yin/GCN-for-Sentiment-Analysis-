{
 "cells": [
  {
   "cell_type": "markdown",
   "id": "51b1cf96-8c03-4e57-b029-d43c9e54e7b4",
   "metadata": {},
   "source": [
    "# Code for Setence Classification using Graph Neural Networks"
   ]
  },
  {
   "cell_type": "markdown",
   "id": "d1f69266-69bf-461b-845f-a41b5488c062",
   "metadata": {
    "jp-MarkdownHeadingCollapsed": true,
    "tags": []
   },
   "source": [
    "## Summary"
   ]
  },
  {
   "cell_type": "markdown",
   "id": "bba4fd9d-5270-475a-9651-3d4c650a46df",
   "metadata": {},
   "source": [
    "### Task"
   ]
  },
  {
   "cell_type": "markdown",
   "id": "1ae466b3-5084-4a5f-a2f0-2dd975be4c75",
   "metadata": {},
   "source": [
    "The task to construct language models to classify IMDB reviews based on their sentiment (positive or negative)."
   ]
  },
  {
   "cell_type": "markdown",
   "id": "e8323282-ab19-4e07-ad5b-7748c7fd98e2",
   "metadata": {},
   "source": [
    "### Model"
   ]
  },
  {
   "cell_type": "markdown",
   "id": "ca9fd70e-a956-4d55-9da9-bbc473997b00",
   "metadata": {},
   "source": [
    "The model is a bilstm with graph regularization. The graph in constructed from pretrained embeddings from transformer networks."
   ]
  },
  {
   "cell_type": "markdown",
   "id": "fa0d2ebe-122f-4fc7-a038-600c9f9cf305",
   "metadata": {},
   "source": [
    "### Experiments"
   ]
  },
  {
   "cell_type": "markdown",
   "id": "3685175f-26b1-4d8e-8d05-240d3dbba2d6",
   "metadata": {},
   "source": [
    "The experiments we run will help determine the accuracy and interpretability of our model."
   ]
  },
  {
   "cell_type": "markdown",
   "id": "9c49d7b3-3bfb-41b5-932a-9eff0f6d879f",
   "metadata": {},
   "source": [
    "The stats to look for are: accuracy, precision, recall, and AUPRC"
   ]
  },
  {
   "cell_type": "markdown",
   "id": "d0d10647-5f2d-4265-8790-1b96f3aa54bc",
   "metadata": {},
   "source": [
    "Another potential question is robustness, is our model better at telling apart sentences with negative statements. What about adversarially generated sentences?"
   ]
  },
  {
   "cell_type": "markdown",
   "id": "76b13cfc-8167-4fa2-9ded-8a21ef4101ae",
   "metadata": {},
   "source": [
    "### Results"
   ]
  },
  {
   "cell_type": "markdown",
   "id": "c660b0cc-9f80-4914-868e-9a0a7fcc81a5",
   "metadata": {},
   "source": [
    "TBD"
   ]
  },
  {
   "cell_type": "markdown",
   "id": "a4884551-b84e-46d1-a9d7-78dcb3f11abd",
   "metadata": {},
   "source": [
    "### Analysis"
   ]
  },
  {
   "cell_type": "markdown",
   "id": "7e203eba-488b-4254-a807-0db24ea1b2db",
   "metadata": {},
   "source": [
    "What was important and what did we learn?"
   ]
  },
  {
   "cell_type": "markdown",
   "id": "6b20ebd7-1ea2-477f-bd8a-1b295e58ac22",
   "metadata": {},
   "source": [
    "### Conclusion"
   ]
  },
  {
   "cell_type": "markdown",
   "id": "31e3d067-f164-4eec-bb59-762935c364a3",
   "metadata": {},
   "source": [
    "How do we feel about the performance and utility of graphs for sentiment analysis on sentence level tasks?"
   ]
  },
  {
   "cell_type": "markdown",
   "id": "abd8ddbe-66a1-4a24-8068-d009e52c963b",
   "metadata": {},
   "source": [
    "What can we do to identify and fix problems in our approach?"
   ]
  },
  {
   "cell_type": "markdown",
   "id": "1ced077f-efff-489a-99e3-4e9cb852ee7c",
   "metadata": {},
   "source": [
    "## Importing Libraries"
   ]
  },
  {
   "cell_type": "code",
   "execution_count": 2,
   "id": "f5e63ae6-db4e-4f52-ac9f-689a8a2384cc",
   "metadata": {},
   "outputs": [
    {
     "name": "stdout",
     "output_type": "stream",
     "text": [
      "Version:  2.8.0\n",
      "Eager mode:  True\n",
      "Hub version:  0.12.0\n",
      "GPU is available\n"
     ]
    }
   ],
   "source": [
    "import matplotlib.pyplot as plt\n",
    "import numpy as np\n",
    "import neural_structured_learning as nsl\n",
    "import tensorflow_text as text  \n",
    "import tensorflow as tf\n",
    "import tensorflow_hub as hub\n",
    "\n",
    "# Resets notebook state\n",
    "tf.keras.backend.clear_session()\n",
    "\n",
    "print(\"Version: \", tf.__version__)\n",
    "print(\"Eager mode: \", tf.executing_eagerly())\n",
    "print(\"Hub version: \", hub.__version__)\n",
    "print(\n",
    "    \"GPU is\",\n",
    "    \"available\" if tf.config.list_physical_devices(\"GPU\") else \"NOT AVAILABLE\")"
   ]
  },
  {
   "cell_type": "markdown",
   "id": "2bd6df98-ee65-4c46-872a-0e3258f5e0b4",
   "metadata": {},
   "source": [
    "### Some custom Imports"
   ]
  },
  {
   "cell_type": "code",
   "execution_count": 3,
   "id": "53aa8185-7dd3-40b4-9476-a1f8f810808d",
   "metadata": {},
   "outputs": [],
   "source": [
    "from tfRecordTools import *"
   ]
  },
  {
   "cell_type": "markdown",
   "id": "cd9eb8d6-0bed-4e41-a747-8bb7b27f60ff",
   "metadata": {},
   "source": [
    "## Load Data"
   ]
  },
  {
   "cell_type": "markdown",
   "id": "3b207d6b-5954-4d55-945e-76d9e88d77e2",
   "metadata": {},
   "source": [
    "The first step is to load our data from the imdb database"
   ]
  },
  {
   "cell_type": "code",
   "execution_count": 4,
   "id": "b5886792-956e-4991-af80-8e9143abd520",
   "metadata": {},
   "outputs": [],
   "source": [
    "imdb = tf.keras.datasets.imdb\n",
    "(pp_train_data, pp_train_labels), (pp_test_data, pp_test_labels) = (\n",
    "    imdb.load_data(num_words=10000))"
   ]
  },
  {
   "cell_type": "code",
   "execution_count": 5,
   "id": "87343be3-b967-44c5-8b43-a71873fd368f",
   "metadata": {},
   "outputs": [],
   "source": [
    "# This block limits how much is loaded to keep debugging short\n",
    "# don't run on the final experiments\n",
    "\n",
    "limit = 1000\n",
    "\n",
    "pp_train_data = pp_train_data[0:limit]\n",
    "pp_train_labels = pp_train_labels[0:limit]\n",
    "pp_test_data = pp_test_data[0:limit]\n",
    "pp_test_labels = pp_test_labels[0:limit]"
   ]
  },
  {
   "cell_type": "code",
   "execution_count": 93,
   "id": "2a06f2ab-6c1f-4c1b-956d-78460bb650dd",
   "metadata": {},
   "outputs": [
    {
     "name": "stdout",
     "output_type": "stream",
     "text": [
      "Training entries: 1000, labels: 1000\n"
     ]
    }
   ],
   "source": [
    "print('Training entries: {}, labels: {}'.format(\n",
    "    len(pp_train_data),\n",
    "    len(pp_train_labels)\n",
    "))\n",
    "training_samples_count = len(pp_train_data)"
   ]
  },
  {
   "cell_type": "code",
   "execution_count": 137,
   "id": "1144581a-2846-469c-87c5-f1aa6c76f9b9",
   "metadata": {},
   "outputs": [
    {
     "name": "stdout",
     "output_type": "stream",
     "text": [
      "[1, 14, 22, 16, 43, 530, 973, 1622, 1385, 65, 458, 4468, 66, 3941, 4, 173, 36, 256, 5, 25, 100, 43, 838, 112, 50, 670, 2, 9, 35, 480, 284, 5, 150, 4, 172, 112, 167, 2, 336, 385, 39, 4, 172, 4536, 1111, 17, 546, 38, 13, 447, 4, 192, 50, 16, 6, 147, 2025, 19, 14, 22, 4, 1920, 4613, 469, 4, 22, 71, 87, 12, 16, 43, 530, 38, 76, 15, 13, 1247, 4, 22, 17, 515, 17, 12, 16, 626, 18, 2, 5, 62, 386, 12, 8, 316, 8, 106, 5, 4, 2223, 5244, 16, 480, 66, 3785, 33, 4, 130, 12, 16, 38, 619, 5, 25, 124, 51, 36, 135, 48, 25, 1415, 33, 6, 22, 12, 215, 28, 77, 52, 5, 14, 407, 16, 82, 2, 8, 4, 107, 117, 5952, 15, 256, 4, 2, 7, 3766, 5, 723, 36, 71, 43, 530, 476, 26, 400, 317, 46, 7, 4, 2, 1029, 13, 104, 88, 4, 381, 15, 297, 98, 32, 2071, 56, 26, 141, 6, 194, 7486, 18, 4, 226, 22, 21, 134, 476, 26, 480, 5, 144, 30, 5535, 18, 51, 36, 28, 224, 92, 25, 104, 4, 226, 65, 16, 38, 1334, 88, 12, 16, 283, 5, 16, 4472, 113, 103, 32, 15, 16, 5345, 19, 178, 32]\n"
     ]
    }
   ],
   "source": [
    "print(pp_train_data[0])"
   ]
  },
  {
   "cell_type": "code",
   "execution_count": 95,
   "id": "faf6e609-6464-4935-9e42-97a688ffce58",
   "metadata": {},
   "outputs": [
    {
     "data": {
      "text/plain": [
       "(218, 189)"
      ]
     },
     "execution_count": 95,
     "metadata": {},
     "output_type": "execute_result"
    }
   ],
   "source": [
    "len(pp_train_data[0]), len(pp_train_data[1])"
   ]
  },
  {
   "cell_type": "markdown",
   "id": "e83cae56-559d-457e-b775-132124c68f99",
   "metadata": {},
   "source": [
    "Let's define some helper functions to convert the index back to words with proper accounting for the special characters reserved at the beginning of the dictionary."
   ]
  },
  {
   "cell_type": "code",
   "execution_count": 96,
   "id": "ce1878f9-d44d-4f73-9fab-47996fa11c76",
   "metadata": {},
   "outputs": [],
   "source": [
    "def build_reverse_word_index():\n",
    "    \"\"\"\n",
    "    A dictionary mapping words to an integer index\n",
    "    \"\"\"\n",
    "    word_index = imdb.get_word_index()\n",
    "\n",
    "    # The first indices are reserved\n",
    "    word_index = {k: (v + 3) for k, v in word_index.items()}\n",
    "    word_index['<PAD>'] = 0\n",
    "    word_index['<START>'] = 1\n",
    "    word_index['<UNK>'] = 2  # unknown\n",
    "    word_index['<UNUSED>'] = 3\n",
    "    return dict((value, key) for (key, value) in word_index.items())\n",
    "\n",
    "\n",
    "reverse_word_index = build_reverse_word_index()\n",
    "\n",
    "\n",
    "def decode_review(text):\n",
    "    return ' '.join([reverse_word_index.get(i, '?') for i in text])"
   ]
  },
  {
   "cell_type": "code",
   "execution_count": 97,
   "id": "5eb4def8-3285-4bc2-8b59-eedfab2c8917",
   "metadata": {},
   "outputs": [
    {
     "data": {
      "text/plain": [
       "\"<START> this film was just brilliant casting location scenery story direction everyone's really suited the part they played and you could just imagine being there robert <UNK> is an amazing actor and now the same being director <UNK> father came from the same scottish island as myself so i loved the fact there was a real connection with this film the witty remarks throughout the film were great it was just brilliant so much that i bought the film as soon as it was released for <UNK> and would recommend it to everyone to watch and the fly fishing was amazing really cried at the end it was so sad and you know what they say if you cry at a film it must have been good and this definitely was also <UNK> to the two little boy's that played the <UNK> of norman and paul they were just brilliant children are often left out of the <UNK> list i think because the stars that play them all grown up are such a big profile for the whole film but these children are amazing and should be praised for what they have done don't you think the whole story was so lovely because it was true and was someone's life after all that was shared with us all\""
      ]
     },
     "execution_count": 97,
     "metadata": {},
     "output_type": "execute_result"
    }
   ],
   "source": [
    "decode_review(pp_train_data[0])"
   ]
  },
  {
   "cell_type": "markdown",
   "id": "66dee555-8cc7-417f-a068-ba16cb6b0290",
   "metadata": {},
   "source": [
    "## Testing out tensorflow text\n",
    "(if you run this code block and chidlren do not run the sibling blocks)"
   ]
  },
  {
   "cell_type": "code",
   "execution_count": 84,
   "id": "415848d3-6278-4123-8d2e-7f9f26c2e2d4",
   "metadata": {},
   "outputs": [],
   "source": [
    "pretrained_embedding = 'https://tfhub.dev/tensorflow/small_bert/bert_en_uncased_L-2_H-128_A-2/2'"
   ]
  },
  {
   "cell_type": "code",
   "execution_count": 85,
   "id": "e4d7f8fd-be47-45fe-9c99-06ce75fe0fac",
   "metadata": {},
   "outputs": [
    {
     "name": "stderr",
     "output_type": "stream",
     "text": [
      "2022-05-18 23:30:58.443603: W tensorflow/core/platform/profile_utils/cpu_utils.cc:128] Failed to get CPU frequency: 0 Hz\n",
      "2022-05-18 23:30:58.458621: I tensorflow/core/grappler/optimizers/custom_graph_optimizer_registry.cc:113] Plugin optimizer for device_type GPU is enabled.\n"
     ]
    }
   ],
   "source": [
    "text_input = tf.keras.layers.Input(shape=(), dtype=tf.string)\n",
    "preprocessor = hub.KerasLayer(\n",
    "    'https://tfhub.dev/tensorflow/bert_en_uncased_preprocess/3')\n",
    "encoder_inputs = preprocessor(text_input)\n",
    "\n",
    "encoder = hub.KerasLayer(\n",
    "    'https://tfhub.dev/tensorflow/small_bert/bert_en_uncased_L-2_H-128_A-2/2',\n",
    "    trainable=True)\n",
    "\n",
    "outputs = encoder(encoder_inputs)\n",
    "\n",
    "pooled_output = outputs['pooled_output'] # [batch_size, 128].\n",
    "# [batch_size, seq_length, 128].\n",
    "\n",
    "sequence_output = outputs['sequence_output']"
   ]
  },
  {
   "cell_type": "code",
   "execution_count": 129,
   "id": "be130507-fc60-4586-9eb4-1c91a08a1b58",
   "metadata": {},
   "outputs": [],
   "source": [
    "def createBertEmbeddingExample(word_vector, record_id):\n",
    "    \"\"\"\n",
    "    Create tf.Example containing the sample's embedding and its ID.\n",
    "    \n",
    "    \n",
    "    \"\"\"\n",
    "\n",
    "    text = decode_review(word_vector)\n",
    "\n",
    "    # Shape = [batch_size,].\n",
    "    sentence_embedding = encoder(preprocessor(tf.reshape(text, shape=[-1, ])))['pooled_output']\n",
    "    \n",
    "    # Flatten the sentence embedding back to 1-D.\n",
    "    sentence_embedding = tf.reshape(sentence_embedding, shape=[-1])\n",
    "    \n",
    "    features = {\n",
    "        'id': _bytes_feature(str(record_id)),\n",
    "        'embedding': _float_feature(sentence_embedding.numpy())\n",
    "    }\n",
    "    return tf.train.Example(features=tf.train.Features(feature=features))\n",
    "\n",
    "\n",
    "def createBertEmbedding(word_vectors, output_path, starting_record_id):\n",
    "    record_id = int(starting_record_id)\n",
    "    with tf.io.TFRecordWriter(output_path) as writer:\n",
    "        for word_vector in word_vectors:\n",
    "            example = createBertEmbeddingExample(word_vector, record_id)\n",
    "            record_id = record_id + 1\n",
    "            writer.write(example.SerializeToString())\n",
    "    return record_id"
   ]
  },
  {
   "cell_type": "code",
   "execution_count": 131,
   "id": "a99d9bc0-5097-429f-89cf-6de020d831d2",
   "metadata": {
    "collapsed": true,
    "jupyter": {
     "outputs_hidden": true
    },
    "tags": []
   },
   "outputs": [
    {
     "data": {
      "text/plain": [
       "features {\n",
       "  feature {\n",
       "    key: \"embedding\"\n",
       "    value {\n",
       "      float_list {\n",
       "        value: -0.9970534443855286\n",
       "        value: 0.131486177444458\n",
       "        value: -0.9839852452278137\n",
       "        value: 0.9861465096473694\n",
       "        value: -0.9971204400062561\n",
       "        value: 0.856085479259491\n",
       "        value: -0.9944372773170471\n",
       "        value: -0.13611185550689697\n",
       "        value: -0.033533722162246704\n",
       "        value: 0.1380845159292221\n",
       "        value: -0.8371204733848572\n",
       "        value: 0.012691838666796684\n",
       "        value: -0.05454445630311966\n",
       "        value: 0.9937337040901184\n",
       "        value: -0.622428297996521\n",
       "        value: -0.9658992886543274\n",
       "        value: 0.9696784615516663\n",
       "        value: 0.005809218622744083\n",
       "        value: -0.8203678131103516\n",
       "        value: 0.979274570941925\n",
       "        value: 0.7504119277000427\n",
       "        value: 0.05522230267524719\n",
       "        value: 0.9424341320991516\n",
       "        value: 0.07357314974069595\n",
       "        value: -0.999937117099762\n",
       "        value: -0.03137080371379852\n",
       "        value: -0.9918352961540222\n",
       "        value: 0.9417163133621216\n",
       "        value: 0.9879518747329712\n",
       "        value: 0.19298502802848816\n",
       "        value: 0.2754269540309906\n",
       "        value: 0.14537540078163147\n",
       "        value: -0.9920747876167297\n",
       "        value: -0.564655065536499\n",
       "        value: 0.9556254148483276\n",
       "        value: 0.9966794848442078\n",
       "        value: -0.2129620909690857\n",
       "        value: -0.14163309335708618\n",
       "        value: -0.03253911808133125\n",
       "        value: -0.9948015213012695\n",
       "        value: 0.3097033202648163\n",
       "        value: 0.993799090385437\n",
       "        value: -0.9927107691764832\n",
       "        value: 0.7712802886962891\n",
       "        value: -0.9788926839828491\n",
       "        value: -0.3222353458404541\n",
       "        value: -0.9982249140739441\n",
       "        value: 0.9900729656219482\n",
       "        value: 0.15506422519683838\n",
       "        value: 0.9800440669059753\n",
       "        value: 0.9569339752197266\n",
       "        value: -0.9695091247558594\n",
       "        value: 0.13444241881370544\n",
       "        value: 0.9866064190864563\n",
       "        value: 0.9986727237701416\n",
       "        value: 0.9574974179267883\n",
       "        value: -0.8933827877044678\n",
       "        value: 0.6398172974586487\n",
       "        value: 0.721250057220459\n",
       "        value: -0.9690951108932495\n",
       "        value: 0.08886729180812836\n",
       "        value: -0.42052143812179565\n",
       "        value: 0.673798680305481\n",
       "        value: 0.9192366003990173\n",
       "        value: -0.20413435995578766\n",
       "        value: -0.992947518825531\n",
       "        value: 0.9228846430778503\n",
       "        value: -0.17974457144737244\n",
       "        value: 0.8134275078773499\n",
       "        value: 0.308112770318985\n",
       "        value: 0.9814067482948303\n",
       "        value: -0.30775186419487\n",
       "        value: -0.9979097843170166\n",
       "        value: 0.26039576530456543\n",
       "        value: 0.11542494595050812\n",
       "        value: -0.9850112795829773\n",
       "        value: -0.14761982858181\n",
       "        value: 0.046091869473457336\n",
       "        value: -0.7193471789360046\n",
       "        value: 0.035624802112579346\n",
       "        value: 0.4605465233325958\n",
       "        value: -0.20232878625392914\n",
       "        value: -0.9358705878257751\n",
       "        value: -0.9999460577964783\n",
       "        value: 0.9964761137962341\n",
       "        value: -0.5412644743919373\n",
       "        value: 0.9959030151367188\n",
       "        value: -0.3471171259880066\n",
       "        value: -0.8467786908149719\n",
       "        value: 0.9646186828613281\n",
       "        value: -0.2704566419124603\n",
       "        value: 0.9891543388366699\n",
       "        value: -0.024348806589841843\n",
       "        value: 0.9931716322898865\n",
       "        value: 0.8267182111740112\n",
       "        value: 0.790899395942688\n",
       "        value: -0.9328992366790771\n",
       "        value: -0.9747947454452515\n",
       "        value: -0.9167670011520386\n",
       "        value: -0.9841774702072144\n",
       "        value: -0.9686798453330994\n",
       "        value: 0.5471987724304199\n",
       "        value: -0.9726107120513916\n",
       "        value: -0.8856027126312256\n",
       "        value: -0.9940360188484192\n",
       "        value: 0.7751185894012451\n",
       "        value: -0.9787068367004395\n",
       "        value: -0.6042645573616028\n",
       "        value: -0.7438167929649353\n",
       "        value: 0.9935137033462524\n",
       "        value: 0.9635453224182129\n",
       "        value: 0.9352121353149414\n",
       "        value: -0.0038182237185537815\n",
       "        value: 0.9820680022239685\n",
       "        value: -0.9887178540229797\n",
       "        value: 0.3365741968154907\n",
       "        value: 0.9267038702964783\n",
       "        value: 0.6516972780227661\n",
       "        value: 0.120675228536129\n",
       "        value: -0.22844865918159485\n",
       "        value: 0.2070663571357727\n",
       "        value: -0.9995872378349304\n",
       "        value: -0.8881444931030273\n",
       "        value: 0.9469502568244934\n",
       "        value: -0.9658233523368835\n",
       "        value: 0.46490389108657837\n",
       "        value: 0.9740654826164246\n",
       "        value: 0.986060619354248\n",
       "      }\n",
       "    }\n",
       "  }\n",
       "  feature {\n",
       "    key: \"id\"\n",
       "    value {\n",
       "      bytes_list {\n",
       "        value: \"0\"\n",
       "      }\n",
       "    }\n",
       "  }\n",
       "}"
      ]
     },
     "execution_count": 131,
     "metadata": {},
     "output_type": "execute_result"
    }
   ],
   "source": [
    "createBertEmbeddingExample(pp_train_data[0], 0)"
   ]
  },
  {
   "cell_type": "code",
   "execution_count": 100,
   "id": "5b2d70b2-a557-42a7-b406-983555094d42",
   "metadata": {},
   "outputs": [
    {
     "data": {
      "text/plain": [
       "1000"
      ]
     },
     "execution_count": 100,
     "metadata": {},
     "output_type": "execute_result"
    }
   ],
   "source": [
    "bertEmbeddingsPath = '/tmp/imdb/bertEmeddings.tfr'\n",
    "# don't the run line below unless if you want to generate a new bert embeddings\n",
    "createBertEmbedding(pp_train_data, bertEmbeddingsPath, 0)"
   ]
  },
  {
   "cell_type": "code",
   "execution_count": 132,
   "id": "a18f9982-9f35-404d-9576-24b9b451f666",
   "metadata": {},
   "outputs": [
    {
     "name": "stdout",
     "output_type": "stream",
     "text": [
      "    9303 /tmp/imdb/bertEmeddings.tfr\n"
     ]
    }
   ],
   "source": [
    "!wc -l /tmp/imdb/bertEmeddings.tfr"
   ]
  },
  {
   "cell_type": "markdown",
   "id": "1c03ed71-c892-4b85-90bc-fd7765048763",
   "metadata": {},
   "source": [
    "### Constructing the BERT Graph"
   ]
  },
  {
   "cell_type": "code",
   "execution_count": 133,
   "id": "d8835022-ce83-42a3-8bc7-546e28b31168",
   "metadata": {},
   "outputs": [
    {
     "data": {
      "text/plain": [
       "(1000,)"
      ]
     },
     "execution_count": 133,
     "metadata": {},
     "output_type": "execute_result"
    }
   ],
   "source": [
    "pp_train_data.shape"
   ]
  },
  {
   "cell_type": "code",
   "execution_count": 134,
   "id": "634cddf0-55a2-4fbd-af86-fdf9c0560f33",
   "metadata": {},
   "outputs": [],
   "source": [
    "bertGraphPath = '/tmp/imdb/bert_graph_99.tsv'"
   ]
  },
  {
   "cell_type": "code",
   "execution_count": 135,
   "id": "d1f703e9-c70a-4202-a1d6-8abc3430f9c2",
   "metadata": {},
   "outputs": [],
   "source": [
    "graph_builder_config = nsl.configs.GraphBuilderConfig(\n",
    "    similarity_threshold=0.99,\n",
    "    lsh_splits=32,\n",
    "    lsh_rounds=15,\n",
    "    random_seed=12345)\n",
    "\n",
    "nsl.tools.build_graph_from_config([bertEmbeddingsPath],\n",
    "                                  bertGraphPath,\n",
    "                                  graph_builder_config)"
   ]
  },
  {
   "cell_type": "code",
   "execution_count": 136,
   "id": "c6f3d608-6a9e-41aa-8cb9-89aba6335c38",
   "metadata": {},
   "outputs": [
    {
     "name": "stdout",
     "output_type": "stream",
     "text": [
      "      58 /tmp/imdb/bert_graph_99.tsv\n"
     ]
    }
   ],
   "source": [
    "!wc -l /tmp/imdb/bert_graph_99.tsv"
   ]
  },
  {
   "cell_type": "markdown",
   "id": "a3dafeda-323c-4d3f-a817-f6e339705196",
   "metadata": {},
   "source": [
    "### Get the Training and Testing Samples"
   ]
  },
  {
   "cell_type": "code",
   "execution_count": null,
   "id": "dc83f28d-e170-41dc-98be-a656ae8af105",
   "metadata": {},
   "outputs": [],
   "source": [
    "def create_example(word_vector, label, record_id):\n",
    "    \"\"\"\n",
    "    Create tf.Example containing the sample's word vector, label, and ID.\n",
    "    \"\"\"\n",
    "    features = {\n",
    "        'id': _bytes_feature(str(record_id)),\n",
    "        'words': _int64_feature(np.asarray(word _vector)),\n",
    "        'label': _int64_feature(np.asarray([label])),\n",
    "    }\n",
    "    return tf.train.Example(features=tf.train.Features(feature=features))\n",
    "\n",
    "\n",
    "def create_records(word_vectors, labels, record_path, starting_record_id):\n",
    "    record_id = int(starting_record_id)\n",
    "    with tf.io.TFRecordWriter(record_path) as writer:\n",
    "        for word_vector, label in zip(word_vectors, labels):\n",
    "            example = create_example(word_vector, label, record_id)\n",
    "            record_id = record_id + 1\n",
    "            writer.write(example.SerializeToString())\n",
    "    return record_id"
   ]
  },
  {
   "cell_type": "code",
   "execution_count": null,
   "id": "76008792-3522-4534-86eb-221ac7399fab",
   "metadata": {},
   "outputs": [],
   "source": [
    "# Persist TF.Example features (word vectors and labels) for training and test\n",
    "# data in TFRecord format.\n",
    "next_record_id = create_records(pp_train_data,\n",
    "                                pp_train_labels,\n",
    "                                '/tmp/imdb/train_data.tfr',\n",
    "                                0)\n",
    "create_records(pp_test_data,\n",
    "               pp_test_labels,\n",
    "               '/tmp/imdb/test_data.tfr',\n",
    "               next_record_id)"
   ]
  },
  {
   "cell_type": "markdown",
   "id": "5b09d870-7f4c-4d67-b26f-0d53dea71850",
   "metadata": {},
   "source": [
    "### Augment the Data using graph"
   ]
  },
  {
   "cell_type": "code",
   "execution_count": null,
   "id": "1ea0d5bd-de3f-4176-a056-e51300234940",
   "metadata": {},
   "outputs": [],
   "source": [
    "bertNSLPath = '/tmp/imdb/nslBert_train_data.tfr'"
   ]
  },
  {
   "cell_type": "code",
   "execution_count": null,
   "id": "5c41f27f-ca84-4d68-81bf-d7bd9d30ad72",
   "metadata": {},
   "outputs": [],
   "source": [
    "\n",
    "nsl.tools.pack_nbrs(\n",
    "    '/tmp/imdb/train_data.tfr',\n",
    "    '',\n",
    "    bertGraphPath,\n",
    "    '/tmp/imdb/nsl_train_data.tfr',\n",
    "    add_undirected_edges=True,\n",
    "    max_nbrs=3)"
   ]
  },
  {
   "cell_type": "code",
   "execution_count": null,
   "id": "90c13a93-e35f-4232-8459-e72913bdd7b0",
   "metadata": {},
   "outputs": [],
   "source": []
  },
  {
   "cell_type": "code",
   "execution_count": null,
   "id": "d3746e53-1b29-42e7-9f74-c4f03b802956",
   "metadata": {},
   "outputs": [],
   "source": []
  },
  {
   "cell_type": "code",
   "execution_count": null,
   "id": "b17dd620-1b17-4f26-994d-7583c8094f9e",
   "metadata": {},
   "outputs": [],
   "source": []
  },
  {
   "cell_type": "code",
   "execution_count": null,
   "id": "173c0bfa-e6ec-4a18-a5d6-3224f9833468",
   "metadata": {},
   "outputs": [],
   "source": []
  },
  {
   "cell_type": "code",
   "execution_count": null,
   "id": "4ba6e1c6-4d8c-4a7e-9134-9d2fa61c3e90",
   "metadata": {},
   "outputs": [],
   "source": []
  },
  {
   "cell_type": "code",
   "execution_count": null,
   "id": "821723f1-54ed-4343-93a2-8ffa2e867724",
   "metadata": {},
   "outputs": [],
   "source": []
  },
  {
   "cell_type": "code",
   "execution_count": null,
   "id": "8b8544ab-5f2c-41a1-9600-384e1f842000",
   "metadata": {},
   "outputs": [],
   "source": []
  },
  {
   "cell_type": "markdown",
   "id": "f7b11396-5ac3-4f07-a58f-8bbaa53e0baf",
   "metadata": {},
   "source": [
    "## Constructing the Graph"
   ]
  },
  {
   "cell_type": "code",
   "execution_count": null,
   "id": "c6a6e1b7-57db-40b0-a7ff-a2fdb702d5b0",
   "metadata": {},
   "outputs": [],
   "source": []
  },
  {
   "cell_type": "markdown",
   "id": "75a9403f-788e-4305-a423-6c5745fa8681",
   "metadata": {},
   "source": [
    "### Sample Embeddings"
   ]
  },
  {
   "cell_type": "markdown",
   "id": "f0ef66c4-4b30-4268-a9d4-1a2b519016f1",
   "metadata": {},
   "source": [
    "There are swivel embeddings but can also use other embeddings like BERT"
   ]
  },
  {
   "cell_type": "markdown",
   "id": "85f4a0ae-7784-48c2-a157-6a949dcbe68b",
   "metadata": {},
   "source": [
    "Make a directory to store the data here `mkdir -p /tmp/imdb`"
   ]
  },
  {
   "cell_type": "code",
   "execution_count": null,
   "id": "e1085fbe-1df0-48dc-9769-8c8318f8fca0",
   "metadata": {},
   "outputs": [],
   "source": [
    "!mkdir -p /tmp/imdb"
   ]
  },
  {
   "cell_type": "code",
   "execution_count": 8,
   "id": "cb427f2f-5385-423f-82d4-ab1c920709b4",
   "metadata": {},
   "outputs": [],
   "source": [
    "pretrained_embedding = 'https://tfhub.dev/google/tf2-preview/gnews-swivel-20dim/1'"
   ]
  },
  {
   "cell_type": "code",
   "execution_count": 9,
   "id": "bb1aa861-6b72-4803-adce-cb050b29dd6d",
   "metadata": {},
   "outputs": [
    {
     "name": "stdout",
     "output_type": "stream",
     "text": [
      "Metal device set to: Apple M1 Max\n"
     ]
    },
    {
     "name": "stderr",
     "output_type": "stream",
     "text": [
      "2022-05-13 13:54:35.896819: I tensorflow/core/common_runtime/pluggable_device/pluggable_device_factory.cc:305] Could not identify NUMA node of platform GPU ID 0, defaulting to 0. Your kernel may not have been built with NUMA support.\n",
      "2022-05-13 13:54:35.896940: I tensorflow/core/common_runtime/pluggable_device/pluggable_device_factory.cc:271] Created TensorFlow device (/job:localhost/replica:0/task:0/device:GPU:0 with 0 MB memory) -> physical PluggableDevice (device: 0, name: METAL, pci bus id: <undefined>)\n",
      "2022-05-13 13:54:35.919345: W tensorflow/core/platform/profile_utils/cpu_utils.cc:128] Failed to get CPU frequency: 0 Hz\n",
      "2022-05-13 13:54:35.932307: I tensorflow/core/grappler/optimizers/custom_graph_optimizer_registry.cc:113] Plugin optimizer for device_type GPU is enabled.\n"
     ]
    }
   ],
   "source": [
    "hub_layer = hub.KerasLayer(\n",
    "    pretrained_embedding,\n",
    "    input_shape=[],\n",
    "    dtype=tf.string,\n",
    "    trainable=True)"
   ]
  },
  {
   "cell_type": "markdown",
   "id": "23c0bf53-bd51-44bb-a87e-0470b671e6bb",
   "metadata": {},
   "source": [
    "Now construct the embeddings for the sentences using the loadded pretrained swivel embeddings"
   ]
  },
  {
   "cell_type": "code",
   "execution_count": 79,
   "id": "d8443152-80b7-400c-be77-efc308d5726d",
   "metadata": {},
   "outputs": [],
   "source": [
    "def create_embedding_example(word_vector, record_id):\n",
    "    \"\"\"\n",
    "    Create tf.Example containing the sample's embedding and its ID.\n",
    "    \"\"\"\n",
    "\n",
    "    text = decode_review(word_vector)\n",
    "    # hub_layer(text)\n",
    "    # Shape = [batch_size,].\n",
    "    sentence_embedding = hub_layer(tf.reshape(text, shape=[-1, ]))    \n",
    "    # Flatten the sentence embedding back to 1-D.\n",
    "    sentence_embedding = tf.reshape(sentence_embedding, shape=[-1])\n",
    "\n",
    "    features = {\n",
    "        'id': _bytes_feature(str(record_id)),\n",
    "        'embedding': _float_feature(sentence_embedding.numpy())\n",
    "    }\n",
    "    return tf.train.Example(features=tf.train.Features(feature=features))\n",
    "\n",
    "\n",
    "def create_embeddings(word_vectors, output_path, starting_record_id):\n",
    "    record_id = int(starting_record_id)\n",
    "    with tf.io.TFRecordWriter(output_path) as writer:\n",
    "        for word_vector in word_vectors:\n",
    "            example = create_embedding_example(word_vector, record_id)\n",
    "            record_id = record_id + 1\n",
    "            writer.write(example.SerializeToString())\n",
    "    return record_id"
   ]
  },
  {
   "cell_type": "code",
   "execution_count": 59,
   "id": "13daf5a8-acc8-4db7-ab1c-a6a1aaae5bc1",
   "metadata": {},
   "outputs": [],
   "source": [
    "# Persist TF.Example features containing embeddings for training data in\n",
    "# TFRecord format.\n",
    "create_embeddings(pp_train_data, '/tmp/imdb/embeddings.tfr', 0)"
   ]
  },
  {
   "cell_type": "markdown",
   "id": "5ef1da3a-f980-4f00-8577-42a10de84b7a",
   "metadata": {},
   "source": [
    "### Build Graph"
   ]
  },
  {
   "cell_type": "markdown",
   "id": "b4b6d471-8e26-418a-afc2-db4f9c0e6523",
   "metadata": {},
   "source": [
    "This process builds a graph where each node is a review and the edges are determined by the similarity between reviews"
   ]
  },
  {
   "cell_type": "code",
   "execution_count": 23,
   "id": "a07f5da0-a00b-40c2-ac36-70990d6a953d",
   "metadata": {},
   "outputs": [],
   "source": [
    "graph_builder_config = nsl.configs.GraphBuilderConfig(\n",
    "    similarity_threshold=0.99, lsh_splits=32, lsh_rounds=15, random_seed=12345)\n",
    "nsl.tools.build_graph_from_config(['/tmp/imdb/embeddings.tfr'],\n",
    "                                  '/tmp/imdb/graph_99.tsv',\n",
    "                                  graph_builder_config)"
   ]
  },
  {
   "cell_type": "code",
   "execution_count": 15,
   "id": "f583b56d-0ff9-41c3-b0f6-c2c5068ca692",
   "metadata": {},
   "outputs": [
    {
     "name": "stdout",
     "output_type": "stream",
     "text": [
      "  858830 /tmp/imdb/graph_99.tsv\n"
     ]
    }
   ],
   "source": [
    "!wc -l /tmp/imdb/graph_99.tsv"
   ]
  },
  {
   "cell_type": "markdown",
   "id": "926bddff-a9b9-4c3f-b722-4466941d41f7",
   "metadata": {},
   "source": [
    "## Get Samples"
   ]
  },
  {
   "cell_type": "markdown",
   "id": "44663344-ae16-4a63-a73d-0864dae6f15f",
   "metadata": {},
   "source": [
    "Load the samples for training and testing"
   ]
  },
  {
   "cell_type": "code",
   "execution_count": 24,
   "id": "4a8a2e00-9f2a-42cd-9b45-f5a124a772fd",
   "metadata": {},
   "outputs": [
    {
     "data": {
      "text/plain": [
       "50000"
      ]
     },
     "execution_count": 24,
     "metadata": {},
     "output_type": "execute_result"
    }
   ],
   "source": [
    "def create_example(word_vector, label, record_id):\n",
    "    \"\"\"\n",
    "    Create tf.Example containing the sample's word vector, label, and ID.\n",
    "    \"\"\"\n",
    "    features = {\n",
    "        'id': _bytes_feature(str(record_id)),\n",
    "        'words': _int64_feature(np.asarray(word_vector)),\n",
    "        'label': _int64_feature(np.asarray([label])),\n",
    "    }\n",
    "    return tf.train.Example(features=tf.train.Features(feature=features))\n",
    "\n",
    "\n",
    "def create_records(word_vectors, labels, record_path, starting_record_id):\n",
    "    record_id = int(starting_record_id)\n",
    "    with tf.io.TFRecordWriter(record_path) as writer:\n",
    "        for word_vector, label in zip(word_vectors, labels):\n",
    "            example = create_example(word_vector, label, record_id)\n",
    "            record_id = record_id + 1\n",
    "            writer.write(example.SerializeToString())\n",
    "    return record_id\n",
    "\n",
    "\n",
    "# Persist TF.Example features (word vectors and labels) for training and test\n",
    "# data in TFRecord format.\n",
    "next_record_id = create_records(pp_train_data,\n",
    "                                pp_train_labels,\n",
    "                                '/tmp/imdb/train_data.tfr',\n",
    "                                0)\n",
    "create_records(pp_test_data,\n",
    "               pp_test_labels,\n",
    "               '/tmp/imdb/test_data.tfr',\n",
    "               next_record_id)"
   ]
  },
  {
   "cell_type": "markdown",
   "id": "00cc9037-f885-4b85-9d07-64123daa4fc6",
   "metadata": {},
   "source": [
    "## Augment the data"
   ]
  },
  {
   "cell_type": "markdown",
   "id": "e939ad52-af3e-4790-9fbc-0ab0a1e56707",
   "metadata": {},
   "source": [
    "Need to augment the data for NSL using the library. New features will contain original datapoints and the feature of the neighbors"
   ]
  },
  {
   "cell_type": "markdown",
   "id": "92b4f3f8-bfba-4fd3-b632-335bdb6df68b",
   "metadata": {},
   "source": [
    "Undirected edges, 3 neighbors per node"
   ]
  },
  {
   "cell_type": "code",
   "execution_count": 25,
   "id": "e033eda0-971c-4024-bbc1-4ac4f93f537e",
   "metadata": {},
   "outputs": [],
   "source": [
    "nsl.tools.pack_nbrs(\n",
    "    '/tmp/imdb/train_data.tfr',\n",
    "    '',\n",
    "    '/tmp/imdb/graph_99.tsv',\n",
    "    '/tmp/imdb/nsl_train_data.tfr',\n",
    "    add_undirected_edges=True,\n",
    "    max_nbrs=3)"
   ]
  },
  {
   "cell_type": "markdown",
   "id": "04ebb05d-39db-4b05-82af-4ea6372fc14b",
   "metadata": {},
   "source": [
    "## Base model"
   ]
  },
  {
   "cell_type": "markdown",
   "id": "6eab812d-1230-4556-8cdc-5b27edfcd364",
   "metadata": {},
   "source": [
    "Learn new embeddings along with the task. No regularization."
   ]
  },
  {
   "cell_type": "markdown",
   "id": "0ad4d39f-ee5e-4b31-afd8-a69530735e44",
   "metadata": {},
   "source": [
    "### Set global var"
   ]
  },
  {
   "cell_type": "code",
   "execution_count": 26,
   "id": "fe1732f5-e517-4d7c-b483-e8b29c97f20a",
   "metadata": {},
   "outputs": [],
   "source": [
    "NBR_FEATURE_PREFIX = 'NL_nbr_'\n",
    "NBR_WEIGHT_SUFFIX = '_weight'"
   ]
  },
  {
   "cell_type": "markdown",
   "id": "85e5ab71-14b9-4dc6-988f-e0b50d8be118",
   "metadata": {},
   "source": [
    "### Set hyperparams"
   ]
  },
  {
   "cell_type": "markdown",
   "id": "78d4dd3f-3101-4d43-8cd7-d7926939d9dd",
   "metadata": {},
   "source": [
    "https://www.tensorflow.org/neural_structured_learning/tutorials/graph_keras_lstm_imdb#hyperparameters"
   ]
  },
  {
   "cell_type": "code",
   "execution_count": 56,
   "id": "9b72c152-4dba-4656-8eff-332d6f2e3c1d",
   "metadata": {},
   "outputs": [],
   "source": [
    "class HParams(object):\n",
    "    \"\"\"\n",
    "    Hyperparameters used for training.\n",
    "    \"\"\"\n",
    "\n",
    "    def __init__(self):\n",
    "        # dataset parameters\n",
    "        self.num_classes = 2\n",
    "        self.max_seq_length = 256\n",
    "        self.vocab_size = 10000\n",
    "        # neural graph learning parameters\n",
    "        self.distance_type = nsl.configs.DistanceType.L2\n",
    "        self.graph_regularization_multiplier = 0.1\n",
    "        self.num_neighbors = 2\n",
    "        # model architecture\n",
    "        self.num_embedding_dims = 16\n",
    "        self.num_lstm_dims = 64\n",
    "        self.num_fc_units = 64\n",
    "        # training parameters\n",
    "        self.train_epochs = 20\n",
    "        self.batch_size = 128\n",
    "        # eval parameters\n",
    "        self.eval_steps = None  # All instances in the test set are evaluated.\n",
    "\n",
    "\n",
    "HPARAMS = HParams()"
   ]
  },
  {
   "cell_type": "markdown",
   "id": "98cbfc35-c1f6-46dd-901e-ef3b5b7e0d15",
   "metadata": {},
   "source": [
    "### Prep the data"
   ]
  },
  {
   "cell_type": "markdown",
   "id": "620d0c92-3daa-41a3-861a-566d091ba3b4",
   "metadata": {},
   "source": [
    "Data must be converted from integer to tensors before input.\n",
    "The approach here is to create an `max_length x num_reviews` matrix containing integers for the reviews"
   ]
  },
  {
   "cell_type": "code",
   "execution_count": 102,
   "id": "e0f52ee6-248b-42c3-b412-a1f57c83e17b",
   "metadata": {},
   "outputs": [],
   "source": [
    "def make_dataset(file_path, training=False):\n",
    "    \"\"\"\n",
    "    Creates a `tf.data.TFRecordDataset`.\n",
    "\n",
    "    Args:\n",
    "      file_path: Name of the file in the `.tfrecord` format containing\n",
    "        `tf.train.Example` objects.\n",
    "      training: Boolean indicating if we are in training mode.\n",
    "\n",
    "    Returns:\n",
    "      An instance of `tf.data.TFRecordDataset` containing the `tf.train.Example`\n",
    "      objects.\n",
    "    \"\"\"\n",
    "\n",
    "    def pad_sequence(sequence, max_seq_length):\n",
    "        \"\"\"\n",
    "        Pads the input sequence (a `tf.SparseTensor`) to `max_seq_length`.\n",
    "        \"\"\"\n",
    "        pad_size = tf.maximum([0], max_seq_length - tf.shape(sequence)[0])\n",
    "        padded = tf.concat(\n",
    "            [\n",
    "                sequence.values,\n",
    "                tf.fill((pad_size),\n",
    "                        tf.cast(0, sequence.dtype))],\n",
    "            axis=0\n",
    "        )\n",
    "        # The input sequence may be larger than max_seq_length. Truncate down if\n",
    "        # necessary.\n",
    "        return tf.slice(padded, [0], [max_seq_length])\n",
    "\n",
    "    def parse_example(example_proto):\n",
    "        \"\"\"\n",
    "        Extracts relevant fields from the `example_proto`.\n",
    "\n",
    "        Args:\n",
    "          example_proto: An instance of `tf.train.Example`.\n",
    "\n",
    "        Returns:\n",
    "          A pair whose first value is a dictionary containing relevant features\n",
    "          and whose second value contains the ground truth labels.\n",
    "        \"\"\"\n",
    "        # The 'words' feature is a variable length word ID vector.\n",
    "        feature_spec = {\n",
    "            'words': tf.io.VarLenFeature(tf.int64),\n",
    "            'label': tf.io.FixedLenFeature((), tf.int64, default_value=-1),\n",
    "        }\n",
    "        # We also extract corresponding neighbor features in a similar manner to\n",
    "        # the features above during training.\n",
    "        if training:\n",
    "            for i in range(HPARAMS.num_neighbors):\n",
    "                nbr_feature_key = '{}{}_{}'.format(\n",
    "                    NBR_FEATURE_PREFIX, i, 'words')\n",
    "                nbr_weight_key = '{}{}{}'.format(NBR_FEATURE_PREFIX, i,\n",
    "                                                 NBR_WEIGHT_SUFFIX)\n",
    "                feature_spec[nbr_feature_key] = tf.io.VarLenFeature(tf.int64)\n",
    "\n",
    "                # We assign a default value of 0.0 for the neighbor weight so that\n",
    "                # graph regularization is done on samples based on their exact number\n",
    "                # of neighbors. In other words, non-existent neighbors are discounted.\n",
    "                feature_spec[nbr_weight_key] = tf.io.FixedLenFeature(\n",
    "                    [1], tf.float32, default_value=tf.constant([0.0]))\n",
    "\n",
    "        features = tf.io.parse_single_example(example_proto, feature_spec)\n",
    "\n",
    "        # Since the 'words' feature is a variable length word vector, we pad it to a\n",
    "        # constant maximum length based on HPARAMS.max_seq_length\n",
    "        features['words'] = pad_sequence(\n",
    "            features['words'], HPARAMS.max_seq_length)\n",
    "        if training:\n",
    "            for i in range(HPARAMS.num_neighbors):\n",
    "                nbr_feature_key = '{}{}_{}'.format(\n",
    "                    NBR_FEATURE_PREFIX, i, 'words')\n",
    "                features[nbr_feature_key] = pad_sequence(features[nbr_feature_key],\n",
    "                                                         HPARAMS.max_seq_length)\n",
    "\n",
    "        labels = features.pop('label')\n",
    "        return features, labels\n",
    "\n",
    "    dataset = tf.data.TFRecordDataset([file_path])\n",
    "    if training:\n",
    "        dataset = dataset.shuffle(10000)\n",
    "    dataset = dataset.map(parse_example)\n",
    "    dataset = dataset.batch(HPARAMS.batch_size)\n",
    "    return dataset"
   ]
  },
  {
   "cell_type": "code",
   "execution_count": null,
   "id": "f4916a31-26f5-4bd1-aba9-28bdfcbded72",
   "metadata": {},
   "outputs": [],
   "source": [
    "train_dataset = make_dataset('/tmp/imdb/nsl_train_data.tfr', True)\n",
    "test_dataset = make_dataset('/tmp/imdb/test_data.tfr')"
   ]
  },
  {
   "cell_type": "code",
   "execution_count": 35,
   "id": "4c6d15ef-5953-4ba3-a7a0-ecff9c7c5f06",
   "metadata": {},
   "outputs": [
    {
     "data": {
      "text/plain": [
       "<BatchDataset element_spec=({'NL_nbr_0_words': TensorSpec(shape=(None, 256), dtype=tf.int64, name=None), 'NL_nbr_1_words': TensorSpec(shape=(None, 256), dtype=tf.int64, name=None), 'words': TensorSpec(shape=(None, 256), dtype=tf.int64, name=None), 'NL_nbr_0_weight': TensorSpec(shape=(None, 1), dtype=tf.float32, name=None), 'NL_nbr_1_weight': TensorSpec(shape=(None, 1), dtype=tf.float32, name=None)}, TensorSpec(shape=(None,), dtype=tf.int64, name=None))>"
      ]
     },
     "execution_count": 35,
     "metadata": {},
     "output_type": "execute_result"
    }
   ],
   "source": [
    "train_dataset"
   ]
  },
  {
   "cell_type": "markdown",
   "id": "a38bf8b0-d647-415d-be70-b3dece717e3f",
   "metadata": {
    "tags": []
   },
   "source": [
    "### Building the model"
   ]
  },
  {
   "cell_type": "markdown",
   "id": "08106305-8839-456b-93bc-9e76780454a7",
   "metadata": {},
   "source": [
    "Use bi-lstm as the base"
   ]
  },
  {
   "cell_type": "code",
   "execution_count": null,
   "id": "3c0379d8-2b07-40f5-9c53-0551e026ac41",
   "metadata": {},
   "outputs": [],
   "source": [
    "# This function exists as an alternative to the bi-LSTM model used in this\n",
    "# notebook.\n",
    "def make_feed_forward_model():\n",
    "    \"\"\"\n",
    "    Builds a simple 2 layer feed forward neural network.\n",
    "    \"\"\"\n",
    "\n",
    "    inputs = tf.keras.Input(\n",
    "        shape=(HPARAMS.max_seq_length,),\n",
    "        dtype='int64',\n",
    "        name='words')\n",
    "\n",
    "    embedding_layer = tf.keras.layers.Embedding(HPARAMS.vocab_size, 16)(inputs)\n",
    "    pooling_layer = tf.keras.layers.GlobalAveragePooling1D()(embedding_layer)\n",
    "    dense_layer = tf.keras.layers.Dense(16, activation='relu')(pooling_layer)\n",
    "    outputs = tf.keras.layers.Dense(1)(dense_layer)\n",
    "\n",
    "    return tf.keras.Model(inputs=inputs, outputs=outputs)\n",
    "\n",
    "\n",
    "def make_bilstm_model():\n",
    "    \"\"\"\n",
    "    Builds a bi-directional LSTM model.\n",
    "    \"\"\"\n",
    "\n",
    "    inputs = tf.keras.Input(\n",
    "        shape=(HPARAMS.max_seq_length,),\n",
    "        dtype='int64',\n",
    "        name='words')\n",
    "\n",
    "    embedding_layer = tf.keras.layers.Embedding(HPARAMS.vocab_size,\n",
    "                                                HPARAMS.num_embedding_dims)(\n",
    "                                                    inputs)\n",
    "    lstm_layer = tf.keras.layers.Bidirectional(\n",
    "        tf.keras.layers.LSTM(HPARAMS.num_lstm_dims))(\n",
    "        embedding_layer)\n",
    "\n",
    "    dense_layer = tf.keras.layers.Dense(\n",
    "        HPARAMS.num_fc_units,\n",
    "        activation='relu')(\n",
    "        lstm_layer)\n",
    "\n",
    "    outputs = tf.keras.layers.Dense(1)(dense_layer)\n",
    "    return tf.keras.Model(inputs=inputs, outputs=outputs)"
   ]
  },
  {
   "cell_type": "code",
   "execution_count": 37,
   "id": "6490be3b-67ad-4aa9-81c2-f9d6aaeba827",
   "metadata": {},
   "outputs": [
    {
     "data": {
      "text/plain": [
       "<keras.engine.functional.Functional at 0x17cdfdee0>"
      ]
     },
     "execution_count": 37,
     "metadata": {},
     "output_type": "execute_result"
    }
   ],
   "source": [
    "# Feel free to use an architecture of your choice.\n",
    "model = make_bilstm_model()\n",
    "model.summary()"
   ]
  },
  {
   "cell_type": "markdown",
   "id": "51454eae-ce51-44aa-afbf-12b688ff8968",
   "metadata": {},
   "source": [
    "### Pick Loss and Optimizer"
   ]
  },
  {
   "cell_type": "code",
   "execution_count": 38,
   "id": "f02528b3-831b-41f5-8198-9718bc945fe9",
   "metadata": {},
   "outputs": [],
   "source": [
    "model.compile(\n",
    "    optimizer='adam',\n",
    "    loss=tf.keras.losses.BinaryCrossentropy(from_logits=True),\n",
    "    metrics=['accuracy'])"
   ]
  },
  {
   "cell_type": "markdown",
   "id": "cf05b50c-b45f-4cdd-a9a0-c885ccbb9916",
   "metadata": {},
   "source": [
    "### Create Validation set"
   ]
  },
  {
   "cell_type": "code",
   "execution_count": 39,
   "id": "c1268ddb-0419-4c85-ac6c-fc83ad001ae1",
   "metadata": {},
   "outputs": [
    {
     "name": "stdout",
     "output_type": "stream",
     "text": [
      "175\n"
     ]
    }
   ],
   "source": [
    "validation_fraction = 0.9\n",
    "validation_size = int(validation_fraction *\n",
    "                      int(training_samples_count / HPARAMS.batch_size))\n",
    "print(validation_size)\n",
    "validation_dataset = train_dataset.take(validation_size)\n",
    "train_dataset = train_dataset.skip(validation_size)"
   ]
  },
  {
   "cell_type": "markdown",
   "id": "afeb600b-7233-4b33-8ca2-72c5e724a9d8",
   "metadata": {},
   "source": [
    "### Train the model"
   ]
  },
  {
   "cell_type": "code",
   "execution_count": 41,
   "id": "d3659afb-e9b0-4069-a547-9aa72634f660",
   "metadata": {},
   "outputs": [
    {
     "name": "stdout",
     "output_type": "stream",
     "text": [
      "Epoch 1/10\n"
     ]
    },
    {
     "name": "stderr",
     "output_type": "stream",
     "text": [
      "/Users/zeyuyang/miniforge3/envs/graphLearning/lib/python3.9/site-packages/keras/engine/functional.py:559: UserWarning: Input dict contained keys ['NL_nbr_0_words', 'NL_nbr_1_words', 'NL_nbr_0_weight', 'NL_nbr_1_weight'] which did not match any model input. They will be ignored by the model.\n",
      "  inputs = self._flatten_to_reference_inputs(inputs)\n",
      "2022-05-13 11:53:53.856304: I tensorflow/core/grappler/optimizers/custom_graph_optimizer_registry.cc:113] Plugin optimizer for device_type GPU is enabled.\n",
      "2022-05-13 11:53:54.579291: I tensorflow/core/grappler/optimizers/custom_graph_optimizer_registry.cc:113] Plugin optimizer for device_type GPU is enabled.\n",
      "2022-05-13 11:53:54.590165: I tensorflow/core/grappler/optimizers/custom_graph_optimizer_registry.cc:113] Plugin optimizer for device_type GPU is enabled.\n",
      "2022-05-13 11:53:56.411014: I tensorflow/core/grappler/optimizers/custom_graph_optimizer_registry.cc:113] Plugin optimizer for device_type GPU is enabled.\n",
      "2022-05-13 11:53:56.426614: I tensorflow/core/grappler/optimizers/custom_graph_optimizer_registry.cc:113] Plugin optimizer for device_type GPU is enabled.\n"
     ]
    },
    {
     "name": "stdout",
     "output_type": "stream",
     "text": [
      "     21/Unknown - 9s 206ms/step - loss: 0.6933 - accuracy: 0.5042"
     ]
    },
    {
     "name": "stderr",
     "output_type": "stream",
     "text": [
      "2022-05-13 11:54:02.439974: I tensorflow/core/grappler/optimizers/custom_graph_optimizer_registry.cc:113] Plugin optimizer for device_type GPU is enabled.\n",
      "2022-05-13 11:54:02.540758: I tensorflow/core/grappler/optimizers/custom_graph_optimizer_registry.cc:113] Plugin optimizer for device_type GPU is enabled.\n",
      "2022-05-13 11:54:02.548768: I tensorflow/core/grappler/optimizers/custom_graph_optimizer_registry.cc:113] Plugin optimizer for device_type GPU is enabled.\n"
     ]
    },
    {
     "name": "stdout",
     "output_type": "stream",
     "text": [
      "21/21 [==============================] - 20s 739ms/step - loss: 0.6933 - accuracy: 0.5042 - val_loss: 0.6929 - val_accuracy: 0.5012\n",
      "Epoch 2/10\n",
      "21/21 [==============================] - 13s 636ms/step - loss: 0.6917 - accuracy: 0.5019 - val_loss: 0.6853 - val_accuracy: 0.4991\n",
      "Epoch 3/10\n",
      "21/21 [==============================] - 13s 636ms/step - loss: 0.6813 - accuracy: 0.5069 - val_loss: 0.6655 - val_accuracy: 0.4993\n",
      "Epoch 4/10\n",
      "21/21 [==============================] - 13s 616ms/step - loss: 0.6468 - accuracy: 0.5777 - val_loss: 0.6149 - val_accuracy: 0.5214\n",
      "Epoch 5/10\n",
      "21/21 [==============================] - 13s 618ms/step - loss: 0.5980 - accuracy: 0.6569 - val_loss: 0.5511 - val_accuracy: 0.6818\n",
      "Epoch 6/10\n",
      "21/21 [==============================] - 13s 623ms/step - loss: 0.4740 - accuracy: 0.7719 - val_loss: 0.4008 - val_accuracy: 0.8174\n",
      "Epoch 7/10\n",
      "21/21 [==============================] - 13s 654ms/step - loss: 0.3631 - accuracy: 0.8358 - val_loss: 0.3365 - val_accuracy: 0.8520\n",
      "Epoch 8/10\n",
      "21/21 [==============================] - 14s 655ms/step - loss: 0.3509 - accuracy: 0.8538 - val_loss: 0.3310 - val_accuracy: 0.8762\n",
      "Epoch 9/10\n",
      "21/21 [==============================] - 13s 655ms/step - loss: 0.3123 - accuracy: 0.8723 - val_loss: 0.2969 - val_accuracy: 0.8835\n",
      "Epoch 10/10\n",
      "21/21 [==============================] - 13s 648ms/step - loss: 0.2941 - accuracy: 0.8765 - val_loss: 0.3051 - val_accuracy: 0.8620\n"
     ]
    }
   ],
   "source": [
    "history = model.fit(\n",
    "    train_dataset,\n",
    "    validation_data=validation_dataset,\n",
    "    epochs=HPARAMS.train_epochs,\n",
    "    verbose=1)"
   ]
  },
  {
   "cell_type": "markdown",
   "id": "ec83d834-f3b8-44e6-ae5c-61c144737861",
   "metadata": {},
   "source": [
    "### Evaluate the Model"
   ]
  },
  {
   "cell_type": "code",
   "execution_count": 42,
   "id": "cb20f67f-a599-40f9-9c01-f443b05e080d",
   "metadata": {},
   "outputs": [
    {
     "name": "stderr",
     "output_type": "stream",
     "text": [
      "2022-05-13 12:26:56.822906: I tensorflow/core/grappler/optimizers/custom_graph_optimizer_registry.cc:113] Plugin optimizer for device_type GPU is enabled.\n",
      "2022-05-13 12:26:56.902041: I tensorflow/core/grappler/optimizers/custom_graph_optimizer_registry.cc:113] Plugin optimizer for device_type GPU is enabled.\n",
      "2022-05-13 12:26:56.909737: I tensorflow/core/grappler/optimizers/custom_graph_optimizer_registry.cc:113] Plugin optimizer for device_type GPU is enabled.\n"
     ]
    },
    {
     "name": "stdout",
     "output_type": "stream",
     "text": [
      "196/196 [==============================] - 13s 61ms/step - loss: 0.4033 - accuracy: 0.8090\n",
      "[0.403298020362854, 0.8090400695800781]\n"
     ]
    }
   ],
   "source": [
    "results = model.evaluate(test_dataset, steps=HPARAMS.eval_steps)\n",
    "print(results)"
   ]
  },
  {
   "cell_type": "markdown",
   "id": "b9acc3cf-c79c-4f10-b2a9-3acf5f81e954",
   "metadata": {},
   "source": [
    "### Graph Accuracy vs Loss over Time"
   ]
  },
  {
   "cell_type": "code",
   "execution_count": 43,
   "id": "2bc2ceeb-015e-443d-96af-c0a8a4f95e26",
   "metadata": {},
   "outputs": [
    {
     "data": {
      "text/plain": [
       "dict_keys(['loss', 'accuracy', 'val_loss', 'val_accuracy'])"
      ]
     },
     "execution_count": 43,
     "metadata": {},
     "output_type": "execute_result"
    }
   ],
   "source": [
    "history_dict = history.history\n",
    "history_dict.keys()"
   ]
  },
  {
   "cell_type": "code",
   "execution_count": 44,
   "id": "7ac14b19-c448-42f0-92cf-2034088f4416",
   "metadata": {},
   "outputs": [
    {
     "data": {
      "image/png": "[encoded data removed]",
      "text/plain": [
       "<Figure size 432x288 with 1 Axes>"
      ]
     },
     "metadata": {
      "needs_background": "light"
     },
     "output_type": "display_data"
    }
   ],
   "source": [
    "acc = history_dict['accuracy']\n",
    "val_acc = history_dict['val_accuracy']\n",
    "loss = history_dict['loss']\n",
    "val_loss = history_dict['val_loss']\n",
    "\n",
    "epochs = range(1, len(acc) + 1)\n",
    "\n",
    "# \"-r^\" is for solid red line with triangle markers.\n",
    "plt.plot(epochs, loss, '-r^', label='Training loss')\n",
    "# \"-b0\" is for solid blue line with circle markers.\n",
    "plt.plot(epochs, val_loss, '-bo', label='Validation loss')\n",
    "plt.title('Training and validation loss')\n",
    "plt.xlabel('Epochs')\n",
    "plt.ylabel('Loss')\n",
    "plt.legend(loc='best')\n",
    "\n",
    "plt.show()\n"
   ]
  },
  {
   "cell_type": "code",
   "execution_count": 45,
   "id": "f84cd676-b77d-4718-af2b-d333ba0b86b3",
   "metadata": {},
   "outputs": [
    {
     "data": {
      "image/png": "[encoded data removed]",
      "text/plain": [
       "<Figure size 432x288 with 1 Axes>"
      ]
     },
     "metadata": {
      "needs_background": "light"
     },
     "output_type": "display_data"
    }
   ],
   "source": [
    "plt.clf()   # clear figure\n",
    "\n",
    "plt.plot(epochs, acc, '-r^', label='Training acc')\n",
    "plt.plot(epochs, val_acc, '-bo', label='Validation acc')\n",
    "plt.title('Training and validation accuracy')\n",
    "plt.xlabel('Epochs')\n",
    "plt.ylabel('Accuracy')\n",
    "plt.legend(loc='best')\n",
    "\n",
    "plt.show()"
   ]
  },
  {
   "cell_type": "markdown",
   "id": "41a3b0c9-29e9-4e1d-8fad-62ca43446fc1",
   "metadata": {},
   "source": [
    "## Base + Graph Regularizer"
   ]
  },
  {
   "cell_type": "markdown",
   "id": "0e79e560-fdc7-46ba-82a1-fb7ef2038dd3",
   "metadata": {},
   "source": [
    "Use the GraphRegularization wrapper from NSL to wrap our bi-lstm model"
   ]
  },
  {
   "cell_type": "markdown",
   "id": "84d535b6-a4ba-4bf8-b256-81310fe43da7",
   "metadata": {},
   "source": [
    "### Graph Model"
   ]
  },
  {
   "cell_type": "code",
   "execution_count": 58,
   "id": "c4367dfb-d04f-45b9-9215-1e18a6634028",
   "metadata": {},
   "outputs": [],
   "source": [
    "# Build a new base LSTM model.\n",
    "base_reg_model = make_bilstm_model()"
   ]
  },
  {
   "cell_type": "code",
   "execution_count": 59,
   "id": "325b4c61-c9d7-4eac-b6e1-6b53766f8fb7",
   "metadata": {},
   "outputs": [],
   "source": [
    "# Wrap the base model with graph regularization.\n",
    "graph_reg_config = nsl.configs.make_graph_reg_config(\n",
    "    max_neighbors=HPARAMS.num_neighbors,\n",
    "    multiplier=HPARAMS.graph_regularization_multiplier,\n",
    "    distance_type=HPARAMS.distance_type,\n",
    "    sum_over_axis=-1\n",
    ")\n",
    "graph_reg_model = nsl.keras.GraphRegularization(\n",
    "    base_reg_model,\n",
    "    graph_reg_config\n",
    ")\n",
    "\n",
    "graph_reg_model.compile(\n",
    "    optimizer='adam',\n",
    "    loss=tf.keras.losses.BinaryCrossentropy(from_logits=True),\n",
    "    metrics=['accuracy']\n",
    ")"
   ]
  },
  {
   "cell_type": "markdown",
   "id": "714b94bc-2288-4874-8ab2-b98fc0c0dd1e",
   "metadata": {},
   "source": [
    "### Train the Model"
   ]
  },
  {
   "cell_type": "code",
   "execution_count": 60,
   "id": "95bd3e5e-d251-49fe-9595-da7fbdd5fb76",
   "metadata": {},
   "outputs": [
    {
     "name": "stdout",
     "output_type": "stream",
     "text": [
      "Epoch 1/20\n"
     ]
    },
    {
     "name": "stderr",
     "output_type": "stream",
     "text": [
      "2022-05-13 12:51:59.524508: I tensorflow/core/grappler/optimizers/custom_graph_optimizer_registry.cc:113] Plugin optimizer for device_type GPU is enabled.\n",
      "2022-05-13 12:52:00.422574: I tensorflow/core/grappler/optimizers/custom_graph_optimizer_registry.cc:113] Plugin optimizer for device_type GPU is enabled.\n",
      "2022-05-13 12:52:00.424026: I tensorflow/core/grappler/optimizers/custom_graph_optimizer_registry.cc:113] Plugin optimizer for device_type GPU is enabled.\n",
      "2022-05-13 12:52:00.433719: I tensorflow/core/grappler/optimizers/custom_graph_optimizer_registry.cc:113] Plugin optimizer for device_type GPU is enabled.\n",
      "2022-05-13 12:52:00.434385: I tensorflow/core/grappler/optimizers/custom_graph_optimizer_registry.cc:113] Plugin optimizer for device_type GPU is enabled.\n",
      "2022-05-13 12:52:01.419618: I tensorflow/core/grappler/optimizers/custom_graph_optimizer_registry.cc:113] Plugin optimizer for device_type GPU is enabled.\n",
      "2022-05-13 12:52:01.434706: I tensorflow/core/grappler/optimizers/custom_graph_optimizer_registry.cc:113] Plugin optimizer for device_type GPU is enabled.\n",
      "2022-05-13 12:52:01.468115: I tensorflow/core/grappler/optimizers/custom_graph_optimizer_registry.cc:113] Plugin optimizer for device_type GPU is enabled.\n",
      "2022-05-13 12:52:01.484875: I tensorflow/core/grappler/optimizers/custom_graph_optimizer_registry.cc:113] Plugin optimizer for device_type GPU is enabled.\n"
     ]
    },
    {
     "name": "stdout",
     "output_type": "stream",
     "text": [
      "     21/Unknown - 14s 441ms/step - loss: 0.6932 - accuracy: 0.4896 - scaled_graph_loss: 7.4807e-05"
     ]
    },
    {
     "name": "stderr",
     "output_type": "stream",
     "text": [
      "2022-05-13 12:52:12.237252: I tensorflow/core/grappler/optimizers/custom_graph_optimizer_registry.cc:113] Plugin optimizer for device_type GPU is enabled.\n",
      "2022-05-13 12:52:12.331224: I tensorflow/core/grappler/optimizers/custom_graph_optimizer_registry.cc:113] Plugin optimizer for device_type GPU is enabled.\n",
      "2022-05-13 12:52:12.338999: I tensorflow/core/grappler/optimizers/custom_graph_optimizer_registry.cc:113] Plugin optimizer for device_type GPU is enabled.\n"
     ]
    },
    {
     "name": "stdout",
     "output_type": "stream",
     "text": [
      "21/21 [==============================] - 25s 987ms/step - loss: 0.6932 - accuracy: 0.4896 - scaled_graph_loss: 7.4807e-05 - val_loss: 0.6929 - val_accuracy: 0.5003\n",
      "Epoch 2/20\n",
      "21/21 [==============================] - 18s 858ms/step - loss: 0.6915 - accuracy: 0.4873 - scaled_graph_loss: 7.9284e-05 - val_loss: 0.6841 - val_accuracy: 0.4995\n",
      "Epoch 3/20\n",
      "21/21 [==============================] - 18s 850ms/step - loss: 0.6718 - accuracy: 0.5104 - scaled_graph_loss: 0.0048 - val_loss: 0.6442 - val_accuracy: 0.5029\n",
      "Epoch 4/20\n",
      "21/21 [==============================] - 18s 874ms/step - loss: 0.6082 - accuracy: 0.6600 - scaled_graph_loss: 0.0339 - val_loss: 0.5264 - val_accuracy: 0.7549\n",
      "Epoch 5/20\n",
      "21/21 [==============================] - 18s 860ms/step - loss: 0.5777 - accuracy: 0.7227 - scaled_graph_loss: 0.0589 - val_loss: 0.4826 - val_accuracy: 0.7271\n",
      "Epoch 6/20\n",
      "21/21 [==============================] - 17s 845ms/step - loss: 0.5365 - accuracy: 0.8031 - scaled_graph_loss: 0.0654 - val_loss: 0.4293 - val_accuracy: 0.8379\n",
      "Epoch 7/20\n",
      "21/21 [==============================] - 18s 870ms/step - loss: 0.5289 - accuracy: 0.8288 - scaled_graph_loss: 0.0805 - val_loss: 0.4180 - val_accuracy: 0.8534\n",
      "Epoch 8/20\n",
      "21/21 [==============================] - 18s 847ms/step - loss: 0.5009 - accuracy: 0.8665 - scaled_graph_loss: 0.0882 - val_loss: 0.4028 - val_accuracy: 0.8856\n",
      "Epoch 9/20\n",
      "21/21 [==============================] - 18s 866ms/step - loss: 0.4965 - accuracy: 0.8677 - scaled_graph_loss: 0.0868 - val_loss: 0.4195 - val_accuracy: 0.8902\n",
      "Epoch 10/20\n",
      "21/21 [==============================] - 17s 844ms/step - loss: 0.5042 - accuracy: 0.8638 - scaled_graph_loss: 0.0926 - val_loss: 0.4325 - val_accuracy: 0.8883\n",
      "Epoch 11/20\n",
      "21/21 [==============================] - 17s 833ms/step - loss: 0.4832 - accuracy: 0.8862 - scaled_graph_loss: 0.0962 - val_loss: 0.4061 - val_accuracy: 0.8681\n",
      "Epoch 12/20\n",
      "21/21 [==============================] - 17s 831ms/step - loss: 0.4857 - accuracy: 0.8804 - scaled_graph_loss: 0.0974 - val_loss: 0.4225 - val_accuracy: 0.8268\n",
      "Epoch 13/20\n",
      "21/21 [==============================] - 17s 839ms/step - loss: 0.4787 - accuracy: 0.8923 - scaled_graph_loss: 0.0966 - val_loss: 0.3856 - val_accuracy: 0.8594\n",
      "Epoch 14/20\n",
      "21/21 [==============================] - 17s 840ms/step - loss: 0.4806 - accuracy: 0.8912 - scaled_graph_loss: 0.1000 - val_loss: 0.3756 - val_accuracy: 0.9035\n",
      "Epoch 15/20\n",
      "21/21 [==============================] - 17s 840ms/step - loss: 0.4735 - accuracy: 0.9035 - scaled_graph_loss: 0.0983 - val_loss: 0.3759 - val_accuracy: 0.9117\n",
      "Epoch 16/20\n",
      "21/21 [==============================] - 18s 845ms/step - loss: 0.4820 - accuracy: 0.8931 - scaled_graph_loss: 0.1010 - val_loss: 0.4129 - val_accuracy: 0.9104\n",
      "Epoch 17/20\n",
      "21/21 [==============================] - 18s 854ms/step - loss: 0.4817 - accuracy: 0.8900 - scaled_graph_loss: 0.0973 - val_loss: 0.4005 - val_accuracy: 0.9113\n",
      "Epoch 18/20\n",
      "21/21 [==============================] - 18s 847ms/step - loss: 0.4852 - accuracy: 0.8831 - scaled_graph_loss: 0.0887 - val_loss: 0.3818 - val_accuracy: 0.9005\n",
      "Epoch 19/20\n",
      "21/21 [==============================] - 18s 861ms/step - loss: 0.4741 - accuracy: 0.9123 - scaled_graph_loss: 0.1068 - val_loss: 0.3896 - val_accuracy: 0.8606\n",
      "Epoch 20/20\n",
      "21/21 [==============================] - 18s 853ms/step - loss: 0.4705 - accuracy: 0.9069 - scaled_graph_loss: 0.0941 - val_loss: 0.3985 - val_accuracy: 0.8817\n"
     ]
    }
   ],
   "source": [
    "graph_reg_history = graph_reg_model.fit(\n",
    "    train_dataset,\n",
    "    validation_data=validation_dataset,\n",
    "    epochs=HPARAMS.train_epochs,\n",
    "    verbose=1\n",
    ")"
   ]
  },
  {
   "cell_type": "markdown",
   "id": "7ef23acd-68e9-408c-ab50-328fb3c42a76",
   "metadata": {},
   "source": [
    "### Evaluate the model"
   ]
  },
  {
   "cell_type": "code",
   "execution_count": 61,
   "id": "c6dfdec8-b933-46b6-9fd0-fb17c4261939",
   "metadata": {},
   "outputs": [
    {
     "name": "stderr",
     "output_type": "stream",
     "text": [
      "2022-05-13 12:59:12.834556: I tensorflow/core/grappler/optimizers/custom_graph_optimizer_registry.cc:113] Plugin optimizer for device_type GPU is enabled.\n",
      "2022-05-13 12:59:12.918072: I tensorflow/core/grappler/optimizers/custom_graph_optimizer_registry.cc:113] Plugin optimizer for device_type GPU is enabled.\n",
      "2022-05-13 12:59:12.925624: I tensorflow/core/grappler/optimizers/custom_graph_optimizer_registry.cc:113] Plugin optimizer for device_type GPU is enabled.\n"
     ]
    },
    {
     "name": "stdout",
     "output_type": "stream",
     "text": [
      "196/196 [==============================] - 13s 61ms/step - loss: 0.4592 - accuracy: 0.8080\n",
      "[0.4591517150402069, 0.807960033416748]\n"
     ]
    }
   ],
   "source": [
    "graph_reg_results = graph_reg_model.evaluate(\n",
    "    test_dataset,\n",
    "    steps=HPARAMS.eval_steps\n",
    ")\n",
    "\n",
    "print(graph_reg_results)\n"
   ]
  },
  {
   "cell_type": "markdown",
   "id": "1a331b80-5ae8-4472-8e38-4de783d6cfab",
   "metadata": {},
   "source": [
    "### Graph the Results"
   ]
  },
  {
   "cell_type": "code",
   "execution_count": 50,
   "id": "83caef61-a786-4373-a4d7-97dce1a3ccbe",
   "metadata": {},
   "outputs": [
    {
     "data": {
      "text/plain": [
       "dict_keys(['loss', 'accuracy', 'scaled_graph_loss', 'val_loss', 'val_accuracy'])"
      ]
     },
     "execution_count": 50,
     "metadata": {},
     "output_type": "execute_result"
    }
   ],
   "source": [
    "graph_reg_history_dict = graph_reg_history.history\n",
    "graph_reg_history_dict.keys()"
   ]
  },
  {
   "cell_type": "code",
   "execution_count": 51,
   "id": "2fe8ef9a-b0cb-4b54-9947-042d096b2891",
   "metadata": {},
   "outputs": [
    {
     "data": {
      "image/png": "[encoded data removed]",
      "text/plain": [
       "<Figure size 432x288 with 1 Axes>"
      ]
     },
     "metadata": {
      "needs_background": "light"
     },
     "output_type": "display_data"
    }
   ],
   "source": [
    "acc = graph_reg_history_dict['accuracy']\n",
    "val_acc = graph_reg_history_dict['val_accuracy']\n",
    "loss = graph_reg_history_dict['loss']\n",
    "graph_loss = graph_reg_history_dict['scaled_graph_loss']\n",
    "val_loss = graph_reg_history_dict['val_loss']\n",
    "\n",
    "epochs = range(1, len(acc) + 1)\n",
    "\n",
    "plt.clf()   # clear figure\n",
    "\n",
    "# \"-r^\" is for solid red line with triangle markers.\n",
    "plt.plot(epochs, loss, '-r^', label='Training loss')\n",
    "# \"-gD\" is for solid green line with diamond markers.\n",
    "plt.plot(epochs, graph_loss, '-gD', label='Training graph loss')\n",
    "# \"-b0\" is for solid blue line with circle markers.\n",
    "plt.plot(epochs, val_loss, '-bo', label='Validation loss')\n",
    "plt.title('Training and validation loss')\n",
    "plt.xlabel('Epochs')\n",
    "plt.ylabel('Loss')\n",
    "plt.legend(loc='best')\n",
    "\n",
    "plt.show()"
   ]
  },
  {
   "cell_type": "code",
   "execution_count": 52,
   "id": "2b1a49ec-6b3a-4c03-8756-01bbc732ec3c",
   "metadata": {},
   "outputs": [
    {
     "data": {
      "image/png": "[encoded data removed]",
      "text/plain": [
       "<Figure size 432x288 with 1 Axes>"
      ]
     },
     "metadata": {
      "needs_background": "light"
     },
     "output_type": "display_data"
    }
   ],
   "source": [
    "plt.clf()   # clear figure\n",
    "\n",
    "plt.plot(epochs, acc, '-r^', label='Training acc')\n",
    "plt.plot(epochs, val_acc, '-bo', label='Validation acc')\n",
    "plt.title('Training and validation accuracy')\n",
    "plt.xlabel('Epochs')\n",
    "plt.ylabel('Accuracy')\n",
    "plt.legend(loc='best')\n",
    "\n",
    "plt.show()"
   ]
  },
  {
   "cell_type": "markdown",
   "id": "ff1cd0b1-d14a-4649-b31c-88e1777d78fa",
   "metadata": {},
   "source": [
    "## Comparing for cases with fewer labeled data in the training"
   ]
  },
  {
   "cell_type": "code",
   "execution_count": 54,
   "id": "40698994-d999-4e95-95d5-f4a8d0f64fc9",
   "metadata": {},
   "outputs": [
    {
     "data": {
      "text/plain": [
       "<Figure size 432x288 with 0 Axes>"
      ]
     },
     "metadata": {},
     "output_type": "display_data"
    },
    {
     "data": {
      "image/png": "[encoded data removed]",
      "text/plain": [
       "<Figure size 864x360 with 2 Axes>"
      ]
     },
     "metadata": {
      "needs_background": "light"
     },
     "output_type": "display_data"
    }
   ],
   "source": [
    "# Accuracy values for both the Bi-LSTM model and the feed forward NN model have\n",
    "# been precomputed for the following supervision ratios.\n",
    "\n",
    "supervision_ratios = [0.3, 0.15, 0.05, 0.03, 0.02, 0.01, 0.005]\n",
    "\n",
    "model_tags = ['Bi-LSTM model', 'Feed Forward NN model']\n",
    "base_model_accs = [[84, 84, 83, 80, 65, 52, 50], [87, 86, 76, 74, 67, 52, 51]]\n",
    "graph_reg_model_accs = [[84, 84, 83, 83, 65, 63, 50],\n",
    "                        [87, 86, 80, 75, 67, 52, 50]]\n",
    "\n",
    "plt.clf()  # clear figure\n",
    "\n",
    "fig, axes = plt.subplots(1, 2)\n",
    "fig.set_size_inches((12, 5))\n",
    "\n",
    "for ax, model_tag, base_model_acc, graph_reg_model_acc in zip(\n",
    "        axes, model_tags, base_model_accs, graph_reg_model_accs):\n",
    "\n",
    "    # \"-r^\" is for solid red line with triangle markers.\n",
    "    ax.plot(base_model_acc, '-r^', label='Base model')\n",
    "    # \"-gD\" is for solid green line with diamond markers.\n",
    "    ax.plot(graph_reg_model_acc, '-gD', label='Graph-regularized model')\n",
    "    ax.set_title(model_tag)\n",
    "    ax.set_xlabel('Supervision ratio')\n",
    "    ax.set_ylabel('Accuracy(%)')\n",
    "    ax.set_ylim((25, 100))\n",
    "    ax.set_xticks(range(len(supervision_ratios)))\n",
    "    ax.set_xticklabels(supervision_ratios)\n",
    "    ax.legend(loc='best')\n",
    "\n",
    "plt.show()"
   ]
  },
  {
   "cell_type": "code",
   "execution_count": null,
   "id": "20cf488f-79db-480d-92ea-3ea354377b6c",
   "metadata": {},
   "outputs": [],
   "source": []
  },
  {
   "cell_type": "code",
   "execution_count": null,
   "id": "10973ecb-8587-489b-a56e-176f842ea0a6",
   "metadata": {},
   "outputs": [],
   "source": []
  }
 ],
 "metadata": {
  "kernelspec": {
   "display_name": "Python 3 (ipykernel)",
   "language": "python",
   "name": "python3"
  },
  "language_info": {
   "codemirror_mode": {
    "name": "ipython",
    "version": 3
   },
   "file_extension": ".py",
   "mimetype": "text/x-python",
   "name": "python",
   "nbconvert_exporter": "python",
   "pygments_lexer": "ipython3",
   "version": "3.9.7"
  }
 },
 "nbformat": 4,
 "nbformat_minor": 5
}
