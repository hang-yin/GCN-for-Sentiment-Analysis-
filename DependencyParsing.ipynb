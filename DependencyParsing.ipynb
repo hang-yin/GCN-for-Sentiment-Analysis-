{
 "cells": [
  {
   "cell_type": "markdown",
   "id": "819de6ca-d430-4f8e-b0a6-ef9a9d863da0",
   "metadata": {},
   "source": [
    "# Summary"
   ]
  },
  {
   "cell_type": "markdown",
   "id": "474b24a0-52fb-400b-9c55-759400a6740e",
   "metadata": {},
   "source": [
    "## Task"
   ]
  },
  {
   "cell_type": "markdown",
   "id": "ab547d55-0695-40f4-ad7c-4c405d68a2fb",
   "metadata": {},
   "source": [
    "To explore dependency parsing for sentences so that word level graphs can be constructed for the problem of classification"
   ]
  },
  {
   "cell_type": "markdown",
   "id": "25e65a81-4093-4e69-8b9f-e0ed0dbc56e6",
   "metadata": {},
   "source": [
    "1. Explore how dependency parsing works\n",
    "2. Tokenize sentences and give them to the dependency parser\n",
    "3. Obtain the relationships and check them\n",
    "4. Convert the dependency graphs from the parser into the graphs that can be used for GCN\n",
    "5. Explore GCN and try to build graphs from the parsed dependency graphs\n",
    "6. Perform graph level classification\n",
    "7. Check performance\n",
    "8. Refine the various layers and hyperparameters in the process\n",
    "9. Check final performance\n",
    "10. Do interpreation manually on some selected examples\n",
    "11. Implement edge masking to get the minimum subgraph\n",
    "12. Performe automatic interpretation of the graphs to determine the most important terms/relationships for each sentence"
   ]
  },
  {
   "cell_type": "markdown",
   "id": "7992a7d6-b508-46b6-90e8-6c6706745cb3",
   "metadata": {},
   "source": [
    "## Method"
   ]
  },
  {
   "cell_type": "markdown",
   "id": "68db8681-dabf-4d46-9a9e-f7bfc39beec4",
   "metadata": {},
   "source": [
    "* For dependency parsing, we will try to use the tools from the stanford nlp group.\n",
    "* The *[CoreNLP](https://github.com/stanfordnlp/CoreNLP)* library is important as it contains many of the tools needed to performe dependency parsing\n",
    "* The *[stanza](https://github.com/stanfordnlp/stanza)* library offers a wrapped version of CoreNLP that works directly with Python\n",
    "* Visualization of the graphs can be done using *[networkx](https://github.com/networkx/networkx)*\n",
    "* For GCN and word-level graphs we will primarily look at the ideas in this *[tutorial](https://uvadlc-notebooks.readthedocs.io/en/latest/tutorial_notebooks/tutorial7/GNN_overview.html)*\n",
    "* We will try to use the *[spectral](https://github.com/danielegrattarola/spektral/)* library to implement the graphs convolution and attention \n",
    "* *[Link](https://universaldependencies.org/u/dep/)* to explaination of dependency relations."
   ]
  },
  {
   "cell_type": "markdown",
   "id": "6d7dca2a-d5ee-4d5a-a8bc-0a08312f5d66",
   "metadata": {},
   "source": [
    "## Dataset"
   ]
  },
  {
   "cell_type": "markdown",
   "id": "d2bc056b-4209-4386-83f3-341763d644c6",
   "metadata": {},
   "source": [
    "The dataset is still IMDB review but we may expand later on"
   ]
  },
  {
   "cell_type": "markdown",
   "id": "26ed5318-0c20-4844-abc3-0557fdd87e50",
   "metadata": {},
   "source": [
    "## Results"
   ]
  },
  {
   "cell_type": "markdown",
   "id": "8dc0b039-0e9a-49ba-9ae2-0cb73f941207",
   "metadata": {},
   "source": [
    "Fill in later"
   ]
  },
  {
   "cell_type": "markdown",
   "id": "5b995cc3-558e-442b-b019-c7118b9f68c6",
   "metadata": {},
   "source": [
    "## Conclusion"
   ]
  },
  {
   "cell_type": "markdown",
   "id": "a1be4892-b7c4-4e33-8bc5-87016be64a8a",
   "metadata": {},
   "source": [
    "Fill in at the end"
   ]
  },
  {
   "cell_type": "markdown",
   "id": "614bc035-6d55-4c30-8e08-b74200f23079",
   "metadata": {},
   "source": [
    "# Code"
   ]
  },
  {
   "cell_type": "markdown",
   "id": "a181f48c-7f2e-4f99-b114-9b2e558305ba",
   "metadata": {},
   "source": [
    "## Basic Imports"
   ]
  },
  {
   "cell_type": "code",
   "execution_count": 5,
   "id": "b3b809df-9776-4c7b-a943-f1d8922bee6e",
   "metadata": {},
   "outputs": [],
   "source": [
    "import numpy as np\n",
    "import pandas as pd\n",
    "import matplotlib.pyplot as plt"
   ]
  },
  {
   "cell_type": "code",
   "execution_count": 8,
   "id": "11f4a952-8c39-4d69-ad06-c4f7b2f56b35",
   "metadata": {},
   "outputs": [],
   "source": [
    "import stanza"
   ]
  },
  {
   "cell_type": "code",
   "execution_count": 13,
   "id": "688b27dd-aeae-4f44-bd8b-b398d40cb3da",
   "metadata": {},
   "outputs": [
    {
     "data": {
      "application/vnd.jupyter.widget-view+json": {
       "model_id": "7c920b474c29463c969af87564a133a7",
       "version_major": 2,
       "version_minor": 0
      },
      "text/plain": [
       "Downloading https://raw.githubusercontent.com/stanfordnlp/stanza-resources/main/resources_1.4.0.json:   0%|   …"
      ]
     },
     "metadata": {},
     "output_type": "display_data"
    },
    {
     "name": "stderr",
     "output_type": "stream",
     "text": [
      "2022-05-23 21:27:58 INFO: Downloading default packages for language: en (English)...\n"
     ]
    },
    {
     "data": {
      "application/vnd.jupyter.widget-view+json": {
       "model_id": "f98ceb59dd8e49ee812a1ca823a759d2",
       "version_major": 2,
       "version_minor": 0
      },
      "text/plain": [
       "Downloading https://huggingface.co/stanfordnlp/stanza-en/resolve/v1.4.0/models/default.zip:   0%|          | 0…"
      ]
     },
     "metadata": {},
     "output_type": "display_data"
    },
    {
     "name": "stderr",
     "output_type": "stream",
     "text": [
      "2022-05-23 21:31:24 INFO: Finished downloading models and saved to /Users/zeyuyang/stanza_resources.\n"
     ]
    }
   ],
   "source": [
    "stanza.download('en')"
   ]
  },
  {
   "cell_type": "code",
   "execution_count": 35,
   "id": "14d46c2e-722e-4e93-8f02-929d11abb4d9",
   "metadata": {},
   "outputs": [],
   "source": [
    "import networkx as nx"
   ]
  },
  {
   "cell_type": "markdown",
   "id": "786f9cc0-2104-41d0-9876-c09c88005ef2",
   "metadata": {},
   "source": [
    "## Part 1: Dependency Parsing"
   ]
  },
  {
   "cell_type": "markdown",
   "id": "7d80a40e-095a-4f88-9137-3991019fd7d7",
   "metadata": {},
   "source": [
    "### Testing "
   ]
  },
  {
   "cell_type": "code",
   "execution_count": 11,
   "id": "25783253-4991-4f64-ad3c-cfe053630f83",
   "metadata": {},
   "outputs": [],
   "source": [
    "sampleSentence = \"There is nothing wrong with Apple's new M1 Max Chip, everything works so well!\""
   ]
  },
  {
   "cell_type": "code",
   "execution_count": 12,
   "id": "a07d5f57-2fdb-4327-b51f-4097372f6485",
   "metadata": {},
   "outputs": [
    {
     "data": {
      "text/plain": [
       "\"There is nothing wrong with Apple's new M1 Max Chip, everything works so well!\""
      ]
     },
     "execution_count": 12,
     "metadata": {},
     "output_type": "execute_result"
    }
   ],
   "source": [
    "sampleSentence"
   ]
  },
  {
   "cell_type": "code",
   "execution_count": 23,
   "id": "7838ce42-7b58-45ec-aa1a-74f63b6f9c9d",
   "metadata": {},
   "outputs": [
    {
     "data": {
      "application/vnd.jupyter.widget-view+json": {
       "model_id": "6fefc041501a4fa99679bf40ae44c0c5",
       "version_major": 2,
       "version_minor": 0
      },
      "text/plain": [
       "Downloading https://raw.githubusercontent.com/stanfordnlp/stanza-resources/main/resources_1.4.0.json:   0%|   …"
      ]
     },
     "metadata": {},
     "output_type": "display_data"
    },
    {
     "name": "stderr",
     "output_type": "stream",
     "text": [
      "2022-05-23 21:41:54 WARNING: Can not find mwt: default from official model list. Ignoring it.\n",
      "2022-05-23 21:41:55 INFO: Loading these models for language: en (English):\n",
      "========================\n",
      "| Processor | Package  |\n",
      "------------------------\n",
      "| tokenize  | combined |\n",
      "| pos       | combined |\n",
      "| lemma     | combined |\n",
      "| depparse  | combined |\n",
      "========================\n",
      "\n",
      "2022-05-23 21:41:55 INFO: Use device: cpu\n",
      "2022-05-23 21:41:55 INFO: Loading: tokenize\n",
      "2022-05-23 21:41:55 INFO: Loading: pos\n",
      "2022-05-23 21:41:55 INFO: Loading: lemma\n",
      "2022-05-23 21:41:55 INFO: Loading: depparse\n",
      "2022-05-23 21:41:55 INFO: Done loading processors!\n"
     ]
    }
   ],
   "source": [
    "nlp = stanza.Pipeline(\n",
    "    'en',\n",
    "    processors = 'tokenize,mwt,pos,lemma,depparse')"
   ]
  },
  {
   "cell_type": "code",
   "execution_count": 25,
   "id": "c761b022-43c7-44f5-8c95-89dadb82ba55",
   "metadata": {},
   "outputs": [],
   "source": [
    "doc = nlp(sampleSentence)"
   ]
  },
  {
   "cell_type": "code",
   "execution_count": 67,
   "id": "97c49cee-4b1e-4df3-b57f-658accaf4775",
   "metadata": {},
   "outputs": [
    {
     "data": {
      "text/plain": [
       "[\n",
       "  [\n",
       "    {\n",
       "      \"id\": 1,\n",
       "      \"text\": \"There\",\n",
       "      \"lemma\": \"there\",\n",
       "      \"upos\": \"PRON\",\n",
       "      \"xpos\": \"EX\",\n",
       "      \"head\": 2,\n",
       "      \"deprel\": \"expl\",\n",
       "      \"start_char\": 0,\n",
       "      \"end_char\": 5\n",
       "    },\n",
       "    {\n",
       "      \"id\": 2,\n",
       "      \"text\": \"is\",\n",
       "      \"lemma\": \"be\",\n",
       "      \"upos\": \"VERB\",\n",
       "      \"xpos\": \"VBZ\",\n",
       "      \"feats\": \"Mood=Ind|Number=Sing|Person=3|Tense=Pres|VerbForm=Fin\",\n",
       "      \"head\": 0,\n",
       "      \"deprel\": \"root\",\n",
       "      \"start_char\": 6,\n",
       "      \"end_char\": 8\n",
       "    },\n",
       "    {\n",
       "      \"id\": 3,\n",
       "      \"text\": \"nothing\",\n",
       "      \"lemma\": \"nothing\",\n",
       "      \"upos\": \"PRON\",\n",
       "      \"xpos\": \"NN\",\n",
       "      \"feats\": \"Number=Sing\",\n",
       "      \"head\": 2,\n",
       "      \"deprel\": \"nsubj\",\n",
       "      \"start_char\": 9,\n",
       "      \"end_char\": 16\n",
       "    },\n",
       "    {\n",
       "      \"id\": 4,\n",
       "      \"text\": \"wrong\",\n",
       "      \"lemma\": \"wrong\",\n",
       "      \"upos\": \"ADJ\",\n",
       "      \"xpos\": \"JJ\",\n",
       "      \"feats\": \"Degree=Pos\",\n",
       "      \"head\": 3,\n",
       "      \"deprel\": \"amod\",\n",
       "      \"start_char\": 17,\n",
       "      \"end_char\": 22\n",
       "    },\n",
       "    {\n",
       "      \"id\": 5,\n",
       "      \"text\": \"with\",\n",
       "      \"lemma\": \"with\",\n",
       "      \"upos\": \"ADP\",\n",
       "      \"xpos\": \"IN\",\n",
       "      \"head\": 10,\n",
       "      \"deprel\": \"case\",\n",
       "      \"start_char\": 23,\n",
       "      \"end_char\": 27\n",
       "    },\n",
       "    {\n",
       "      \"id\": 6,\n",
       "      \"text\": \"Apple\",\n",
       "      \"lemma\": \"Apple\",\n",
       "      \"upos\": \"PROPN\",\n",
       "      \"xpos\": \"NNP\",\n",
       "      \"feats\": \"Number=Sing\",\n",
       "      \"head\": 10,\n",
       "      \"deprel\": \"nmod:poss\",\n",
       "      \"start_char\": 28,\n",
       "      \"end_char\": 33\n",
       "    },\n",
       "    {\n",
       "      \"id\": 7,\n",
       "      \"text\": \"'s\",\n",
       "      \"lemma\": \"'s\",\n",
       "      \"upos\": \"PART\",\n",
       "      \"xpos\": \"POS\",\n",
       "      \"head\": 6,\n",
       "      \"deprel\": \"case\",\n",
       "      \"start_char\": 33,\n",
       "      \"end_char\": 35\n",
       "    },\n",
       "    {\n",
       "      \"id\": 8,\n",
       "      \"text\": \"new\",\n",
       "      \"lemma\": \"new\",\n",
       "      \"upos\": \"ADJ\",\n",
       "      \"xpos\": \"JJ\",\n",
       "      \"feats\": \"Degree=Pos\",\n",
       "      \"head\": 10,\n",
       "      \"deprel\": \"amod\",\n",
       "      \"start_char\": 36,\n",
       "      \"end_char\": 39\n",
       "    },\n",
       "    {\n",
       "      \"id\": 9,\n",
       "      \"text\": \"M1\",\n",
       "      \"lemma\": \"M1\",\n",
       "      \"upos\": \"PROPN\",\n",
       "      \"xpos\": \"NNP\",\n",
       "      \"feats\": \"Number=Sing\",\n",
       "      \"head\": 10,\n",
       "      \"deprel\": \"compound\",\n",
       "      \"start_char\": 40,\n",
       "      \"end_char\": 42\n",
       "    },\n",
       "    {\n",
       "      \"id\": 10,\n",
       "      \"text\": \"Max\",\n",
       "      \"lemma\": \"Max\",\n",
       "      \"upos\": \"PROPN\",\n",
       "      \"xpos\": \"NNP\",\n",
       "      \"feats\": \"Number=Sing\",\n",
       "      \"head\": 3,\n",
       "      \"deprel\": \"nmod\",\n",
       "      \"start_char\": 43,\n",
       "      \"end_char\": 46\n",
       "    },\n",
       "    {\n",
       "      \"id\": 11,\n",
       "      \"text\": \"Chip\",\n",
       "      \"lemma\": \"Chip\",\n",
       "      \"upos\": \"PROPN\",\n",
       "      \"xpos\": \"NNP\",\n",
       "      \"feats\": \"Number=Sing\",\n",
       "      \"head\": 10,\n",
       "      \"deprel\": \"flat\",\n",
       "      \"start_char\": 47,\n",
       "      \"end_char\": 51\n",
       "    },\n",
       "    {\n",
       "      \"id\": 12,\n",
       "      \"text\": \",\",\n",
       "      \"lemma\": \",\",\n",
       "      \"upos\": \"PUNCT\",\n",
       "      \"xpos\": \",\",\n",
       "      \"head\": 14,\n",
       "      \"deprel\": \"punct\",\n",
       "      \"start_char\": 51,\n",
       "      \"end_char\": 52\n",
       "    },\n",
       "    {\n",
       "      \"id\": 13,\n",
       "      \"text\": \"everything\",\n",
       "      \"lemma\": \"everything\",\n",
       "      \"upos\": \"PRON\",\n",
       "      \"xpos\": \"NN\",\n",
       "      \"feats\": \"Number=Sing\",\n",
       "      \"head\": 14,\n",
       "      \"deprel\": \"nsubj\",\n",
       "      \"start_char\": 53,\n",
       "      \"end_char\": 63\n",
       "    },\n",
       "    {\n",
       "      \"id\": 14,\n",
       "      \"text\": \"works\",\n",
       "      \"lemma\": \"work\",\n",
       "      \"upos\": \"VERB\",\n",
       "      \"xpos\": \"VBZ\",\n",
       "      \"feats\": \"Mood=Ind|Number=Sing|Person=3|Tense=Pres|VerbForm=Fin\",\n",
       "      \"head\": 2,\n",
       "      \"deprel\": \"parataxis\",\n",
       "      \"start_char\": 64,\n",
       "      \"end_char\": 69\n",
       "    },\n",
       "    {\n",
       "      \"id\": 15,\n",
       "      \"text\": \"so\",\n",
       "      \"lemma\": \"so\",\n",
       "      \"upos\": \"ADV\",\n",
       "      \"xpos\": \"RB\",\n",
       "      \"head\": 16,\n",
       "      \"deprel\": \"advmod\",\n",
       "      \"start_char\": 70,\n",
       "      \"end_char\": 72\n",
       "    },\n",
       "    {\n",
       "      \"id\": 16,\n",
       "      \"text\": \"well\",\n",
       "      \"lemma\": \"well\",\n",
       "      \"upos\": \"ADV\",\n",
       "      \"xpos\": \"RB\",\n",
       "      \"feats\": \"Degree=Pos\",\n",
       "      \"head\": 14,\n",
       "      \"deprel\": \"advmod\",\n",
       "      \"start_char\": 73,\n",
       "      \"end_char\": 77\n",
       "    },\n",
       "    {\n",
       "      \"id\": 17,\n",
       "      \"text\": \"!\",\n",
       "      \"lemma\": \"!\",\n",
       "      \"upos\": \"PUNCT\",\n",
       "      \"xpos\": \".\",\n",
       "      \"head\": 2,\n",
       "      \"deprel\": \"punct\",\n",
       "      \"start_char\": 77,\n",
       "      \"end_char\": 78\n",
       "    }\n",
       "  ]\n",
       "]"
      ]
     },
     "execution_count": 67,
     "metadata": {},
     "output_type": "execute_result"
    }
   ],
   "source": [
    "doc"
   ]
  },
  {
   "cell_type": "code",
   "execution_count": 27,
   "id": "e9dd77ca-7012-48c5-b671-5a2b3ca20355",
   "metadata": {},
   "outputs": [
    {
     "name": "stdout",
     "output_type": "stream",
     "text": [
      "('There', 2, 'expl')\n",
      "('is', 0, 'root')\n",
      "('nothing', 2, 'nsubj')\n",
      "('wrong', 3, 'amod')\n",
      "('with', 10, 'case')\n",
      "('Apple', 10, 'nmod:poss')\n",
      "(\"'s\", 6, 'case')\n",
      "('new', 10, 'amod')\n",
      "('M1', 10, 'compound')\n",
      "('Max', 3, 'nmod')\n",
      "('Chip', 10, 'flat')\n",
      "(',', 14, 'punct')\n",
      "('everything', 14, 'nsubj')\n",
      "('works', 2, 'parataxis')\n",
      "('so', 16, 'advmod')\n",
      "('well', 14, 'advmod')\n",
      "('!', 2, 'punct')\n"
     ]
    }
   ],
   "source": [
    "doc.sentences[0].print_dependencies()"
   ]
  },
  {
   "cell_type": "code",
   "execution_count": 29,
   "id": "c70385db-277b-4ee7-9c5e-4a437fdd8405",
   "metadata": {},
   "outputs": [
    {
     "name": "stdout",
     "output_type": "stream",
     "text": [
      "Token           | Relation   | Head            \n",
      "--------------------------------------------------\n",
      "There           | expl       | is              \n",
      "is              | root       | ROOT            \n",
      "nothing         | nsubj      | is              \n",
      "wrong           | amod       | nothing         \n",
      "with            | case       | Max             \n",
      "Apple           | nmod:poss  | Max             \n",
      "'s              | case       | Apple           \n",
      "new             | amod       | Max             \n",
      "M1              | compound   | Max             \n",
      "Max             | nmod       | nothing         \n",
      "Chip            | flat       | Max             \n",
      ",               | punct      | works           \n",
      "everything      | nsubj      | works           \n",
      "works           | parataxis  | is              \n",
      "so              | advmod     | well            \n",
      "well            | advmod     | works           \n",
      "!               | punct      | is              \n"
     ]
    }
   ],
   "source": [
    "print (\"{:<15} | {:<10} | {:<15} \".format('Token', 'Relation', 'Head'))\n",
    "print (\"-\" * 50)\n",
    "# Convert sentence object to dictionary  \n",
    "sent_dict = doc.sentences[0].to_dict()\n",
    "\n",
    "# iterate to print the token, relation and head\n",
    "for word in sent_dict:\n",
    "  print (\"{:<15} | {:<10} | {:<15} \"\n",
    "         .format(str(word['text']),str(word['deprel']), str(sent_dict[word['head']-1]['text'] if word['head'] > 0 else 'ROOT')))\n"
   ]
  },
  {
   "cell_type": "code",
   "execution_count": 120,
   "id": "77094ff0-c894-40e6-9870-5497018f1275",
   "metadata": {},
   "outputs": [],
   "source": [
    "G = nx.DiGraph()\n",
    "G.add_nodes_from(range(1, len(sent_dict) + 1))\n",
    "\n",
    "for edge in sent_dict:\n",
    "    if edge['head']:\n",
    "        G.add_edge(edge['head'], edge['id'])\n",
    "               \n",
    "words = [word['text'] for word in sent_dict]\n",
    "labels = {index + 1: words[index] + \":\" + str(index + 1) for index in range(len(words))}\n"
   ]
  },
  {
   "cell_type": "code",
   "execution_count": 121,
   "id": "9b0864e0-bfcf-408d-9ad0-56b55098dfc8",
   "metadata": {},
   "outputs": [
    {
     "data": {
      "image/png": "[encoded data removed]",
      "text/plain": [
       "<Figure size 864x864 with 1 Axes>"
      ]
     },
     "metadata": {},
     "output_type": "display_data"
    }
   ],
   "source": [
    "plt.figure(3,figsize=(12,12)) \n",
    "\n",
    "nx.draw(G, with_labels=True, labels=labels, node_size=2000, node_color='#B5EAD7', font_size=10)"
   ]
  },
  {
   "cell_type": "code",
   "execution_count": 122,
   "id": "a4986006-b9b6-442a-93d0-1f46874b0441",
   "metadata": {},
   "outputs": [
    {
     "data": {
      "text/plain": [
       "OutEdgeView([(2, 1), (2, 3), (2, 14), (2, 17), (3, 4), (3, 10), (6, 7), (10, 5), (10, 6), (10, 8), (10, 9), (10, 11), (14, 12), (14, 13), (14, 16), (16, 15)])"
      ]
     },
     "execution_count": 122,
     "metadata": {},
     "output_type": "execute_result"
    }
   ],
   "source": [
    "G.edges"
   ]
  },
  {
   "cell_type": "code",
   "execution_count": 123,
   "id": "aaa02c4b-f3b4-46da-86cf-849900171254",
   "metadata": {},
   "outputs": [
    {
     "data": {
      "text/plain": [
       "NodeView((1, 2, 3, 4, 5, 6, 7, 8, 9, 10, 11, 12, 13, 14, 15, 16, 17))"
      ]
     },
     "execution_count": 123,
     "metadata": {},
     "output_type": "execute_result"
    }
   ],
   "source": [
    "G.nodes"
   ]
  },
  {
   "cell_type": "code",
   "execution_count": null,
   "id": "60c4be9c-0160-4b52-a6ab-297f060515a0",
   "metadata": {},
   "outputs": [],
   "source": []
  },
  {
   "cell_type": "code",
   "execution_count": null,
   "id": "79a178d8-1ff3-4488-bf27-00fef1d68364",
   "metadata": {},
   "outputs": [],
   "source": []
  },
  {
   "cell_type": "code",
   "execution_count": null,
   "id": "8caf9e5c-4bf0-44d0-94be-8758d1fefbee",
   "metadata": {},
   "outputs": [],
   "source": []
  },
  {
   "cell_type": "code",
   "execution_count": null,
   "id": "290e5e7e-46d8-4bc5-8d87-8e03333510f3",
   "metadata": {},
   "outputs": [],
   "source": []
  },
  {
   "cell_type": "code",
   "execution_count": null,
   "id": "e0ea046b-9fa4-4ede-ad8f-78f616d8cd8a",
   "metadata": {},
   "outputs": [],
   "source": []
  },
  {
   "cell_type": "code",
   "execution_count": 19,
   "id": "74a94f2a-7e8d-4282-a63e-7f52de8df506",
   "metadata": {},
   "outputs": [],
   "source": [
    "sampleSentence2 = \"<START> this film was just brilliant casting location scenery story direction everyone's really suited the part they played and you could just imagine being there robert <UNK> is an amazing actor and now the same being director <UNK> father came from the same scottish island as myself so i loved the fact there was a real connection with this film the witty remarks throughout the film were great it was just brilliant so much that i bought the film as soon as it was released for <UNK> and would recommend it to everyone to watch and the fly fishing was amazing really cried at the end it was so sad and you know what they say if you cry at a film it must have been good and this definitely was also <UNK> to the two little boy's that played the <UNK> of norman and paul they were just brilliant children are often left out of the <UNK> list i think because the stars that play them all grown up are such a big profile for the whole film but these children are amazing and should be praised for what they have done don't you think the whole story was so lovely because it was true and was someone's life after all that was shared with us all\""
   ]
  },
  {
   "cell_type": "code",
   "execution_count": 22,
   "id": "a658bb9c-b156-450e-9d1c-49d75a31f7f7",
   "metadata": {},
   "outputs": [
    {
     "data": {
      "text/plain": [
       "\"<START> this film was just brilliant casting location scenery story direction everyone's really suited the part they played and you could just imagine being there robert <UNK> is an amazing actor and now the same being director <UNK> father came from the same scottish island as myself so i loved the fact there was a real connection with this film the witty remarks throughout the film were great it was just brilliant so much that i bought the film as soon as it was released for <UNK> and would recommend it to everyone to watch and the fly fishing was amazing really cried at the end it was so sad and you know what they say if you cry at a film it must have been good and this definitely was also <UNK> to the two little boy's that played the <UNK> of norman and paul they were just brilliant children are often left out of the <UNK> list i think because the stars that play them all grown up are such a big profile for the whole film but these children are amazing and should be praised for what they have done don't you think the whole story was so lovely because it was true and was someone's life after all that was shared with us all\""
      ]
     },
     "execution_count": 22,
     "metadata": {},
     "output_type": "execute_result"
    }
   ],
   "source": [
    "sampleSentence2"
   ]
  },
  {
   "cell_type": "code",
   "execution_count": 20,
   "id": "1d149513-c315-4b28-8eb6-50d62f310f6c",
   "metadata": {},
   "outputs": [],
   "source": [
    "doc2 = nlp(sampleSentence2)"
   ]
  },
  {
   "cell_type": "code",
   "execution_count": 21,
   "id": "b8972814-646b-4ff5-8976-c7de2491359e",
   "metadata": {},
   "outputs": [
    {
     "name": "stdout",
     "output_type": "stream",
     "text": [
      "('<', 2, 'punct')\n",
      "('START', 10, 'reparandum')\n",
      "('>', 2, 'punct')\n",
      "('this', 5, 'det')\n",
      "('film', 10, 'nsubj')\n",
      "('was', 10, 'cop')\n",
      "('just', 10, 'advmod')\n",
      "('brilliant', 10, 'amod')\n",
      "('casting', 10, 'compound')\n",
      "('location', 0, 'root')\n",
      "('scenery', 13, 'compound')\n",
      "('story', 13, 'compound')\n",
      "('direction', 10, 'conj')\n",
      "('everyone', 17, 'nsubj')\n",
      "(\"'s\", 17, 'aux')\n",
      "('really', 17, 'advmod')\n",
      "('suited', 13, 'parataxis')\n",
      "('the', 19, 'det')\n",
      "('part', 17, 'obj')\n",
      "('they', 21, 'nsubj')\n",
      "('played', 19, 'acl:relcl')\n",
      "('and', 26, 'cc')\n",
      "('you', 26, 'nsubj')\n",
      "('could', 26, 'aux')\n",
      "('just', 26, 'advmod')\n",
      "('imagine', 17, 'conj')\n",
      "('being', 28, 'cop')\n",
      "('there', 26, 'advmod')\n",
      "('robert', 26, 'obj')\n",
      "('<', 31, 'punct')\n",
      "('UNK', 36, 'nsubj')\n",
      "('>', 31, 'punct')\n",
      "('is', 36, 'cop')\n",
      "('an', 36, 'det')\n",
      "('amazing', 36, 'amod')\n",
      "('actor', 2, 'conj')\n",
      "('and', 47, 'cc')\n",
      "('now', 40, 'advmod')\n",
      "('the', 40, 'det')\n",
      "('same', 36, 'conj')\n",
      "('being', 42, 'cop')\n",
      "('director', 47, 'advcl')\n",
      "('<', 44, 'punct')\n",
      "('UNK', 42, 'appos')\n",
      "('>', 44, 'punct')\n",
      "('father', 47, 'nsubj')\n",
      "('came', 36, 'conj')\n",
      "('from', 52, 'case')\n",
      "('the', 52, 'det')\n",
      "('same', 52, 'amod')\n",
      "('scottish', 52, 'amod')\n",
      "('island', 47, 'obl')\n",
      "('as', 54, 'case')\n",
      "('myself', 47, 'obl')\n",
      "('so', 57, 'advmod')\n",
      "('i', 57, 'nsubj')\n",
      "('loved', 47, 'parataxis')\n",
      "('the', 59, 'det')\n",
      "('fact', 57, 'obj')\n",
      "('there', 61, 'expl')\n",
      "('was', 59, 'acl:relcl')\n",
      "('a', 64, 'det')\n",
      "('real', 64, 'amod')\n",
      "('connection', 61, 'nsubj')\n",
      "('with', 67, 'case')\n",
      "('this', 67, 'det')\n",
      "('film', 64, 'nmod')\n",
      "('the', 70, 'det')\n",
      "('witty', 70, 'amod')\n",
      "('remarks', 75, 'nsubj')\n",
      "('throughout', 73, 'case')\n",
      "('the', 73, 'det')\n",
      "('film', 70, 'nmod')\n",
      "('were', 75, 'cop')\n",
      "('great', 61, 'parataxis')\n",
      "('it', 79, 'nsubj')\n",
      "('was', 79, 'cop')\n",
      "('just', 79, 'advmod')\n",
      "('brilliant', 75, 'parataxis')\n",
      "('so', 81, 'advmod')\n",
      "('much', 79, 'advmod')\n",
      "('that', 84, 'mark')\n",
      "('i', 84, 'nsubj')\n",
      "('bought', 81, 'advcl')\n",
      "('the', 86, 'det')\n",
      "('film', 84, 'obj')\n",
      "('as', 88, 'advmod')\n",
      "('soon', 84, 'advmod')\n",
      "('as', 92, 'mark')\n",
      "('it', 92, 'nsubj:pass')\n",
      "('was', 92, 'aux:pass')\n",
      "('released', 88, 'advcl')\n",
      "('for', 95, 'case')\n",
      "('<', 95, 'punct')\n",
      "('UNK', 92, 'obl')\n",
      "('>', 95, 'punct')\n",
      "('and', 99, 'cc')\n",
      "('would', 99, 'aux')\n",
      "('recommend', 84, 'conj')\n",
      "('it', 99, 'obj')\n",
      "('to', 102, 'case')\n",
      "('everyone', 99, 'obl')\n",
      "('to', 104, 'mark')\n",
      "('watch', 99, 'advcl')\n",
      "('and', 112, 'cc')\n",
      "('the', 108, 'det')\n",
      "('fly', 108, 'compound')\n",
      "('fishing', 110, 'nsubj')\n",
      "('was', 110, 'cop')\n",
      "('amazing', 112, 'conj')\n",
      "('really', 112, 'advmod')\n",
      "('cried', 10, 'conj')\n",
      "('at', 115, 'case')\n",
      "('the', 115, 'det')\n",
      "('end', 112, 'obl')\n",
      "('it', 119, 'nsubj')\n",
      "('was', 119, 'cop')\n",
      "('so', 119, 'advmod')\n",
      "('sad', 112, 'parataxis')\n",
      "('and', 122, 'cc')\n",
      "('you', 122, 'nsubj')\n",
      "('know', 119, 'conj')\n",
      "('what', 125, 'obj')\n",
      "('they', 125, 'nsubj')\n",
      "('say', 122, 'ccomp')\n",
      "('if', 128, 'mark')\n",
      "('you', 128, 'nsubj')\n",
      "('cry', 125, 'advcl')\n",
      "('at', 131, 'case')\n",
      "('a', 131, 'det')\n",
      "('film', 128, 'obl')\n",
      "('it', 136, 'nsubj')\n",
      "('must', 136, 'aux')\n",
      "('have', 136, 'aux')\n",
      "('been', 136, 'cop')\n",
      "('good', 123, 'acl:relcl')\n",
      "('and', 143, 'cc')\n",
      "('this', 143, 'nsubj')\n",
      "('definitely', 143, 'advmod')\n",
      "('was', 143, 'cop')\n",
      "('also', 143, 'advmod')\n",
      "('<', 143, 'punct')\n",
      "('UNK', 136, 'conj')\n",
      "('>', 143, 'punct')\n",
      "('to', 149, 'case')\n",
      "('the', 149, 'det')\n",
      "('two', 149, 'nummod')\n",
      "('little', 149, 'amod')\n",
      "(\"boy's\", 143, 'nmod')\n",
      "('that', 151, 'nsubj')\n",
      "('played', 149, 'acl:relcl')\n",
      "('the', 154, 'det')\n",
      "('<', 154, 'punct')\n",
      "('UNK', 151, 'obj')\n",
      "('>', 154, 'punct')\n",
      "('of', 157, 'case')\n",
      "('norman', 154, 'nmod')\n",
      "('and', 159, 'cc')\n",
      "('paul', 157, 'conj')\n",
      "('they', 167, 'nsubj:pass')\n",
      "('were', 167, 'aux:pass')\n",
      "('just', 164, 'advmod')\n",
      "('brilliant', 164, 'amod')\n",
      "('children', 167, 'nsubj:pass')\n",
      "('are', 167, 'aux:pass')\n",
      "('often', 167, 'advmod')\n",
      "('left', 151, 'conj')\n",
      "('out', 174, 'case')\n",
      "('of', 174, 'case')\n",
      "('the', 174, 'det')\n",
      "('<', 172, 'punct')\n",
      "('UNK', 174, 'compound')\n",
      "('>', 172, 'punct')\n",
      "('list', 167, 'obl')\n",
      "('i', 176, 'nsubj')\n",
      "('think', 167, 'parataxis')\n",
      "('because', 190, 'mark')\n",
      "('the', 179, 'det')\n",
      "('stars', 190, 'nsubj')\n",
      "('that', 181, 'nsubj')\n",
      "('play', 179, 'acl:relcl')\n",
      "('them', 181, 'obj')\n",
      "('all', 184, 'advmod')\n",
      "('grown', 181, 'xcomp')\n",
      "('up', 181, 'compound:prt')\n",
      "('are', 190, 'cop')\n",
      "('such', 190, 'det:predet')\n",
      "('a', 190, 'det')\n",
      "('big', 190, 'amod')\n",
      "('profile', 176, 'ccomp')\n",
      "('for', 194, 'case')\n",
      "('the', 194, 'det')\n",
      "('whole', 194, 'amod')\n",
      "('film', 190, 'nmod')\n",
      "('but', 199, 'cc')\n",
      "('these', 197, 'det')\n",
      "('children', 199, 'nsubj')\n",
      "('are', 199, 'cop')\n",
      "('amazing', 190, 'conj')\n",
      "('and', 203, 'cc')\n",
      "('should', 203, 'aux')\n",
      "('be', 203, 'aux:pass')\n",
      "('praised', 199, 'conj')\n",
      "('for', 205, 'case')\n",
      "('what', 203, 'obl')\n",
      "('they', 208, 'nsubj')\n",
      "('have', 208, 'aux')\n",
      "('done', 205, 'acl:relcl')\n",
      "('do', 212, 'aux')\n",
      "(\"n't\", 212, 'advmod')\n",
      "('you', 212, 'nsubj')\n",
      "('think', 203, 'parataxis')\n",
      "('the', 215, 'det')\n",
      "('whole', 215, 'amod')\n",
      "('story', 218, 'nsubj')\n",
      "('was', 218, 'cop')\n",
      "('so', 218, 'advmod')\n",
      "('lovely', 212, 'ccomp')\n",
      "('because', 222, 'mark')\n",
      "('it', 222, 'nsubj')\n",
      "('was', 222, 'cop')\n",
      "('true', 218, 'advcl')\n",
      "('and', 224, 'cc')\n",
      "('was', 222, 'conj')\n",
      "('someone', 227, 'nmod:poss')\n",
      "(\"'s\", 225, 'case')\n",
      "('life', 224, 'nsubj')\n",
      "('after', 229, 'case')\n",
      "('all', 227, 'nmod')\n",
      "('that', 232, 'nsubj:pass')\n",
      "('was', 232, 'aux:pass')\n",
      "('shared', 229, 'acl:relcl')\n",
      "('with', 234, 'case')\n",
      "('us', 232, 'obl')\n",
      "('all', 234, 'det')\n"
     ]
    }
   ],
   "source": [
    "doc2.sentences[0].print_dependencies()"
   ]
  },
  {
   "cell_type": "code",
   "execution_count": null,
   "id": "b003994d-cde0-46ef-b6df-832032462cc5",
   "metadata": {},
   "outputs": [],
   "source": []
  }
 ],
 "metadata": {
  "kernelspec": {
   "display_name": "Python 3 (ipykernel)",
   "language": "python",
   "name": "python3"
  },
  "language_info": {
   "codemirror_mode": {
    "name": "ipython",
    "version": 3
   },
   "file_extension": ".py",
   "mimetype": "text/x-python",
   "name": "python",
   "nbconvert_exporter": "python",
   "pygments_lexer": "ipython3",
   "version": "3.9.7"
  }
 },
 "nbformat": 4,
 "nbformat_minor": 5
}
