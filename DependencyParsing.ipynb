{
 "cells": [
  {
   "cell_type": "markdown",
   "id": "819de6ca-d430-4f8e-b0a6-ef9a9d863da0",
   "metadata": {},
   "source": [
    "# Summary"
   ]
  },
  {
   "cell_type": "markdown",
   "id": "474b24a0-52fb-400b-9c55-759400a6740e",
   "metadata": {},
   "source": [
    "## Task"
   ]
  },
  {
   "cell_type": "markdown",
   "id": "ab547d55-0695-40f4-ad7c-4c405d68a2fb",
   "metadata": {},
   "source": [
    "To explore dependency parsing for sentences so that word level graphs can be constructed for the problem of classification"
   ]
  },
  {
   "cell_type": "markdown",
   "id": "25e65a81-4093-4e69-8b9f-e0ed0dbc56e6",
   "metadata": {},
   "source": [
    "1. Explore how dependency parsing works\n",
    "2. Tokenize sentences and give them to the dependency parser\n",
    "3. Obtain the relationships and check them\n",
    "4. Convert the dependency graphs from the parser into the graphs that can be used for GCN\n",
    "5. Explore GCN and try to build graphs from the parsed dependency graphs\n",
    "6. Perform graph level classification\n",
    "7. Check performance\n",
    "8. Refine the various layers and hyperparameters in the process\n",
    "9. Check final performance\n",
    "10. Do interpreation manually on some selected examples\n",
    "11. Implement edge masking to get the minimum subgraph\n",
    "12. Performe automatic interpretation of the graphs to determine the most important terms/relationships for each sentence"
   ]
  },
  {
   "cell_type": "markdown",
   "id": "7992a7d6-b508-46b6-90e8-6c6706745cb3",
   "metadata": {},
   "source": [
    "## Method"
   ]
  },
  {
   "cell_type": "markdown",
   "id": "68db8681-dabf-4d46-9a9e-f7bfc39beec4",
   "metadata": {},
   "source": [
    "* For dependency parsing, we will try to use the tools from the stanford nlp group.\n",
    "* The *[CoreNLP](https://github.com/stanfordnlp/CoreNLP)* library is important as it contains many of the tools needed to performe dependency parsing\n",
    "* The *[stanza](https://github.com/stanfordnlp/stanza)* library offers a wrapped version of CoreNLP that works directly with Python\n",
    "* Visualization of the graphs can be done using *[networkx](https://github.com/networkx/networkx)*\n",
    "* For GCN and word-level graphs we will primarily look at the ideas in this *[tutorial](https://uvadlc-notebooks.readthedocs.io/en/latest/tutorial_notebooks/tutorial7/GNN_overview.html)*\n",
    "* We will try to use the *[spektral](https://github.com/danielegrattarola/spektral/)* library to implement the graphs convolution and attention \n",
    "* *[Link](https://universaldependencies.org/u/dep/)* to explaination of dependency relations."
   ]
  },
  {
   "cell_type": "markdown",
   "id": "6d7dca2a-d5ee-4d5a-a8bc-0a08312f5d66",
   "metadata": {},
   "source": [
    "## Dataset"
   ]
  },
  {
   "cell_type": "markdown",
   "id": "d2bc056b-4209-4386-83f3-341763d644c6",
   "metadata": {},
   "source": [
    "The dataset is still IMDB review but we may expand later on"
   ]
  },
  {
   "cell_type": "markdown",
   "id": "26ed5318-0c20-4844-abc3-0557fdd87e50",
   "metadata": {},
   "source": [
    "## Results"
   ]
  },
  {
   "cell_type": "markdown",
   "id": "8dc0b039-0e9a-49ba-9ae2-0cb73f941207",
   "metadata": {},
   "source": [
    "Fill in later"
   ]
  },
  {
   "cell_type": "markdown",
   "id": "5b995cc3-558e-442b-b019-c7118b9f68c6",
   "metadata": {},
   "source": [
    "## Conclusion"
   ]
  },
  {
   "cell_type": "markdown",
   "id": "a1be4892-b7c4-4e33-8bc5-87016be64a8a",
   "metadata": {},
   "source": [
    "Fill in at the end"
   ]
  },
  {
   "cell_type": "markdown",
   "id": "614bc035-6d55-4c30-8e08-b74200f23079",
   "metadata": {},
   "source": [
    "# Code"
   ]
  },
  {
   "cell_type": "markdown",
   "id": "a181f48c-7f2e-4f99-b114-9b2e558305ba",
   "metadata": {},
   "source": [
    "## Basic Imports"
   ]
  },
  {
   "cell_type": "code",
   "execution_count": 30,
   "id": "b3b809df-9776-4c7b-a943-f1d8922bee6e",
   "metadata": {},
   "outputs": [],
   "source": [
    "import numpy as np\n",
    "import pandas as pd\n",
    "import matplotlib.pyplot as plt"
   ]
  },
  {
   "cell_type": "code",
   "execution_count": 31,
   "id": "11f4a952-8c39-4d69-ad06-c4f7b2f56b35",
   "metadata": {},
   "outputs": [],
   "source": [
    "import stanza"
   ]
  },
  {
   "cell_type": "code",
   "execution_count": 32,
   "id": "688b27dd-aeae-4f44-bd8b-b398d40cb3da",
   "metadata": {},
   "outputs": [
    {
     "data": {
      "application/vnd.jupyter.widget-view+json": {
       "model_id": "21379b03e0214d2da6be193dcfd36c92",
       "version_major": 2,
       "version_minor": 0
      },
      "text/plain": [
       "Downloading https://raw.githubusercontent.com/stanfordnlp/stanza-resources/main/resources_1.4.0.json:   0%|   …"
      ]
     },
     "metadata": {},
     "output_type": "display_data"
    },
    {
     "name": "stderr",
     "output_type": "stream",
     "text": [
      "INFO:stanza:Downloading default packages for language: en (English)...\n",
      "INFO:stanza:File exists: /Users/zeyuyang/stanza_resources/en/default.zip\n",
      "INFO:stanza:Finished downloading models and saved to /Users/zeyuyang/stanza_resources.\n"
     ]
    }
   ],
   "source": [
    "stanza.download('en')"
   ]
  },
  {
   "cell_type": "code",
   "execution_count": 33,
   "id": "14d46c2e-722e-4e93-8f02-929d11abb4d9",
   "metadata": {},
   "outputs": [],
   "source": [
    "import networkx as nx\n",
    "import spacy"
   ]
  },
  {
   "cell_type": "markdown",
   "id": "786f9cc0-2104-41d0-9876-c09c88005ef2",
   "metadata": {},
   "source": [
    "## Part 1: Dependency Parsing"
   ]
  },
  {
   "cell_type": "markdown",
   "id": "7d80a40e-095a-4f88-9137-3991019fd7d7",
   "metadata": {},
   "source": [
    "### Testing Stanza"
   ]
  },
  {
   "cell_type": "code",
   "execution_count": 157,
   "id": "25783253-4991-4f64-ad3c-cfe053630f83",
   "metadata": {},
   "outputs": [],
   "source": [
    "sampleSentence = \"There is nothing wrong with Apple's new M1 Max Chip, everything works so well!\""
   ]
  },
  {
   "cell_type": "code",
   "execution_count": 158,
   "id": "a07d5f57-2fdb-4327-b51f-4097372f6485",
   "metadata": {},
   "outputs": [
    {
     "data": {
      "text/plain": [
       "\"There is nothing wrong with Apple's new M1 Max Chip, everything works so well!\""
      ]
     },
     "execution_count": 158,
     "metadata": {},
     "output_type": "execute_result"
    }
   ],
   "source": [
    "sampleSentence"
   ]
  },
  {
   "cell_type": "code",
   "execution_count": 155,
   "id": "7838ce42-7b58-45ec-aa1a-74f63b6f9c9d",
   "metadata": {},
   "outputs": [
    {
     "data": {
      "application/vnd.jupyter.widget-view+json": {
       "model_id": "cc260a7993ef48e597f5aa5439d4264f",
       "version_major": 2,
       "version_minor": 0
      },
      "text/plain": [
       "Downloading https://raw.githubusercontent.com/stanfordnlp/stanza-resources/main/resources_1.4.0.json:   0%|   …"
      ]
     },
     "metadata": {},
     "output_type": "display_data"
    },
    {
     "name": "stderr",
     "output_type": "stream",
     "text": [
      "WARNING:stanza:Can not find mwt: default from official model list. Ignoring it.\n",
      "INFO:stanza:Loading these models for language: en (English):\n",
      "========================\n",
      "| Processor | Package  |\n",
      "------------------------\n",
      "| tokenize  | combined |\n",
      "| pos       | combined |\n",
      "| lemma     | combined |\n",
      "| depparse  | combined |\n",
      "========================\n",
      "\n",
      "INFO:stanza:Use device: cpu\n",
      "INFO:stanza:Loading: tokenize\n",
      "INFO:stanza:Loading: pos\n",
      "INFO:stanza:Loading: lemma\n",
      "INFO:stanza:Loading: depparse\n",
      "INFO:stanza:Done loading processors!\n"
     ]
    }
   ],
   "source": [
    "nlp = stanza.Pipeline(\n",
    "    'en',\n",
    "    processors = 'tokenize,mwt,pos,lemma,depparse')"
   ]
  },
  {
   "cell_type": "code",
   "execution_count": 159,
   "id": "c761b022-43c7-44f5-8c95-89dadb82ba55",
   "metadata": {},
   "outputs": [],
   "source": [
    "doc = nlp(sampleSentence)"
   ]
  },
  {
   "cell_type": "code",
   "execution_count": 160,
   "id": "97c49cee-4b1e-4df3-b57f-658accaf4775",
   "metadata": {},
   "outputs": [
    {
     "data": {
      "text/plain": [
       "[\n",
       "  [\n",
       "    {\n",
       "      \"id\": 1,\n",
       "      \"text\": \"There\",\n",
       "      \"lemma\": \"there\",\n",
       "      \"upos\": \"PRON\",\n",
       "      \"xpos\": \"EX\",\n",
       "      \"head\": 2,\n",
       "      \"deprel\": \"expl\",\n",
       "      \"start_char\": 0,\n",
       "      \"end_char\": 5\n",
       "    },\n",
       "    {\n",
       "      \"id\": 2,\n",
       "      \"text\": \"is\",\n",
       "      \"lemma\": \"be\",\n",
       "      \"upos\": \"VERB\",\n",
       "      \"xpos\": \"VBZ\",\n",
       "      \"feats\": \"Mood=Ind|Number=Sing|Person=3|Tense=Pres|VerbForm=Fin\",\n",
       "      \"head\": 0,\n",
       "      \"deprel\": \"root\",\n",
       "      \"start_char\": 6,\n",
       "      \"end_char\": 8\n",
       "    },\n",
       "    {\n",
       "      \"id\": 3,\n",
       "      \"text\": \"nothing\",\n",
       "      \"lemma\": \"nothing\",\n",
       "      \"upos\": \"PRON\",\n",
       "      \"xpos\": \"NN\",\n",
       "      \"feats\": \"Number=Sing\",\n",
       "      \"head\": 2,\n",
       "      \"deprel\": \"nsubj\",\n",
       "      \"start_char\": 9,\n",
       "      \"end_char\": 16\n",
       "    },\n",
       "    {\n",
       "      \"id\": 4,\n",
       "      \"text\": \"wrong\",\n",
       "      \"lemma\": \"wrong\",\n",
       "      \"upos\": \"ADJ\",\n",
       "      \"xpos\": \"JJ\",\n",
       "      \"feats\": \"Degree=Pos\",\n",
       "      \"head\": 3,\n",
       "      \"deprel\": \"amod\",\n",
       "      \"start_char\": 17,\n",
       "      \"end_char\": 22\n",
       "    },\n",
       "    {\n",
       "      \"id\": 5,\n",
       "      \"text\": \"with\",\n",
       "      \"lemma\": \"with\",\n",
       "      \"upos\": \"ADP\",\n",
       "      \"xpos\": \"IN\",\n",
       "      \"head\": 10,\n",
       "      \"deprel\": \"case\",\n",
       "      \"start_char\": 23,\n",
       "      \"end_char\": 27\n",
       "    },\n",
       "    {\n",
       "      \"id\": 6,\n",
       "      \"text\": \"Apple\",\n",
       "      \"lemma\": \"Apple\",\n",
       "      \"upos\": \"PROPN\",\n",
       "      \"xpos\": \"NNP\",\n",
       "      \"feats\": \"Number=Sing\",\n",
       "      \"head\": 10,\n",
       "      \"deprel\": \"nmod:poss\",\n",
       "      \"start_char\": 28,\n",
       "      \"end_char\": 33\n",
       "    },\n",
       "    {\n",
       "      \"id\": 7,\n",
       "      \"text\": \"'s\",\n",
       "      \"lemma\": \"'s\",\n",
       "      \"upos\": \"PART\",\n",
       "      \"xpos\": \"POS\",\n",
       "      \"head\": 6,\n",
       "      \"deprel\": \"case\",\n",
       "      \"start_char\": 33,\n",
       "      \"end_char\": 35\n",
       "    },\n",
       "    {\n",
       "      \"id\": 8,\n",
       "      \"text\": \"new\",\n",
       "      \"lemma\": \"new\",\n",
       "      \"upos\": \"ADJ\",\n",
       "      \"xpos\": \"JJ\",\n",
       "      \"feats\": \"Degree=Pos\",\n",
       "      \"head\": 10,\n",
       "      \"deprel\": \"amod\",\n",
       "      \"start_char\": 36,\n",
       "      \"end_char\": 39\n",
       "    },\n",
       "    {\n",
       "      \"id\": 9,\n",
       "      \"text\": \"M1\",\n",
       "      \"lemma\": \"M1\",\n",
       "      \"upos\": \"PROPN\",\n",
       "      \"xpos\": \"NNP\",\n",
       "      \"feats\": \"Number=Sing\",\n",
       "      \"head\": 10,\n",
       "      \"deprel\": \"compound\",\n",
       "      \"start_char\": 40,\n",
       "      \"end_char\": 42\n",
       "    },\n",
       "    {\n",
       "      \"id\": 10,\n",
       "      \"text\": \"Max\",\n",
       "      \"lemma\": \"Max\",\n",
       "      \"upos\": \"PROPN\",\n",
       "      \"xpos\": \"NNP\",\n",
       "      \"feats\": \"Number=Sing\",\n",
       "      \"head\": 3,\n",
       "      \"deprel\": \"nmod\",\n",
       "      \"start_char\": 43,\n",
       "      \"end_char\": 46\n",
       "    },\n",
       "    {\n",
       "      \"id\": 11,\n",
       "      \"text\": \"Chip\",\n",
       "      \"lemma\": \"Chip\",\n",
       "      \"upos\": \"PROPN\",\n",
       "      \"xpos\": \"NNP\",\n",
       "      \"feats\": \"Number=Sing\",\n",
       "      \"head\": 10,\n",
       "      \"deprel\": \"flat\",\n",
       "      \"start_char\": 47,\n",
       "      \"end_char\": 51\n",
       "    },\n",
       "    {\n",
       "      \"id\": 12,\n",
       "      \"text\": \",\",\n",
       "      \"lemma\": \",\",\n",
       "      \"upos\": \"PUNCT\",\n",
       "      \"xpos\": \",\",\n",
       "      \"head\": 14,\n",
       "      \"deprel\": \"punct\",\n",
       "      \"start_char\": 51,\n",
       "      \"end_char\": 52\n",
       "    },\n",
       "    {\n",
       "      \"id\": 13,\n",
       "      \"text\": \"everything\",\n",
       "      \"lemma\": \"everything\",\n",
       "      \"upos\": \"PRON\",\n",
       "      \"xpos\": \"NN\",\n",
       "      \"feats\": \"Number=Sing\",\n",
       "      \"head\": 14,\n",
       "      \"deprel\": \"nsubj\",\n",
       "      \"start_char\": 53,\n",
       "      \"end_char\": 63\n",
       "    },\n",
       "    {\n",
       "      \"id\": 14,\n",
       "      \"text\": \"works\",\n",
       "      \"lemma\": \"work\",\n",
       "      \"upos\": \"VERB\",\n",
       "      \"xpos\": \"VBZ\",\n",
       "      \"feats\": \"Mood=Ind|Number=Sing|Person=3|Tense=Pres|VerbForm=Fin\",\n",
       "      \"head\": 2,\n",
       "      \"deprel\": \"parataxis\",\n",
       "      \"start_char\": 64,\n",
       "      \"end_char\": 69\n",
       "    },\n",
       "    {\n",
       "      \"id\": 15,\n",
       "      \"text\": \"so\",\n",
       "      \"lemma\": \"so\",\n",
       "      \"upos\": \"ADV\",\n",
       "      \"xpos\": \"RB\",\n",
       "      \"head\": 16,\n",
       "      \"deprel\": \"advmod\",\n",
       "      \"start_char\": 70,\n",
       "      \"end_char\": 72\n",
       "    },\n",
       "    {\n",
       "      \"id\": 16,\n",
       "      \"text\": \"well\",\n",
       "      \"lemma\": \"well\",\n",
       "      \"upos\": \"ADV\",\n",
       "      \"xpos\": \"RB\",\n",
       "      \"feats\": \"Degree=Pos\",\n",
       "      \"head\": 14,\n",
       "      \"deprel\": \"advmod\",\n",
       "      \"start_char\": 73,\n",
       "      \"end_char\": 77\n",
       "    },\n",
       "    {\n",
       "      \"id\": 17,\n",
       "      \"text\": \"!\",\n",
       "      \"lemma\": \"!\",\n",
       "      \"upos\": \"PUNCT\",\n",
       "      \"xpos\": \".\",\n",
       "      \"head\": 2,\n",
       "      \"deprel\": \"punct\",\n",
       "      \"start_char\": 77,\n",
       "      \"end_char\": 78\n",
       "    }\n",
       "  ]\n",
       "]"
      ]
     },
     "execution_count": 160,
     "metadata": {},
     "output_type": "execute_result"
    }
   ],
   "source": [
    "doc"
   ]
  },
  {
   "cell_type": "code",
   "execution_count": 161,
   "id": "e9dd77ca-7012-48c5-b671-5a2b3ca20355",
   "metadata": {},
   "outputs": [
    {
     "name": "stdout",
     "output_type": "stream",
     "text": [
      "('There', 2, 'expl')\n",
      "('is', 0, 'root')\n",
      "('nothing', 2, 'nsubj')\n",
      "('wrong', 3, 'amod')\n",
      "('with', 10, 'case')\n",
      "('Apple', 10, 'nmod:poss')\n",
      "(\"'s\", 6, 'case')\n",
      "('new', 10, 'amod')\n",
      "('M1', 10, 'compound')\n",
      "('Max', 3, 'nmod')\n",
      "('Chip', 10, 'flat')\n",
      "(',', 14, 'punct')\n",
      "('everything', 14, 'nsubj')\n",
      "('works', 2, 'parataxis')\n",
      "('so', 16, 'advmod')\n",
      "('well', 14, 'advmod')\n",
      "('!', 2, 'punct')\n"
     ]
    }
   ],
   "source": [
    "doc.sentences[0].print_dependencies()"
   ]
  },
  {
   "cell_type": "code",
   "execution_count": 235,
   "id": "3a525928-6053-4826-814e-a769de7b2c1c",
   "metadata": {},
   "outputs": [],
   "source": [
    "sent_dict = doc.sentences[0].to_dict()"
   ]
  },
  {
   "cell_type": "markdown",
   "id": "c476d310-9486-41e3-b5de-6fcc4f1131b8",
   "metadata": {},
   "source": [
    "#### tokenRelationHead"
   ]
  },
  {
   "cell_type": "code",
   "execution_count": 236,
   "id": "c70385db-277b-4ee7-9c5e-4a437fdd8405",
   "metadata": {},
   "outputs": [],
   "source": [
    "def tokenRelationHead(sent_dict):\n",
    "    \"\"\"\n",
    "    Prints the token - relation - head chart\n",
    "    Args:\n",
    "        sent_dict - (list) The dictionary from sentence.to_dict()\n",
    "    Returns:\n",
    "        \n",
    "    \"\"\"\n",
    "    \n",
    "    print (\"{:<15} | {:<10} | {:<15} \".format('Token', 'Relation', 'Head'))\n",
    "    print (\"-\" * 50)\n",
    "\n",
    "    # iterate to print the token, relation and head\n",
    "    for word in sent_dict:\n",
    "      print (\"{:<15} | {:<10} | {:<15} \".format(\n",
    "          str(word['text']),\n",
    "          str(word['deprel']),\n",
    "          str(sent_dict[word['head']-1]['text'] if word['head'] > 0 else 'ROOT')))"
   ]
  },
  {
   "cell_type": "code",
   "execution_count": 237,
   "id": "31a3dd81-3305-48a9-900a-1d1043aef524",
   "metadata": {},
   "outputs": [
    {
     "name": "stdout",
     "output_type": "stream",
     "text": [
      "Token           | Relation   | Head            \n",
      "--------------------------------------------------\n",
      "There           | expl       | is              \n",
      "is              | root       | ROOT            \n",
      "nothing         | nsubj      | is              \n",
      "wrong           | amod       | nothing         \n",
      "with            | case       | Max             \n",
      "Apple           | nmod:poss  | Max             \n",
      "'s              | case       | Apple           \n",
      "new             | amod       | Max             \n",
      "M1              | compound   | Max             \n",
      "Max             | nmod       | nothing         \n",
      "Chip            | flat       | Max             \n",
      ",               | punct      | works           \n",
      "everything      | nsubj      | works           \n",
      "works           | parataxis  | is              \n",
      "so              | advmod     | well            \n",
      "well            | advmod     | works           \n",
      "!               | punct      | is              \n"
     ]
    }
   ],
   "source": [
    "tokenRelationHead(sent_dict)"
   ]
  },
  {
   "cell_type": "markdown",
   "id": "71325246-be93-44c5-b930-77ea0fa617b6",
   "metadata": {},
   "source": [
    "#### drawDepGraph"
   ]
  },
  {
   "cell_type": "code",
   "execution_count": 268,
   "id": "c04548ff-e948-45c4-a377-7067773ee812",
   "metadata": {},
   "outputs": [],
   "source": [
    "def drawDepGraph(sent_dict, edgeList):\n",
    "    \"\"\"\n",
    "    Draws the dependency graph for a sentence. The words are nodes and the edges are th e\n",
    "    \"\"\"\n",
    "    \n",
    "    G = nx.DiGraph()\n",
    "    G.add_nodes_from(range(1, len(sent_dict) + 1))\n",
    "    nodeLabels = dict((node['id'], str(node['id']) + \" : \" + node['text']) for node in sent_dict)\n",
    "    \n",
    "    edgeLabels = []\n",
    "    for edge in edgeList:\n",
    "        G.add_edge(*edge['edgePair'])\n",
    "        edgeLabels.append((edge['edgePair'], edge['edgeLabel']))\n",
    "    \n",
    "    edgeLabels = dict(edgeLabels)\n",
    "\n",
    "    plt.figure(3,figsize=(12,12)) \n",
    "    pos = nx.spring_layout(G)\n",
    "\n",
    "    nx.draw(G, pos, with_labels=True, labels=nodeLabels, node_size=2000, node_color='#B5EAD7', font_size=10)\n",
    "    nx.draw_networkx_edge_labels(G, pos, edge_labels=edgeLabels, font_size=8)\n",
    "    plt.show()"
   ]
  },
  {
   "cell_type": "code",
   "execution_count": 269,
   "id": "accb869d-ae04-4993-8648-188c5326add7",
   "metadata": {},
   "outputs": [
    {
     "data": {
      "image/png": "[encoded data removed]",
      "text/plain": [
       "<Figure size 864x864 with 1 Axes>"
      ]
     },
     "metadata": {},
     "output_type": "display_data"
    }
   ],
   "source": [
    "sent_dict = doc.sentences[0].to_dict()\n",
    "edgeList = getEdgeDictsList(sent_dict)\n",
    "drawDepGraph(sent_dict, edgeList)"
   ]
  },
  {
   "cell_type": "code",
   "execution_count": 257,
   "id": "d4e75026-1627-43f2-b816-e7e1d31e1c81",
   "metadata": {},
   "outputs": [
    {
     "data": {
      "text/plain": [
       "[{'id': 1,\n",
       "  'text': 'There',\n",
       "  'lemma': 'there',\n",
       "  'upos': 'PRON',\n",
       "  'xpos': 'EX',\n",
       "  'head': 2,\n",
       "  'deprel': 'expl',\n",
       "  'start_char': 0,\n",
       "  'end_char': 5},\n",
       " {'id': 2,\n",
       "  'text': 'is',\n",
       "  'lemma': 'be',\n",
       "  'upos': 'VERB',\n",
       "  'xpos': 'VBZ',\n",
       "  'feats': 'Mood=Ind|Number=Sing|Person=3|Tense=Pres|VerbForm=Fin',\n",
       "  'head': 0,\n",
       "  'deprel': 'root',\n",
       "  'start_char': 6,\n",
       "  'end_char': 8},\n",
       " {'id': 3,\n",
       "  'text': 'nothing',\n",
       "  'lemma': 'nothing',\n",
       "  'upos': 'PRON',\n",
       "  'xpos': 'NN',\n",
       "  'feats': 'Number=Sing',\n",
       "  'head': 2,\n",
       "  'deprel': 'nsubj',\n",
       "  'start_char': 9,\n",
       "  'end_char': 16},\n",
       " {'id': 4,\n",
       "  'text': 'wrong',\n",
       "  'lemma': 'wrong',\n",
       "  'upos': 'ADJ',\n",
       "  'xpos': 'JJ',\n",
       "  'feats': 'Degree=Pos',\n",
       "  'head': 3,\n",
       "  'deprel': 'amod',\n",
       "  'start_char': 17,\n",
       "  'end_char': 22},\n",
       " {'id': 5,\n",
       "  'text': 'with',\n",
       "  'lemma': 'with',\n",
       "  'upos': 'ADP',\n",
       "  'xpos': 'IN',\n",
       "  'head': 10,\n",
       "  'deprel': 'case',\n",
       "  'start_char': 23,\n",
       "  'end_char': 27},\n",
       " {'id': 6,\n",
       "  'text': 'Apple',\n",
       "  'lemma': 'Apple',\n",
       "  'upos': 'PROPN',\n",
       "  'xpos': 'NNP',\n",
       "  'feats': 'Number=Sing',\n",
       "  'head': 10,\n",
       "  'deprel': 'nmod:poss',\n",
       "  'start_char': 28,\n",
       "  'end_char': 33},\n",
       " {'id': 7,\n",
       "  'text': \"'s\",\n",
       "  'lemma': \"'s\",\n",
       "  'upos': 'PART',\n",
       "  'xpos': 'POS',\n",
       "  'head': 6,\n",
       "  'deprel': 'case',\n",
       "  'start_char': 33,\n",
       "  'end_char': 35},\n",
       " {'id': 8,\n",
       "  'text': 'new',\n",
       "  'lemma': 'new',\n",
       "  'upos': 'ADJ',\n",
       "  'xpos': 'JJ',\n",
       "  'feats': 'Degree=Pos',\n",
       "  'head': 10,\n",
       "  'deprel': 'amod',\n",
       "  'start_char': 36,\n",
       "  'end_char': 39},\n",
       " {'id': 9,\n",
       "  'text': 'M1',\n",
       "  'lemma': 'M1',\n",
       "  'upos': 'PROPN',\n",
       "  'xpos': 'NNP',\n",
       "  'feats': 'Number=Sing',\n",
       "  'head': 10,\n",
       "  'deprel': 'compound',\n",
       "  'start_char': 40,\n",
       "  'end_char': 42},\n",
       " {'id': 10,\n",
       "  'text': 'Max',\n",
       "  'lemma': 'Max',\n",
       "  'upos': 'PROPN',\n",
       "  'xpos': 'NNP',\n",
       "  'feats': 'Number=Sing',\n",
       "  'head': 3,\n",
       "  'deprel': 'nmod',\n",
       "  'start_char': 43,\n",
       "  'end_char': 46},\n",
       " {'id': 11,\n",
       "  'text': 'Chip',\n",
       "  'lemma': 'Chip',\n",
       "  'upos': 'PROPN',\n",
       "  'xpos': 'NNP',\n",
       "  'feats': 'Number=Sing',\n",
       "  'head': 10,\n",
       "  'deprel': 'flat',\n",
       "  'start_char': 47,\n",
       "  'end_char': 51},\n",
       " {'id': 12,\n",
       "  'text': ',',\n",
       "  'lemma': ',',\n",
       "  'upos': 'PUNCT',\n",
       "  'xpos': ',',\n",
       "  'head': 14,\n",
       "  'deprel': 'punct',\n",
       "  'start_char': 51,\n",
       "  'end_char': 52},\n",
       " {'id': 13,\n",
       "  'text': 'everything',\n",
       "  'lemma': 'everything',\n",
       "  'upos': 'PRON',\n",
       "  'xpos': 'NN',\n",
       "  'feats': 'Number=Sing',\n",
       "  'head': 14,\n",
       "  'deprel': 'nsubj',\n",
       "  'start_char': 53,\n",
       "  'end_char': 63},\n",
       " {'id': 14,\n",
       "  'text': 'works',\n",
       "  'lemma': 'work',\n",
       "  'upos': 'VERB',\n",
       "  'xpos': 'VBZ',\n",
       "  'feats': 'Mood=Ind|Number=Sing|Person=3|Tense=Pres|VerbForm=Fin',\n",
       "  'head': 2,\n",
       "  'deprel': 'parataxis',\n",
       "  'start_char': 64,\n",
       "  'end_char': 69},\n",
       " {'id': 15,\n",
       "  'text': 'so',\n",
       "  'lemma': 'so',\n",
       "  'upos': 'ADV',\n",
       "  'xpos': 'RB',\n",
       "  'head': 16,\n",
       "  'deprel': 'advmod',\n",
       "  'start_char': 70,\n",
       "  'end_char': 72},\n",
       " {'id': 16,\n",
       "  'text': 'well',\n",
       "  'lemma': 'well',\n",
       "  'upos': 'ADV',\n",
       "  'xpos': 'RB',\n",
       "  'feats': 'Degree=Pos',\n",
       "  'head': 14,\n",
       "  'deprel': 'advmod',\n",
       "  'start_char': 73,\n",
       "  'end_char': 77},\n",
       " {'id': 17,\n",
       "  'text': '!',\n",
       "  'lemma': '!',\n",
       "  'upos': 'PUNCT',\n",
       "  'xpos': '.',\n",
       "  'head': 2,\n",
       "  'deprel': 'punct',\n",
       "  'start_char': 77,\n",
       "  'end_char': 78}]"
      ]
     },
     "execution_count": 257,
     "metadata": {},
     "output_type": "execute_result"
    }
   ],
   "source": [
    "sent_dict"
   ]
  },
  {
   "cell_type": "markdown",
   "id": "e816a8b7-f5f8-492f-926f-9247b52acfb4",
   "metadata": {},
   "source": [
    "#### getEdgeDictsList"
   ]
  },
  {
   "cell_type": "code",
   "execution_count": 232,
   "id": "a4986006-b9b6-442a-93d0-1f46874b0441",
   "metadata": {},
   "outputs": [],
   "source": [
    "def getEdgeDictsList(sent_dict):\n",
    "    \"\"\"\n",
    "    Parses all the edges in sent_dict and extracts the edges, node labels, and edge labels.\n",
    "    Args:\n",
    "        sent_dict - (list) The dictionary from sentence.to_dict()\n",
    "    Returns:\n",
    "        edgeList - (list) A list of dictionaries, the keys are \"edgePair\", \"nodeLabels\", \"edgeLabel\"\n",
    "    \"\"\"\n",
    "    edgeList = []\n",
    "    for edge in sent_dict:\n",
    "        if edge['head']:\n",
    "            edgePair = (edge['head'], edge['id'])\n",
    "            nodeLabels = (sent_dict[edge['head'] - 1]['text'], edge['text'])\n",
    "            edgeLabel = edge['deprel']\n",
    "            edgeList.append(\n",
    "                {\n",
    "                    \"edgePair\" : edgePair,\n",
    "                    \"nodeLabels\" : nodeLabels,\n",
    "                    \"edgeLabel\" : edgeLabel,\n",
    "                }\n",
    "            )\n",
    "    return edgeList"
   ]
  },
  {
   "cell_type": "code",
   "execution_count": 233,
   "id": "aaa02c4b-f3b4-46da-86cf-849900171254",
   "metadata": {},
   "outputs": [
    {
     "data": {
      "text/plain": [
       "[{'edgePair': (2, 1), 'nodeLabels': ('is', 'There'), 'edgeLabel': 'expl'},\n",
       " {'edgePair': (2, 3), 'nodeLabels': ('is', 'nothing'), 'edgeLabel': 'nsubj'},\n",
       " {'edgePair': (3, 4), 'nodeLabels': ('nothing', 'wrong'), 'edgeLabel': 'amod'},\n",
       " {'edgePair': (10, 5), 'nodeLabels': ('Max', 'with'), 'edgeLabel': 'case'},\n",
       " {'edgePair': (10, 6),\n",
       "  'nodeLabels': ('Max', 'Apple'),\n",
       "  'edgeLabel': 'nmod:poss'},\n",
       " {'edgePair': (6, 7), 'nodeLabels': ('Apple', \"'s\"), 'edgeLabel': 'case'},\n",
       " {'edgePair': (10, 8), 'nodeLabels': ('Max', 'new'), 'edgeLabel': 'amod'},\n",
       " {'edgePair': (10, 9), 'nodeLabels': ('Max', 'M1'), 'edgeLabel': 'compound'},\n",
       " {'edgePair': (3, 10), 'nodeLabels': ('nothing', 'Max'), 'edgeLabel': 'nmod'},\n",
       " {'edgePair': (10, 11), 'nodeLabels': ('Max', 'Chip'), 'edgeLabel': 'flat'},\n",
       " {'edgePair': (14, 12), 'nodeLabels': ('works', ','), 'edgeLabel': 'punct'},\n",
       " {'edgePair': (14, 13),\n",
       "  'nodeLabels': ('works', 'everything'),\n",
       "  'edgeLabel': 'nsubj'},\n",
       " {'edgePair': (2, 14),\n",
       "  'nodeLabels': ('is', 'works'),\n",
       "  'edgeLabel': 'parataxis'},\n",
       " {'edgePair': (16, 15), 'nodeLabels': ('well', 'so'), 'edgeLabel': 'advmod'},\n",
       " {'edgePair': (14, 16),\n",
       "  'nodeLabels': ('works', 'well'),\n",
       "  'edgeLabel': 'advmod'},\n",
       " {'edgePair': (2, 17), 'nodeLabels': ('is', '!'), 'edgeLabel': 'punct'}]"
      ]
     },
     "execution_count": 233,
     "metadata": {},
     "output_type": "execute_result"
    }
   ],
   "source": [
    "getEdgeDictsList(sent_dict)"
   ]
  },
  {
   "cell_type": "code",
   "execution_count": 226,
   "id": "60c4be9c-0160-4b52-a6ab-297f060515a0",
   "metadata": {},
   "outputs": [
    {
     "data": {
      "text/plain": [
       "{'id': 3,\n",
       " 'text': 'nothing',\n",
       " 'lemma': 'nothing',\n",
       " 'upos': 'PRON',\n",
       " 'xpos': 'NN',\n",
       " 'feats': 'Number=Sing',\n",
       " 'head': 2,\n",
       " 'deprel': 'nsubj',\n",
       " 'start_char': 9,\n",
       " 'end_char': 16}"
      ]
     },
     "execution_count": 226,
     "metadata": {},
     "output_type": "execute_result"
    }
   ],
   "source": [
    "sent_dict[2]"
   ]
  },
  {
   "cell_type": "markdown",
   "id": "99319cc6-0047-48ea-8634-1513bc6f79f4",
   "metadata": {},
   "source": [
    "### Testing Spacy (Ignore for Now)"
   ]
  },
  {
   "cell_type": "code",
   "execution_count": 29,
   "id": "8caf9e5c-4bf0-44d0-94be-8758d1fefbee",
   "metadata": {},
   "outputs": [
    {
     "ename": "NameError",
     "evalue": "name 'sampleSentence' is not defined",
     "output_type": "error",
     "traceback": [
      "\u001b[0;31m---------------------------------------------------------------------------\u001b[0m",
      "\u001b[0;31mNameError\u001b[0m                                 Traceback (most recent call last)",
      "\u001b[0;32m/var/folders/cy/9f5n2v596v59tmvv54kqf0jr0000gp/T/ipykernel_71520/852794796.py\u001b[0m in \u001b[0;36m<module>\u001b[0;34m\u001b[0m\n\u001b[1;32m      5\u001b[0m \u001b[0;34m\u001b[0m\u001b[0m\n\u001b[1;32m      6\u001b[0m \u001b[0;31m# Process whole documents\u001b[0m\u001b[0;34m\u001b[0m\u001b[0;34m\u001b[0m\u001b[0m\n\u001b[0;32m----> 7\u001b[0;31m \u001b[0mtext\u001b[0m \u001b[0;34m=\u001b[0m \u001b[0msampleSentence\u001b[0m\u001b[0;34m\u001b[0m\u001b[0;34m\u001b[0m\u001b[0m\n\u001b[0m\u001b[1;32m      8\u001b[0m \u001b[0mdoc\u001b[0m \u001b[0;34m=\u001b[0m \u001b[0mnlp\u001b[0m\u001b[0;34m(\u001b[0m\u001b[0mtext\u001b[0m\u001b[0;34m)\u001b[0m\u001b[0;34m\u001b[0m\u001b[0;34m\u001b[0m\u001b[0m\n\u001b[1;32m      9\u001b[0m \u001b[0;31m# Analyze syntax\u001b[0m\u001b[0;34m\u001b[0m\u001b[0;34m\u001b[0m\u001b[0m\n",
      "\u001b[0;31mNameError\u001b[0m: name 'sampleSentence' is not defined"
     ]
    }
   ],
   "source": [
    "import spacy\n",
    "\n",
    "# Load English tokenizer, tagger, parser and NER\n",
    "nlp = spacy.load(\"en_core_web_sm\")\n",
    "\n",
    "# Process whole documents\n",
    "text = sampleSentence\n",
    "doc = nlp(text)\n",
    "# Analyze syntax\n",
    "print(\"Noun phrases:\", [chunk.text for chunk in doc.noun_chunks])\n",
    "print(\"Verbs:\", [token.lemma_ for token in doc if token.pos_ == \"VERB\"])\n",
    "\n",
    "# Find named entities, phrases and concepts\n",
    "for entity in doc.ents:\n",
    "    print(entity.text, entity.label_)\n",
    "\n",
    "    "
   ]
  },
  {
   "cell_type": "code",
   "execution_count": 135,
   "id": "290e5e7e-46d8-4bc5-8d87-8e03333510f3",
   "metadata": {},
   "outputs": [
    {
     "data": {
      "text/html": [
       "<span class=\"tex2jax_ignore\"><svg xmlns=\"http://www.w3.org/2000/svg\" xmlns:xlink=\"http://www.w3.org/1999/xlink\" xml:lang=\"en\" id=\"f4b16d223c2a4fe9819df684a6691c2d-0\" class=\"displacy\" width=\"1850\" height=\"497.0\" direction=\"ltr\" style=\"max-width: none; height: 497.0px; color: #000000; background: #ffffff; font-family: Arial; direction: ltr\">\n",
       "<text class=\"displacy-token\" fill=\"currentColor\" text-anchor=\"middle\" y=\"407.0\">\n",
       "    <tspan class=\"displacy-word\" fill=\"currentColor\" x=\"50\">There</tspan>\n",
       "    <tspan class=\"displacy-tag\" dy=\"2em\" fill=\"currentColor\" x=\"50\">PRON</tspan>\n",
       "</text>\n",
       "\n",
       "<text class=\"displacy-token\" fill=\"currentColor\" text-anchor=\"middle\" y=\"407.0\">\n",
       "    <tspan class=\"displacy-word\" fill=\"currentColor\" x=\"170\">is</tspan>\n",
       "    <tspan class=\"displacy-tag\" dy=\"2em\" fill=\"currentColor\" x=\"170\">VERB</tspan>\n",
       "</text>\n",
       "\n",
       "<text class=\"displacy-token\" fill=\"currentColor\" text-anchor=\"middle\" y=\"407.0\">\n",
       "    <tspan class=\"displacy-word\" fill=\"currentColor\" x=\"290\">nothing</tspan>\n",
       "    <tspan class=\"displacy-tag\" dy=\"2em\" fill=\"currentColor\" x=\"290\">PRON</tspan>\n",
       "</text>\n",
       "\n",
       "<text class=\"displacy-token\" fill=\"currentColor\" text-anchor=\"middle\" y=\"407.0\">\n",
       "    <tspan class=\"displacy-word\" fill=\"currentColor\" x=\"410\">wrong</tspan>\n",
       "    <tspan class=\"displacy-tag\" dy=\"2em\" fill=\"currentColor\" x=\"410\">ADJ</tspan>\n",
       "</text>\n",
       "\n",
       "<text class=\"displacy-token\" fill=\"currentColor\" text-anchor=\"middle\" y=\"407.0\">\n",
       "    <tspan class=\"displacy-word\" fill=\"currentColor\" x=\"530\">with</tspan>\n",
       "    <tspan class=\"displacy-tag\" dy=\"2em\" fill=\"currentColor\" x=\"530\">ADP</tspan>\n",
       "</text>\n",
       "\n",
       "<text class=\"displacy-token\" fill=\"currentColor\" text-anchor=\"middle\" y=\"407.0\">\n",
       "    <tspan class=\"displacy-word\" fill=\"currentColor\" x=\"650\">Apple</tspan>\n",
       "    <tspan class=\"displacy-tag\" dy=\"2em\" fill=\"currentColor\" x=\"650\">PROPN</tspan>\n",
       "</text>\n",
       "\n",
       "<text class=\"displacy-token\" fill=\"currentColor\" text-anchor=\"middle\" y=\"407.0\">\n",
       "    <tspan class=\"displacy-word\" fill=\"currentColor\" x=\"770\">'s</tspan>\n",
       "    <tspan class=\"displacy-tag\" dy=\"2em\" fill=\"currentColor\" x=\"770\">PART</tspan>\n",
       "</text>\n",
       "\n",
       "<text class=\"displacy-token\" fill=\"currentColor\" text-anchor=\"middle\" y=\"407.0\">\n",
       "    <tspan class=\"displacy-word\" fill=\"currentColor\" x=\"890\">new</tspan>\n",
       "    <tspan class=\"displacy-tag\" dy=\"2em\" fill=\"currentColor\" x=\"890\">ADJ</tspan>\n",
       "</text>\n",
       "\n",
       "<text class=\"displacy-token\" fill=\"currentColor\" text-anchor=\"middle\" y=\"407.0\">\n",
       "    <tspan class=\"displacy-word\" fill=\"currentColor\" x=\"1010\">M1</tspan>\n",
       "    <tspan class=\"displacy-tag\" dy=\"2em\" fill=\"currentColor\" x=\"1010\">PROPN</tspan>\n",
       "</text>\n",
       "\n",
       "<text class=\"displacy-token\" fill=\"currentColor\" text-anchor=\"middle\" y=\"407.0\">\n",
       "    <tspan class=\"displacy-word\" fill=\"currentColor\" x=\"1130\">Max</tspan>\n",
       "    <tspan class=\"displacy-tag\" dy=\"2em\" fill=\"currentColor\" x=\"1130\">PROPN</tspan>\n",
       "</text>\n",
       "\n",
       "<text class=\"displacy-token\" fill=\"currentColor\" text-anchor=\"middle\" y=\"407.0\">\n",
       "    <tspan class=\"displacy-word\" fill=\"currentColor\" x=\"1250\">Chip,</tspan>\n",
       "    <tspan class=\"displacy-tag\" dy=\"2em\" fill=\"currentColor\" x=\"1250\">PROPN</tspan>\n",
       "</text>\n",
       "\n",
       "<text class=\"displacy-token\" fill=\"currentColor\" text-anchor=\"middle\" y=\"407.0\">\n",
       "    <tspan class=\"displacy-word\" fill=\"currentColor\" x=\"1370\">everything</tspan>\n",
       "    <tspan class=\"displacy-tag\" dy=\"2em\" fill=\"currentColor\" x=\"1370\">PRON</tspan>\n",
       "</text>\n",
       "\n",
       "<text class=\"displacy-token\" fill=\"currentColor\" text-anchor=\"middle\" y=\"407.0\">\n",
       "    <tspan class=\"displacy-word\" fill=\"currentColor\" x=\"1490\">works</tspan>\n",
       "    <tspan class=\"displacy-tag\" dy=\"2em\" fill=\"currentColor\" x=\"1490\">VERB</tspan>\n",
       "</text>\n",
       "\n",
       "<text class=\"displacy-token\" fill=\"currentColor\" text-anchor=\"middle\" y=\"407.0\">\n",
       "    <tspan class=\"displacy-word\" fill=\"currentColor\" x=\"1610\">so</tspan>\n",
       "    <tspan class=\"displacy-tag\" dy=\"2em\" fill=\"currentColor\" x=\"1610\">ADV</tspan>\n",
       "</text>\n",
       "\n",
       "<text class=\"displacy-token\" fill=\"currentColor\" text-anchor=\"middle\" y=\"407.0\">\n",
       "    <tspan class=\"displacy-word\" fill=\"currentColor\" x=\"1730\">well!</tspan>\n",
       "    <tspan class=\"displacy-tag\" dy=\"2em\" fill=\"currentColor\" x=\"1730\">ADV</tspan>\n",
       "</text>\n",
       "\n",
       "<g class=\"displacy-arrow\">\n",
       "    <path class=\"displacy-arc\" id=\"arrow-f4b16d223c2a4fe9819df684a6691c2d-0-0\" stroke-width=\"2px\" d=\"M70,362.0 C70,302.0 145.0,302.0 145.0,362.0\" fill=\"none\" stroke=\"currentColor\"/>\n",
       "    <text dy=\"1.25em\" style=\"font-size: 0.8em; letter-spacing: 1px\">\n",
       "        <textPath xlink:href=\"#arrow-f4b16d223c2a4fe9819df684a6691c2d-0-0\" class=\"displacy-label\" startOffset=\"50%\" side=\"left\" fill=\"currentColor\" text-anchor=\"middle\">expl</textPath>\n",
       "    </text>\n",
       "    <path class=\"displacy-arrowhead\" d=\"M70,364.0 L62,352.0 78,352.0\" fill=\"currentColor\"/>\n",
       "</g>\n",
       "\n",
       "<g class=\"displacy-arrow\">\n",
       "    <path class=\"displacy-arc\" id=\"arrow-f4b16d223c2a4fe9819df684a6691c2d-0-1\" stroke-width=\"2px\" d=\"M190,362.0 C190,2.0 1490.0,2.0 1490.0,362.0\" fill=\"none\" stroke=\"currentColor\"/>\n",
       "    <text dy=\"1.25em\" style=\"font-size: 0.8em; letter-spacing: 1px\">\n",
       "        <textPath xlink:href=\"#arrow-f4b16d223c2a4fe9819df684a6691c2d-0-1\" class=\"displacy-label\" startOffset=\"50%\" side=\"left\" fill=\"currentColor\" text-anchor=\"middle\">ccomp</textPath>\n",
       "    </text>\n",
       "    <path class=\"displacy-arrowhead\" d=\"M190,364.0 L182,352.0 198,352.0\" fill=\"currentColor\"/>\n",
       "</g>\n",
       "\n",
       "<g class=\"displacy-arrow\">\n",
       "    <path class=\"displacy-arc\" id=\"arrow-f4b16d223c2a4fe9819df684a6691c2d-0-2\" stroke-width=\"2px\" d=\"M190,362.0 C190,302.0 265.0,302.0 265.0,362.0\" fill=\"none\" stroke=\"currentColor\"/>\n",
       "    <text dy=\"1.25em\" style=\"font-size: 0.8em; letter-spacing: 1px\">\n",
       "        <textPath xlink:href=\"#arrow-f4b16d223c2a4fe9819df684a6691c2d-0-2\" class=\"displacy-label\" startOffset=\"50%\" side=\"left\" fill=\"currentColor\" text-anchor=\"middle\">attr</textPath>\n",
       "    </text>\n",
       "    <path class=\"displacy-arrowhead\" d=\"M265.0,364.0 L273.0,352.0 257.0,352.0\" fill=\"currentColor\"/>\n",
       "</g>\n",
       "\n",
       "<g class=\"displacy-arrow\">\n",
       "    <path class=\"displacy-arc\" id=\"arrow-f4b16d223c2a4fe9819df684a6691c2d-0-3\" stroke-width=\"2px\" d=\"M310,362.0 C310,302.0 385.0,302.0 385.0,362.0\" fill=\"none\" stroke=\"currentColor\"/>\n",
       "    <text dy=\"1.25em\" style=\"font-size: 0.8em; letter-spacing: 1px\">\n",
       "        <textPath xlink:href=\"#arrow-f4b16d223c2a4fe9819df684a6691c2d-0-3\" class=\"displacy-label\" startOffset=\"50%\" side=\"left\" fill=\"currentColor\" text-anchor=\"middle\">amod</textPath>\n",
       "    </text>\n",
       "    <path class=\"displacy-arrowhead\" d=\"M385.0,364.0 L393.0,352.0 377.0,352.0\" fill=\"currentColor\"/>\n",
       "</g>\n",
       "\n",
       "<g class=\"displacy-arrow\">\n",
       "    <path class=\"displacy-arc\" id=\"arrow-f4b16d223c2a4fe9819df684a6691c2d-0-4\" stroke-width=\"2px\" d=\"M310,362.0 C310,242.0 510.0,242.0 510.0,362.0\" fill=\"none\" stroke=\"currentColor\"/>\n",
       "    <text dy=\"1.25em\" style=\"font-size: 0.8em; letter-spacing: 1px\">\n",
       "        <textPath xlink:href=\"#arrow-f4b16d223c2a4fe9819df684a6691c2d-0-4\" class=\"displacy-label\" startOffset=\"50%\" side=\"left\" fill=\"currentColor\" text-anchor=\"middle\">prep</textPath>\n",
       "    </text>\n",
       "    <path class=\"displacy-arrowhead\" d=\"M510.0,364.0 L518.0,352.0 502.0,352.0\" fill=\"currentColor\"/>\n",
       "</g>\n",
       "\n",
       "<g class=\"displacy-arrow\">\n",
       "    <path class=\"displacy-arc\" id=\"arrow-f4b16d223c2a4fe9819df684a6691c2d-0-5\" stroke-width=\"2px\" d=\"M670,362.0 C670,122.0 1240.0,122.0 1240.0,362.0\" fill=\"none\" stroke=\"currentColor\"/>\n",
       "    <text dy=\"1.25em\" style=\"font-size: 0.8em; letter-spacing: 1px\">\n",
       "        <textPath xlink:href=\"#arrow-f4b16d223c2a4fe9819df684a6691c2d-0-5\" class=\"displacy-label\" startOffset=\"50%\" side=\"left\" fill=\"currentColor\" text-anchor=\"middle\">poss</textPath>\n",
       "    </text>\n",
       "    <path class=\"displacy-arrowhead\" d=\"M670,364.0 L662,352.0 678,352.0\" fill=\"currentColor\"/>\n",
       "</g>\n",
       "\n",
       "<g class=\"displacy-arrow\">\n",
       "    <path class=\"displacy-arc\" id=\"arrow-f4b16d223c2a4fe9819df684a6691c2d-0-6\" stroke-width=\"2px\" d=\"M670,362.0 C670,302.0 745.0,302.0 745.0,362.0\" fill=\"none\" stroke=\"currentColor\"/>\n",
       "    <text dy=\"1.25em\" style=\"font-size: 0.8em; letter-spacing: 1px\">\n",
       "        <textPath xlink:href=\"#arrow-f4b16d223c2a4fe9819df684a6691c2d-0-6\" class=\"displacy-label\" startOffset=\"50%\" side=\"left\" fill=\"currentColor\" text-anchor=\"middle\">case</textPath>\n",
       "    </text>\n",
       "    <path class=\"displacy-arrowhead\" d=\"M745.0,364.0 L753.0,352.0 737.0,352.0\" fill=\"currentColor\"/>\n",
       "</g>\n",
       "\n",
       "<g class=\"displacy-arrow\">\n",
       "    <path class=\"displacy-arc\" id=\"arrow-f4b16d223c2a4fe9819df684a6691c2d-0-7\" stroke-width=\"2px\" d=\"M910,362.0 C910,182.0 1235.0,182.0 1235.0,362.0\" fill=\"none\" stroke=\"currentColor\"/>\n",
       "    <text dy=\"1.25em\" style=\"font-size: 0.8em; letter-spacing: 1px\">\n",
       "        <textPath xlink:href=\"#arrow-f4b16d223c2a4fe9819df684a6691c2d-0-7\" class=\"displacy-label\" startOffset=\"50%\" side=\"left\" fill=\"currentColor\" text-anchor=\"middle\">amod</textPath>\n",
       "    </text>\n",
       "    <path class=\"displacy-arrowhead\" d=\"M910,364.0 L902,352.0 918,352.0\" fill=\"currentColor\"/>\n",
       "</g>\n",
       "\n",
       "<g class=\"displacy-arrow\">\n",
       "    <path class=\"displacy-arc\" id=\"arrow-f4b16d223c2a4fe9819df684a6691c2d-0-8\" stroke-width=\"2px\" d=\"M1030,362.0 C1030,242.0 1230.0,242.0 1230.0,362.0\" fill=\"none\" stroke=\"currentColor\"/>\n",
       "    <text dy=\"1.25em\" style=\"font-size: 0.8em; letter-spacing: 1px\">\n",
       "        <textPath xlink:href=\"#arrow-f4b16d223c2a4fe9819df684a6691c2d-0-8\" class=\"displacy-label\" startOffset=\"50%\" side=\"left\" fill=\"currentColor\" text-anchor=\"middle\">compound</textPath>\n",
       "    </text>\n",
       "    <path class=\"displacy-arrowhead\" d=\"M1030,364.0 L1022,352.0 1038,352.0\" fill=\"currentColor\"/>\n",
       "</g>\n",
       "\n",
       "<g class=\"displacy-arrow\">\n",
       "    <path class=\"displacy-arc\" id=\"arrow-f4b16d223c2a4fe9819df684a6691c2d-0-9\" stroke-width=\"2px\" d=\"M1150,362.0 C1150,302.0 1225.0,302.0 1225.0,362.0\" fill=\"none\" stroke=\"currentColor\"/>\n",
       "    <text dy=\"1.25em\" style=\"font-size: 0.8em; letter-spacing: 1px\">\n",
       "        <textPath xlink:href=\"#arrow-f4b16d223c2a4fe9819df684a6691c2d-0-9\" class=\"displacy-label\" startOffset=\"50%\" side=\"left\" fill=\"currentColor\" text-anchor=\"middle\">compound</textPath>\n",
       "    </text>\n",
       "    <path class=\"displacy-arrowhead\" d=\"M1150,364.0 L1142,352.0 1158,352.0\" fill=\"currentColor\"/>\n",
       "</g>\n",
       "\n",
       "<g class=\"displacy-arrow\">\n",
       "    <path class=\"displacy-arc\" id=\"arrow-f4b16d223c2a4fe9819df684a6691c2d-0-10\" stroke-width=\"2px\" d=\"M550,362.0 C550,62.0 1245.0,62.0 1245.0,362.0\" fill=\"none\" stroke=\"currentColor\"/>\n",
       "    <text dy=\"1.25em\" style=\"font-size: 0.8em; letter-spacing: 1px\">\n",
       "        <textPath xlink:href=\"#arrow-f4b16d223c2a4fe9819df684a6691c2d-0-10\" class=\"displacy-label\" startOffset=\"50%\" side=\"left\" fill=\"currentColor\" text-anchor=\"middle\">pobj</textPath>\n",
       "    </text>\n",
       "    <path class=\"displacy-arrowhead\" d=\"M1245.0,364.0 L1253.0,352.0 1237.0,352.0\" fill=\"currentColor\"/>\n",
       "</g>\n",
       "\n",
       "<g class=\"displacy-arrow\">\n",
       "    <path class=\"displacy-arc\" id=\"arrow-f4b16d223c2a4fe9819df684a6691c2d-0-11\" stroke-width=\"2px\" d=\"M1390,362.0 C1390,302.0 1465.0,302.0 1465.0,362.0\" fill=\"none\" stroke=\"currentColor\"/>\n",
       "    <text dy=\"1.25em\" style=\"font-size: 0.8em; letter-spacing: 1px\">\n",
       "        <textPath xlink:href=\"#arrow-f4b16d223c2a4fe9819df684a6691c2d-0-11\" class=\"displacy-label\" startOffset=\"50%\" side=\"left\" fill=\"currentColor\" text-anchor=\"middle\">nsubj</textPath>\n",
       "    </text>\n",
       "    <path class=\"displacy-arrowhead\" d=\"M1390,364.0 L1382,352.0 1398,352.0\" fill=\"currentColor\"/>\n",
       "</g>\n",
       "\n",
       "<g class=\"displacy-arrow\">\n",
       "    <path class=\"displacy-arc\" id=\"arrow-f4b16d223c2a4fe9819df684a6691c2d-0-12\" stroke-width=\"2px\" d=\"M1630,362.0 C1630,302.0 1705.0,302.0 1705.0,362.0\" fill=\"none\" stroke=\"currentColor\"/>\n",
       "    <text dy=\"1.25em\" style=\"font-size: 0.8em; letter-spacing: 1px\">\n",
       "        <textPath xlink:href=\"#arrow-f4b16d223c2a4fe9819df684a6691c2d-0-12\" class=\"displacy-label\" startOffset=\"50%\" side=\"left\" fill=\"currentColor\" text-anchor=\"middle\">advmod</textPath>\n",
       "    </text>\n",
       "    <path class=\"displacy-arrowhead\" d=\"M1630,364.0 L1622,352.0 1638,352.0\" fill=\"currentColor\"/>\n",
       "</g>\n",
       "\n",
       "<g class=\"displacy-arrow\">\n",
       "    <path class=\"displacy-arc\" id=\"arrow-f4b16d223c2a4fe9819df684a6691c2d-0-13\" stroke-width=\"2px\" d=\"M1510,362.0 C1510,242.0 1710.0,242.0 1710.0,362.0\" fill=\"none\" stroke=\"currentColor\"/>\n",
       "    <text dy=\"1.25em\" style=\"font-size: 0.8em; letter-spacing: 1px\">\n",
       "        <textPath xlink:href=\"#arrow-f4b16d223c2a4fe9819df684a6691c2d-0-13\" class=\"displacy-label\" startOffset=\"50%\" side=\"left\" fill=\"currentColor\" text-anchor=\"middle\">advmod</textPath>\n",
       "    </text>\n",
       "    <path class=\"displacy-arrowhead\" d=\"M1710.0,364.0 L1718.0,352.0 1702.0,352.0\" fill=\"currentColor\"/>\n",
       "</g>\n",
       "</svg></span>"
      ],
      "text/plain": [
       "<IPython.core.display.HTML object>"
      ]
     },
     "metadata": {},
     "output_type": "display_data"
    }
   ],
   "source": [
    "spacy.displacy.render(doc, style='dep', jupyter=True, options={'distance': 120})"
   ]
  },
  {
   "cell_type": "code",
   "execution_count": 141,
   "id": "561d0701-4062-4977-9fd2-ff5e170d7af2",
   "metadata": {},
   "outputs": [
    {
     "data": {
      "text/plain": [
       "There is nothing wrong with Apple's new M1 Max Chip, everything works so well!"
      ]
     },
     "execution_count": 141,
     "metadata": {},
     "output_type": "execute_result"
    }
   ],
   "source": [
    "doc."
   ]
  },
  {
   "cell_type": "markdown",
   "id": "fceb181e-5cdc-4c6a-a0ec-6c36a368cf0f",
   "metadata": {},
   "source": [
    "### Testing TF Datasets"
   ]
  },
  {
   "cell_type": "code",
   "execution_count": 84,
   "id": "b003994d-cde0-46ef-b6df-832032462cc5",
   "metadata": {},
   "outputs": [],
   "source": [
    "import tensorflow_datasets as tfds\n",
    "import tensorflow as tf\n",
    "import spacy\n",
    "nlp = spacy.load(\"en_core_web_sm\")"
   ]
  },
  {
   "cell_type": "code",
   "execution_count": 88,
   "id": "762dd91e-9440-42f1-8ae0-2ba5429f498f",
   "metadata": {},
   "outputs": [],
   "source": [
    "trainDS = tfds.load('imdb_reviews', split='train', as_supervised=True, shuffle_files=True)\n",
    "testDS = tfds.load('imdb_reviews', split='test', as_supervised=True, shuffle_files=True)"
   ]
  },
  {
   "cell_type": "code",
   "execution_count": 89,
   "id": "8311eb8a-08ab-45f7-b89b-055593c25613",
   "metadata": {},
   "outputs": [],
   "source": [
    "part = testDS.take(2)"
   ]
  },
  {
   "cell_type": "markdown",
   "id": "4e8d5afd-8f1c-43fb-ae90-21e738dc6737",
   "metadata": {},
   "source": [
    "#### decodeZeroDimTensor"
   ]
  },
  {
   "cell_type": "code",
   "execution_count": 144,
   "id": "dbb502b1-c359-4f83-813a-23646f7469e1",
   "metadata": {},
   "outputs": [],
   "source": [
    "def decodeZeroDimTensor(yourTensor):\n",
    "    \"\"\"\n",
    "    Takes a tensor of zero dim and returns the string stored inside\n",
    "    Args:\n",
    "        yourTensor - (tf.Tensor) The input tensor you want to convert\n",
    "    Returns:\n",
    "        yourString - (string) The string from the decoded tensor\n",
    "    \"\"\"\n",
    "    noSpecial = tf.strings.regex_replace(\n",
    "        yourTensor,\n",
    "        \"<[^>]+>\",\n",
    "        \" \")\n",
    "    return np.array(noSpecial).reshape((1,))[0].decode(\"utf-8\") "
   ]
  },
  {
   "cell_type": "markdown",
   "id": "06a47941-800b-4a4d-8ace-7eb7964616a8",
   "metadata": {},
   "source": [
    "#### convertTakeDataset"
   ]
  },
  {
   "cell_type": "code",
   "execution_count": 145,
   "id": "ae4c7222-e3ab-44be-86aa-29858455cd52",
   "metadata": {},
   "outputs": [],
   "source": [
    "def convertTakeDataset(takeDataset):\n",
    "    \"\"\"\n",
    "    Converts your takeDataset into features and labels\n",
    "    Args:\n",
    "        takeDataset - (TakeDataset) the TakeDataset that contains some number of examples from your initial dataset\n",
    "    Returns:\n",
    "        features - (list) the list of features\n",
    "        labels - (list) the list of labels\n",
    "    \"\"\"\n",
    "    labels = []\n",
    "    features = []\n",
    "    for text, label in takeDataset:\n",
    "        labels.append(int(np.array(label)))\n",
    "        features.append(decodeZeroDimTensor(text))\n",
    "\n",
    "    return features, labels"
   ]
  },
  {
   "cell_type": "code",
   "execution_count": 146,
   "id": "58680d85-6783-462b-99b6-3e9b6466ef09",
   "metadata": {},
   "outputs": [
    {
     "name": "stderr",
     "output_type": "stream",
     "text": [
      "2022-05-24 21:14:49.659783: W tensorflow/core/kernels/data/cache_dataset_ops.cc:768] The calling iterator did not fully read the dataset being cached. In order to avoid unexpected truncation of the dataset, the partially cached contents of the dataset  will be discarded. This can happen if you have an input pipeline similar to `dataset.cache().take(k).repeat()`. You should use `dataset.take(k).cache().repeat()` instead.\n"
     ]
    }
   ],
   "source": [
    "features, labels = convertTakeDataset(part)"
   ]
  },
  {
   "cell_type": "code",
   "execution_count": 147,
   "id": "86ef7d8f-6b96-4dc8-a90f-fa47ff8fee6b",
   "metadata": {},
   "outputs": [
    {
     "data": {
      "text/plain": [
       "2"
      ]
     },
     "execution_count": 147,
     "metadata": {},
     "output_type": "execute_result"
    }
   ],
   "source": [
    "len(features)"
   ]
  },
  {
   "cell_type": "code",
   "execution_count": 148,
   "id": "08fe3add-1e7d-4d4a-8486-16dcf6026974",
   "metadata": {},
   "outputs": [
    {
     "data": {
      "text/plain": [
       "[\"There are films that make careers. For George Romero, it was NIGHT OF THE LIVING DEAD; for Kevin Smith, CLERKS; for Robert Rodriguez, EL MARIACHI. Add to that list Onur Tukel's absolutely amazing DING-A-LING-LESS. Flawless film-making, and as assured and as professional as any of the aforementioned movies. I haven't laughed this hard since I saw THE FULL MONTY. (And, even then, I don't think I laughed quite this hard... So to speak.) Tukel's talent is considerable: DING-A-LING-LESS is so chock full of double entendres that one would have to sit down with a copy of this script and do a line-by-line examination of it to fully appreciate the, uh, breadth and width of it. Every shot is beautifully composed (a clear sign of a sure-handed director), and the performances all around are solid (there's none of the over-the-top scenery chewing one might've expected from a film like this). DING-A-LING-LESS is a film whose time has come.\",\n",
       " \"A blackly comic tale of a down-trodden priest, Nazarin showcases the economy that Luis Bunuel was able to achieve in being able to tell a deeply humanist fable with a minimum of fuss. As an output from his Mexican era of film making, it was an invaluable talent to possess, with little money and extremely tight schedules. Nazarin, however, surpasses many of Bunuel's previous Mexican films in terms of the acting (Francisco Rabal is excellent), narrative and theme.  The theme, interestingly, is something that was explored again in Viridiana, made three years later in Spain. It concerns the individual's struggle for humanity and altruism amongst a society that rejects any notion of virtue. Father Nazarin, however, is portrayed more sympathetically than Sister Viridiana. Whereas the latter seems to choose charity because she wishes to atone for her (perceived) sins, Nazarin's whole existence and reason for being seems to be to help others, whether they (or we) like it or not. The film's last scenes, in which he casts doubt on his behaviour and, in a split second, has to choose between the life he has been leading or the conventional life that is expected of a priest, are so emotional because they concern his moral integrity and we are never quite sure whether it remains intact or not.  This is a remarkable film and I would urge anyone interested in classic cinema to seek it out. It is one of Bunuel's most moving films, and encapsulates many of his obsessions: frustrated desire, mad love, religious hypocrisy etc. In my view 'Nazarin' is second only to 'The Exterminating Angel', in terms of his Mexican movies, and is certainly near the top of the list of Bunuel's total filmic output.\"]"
      ]
     },
     "execution_count": 148,
     "metadata": {},
     "output_type": "execute_result"
    }
   ],
   "source": [
    "features"
   ]
  },
  {
   "cell_type": "code",
   "execution_count": 149,
   "id": "46bb6d88-ad0e-4984-a3f8-848ab000701a",
   "metadata": {},
   "outputs": [
    {
     "data": {
      "text/plain": [
       "[1, 1]"
      ]
     },
     "execution_count": 149,
     "metadata": {},
     "output_type": "execute_result"
    }
   ],
   "source": [
    "labels"
   ]
  },
  {
   "cell_type": "code",
   "execution_count": 121,
   "id": "fe93cd79-49c3-4653-b017-61ba1424252c",
   "metadata": {},
   "outputs": [
    {
     "data": {
      "application/vnd.jupyter.widget-view+json": {
       "model_id": "807cdbec7af341579a7a6971104e2d29",
       "version_major": 2,
       "version_minor": 0
      },
      "text/plain": [
       "Downloading https://raw.githubusercontent.com/stanfordnlp/stanza-resources/main/resources_1.4.0.json:   0%|   …"
      ]
     },
     "metadata": {},
     "output_type": "display_data"
    },
    {
     "name": "stderr",
     "output_type": "stream",
     "text": [
      "WARNING:stanza:Can not find mwt: default from official model list. Ignoring it.\n",
      "INFO:stanza:Loading these models for language: en (English):\n",
      "========================\n",
      "| Processor | Package  |\n",
      "------------------------\n",
      "| tokenize  | combined |\n",
      "| pos       | combined |\n",
      "| lemma     | combined |\n",
      "| depparse  | combined |\n",
      "| sentiment | sstplus  |\n",
      "========================\n",
      "\n",
      "INFO:stanza:Use device: cpu\n",
      "INFO:stanza:Loading: tokenize\n",
      "INFO:stanza:Loading: pos\n",
      "INFO:stanza:Loading: lemma\n",
      "INFO:stanza:Loading: depparse\n",
      "INFO:stanza:Loading: sentiment\n",
      "INFO:stanza:Done loading processors!\n"
     ]
    }
   ],
   "source": [
    "nlp = stanza.Pipeline(\n",
    "    'en',\n",
    "    processors = 'tokenize,mwt,pos,lemma,depparse, sentiment')"
   ]
  },
  {
   "cell_type": "code",
   "execution_count": 152,
   "id": "22e67a6a-2ebe-442a-afbe-69e1719aa61e",
   "metadata": {},
   "outputs": [],
   "source": [
    "doc = nlp(features[1])"
   ]
  },
  {
   "cell_type": "code",
   "execution_count": 153,
   "id": "7e9818d6-a339-49dd-b43f-6466868d84d1",
   "metadata": {},
   "outputs": [
    {
     "name": "stdout",
     "output_type": "stream",
     "text": [
      "A blackly comic tale of a down-trodden priest, Nazarin showcases the economy that Luis Bunuel was able to achieve in being able to tell a deeply humanist fable with a minimum of fuss.\n",
      "2\n",
      "As an output from his Mexican era of film making, it was an invaluable talent to possess, with little money and extremely tight schedules.\n",
      "2\n",
      "Nazarin, however, surpasses many of Bunuel's previous Mexican films in terms of the acting (Francisco Rabal is excellent), narrative and theme.\n",
      "2\n",
      "The theme, interestingly, is something that was explored again in Viridiana, made three years later in Spain.\n",
      "1\n",
      "It concerns the individual's struggle for humanity and altruism amongst a society that rejects any notion of virtue.\n",
      "1\n",
      "Father Nazarin, however, is portrayed more sympathetically than Sister Viridiana.\n",
      "1\n",
      "Whereas the latter seems to choose charity because she wishes to atone for her (perceived) sins, Nazarin's whole existence and reason for being seems to be to help others, whether they (or we) like it or not.\n",
      "1\n",
      "The film's last scenes, in which he casts doubt on his behaviour and, in a split second, has to choose between the life he has been leading or the conventional life that is expected of a priest, are so emotional because they concern his moral integrity and we are never quite sure whether it remains intact or not.\n",
      "0\n",
      "This is a remarkable film and I would urge anyone interested in classic cinema to seek it out.\n",
      "2\n",
      "It is one of Bunuel's most moving films, and encapsulates many of his obsessions: frustrated desire, mad love, religious hypocrisy etc.\n",
      "1\n",
      "In my view 'Nazarin' is second only to 'The Exterminating Angel', in terms of his Mexican movies, and is certainly near the top of the list of Bunuel's total filmic output.\n",
      "1\n"
     ]
    }
   ],
   "source": [
    "for sentence in doc.sentences:\n",
    "    print(sentence.text)\n",
    "    print(sentence.sentiment)"
   ]
  },
  {
   "cell_type": "code",
   "execution_count": 270,
   "id": "ab23ce32-023a-4a9c-b0e9-f427176cd23a",
   "metadata": {},
   "outputs": [
    {
     "name": "stdout",
     "output_type": "stream",
     "text": [
      "('There', 2, 'expl')\n",
      "('is', 0, 'root')\n",
      "('nothing', 2, 'nsubj')\n",
      "('wrong', 3, 'amod')\n",
      "('with', 10, 'case')\n",
      "('Apple', 10, 'nmod:poss')\n",
      "(\"'s\", 6, 'case')\n",
      "('new', 10, 'amod')\n",
      "('M1', 10, 'compound')\n",
      "('Max', 3, 'nmod')\n",
      "('Chip', 10, 'flat')\n",
      "(',', 14, 'punct')\n",
      "('everything', 14, 'nsubj')\n",
      "('works', 2, 'parataxis')\n",
      "('so', 16, 'advmod')\n",
      "('well', 14, 'advmod')\n",
      "('!', 2, 'punct')\n"
     ]
    }
   ],
   "source": [
    "doc.sentences[0].print_dependencies()"
   ]
  },
  {
   "cell_type": "markdown",
   "id": "83742713-f438-49d3-be8c-1bfe2d052e5f",
   "metadata": {},
   "source": [
    "## Part 2: Graph Networks"
   ]
  },
  {
   "cell_type": "markdown",
   "id": "28e2320a-6f2d-4032-88ee-d60e5a9a12fd",
   "metadata": {},
   "source": [
    "### Basic Imports"
   ]
  },
  {
   "cell_type": "code",
   "execution_count": 274,
   "id": "ef73cbf9-a1dd-4a7f-92d1-2c62a0aec3a0",
   "metadata": {},
   "outputs": [],
   "source": [
    "import tensorflow_datasets as tfds\n",
    "import tensorflow as tf\n",
    "import numpy as np\n",
    "import pandas as pd\n",
    "import matplotlib.pyplot as plt\n",
    "import stanza\n",
    "import networkx as nx\n",
    "import tensorflow_hub as hub\n",
    "import tensorflow_text\n",
    "# import spectral"
   ]
  },
  {
   "cell_type": "code",
   "execution_count": null,
   "id": "5d7579a2-59fc-471d-9038-3f5ce1c41a3e",
   "metadata": {},
   "outputs": [],
   "source": []
  },
  {
   "cell_type": "code",
   "execution_count": null,
   "id": "d59301b7-46f3-4f8e-afc8-ef25afe1edc8",
   "metadata": {},
   "outputs": [],
   "source": []
  },
  {
   "cell_type": "markdown",
   "id": "19cdcd08-f5bd-465b-9132-3d2df3a90a13",
   "metadata": {},
   "source": [
    "### Load Data"
   ]
  },
  {
   "cell_type": "code",
   "execution_count": 273,
   "id": "dee06f31-ae6f-43c4-a7db-2204aefb972e",
   "metadata": {},
   "outputs": [],
   "source": [
    "trainDS = tfds.load('imdb_reviews', split='train', as_supervised=True, shuffle_files=True)\n",
    "testDS = tfds.load('imdb_reviews', split='test', as_supervised=True, shuffle_files=True)"
   ]
  },
  {
   "cell_type": "markdown",
   "id": "1099a106-84fb-47b2-a739-731f6dd16c16",
   "metadata": {},
   "source": [
    "#### Set a Limit"
   ]
  },
  {
   "cell_type": "code",
   "execution_count": 360,
   "id": "00ad9104-4ce4-4efd-9c71-6c1d7a2d84bb",
   "metadata": {},
   "outputs": [],
   "source": [
    "trainLimit = 4000\n",
    "testLimit = 4000\n",
    "\n",
    "trainSubset = trainDS.take(trainLimit)\n",
    "testSubset = testDS.take(testLimit)"
   ]
  },
  {
   "cell_type": "code",
   "execution_count": 361,
   "id": "6006c8cd-322d-4448-9491-8e29fc76a45e",
   "metadata": {},
   "outputs": [],
   "source": [
    "validationSplit = 0.5\n",
    "validationIndex = int(validationSplit * trainLimit)\n",
    "\n",
    "validationSplitSubset = trainSubset.take(validationIndex)\n",
    "trainSplitSubset = trainSubset.skip(validationIndex)"
   ]
  },
  {
   "cell_type": "code",
   "execution_count": 362,
   "id": "61eb4977-88d6-4f76-ba4f-036ba743086a",
   "metadata": {},
   "outputs": [
    {
     "name": "stderr",
     "output_type": "stream",
     "text": [
      "2022-05-24 23:42:46.405591: W tensorflow/core/kernels/data/cache_dataset_ops.cc:768] The calling iterator did not fully read the dataset being cached. In order to avoid unexpected truncation of the dataset, the partially cached contents of the dataset  will be discarded. This can happen if you have an input pipeline similar to `dataset.cache().take(k).repeat()`. You should use `dataset.take(k).cache().repeat()` instead.\n"
     ]
    }
   ],
   "source": [
    "trainFeatures, trainLabels = convertTakeDataset(trainSplitSubset)\n",
    "valFeatures, valLabels = convertTakeDataset(validationSplitSubset)\n",
    "testFeatures, testLabels = convertTakeDataset(testSubset)"
   ]
  },
  {
   "cell_type": "markdown",
   "id": "fbe8814c-84e6-42dc-aa69-5820059aa42c",
   "metadata": {},
   "source": [
    "#### Bert Embeddings"
   ]
  },
  {
   "cell_type": "code",
   "execution_count": 313,
   "id": "6e642426-c0cd-472e-bc60-e272a54bc357",
   "metadata": {},
   "outputs": [],
   "source": [
    "tf.keras.backend.clear_session()"
   ]
  },
  {
   "cell_type": "code",
   "execution_count": 314,
   "id": "ed38fdaa-8d01-4ee9-95fa-f59a3f56eaae",
   "metadata": {},
   "outputs": [
    {
     "name": "stderr",
     "output_type": "stream",
     "text": [
      "2022-05-24 23:03:59.345773: I tensorflow/core/grappler/optimizers/custom_graph_optimizer_registry.cc:113] Plugin optimizer for device_type GPU is enabled.\n",
      "2022-05-24 23:03:59.812630: I tensorflow/core/grappler/optimizers/custom_graph_optimizer_registry.cc:113] Plugin optimizer for device_type GPU is enabled.\n"
     ]
    }
   ],
   "source": [
    "# Preprocess and encode input\n",
    "text_input = tf.keras.layers.Input(shape=(), dtype=tf.string)\n",
    "\n",
    "preprocessor = hub.KerasLayer('https://tfhub.dev/tensorflow/bert_en_uncased_preprocess/3')\n",
    "encoder_inputs = preprocessor(text_input)\n",
    "\n",
    "encoder = hub.KerasLayer('https://tfhub.dev/tensorflow/small_bert/bert_en_uncased_L-2_H-128_A-2/2',trainable=False)\n",
    "\n",
    "outputs = encoder(encoder_inputs)\n",
    "\n",
    "pooled_output = outputs['pooled_output'] # [batch_size, 128].\n",
    "# [batch_size, seq_length, 128].\n",
    "\n",
    "sequence_output = outputs['sequence_output']"
   ]
  },
  {
   "cell_type": "code",
   "execution_count": 372,
   "id": "089fc47e-90a9-4eed-89a3-073ab00df919",
   "metadata": {},
   "outputs": [],
   "source": [
    "def sampleModel():\n",
    "    inputs = text_input\n",
    "    preprocessorLayer = preprocessor(inputs)['input_word_ids']\n",
    "    \n",
    "    embedding_layer = tf.keras.layers.Embedding(10000,\n",
    "                                                128)(preprocessorLayer)\n",
    "    # embedding_layer = encoder(preprocessorLayer)['pooled_output']\n",
    "    \n",
    "    flatten = tf.keras.layers.Flatten()(embedding_layer)\n",
    "    dense_layer = tf.keras.layers.Dense(16, activation='relu')(flatten)\n",
    "    outputs = tf.keras.layers.Dense(1)(dense_layer)\n",
    "\n",
    "    return tf.keras.Model(inputs=inputs, outputs=outputs)"
   ]
  },
  {
   "cell_type": "code",
   "execution_count": 373,
   "id": "627d9b67-bf47-417c-9a98-a433c9965268",
   "metadata": {},
   "outputs": [
    {
     "name": "stdout",
     "output_type": "stream",
     "text": [
      "Model: \"model\"\n",
      "_________________________________________________________________\n",
      " Layer (type)                Output Shape              Param #   \n",
      "=================================================================\n",
      " input_1 (InputLayer)        [(None,)]                 0         \n",
      "                                                                 \n",
      " keras_layer (KerasLayer)    {'input_mask': (None, 12  0         \n",
      "                             8),                                 \n",
      "                              'input_word_ids': (None            \n",
      "                             , 128),                             \n",
      "                              'input_type_ids': (None            \n",
      "                             , 128)}                             \n",
      "                                                                 \n",
      " embedding (Embedding)       (None, 128, 128)          1280000   \n",
      "                                                                 \n",
      " flatten (Flatten)           (None, 16384)             0         \n",
      "                                                                 \n",
      " dense (Dense)               (None, 16)                262160    \n",
      "                                                                 \n",
      " dense_1 (Dense)             (None, 1)                 17        \n",
      "                                                                 \n",
      "=================================================================\n",
      "Total params: 1,542,177\n",
      "Trainable params: 1,542,177\n",
      "Non-trainable params: 0\n",
      "_________________________________________________________________\n"
     ]
    }
   ],
   "source": [
    "tf.keras.backend.clear_session()\n",
    "model = sampleModel()\n",
    "model.summary()"
   ]
  },
  {
   "cell_type": "code",
   "execution_count": 374,
   "id": "e5139a4b-77f9-4f5f-8f4f-abf1ab4fa20e",
   "metadata": {},
   "outputs": [],
   "source": [
    "model.compile(\n",
    "    optimizer='rmsprop',\n",
    "    loss=tf.keras.losses.BinaryCrossentropy(from_logits=True),\n",
    "    metrics=['accuracy'])"
   ]
  },
  {
   "cell_type": "code",
   "execution_count": 375,
   "id": "5f7f350e-4761-4171-940a-a69d51fc2ca1",
   "metadata": {},
   "outputs": [
    {
     "name": "stdout",
     "output_type": "stream",
     "text": [
      "Epoch 1/20\n"
     ]
    },
    {
     "name": "stderr",
     "output_type": "stream",
     "text": [
      "2022-05-24 23:55:12.877853: I tensorflow/core/grappler/optimizers/custom_graph_optimizer_registry.cc:113] Plugin optimizer for device_type GPU is enabled.\n"
     ]
    },
    {
     "name": "stdout",
     "output_type": "stream",
     "text": [
      "63/63 [==============================] - ETA: 0s - loss: 0.6855 - accuracy: 0.4940"
     ]
    },
    {
     "name": "stderr",
     "output_type": "stream",
     "text": [
      "2022-05-24 23:55:22.030819: I tensorflow/core/grappler/optimizers/custom_graph_optimizer_registry.cc:113] Plugin optimizer for device_type GPU is enabled.\n"
     ]
    },
    {
     "name": "stdout",
     "output_type": "stream",
     "text": [
      "63/63 [==============================] - 17s 263ms/step - loss: 0.6855 - accuracy: 0.4940 - val_loss: 0.6798 - val_accuracy: 0.5530\n",
      "Epoch 2/20\n",
      "63/63 [==============================] - 15s 245ms/step - loss: 0.3528 - accuracy: 0.8875 - val_loss: 0.6370 - val_accuracy: 0.6275\n",
      "Epoch 3/20\n",
      "63/63 [==============================] - 16s 257ms/step - loss: 0.0629 - accuracy: 0.9930 - val_loss: 0.6750 - val_accuracy: 0.6275\n",
      "Epoch 4/20\n",
      "63/63 [==============================] - 16s 264ms/step - loss: 0.0064 - accuracy: 1.0000 - val_loss: 0.7958 - val_accuracy: 0.6645\n",
      "Epoch 5/20\n",
      "63/63 [==============================] - 17s 272ms/step - loss: 6.8266e-04 - accuracy: 1.0000 - val_loss: 0.8110 - val_accuracy: 0.6785\n",
      "Epoch 6/20\n",
      "63/63 [==============================] - 17s 271ms/step - loss: 6.2386e-05 - accuracy: 1.0000 - val_loss: 0.9599 - val_accuracy: 0.6745\n",
      "Epoch 7/20\n",
      "63/63 [==============================] - 17s 280ms/step - loss: 5.4562e-06 - accuracy: 1.0000 - val_loss: 0.9933 - val_accuracy: 0.6845\n",
      "Epoch 8/20\n",
      "63/63 [==============================] - 17s 272ms/step - loss: 7.3036e-07 - accuracy: 1.0000 - val_loss: 1.0831 - val_accuracy: 0.6865\n",
      "Epoch 9/20\n",
      " 6/63 [=>............................] - ETA: 7s - loss: 2.5865e-07 - accuracy: 1.0000"
     ]
    },
    {
     "ename": "KeyboardInterrupt",
     "evalue": "",
     "output_type": "error",
     "traceback": [
      "\u001b[0;31m---------------------------------------------------------------------------\u001b[0m",
      "\u001b[0;31mKeyboardInterrupt\u001b[0m                         Traceback (most recent call last)",
      "\u001b[0;32m/var/folders/cy/9f5n2v596v59tmvv54kqf0jr0000gp/T/ipykernel_71520/631640814.py\u001b[0m in \u001b[0;36m<module>\u001b[0;34m\u001b[0m\n\u001b[0;32m----> 1\u001b[0;31m history = model.fit(\n\u001b[0m\u001b[1;32m      2\u001b[0m     \u001b[0mtrainFeatures\u001b[0m\u001b[0;34m,\u001b[0m\u001b[0;34m\u001b[0m\u001b[0;34m\u001b[0m\u001b[0m\n\u001b[1;32m      3\u001b[0m     \u001b[0mtrainLabels\u001b[0m\u001b[0;34m,\u001b[0m\u001b[0;34m\u001b[0m\u001b[0;34m\u001b[0m\u001b[0m\n\u001b[1;32m      4\u001b[0m     \u001b[0mvalidation_data\u001b[0m\u001b[0;34m=\u001b[0m\u001b[0;34m(\u001b[0m\u001b[0mvalFeatures\u001b[0m\u001b[0;34m,\u001b[0m \u001b[0mvalLabels\u001b[0m\u001b[0;34m)\u001b[0m\u001b[0;34m,\u001b[0m\u001b[0;34m\u001b[0m\u001b[0;34m\u001b[0m\u001b[0m\n\u001b[1;32m      5\u001b[0m     \u001b[0mepochs\u001b[0m\u001b[0;34m=\u001b[0m\u001b[0;36m20\u001b[0m\u001b[0;34m,\u001b[0m\u001b[0;34m\u001b[0m\u001b[0;34m\u001b[0m\u001b[0m\n",
      "\u001b[0;32m~/miniforge3/envs/graphLearning/lib/python3.9/site-packages/keras/utils/traceback_utils.py\u001b[0m in \u001b[0;36merror_handler\u001b[0;34m(*args, **kwargs)\u001b[0m\n\u001b[1;32m     62\u001b[0m     \u001b[0mfiltered_tb\u001b[0m \u001b[0;34m=\u001b[0m \u001b[0;32mNone\u001b[0m\u001b[0;34m\u001b[0m\u001b[0;34m\u001b[0m\u001b[0m\n\u001b[1;32m     63\u001b[0m     \u001b[0;32mtry\u001b[0m\u001b[0;34m:\u001b[0m\u001b[0;34m\u001b[0m\u001b[0;34m\u001b[0m\u001b[0m\n\u001b[0;32m---> 64\u001b[0;31m       \u001b[0;32mreturn\u001b[0m \u001b[0mfn\u001b[0m\u001b[0;34m(\u001b[0m\u001b[0;34m*\u001b[0m\u001b[0margs\u001b[0m\u001b[0;34m,\u001b[0m \u001b[0;34m**\u001b[0m\u001b[0mkwargs\u001b[0m\u001b[0;34m)\u001b[0m\u001b[0;34m\u001b[0m\u001b[0;34m\u001b[0m\u001b[0m\n\u001b[0m\u001b[1;32m     65\u001b[0m     \u001b[0;32mexcept\u001b[0m \u001b[0mException\u001b[0m \u001b[0;32mas\u001b[0m \u001b[0me\u001b[0m\u001b[0;34m:\u001b[0m  \u001b[0;31m# pylint: disable=broad-except\u001b[0m\u001b[0;34m\u001b[0m\u001b[0;34m\u001b[0m\u001b[0m\n\u001b[1;32m     66\u001b[0m       \u001b[0mfiltered_tb\u001b[0m \u001b[0;34m=\u001b[0m \u001b[0m_process_traceback_frames\u001b[0m\u001b[0;34m(\u001b[0m\u001b[0me\u001b[0m\u001b[0;34m.\u001b[0m\u001b[0m__traceback__\u001b[0m\u001b[0;34m)\u001b[0m\u001b[0;34m\u001b[0m\u001b[0;34m\u001b[0m\u001b[0m\n",
      "\u001b[0;32m~/miniforge3/envs/graphLearning/lib/python3.9/site-packages/keras/engine/training.py\u001b[0m in \u001b[0;36mfit\u001b[0;34m(self, x, y, batch_size, epochs, verbose, callbacks, validation_split, validation_data, shuffle, class_weight, sample_weight, initial_epoch, steps_per_epoch, validation_steps, validation_batch_size, validation_freq, max_queue_size, workers, use_multiprocessing)\u001b[0m\n\u001b[1;32m   1382\u001b[0m                 _r=1):\n\u001b[1;32m   1383\u001b[0m               \u001b[0mcallbacks\u001b[0m\u001b[0;34m.\u001b[0m\u001b[0mon_train_batch_begin\u001b[0m\u001b[0;34m(\u001b[0m\u001b[0mstep\u001b[0m\u001b[0;34m)\u001b[0m\u001b[0;34m\u001b[0m\u001b[0;34m\u001b[0m\u001b[0m\n\u001b[0;32m-> 1384\u001b[0;31m               \u001b[0mtmp_logs\u001b[0m \u001b[0;34m=\u001b[0m \u001b[0mself\u001b[0m\u001b[0;34m.\u001b[0m\u001b[0mtrain_function\u001b[0m\u001b[0;34m(\u001b[0m\u001b[0miterator\u001b[0m\u001b[0;34m)\u001b[0m\u001b[0;34m\u001b[0m\u001b[0;34m\u001b[0m\u001b[0m\n\u001b[0m\u001b[1;32m   1385\u001b[0m               \u001b[0;32mif\u001b[0m \u001b[0mdata_handler\u001b[0m\u001b[0;34m.\u001b[0m\u001b[0mshould_sync\u001b[0m\u001b[0;34m:\u001b[0m\u001b[0;34m\u001b[0m\u001b[0;34m\u001b[0m\u001b[0m\n\u001b[1;32m   1386\u001b[0m                 \u001b[0mcontext\u001b[0m\u001b[0;34m.\u001b[0m\u001b[0masync_wait\u001b[0m\u001b[0;34m(\u001b[0m\u001b[0;34m)\u001b[0m\u001b[0;34m\u001b[0m\u001b[0;34m\u001b[0m\u001b[0m\n",
      "\u001b[0;32m~/miniforge3/envs/graphLearning/lib/python3.9/site-packages/tensorflow/python/util/traceback_utils.py\u001b[0m in \u001b[0;36merror_handler\u001b[0;34m(*args, **kwargs)\u001b[0m\n\u001b[1;32m    148\u001b[0m     \u001b[0mfiltered_tb\u001b[0m \u001b[0;34m=\u001b[0m \u001b[0;32mNone\u001b[0m\u001b[0;34m\u001b[0m\u001b[0;34m\u001b[0m\u001b[0m\n\u001b[1;32m    149\u001b[0m     \u001b[0;32mtry\u001b[0m\u001b[0;34m:\u001b[0m\u001b[0;34m\u001b[0m\u001b[0;34m\u001b[0m\u001b[0m\n\u001b[0;32m--> 150\u001b[0;31m       \u001b[0;32mreturn\u001b[0m \u001b[0mfn\u001b[0m\u001b[0;34m(\u001b[0m\u001b[0;34m*\u001b[0m\u001b[0margs\u001b[0m\u001b[0;34m,\u001b[0m \u001b[0;34m**\u001b[0m\u001b[0mkwargs\u001b[0m\u001b[0;34m)\u001b[0m\u001b[0;34m\u001b[0m\u001b[0;34m\u001b[0m\u001b[0m\n\u001b[0m\u001b[1;32m    151\u001b[0m     \u001b[0;32mexcept\u001b[0m \u001b[0mException\u001b[0m \u001b[0;32mas\u001b[0m \u001b[0me\u001b[0m\u001b[0;34m:\u001b[0m\u001b[0;34m\u001b[0m\u001b[0;34m\u001b[0m\u001b[0m\n\u001b[1;32m    152\u001b[0m       \u001b[0mfiltered_tb\u001b[0m \u001b[0;34m=\u001b[0m \u001b[0m_process_traceback_frames\u001b[0m\u001b[0;34m(\u001b[0m\u001b[0me\u001b[0m\u001b[0;34m.\u001b[0m\u001b[0m__traceback__\u001b[0m\u001b[0;34m)\u001b[0m\u001b[0;34m\u001b[0m\u001b[0;34m\u001b[0m\u001b[0m\n",
      "\u001b[0;32m~/miniforge3/envs/graphLearning/lib/python3.9/site-packages/tensorflow/python/eager/def_function.py\u001b[0m in \u001b[0;36m__call__\u001b[0;34m(self, *args, **kwds)\u001b[0m\n\u001b[1;32m    913\u001b[0m \u001b[0;34m\u001b[0m\u001b[0m\n\u001b[1;32m    914\u001b[0m       \u001b[0;32mwith\u001b[0m \u001b[0mOptionalXlaContext\u001b[0m\u001b[0;34m(\u001b[0m\u001b[0mself\u001b[0m\u001b[0;34m.\u001b[0m\u001b[0m_jit_compile\u001b[0m\u001b[0;34m)\u001b[0m\u001b[0;34m:\u001b[0m\u001b[0;34m\u001b[0m\u001b[0;34m\u001b[0m\u001b[0m\n\u001b[0;32m--> 915\u001b[0;31m         \u001b[0mresult\u001b[0m \u001b[0;34m=\u001b[0m \u001b[0mself\u001b[0m\u001b[0;34m.\u001b[0m\u001b[0m_call\u001b[0m\u001b[0;34m(\u001b[0m\u001b[0;34m*\u001b[0m\u001b[0margs\u001b[0m\u001b[0;34m,\u001b[0m \u001b[0;34m**\u001b[0m\u001b[0mkwds\u001b[0m\u001b[0;34m)\u001b[0m\u001b[0;34m\u001b[0m\u001b[0;34m\u001b[0m\u001b[0m\n\u001b[0m\u001b[1;32m    916\u001b[0m \u001b[0;34m\u001b[0m\u001b[0m\n\u001b[1;32m    917\u001b[0m       \u001b[0mnew_tracing_count\u001b[0m \u001b[0;34m=\u001b[0m \u001b[0mself\u001b[0m\u001b[0;34m.\u001b[0m\u001b[0mexperimental_get_tracing_count\u001b[0m\u001b[0;34m(\u001b[0m\u001b[0;34m)\u001b[0m\u001b[0;34m\u001b[0m\u001b[0;34m\u001b[0m\u001b[0m\n",
      "\u001b[0;32m~/miniforge3/envs/graphLearning/lib/python3.9/site-packages/tensorflow/python/eager/def_function.py\u001b[0m in \u001b[0;36m_call\u001b[0;34m(self, *args, **kwds)\u001b[0m\n\u001b[1;32m    945\u001b[0m       \u001b[0;31m# In this case we have created variables on the first call, so we run the\u001b[0m\u001b[0;34m\u001b[0m\u001b[0;34m\u001b[0m\u001b[0m\n\u001b[1;32m    946\u001b[0m       \u001b[0;31m# defunned version which is guaranteed to never create variables.\u001b[0m\u001b[0;34m\u001b[0m\u001b[0;34m\u001b[0m\u001b[0m\n\u001b[0;32m--> 947\u001b[0;31m       \u001b[0;32mreturn\u001b[0m \u001b[0mself\u001b[0m\u001b[0;34m.\u001b[0m\u001b[0m_stateless_fn\u001b[0m\u001b[0;34m(\u001b[0m\u001b[0;34m*\u001b[0m\u001b[0margs\u001b[0m\u001b[0;34m,\u001b[0m \u001b[0;34m**\u001b[0m\u001b[0mkwds\u001b[0m\u001b[0;34m)\u001b[0m  \u001b[0;31m# pylint: disable=not-callable\u001b[0m\u001b[0;34m\u001b[0m\u001b[0;34m\u001b[0m\u001b[0m\n\u001b[0m\u001b[1;32m    948\u001b[0m     \u001b[0;32melif\u001b[0m \u001b[0mself\u001b[0m\u001b[0;34m.\u001b[0m\u001b[0m_stateful_fn\u001b[0m \u001b[0;32mis\u001b[0m \u001b[0;32mnot\u001b[0m \u001b[0;32mNone\u001b[0m\u001b[0;34m:\u001b[0m\u001b[0;34m\u001b[0m\u001b[0;34m\u001b[0m\u001b[0m\n\u001b[1;32m    949\u001b[0m       \u001b[0;31m# Release the lock early so that multiple threads can perform the call\u001b[0m\u001b[0;34m\u001b[0m\u001b[0;34m\u001b[0m\u001b[0m\n",
      "\u001b[0;32m~/miniforge3/envs/graphLearning/lib/python3.9/site-packages/tensorflow/python/eager/function.py\u001b[0m in \u001b[0;36m__call__\u001b[0;34m(self, *args, **kwargs)\u001b[0m\n\u001b[1;32m   2954\u001b[0m       (graph_function,\n\u001b[1;32m   2955\u001b[0m        filtered_flat_args) = self._maybe_define_function(args, kwargs)\n\u001b[0;32m-> 2956\u001b[0;31m     return graph_function._call_flat(\n\u001b[0m\u001b[1;32m   2957\u001b[0m         filtered_flat_args, captured_inputs=graph_function.captured_inputs)  # pylint: disable=protected-access\n\u001b[1;32m   2958\u001b[0m \u001b[0;34m\u001b[0m\u001b[0m\n",
      "\u001b[0;32m~/miniforge3/envs/graphLearning/lib/python3.9/site-packages/tensorflow/python/eager/function.py\u001b[0m in \u001b[0;36m_call_flat\u001b[0;34m(self, args, captured_inputs, cancellation_manager)\u001b[0m\n\u001b[1;32m   1851\u001b[0m         and executing_eagerly):\n\u001b[1;32m   1852\u001b[0m       \u001b[0;31m# No tape is watching; skip to running the function.\u001b[0m\u001b[0;34m\u001b[0m\u001b[0;34m\u001b[0m\u001b[0m\n\u001b[0;32m-> 1853\u001b[0;31m       return self._build_call_outputs(self._inference_function.call(\n\u001b[0m\u001b[1;32m   1854\u001b[0m           ctx, args, cancellation_manager=cancellation_manager))\n\u001b[1;32m   1855\u001b[0m     forward_backward = self._select_forward_and_backward_functions(\n",
      "\u001b[0;32m~/miniforge3/envs/graphLearning/lib/python3.9/site-packages/tensorflow/python/eager/function.py\u001b[0m in \u001b[0;36mcall\u001b[0;34m(self, ctx, args, cancellation_manager)\u001b[0m\n\u001b[1;32m    497\u001b[0m       \u001b[0;32mwith\u001b[0m \u001b[0m_InterpolateFunctionError\u001b[0m\u001b[0;34m(\u001b[0m\u001b[0mself\u001b[0m\u001b[0;34m)\u001b[0m\u001b[0;34m:\u001b[0m\u001b[0;34m\u001b[0m\u001b[0;34m\u001b[0m\u001b[0m\n\u001b[1;32m    498\u001b[0m         \u001b[0;32mif\u001b[0m \u001b[0mcancellation_manager\u001b[0m \u001b[0;32mis\u001b[0m \u001b[0;32mNone\u001b[0m\u001b[0;34m:\u001b[0m\u001b[0;34m\u001b[0m\u001b[0;34m\u001b[0m\u001b[0m\n\u001b[0;32m--> 499\u001b[0;31m           outputs = execute.execute(\n\u001b[0m\u001b[1;32m    500\u001b[0m               \u001b[0mstr\u001b[0m\u001b[0;34m(\u001b[0m\u001b[0mself\u001b[0m\u001b[0;34m.\u001b[0m\u001b[0msignature\u001b[0m\u001b[0;34m.\u001b[0m\u001b[0mname\u001b[0m\u001b[0;34m)\u001b[0m\u001b[0;34m,\u001b[0m\u001b[0;34m\u001b[0m\u001b[0;34m\u001b[0m\u001b[0m\n\u001b[1;32m    501\u001b[0m               \u001b[0mnum_outputs\u001b[0m\u001b[0;34m=\u001b[0m\u001b[0mself\u001b[0m\u001b[0;34m.\u001b[0m\u001b[0m_num_outputs\u001b[0m\u001b[0;34m,\u001b[0m\u001b[0;34m\u001b[0m\u001b[0;34m\u001b[0m\u001b[0m\n",
      "\u001b[0;32m~/miniforge3/envs/graphLearning/lib/python3.9/site-packages/tensorflow/python/eager/execute.py\u001b[0m in \u001b[0;36mquick_execute\u001b[0;34m(op_name, num_outputs, inputs, attrs, ctx, name)\u001b[0m\n\u001b[1;32m     52\u001b[0m   \u001b[0;32mtry\u001b[0m\u001b[0;34m:\u001b[0m\u001b[0;34m\u001b[0m\u001b[0;34m\u001b[0m\u001b[0m\n\u001b[1;32m     53\u001b[0m     \u001b[0mctx\u001b[0m\u001b[0;34m.\u001b[0m\u001b[0mensure_initialized\u001b[0m\u001b[0;34m(\u001b[0m\u001b[0;34m)\u001b[0m\u001b[0;34m\u001b[0m\u001b[0;34m\u001b[0m\u001b[0m\n\u001b[0;32m---> 54\u001b[0;31m     tensors = pywrap_tfe.TFE_Py_Execute(ctx._handle, device_name, op_name,\n\u001b[0m\u001b[1;32m     55\u001b[0m                                         inputs, attrs, num_outputs)\n\u001b[1;32m     56\u001b[0m   \u001b[0;32mexcept\u001b[0m \u001b[0mcore\u001b[0m\u001b[0;34m.\u001b[0m\u001b[0m_NotOkStatusException\u001b[0m \u001b[0;32mas\u001b[0m \u001b[0me\u001b[0m\u001b[0;34m:\u001b[0m\u001b[0;34m\u001b[0m\u001b[0;34m\u001b[0m\u001b[0m\n",
      "\u001b[0;31mKeyboardInterrupt\u001b[0m: "
     ]
    }
   ],
   "source": [
    "history = model.fit(\n",
    "    trainFeatures,\n",
    "    trainLabels,\n",
    "    validation_data=(valFeatures, valLabels),\n",
    "    epochs=20,\n",
    "    verbose=1)"
   ]
  },
  {
   "cell_type": "code",
   "execution_count": 367,
   "id": "393d6b9b-b4d5-42aa-bbda-e3c481c99c92",
   "metadata": {},
   "outputs": [
    {
     "name": "stderr",
     "output_type": "stream",
     "text": [
      "2022-05-24 23:50:55.919001: I tensorflow/core/grappler/optimizers/custom_graph_optimizer_registry.cc:113] Plugin optimizer for device_type GPU is enabled.\n"
     ]
    },
    {
     "name": "stdout",
     "output_type": "stream",
     "text": [
      "125/125 [==============================] - 24s 185ms/step - loss: 0.6193 - accuracy: 0.6163\n",
      "[0.6193355917930603, 0.6162500381469727]\n"
     ]
    }
   ],
   "source": [
    "results = model.evaluate(x=testFeatures, y=testLabels)\n",
    "print(results)"
   ]
  },
  {
   "cell_type": "code",
   "execution_count": null,
   "id": "7b26e267-81df-4ab1-9154-15f5782ab4e6",
   "metadata": {},
   "outputs": [],
   "source": []
  },
  {
   "cell_type": "code",
   "execution_count": null,
   "id": "f16e48cf-7c8d-42b8-9e00-142d59abae4b",
   "metadata": {},
   "outputs": [],
   "source": []
  },
  {
   "cell_type": "markdown",
   "id": "44d74c84-adee-4013-8db5-099b2d315387",
   "metadata": {},
   "source": [
    "### Convert Data to Graph Format"
   ]
  },
  {
   "cell_type": "code",
   "execution_count": null,
   "id": "a4da8b02-3300-4b21-b226-53205c46a7ca",
   "metadata": {},
   "outputs": [],
   "source": []
  },
  {
   "cell_type": "code",
   "execution_count": null,
   "id": "e844874a-6548-4c95-9657-a781cd2d7a3a",
   "metadata": {},
   "outputs": [],
   "source": []
  },
  {
   "cell_type": "code",
   "execution_count": null,
   "id": "5f208305-1c7c-4e8d-a4a8-f069706163a3",
   "metadata": {},
   "outputs": [],
   "source": []
  },
  {
   "cell_type": "markdown",
   "id": "5b68cf52-38e6-4c1f-8cb7-3646f469beee",
   "metadata": {},
   "source": [
    "### Model and Training"
   ]
  },
  {
   "cell_type": "code",
   "execution_count": null,
   "id": "e93a1a08-9be4-4f91-b82d-09f5111f4e31",
   "metadata": {},
   "outputs": [],
   "source": []
  },
  {
   "cell_type": "code",
   "execution_count": null,
   "id": "8018b431-bcb9-4e8e-9674-80ecf2a10a80",
   "metadata": {},
   "outputs": [],
   "source": []
  },
  {
   "cell_type": "code",
   "execution_count": null,
   "id": "5408b14c-8b35-40ff-ba6c-75b6f9218d5a",
   "metadata": {},
   "outputs": [],
   "source": []
  },
  {
   "cell_type": "markdown",
   "id": "04236345-6d89-41b5-8900-c0da47f81454",
   "metadata": {},
   "source": [
    "### Evaluation"
   ]
  },
  {
   "cell_type": "code",
   "execution_count": null,
   "id": "98721220-143e-4758-816e-e6f117bb9024",
   "metadata": {},
   "outputs": [],
   "source": []
  },
  {
   "cell_type": "code",
   "execution_count": null,
   "id": "9c3c0046-ca83-4996-83c1-81224ff1d3bb",
   "metadata": {},
   "outputs": [],
   "source": []
  }
 ],
 "metadata": {
  "kernelspec": {
   "display_name": "Python 3 (ipykernel)",
   "language": "python",
   "name": "python3"
  },
  "language_info": {
   "codemirror_mode": {
    "name": "ipython",
    "version": 3
   },
   "file_extension": ".py",
   "mimetype": "text/x-python",
   "name": "python",
   "nbconvert_exporter": "python",
   "pygments_lexer": "ipython3",
   "version": "3.9.7"
  }
 },
 "nbformat": 4,
 "nbformat_minor": 5
}
