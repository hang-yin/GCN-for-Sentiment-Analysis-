{
 "cells": [
  {
   "cell_type": "markdown",
   "id": "cosmetic-atlantic",
   "metadata": {},
   "source": [
    "# Summary"
   ]
  },
  {
   "cell_type": "markdown",
   "id": "stopped-investigator",
   "metadata": {},
   "source": [
    "## Task"
   ]
  },
  {
   "cell_type": "markdown",
   "id": "judicial-anxiety",
   "metadata": {},
   "source": [
    "To explore dependency parsing for sentences so that word level graphs can be constructed for the problem of classification"
   ]
  },
  {
   "cell_type": "markdown",
   "id": "indie-clearance",
   "metadata": {},
   "source": [
    "1. Explore how dependency parsing works\n",
    "2. Tokenize sentences and give them to the dependency parser\n",
    "3. Obtain the relationships and check them\n",
    "4. Convert the dependency graphs from the parser into the graphs that can be used for GCN\n",
    "5. Explore GCN and try to build graphs from the parsed dependency graphs\n",
    "6. Perform graph level classification\n",
    "7. Check performance\n",
    "8. Refine the various layers and hyperparameters in the process\n",
    "9. Check final performance\n",
    "10. Do interpreation manually on some selected examples\n",
    "11. Implement edge masking to get the minimum subgraph\n",
    "12. Performe automatic interpretation of the graphs to determine the most important terms/relationships for each sentence"
   ]
  },
  {
   "cell_type": "markdown",
   "id": "basic-internship",
   "metadata": {},
   "source": [
    "## Method"
   ]
  },
  {
   "cell_type": "markdown",
   "id": "hydraulic-gross",
   "metadata": {},
   "source": [
    "* For dependency parsing, we will try to use the tools from the stanford nlp group.\n",
    "* The *[CoreNLP](https://github.com/stanfordnlp/CoreNLP)* library is important as it contains many of the tools needed to performe dependency parsing\n",
    "* The *[stanza](https://github.com/stanfordnlp/stanza)* library offers a wrapped version of CoreNLP that works directly with Python\n",
    "* Visualization of the graphs can be done using *[networkx](https://github.com/networkx/networkx)*\n",
    "* For GCN and word-level graphs we will primarily look at the ideas in this *[tutorial](https://uvadlc-notebooks.readthedocs.io/en/latest/tutorial_notebooks/tutorial7/GNN_overview.html)*\n",
    "* We will try to use the *[spektral](https://github.com/danielegrattarola/spektral/)* library to implement the graphs convolution and attention \n",
    "* *[Link](https://universaldependencies.org/u/dep/)* to explaination of dependency relations."
   ]
  },
  {
   "cell_type": "markdown",
   "id": "constant-beijing",
   "metadata": {},
   "source": [
    "## Dataset"
   ]
  },
  {
   "cell_type": "markdown",
   "id": "coordinate-graphics",
   "metadata": {},
   "source": [
    "The dataset is still IMDB review but we may expand later on"
   ]
  },
  {
   "cell_type": "markdown",
   "id": "actual-kernel",
   "metadata": {},
   "source": [
    "## Results"
   ]
  },
  {
   "cell_type": "markdown",
   "id": "fitted-supervisor",
   "metadata": {},
   "source": [
    "Fill in later"
   ]
  },
  {
   "cell_type": "markdown",
   "id": "material-motel",
   "metadata": {},
   "source": [
    "## Conclusion"
   ]
  },
  {
   "cell_type": "markdown",
   "id": "earlier-morocco",
   "metadata": {},
   "source": [
    "Fill in at the end"
   ]
  },
  {
   "cell_type": "markdown",
   "id": "circular-colonial",
   "metadata": {},
   "source": [
    "# Code"
   ]
  },
  {
   "cell_type": "markdown",
   "id": "addressed-excitement",
   "metadata": {},
   "source": [
    "## Basic Imports"
   ]
  },
  {
   "cell_type": "code",
   "execution_count": null,
   "id": "complete-disease",
   "metadata": {},
   "outputs": [],
   "source": [
    "import numpy as np\n",
    "import pandas as pd\n",
    "import matplotlib.pyplot as plt\n",
    "import stanza\n",
    "import networkx as nx\n",
    "import spacy"
   ]
  },
  {
   "cell_type": "code",
   "execution_count": null,
   "id": "special-latex",
   "metadata": {},
   "outputs": [],
   "source": [
    "stanza.download('en')"
   ]
  },
  {
   "cell_type": "code",
   "execution_count": null,
   "id": "developing-square",
   "metadata": {},
   "outputs": [],
   "source": [
    "import stanzaTools"
   ]
  },
  {
   "cell_type": "markdown",
   "id": "clear-thong",
   "metadata": {},
   "source": [
    "## Part 1: Dependency Parsing"
   ]
  },
  {
   "cell_type": "markdown",
   "id": "certain-consideration",
   "metadata": {},
   "source": [
    "### Testing Stanza"
   ]
  },
  {
   "cell_type": "code",
   "execution_count": null,
   "id": "thrown-cardiff",
   "metadata": {},
   "outputs": [],
   "source": [
    "sampleSentence = \"There is nothing wrong with Apple's new M1 Max Chip, everything works so well! Ok this might be kind of difficult.\""
   ]
  },
  {
   "cell_type": "code",
   "execution_count": null,
   "id": "unsigned-rover",
   "metadata": {},
   "outputs": [],
   "source": [
    "nlp = stanza.Pipeline(\n",
    "    'en',\n",
    "    processors = 'tokenize,mwt,pos,lemma,depparse, sentiment')"
   ]
  },
  {
   "cell_type": "code",
   "execution_count": null,
   "id": "annoying-appliance",
   "metadata": {},
   "outputs": [],
   "source": [
    "doc = nlp(sampleSentence)"
   ]
  },
  {
   "cell_type": "code",
   "execution_count": null,
   "id": "ultimate-recorder",
   "metadata": {
    "tags": []
   },
   "outputs": [],
   "source": [
    "doc.sentences[0]"
   ]
  },
  {
   "cell_type": "code",
   "execution_count": null,
   "id": "ranging-grocery",
   "metadata": {},
   "outputs": [],
   "source": [
    "sent_dict = doc.sentences[0].to_dict()"
   ]
  },
  {
   "cell_type": "markdown",
   "id": "invisible-token",
   "metadata": {},
   "source": [
    "#### tokenRelationHead"
   ]
  },
  {
   "cell_type": "code",
   "execution_count": null,
   "id": "monthly-statement",
   "metadata": {},
   "outputs": [],
   "source": [
    "stanzaTools.tokenRelationHead(sent_dict)"
   ]
  },
  {
   "cell_type": "markdown",
   "id": "attempted-sight",
   "metadata": {
    "tags": []
   },
   "source": [
    "#### getNodeEdgeLists"
   ]
  },
  {
   "cell_type": "code",
   "execution_count": null,
   "id": "outstanding-poverty",
   "metadata": {},
   "outputs": [],
   "source": [
    "def getNodeEdgeLists(doc):\n",
    "    \"\"\"\n",
    "    Parses all the edges in sent_dict and extracts the edges, node labels, and edge labels.\n",
    "    Args:\n",
    "        doc - (stanza.models.common.doc.Document) The doc object\n",
    "    Returns:\n",
    "        nodeList - (list) A list of dictionaries, the keys are the same as the items inside a sentence object.\n",
    "        edgeList - (list) A list of dictionaries, the keys are \"edgePair\", \"edgeLabel\"\n",
    "    \"\"\"\n",
    "    edgeList = []\n",
    "    nodeList = []\n",
    "    modifier = 0 \n",
    "    wordLimit = 50\n",
    "    maxSentences = 3\n",
    "    sentences = []\n",
    "    for sentence in doc.sentences:\n",
    "        if sentence.sentiment != 1:\n",
    "            sentences.append(sentence)\n",
    "    sentences = sentences[0:3]\n",
    "    for sentence in sentences:\n",
    "        for node in sentence.to_dict()[0:wordLimit]:\n",
    "            node['id'] += modifier\n",
    "            node['head'] += modifier\n",
    "            nodeList.append(node)\n",
    "            \n",
    "            # if modifier and node['id'] == modifier + 1:\n",
    "            #     edgePair = (node['id'] - 1, node['id'])\n",
    "            #     edgeLabel = 'nextSentence'\n",
    "            #     edgeList.append(\n",
    "            #         {\n",
    "            #             \"edgePair\" : edgePair,\n",
    "            #             \"edgeLabel\" : edgeLabel\n",
    "            #         }\n",
    "            #     )\n",
    "            if (node['head'] != modifier and node['head'] <= modifier + wordLimit):\n",
    "                # the first is the head and the second is dependent\n",
    "                edgePair = (node['head'], node['id'])\n",
    "                edgeLabel = node['deprel']\n",
    "                edgeList.append(\n",
    "                    {\n",
    "                        \"edgePair\" : edgePair,\n",
    "                        \"edgeLabel\" : edgeLabel,\n",
    "                    }\n",
    "                )\n",
    "        modifier += len(sentence.to_dict()[0:wordLimit])\n",
    "\n",
    "    return nodeList, edgeList"
   ]
  },
  {
   "cell_type": "code",
   "execution_count": null,
   "id": "cardiovascular-scott",
   "metadata": {
    "tags": []
   },
   "outputs": [],
   "source": [
    "doc"
   ]
  },
  {
   "cell_type": "code",
   "execution_count": null,
   "id": "frozen-palestinian",
   "metadata": {},
   "outputs": [],
   "source": [
    "nodeList, edgeList = stanzaTools.getNodeEdgeLists(doc)"
   ]
  },
  {
   "cell_type": "code",
   "execution_count": null,
   "id": "royal-cocktail",
   "metadata": {
    "tags": []
   },
   "outputs": [],
   "source": [
    "doc"
   ]
  },
  {
   "cell_type": "code",
   "execution_count": null,
   "id": "cheap-transcript",
   "metadata": {
    "tags": []
   },
   "outputs": [],
   "source": [
    "nodeList"
   ]
  },
  {
   "cell_type": "markdown",
   "id": "conceptual-joint",
   "metadata": {},
   "source": [
    "#### drawDepGraph"
   ]
  },
  {
   "cell_type": "code",
   "execution_count": null,
   "id": "computational-ridge",
   "metadata": {},
   "outputs": [],
   "source": [
    "stanzaTools.drawDepGraph(nodeList, edgeList)"
   ]
  },
  {
   "cell_type": "markdown",
   "id": "hydraulic-lewis",
   "metadata": {},
   "source": [
    "### Testing Spacy (Ignore for Now)"
   ]
  },
  {
   "cell_type": "code",
   "execution_count": null,
   "id": "respected-resource",
   "metadata": {},
   "outputs": [],
   "source": [
    "import spacy\n",
    "\n",
    "# Load English tokenizer, tagger, parser and NER\n",
    "nlp = spacy.load(\"en_core_web_sm\")\n",
    "\n",
    "# Process whole documents\n",
    "text = sampleSentence\n",
    "doc = nlp(text)\n",
    "# Analyze syntax\n",
    "print(\"Noun phrases:\", [chunk.text for chunk in doc.noun_chunks])\n",
    "print(\"Verbs:\", [token.lemma_ for token in doc if token.pos_ == \"VERB\"])\n",
    "\n",
    "# Find named entities, phrases and concepts\n",
    "for entity in doc.ents:\n",
    "    print(entity.text, entity.label_)    "
   ]
  },
  {
   "cell_type": "code",
   "execution_count": null,
   "id": "behind-circus",
   "metadata": {
    "tags": []
   },
   "outputs": [],
   "source": [
    "spacy.displacy.render(doc, style='dep', jupyter=True, options={'distance': 120})"
   ]
  },
  {
   "cell_type": "code",
   "execution_count": null,
   "id": "surgical-battle",
   "metadata": {},
   "outputs": [],
   "source": [
    "doc"
   ]
  },
  {
   "cell_type": "markdown",
   "id": "weird-capture",
   "metadata": {},
   "source": [
    "### Testing TF Datasets"
   ]
  },
  {
   "cell_type": "code",
   "execution_count": null,
   "id": "chemical-utilization",
   "metadata": {},
   "outputs": [],
   "source": [
    "import tensorflow_datasets as tfds\n",
    "import tensorflow as tf\n",
    "import spacy\n",
    "import tfDatasetTools\n",
    "nlp = spacy.load(\"en_core_web_sm\")"
   ]
  },
  {
   "cell_type": "code",
   "execution_count": null,
   "id": "threatened-toolbox",
   "metadata": {},
   "outputs": [],
   "source": [
    "trainDS = tfds.load('imdb_reviews', split='train', as_supervised=True, shuffle_files=True)\n",
    "testDS = tfds.load('imdb_reviews', split='test', as_supervised=True, shuffle_files=True)"
   ]
  },
  {
   "cell_type": "code",
   "execution_count": null,
   "id": "visible-yeast",
   "metadata": {},
   "outputs": [],
   "source": [
    "part = testDS.take(10)"
   ]
  },
  {
   "cell_type": "markdown",
   "id": "affected-style",
   "metadata": {
    "tags": []
   },
   "source": [
    "#### decodeZeroDimTensor"
   ]
  },
  {
   "cell_type": "markdown",
   "id": "billion-cause",
   "metadata": {},
   "source": [
    "#### convertTakeDataset"
   ]
  },
  {
   "cell_type": "code",
   "execution_count": null,
   "id": "contemporary-representation",
   "metadata": {},
   "outputs": [],
   "source": [
    "features, labels = tfDatasetTools.convertTakeDataset(part)"
   ]
  },
  {
   "cell_type": "code",
   "execution_count": null,
   "id": "eastern-headset",
   "metadata": {},
   "outputs": [],
   "source": [
    "features[0]"
   ]
  },
  {
   "cell_type": "code",
   "execution_count": null,
   "id": "intellectual-mortgage",
   "metadata": {},
   "outputs": [],
   "source": [
    "labels"
   ]
  },
  {
   "cell_type": "code",
   "execution_count": null,
   "id": "fitting-writer",
   "metadata": {},
   "outputs": [],
   "source": [
    "nlp = stanza.Pipeline(\n",
    "    'en',\n",
    "    processors = 'tokenize,mwt,pos,lemma,depparse, sentiment')"
   ]
  },
  {
   "cell_type": "code",
   "execution_count": null,
   "id": "controversial-literacy",
   "metadata": {
    "tags": []
   },
   "outputs": [],
   "source": [
    "doc = nlp(features[1])\n",
    "for sentence in doc.sentences:\n",
    "    print(sentence.text)\n",
    "    print(sentence.sentiment)"
   ]
  },
  {
   "cell_type": "code",
   "execution_count": null,
   "id": "engaged-triple",
   "metadata": {
    "tags": []
   },
   "outputs": [],
   "source": [
    "doc.sentences[1]"
   ]
  },
  {
   "cell_type": "markdown",
   "id": "explicit-reply",
   "metadata": {},
   "source": [
    "### Testing spektral"
   ]
  },
  {
   "cell_type": "code",
   "execution_count": null,
   "id": "understood-basketball",
   "metadata": {},
   "outputs": [],
   "source": [
    "import spektral\n",
    "from spektral.datasets import TUDataset"
   ]
  },
  {
   "cell_type": "code",
   "execution_count": null,
   "id": "introductory-fundamental",
   "metadata": {},
   "outputs": [],
   "source": [
    "dataset = TUDataset('PROTEINS')"
   ]
  },
  {
   "cell_type": "code",
   "execution_count": null,
   "id": "elder-catch",
   "metadata": {},
   "outputs": [],
   "source": [
    "dataset"
   ]
  },
  {
   "cell_type": "code",
   "execution_count": null,
   "id": "living-stockholm",
   "metadata": {},
   "outputs": [],
   "source": [
    "train_datset = dataset[:100]"
   ]
  },
  {
   "cell_type": "code",
   "execution_count": null,
   "id": "worse-feature",
   "metadata": {},
   "outputs": [],
   "source": [
    "test_datset = dataset[100:]"
   ]
  },
  {
   "cell_type": "code",
   "execution_count": null,
   "id": "indonesian-immune",
   "metadata": {},
   "outputs": [],
   "source": [
    "from tensorflow.keras.models import Model\n",
    "from tensorflow.keras.layers import Dense, Dropout\n",
    "from spektral.layers import GCNConv, GlobalSumPool"
   ]
  },
  {
   "cell_type": "code",
   "execution_count": null,
   "id": "advance-evidence",
   "metadata": {},
   "outputs": [],
   "source": [
    "class MyFirstGNN(Model):\n",
    "\n",
    "    def __init__(self, n_hidden, n_labels):\n",
    "        super().__init__()\n",
    "        self.graph_conv = GCNConv(n_hidden)\n",
    "        self.pool = GlobalSumPool()\n",
    "        self.dropout = Dropout(0.5)\n",
    "        self.dense = Dense(n_labels, 'softmax')\n",
    "\n",
    "    def call(self, inputs):\n",
    "        out = self.graph_conv(inputs)\n",
    "        out = self.dropout(out)\n",
    "        out = self.pool(out)\n",
    "        out = self.dense(out)\n",
    "\n",
    "        return out"
   ]
  },
  {
   "cell_type": "code",
   "execution_count": null,
   "id": "empty-april",
   "metadata": {},
   "outputs": [],
   "source": [
    "model = MyFirstGNN(32, dataset.n_labels)\n",
    "model.compile('adam', 'categorical_crossentropy', metrics=['accuracy'])"
   ]
  },
  {
   "cell_type": "code",
   "execution_count": null,
   "id": "promising-launch",
   "metadata": {},
   "outputs": [],
   "source": [
    "from spektral.data import BatchLoader\n",
    "\n",
    "loader = BatchLoader(train_datset, batch_size=32)\n",
    "testLoader = BatchLoader(test_datset, batch_size=32)"
   ]
  },
  {
   "cell_type": "code",
   "execution_count": null,
   "id": "catholic-interest",
   "metadata": {},
   "outputs": [],
   "source": [
    "model.fit(loader.load(),steps_per_epoch=loader.steps_per_epoch, epochs=10)"
   ]
  },
  {
   "cell_type": "code",
   "execution_count": null,
   "id": "polyphonic-cambodia",
   "metadata": {},
   "outputs": [],
   "source": [
    "model.evaluate(testLoader.load(),steps=testLoader.steps_per_epoch)"
   ]
  },
  {
   "cell_type": "code",
   "execution_count": null,
   "id": "russian-trainer",
   "metadata": {},
   "outputs": [],
   "source": [
    "test_datset[12].y"
   ]
  },
  {
   "cell_type": "markdown",
   "id": "moral-cooler",
   "metadata": {},
   "source": [
    "## Part 2: Graph Networks"
   ]
  },
  {
   "cell_type": "markdown",
   "id": "choice-explanation",
   "metadata": {},
   "source": [
    "### Basic Imports"
   ]
  },
  {
   "cell_type": "code",
   "execution_count": 1,
   "id": "funky-structure",
   "metadata": {},
   "outputs": [],
   "source": [
    "import tensorflow_datasets as tfds\n",
    "import tensorflow as tf\n",
    "import numpy as np\n",
    "import pandas as pd\n",
    "import matplotlib.pyplot as plt\n",
    "import stanza\n",
    "import networkx as nx\n",
    "import tensorflow_hub as hub\n",
    "import tensorflow_text\n",
    "import spektral"
   ]
  },
  {
   "cell_type": "code",
   "execution_count": 117,
   "id": "graphic-phenomenon",
   "metadata": {},
   "outputs": [],
   "source": [
    "import stanzaTools\n",
    "import tfDatasetTools\n",
    "import relationEncoder"
   ]
  },
  {
   "cell_type": "markdown",
   "id": "original-newfoundland",
   "metadata": {},
   "source": [
    "### Set up Stanza"
   ]
  },
  {
   "cell_type": "code",
   "execution_count": 3,
   "id": "applied-india",
   "metadata": {},
   "outputs": [
    {
     "data": {
      "application/vnd.jupyter.widget-view+json": {
       "model_id": "06aaac330a28435abd7727de58d5d544",
       "version_major": 2,
       "version_minor": 0
      },
      "text/plain": [
       "Downloading https://raw.githubusercontent.com/stanfordnlp/stanza-resources/main/resources_1.4.0.json:   0%|   …"
      ]
     },
     "metadata": {},
     "output_type": "display_data"
    },
    {
     "name": "stderr",
     "output_type": "stream",
     "text": [
      "2022-05-29 15:29:13 INFO: Downloading default packages for language: en (English)...\n",
      "2022-05-29 15:29:14 INFO: File exists: /Users/zeyuyang/stanza_resources/en/default.zip\n",
      "2022-05-29 15:29:17 INFO: Finished downloading models and saved to /Users/zeyuyang/stanza_resources.\n"
     ]
    }
   ],
   "source": [
    "stanza.download('en')"
   ]
  },
  {
   "cell_type": "code",
   "execution_count": 4,
   "id": "american-lounge",
   "metadata": {},
   "outputs": [
    {
     "data": {
      "application/vnd.jupyter.widget-view+json": {
       "model_id": "816ed031fc2f4f07971ee26e17caa3bb",
       "version_major": 2,
       "version_minor": 0
      },
      "text/plain": [
       "Downloading https://raw.githubusercontent.com/stanfordnlp/stanza-resources/main/resources_1.4.0.json:   0%|   …"
      ]
     },
     "metadata": {},
     "output_type": "display_data"
    },
    {
     "name": "stderr",
     "output_type": "stream",
     "text": [
      "2022-05-29 15:29:17 WARNING: Can not find mwt: default from official model list. Ignoring it.\n",
      "2022-05-29 15:29:18 INFO: Loading these models for language: en (English):\n",
      "========================\n",
      "| Processor | Package  |\n",
      "------------------------\n",
      "| tokenize  | combined |\n",
      "| pos       | combined |\n",
      "| lemma     | combined |\n",
      "| depparse  | combined |\n",
      "| sentiment | sstplus  |\n",
      "========================\n",
      "\n",
      "2022-05-29 15:29:18 INFO: Use device: cpu\n",
      "2022-05-29 15:29:18 INFO: Loading: tokenize\n",
      "2022-05-29 15:29:18 INFO: Loading: pos\n",
      "2022-05-29 15:29:18 INFO: Loading: lemma\n",
      "2022-05-29 15:29:18 INFO: Loading: depparse\n",
      "2022-05-29 15:29:18 INFO: Loading: sentiment\n",
      "2022-05-29 15:29:18 INFO: Done loading processors!\n"
     ]
    }
   ],
   "source": [
    "nlp = stanza.Pipeline(\n",
    "    'en',\n",
    "    processors = 'tokenize,mwt,pos,lemma,depparse, sentiment')"
   ]
  },
  {
   "cell_type": "markdown",
   "id": "expected-coordinator",
   "metadata": {},
   "source": [
    "#### createGraph"
   ]
  },
  {
   "cell_type": "code",
   "execution_count": 5,
   "id": "descending-wallpaper",
   "metadata": {},
   "outputs": [
    {
     "data": {
      "text/plain": [
       "<module 'tfDatasetTools' from '/Users/zeyuyang/Projects/CS397Project/tfDatasetTools.py'>"
      ]
     },
     "execution_count": 5,
     "metadata": {},
     "output_type": "execute_result"
    }
   ],
   "source": [
    "from importlib import reload\n",
    "reload(stanzaTools)\n",
    "reload(tfDatasetTools)"
   ]
  },
  {
   "cell_type": "code",
   "execution_count": 138,
   "id": "034e37c7-eb6d-46d6-a4e4-d43ebff3e657",
   "metadata": {},
   "outputs": [],
   "source": [
    "relationsDict = relationEncoder.getRelationsDict()"
   ]
  },
  {
   "cell_type": "code",
   "execution_count": 262,
   "id": "cooked-aging",
   "metadata": {},
   "outputs": [],
   "source": [
    "def createGraph(doc, positive):\n",
    "    startTime = time.perf_counter()\n",
    "    nodeList, edgeList = stanzaTools.getNodeEdgeLists(doc)\n",
    "    nodeTime = time.perf_counter()\n",
    "    words = [item['text'] for item in nodeList]\n",
    "    convertedFeatures = stanzaTools.convertToEmbedding(words, preprocessor, encoder)\n",
    "    adjacencyMatrix = stanzaTools.createAdjacencyMatrix(edgeList, len(nodeList))\n",
    "    convertTime = time.perf_counter()\n",
    "    edgeFeatures = relationEncoder.OneHotEncode(relationsDict, [edge['edgeLabel'] for edge in edgeList])\n",
    "    encodeTime = time.perf_counter()\n",
    "    label = np.array([positive])\n",
    "    print([nodeTime - startTime, convertTime  - nodeTime, encodeTime - convertTime])\n",
    "    # newGraph = spektral.data.graph.Graph(x=convertedFeatures, a=adjacencyMatrix, y=label)\n",
    "    return (convertedFeatures, adjacencyMatrix, edgeFeatures, label)"
   ]
  },
  {
   "cell_type": "markdown",
   "id": "maritime-enough",
   "metadata": {},
   "source": [
    "### Load Data"
   ]
  },
  {
   "cell_type": "code",
   "execution_count": 141,
   "id": "native-friendship",
   "metadata": {},
   "outputs": [],
   "source": [
    "trainDS = tfds.load('imdb_reviews', split='train', as_supervised=True, shuffle_files=True)\n",
    "testDS = tfds.load('imdb_reviews', split='test', as_supervised=True, shuffle_files=True)"
   ]
  },
  {
   "cell_type": "markdown",
   "id": "related-literacy",
   "metadata": {},
   "source": [
    "#### Set a Limit"
   ]
  },
  {
   "cell_type": "code",
   "execution_count": 223,
   "id": "neutral-appointment",
   "metadata": {},
   "outputs": [],
   "source": [
    "trainLimit = 20\n",
    "testLimit = 20\n",
    "\n",
    "trainSubset = trainDS.take(trainLimit)\n",
    "testSubset = testDS.take(testLimit)"
   ]
  },
  {
   "cell_type": "code",
   "execution_count": 224,
   "id": "driven-guarantee",
   "metadata": {},
   "outputs": [],
   "source": [
    "validationSplit = 0.5\n",
    "validationIndex = int(validationSplit * trainLimit)\n",
    "\n",
    "validationSplitSubset = trainSubset.take(validationIndex)\n",
    "trainSplitSubset = trainSubset.skip(validationIndex)"
   ]
  },
  {
   "cell_type": "code",
   "execution_count": 225,
   "id": "complicated-panama",
   "metadata": {},
   "outputs": [
    {
     "name": "stderr",
     "output_type": "stream",
     "text": [
      "2022-05-29 20:25:08.140155: W tensorflow/core/kernels/data/cache_dataset_ops.cc:768] The calling iterator did not fully read the dataset being cached. In order to avoid unexpected truncation of the dataset, the partially cached contents of the dataset  will be discarded. This can happen if you have an input pipeline similar to `dataset.cache().take(k).repeat()`. You should use `dataset.take(k).cache().repeat()` instead.\n",
      "2022-05-29 20:25:08.156612: W tensorflow/core/kernels/data/cache_dataset_ops.cc:768] The calling iterator did not fully read the dataset being cached. In order to avoid unexpected truncation of the dataset, the partially cached contents of the dataset  will be discarded. This can happen if you have an input pipeline similar to `dataset.cache().take(k).repeat()`. You should use `dataset.take(k).cache().repeat()` instead.\n",
      "2022-05-29 20:25:08.173549: W tensorflow/core/kernels/data/cache_dataset_ops.cc:768] The calling iterator did not fully read the dataset being cached. In order to avoid unexpected truncation of the dataset, the partially cached contents of the dataset  will be discarded. This can happen if you have an input pipeline similar to `dataset.cache().take(k).repeat()`. You should use `dataset.take(k).cache().repeat()` instead.\n"
     ]
    }
   ],
   "source": [
    "trainFeatures, trainLabels = tfDatasetTools.convertTakeDataset(trainSplitSubset)\n",
    "valFeatures, valLabels = tfDatasetTools.convertTakeDataset(validationSplitSubset)\n",
    "testFeatures, testLabels = tfDatasetTools.convertTakeDataset(testSubset)"
   ]
  },
  {
   "cell_type": "markdown",
   "id": "19d15ba0-9789-4540-aa32-0297f0c38359",
   "metadata": {},
   "source": [
    "##### Checking trainFeatures and functions"
   ]
  },
  {
   "cell_type": "code",
   "execution_count": 226,
   "id": "alien-packing",
   "metadata": {},
   "outputs": [
    {
     "name": "stdout",
     "output_type": "stream",
     "text": [
      "During a sleepless night, I was switching through the channels & found this embarrassment of a movie. What were they thinking?  If this is life after \"Remote Control\" for Kari (Wuhrer) Salin, no wonder she's gone nowhere.  And why did David Keith take this role? It's pathetic!  Anyway, I turned on the movie near the end, so I didn't get much of the plot. But this must've been the best part. This nerdy college kid brings home this dominatrix-ish girl...this scene is straight out of the comic books -- or the cheap porn movies. She calls the mother anal retentive and kisses the father \"Oh, I didn't expect tongue!\" Great lines!  After this, I had to see how it ended..  Well, of course, this bitch from hell has a helluva past, so the SWAT team is upstairs. And yes...they surround her! And YES YES! The kid blows her brains out!!!! AHAHHAHAHAHA!!  This is must-see TV.   \n"
     ]
    }
   ],
   "source": [
    "print(trainFeatures[0])"
   ]
  },
  {
   "cell_type": "code",
   "execution_count": 146,
   "id": "destroyed-mechanics",
   "metadata": {},
   "outputs": [],
   "source": [
    "doc = nlp(trainFeatures[0])"
   ]
  },
  {
   "cell_type": "code",
   "execution_count": 147,
   "id": "bibliographic-procurement",
   "metadata": {
    "tags": []
   },
   "outputs": [
    {
     "name": "stdout",
     "output_type": "stream",
     "text": [
      "I have been known to fall asleep during films, but this is usually due to a combination of things including, really tired, being warm and comfortable on the sette and having just eaten a lot.\n",
      "0\n",
      "However on this occasion I fell asleep because the film was rubbish.\n",
      "0\n",
      "The plot development was constant.\n",
      "1\n",
      "Constantly slow and boring.\n",
      "0\n",
      "Things seemed to happen, but with no explanation of what was causing them or why.\n",
      "0\n",
      "I admit, I may have missed part of the film, but i watched the majority of it and everything just seemed to happen of its own accord without any real concern for anything else.\n",
      "0\n",
      "I cant recommend this film at all.\n",
      "2\n"
     ]
    }
   ],
   "source": [
    "for sentence in doc.sentences:\n",
    "    print(sentence.text)\n",
    "    print(sentence.sentiment)"
   ]
  },
  {
   "cell_type": "code",
   "execution_count": 148,
   "id": "underlying-assurance",
   "metadata": {},
   "outputs": [],
   "source": [
    "nodeList, edgeList = stanzaTools.getNodeEdgeLists(doc)"
   ]
  },
  {
   "cell_type": "code",
   "execution_count": 149,
   "id": "35a92dc2-ddc9-4388-9ca0-89b09b736508",
   "metadata": {
    "collapsed": true,
    "jupyter": {
     "outputs_hidden": true
    },
    "tags": []
   },
   "outputs": [
    {
     "data": {
      "text/plain": [
       "[{'id': 1,\n",
       "  'text': 'I',\n",
       "  'lemma': 'I',\n",
       "  'upos': 'PRON',\n",
       "  'xpos': 'PRP',\n",
       "  'feats': 'Case=Nom|Number=Sing|Person=1|PronType=Prs',\n",
       "  'head': 4,\n",
       "  'deprel': 'nsubj:pass',\n",
       "  'start_char': 0,\n",
       "  'end_char': 1},\n",
       " {'id': 2,\n",
       "  'text': 'have',\n",
       "  'lemma': 'have',\n",
       "  'upos': 'AUX',\n",
       "  'xpos': 'VBP',\n",
       "  'feats': 'Mood=Ind|Number=Sing|Person=1|Tense=Pres|VerbForm=Fin',\n",
       "  'head': 4,\n",
       "  'deprel': 'aux',\n",
       "  'start_char': 2,\n",
       "  'end_char': 6},\n",
       " {'id': 3,\n",
       "  'text': 'been',\n",
       "  'lemma': 'be',\n",
       "  'upos': 'AUX',\n",
       "  'xpos': 'VBN',\n",
       "  'feats': 'Tense=Past|VerbForm=Part',\n",
       "  'head': 4,\n",
       "  'deprel': 'aux:pass',\n",
       "  'start_char': 7,\n",
       "  'end_char': 11},\n",
       " {'id': 4,\n",
       "  'text': 'known',\n",
       "  'lemma': 'know',\n",
       "  'upos': 'VERB',\n",
       "  'xpos': 'VBN',\n",
       "  'feats': 'Tense=Past|VerbForm=Part|Voice=Pass',\n",
       "  'head': 0,\n",
       "  'deprel': 'root',\n",
       "  'start_char': 12,\n",
       "  'end_char': 17},\n",
       " {'id': 5,\n",
       "  'text': 'to',\n",
       "  'lemma': 'to',\n",
       "  'upos': 'PART',\n",
       "  'xpos': 'TO',\n",
       "  'head': 6,\n",
       "  'deprel': 'mark',\n",
       "  'start_char': 18,\n",
       "  'end_char': 20}]"
      ]
     },
     "execution_count": 149,
     "metadata": {},
     "output_type": "execute_result"
    }
   ],
   "source": [
    "nodeList[0:5]"
   ]
  },
  {
   "cell_type": "code",
   "execution_count": 150,
   "id": "6835d946-1cf6-4ea5-8c6a-49fabc7cf50d",
   "metadata": {},
   "outputs": [],
   "source": [
    "adjacencyMatrix = stanzaTools.createAdjacencyMatrix(edgeList, len(nodeList))"
   ]
  },
  {
   "cell_type": "code",
   "execution_count": 151,
   "id": "attempted-movement",
   "metadata": {},
   "outputs": [
    {
     "data": {
      "image/png": "[encoded data removed]",
      "text/plain": [
       "<Figure size 864x864 with 1 Axes>"
      ]
     },
     "metadata": {},
     "output_type": "display_data"
    }
   ],
   "source": [
    "stanzaTools.drawDepGraph(nodeList, edgeList)"
   ]
  },
  {
   "cell_type": "markdown",
   "id": "dependent-paper",
   "metadata": {
    "tags": []
   },
   "source": [
    "#### Bert Embeddings"
   ]
  },
  {
   "cell_type": "code",
   "execution_count": 152,
   "id": "current-jesus",
   "metadata": {},
   "outputs": [],
   "source": [
    "tf.keras.backend.clear_session()"
   ]
  },
  {
   "cell_type": "code",
   "execution_count": 153,
   "id": "multiple-distributor",
   "metadata": {
    "tags": []
   },
   "outputs": [
    {
     "name": "stderr",
     "output_type": "stream",
     "text": [
      "2022-05-29 20:10:42.877579: I tensorflow/core/grappler/optimizers/custom_graph_optimizer_registry.cc:113] Plugin optimizer for device_type GPU is enabled.\n"
     ]
    }
   ],
   "source": [
    "# Preprocess and encode input\n",
    "text_input = tf.keras.layers.Input(shape=(), dtype=tf.string)\n",
    "\n",
    "preprocessor = hub.KerasLayer('https://tfhub.dev/tensorflow/bert_en_uncased_preprocess/3')\n",
    "encoder_inputs = preprocessor(text_input)\n",
    "\n",
    "encoder = hub.KerasLayer('https://tfhub.dev/tensorflow/small_bert/bert_en_uncased_L-2_H-128_A-2/2',trainable=False)\n",
    "\n",
    "outputs = encoder(encoder_inputs)\n",
    "\n",
    "pooled_output = outputs['pooled_output'] # [batch_size, 128].\n",
    "# [batch_size, seq_length, 128].\n",
    "\n",
    "sequence_output = outputs['sequence_output']"
   ]
  },
  {
   "cell_type": "code",
   "execution_count": null,
   "id": "foster-guitar",
   "metadata": {},
   "outputs": [],
   "source": []
  },
  {
   "cell_type": "markdown",
   "id": "canadian-industry",
   "metadata": {
    "tags": []
   },
   "source": [
    "##### Sample Convert to Embedding"
   ]
  },
  {
   "cell_type": "code",
   "execution_count": 159,
   "id": "major-condition",
   "metadata": {},
   "outputs": [],
   "source": [
    "text = \"hello there who are you hello there who are you hello there who are you hello there who are you hello there who are you hello there who are you\"\n",
    "words = text.split()\n",
    "converted = stanzaTools.convertToEmbedding(words, preprocessor, encoder)"
   ]
  },
  {
   "cell_type": "code",
   "execution_count": 160,
   "id": "light-snake",
   "metadata": {},
   "outputs": [
    {
     "data": {
      "text/plain": [
       "(30, 128)"
      ]
     },
     "execution_count": 160,
     "metadata": {},
     "output_type": "execute_result"
    }
   ],
   "source": [
    "converted.shape"
   ]
  },
  {
   "cell_type": "code",
   "execution_count": 163,
   "id": "coordinate-softball",
   "metadata": {},
   "outputs": [],
   "source": [
    "converted = stanzaTools.convertToEmbedding(['!'], preprocessor, encoder)"
   ]
  },
  {
   "cell_type": "code",
   "execution_count": 164,
   "id": "international-hungary",
   "metadata": {},
   "outputs": [],
   "source": [
    "word = ['hello', 'there']\n",
    "convertedWords = stanzaTools.convertToEmbedding(word, preprocessor, encoder)"
   ]
  },
  {
   "cell_type": "code",
   "execution_count": 165,
   "id": "recorded-dealer",
   "metadata": {},
   "outputs": [
    {
     "data": {
      "text/plain": [
       "(2, 128)"
      ]
     },
     "execution_count": 165,
     "metadata": {},
     "output_type": "execute_result"
    }
   ],
   "source": [
    "convertedWords.shape"
   ]
  },
  {
   "cell_type": "markdown",
   "id": "da6de07d-5213-43a9-8165-75357ad7b281",
   "metadata": {},
   "source": [
    "##### Example non-graph Model"
   ]
  },
  {
   "cell_type": "code",
   "execution_count": null,
   "id": "front-avenue",
   "metadata": {},
   "outputs": [],
   "source": [
    "def sampleModel():\n",
    "    inputs = text_input\n",
    "    preprocessorLayer = preprocessor(inputs)['input_word_ids']\n",
    "    \n",
    "    embedding_layer = tf.keras.layers.Embedding(10000,\n",
    "                                                128)(preprocessorLayer)\n",
    "    # embedding_layer = encoder(preprocessorLayer)['pooled_output']\n",
    "    \n",
    "    flatten = tf.keras.layers.Flatten()(embedding_layer)\n",
    "    dense_layer = tf.keras.layers.Dense(16, activation='relu')(flatten)\n",
    "    outputs = tf.keras.layers.Dense(1)(dense_layer)\n",
    "\n",
    "    return tf.keras.Model(inputs=inputs, outputs=outputs)"
   ]
  },
  {
   "cell_type": "code",
   "execution_count": null,
   "id": "preliminary-amateur",
   "metadata": {},
   "outputs": [],
   "source": [
    "tf.keras.backend.clear_session()\n",
    "model = sampleModel()\n",
    "model.summary()"
   ]
  },
  {
   "cell_type": "code",
   "execution_count": null,
   "id": "beginning-tiffany",
   "metadata": {},
   "outputs": [],
   "source": [
    "model.compile(\n",
    "    optimizer='rmsprop',\n",
    "    loss=tf.keras.losses.BinaryCrossentropy(from_logits=True),\n",
    "    metrics=['accuracy'])"
   ]
  },
  {
   "cell_type": "code",
   "execution_count": null,
   "id": "recreational-buffalo",
   "metadata": {
    "tags": []
   },
   "outputs": [],
   "source": [
    "history = model.fit(\n",
    "    trainFeatures,\n",
    "    trainLabels,\n",
    "    validation_data=(valFeatures, valLabels),\n",
    "    epochs=20,\n",
    "    verbose=1)"
   ]
  },
  {
   "cell_type": "code",
   "execution_count": null,
   "id": "beneficial-gates",
   "metadata": {},
   "outputs": [],
   "source": [
    "results = model.evaluate(x=testFeatures, y=testLabels)\n",
    "print(results)"
   ]
  },
  {
   "cell_type": "markdown",
   "id": "genuine-application",
   "metadata": {},
   "source": [
    "### Convert Data to Graph Format"
   ]
  },
  {
   "cell_type": "code",
   "execution_count": 228,
   "id": "double-prophet",
   "metadata": {},
   "outputs": [
    {
     "name": "stderr",
     "output_type": "stream",
     "text": [
      "2022-05-29 20:26:20.939451: I tensorflow/core/grappler/optimizers/custom_graph_optimizer_registry.cc:113] Plugin optimizer for device_type GPU is enabled.\n",
      "2022-05-29 20:26:21.235888: I tensorflow/core/grappler/optimizers/custom_graph_optimizer_registry.cc:113] Plugin optimizer for device_type GPU is enabled.\n"
     ]
    }
   ],
   "source": [
    "trainGraphs = []\n",
    "for i in range(len(trainFeatures)):\n",
    "    sentence = trainFeatures[i]\n",
    "    label = trainLabels[i]\n",
    "    doc = nlp(sentence)\n",
    "    newGraph = createGraph(doc, label)\n",
    "    trainGraphs.append(newGraph)"
   ]
  },
  {
   "cell_type": "code",
   "execution_count": 229,
   "id": "falling-creation",
   "metadata": {
    "tags": []
   },
   "outputs": [
    {
     "data": {
      "text/plain": [
       "10"
      ]
     },
     "execution_count": 229,
     "metadata": {},
     "output_type": "execute_result"
    }
   ],
   "source": [
    "len(trainGraphs)"
   ]
  },
  {
   "cell_type": "code",
   "execution_count": 240,
   "id": "42961004-89e0-41d7-b0fe-1ab98a98f387",
   "metadata": {},
   "outputs": [],
   "source": [
    "sentences = []\n",
    "labels = []\n",
    "for i in range(len(trainFeatures)):\n",
    "    sentence = trainFeatures[i]\n",
    "    label = trainLabels[i]\n",
    "    sentences.append(sentence)\n",
    "    labels.append(label)"
   ]
  },
  {
   "cell_type": "code",
   "execution_count": 246,
   "id": "d0a2cb05-a626-4d98-acae-c56e4fc8ec76",
   "metadata": {},
   "outputs": [],
   "source": [
    "import time"
   ]
  },
  {
   "cell_type": "code",
   "execution_count": 257,
   "id": "9eda0e62-b80c-47b8-929d-6fff7971b874",
   "metadata": {},
   "outputs": [
    {
     "name": "stdout",
     "output_type": "stream",
     "text": [
      "4.276242957999784\n"
     ]
    }
   ],
   "source": [
    "startTime = time.perf_counter()\n",
    "docs = []\n",
    "for sentence in sentences:\n",
    "    doc = nlp(sentence)\n",
    "    docs.append(doc)\n",
    "timeElapsed = time.perf_counter() - startTime\n",
    "print(timeElapsed)"
   ]
  },
  {
   "cell_type": "code",
   "execution_count": 254,
   "id": "7da9024c-bd9b-4e8b-87d3-ccf21aa637bd",
   "metadata": {},
   "outputs": [],
   "source": [
    "performanceTest = []"
   ]
  },
  {
   "cell_type": "code",
   "execution_count": 264,
   "id": "51561309-1bb7-460c-843c-0fbf69cbe06e",
   "metadata": {},
   "outputs": [
    {
     "name": "stdout",
     "output_type": "stream",
     "text": [
      "[0.000859291001688689, 0.40942295900094905, 1.716599945211783e-05]\n",
      "[0.0010349169970140792, 2.1251106250019802, 3.83749975298997e-05]\n",
      "[0.0007792910000716802, 1.77322333399934, 4.9791000492405146e-05]\n",
      "[0.0008092909993138164, 1.4423700840015954, 2.8832997486460954e-05]\n",
      "[0.0006208750019141007, 0.9144882500004314, 2.3666998458793387e-05]\n",
      "[0.00018395799997961149, 0.1375348750007106, 1.2583001080201939e-05]\n",
      "[0.0007279169985849876, 1.1104839170002379, 2.787500125123188e-05]\n",
      "[0.0003725830028997734, 0.43011016699892934, 2.0457999198697507e-05]\n",
      "[0.0006801250019634608, 1.446266208000452, 4.958299905410968e-05]\n",
      "[0.0008318340005644131, 1.6648500000010245, 3.3958000130951405e-05]\n",
      "11.462327249999362\n"
     ]
    }
   ],
   "source": [
    "startTime = time.perf_counter()\n",
    "for i in range(len(docs)):\n",
    "    doc = docs[i]\n",
    "    label = labels[i]\n",
    "    newGraph = createGraph(doc, label)\n",
    "    performanceTest.append(newGraph)\n",
    "timeElapsed = time.perf_counter() - startTime\n",
    "print(timeElapsed)"
   ]
  },
  {
   "cell_type": "code",
   "execution_count": 230,
   "id": "forbidden-slide",
   "metadata": {},
   "outputs": [],
   "source": [
    "validationGraphs = []\n",
    "\n",
    "for i in range(len(valFeatures)):\n",
    "    sentence = valFeatures[i]\n",
    "    label = valLabels[i]\n",
    "    doc = nlp(sentence)\n",
    "    newGraph = createGraph(doc, label)\n",
    "    validationGraphs.append(newGraph)"
   ]
  },
  {
   "cell_type": "code",
   "execution_count": 231,
   "id": "noble-tunisia",
   "metadata": {},
   "outputs": [
    {
     "data": {
      "text/plain": [
       "10"
      ]
     },
     "execution_count": 231,
     "metadata": {},
     "output_type": "execute_result"
    }
   ],
   "source": [
    "len(validationGraphs)"
   ]
  },
  {
   "cell_type": "markdown",
   "id": "deluxe-globe",
   "metadata": {},
   "source": [
    "#### Custom Graph Datasets"
   ]
  },
  {
   "cell_type": "code",
   "execution_count": 172,
   "id": "stone-booking",
   "metadata": {},
   "outputs": [],
   "source": [
    "from spektral.data import Dataset \n",
    "from spektral.data.graph import Graph\n",
    "import os"
   ]
  },
  {
   "cell_type": "code",
   "execution_count": 195,
   "id": "specified-vector",
   "metadata": {},
   "outputs": [],
   "source": [
    "class TrainDataset(Dataset):\n",
    "    \"\"\"\n",
    "    A dataset of train graphs.\n",
    "    \"\"\"\n",
    "    def __init__(self, **kwargs):\n",
    "        # self.path = savePath\n",
    "        self.download()\n",
    "        super().__init__(**kwargs)\n",
    "    \n",
    "    def download(self):\n",
    "        # data = ... \n",
    "        # Download from somewhere\n",
    "\n",
    "        # Create the directory\n",
    "        try:\n",
    "            os.mkdir(self.path)\n",
    "        except:\n",
    "            pass\n",
    "\n",
    "        # Write the data to file\n",
    "        for i in range(len(trainGraphs)):\n",
    "            x = trainGraphs[i][0]\n",
    "            a = trainGraphs[i][1]\n",
    "            e = trainGraphs[i][2]\n",
    "            y = trainGraphs[i][3]\n",
    "\n",
    "            filename = os.path.join(self.path, f'graph_{i}')\n",
    "            np.savez(filename, x=x, a=a, e=e, y=y)\n",
    "            \n",
    "\n",
    "    def read(self):\n",
    "        # We must return a list of Graph objects\n",
    "        output = []\n",
    "\n",
    "        for i in range(len(trainGraphs)):\n",
    "            data = np.load(os.path.join(self.path, f'graph_{i}.npz'), allow_pickle=True)\n",
    "            # print(data['a'])\n",
    "            output.append(\n",
    "                Graph(x=data['x'], a=data['a'], e=data['e'], y=data['y'])\n",
    "            )\n",
    "        return output"
   ]
  },
  {
   "cell_type": "code",
   "execution_count": 196,
   "id": "reduced-tokyo",
   "metadata": {},
   "outputs": [],
   "source": [
    "class ValDataset(Dataset):\n",
    "    \"\"\"\n",
    "    A dataset of val graphs.\n",
    "    \"\"\"\n",
    "    def __init__(self, **kwargs):\n",
    "        # self.path = savePath\n",
    "        self.download()\n",
    "        super().__init__(**kwargs)\n",
    "    \n",
    "    def download(self):\n",
    "        # data = ... \n",
    "        # Download from somewhere\n",
    "\n",
    "        # Create the directory\n",
    "        try:\n",
    "            os.mkdir(self.path)\n",
    "        except:\n",
    "            pass\n",
    "\n",
    "        # Write the data to file\n",
    "        for i in range(len(validationGraphs)):\n",
    "            x = validationGraphs[i][0]\n",
    "            a = validationGraphs[i][1]\n",
    "            e = validationGraphs[i][2]\n",
    "            y = validationGraphs[i][3]\n",
    "\n",
    "            filename = os.path.join(self.path, f'graph_val_{i}')\n",
    "            np.savez(filename, x=x, a=a, e=e, y=y)\n",
    "            \n",
    "\n",
    "    def read(self):\n",
    "        # We must return a list of Graph objects\n",
    "        output = []\n",
    "\n",
    "        for i in range(len(validationGraphs)):\n",
    "            data = np.load(os.path.join(self.path, f'graph_val_{i}.npz'), allow_pickle=True)\n",
    "            # print(data['a'])\n",
    "            output.append(\n",
    "                Graph(x=data['x'], a=data['a'], e=data['e'], y=data['y'])\n",
    "            )\n",
    "        return output"
   ]
  },
  {
   "cell_type": "code",
   "execution_count": 197,
   "id": "0694682e-db68-4ccb-ace1-fe3dd995cda6",
   "metadata": {},
   "outputs": [],
   "source": [
    "def loadValGraph(graphDir, index):\n",
    "    data = np.load(os.path.join(graphDir, f'graph_val_{index}.npz'), allow_pickle=True)\n",
    "    graph = Graph(x=data['x'], a=data['a'], e=data['e'], y=data['y'])\n",
    "    return graph\n",
    "\n",
    "def loadTrainGraph(graphDir, index):\n",
    "    data = np.load(os.path.join(graphDir, f'graph_{index}.npz'), allow_pickle=True)\n",
    "    graph = Graph(x=data['x'], a=data['a'], e=data['e'], y=data['y'])\n",
    "    return graph"
   ]
  },
  {
   "cell_type": "code",
   "execution_count": 198,
   "id": "1ecb711e-a662-4a23-bd35-0945506a9dfc",
   "metadata": {},
   "outputs": [],
   "source": [
    "# to load prev generated val graphs\n",
    "# valGraphDir = '/Users/zeyuyang/spektral/datasets/ValDataset'\n",
    "# valGraphNum = 100\n",
    "# validationGraphs = [loadValGraph(valGraphDir, i) for i in range(valGraphNum)]"
   ]
  },
  {
   "cell_type": "code",
   "execution_count": 204,
   "id": "sophisticated-reservation",
   "metadata": {},
   "outputs": [
    {
     "data": {
      "text/plain": [
       "ValDataset(n_graphs=1)"
      ]
     },
     "execution_count": 204,
     "metadata": {},
     "output_type": "execute_result"
    }
   ],
   "source": [
    "valDataset = ValDataset()\n",
    "valDataset"
   ]
  },
  {
   "cell_type": "code",
   "execution_count": 202,
   "id": "bdffbbdd-01ec-4876-8f1c-c6f6b59fd019",
   "metadata": {},
   "outputs": [],
   "source": [
    "# to load prev generated train graphs\n",
    "# trainGraphDir = '/Users/zeyuyang/spektral/datasets/TrainDataset'\n",
    "# trainGraphNum = 100\n",
    "# trainGraphs = [loadTrainGraph(trainGraphDir, i) for i in range(trainGraphNum)]"
   ]
  },
  {
   "cell_type": "code",
   "execution_count": 205,
   "id": "amateur-district",
   "metadata": {},
   "outputs": [
    {
     "data": {
      "text/plain": [
       "TrainDataset(n_graphs=1)"
      ]
     },
     "execution_count": 205,
     "metadata": {},
     "output_type": "execute_result"
    }
   ],
   "source": [
    "trainDataset = TrainDataset()\n",
    "trainDataset"
   ]
  },
  {
   "cell_type": "markdown",
   "id": "satisfied-alexander",
   "metadata": {},
   "source": [
    "### Model and Training"
   ]
  },
  {
   "cell_type": "code",
   "execution_count": 206,
   "id": "brave-rally",
   "metadata": {},
   "outputs": [],
   "source": [
    "from tensorflow.keras.models import Model\n",
    "from tensorflow.keras.layers import Dense, Dropout, Conv1D, Embedding\n",
    "from spektral.layers import GCNConv, GlobalSumPool"
   ]
  },
  {
   "cell_type": "code",
   "execution_count": 219,
   "id": "advance-explosion",
   "metadata": {},
   "outputs": [],
   "source": [
    "class MyFirstGNN(Model):\n",
    "\n",
    "    def __init__(self, n_hidden, n_labels):\n",
    "        super().__init__()\n",
    "        self.graph_conv = GCNConv(n_hidden)\n",
    "        self.graph_conv2 = GCNConv(16)\n",
    "        self.graph_conv3 = GCNConv(16)\n",
    "        self.graph_conv4 = GCNConv(4)\n",
    "        self.pool = GlobalSumPool()\n",
    "        self.AGNNCONV = spektral.layers.AGNNConv(trainable=True, aggregate='sum', activation=None)\n",
    "        self.GenConv = spektral.layers.GeneralConv(channels=n_hidden, batch_norm=True, dropout=0.0,\n",
    "                                                   aggregate='sum', activation='prelu', use_bias=True,\n",
    "                                                   kernel_initializer='glorot_uniform', bias_initializer='zeros',\n",
    "                                                   kernel_regularizer=None, bias_regularizer=None, activity_regularizer=None,\n",
    "                                                   kernel_constraint=None, bias_constraint=None)\n",
    "        self.graphAtten = spektral.layers.GATConv(channels=n_hidden, attn_heads=5,\n",
    "                                                  concat_heads=True, dropout_rate=0.2, return_attn_coef=False,\n",
    "                                                  add_self_loops=True, activation=None, use_bias=True, kernel_initializer='glorot_uniform',\n",
    "                                                  bias_initializer='zeros', attn_kernel_initializer='glorot_uniform', kernel_regularizer=None,\n",
    "                                                  bias_regularizer=None, attn_kernel_regularizer=None, activity_regularizer=None,\n",
    "                                                  kernel_constraint=None, bias_constraint=None, attn_kernel_constraint=None)\n",
    "        self.maxPool = spektral.layers.GlobalMaxPool()\n",
    "        self.dropout = Dropout(0.2)\n",
    "        self.dense1 = Dense(64, activation='relu')\n",
    "        self.dropout2 = Dropout(0.2)\n",
    "        self.dense2 = Dense(16, activation='relu')\n",
    "        self.dense = Dense(1, 'sigmoid')\n",
    "\n",
    "    def call(self, inputs):\n",
    "        x, a, e, i = inputs\n",
    "        x = self.graph_conv([x,a])\n",
    "        # x = self.graph_conv2([x,a])\n",
    "        # x = self.graph_conv3([x,a])\n",
    "        # x = self.graph_conv4([x,a])\n",
    "        # out = self.pool(out)\n",
    "        out = self.maxPool([x, i])\n",
    "        # out = self.dense1(out)\n",
    "        out = self.dropout2(out)\n",
    "        # out = self.dense2(out)\n",
    "        out = self.dense(out)\n",
    "        return out"
   ]
  },
  {
   "cell_type": "code",
   "execution_count": 212,
   "id": "aboriginal-white",
   "metadata": {},
   "outputs": [],
   "source": [
    "tf.keras.backend.clear_session()\n",
    "model = MyFirstGNN(64, 1)\n",
    "model.compile('adam', 'binary_crossentropy', metrics=['accuracy',])"
   ]
  },
  {
   "cell_type": "code",
   "execution_count": 213,
   "id": "white-resistance",
   "metadata": {},
   "outputs": [],
   "source": [
    "from spektral import models"
   ]
  },
  {
   "cell_type": "code",
   "execution_count": 214,
   "id": "wooden-footwear",
   "metadata": {},
   "outputs": [],
   "source": [
    "# tf.keras.backend.clear_session()\n",
    "# model = spektral.models.general_gnn.GeneralGNN(1, activation=None, hidden=256, message_passing=4, pre_process=2, post_process=2, connectivity='cat', batch_norm=True, dropout=0.0, aggregate='sum', hidden_activation='prelu', pool='sum')\n",
    "# model.compile('adam', 'binary_crossentropy', metrics=['accuracy',])"
   ]
  },
  {
   "cell_type": "code",
   "execution_count": 215,
   "id": "running-intake",
   "metadata": {},
   "outputs": [],
   "source": [
    "from spektral.data import BatchLoader\n",
    "\n",
    "# trainLoader = BatchLoader(trainDataset, node_level=False, batch_size=10, epochs=None, shuffle=True)\n",
    "trainLoader = spektral.data.loaders.DisjointLoader(trainDataset, node_level=False, batch_size=20, epochs=None, shuffle=True)\n",
    "\n",
    "# testLoader = BatchLoader(valDataset, node_level=False, batch_size=10)\n",
    "testLoader = spektral.data.loaders.DisjointLoader(valDataset, node_level=False, batch_size=20)"
   ]
  },
  {
   "cell_type": "code",
   "execution_count": 216,
   "id": "polished-stick",
   "metadata": {},
   "outputs": [
    {
     "data": {
      "text/plain": [
       "Graph(n_nodes=57, n_node_features=128, n_edge_features=51, n_labels=1)"
      ]
     },
     "execution_count": 216,
     "metadata": {},
     "output_type": "execute_result"
    }
   ],
   "source": [
    "trainDataset[0]"
   ]
  },
  {
   "cell_type": "code",
   "execution_count": 222,
   "id": "average-miami",
   "metadata": {},
   "outputs": [
    {
     "name": "stdout",
     "output_type": "stream",
     "text": [
      "Epoch 1/20\n",
      "1/1 [==============================] - 0s 69ms/step - loss: 0.0000e+00 - accuracy: 1.0000 - val_loss: 3.3878e-06 - val_accuracy: 1.0000\n",
      "Epoch 2/20\n",
      "1/1 [==============================] - 0s 43ms/step - loss: 0.0000e+00 - accuracy: 1.0000 - val_loss: 3.2226e-06 - val_accuracy: 1.0000\n",
      "Epoch 3/20\n",
      "1/1 [==============================] - 0s 44ms/step - loss: 0.0000e+00 - accuracy: 1.0000 - val_loss: 3.1399e-06 - val_accuracy: 1.0000\n",
      "Epoch 4/20\n",
      "1/1 [==============================] - 0s 42ms/step - loss: 0.0000e+00 - accuracy: 1.0000 - val_loss: 3.1399e-06 - val_accuracy: 1.0000\n",
      "Epoch 5/20\n"
     ]
    },
    {
     "name": "stderr",
     "output_type": "stream",
     "text": [
      "/Users/zeyuyang/miniforge3/envs/graphLearning/lib/python3.9/site-packages/spektral-1.1.0-py3.9.egg/spektral/data/utils.py:221: UserWarning: you are shuffling a 'TrainDataset' object which is not a subclass of 'Sequence'; `shuffle` is not guaranteed to behave correctly. E.g., non-numpy array/tensor objects with view semantics may contain duplicates after shuffling.\n",
      "  np.random.shuffle(a)\n"
     ]
    },
    {
     "name": "stdout",
     "output_type": "stream",
     "text": [
      "1/1 [==============================] - 0s 44ms/step - loss: 0.0000e+00 - accuracy: 1.0000 - val_loss: 2.9747e-06 - val_accuracy: 1.0000\n",
      "Epoch 6/20\n",
      "1/1 [==============================] - 0s 44ms/step - loss: 0.0000e+00 - accuracy: 1.0000 - val_loss: 2.8920e-06 - val_accuracy: 1.0000\n",
      "Epoch 7/20\n",
      "1/1 [==============================] - 0s 72ms/step - loss: 0.0000e+00 - accuracy: 1.0000 - val_loss: 2.8920e-06 - val_accuracy: 1.0000\n",
      "Epoch 8/20\n",
      "1/1 [==============================] - 0s 40ms/step - loss: 0.0000e+00 - accuracy: 1.0000 - val_loss: 2.7268e-06 - val_accuracy: 1.0000\n",
      "Epoch 9/20\n",
      "1/1 [==============================] - 0s 47ms/step - loss: 0.0000e+00 - accuracy: 1.0000 - val_loss: 2.7268e-06 - val_accuracy: 1.0000\n",
      "Epoch 10/20\n",
      "1/1 [==============================] - 0s 42ms/step - loss: 0.0000e+00 - accuracy: 1.0000 - val_loss: 2.7268e-06 - val_accuracy: 1.0000\n",
      "Epoch 11/20\n",
      "1/1 [==============================] - 0s 39ms/step - loss: 0.0000e+00 - accuracy: 1.0000 - val_loss: 2.6441e-06 - val_accuracy: 1.0000\n",
      "Epoch 12/20\n",
      "1/1 [==============================] - 0s 43ms/step - loss: 0.0000e+00 - accuracy: 1.0000 - val_loss: 2.6441e-06 - val_accuracy: 1.0000\n",
      "Epoch 13/20\n",
      "1/1 [==============================] - 0s 43ms/step - loss: 0.0000e+00 - accuracy: 1.0000 - val_loss: 2.6441e-06 - val_accuracy: 1.0000\n",
      "Epoch 14/20\n",
      "1/1 [==============================] - 0s 79ms/step - loss: 0.0000e+00 - accuracy: 1.0000 - val_loss: 2.4789e-06 - val_accuracy: 1.0000\n",
      "Epoch 15/20\n",
      "1/1 [==============================] - 0s 43ms/step - loss: 0.0000e+00 - accuracy: 1.0000 - val_loss: 2.4789e-06 - val_accuracy: 1.0000\n",
      "Epoch 16/20\n",
      "1/1 [==============================] - 0s 40ms/step - loss: 0.0000e+00 - accuracy: 1.0000 - val_loss: 2.4789e-06 - val_accuracy: 1.0000\n",
      "Epoch 17/20\n",
      "1/1 [==============================] - 0s 42ms/step - loss: 0.0000e+00 - accuracy: 1.0000 - val_loss: 2.4789e-06 - val_accuracy: 1.0000\n",
      "Epoch 18/20\n",
      "1/1 [==============================] - 0s 39ms/step - loss: 0.0000e+00 - accuracy: 1.0000 - val_loss: 2.4789e-06 - val_accuracy: 1.0000\n",
      "Epoch 19/20\n",
      "1/1 [==============================] - 0s 38ms/step - loss: 0.0000e+00 - accuracy: 1.0000 - val_loss: 2.4789e-06 - val_accuracy: 1.0000\n",
      "Epoch 20/20\n",
      "1/1 [==============================] - 0s 43ms/step - loss: 0.0000e+00 - accuracy: 1.0000 - val_loss: 2.3963e-06 - val_accuracy: 1.0000\n"
     ]
    }
   ],
   "source": [
    "history = model.fit(trainLoader.load(),\n",
    "              validation_data=testLoader.load(),\n",
    "              steps_per_epoch=trainLoader.steps_per_epoch,\n",
    "              validation_steps=testLoader.steps_per_epoch,\n",
    "              epochs=20)"
   ]
  },
  {
   "cell_type": "code",
   "execution_count": 220,
   "id": "joined-channel",
   "metadata": {},
   "outputs": [
    {
     "name": "stdout",
     "output_type": "stream",
     "text": [
      "1/1 [==============================] - 0s 26ms/step - loss: 3.4704e-06 - accuracy: 1.0000\n"
     ]
    },
    {
     "data": {
      "text/plain": [
       "[3.4704426070675254e-06, 1.0]"
      ]
     },
     "execution_count": 220,
     "metadata": {},
     "output_type": "execute_result"
    }
   ],
   "source": [
    "model.evaluate(testLoader.load(), steps=testLoader.steps_per_epoch)\n",
    "# model.evaluate(trainLoader.load(), steps=trainLoader.steps_per_epoch)"
   ]
  },
  {
   "cell_type": "code",
   "execution_count": 221,
   "id": "a650f78f-c407-4f46-a289-c4574e300b40",
   "metadata": {},
   "outputs": [
    {
     "name": "stderr",
     "output_type": "stream",
     "text": [
      "2022-05-29 20:24:34.376787: I tensorflow/core/grappler/optimizers/custom_graph_optimizer_registry.cc:113] Plugin optimizer for device_type GPU is enabled.\n",
      "/Users/zeyuyang/miniforge3/envs/graphLearning/lib/python3.9/site-packages/spektral-1.1.0-py3.9.egg/spektral/data/utils.py:221: UserWarning: you are shuffling a 'ValDataset' object which is not a subclass of 'Sequence'; `shuffle` is not guaranteed to behave correctly. E.g., non-numpy array/tensor objects with view semantics may contain duplicates after shuffling.\n",
      "  np.random.shuffle(a)\n"
     ]
    },
    {
     "data": {
      "text/plain": [
       "array([[3.5089608e-06]], dtype=float32)"
      ]
     },
     "execution_count": 221,
     "metadata": {},
     "output_type": "execute_result"
    }
   ],
   "source": [
    "model.predict(testLoader.load(), steps=testLoader.steps_per_epoch)"
   ]
  },
  {
   "cell_type": "code",
   "execution_count": 299,
   "id": "developing-oregon",
   "metadata": {
    "tags": []
   },
   "outputs": [
    {
     "data": {
      "image/png": "[encoded data removed]",
      "text/plain": [
       "<Figure size 432x288 with 1 Axes>"
      ]
     },
     "metadata": {
      "needs_background": "light"
     },
     "output_type": "display_data"
    }
   ],
   "source": [
    "# plot training and validaiton loss over epochs\n",
    "history_dict = history.history\n",
    "acc = history_dict['accuracy']\n",
    "val_acc = history_dict['val_accuracy']\n",
    "loss = history_dict['loss']\n",
    "val_loss = history_dict['val_loss']\n",
    "\n",
    "epochs = range(1, len(acc) + 1)\n",
    "\n",
    "# \"-r^\" is for solid red line with triangle markers.\n",
    "plt.plot(epochs, loss, '-r^', label='Training loss')\n",
    "# \"-b0\" is for solid blue line with circle markers.\n",
    "plt.plot(epochs, val_loss, '-bo', label='Validation loss')\n",
    "plt.title('Training and validation loss')\n",
    "plt.xlabel('Epochs')\n",
    "plt.ylabel('Loss')\n",
    "plt.legend(loc='best')\n",
    "\n",
    "plt.show()"
   ]
  },
  {
   "cell_type": "code",
   "execution_count": 300,
   "id": "e52266ee-e5ae-4465-8f19-febea0adc17c",
   "metadata": {},
   "outputs": [
    {
     "data": {
      "image/png": "[encoded data removed]",
      "text/plain": [
       "<Figure size 432x288 with 1 Axes>"
      ]
     },
     "metadata": {
      "needs_background": "light"
     },
     "output_type": "display_data"
    }
   ],
   "source": [
    "# plot training and validation accuracy over epochs\n",
    "plt.clf()   # clear figure\n",
    "\n",
    "plt.plot(epochs, acc, '-r^', label='Training acc')\n",
    "plt.plot(epochs, val_acc, '-bo', label='Validation acc')\n",
    "plt.title('Training and validation accuracy')\n",
    "plt.xlabel('Epochs')\n",
    "plt.ylabel('Accuracy')\n",
    "plt.legend(loc='best')\n",
    "\n",
    "plt.show()"
   ]
  },
  {
   "cell_type": "code",
   "execution_count": null,
   "id": "8ab62280-30d1-47c1-90bc-715751c2f257",
   "metadata": {},
   "outputs": [],
   "source": []
  },
  {
   "cell_type": "code",
   "execution_count": 62,
   "id": "aboriginal-relevance",
   "metadata": {},
   "outputs": [],
   "source": [
    "from spektral.datasets import QM9"
   ]
  },
  {
   "cell_type": "code",
   "execution_count": 63,
   "id": "049880df-6d78-42f8-bc89-ab6890cb886c",
   "metadata": {},
   "outputs": [
    {
     "name": "stdout",
     "output_type": "stream",
     "text": [
      "Downloading data from https://deepchemdata.s3-us-west-1.amazonaws.com/datasets/gdb9.tar.gz\n",
      "44859392/44852087 [==============================] - 43s 1us/step\n",
      "44867584/44852087 [==============================] - 43s 1us/step\n",
      "Loading QM9 dataset.\n",
      "Reading SDF\n"
     ]
    },
    {
     "name": "stderr",
     "output_type": "stream",
     "text": [
      "100%|█████████████████████████████████████| 1000/1000 [00:00<00:00, 2878.29it/s]\n"
     ]
    }
   ],
   "source": [
    "dataset = QM9(amount=1000)  "
   ]
  },
  {
   "cell_type": "code",
   "execution_count": null,
   "id": "70de0185-aef9-4da0-821e-d39b12c995f3",
   "metadata": {},
   "outputs": [
    {
     "data": {
      "text/plain": [
       "Graph(n_nodes=107, n_node_features=128, n_edge_features=None, n_labels=1)"
      ]
     },
     "execution_count": 88,
     "metadata": {},
     "output_type": "execute_result"
    }
   ],
   "source": [
    "x[0]"
   ]
  }
 ],
 "metadata": {
  "kernelspec": {
   "display_name": "Python 3 (ipykernel)",
   "language": "python",
   "name": "python3"
  },
  "language_info": {
   "codemirror_mode": {
    "name": "ipython",
    "version": 3
   },
   "file_extension": ".py",
   "mimetype": "text/x-python",
   "name": "python",
   "nbconvert_exporter": "python",
   "pygments_lexer": "ipython3",
   "version": "3.9.7"
  }
 },
 "nbformat": 4,
 "nbformat_minor": 5
}
