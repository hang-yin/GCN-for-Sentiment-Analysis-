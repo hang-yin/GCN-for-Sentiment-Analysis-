{
 "cells": [
  {
   "cell_type": "markdown",
   "id": "cosmetic-atlantic",
   "metadata": {},
   "source": [
    "# 📑 Summary 📑"
   ]
  },
  {
   "cell_type": "markdown",
   "id": "stopped-investigator",
   "metadata": {},
   "source": [
    "## 📌 Task 📌"
   ]
  },
  {
   "cell_type": "markdown",
   "id": "judicial-anxiety",
   "metadata": {},
   "source": [
    "To combine pre-trained word embeddings (custom or BERT) with dependency parse trees to train edge conditioned convolution graph networks for sentiment classification."
   ]
  },
  {
   "cell_type": "markdown",
   "id": "indie-clearance",
   "metadata": {},
   "source": [
    "1. Explore how dependency parsing works\n",
    "2. Tokenize sentences and give them to the dependency parser\n",
    "3. Obtain the relationships and check them\n",
    "4. Convert the dependency graphs from the parser into the graphs that can be used for GCN\n",
    "5. Explore GCN and try to build graphs from the parsed dependency graphs\n",
    "6. Perform graph level classification\n",
    "7. Check performance\n",
    "8. Refine the various layers and hyperparameters in the process\n",
    "9. Check final performance\n",
    "10. Do interpreation manually on some selected examples\n",
    "11. Implement edge masking to get the minimum subgraph\n",
    "12. Performe automatic interpretation of the graphs to determine the most important terms/relationships for each sentence"
   ]
  },
  {
   "cell_type": "markdown",
   "id": "basic-internship",
   "metadata": {},
   "source": [
    "## 📐 Method 📐"
   ]
  },
  {
   "cell_type": "markdown",
   "id": "hydraulic-gross",
   "metadata": {},
   "source": [
    "* For dependency parsing, we will try to use the tools from the stanford nlp group.\n",
    "* The *[CoreNLP](https://github.com/stanfordnlp/CoreNLP)* library is important as it contains many of the tools needed to performe dependency parsing\n",
    "* The *[stanza](https://github.com/stanfordnlp/stanza)* library offers a wrapped version of CoreNLP that works directly with Python\n",
    "* Visualization of the graphs can be done using *[networkx](https://github.com/networkx/networkx)*\n",
    "* For GCN and word-level graphs we will primarily look at the ideas in this *[tutorial](https://uvadlc-notebooks.readthedocs.io/en/latest/tutorial_notebooks/tutorial7/GNN_overview.html)*\n",
    "* We will try to use the *[spektral](https://github.com/danielegrattarola/spektral/)* library to implement the graphs convolution and attention \n",
    "* *[Link](https://universaldependencies.org/u/dep/)* to explaination of dependency relations.\n",
    "* *[Link](https://nlp.stanford.edu/software/nndep.html)* to explaination of dependency parsing"
   ]
  },
  {
   "cell_type": "markdown",
   "id": "constant-beijing",
   "metadata": {},
   "source": [
    "## 📀 Dataset 📀"
   ]
  },
  {
   "cell_type": "markdown",
   "id": "coordinate-graphics",
   "metadata": {},
   "source": [
    "The dataset is still IMDB review but we may expand later on"
   ]
  },
  {
   "cell_type": "markdown",
   "id": "actual-kernel",
   "metadata": {},
   "source": [
    "## 🧮 Results 🧮"
   ]
  },
  {
   "cell_type": "markdown",
   "id": "fitted-supervisor",
   "metadata": {},
   "source": [
    "Read the notebook"
   ]
  },
  {
   "cell_type": "markdown",
   "id": "material-motel",
   "metadata": {},
   "source": [
    "## 🎬 Conclusion 🎬"
   ]
  },
  {
   "cell_type": "markdown",
   "id": "earlier-morocco",
   "metadata": {},
   "source": [
    "Read the manuscript"
   ]
  },
  {
   "cell_type": "markdown",
   "id": "circular-colonial",
   "metadata": {},
   "source": [
    "# 👾 Code 👾"
   ]
  },
  {
   "cell_type": "markdown",
   "id": "clear-thong",
   "metadata": {},
   "source": [
    "## 𖢞 Part 1: Dependency Parsing 𖢞"
   ]
  },
  {
   "cell_type": "markdown",
   "id": "addressed-excitement",
   "metadata": {
    "tags": []
   },
   "source": [
    "### 📦 Basic Imports 📦"
   ]
  },
  {
   "cell_type": "code",
   "execution_count": 1,
   "id": "complete-disease",
   "metadata": {},
   "outputs": [
    {
     "data": {
      "application/vnd.jupyter.widget-view+json": {
       "model_id": "37c1f01c021b48aeb52deed5c4c6f6ad",
       "version_major": 2,
       "version_minor": 0
      },
      "text/plain": [
       "Downloading https://raw.githubusercontent.com/stanfordnlp/stanza-resources/main/resources_1.4.0.json:   0%|   …"
      ]
     },
     "metadata": {},
     "output_type": "display_data"
    },
    {
     "name": "stderr",
     "output_type": "stream",
     "text": [
      "2022-06-08 14:38:14 INFO: Downloading default packages for language: en (English)...\n",
      "2022-06-08 14:38:15 INFO: File exists: /Users/zeyuyang/stanza_resources/en/default.zip\n",
      "2022-06-08 14:38:18 INFO: Finished downloading models and saved to /Users/zeyuyang/stanza_resources.\n"
     ]
    }
   ],
   "source": [
    "import numpy as np\n",
    "import pandas as pd\n",
    "import matplotlib.pyplot as plt\n",
    "import stanza\n",
    "import networkx as nx\n",
    "import spacy\n",
    "import stanzaTools\n",
    "stanza.download('en')"
   ]
  },
  {
   "cell_type": "markdown",
   "id": "certain-consideration",
   "metadata": {},
   "source": [
    "### 🔎 Testing Stanza 🔎"
   ]
  },
  {
   "cell_type": "code",
   "execution_count": 2,
   "id": "thrown-cardiff",
   "metadata": {},
   "outputs": [],
   "source": [
    "sampleSentence = \"There is nothing wrong with Apple's new M1 Max Chip, everything works so well! Ok this might be kind of difficult.\""
   ]
  },
  {
   "cell_type": "code",
   "execution_count": 58,
   "id": "unsigned-rover",
   "metadata": {},
   "outputs": [
    {
     "data": {
      "application/vnd.jupyter.widget-view+json": {
       "model_id": "b0ab08f6b70144c881ced1dc5abb9f6e",
       "version_major": 2,
       "version_minor": 0
      },
      "text/plain": [
       "Downloading https://raw.githubusercontent.com/stanfordnlp/stanza-resources/main/resources_1.4.0.json:   0%|   …"
      ]
     },
     "metadata": {},
     "output_type": "display_data"
    },
    {
     "name": "stderr",
     "output_type": "stream",
     "text": [
      "2022-06-07 15:34:06 WARNING: Can not find mwt: default from official model list. Ignoring it.\n",
      "WARNING:stanza:Can not find mwt: default from official model list. Ignoring it.\n",
      "2022-06-07 15:34:07 INFO: Loading these models for language: en (English):\n",
      "========================\n",
      "| Processor | Package  |\n",
      "------------------------\n",
      "| tokenize  | combined |\n",
      "| pos       | combined |\n",
      "| lemma     | combined |\n",
      "| depparse  | combined |\n",
      "| sentiment | sstplus  |\n",
      "========================\n",
      "\n",
      "INFO:stanza:Loading these models for language: en (English):\n",
      "========================\n",
      "| Processor | Package  |\n",
      "------------------------\n",
      "| tokenize  | combined |\n",
      "| pos       | combined |\n",
      "| lemma     | combined |\n",
      "| depparse  | combined |\n",
      "| sentiment | sstplus  |\n",
      "========================\n",
      "\n",
      "2022-06-07 15:34:07 INFO: Use device: cpu\n",
      "INFO:stanza:Use device: cpu\n",
      "2022-06-07 15:34:07 INFO: Loading: tokenize\n",
      "INFO:stanza:Loading: tokenize\n",
      "2022-06-07 15:34:07 INFO: Loading: pos\n",
      "INFO:stanza:Loading: pos\n",
      "2022-06-07 15:34:07 INFO: Loading: lemma\n",
      "INFO:stanza:Loading: lemma\n",
      "2022-06-07 15:34:07 INFO: Loading: depparse\n",
      "INFO:stanza:Loading: depparse\n",
      "2022-06-07 15:34:07 INFO: Loading: sentiment\n",
      "INFO:stanza:Loading: sentiment\n",
      "2022-06-07 15:34:07 INFO: Done loading processors!\n",
      "INFO:stanza:Done loading processors!\n"
     ]
    }
   ],
   "source": [
    "nlp = stanza.Pipeline(\n",
    "    'en',\n",
    "    processors = 'tokenize,mwt,pos,lemma,depparse, sentiment')"
   ]
  },
  {
   "cell_type": "code",
   "execution_count": 59,
   "id": "annoying-appliance",
   "metadata": {},
   "outputs": [],
   "source": [
    "doc = nlp(sampleSentence)"
   ]
  },
  {
   "cell_type": "code",
   "execution_count": 69,
   "id": "ultimate-recorder",
   "metadata": {
    "tags": []
   },
   "outputs": [
    {
     "data": {
      "text/plain": [
       "[{\n",
       "   \"id\": 1,\n",
       "   \"text\": \"There\",\n",
       "   \"lemma\": \"there\",\n",
       "   \"upos\": \"PRON\",\n",
       "   \"xpos\": \"EX\",\n",
       "   \"head\": 2,\n",
       "   \"deprel\": \"expl\",\n",
       "   \"start_char\": 0,\n",
       "   \"end_char\": 5\n",
       " },\n",
       " {\n",
       "   \"id\": 2,\n",
       "   \"text\": \"is\",\n",
       "   \"lemma\": \"be\",\n",
       "   \"upos\": \"VERB\",\n",
       "   \"xpos\": \"VBZ\",\n",
       "   \"feats\": \"Mood=Ind|Number=Sing|Person=3|Tense=Pres|VerbForm=Fin\",\n",
       "   \"head\": 0,\n",
       "   \"deprel\": \"root\",\n",
       "   \"start_char\": 6,\n",
       "   \"end_char\": 8\n",
       " },\n",
       " {\n",
       "   \"id\": 3,\n",
       "   \"text\": \"nothing\",\n",
       "   \"lemma\": \"nothing\",\n",
       "   \"upos\": \"PRON\",\n",
       "   \"xpos\": \"NN\",\n",
       "   \"feats\": \"Number=Sing\",\n",
       "   \"head\": 2,\n",
       "   \"deprel\": \"nsubj\",\n",
       "   \"start_char\": 9,\n",
       "   \"end_char\": 16\n",
       " }]"
      ]
     },
     "execution_count": 69,
     "metadata": {},
     "output_type": "execute_result"
    }
   ],
   "source": [
    "doc.sentences[0].words[0:3]"
   ]
  },
  {
   "cell_type": "code",
   "execution_count": 70,
   "id": "ranging-grocery",
   "metadata": {},
   "outputs": [],
   "source": [
    "sent_dict = doc.sentences[0].to_dict()"
   ]
  },
  {
   "cell_type": "markdown",
   "id": "invisible-token",
   "metadata": {},
   "source": [
    "#### 📊 tokenRelationHead 📊"
   ]
  },
  {
   "cell_type": "code",
   "execution_count": 71,
   "id": "monthly-statement",
   "metadata": {},
   "outputs": [
    {
     "name": "stdout",
     "output_type": "stream",
     "text": [
      "Token           | Relation   | Head            \n",
      "--------------------------------------------------\n",
      "There           | expl       | is              \n",
      "is              | root       | ROOT            \n",
      "nothing         | nsubj      | is              \n",
      "wrong           | amod       | nothing         \n",
      "with            | case       | Max             \n",
      "Apple           | nmod:poss  | Max             \n",
      "'s              | case       | Apple           \n",
      "new             | amod       | Max             \n",
      "M1              | compound   | Max             \n",
      "Max             | nmod       | nothing         \n",
      "Chip            | flat       | Max             \n",
      ",               | punct      | works           \n",
      "everything      | nsubj      | works           \n",
      "works           | parataxis  | is              \n",
      "so              | advmod     | well            \n",
      "well            | advmod     | works           \n",
      "!               | punct      | is              \n"
     ]
    }
   ],
   "source": [
    "stanzaTools.tokenRelationHead(sent_dict)"
   ]
  },
  {
   "cell_type": "markdown",
   "id": "attempted-sight",
   "metadata": {
    "tags": []
   },
   "source": [
    "#### 🐝 getNodeEdgeLists 🐝 "
   ]
  },
  {
   "cell_type": "code",
   "execution_count": 73,
   "id": "frozen-palestinian",
   "metadata": {},
   "outputs": [],
   "source": [
    "nodeList, edgeList = stanzaTools.getNodeEdgeLists(doc)"
   ]
  },
  {
   "cell_type": "code",
   "execution_count": 75,
   "id": "cheap-transcript",
   "metadata": {
    "tags": []
   },
   "outputs": [
    {
     "data": {
      "text/plain": [
       "[{'id': 1,\n",
       "  'text': 'There',\n",
       "  'lemma': 'there',\n",
       "  'upos': 'PRON',\n",
       "  'xpos': 'EX',\n",
       "  'head': 2,\n",
       "  'deprel': 'expl',\n",
       "  'start_char': 0,\n",
       "  'end_char': 5},\n",
       " {'id': 2,\n",
       "  'text': 'is',\n",
       "  'lemma': 'be',\n",
       "  'upos': 'VERB',\n",
       "  'xpos': 'VBZ',\n",
       "  'feats': 'Mood=Ind|Number=Sing|Person=3|Tense=Pres|VerbForm=Fin',\n",
       "  'head': 0,\n",
       "  'deprel': 'root',\n",
       "  'start_char': 6,\n",
       "  'end_char': 8},\n",
       " {'id': 3,\n",
       "  'text': 'nothing',\n",
       "  'lemma': 'nothing',\n",
       "  'upos': 'PRON',\n",
       "  'xpos': 'NN',\n",
       "  'feats': 'Number=Sing',\n",
       "  'head': 2,\n",
       "  'deprel': 'nsubj',\n",
       "  'start_char': 9,\n",
       "  'end_char': 16}]"
      ]
     },
     "execution_count": 75,
     "metadata": {},
     "output_type": "execute_result"
    }
   ],
   "source": [
    "nodeList[0:3]"
   ]
  },
  {
   "cell_type": "markdown",
   "id": "conceptual-joint",
   "metadata": {},
   "source": [
    "#### 📊 drawDepGraph 📊"
   ]
  },
  {
   "cell_type": "code",
   "execution_count": 76,
   "id": "computational-ridge",
   "metadata": {},
   "outputs": [
    {
     "data": {
      "image/png": "[encoded data removed]",
      "text/plain": [
       "<Figure size 864x864 with 1 Axes>"
      ]
     },
     "metadata": {},
     "output_type": "display_data"
    }
   ],
   "source": [
    "stanzaTools.drawDepGraph(nodeList, edgeList)"
   ]
  },
  {
   "cell_type": "markdown",
   "id": "hydraulic-lewis",
   "metadata": {},
   "source": [
    "### 🔎 Testing Spacy (SKIP for Now) 🔎"
   ]
  },
  {
   "cell_type": "code",
   "execution_count": null,
   "id": "respected-resource",
   "metadata": {},
   "outputs": [],
   "source": [
    "import spacy\n",
    "\n",
    "# Load English tokenizer, tagger, parser and NER\n",
    "nlp = spacy.load(\"en_core_web_sm\")\n",
    "\n",
    "# Process whole documents\n",
    "text = sampleSentence\n",
    "doc = nlp(text)\n",
    "# Analyze syntax\n",
    "print(\"Noun phrases:\", [chunk.text for chunk in doc.noun_chunks])\n",
    "print(\"Verbs:\", [token.lemma_ for token in doc if token.pos_ == \"VERB\"])\n",
    "\n",
    "# Find named entities, phrases and concepts\n",
    "for entity in doc.ents:\n",
    "    print(entity.text, entity.label_)    "
   ]
  },
  {
   "cell_type": "code",
   "execution_count": null,
   "id": "behind-circus",
   "metadata": {
    "tags": []
   },
   "outputs": [],
   "source": [
    "spacy.displacy.render(doc, style='dep', jupyter=True, options={'distance': 120})"
   ]
  },
  {
   "cell_type": "code",
   "execution_count": null,
   "id": "surgical-battle",
   "metadata": {},
   "outputs": [],
   "source": [
    "doc"
   ]
  },
  {
   "cell_type": "markdown",
   "id": "weird-capture",
   "metadata": {},
   "source": [
    "### 🔎 Testing TF Datasets 🔎"
   ]
  },
  {
   "cell_type": "code",
   "execution_count": null,
   "id": "chemical-utilization",
   "metadata": {},
   "outputs": [],
   "source": [
    "import tensorflow_datasets as tfds\n",
    "import tensorflow as tf\n",
    "import spacy\n",
    "import tfDatasetTools\n",
    "nlp = spacy.load(\"en_core_web_sm\")"
   ]
  },
  {
   "cell_type": "code",
   "execution_count": null,
   "id": "threatened-toolbox",
   "metadata": {},
   "outputs": [],
   "source": [
    "trainDS = tfds.load('imdb_reviews', split='train', as_supervised=True, shuffle_files=True)\n",
    "testDS = tfds.load('imdb_reviews', split='test', as_supervised=True, shuffle_files=True)"
   ]
  },
  {
   "cell_type": "code",
   "execution_count": null,
   "id": "visible-yeast",
   "metadata": {},
   "outputs": [],
   "source": [
    "part = testDS.take(10)"
   ]
  },
  {
   "cell_type": "markdown",
   "id": "affected-style",
   "metadata": {
    "tags": []
   },
   "source": [
    "#### 🐝 decodeZeroDimTensor 🐝"
   ]
  },
  {
   "cell_type": "markdown",
   "id": "3d958e3d-c23b-484a-8355-d10a339933f1",
   "metadata": {},
   "source": [
    "moved to tfDatasetTools.py"
   ]
  },
  {
   "cell_type": "markdown",
   "id": "billion-cause",
   "metadata": {},
   "source": [
    "#### 🐝 convertTakeDataset 🐝"
   ]
  },
  {
   "cell_type": "code",
   "execution_count": null,
   "id": "contemporary-representation",
   "metadata": {},
   "outputs": [],
   "source": [
    "features, labels = tfDatasetTools.convertTakeDataset(part)"
   ]
  },
  {
   "cell_type": "code",
   "execution_count": null,
   "id": "eastern-headset",
   "metadata": {},
   "outputs": [],
   "source": [
    "features[0]"
   ]
  },
  {
   "cell_type": "code",
   "execution_count": null,
   "id": "intellectual-mortgage",
   "metadata": {},
   "outputs": [],
   "source": [
    "labels"
   ]
  },
  {
   "cell_type": "code",
   "execution_count": null,
   "id": "fitting-writer",
   "metadata": {},
   "outputs": [],
   "source": [
    "nlp = stanza.Pipeline(\n",
    "    'en',\n",
    "    processors = 'tokenize,mwt,pos,lemma,depparse, sentiment')"
   ]
  },
  {
   "cell_type": "code",
   "execution_count": null,
   "id": "controversial-literacy",
   "metadata": {
    "tags": []
   },
   "outputs": [],
   "source": [
    "doc = nlp(features[1])\n",
    "for sentence in doc.sentences:\n",
    "    print(sentence.text)\n",
    "    print(sentence.sentiment)"
   ]
  },
  {
   "cell_type": "code",
   "execution_count": null,
   "id": "engaged-triple",
   "metadata": {
    "tags": []
   },
   "outputs": [],
   "source": [
    "doc.sentences[1]"
   ]
  },
  {
   "cell_type": "markdown",
   "id": "explicit-reply",
   "metadata": {},
   "source": [
    "### 🔎 Testing spektral 🔎"
   ]
  },
  {
   "cell_type": "code",
   "execution_count": null,
   "id": "understood-basketball",
   "metadata": {},
   "outputs": [],
   "source": [
    "import spektral\n",
    "from spektral.datasets import TUDataset"
   ]
  },
  {
   "cell_type": "code",
   "execution_count": null,
   "id": "introductory-fundamental",
   "metadata": {},
   "outputs": [],
   "source": [
    "dataset = TUDataset('PROTEINS')"
   ]
  },
  {
   "cell_type": "code",
   "execution_count": null,
   "id": "elder-catch",
   "metadata": {},
   "outputs": [],
   "source": [
    "dataset"
   ]
  },
  {
   "cell_type": "code",
   "execution_count": null,
   "id": "living-stockholm",
   "metadata": {},
   "outputs": [],
   "source": [
    "train_datset = dataset[:100]"
   ]
  },
  {
   "cell_type": "code",
   "execution_count": null,
   "id": "worse-feature",
   "metadata": {},
   "outputs": [],
   "source": [
    "test_datset = dataset[100:]"
   ]
  },
  {
   "cell_type": "code",
   "execution_count": null,
   "id": "indonesian-immune",
   "metadata": {},
   "outputs": [],
   "source": [
    "from tensorflow.keras.models import Model\n",
    "from tensorflow.keras.layers import Dense, Dropout\n",
    "from spektral.layers import GCNConv, GlobalSumPool"
   ]
  },
  {
   "cell_type": "code",
   "execution_count": null,
   "id": "advance-evidence",
   "metadata": {},
   "outputs": [],
   "source": [
    "class MyFirstGNN(Model):\n",
    "\n",
    "    def __init__(self, n_hidden, n_labels):\n",
    "        super().__init__()\n",
    "        self.graph_conv = GCNConv(n_hidden)\n",
    "        self.pool = GlobalSumPool()\n",
    "        self.dropout = Dropout(0.5)\n",
    "        self.dense = Dense(n_labels, 'softmax')\n",
    "\n",
    "    def call(self, inputs):\n",
    "        out = self.graph_conv(inputs)\n",
    "        out = self.dropout(out)\n",
    "        out = self.pool(out)\n",
    "        out = self.dense(out)\n",
    "\n",
    "        return out"
   ]
  },
  {
   "cell_type": "code",
   "execution_count": null,
   "id": "empty-april",
   "metadata": {},
   "outputs": [],
   "source": [
    "model = MyFirstGNN(32, dataset.n_labels)\n",
    "model.compile('adam', 'categorical_crossentropy', metrics=['accuracy'])"
   ]
  },
  {
   "cell_type": "code",
   "execution_count": null,
   "id": "promising-launch",
   "metadata": {},
   "outputs": [],
   "source": [
    "from spektral.data import BatchLoader\n",
    "\n",
    "loader = BatchLoader(train_datset, batch_size=32)\n",
    "testLoader = BatchLoader(test_datset, batch_size=32)"
   ]
  },
  {
   "cell_type": "code",
   "execution_count": null,
   "id": "catholic-interest",
   "metadata": {},
   "outputs": [],
   "source": [
    "model.fit(loader.load(),steps_per_epoch=loader.steps_per_epoch, epochs=10)"
   ]
  },
  {
   "cell_type": "code",
   "execution_count": null,
   "id": "polyphonic-cambodia",
   "metadata": {},
   "outputs": [],
   "source": [
    "model.evaluate(testLoader.load(),steps=testLoader.steps_per_epoch)"
   ]
  },
  {
   "cell_type": "code",
   "execution_count": null,
   "id": "russian-trainer",
   "metadata": {},
   "outputs": [],
   "source": [
    "test_datset[12].y"
   ]
  },
  {
   "cell_type": "markdown",
   "id": "moral-cooler",
   "metadata": {},
   "source": [
    "## ፨ Part 2: Graph Networks ፨ "
   ]
  },
  {
   "cell_type": "markdown",
   "id": "choice-explanation",
   "metadata": {},
   "source": [
    "### 📦 Basic Imports 📦 "
   ]
  },
  {
   "cell_type": "code",
   "execution_count": 3,
   "id": "funky-structure",
   "metadata": {},
   "outputs": [],
   "source": [
    "import tensorflow_datasets as tfds\n",
    "import tensorflow as tf\n",
    "import numpy as np\n",
    "import pandas as pd\n",
    "import matplotlib.pyplot as plt\n",
    "import stanza\n",
    "import networkx as nx\n",
    "import tensorflow_hub as hub\n",
    "import tensorflow_text\n",
    "import spektral"
   ]
  },
  {
   "cell_type": "code",
   "execution_count": 4,
   "id": "graphic-phenomenon",
   "metadata": {},
   "outputs": [],
   "source": [
    "import stanzaTools\n",
    "import tfDatasetTools\n",
    "import relationEncoder"
   ]
  },
  {
   "cell_type": "code",
   "execution_count": 5,
   "id": "997bbbb6-e771-491c-98e4-a105cf1063a6",
   "metadata": {},
   "outputs": [],
   "source": [
    "import io, time, joblib, json\n",
    "from importlib import reload"
   ]
  },
  {
   "cell_type": "markdown",
   "id": "original-newfoundland",
   "metadata": {},
   "source": [
    "### 📦 Set up Stanza 📦"
   ]
  },
  {
   "cell_type": "code",
   "execution_count": 6,
   "id": "applied-india",
   "metadata": {},
   "outputs": [
    {
     "data": {
      "application/vnd.jupyter.widget-view+json": {
       "model_id": "1acf4988e2ea40ff90bbe4795bdf64e2",
       "version_major": 2,
       "version_minor": 0
      },
      "text/plain": [
       "Downloading https://raw.githubusercontent.com/stanfordnlp/stanza-resources/main/resources_1.4.0.json:   0%|   …"
      ]
     },
     "metadata": {},
     "output_type": "display_data"
    },
    {
     "name": "stderr",
     "output_type": "stream",
     "text": [
      "2022-06-08 14:38:22 INFO: Downloading default packages for language: en (English)...\n",
      "2022-06-08 14:38:23 INFO: File exists: /Users/zeyuyang/stanza_resources/en/default.zip\n",
      "2022-06-08 14:38:26 INFO: Finished downloading models and saved to /Users/zeyuyang/stanza_resources.\n"
     ]
    }
   ],
   "source": [
    "stanza.download('en')"
   ]
  },
  {
   "cell_type": "markdown",
   "id": "maritime-enough",
   "metadata": {
    "tags": []
   },
   "source": [
    "### 📀 Load Data 📀"
   ]
  },
  {
   "cell_type": "code",
   "execution_count": 10,
   "id": "native-friendship",
   "metadata": {},
   "outputs": [
    {
     "name": "stdout",
     "output_type": "stream",
     "text": [
      "Metal device set to: Apple M1 Max\n"
     ]
    },
    {
     "name": "stderr",
     "output_type": "stream",
     "text": [
      "2022-06-07 14:21:06.976083: I tensorflow/core/common_runtime/pluggable_device/pluggable_device_factory.cc:305] Could not identify NUMA node of platform GPU ID 0, defaulting to 0. Your kernel may not have been built with NUMA support.\n",
      "2022-06-07 14:21:06.976329: I tensorflow/core/common_runtime/pluggable_device/pluggable_device_factory.cc:271] Created TensorFlow device (/job:localhost/replica:0/task:0/device:GPU:0 with 0 MB memory) -> physical PluggableDevice (device: 0, name: METAL, pci bus id: <undefined>)\n"
     ]
    }
   ],
   "source": [
    "trainDS = tfds.load('imdb_reviews', split='train', as_supervised=True, shuffle_files=True)\n",
    "testDS = tfds.load('imdb_reviews', split='test', as_supervised=True, shuffle_files=True)"
   ]
  },
  {
   "cell_type": "markdown",
   "id": "related-literacy",
   "metadata": {},
   "source": [
    "#### 🫥 Set a Limit 🫥"
   ]
  },
  {
   "cell_type": "code",
   "execution_count": 11,
   "id": "neutral-appointment",
   "metadata": {},
   "outputs": [],
   "source": [
    "trainLimit = 25000\n",
    "testLimit = 25000\n",
    "\n",
    "trainSubset = trainDS.take(trainLimit)\n",
    "testSubset = testDS.take(testLimit)"
   ]
  },
  {
   "cell_type": "code",
   "execution_count": 12,
   "id": "driven-guarantee",
   "metadata": {},
   "outputs": [],
   "source": [
    "validationSplit = 0.2\n",
    "validationIndex = int(validationSplit * trainLimit)\n",
    "\n",
    "validationSplitSubset = trainSubset.take(validationIndex)\n",
    "trainSplitSubset = trainSubset.skip(validationIndex)"
   ]
  },
  {
   "cell_type": "code",
   "execution_count": 13,
   "id": "complicated-panama",
   "metadata": {},
   "outputs": [
    {
     "name": "stderr",
     "output_type": "stream",
     "text": [
      "2022-06-07 14:21:11.534515: W tensorflow/core/platform/profile_utils/cpu_utils.cc:128] Failed to get CPU frequency: 0 Hz\n"
     ]
    }
   ],
   "source": [
    "trainFeatures, trainLabels = tfDatasetTools.convertTakeDataset(trainSplitSubset)\n",
    "valFeatures, valLabels = tfDatasetTools.convertTakeDataset(validationSplitSubset)\n",
    "testFeatures, testLabels = tfDatasetTools.convertTakeDataset(testSubset)"
   ]
  },
  {
   "cell_type": "markdown",
   "id": "19d15ba0-9789-4540-aa32-0297f0c38359",
   "metadata": {
    "tags": []
   },
   "source": [
    "##### 📦 Load the right stanza Pipeline 📦"
   ]
  },
  {
   "cell_type": "code",
   "execution_count": 100,
   "id": "901e073e-4306-4575-afd2-5b37da9e33f9",
   "metadata": {},
   "outputs": [
    {
     "data": {
      "application/vnd.jupyter.widget-view+json": {
       "model_id": "8488b67489e04b7b861a567827c098a9",
       "version_major": 2,
       "version_minor": 0
      },
      "text/plain": [
       "Downloading https://raw.githubusercontent.com/stanfordnlp/stanza-resources/main/resources_1.4.0.json:   0%|   …"
      ]
     },
     "metadata": {},
     "output_type": "display_data"
    },
    {
     "name": "stderr",
     "output_type": "stream",
     "text": [
      "2022-06-07 17:26:06 WARNING: Can not find mwt: default from official model list. Ignoring it.\n",
      "WARNING:stanza:Can not find mwt: default from official model list. Ignoring it.\n",
      "2022-06-07 17:26:06 INFO: Loading these models for language: en (English):\n",
      "========================\n",
      "| Processor | Package  |\n",
      "------------------------\n",
      "| tokenize  | combined |\n",
      "========================\n",
      "\n",
      "INFO:stanza:Loading these models for language: en (English):\n",
      "========================\n",
      "| Processor | Package  |\n",
      "------------------------\n",
      "| tokenize  | combined |\n",
      "========================\n",
      "\n",
      "2022-06-07 17:26:06 INFO: Use device: cpu\n",
      "INFO:stanza:Use device: cpu\n",
      "2022-06-07 17:26:06 INFO: Loading: tokenize\n",
      "INFO:stanza:Loading: tokenize\n",
      "2022-06-07 17:26:06 INFO: Done loading processors!\n",
      "INFO:stanza:Done loading processors!\n"
     ]
    }
   ],
   "source": [
    "nlp = stanza.Pipeline(\n",
    "    'en',\n",
    "    processors = 'tokenize, mwt')"
   ]
  },
  {
   "cell_type": "markdown",
   "id": "0312c200-058c-4dd5-8fc3-f6e840219f3d",
   "metadata": {},
   "source": [
    "#### 🤖Create Custom tokenizer🤖\n",
    "The goal is to matche our tokenizer to the one used by stanza. The ideas is to first tokenize all of the train+validation reviews into words. Then use our own tokenizer to parse all of these words to learn what the vocabulary is. Later, we will use stanza to break each feature into a list of nodes. The list of nodes will be converted using our own tokenizer into a list of ints. The list of ints will be used to train the embedding model and to create the embeddings for the graph model.\n",
    "\n",
    "Use joblib with parallel jobs to speed up the processing by about 200%."
   ]
  },
  {
   "cell_type": "code",
   "execution_count": 15,
   "id": "4cf27551-528d-4d46-be36-8f8b039bc546",
   "metadata": {},
   "outputs": [],
   "source": [
    "def getStanzaProSents(features):\n",
    "    tokenizedSentences = []\n",
    "    for feature in features:\n",
    "        doc = nlp(feature)\n",
    "        for sentence in doc.sentences:\n",
    "            tokenizedSentences.append(\" \".join([item['text'] for item in sentence.to_dict()]))\n",
    "    return tokenizedSentences"
   ]
  },
  {
   "cell_type": "markdown",
   "id": "9f677dbc-5ac6-4bf4-aa55-74540cdbb1e9",
   "metadata": {},
   "source": [
    "This takes about 42 seconds per 1000 reviews"
   ]
  },
  {
   "cell_type": "code",
   "execution_count": 16,
   "id": "1fc64ced-4588-47f4-92d9-d4705b4ed878",
   "metadata": {
    "tags": []
   },
   "outputs": [
    {
     "name": "stdout",
     "output_type": "stream",
     "text": [
      "1129.3985874999998\n"
     ]
    }
   ],
   "source": [
    "startTime = time.perf_counter()\n",
    "step = 50\n",
    "totalFeatures = trainFeatures + valFeatures\n",
    "results = joblib.Parallel(n_jobs=8, prefer=\"threads\")(joblib.delayed(getStanzaProSents)(totalFeatures[i:i + step]) for i in range(0,trainLimit,step))\n",
    "print(time.perf_counter()-startTime)\n",
    "deListed = []\n",
    "for i in results:\n",
    "    deListed += i"
   ]
  },
  {
   "cell_type": "code",
   "execution_count": 17,
   "id": "alien-packing",
   "metadata": {},
   "outputs": [],
   "source": [
    "customTokenizer = tf.keras.preprocessing.text.Tokenizer(num_words=30000, oov_token='OOVTOKEN', filters='', lower = True, split = ' ')"
   ]
  },
  {
   "cell_type": "code",
   "execution_count": 18,
   "id": "c878ce1f-4829-44c0-a1dc-bd195fa2dc7c",
   "metadata": {
    "tags": []
   },
   "outputs": [],
   "source": [
    "customTokenizer.fit_on_texts(deListed)"
   ]
  },
  {
   "cell_type": "code",
   "execution_count": 19,
   "id": "fdbb9848-af23-4263-9741-0d88f74d54ad",
   "metadata": {},
   "outputs": [],
   "source": [
    "file_path = './tokenizer/token' + '25000' + '.json'"
   ]
  },
  {
   "cell_type": "code",
   "execution_count": 20,
   "id": "3ab6d40a-20a1-4f55-9e34-5a21902c339d",
   "metadata": {},
   "outputs": [],
   "source": [
    "# use if you want to rewrite the file\n",
    "tokenizer_json = customTokenizer.to_json()\n",
    "with io.open(file_path, 'w', encoding='utf-8') as f:\n",
    "            f.write(json.dumps(tokenizer_json, ensure_ascii=False))"
   ]
  },
  {
   "cell_type": "code",
   "execution_count": 7,
   "id": "844e759c-4ff8-46f1-ac80-9a97796e5565",
   "metadata": {},
   "outputs": [],
   "source": [
    "with open(file_path) as f:\n",
    "            data = json.load(f)\n",
    "            customTokenizer = tf.keras.preprocessing.text.tokenizer_from_json(data)"
   ]
  },
  {
   "cell_type": "code",
   "execution_count": 21,
   "id": "7b16cdd1-f7f2-47ea-b6d3-4c6cf37235de",
   "metadata": {},
   "outputs": [
    {
     "data": {
      "text/plain": [
       "82222"
      ]
     },
     "execution_count": 21,
     "metadata": {},
     "output_type": "execute_result"
    }
   ],
   "source": [
    "len(customTokenizer.index_word)"
   ]
  },
  {
   "cell_type": "code",
   "execution_count": 22,
   "id": "e0c67646-8241-4c25-8ab4-3019e53f34a4",
   "metadata": {},
   "outputs": [],
   "source": [
    "one = customTokenizer.texts_to_sequences([trainFeatures[0]])"
   ]
  },
  {
   "cell_type": "code",
   "execution_count": 23,
   "id": "0d97f311-ca2c-49e3-bc4e-fbb132862c13",
   "metadata": {},
   "outputs": [
    {
     "data": {
      "text/plain": [
       "[\"it is amazing to me what passes for entertainment OOVTOKEN maybe i am a dinosaur from the OOVTOKEN and i am out of touch with todays movie going OOVTOKEN and apparently that is the case with regards to this OOVTOKEN since so many people loved OOVTOKEN i found it foul and OOVTOKEN i OOVTOKEN said that about many movies in my life but this one fits the OOVTOKEN the humor is sophomoric and OOVTOKEN i am not a politically correct OOVTOKEN and even i found the gay OOVTOKEN not only not funny but downright offensive ( i'm not OOVTOKEN the main character in the movie is not even a likable OOVTOKEN just OOVTOKEN when the movie was finally over i heard a number of people comment on how disappointed they were in what they had just pay good money to OOVTOKEN\"]"
      ]
     },
     "execution_count": 23,
     "metadata": {},
     "output_type": "execute_result"
    }
   ],
   "source": [
    "customTokenizer.sequences_to_texts(one)"
   ]
  },
  {
   "cell_type": "code",
   "execution_count": null,
   "id": "2a7eee01-a278-45ff-89f9-6024ace307c6",
   "metadata": {},
   "outputs": [],
   "source": []
  },
  {
   "cell_type": "markdown",
   "id": "dependent-paper",
   "metadata": {
    "tags": []
   },
   "source": [
    "#### 💽Bert Embeddings (not used too expensive)💽"
   ]
  },
  {
   "cell_type": "code",
   "execution_count": 24,
   "id": "current-jesus",
   "metadata": {},
   "outputs": [],
   "source": [
    "tf.keras.backend.clear_session()"
   ]
  },
  {
   "cell_type": "code",
   "execution_count": 411,
   "id": "multiple-distributor",
   "metadata": {
    "tags": []
   },
   "outputs": [
    {
     "name": "stderr",
     "output_type": "stream",
     "text": [
      "2022-05-29 23:02:06.956843: I tensorflow/core/grappler/optimizers/custom_graph_optimizer_registry.cc:113] Plugin optimizer for device_type GPU is enabled.\n"
     ]
    }
   ],
   "source": [
    "# Preprocess and encode input\n",
    "text_input = tf.keras.layers.Input(shape=(), dtype=tf.string)\n",
    "\n",
    "preprocessor = hub.KerasLayer('https://tfhub.dev/tensorflow/bert_en_uncased_preprocess/3')\n",
    "encoder_inputs = preprocessor(text_input)\n",
    "\n",
    "encoder = hub.KerasLayer('https://tfhub.dev/tensorflow/small_bert/bert_en_uncased_L-2_H-128_A-2/2',trainable=False)\n",
    "\n",
    "outputs = encoder(encoder_inputs)\n",
    "\n",
    "pooled_output = outputs['pooled_output'] # [batch_size, 128].\n",
    "# [batch_size, seq_length, 128].\n",
    "\n",
    "sequence_output = outputs['sequence_output']"
   ]
  },
  {
   "cell_type": "markdown",
   "id": "canadian-industry",
   "metadata": {
    "tags": [],
    "toc-hr-collapsed": true
   },
   "source": [
    "##### 🐛 Sample Convert to BERT Embedding 🐛"
   ]
  },
  {
   "cell_type": "code",
   "execution_count": 412,
   "id": "major-condition",
   "metadata": {},
   "outputs": [
    {
     "name": "stderr",
     "output_type": "stream",
     "text": [
      "2022-05-29 23:02:11.958773: I tensorflow/core/grappler/optimizers/custom_graph_optimizer_registry.cc:113] Plugin optimizer for device_type GPU is enabled.\n",
      "2022-05-29 23:02:12.132296: I tensorflow/core/grappler/optimizers/custom_graph_optimizer_registry.cc:113] Plugin optimizer for device_type GPU is enabled.\n"
     ]
    }
   ],
   "source": [
    "text = \"hello there who are you hello there who are you hello there who are you hello there who are you hello there who are you hello there who are you\"\n",
    "words = text.split()\n",
    "converted = stanzaTools.convertToEmbedding(words, preprocessor, encoder)"
   ]
  },
  {
   "cell_type": "code",
   "execution_count": 413,
   "id": "light-snake",
   "metadata": {},
   "outputs": [
    {
     "data": {
      "text/plain": [
       "(30, 128)"
      ]
     },
     "execution_count": 413,
     "metadata": {},
     "output_type": "execute_result"
    }
   ],
   "source": [
    "converted.shape"
   ]
  },
  {
   "cell_type": "code",
   "execution_count": 414,
   "id": "coordinate-softball",
   "metadata": {},
   "outputs": [],
   "source": [
    "converted = stanzaTools.convertToEmbedding(['!'], preprocessor, encoder)"
   ]
  },
  {
   "cell_type": "code",
   "execution_count": 415,
   "id": "international-hungary",
   "metadata": {},
   "outputs": [],
   "source": [
    "word = ['hello', 'there']\n",
    "convertedWords = stanzaTools.convertToEmbedding(word, preprocessor, encoder)"
   ]
  },
  {
   "cell_type": "code",
   "execution_count": 416,
   "id": "recorded-dealer",
   "metadata": {},
   "outputs": [
    {
     "data": {
      "text/plain": [
       "(2, 128)"
      ]
     },
     "execution_count": 416,
     "metadata": {},
     "output_type": "execute_result"
    }
   ],
   "source": [
    "convertedWords.shape"
   ]
  },
  {
   "cell_type": "markdown",
   "id": "da6de07d-5213-43a9-8165-75357ad7b281",
   "metadata": {},
   "source": [
    "#### 💽Training Custom Embeddings💽"
   ]
  },
  {
   "cell_type": "markdown",
   "id": "72d67db5-e0f4-4c70-b0b7-3e1efff2ffaf",
   "metadata": {},
   "source": [
    "Tokenize and pad the train and val features"
   ]
  },
  {
   "cell_type": "code",
   "execution_count": 77,
   "id": "8a783f22-033d-4846-a666-4cfa3b01e9be",
   "metadata": {},
   "outputs": [],
   "source": [
    "from tensorflow.keras.preprocessing.sequence import pad_sequences"
   ]
  },
  {
   "cell_type": "code",
   "execution_count": 26,
   "id": "1cd8d724-0db9-4061-8c66-47e4bcd31511",
   "metadata": {},
   "outputs": [],
   "source": [
    "MAX_SEQUENCE_LENGTH = 256"
   ]
  },
  {
   "cell_type": "code",
   "execution_count": 27,
   "id": "7127cd8a-7599-402d-ba66-7f06c43dac78",
   "metadata": {},
   "outputs": [],
   "source": [
    "xTrain = customTokenizer.texts_to_sequences(trainFeatures)\n",
    "xTrain = pad_sequences(xTrain, maxlen=MAX_SEQUENCE_LENGTH, padding='post', truncating='post')"
   ]
  },
  {
   "cell_type": "code",
   "execution_count": 28,
   "id": "d3570a95-3cc4-4e31-832d-ae1b45fa57f2",
   "metadata": {},
   "outputs": [
    {
     "name": "stdout",
     "output_type": "stream",
     "text": [
      "(20000, 256)\n",
      "(20000,)\n"
     ]
    }
   ],
   "source": [
    "yTrain = np.array(trainLabels)\n",
    "print(xTrain.shape)\n",
    "print(yTrain.shape)"
   ]
  },
  {
   "cell_type": "code",
   "execution_count": 29,
   "id": "87bd63ca-cfb3-410f-8e67-f986ecefdb53",
   "metadata": {},
   "outputs": [],
   "source": [
    "xValidation = customTokenizer.texts_to_sequences(valFeatures)\n",
    "xValidation = pad_sequences(xValidation, maxlen=MAX_SEQUENCE_LENGTH, padding='post', truncating='post')"
   ]
  },
  {
   "cell_type": "code",
   "execution_count": 30,
   "id": "6e1a8bf1-c716-4ad6-a6fc-394e629f81d5",
   "metadata": {},
   "outputs": [
    {
     "name": "stdout",
     "output_type": "stream",
     "text": [
      "(5000, 256)\n",
      "(5000,)\n"
     ]
    }
   ],
   "source": [
    "yValidation = np.array(valLabels)\n",
    "print(xValidation.shape)\n",
    "print(yValidation.shape)"
   ]
  },
  {
   "cell_type": "code",
   "execution_count": 31,
   "id": "cf25d1c1-01c0-414b-ae91-9ab6b2dabe93",
   "metadata": {},
   "outputs": [],
   "source": [
    "testLimit = 25000"
   ]
  },
  {
   "cell_type": "code",
   "execution_count": 32,
   "id": "5c7c662b-644f-45e1-b7e6-f29f253b19fa",
   "metadata": {},
   "outputs": [],
   "source": [
    "xTest = customTokenizer.texts_to_sequences(testFeatures[0:testLimit])\n",
    "xTest = pad_sequences(xTest, maxlen=MAX_SEQUENCE_LENGTH, padding='post', truncating='post')"
   ]
  },
  {
   "cell_type": "code",
   "execution_count": 33,
   "id": "89556f98-b688-4503-945b-0e7af5337d18",
   "metadata": {},
   "outputs": [
    {
     "name": "stdout",
     "output_type": "stream",
     "text": [
      "(25000, 256)\n",
      "(25000,)\n"
     ]
    }
   ],
   "source": [
    "yTest = np.array(testLabels[0:testLimit])\n",
    "print(xTest.shape)\n",
    "print(yTest.shape)"
   ]
  },
  {
   "cell_type": "code",
   "execution_count": 36,
   "id": "8b0b07df-7b0e-4f68-be9d-a64edf9beec6",
   "metadata": {},
   "outputs": [],
   "source": [
    "tf.random.set_seed(420)\n",
    "np.random.seed(420)"
   ]
  },
  {
   "cell_type": "markdown",
   "id": "5ecae2e5-794f-40dc-a1b1-97432df859fa",
   "metadata": {},
   "source": [
    "Make the model"
   ]
  },
  {
   "cell_type": "code",
   "execution_count": 37,
   "id": "front-avenue",
   "metadata": {},
   "outputs": [],
   "source": [
    "def sampleModel():\n",
    "    sequence_input = tf.keras.layers.Input(shape=(MAX_SEQUENCE_LENGTH,), dtype='int32')\n",
    "    embedding_layer = tf.keras.layers.Embedding(30000,\n",
    "                                                16)(sequence_input)\n",
    "    pool = tf.keras.layers.GlobalAveragePooling1D()(embedding_layer)\n",
    "    dense_layer = tf.keras.layers.Dense(16, activation='relu')(pool)\n",
    "    dropout_layer = tf.keras.layers.Dropout(0.3)(dense_layer)\n",
    "    outputs = tf.keras.layers.Dense(1)(dropout_layer)\n",
    "\n",
    "    return tf.keras.Model(inputs=sequence_input, outputs=outputs)"
   ]
  },
  {
   "cell_type": "code",
   "execution_count": 38,
   "id": "preliminary-amateur",
   "metadata": {},
   "outputs": [
    {
     "name": "stdout",
     "output_type": "stream",
     "text": [
      "Model: \"model\"\n",
      "_________________________________________________________________\n",
      " Layer (type)                Output Shape              Param #   \n",
      "=================================================================\n",
      " input_1 (InputLayer)        [(None, 256)]             0         \n",
      "                                                                 \n",
      " embedding (Embedding)       (None, 256, 16)           480000    \n",
      "                                                                 \n",
      " global_average_pooling1d (G  (None, 16)               0         \n",
      " lobalAveragePooling1D)                                          \n",
      "                                                                 \n",
      " dense (Dense)               (None, 16)                272       \n",
      "                                                                 \n",
      " dropout (Dropout)           (None, 16)                0         \n",
      "                                                                 \n",
      " dense_1 (Dense)             (None, 1)                 17        \n",
      "                                                                 \n",
      "=================================================================\n",
      "Total params: 480,289\n",
      "Trainable params: 480,289\n",
      "Non-trainable params: 0\n",
      "_________________________________________________________________\n"
     ]
    }
   ],
   "source": [
    "tf.keras.backend.clear_session()\n",
    "embeddingModel = sampleModel()\n",
    "embeddingModel.summary()"
   ]
  },
  {
   "cell_type": "code",
   "execution_count": 39,
   "id": "beginning-tiffany",
   "metadata": {},
   "outputs": [],
   "source": [
    "embeddingModel.compile(\n",
    "    optimizer='adam',\n",
    "    loss=tf.keras.losses.BinaryCrossentropy(from_logits=True),\n",
    "    metrics=['accuracy'])"
   ]
  },
  {
   "cell_type": "code",
   "execution_count": 40,
   "id": "recreational-buffalo",
   "metadata": {
    "tags": []
   },
   "outputs": [
    {
     "name": "stdout",
     "output_type": "stream",
     "text": [
      "Epoch 1/5\n"
     ]
    },
    {
     "name": "stderr",
     "output_type": "stream",
     "text": [
      "2022-06-07 15:25:50.698912: I tensorflow/core/grappler/optimizers/custom_graph_optimizer_registry.cc:113] Plugin optimizer for device_type GPU is enabled.\n"
     ]
    },
    {
     "name": "stdout",
     "output_type": "stream",
     "text": [
      "622/625 [============================>.] - ETA: 0s - loss: 0.6018 - accuracy: 0.5964"
     ]
    },
    {
     "name": "stderr",
     "output_type": "stream",
     "text": [
      "2022-06-07 15:25:58.387285: I tensorflow/core/grappler/optimizers/custom_graph_optimizer_registry.cc:113] Plugin optimizer for device_type GPU is enabled.\n"
     ]
    },
    {
     "name": "stdout",
     "output_type": "stream",
     "text": [
      "625/625 [==============================] - 8s 13ms/step - loss: 0.6010 - accuracy: 0.5974 - val_loss: 0.4440 - val_accuracy: 0.7610\n",
      "Epoch 2/5\n",
      "625/625 [==============================] - 8s 13ms/step - loss: 0.3553 - accuracy: 0.8384 - val_loss: 0.3397 - val_accuracy: 0.8610\n",
      "Epoch 3/5\n",
      "625/625 [==============================] - 7s 12ms/step - loss: 0.2653 - accuracy: 0.8846 - val_loss: 0.3180 - val_accuracy: 0.8600\n",
      "Epoch 4/5\n",
      "625/625 [==============================] - 9s 14ms/step - loss: 0.2123 - accuracy: 0.9099 - val_loss: 0.3200 - val_accuracy: 0.8734\n",
      "Epoch 5/5\n",
      "625/625 [==============================] - 9s 14ms/step - loss: 0.1653 - accuracy: 0.9313 - val_loss: 0.3216 - val_accuracy: 0.8722\n"
     ]
    }
   ],
   "source": [
    "history = embeddingModel.fit(\n",
    "    xTrain,\n",
    "    yTrain,\n",
    "    validation_data=(xValidation, yValidation),\n",
    "    epochs=5,\n",
    "    verbose=1)"
   ]
  },
  {
   "cell_type": "code",
   "execution_count": 44,
   "id": "beneficial-gates",
   "metadata": {},
   "outputs": [
    {
     "name": "stdout",
     "output_type": "stream",
     "text": [
      "782/782 [==============================] - 3s 4ms/step - loss: 0.3558 - accuracy: 0.8477\n"
     ]
    }
   ],
   "source": [
    "results = embeddingModel.evaluate(x=xTest, y=yTest)"
   ]
  },
  {
   "cell_type": "code",
   "execution_count": 30,
   "id": "4bd5bf24-acb5-4803-b6f2-35d579b54b03",
   "metadata": {},
   "outputs": [],
   "source": [
    "savePath = \"./embeddingModel/embed16_25k\""
   ]
  },
  {
   "cell_type": "code",
   "execution_count": null,
   "id": "b77d7378-8b31-402a-a0bf-fb32f591671e",
   "metadata": {},
   "outputs": [],
   "source": [
    "embeddingModel.save(savePath)"
   ]
  },
  {
   "cell_type": "markdown",
   "id": "7ad798c7-f157-4258-8bab-7c21c32e39ff",
   "metadata": {},
   "source": [
    "**If you want to load a pre-existing model**"
   ]
  },
  {
   "cell_type": "code",
   "execution_count": 31,
   "id": "2dcffbb4-a382-4c11-a427-3e9c94eedfbc",
   "metadata": {},
   "outputs": [
    {
     "data": {
      "text/plain": [
       "[<keras.engine.input_layer.InputLayer at 0x7d527ca580>,\n",
       " <keras.layers.embeddings.Embedding at 0x7d527a84c0>,\n",
       " <keras.layers.pooling.GlobalAveragePooling1D at 0x7d527a89a0>,\n",
       " <keras.layers.core.dense.Dense at 0x7d527a8b80>,\n",
       " <keras.layers.core.dropout.Dropout at 0x7d4f342100>,\n",
       " <keras.layers.core.dense.Dense at 0x7d4f3422e0>]"
      ]
     },
     "execution_count": 31,
     "metadata": {},
     "output_type": "execute_result"
    }
   ],
   "source": [
    "loadedModel = tf.keras.models.load_model(savePath)\n",
    "loadedModel.layers"
   ]
  },
  {
   "cell_type": "code",
   "execution_count": 32,
   "id": "e476d1b7-fcdf-4eb9-baf4-4e1fbfa6460e",
   "metadata": {},
   "outputs": [
    {
     "name": "stdout",
     "output_type": "stream",
     "text": [
      "Model: \"model\"\n",
      "_________________________________________________________________\n",
      " Layer (type)                Output Shape              Param #   \n",
      "=================================================================\n",
      " input_1 (InputLayer)        [(None, 256)]             0         \n",
      "                                                                 \n",
      " embedding (Embedding)       (None, 256, 16)           480000    \n",
      "                                                                 \n",
      " global_average_pooling1d (G  (None, 16)               0         \n",
      " lobalAveragePooling1D)                                          \n",
      "                                                                 \n",
      " dense (Dense)               (None, 16)                272       \n",
      "                                                                 \n",
      " dropout (Dropout)           (None, 16)                0         \n",
      "                                                                 \n",
      " dense_1 (Dense)             (None, 1)                 17        \n",
      "                                                                 \n",
      "=================================================================\n",
      "Total params: 480,289\n",
      "Trainable params: 480,289\n",
      "Non-trainable params: 0\n",
      "_________________________________________________________________\n"
     ]
    }
   ],
   "source": [
    "loadedModel.summary()"
   ]
  },
  {
   "cell_type": "markdown",
   "id": "2c30a116-776f-4498-b2fe-ea66a1e1b664",
   "metadata": {},
   "source": [
    "##### 🐛Sample Convert to Custom Embeddings (for debug purposes)🐛"
   ]
  },
  {
   "cell_type": "code",
   "execution_count": 49,
   "id": "2c2ec222-b641-48ac-84ff-ebd6cfcb9cf8",
   "metadata": {},
   "outputs": [
    {
     "data": {
      "text/plain": [
       "<keras.layers.embeddings.Embedding at 0x2d591ac10>"
      ]
     },
     "execution_count": 49,
     "metadata": {},
     "output_type": "execute_result"
    }
   ],
   "source": [
    "embeddingModel.layers[1]"
   ]
  },
  {
   "cell_type": "code",
   "execution_count": 52,
   "id": "de036072-ea80-4f9f-bce5-0c2bad2a7d58",
   "metadata": {},
   "outputs": [
    {
     "data": {
      "text/plain": [
       "['why', 'did', 'I', 'do', 'this']"
      ]
     },
     "execution_count": 52,
     "metadata": {},
     "output_type": "execute_result"
    }
   ],
   "source": [
    "listOfWords = \"why did I do this\".split()\n",
    "listOfWords"
   ]
  },
  {
   "cell_type": "code",
   "execution_count": 53,
   "id": "5a85901d-ad74-45c2-a780-a370fc904d69",
   "metadata": {},
   "outputs": [
    {
     "data": {
      "text/plain": [
       "[[147], [83], [12], [50], [13]]"
      ]
     },
     "execution_count": 53,
     "metadata": {},
     "output_type": "execute_result"
    }
   ],
   "source": [
    "sequence = customTokenizer.texts_to_sequences(listOfWords)\n",
    "sequence"
   ]
  },
  {
   "cell_type": "code",
   "execution_count": 54,
   "id": "8d93ba14-5113-4b8a-8c82-578f76a504fa",
   "metadata": {},
   "outputs": [
    {
     "data": {
      "text/plain": [
       "array([147,  83,  12,  50,  13])"
      ]
     },
     "execution_count": 54,
     "metadata": {},
     "output_type": "execute_result"
    }
   ],
   "source": [
    "reshapedSeq = np.array([item[0] for item in sequence])\n",
    "reshapedSeq"
   ]
  },
  {
   "cell_type": "code",
   "execution_count": 55,
   "id": "d7da9733-e41b-4727-9373-b1b8c883cb48",
   "metadata": {},
   "outputs": [
    {
     "data": {
      "text/plain": [
       "array([[-0.06583753, -0.14925908, -0.07439847, -0.11051435,  0.13862614,\n",
       "         0.09201127, -0.16731969, -0.1010332 , -0.13546863,  0.13432755,\n",
       "         0.08380182, -0.04522675,  0.08616781,  0.08880984,  0.03236263,\n",
       "        -0.07402526],\n",
       "       [-0.03517925, -0.09838024, -0.09140101, -0.08225321,  0.09395648,\n",
       "         0.12466376, -0.0624707 , -0.1158405 , -0.07749478,  0.12928651,\n",
       "         0.03179754, -0.09451605,  0.12110313,  0.1594039 ,  0.0286512 ,\n",
       "        -0.06960334],\n",
       "       [ 0.03472452,  0.02322617, -0.03128216,  0.04207388, -0.04271244,\n",
       "         0.01156361,  0.05967582, -0.0290033 , -0.03640172, -0.02010541,\n",
       "        -0.02718968, -0.05278517, -0.01194761,  0.05206764, -0.153005  ,\n",
       "         0.06796191],\n",
       "       [-0.04292245, -0.16216798, -0.10949111, -0.13775189,  0.10121065,\n",
       "         0.06401047, -0.08168249, -0.14128214, -0.08900571,  0.05968   ,\n",
       "         0.0589614 , -0.07539045,  0.07043786,  0.11637982,  0.02042517,\n",
       "        -0.10202847],\n",
       "       [-0.02709097, -0.03695998, -0.02162378, -0.04302891,  0.04687724,\n",
       "         0.0432179 , -0.0351271 , -0.03887198,  0.04895001, -0.02503408,\n",
       "        -0.05711193, -0.17074299,  0.0254335 ,  0.06346203, -0.09451028,\n",
       "        -0.01556538]], dtype=float32)"
      ]
     },
     "execution_count": 55,
     "metadata": {},
     "output_type": "execute_result"
    }
   ],
   "source": [
    "embeddedSeq = embeddingModel.layers[1](reshapedSeq)\n",
    "np.array(embeddedSeq)"
   ]
  },
  {
   "cell_type": "markdown",
   "id": "99fe2c4a-9b57-4e3c-9c6f-44a8e10f1a0b",
   "metadata": {},
   "source": [
    "#### 🐝 convertToCustomEmbedding 🐝"
   ]
  },
  {
   "cell_type": "code",
   "execution_count": 78,
   "id": "064c2287-09f2-4b1f-9851-5b5001d1fb4d",
   "metadata": {},
   "outputs": [],
   "source": [
    "def convertToCustomEmbedding(words):\n",
    "    \"\"\"\n",
    "    Takes a list of words and converts it to a list of custom embeddings. \n",
    "\n",
    "    Args:\n",
    "        words - (list) The list of words to convert\n",
    "    Returns:\n",
    "        embeddings - (list) A list of embeddings\n",
    "    \"\"\"\n",
    "    sequence = customTokenizer.texts_to_sequences(words)\n",
    "    reshapedSeq = np.array([item[0] for item in sequence])\n",
    "    try:\n",
    "        convertedWords = embeddingModel.layers[1](reshapedSeq)\n",
    "    except:\n",
    "        print(words)\n",
    "        print(reshapedSeq)\n",
    "    return np.array(convertedWords)"
   ]
  },
  {
   "cell_type": "markdown",
   "id": "expected-coordinator",
   "metadata": {
    "tags": []
   },
   "source": [
    "#### 🐝 createGraph 🐝"
   ]
  },
  {
   "cell_type": "code",
   "execution_count": 46,
   "id": "descending-wallpaper",
   "metadata": {},
   "outputs": [
    {
     "data": {
      "text/plain": [
       "<module 'tfDatasetTools' from '/Users/zeyuyang/Projects/CS397Project/tfDatasetTools.py'>"
      ]
     },
     "execution_count": 46,
     "metadata": {},
     "output_type": "execute_result"
    }
   ],
   "source": [
    "reload(stanzaTools)\n",
    "reload(tfDatasetTools)"
   ]
  },
  {
   "cell_type": "code",
   "execution_count": 47,
   "id": "034e37c7-eb6d-46d6-a4e4-d43ebff3e657",
   "metadata": {
    "tags": []
   },
   "outputs": [],
   "source": [
    "relationsDict = relationEncoder.getRelationsDict()"
   ]
  },
  {
   "cell_type": "markdown",
   "id": "5c1121f0-8d7e-4e5f-a058-0789818f2cde",
   "metadata": {},
   "source": [
    "❗️**ONLY USE createGraphAlpha THE REST ARE TOO SLOW AND MAY THROW ERRORS**❗️"
   ]
  },
  {
   "cell_type": "code",
   "execution_count": null,
   "id": "97788ca4-4b3c-4b68-a0b9-6816dd367fe2",
   "metadata": {},
   "outputs": [],
   "source": [
    "def createGraph(doc, positive):\n",
    "    startTime = time.perf_counter()\n",
    "    nodeList, edgeList = stanzaTools.getNodeEdgeLists(doc)\n",
    "    nodeTime = time.perf_counter()\n",
    "    words = [item['text'] for item in nodeList]\n",
    "    convertedFeatures = stanzaTools.convertToEmbedding(words, preprocessor, encoder)\n",
    "    adjacencyMatrix = stanzaTools.createAdjacencyMatrix(edgeList, len(nodeList))\n",
    "    convertTime = time.perf_counter()\n",
    "    sortedList = sorted(edgeList, key=lambda x: (x['edgePair'][0], x['edgePair'][1]))\n",
    "    edgeFeatures = relationEncoder.OneHotEncode(relationsDict, [edge['edgeLabel'] for edge in sortedList])\n",
    "    encodeTime = time.perf_counter()\n",
    "    label = np.array([positive])\n",
    "    print([nodeTime - startTime, convertTime  - nodeTime, encodeTime - convertTime])\n",
    "    # newGraph = spektral.data.graph.Graph(x=convertedFeatures, a=adjacencyMatrix, y=label)\n",
    "    return (convertedFeatures, adjacencyMatrix, edgeFeatures, label)"
   ]
  },
  {
   "cell_type": "code",
   "execution_count": null,
   "id": "6c20d4ee-f465-49f5-823f-e9c168eb6fcc",
   "metadata": {},
   "outputs": [],
   "source": [
    "def createCustomGraph(doc, positive):\n",
    "    startTime = time.perf_counter()\n",
    "    nodeList, edgeList = stanzaTools.getNodeEdgeLists(doc)\n",
    "    nodeTime = time.perf_counter()\n",
    "    words = [item['text'] for item in nodeList]\n",
    "    convertedFeatures = stanzaTools.convertToCustomEmbedding(words, preprocessor, model.layers[2])\n",
    "    adjacencyMatrix = stanzaTools.createAdjacencyMatrix(edgeList, len(nodeList))\n",
    "    convertTime = time.perf_counter()\n",
    "    sortedList = sorted(edgeList, key=lambda x: (x['edgePair'][0], x['edgePair'][1]))\n",
    "    edgeFeatures = relationEncoder.OneHotEncode(relationsDict, [edge['edgeLabel'] for edge in sortedList])\n",
    "    encodeTime = time.perf_counter()\n",
    "    label = np.array([positive])\n",
    "    print([nodeTime - startTime, convertTime  - nodeTime, encodeTime - convertTime])\n",
    "    # newGraph = spektral.data.graph.Graph(x=convertedFeatures, a=adjacencyMatrix, y=label)\n",
    "    return (convertedFeatures, adjacencyMatrix, edgeFeatures, label)"
   ]
  },
  {
   "cell_type": "code",
   "execution_count": null,
   "id": "0d413e7e-3c08-4ade-8195-63eccc21c603",
   "metadata": {},
   "outputs": [],
   "source": [
    "def createCustomGraph2(doc, positive):\n",
    "    startTime = time.perf_counter()\n",
    "    nodeList, edgeList = stanzaTools.getNodeEdgeLists(doc)\n",
    "    nodeTime = time.perf_counter()\n",
    "    words = [item['text'] for item in nodeList]\n",
    "    print(len(words))\n",
    "    convertedFeatures = convertToCustomEmbedding(words)\n",
    "    adjacencyMatrix = stanzaTools.createAdjacencyMatrix(edgeList, len(nodeList))\n",
    "    convertTime = time.perf_counter()\n",
    "    sortedList = sorted(edgeList, key=lambda x: (x['edgePair'][0], x['edgePair'][1]))\n",
    "    edgeFeatures = relationEncoder.OneHotEncode(relationsDict, [edge['edgeLabel'] for edge in sortedList])\n",
    "    encodeTime = time.perf_counter()\n",
    "    label = np.array([positive])\n",
    "    print([nodeTime - startTime, convertTime  - nodeTime, encodeTime - convertTime])\n",
    "    # newGraph = spektral.data.graph.Graph(x=convertedFeatures, a=adjacencyMatrix, y=label)\n",
    "    return (convertedFeatures, adjacencyMatrix, edgeFeatures, label)"
   ]
  },
  {
   "cell_type": "markdown",
   "id": "f4893d85-fbd9-469c-a19a-8d6dced0947a",
   "metadata": {
    "tags": []
   },
   "source": [
    "#### 🐝 **createGraphAlpha** 🐝"
   ]
  },
  {
   "cell_type": "code",
   "execution_count": 48,
   "id": "70a1a6c2-f837-43d0-ac9e-1f1519f5ab61",
   "metadata": {},
   "outputs": [],
   "source": [
    "def createGraphAlpha(doc, positive):\n",
    "    # startTime = time.perf_counter()\n",
    "    nodeList, edgeList = stanzaTools.getNodeEdgeLists(doc, False, False)\n",
    "    # nodeTime = time.perf_counter()\n",
    "    words = [item['text'] for item in nodeList]\n",
    "    # print(len(words))\n",
    "    convertedFeatures = convertToCustomEmbedding(words)\n",
    "    adjacencyMat𑗊rix = stanzaTools.createAdjacencyMatrix(edgeList, len(nodeList))\n",
    "    # convertTime = time.perf_counter()\n",
    "    sortedList = sorted(edgeList, key=lambda x: (x['edgePair'][0], x['edgePair'][1]))\n",
    "    edgeFeatures = relationEncoder.OneHotEncode(relationsDict, [edge['edgeLabel'] for edge in sortedList])\n",
    "    # encodeTime = time.perf_counter()\n",
    "    label = np.array([positive])\n",
    "    # print([nodeTime - startTime, convertTime  - nodeTime, encodeTime - convertTime])\n",
    "    # newGraph = spektral.data.graph.Graph(x=convertedFeatures, a=adjacencyMatrix, y=label)\n",
    "    return (convertedFeatures, adjacencyMatrix, edgeFeatures, label)"
   ]
  },
  {
   "cell_type": "markdown",
   "id": "genuine-application",
   "metadata": {},
   "source": [
    "### 🤖 Convert Data to Graph Format 🤖"
   ]
  },
  {
   "cell_type": "markdown",
   "id": "9ad52bcd-665a-4bcb-b351-76a75dc52422",
   "metadata": {},
   "source": [
    "Now we need the full pipeline"
   ]
  },
  {
   "cell_type": "code",
   "execution_count": 112,
   "id": "44add8bb-6a06-4095-87d9-65c7abf300cc",
   "metadata": {},
   "outputs": [
    {
     "data": {
      "application/vnd.jupyter.widget-view+json": {
       "model_id": "bc67cb49adf646efaca7225b872b63d0",
       "version_major": 2,
       "version_minor": 0
      },
      "text/plain": [
       "Downloading https://raw.githubusercontent.com/stanfordnlp/stanza-resources/main/resources_1.4.0.json:   0%|   …"
      ]
     },
     "metadata": {},
     "output_type": "display_data"
    },
    {
     "name": "stderr",
     "output_type": "stream",
     "text": [
      "2022-06-07 17:45:34 WARNING: Can not find mwt: default from official model list. Ignoring it.\n",
      "WARNING:stanza:Can not find mwt: default from official model list. Ignoring it.\n",
      "2022-06-07 17:45:35 INFO: Loading these models for language: en (English):\n",
      "========================\n",
      "| Processor | Package  |\n",
      "------------------------\n",
      "| tokenize  | combined |\n",
      "| pos       | combined |\n",
      "| lemma     | combined |\n",
      "| depparse  | combined |\n",
      "| sentiment | sstplus  |\n",
      "========================\n",
      "\n",
      "INFO:stanza:Loading these models for language: en (English):\n",
      "========================\n",
      "| Processor | Package  |\n",
      "------------------------\n",
      "| tokenize  | combined |\n",
      "| pos       | combined |\n",
      "| lemma     | combined |\n",
      "| depparse  | combined |\n",
      "| sentiment | sstplus  |\n",
      "========================\n",
      "\n",
      "2022-06-07 17:45:35 INFO: Use device: cpu\n",
      "INFO:stanza:Use device: cpu\n",
      "2022-06-07 17:45:35 INFO: Loading: tokenize\n",
      "INFO:stanza:Loading: tokenize\n",
      "2022-06-07 17:45:35 INFO: Loading: pos\n",
      "INFO:stanza:Loading: pos\n",
      "2022-06-07 17:45:35 INFO: Loading: lemma\n",
      "INFO:stanza:Loading: lemma\n",
      "2022-06-07 17:45:35 INFO: Loading: depparse\n",
      "INFO:stanza:Loading: depparse\n",
      "2022-06-07 17:45:35 INFO: Loading: sentiment\n",
      "INFO:stanza:Loading: sentiment\n",
      "2022-06-07 17:45:35 INFO: Done loading processors!\n",
      "INFO:stanza:Done loading processors!\n"
     ]
    }
   ],
   "source": [
    "nlp = stanza.Pipeline(\n",
    "    'en',\n",
    "    processors = 'tokenize,mwt,pos,lemma,depparse, sentiment')"
   ]
  },
  {
   "cell_type": "markdown",
   "id": "79b2c8a2-1097-48bc-aea6-36d46410beab",
   "metadata": {
    "tags": []
   },
   "source": [
    "#### 🐝 convertToGraph🐝"
   ]
  },
  {
   "cell_type": "code",
   "execution_count": 80,
   "id": "8c67e0e3-9128-4d5e-bc81-67db68fd3fcd",
   "metadata": {},
   "outputs": [],
   "source": [
    "def convertToGraph(sentence, label):\n",
    "    doc = nlp(sentence)\n",
    "    newGraph = createGraphAlpha(doc, label)\n",
    "    del(doc)\n",
    "    return newGraph"
   ]
  },
  {
   "cell_type": "markdown",
   "id": "aa763429-7d47-4796-98b7-f2803b7c4e3a",
   "metadata": {},
   "source": [
    "##### 🤗**Train Graphs**🤗"
   ]
  },
  {
   "cell_type": "code",
   "execution_count": 81,
   "id": "e7ff2024-50d2-4d8d-9ae1-8b88db5df1e8",
   "metadata": {},
   "outputs": [],
   "source": [
    "numTrain = len(trainFeatures)\n",
    "numVal = len(valFeatures)\n",
    "numTest = 25000"
   ]
  },
  {
   "cell_type": "code",
   "execution_count": 82,
   "id": "468ed815-747b-4f82-9547-323549ef88fb",
   "metadata": {},
   "outputs": [
    {
     "name": "stdout",
     "output_type": "stream",
     "text": [
      "2486.1492048749988\n"
     ]
    }
   ],
   "source": [
    "startTime = time.perf_counter()\n",
    "# trainGraphs = [convertToGraph(trainFeatures[i], trainLabels[i]) for i in range(10)]\n",
    "trainGraphs = joblib.Parallel(n_jobs=8, prefer=\"threads\")(joblib.delayed(convertToGraph)(trainFeatures[i], trainLabels[i]) for i in range(numTrain))\n",
    "timeElapsed = time.perf_counter() - startTime\n",
    "print(timeElapsed)"
   ]
  },
  {
   "cell_type": "code",
   "execution_count": 102,
   "id": "feb3c125-9cec-4726-b78b-e853d4f9335f",
   "metadata": {},
   "outputs": [
    {
     "name": "stdout",
     "output_type": "stream",
     "text": [
      "20000\n"
     ]
    }
   ],
   "source": [
    "print(len(trainGraphs))"
   ]
  },
  {
   "cell_type": "code",
   "execution_count": 105,
   "id": "55a55f65-29cb-4d75-8a6c-be8b86213abc",
   "metadata": {},
   "outputs": [
    {
     "data": {
      "text/plain": [
       "[(158, 16), (158, 158), (150, 51), (1,)]"
      ]
     },
     "execution_count": 105,
     "metadata": {},
     "output_type": "execute_result"
    }
   ],
   "source": [
    "[item.shape for item in trainGraphs[0]]"
   ]
  },
  {
   "cell_type": "markdown",
   "id": "e20c9df2-fab3-4e42-a0f3-d00912c01511",
   "metadata": {},
   "source": [
    "meaning of output:\n",
    "\n",
    "[(nodes), (adjacency), (edges), (label)]\n",
    "\n",
    "meaning of dims:\n",
    "\n",
    "[(# of nodes, # of nodes dims),( # of nodes,  # of nodes),(# of edges, # of edge types),(# of labels,)]"
   ]
  },
  {
   "cell_type": "markdown",
   "id": "ba576c5c-8bb2-44f1-a827-22efbb0b1f82",
   "metadata": {},
   "source": [
    "##### 🥵**Validation Graphs**🥵"
   ]
  },
  {
   "cell_type": "code",
   "execution_count": 96,
   "id": "0ba81c9c-39fc-40d6-8729-70a912dcdd9d",
   "metadata": {},
   "outputs": [
    {
     "data": {
      "text/plain": [
       "5000"
      ]
     },
     "execution_count": 96,
     "metadata": {},
     "output_type": "execute_result"
    }
   ],
   "source": [
    "numVal"
   ]
  },
  {
   "cell_type": "code",
   "execution_count": 97,
   "id": "b7d99bb0-b8ad-4cde-93f1-df62f4eb5e27",
   "metadata": {},
   "outputs": [
    {
     "name": "stdout",
     "output_type": "stream",
     "text": [
      "643.4632887499993\n"
     ]
    }
   ],
   "source": [
    "startTime = time.perf_counter()\n",
    "validationGraphs = joblib.Parallel(n_jobs=8, prefer=\"threads\")(joblib.delayed(convertToGraph)(valFeatures[i], valLabels[i]) for i in range(numVal))\n",
    "timeElapsed = time.perf_counter() - startTime\n",
    "print(timeElapsed)"
   ]
  },
  {
   "cell_type": "code",
   "execution_count": 101,
   "id": "9753e666-fb58-4d5a-a297-40f3eca4d44b",
   "metadata": {},
   "outputs": [
    {
     "name": "stdout",
     "output_type": "stream",
     "text": [
      "5000\n"
     ]
    }
   ],
   "source": [
    "print(len(validationGraphs))"
   ]
  },
  {
   "cell_type": "code",
   "execution_count": 110,
   "id": "3bc551c9-a64b-46e5-b8e2-76481f3067e9",
   "metadata": {},
   "outputs": [
    {
     "data": {
      "text/plain": [
       "[(134, 16), (134, 134), (125, 51), (1,)]"
      ]
     },
     "execution_count": 110,
     "metadata": {},
     "output_type": "execute_result"
    }
   ],
   "source": [
    "[item.shape for item in validationGraphs[0]]"
   ]
  },
  {
   "cell_type": "markdown",
   "id": "9a3e92ed-d2b2-4d73-a945-62e5ed82d9bc",
   "metadata": {},
   "source": [
    "##### 😳 **Test Graphs** 😳"
   ]
  },
  {
   "cell_type": "code",
   "execution_count": 113,
   "id": "4fa88f76-9483-4f1a-9dee-0e62cdfbbbc9",
   "metadata": {},
   "outputs": [
    {
     "name": "stdout",
     "output_type": "stream",
     "text": [
      "3177.3946277080013\n"
     ]
    }
   ],
   "source": [
    "startTime = time.perf_counter()\n",
    "testGraphs = joblib.Parallel(n_jobs=8, prefer=\"threads\")(joblib.delayed(convertToGraph)(testFeatures[i], testLabels[i]) for i in range(numTest))\n",
    "timeElapsed = time.perf_counter() - startTime\n",
    "print(timeElapsed)"
   ]
  },
  {
   "cell_type": "code",
   "execution_count": 114,
   "id": "6df332df-5d2b-4556-a40c-0955bbf66f70",
   "metadata": {},
   "outputs": [
    {
     "name": "stdout",
     "output_type": "stream",
     "text": [
      "25000\n"
     ]
    }
   ],
   "source": [
    "print(len(testGraphs))"
   ]
  },
  {
   "cell_type": "code",
   "execution_count": 115,
   "id": "2439caa6-d710-41cc-923e-ae09a6d5ef08",
   "metadata": {},
   "outputs": [
    {
     "data": {
      "text/plain": [
       "[(220, 16), (220, 220), (210, 51), (1,)]"
      ]
     },
     "execution_count": 115,
     "metadata": {},
     "output_type": "execute_result"
    }
   ],
   "source": [
    "[item.shape for item in testGraphs[0]]"
   ]
  },
  {
   "cell_type": "markdown",
   "id": "dd47af7b-5070-4c98-9653-cf2df26f2bff",
   "metadata": {
    "jp-MarkdownHeadingCollapsed": true,
    "tags": []
   },
   "source": [
    "#### 🏎 Speed test (I AM SPEED) 🏎"
   ]
  },
  {
   "cell_type": "code",
   "execution_count": 802,
   "id": "42961004-89e0-41d7-b0fe-1ab98a98f387",
   "metadata": {},
   "outputs": [],
   "source": [
    "sentences = []\n",
    "labels = []\n",
    "for i in range(10):\n",
    "    sentence = trainFeatures[i]\n",
    "    label = trainLabels[i]\n",
    "    sentences.append(sentence)\n",
    "    labels.append(label)"
   ]
  },
  {
   "cell_type": "code",
   "execution_count": 871,
   "id": "e87e8bbf-b5d4-4051-85d7-a2c1b6ab1fcd",
   "metadata": {},
   "outputs": [
    {
     "name": "stdout",
     "output_type": "stream",
     "text": [
      "I love this show!  Every time i watch an episode i repeat that line and remind myself how good of a \n",
      "I gave it a 10, since everyone else seemed to like it and it would have been churlish not to. The re\n",
      "Considering its pedigree, this should be a far more enjoyable film than it is. Even with a lip-smack\n",
      "Give this movie a break! Its worth at least a \"7\"! That little girl is a good actor and she's cute, \n",
      "Actually had to stop it. Don't get me wrong, love bad monster movies. But this one was way too borin\n"
     ]
    }
   ],
   "source": [
    "for sentence in sentences[0:5]:\n",
    "    print(sentence[0:100])"
   ]
  },
  {
   "cell_type": "code",
   "execution_count": 803,
   "id": "d0a2cb05-a626-4d98-acae-c56e4fc8ec76",
   "metadata": {},
   "outputs": [],
   "source": [
    "import time"
   ]
  },
  {
   "cell_type": "code",
   "execution_count": 804,
   "id": "9eda0e62-b80c-47b8-929d-6fff7971b874",
   "metadata": {},
   "outputs": [
    {
     "name": "stdout",
     "output_type": "stream",
     "text": [
      "3.5648865830007708\n"
     ]
    }
   ],
   "source": [
    "startTime = time.perf_counter()\n",
    "docs = []\n",
    "for sentence in sentences:\n",
    "    doc = nlp(sentence)\n",
    "    docs.append(doc)\n",
    "timeElapsed = time.perf_counter() - startTime\n",
    "print(timeElapsed)"
   ]
  },
  {
   "cell_type": "code",
   "execution_count": 872,
   "id": "285121b4-3200-4e7b-9502-4ff0d102990f",
   "metadata": {},
   "outputs": [
    {
     "name": "stdout",
     "output_type": "stream",
     "text": [
      "I love this show!\n",
      "I gave it a 10, since everyone else seemed to like it and it would have been churlish not to.\n",
      "Considering its pedigree, this should be a far more enjoyable film than it is.\n",
      "Give this movie a break!\n",
      "Actually had to stop it.\n"
     ]
    }
   ],
   "source": [
    "for doc in docs[0:5]:\n",
    "    print(doc.sentences[0].text)"
   ]
  },
  {
   "cell_type": "code",
   "execution_count": 873,
   "id": "2fc03d38-bc35-4a13-94b5-e872e6e61f4f",
   "metadata": {},
   "outputs": [],
   "source": [
    "def runDepenParse(sentence):\n",
    "    return(nlp(sentence))"
   ]
  },
  {
   "cell_type": "code",
   "execution_count": 880,
   "id": "767ee204-73e5-4ef0-8a21-8de58a8c766f",
   "metadata": {},
   "outputs": [
    {
     "name": "stdout",
     "output_type": "stream",
     "text": [
      "1.400063583991141\n"
     ]
    }
   ],
   "source": [
    "startTime = time.perf_counter()\n",
    "parallelDocs = joblib.Parallel(n_jobs=8, prefer=\"threads\")(joblib.delayed(nlp)(sentences[i]) for i in range(len(sentences)))\n",
    "timeElapsed = time.perf_counter() - startTime\n",
    "print(timeElapsed)"
   ]
  },
  {
   "cell_type": "code",
   "execution_count": 881,
   "id": "674476bd-77a3-4190-a1c3-0a959b6448ee",
   "metadata": {},
   "outputs": [
    {
     "name": "stdout",
     "output_type": "stream",
     "text": [
      "I love this show!\n",
      "I gave it a 10, since everyone else seemed to like it and it would have been churlish not to.\n",
      "Considering its pedigree, this should be a far more enjoyable film than it is.\n",
      "Give this movie a break!\n",
      "Actually had to stop it.\n"
     ]
    }
   ],
   "source": [
    "for doc in parallelDocs[0:5]:\n",
    "    print(doc.sentences[0].text)"
   ]
  },
  {
   "cell_type": "code",
   "execution_count": 815,
   "id": "51561309-1bb7-460c-843c-0fbf69cbe06e",
   "metadata": {},
   "outputs": [
    {
     "name": "stdout",
     "output_type": "stream",
     "text": [
      "[0.0016565000114496797, 0.8239069159899373, 4.258399712853134e-05]\n",
      "[0.0005920830008108169, 0.880328291998012, 5.966699973214418e-05]\n",
      "[0.0004295000107958913, 0.5279259999952046, 4.3624997488223016e-05]\n",
      "[0.00021374999778345227, 0.1548051249992568, 2.400000812485814e-05]\n",
      "[0.0004080420039827004, 0.41955416700511705, 3.466599446255714e-05]\n",
      "[0.0003648330020951107, 0.38100525000481866, 3.6124998587183654e-05]\n",
      "[8.412500028498471e-05, 0.050149124988820404, 1.2541000614874065e-05]\n",
      "[0.00044112501200288534, 0.6078953749965876, 4.849999095313251e-05]\n",
      "[0.0008354589954251423, 1.7352896660013357, 6.474999827332795e-05]\n",
      "[0.0004531250015133992, 0.6398550419980893, 4.225000157020986e-05]\n",
      "6.228190624999115\n"
     ]
    }
   ],
   "source": [
    "performanceTest = []\n",
    "startTime = time.perf_counter()\n",
    "for i in range(len(docs)):\n",
    "    doc = docs[i]\n",
    "    label = labels[i]\n",
    "    newGraph = createGraph(doc, label)\n",
    "    performanceTest.append(newGraph)\n",
    "timeElapsed = time.perf_counter() - startTime\n",
    "print(timeElapsed)"
   ]
  },
  {
   "cell_type": "code",
   "execution_count": 821,
   "id": "8448e940-8289-41e9-a24c-ef4e81f7d5b8",
   "metadata": {},
   "outputs": [
    {
     "data": {
      "text/plain": [
       "(68, 128)"
      ]
     },
     "execution_count": 821,
     "metadata": {},
     "output_type": "execute_result"
    }
   ],
   "source": [
    "performanceTest[0][0].shape"
   ]
  },
  {
   "cell_type": "code",
   "execution_count": 823,
   "id": "bd3d2628-c115-4d30-af0e-e6329745362f",
   "metadata": {},
   "outputs": [
    {
     "name": "stderr",
     "output_type": "stream",
     "text": [
      "2022-05-30 20:44:46.623199: I tensorflow/core/grappler/optimizers/custom_graph_optimizer_registry.cc:113] Plugin optimizer for device_type GPU is enabled.\n"
     ]
    },
    {
     "name": "stdout",
     "output_type": "stream",
     "text": [
      "[0.0014568749902537093, 0.650831000006292, 4.850000550504774e-05]\n"
     ]
    },
    {
     "name": "stderr",
     "output_type": "stream",
     "text": [
      "2022-05-30 20:44:47.259807: I tensorflow/core/grappler/optimizers/custom_graph_optimizer_registry.cc:113] Plugin optimizer for device_type GPU is enabled.\n"
     ]
    },
    {
     "name": "stdout",
     "output_type": "stream",
     "text": [
      "[0.000592500000493601, 1.0497337500128197, 5.037499067839235e-05]\n"
     ]
    },
    {
     "name": "stderr",
     "output_type": "stream",
     "text": [
      "2022-05-30 20:44:48.308816: I tensorflow/core/grappler/optimizers/custom_graph_optimizer_registry.cc:113] Plugin optimizer for device_type GPU is enabled.\n"
     ]
    },
    {
     "name": "stdout",
     "output_type": "stream",
     "text": [
      "[0.00040020800952333957, 0.6706725839903811, 4.2750005377456546e-05]\n"
     ]
    },
    {
     "name": "stderr",
     "output_type": "stream",
     "text": [
      "2022-05-30 20:44:48.981627: I tensorflow/core/grappler/optimizers/custom_graph_optimizer_registry.cc:113] Plugin optimizer for device_type GPU is enabled.\n"
     ]
    },
    {
     "name": "stdout",
     "output_type": "stream",
     "text": [
      "[0.0002625420020194724, 0.2348579579993384, 2.4708002456463873e-05]\n"
     ]
    },
    {
     "name": "stderr",
     "output_type": "stream",
     "text": [
      "2022-05-30 20:44:49.218482: I tensorflow/core/grappler/optimizers/custom_graph_optimizer_registry.cc:113] Plugin optimizer for device_type GPU is enabled.\n"
     ]
    },
    {
     "name": "stdout",
     "output_type": "stream",
     "text": [
      "[0.00036829200689680874, 0.42855179199250415, 3.783300053328276e-05]\n"
     ]
    },
    {
     "name": "stderr",
     "output_type": "stream",
     "text": [
      "2022-05-30 20:44:49.645511: I tensorflow/core/grappler/optimizers/custom_graph_optimizer_registry.cc:113] Plugin optimizer for device_type GPU is enabled.\n"
     ]
    },
    {
     "name": "stdout",
     "output_type": "stream",
     "text": [
      "[0.0003355830122018233, 0.39810258299985435, 3.258399374317378e-05]\n",
      "[7.166700379457325e-05, 0.10051387498970143, 1.4375007594935596e-05]\n"
     ]
    },
    {
     "name": "stderr",
     "output_type": "stream",
     "text": [
      "2022-05-30 20:44:50.043553: I tensorflow/core/grappler/optimizers/custom_graph_optimizer_registry.cc:113] Plugin optimizer for device_type GPU is enabled.\n",
      "2022-05-30 20:44:50.145551: I tensorflow/core/grappler/optimizers/custom_graph_optimizer_registry.cc:113] Plugin optimizer for device_type GPU is enabled.\n"
     ]
    },
    {
     "name": "stdout",
     "output_type": "stream",
     "text": [
      "[0.00044062500819563866, 0.6135991249902872, 4.1000006604008377e-05]\n"
     ]
    },
    {
     "name": "stderr",
     "output_type": "stream",
     "text": [
      "2022-05-30 20:44:50.759863: I tensorflow/core/grappler/optimizers/custom_graph_optimizer_registry.cc:113] Plugin optimizer for device_type GPU is enabled.\n"
     ]
    },
    {
     "name": "stdout",
     "output_type": "stream",
     "text": [
      "[0.0006962500046938658, 1.3325668750039767, 6.137500167824328e-05]\n"
     ]
    },
    {
     "name": "stderr",
     "output_type": "stream",
     "text": [
      "2022-05-30 20:44:52.093539: I tensorflow/core/grappler/optimizers/custom_graph_optimizer_registry.cc:113] Plugin optimizer for device_type GPU is enabled.\n"
     ]
    },
    {
     "name": "stdout",
     "output_type": "stream",
     "text": [
      "[0.0004484169912757352, 0.6950325420039007, 3.9165999623946846e-05]\n",
      "6.181251499991049\n"
     ]
    }
   ],
   "source": [
    "performanceCustomTest = []\n",
    "startTime = time.perf_counter()\n",
    "for i in range(len(docs)):\n",
    "    doc = docs[i]\n",
    "    label = labels[i]\n",
    "    newGraph = createCustomGraph(doc, label)\n",
    "    performanceCustomTest.append(newGraph)\n",
    "timeElapsed = time.perf_counter() - startTime\n",
    "print(timeElapsed)"
   ]
  },
  {
   "cell_type": "code",
   "execution_count": 834,
   "id": "97b37c23-798f-4d78-bf84-a9e850562730",
   "metadata": {},
   "outputs": [
    {
     "data": {
      "text/plain": [
       "(68, 10)"
      ]
     },
     "execution_count": 834,
     "metadata": {},
     "output_type": "execute_result"
    }
   ],
   "source": [
    "performanceCustomTest[0][0].shape"
   ]
  },
  {
   "cell_type": "code",
   "execution_count": 883,
   "id": "1ccb156d-52a6-427c-9e79-b312e4f9899b",
   "metadata": {},
   "outputs": [
    {
     "name": "stdout",
     "output_type": "stream",
     "text": [
      "68\n",
      "91\n",
      "67\n",
      "29\n",
      "56\n",
      "55\n",
      "8\n",
      "69\n",
      "113\n",
      "73\n",
      "0.04741829200065695\n"
     ]
    }
   ],
   "source": [
    "performanceCustomTest2 = []\n",
    "startTime = time.perf_counter()\n",
    "for i in range(len(docs)):\n",
    "    doc = docs[i]\n",
    "    label = labels[i]\n",
    "    newGraph = createGraphAlpha(doc, label)\n",
    "    performanceCustomTest2.append(newGraph)\n",
    "timeElapsed = time.perf_counter() - startTime\n",
    "print(timeElapsed)"
   ]
  },
  {
   "cell_type": "code",
   "execution_count": 867,
   "id": "7b350c6e-1af5-4e56-9494-6ffcc94c4841",
   "metadata": {},
   "outputs": [
    {
     "data": {
      "text/plain": [
       "(68, 10)"
      ]
     },
     "execution_count": 867,
     "metadata": {},
     "output_type": "execute_result"
    }
   ],
   "source": [
    "performanceCustomTest2[0][0].shape"
   ]
  },
  {
   "cell_type": "code",
   "execution_count": 863,
   "id": "296ada08-fc49-4037-9bee-24515cc1b88c",
   "metadata": {},
   "outputs": [
    {
     "data": {
      "text/plain": [
       "Graph(n_nodes=68, n_node_features=10, n_edge_features=51, n_labels=1)"
      ]
     },
     "execution_count": 863,
     "metadata": {},
     "output_type": "execute_result"
    }
   ],
   "source": [
    "Graph(performanceCustomTest2[0][0], performanceCustomTest2[0][1], performanceCustomTest2[0][2], performanceCustomTest2[0][3])"
   ]
  },
  {
   "cell_type": "code",
   "execution_count": 859,
   "id": "3786527c-bf19-4973-bab8-c3058f60c4b6",
   "metadata": {},
   "outputs": [
    {
     "data": {
      "text/plain": [
       "array([1])"
      ]
     },
     "execution_count": 859,
     "metadata": {},
     "output_type": "execute_result"
    }
   ],
   "source": [
    "performanceCustomTest2[0][3]"
   ]
  },
  {
   "cell_type": "markdown",
   "id": "deluxe-globe",
   "metadata": {},
   "source": [
    "### 📀 Custom Graph Datasets 📀"
   ]
  },
  {
   "cell_type": "markdown",
   "id": "ad22f7f9-7913-4a6c-a80b-c0e4f9002ead",
   "metadata": {},
   "source": [
    "Training the graph model requires custom graph datasets. We need to convert the list of graphs into dataset objects.\n",
    "\n",
    "These classes (TrainDataset, ValDataset, TestDataset) will also download the list of graphs into the directory containing the spektral package. This means you could just read those graphs from the same directory next time rather than running convertToGraph again."
   ]
  },
  {
   "cell_type": "markdown",
   "id": "c16b5eda-b00a-4d00-9a43-8fba4994b6f0",
   "metadata": {},
   "source": [
    "#### 🐝 TrainDataset 🐝"
   ]
  },
  {
   "cell_type": "code",
   "execution_count": 7,
   "id": "stone-booking",
   "metadata": {},
   "outputs": [],
   "source": [
    "from spektral.data import Dataset \n",
    "from spektral.data.graph import Graph\n",
    "import os"
   ]
  },
  {
   "cell_type": "code",
   "execution_count": 8,
   "id": "specified-vector",
   "metadata": {},
   "outputs": [],
   "source": [
    "class TrainDataset(Dataset):\n",
    "    \"\"\"\n",
    "    A dataset of train graphs.\n",
    "    \"\"\"\n",
    "    def __init__(self, new=True, **kwargs):\n",
    "        if new:\n",
    "            self.download()\n",
    "        super().__init__(**kwargs)\n",
    "    \n",
    "    def download(self):\n",
    "        # Create the directory\n",
    "        try:\n",
    "            os.mkdir(self.path)\n",
    "        except:\n",
    "            pass\n",
    "\n",
    "        # Write the data to file\n",
    "        for i in range(len(trainGraphs)):\n",
    "            x = trainGraphs[i][0]\n",
    "            a = trainGraphs[i][1]\n",
    "            e = trainGraphs[i][2]\n",
    "            y = trainGraphs[i][3]\n",
    "\n",
    "            filename = os.path.join(self.path, f'graph_{i}')\n",
    "            np.savez(filename, x=x, a=a, e=e, y=y)\n",
    "            \n",
    "\n",
    "    def read(self):\n",
    "        # We must return a list of Graph objects\n",
    "        output = []\n",
    "\n",
    "        for i in range(len(trainGraphs)):\n",
    "            data = np.load(os.path.join(self.path, f'graph_{i}.npz'), allow_pickle=True)\n",
    "            # print(data['a'])\n",
    "            output.append(\n",
    "                Graph(x=data['x'], a=data['a'], e=data['e'], y=data['y'])\n",
    "            )\n",
    "        return output"
   ]
  },
  {
   "cell_type": "markdown",
   "id": "5bf69316-f80e-4ec1-97d3-8745fa50d831",
   "metadata": {},
   "source": [
    "#### 🐝 ValDataset 🐝"
   ]
  },
  {
   "cell_type": "code",
   "execution_count": 9,
   "id": "reduced-tokyo",
   "metadata": {},
   "outputs": [],
   "source": [
    "class ValDataset(Dataset):\n",
    "    \"\"\"\n",
    "    A dataset of val graphs.\n",
    "    \"\"\"\n",
    "    def __init__(self, new=True, **kwargs):\n",
    "        if new:\n",
    "            self.download()\n",
    "        super().__init__(**kwargs)\n",
    "    \n",
    "    def download(self):\n",
    "        # Create the directory\n",
    "        try:\n",
    "            os.mkdir(self.path)\n",
    "        except:\n",
    "            pass\n",
    "\n",
    "        # Write the data to file\n",
    "        for i in range(len(validationGraphs)):\n",
    "            x = validationGraphs[i][0]\n",
    "            a = validationGraphs[i][1]\n",
    "            e = validationGraphs[i][2]\n",
    "            y = validationGraphs[i][3]\n",
    "\n",
    "            filename = os.path.join(self.path, f'graph_val_{i}')\n",
    "            np.savez(filename, x=x, a=a, e=e, y=y)\n",
    "            \n",
    "\n",
    "    def read(self):\n",
    "        # We must return a list of Graph objects\n",
    "        output = []\n",
    "\n",
    "        for i in range(len(validationGraphs)):\n",
    "            data = np.load(os.path.join(self.path, f'graph_val_{i}.npz'), allow_pickle=True)\n",
    "            # print(data['a'])\n",
    "            output.append(\n",
    "                Graph(x=data['x'], a=data['a'], e=data['e'], y=data['y'])\n",
    "            )\n",
    "        return output"
   ]
  },
  {
   "cell_type": "markdown",
   "id": "9e06b57e-ef83-487c-a5d9-cc63ca6b479c",
   "metadata": {},
   "source": [
    "#### 🐝 TestDataset 🐝"
   ]
  },
  {
   "cell_type": "code",
   "execution_count": 10,
   "id": "c050412f-d9d1-45ee-92ba-460dcabd0747",
   "metadata": {},
   "outputs": [],
   "source": [
    "class TestDataset(Dataset):\n",
    "    \"\"\"\n",
    "    A dataset of val graphs.\n",
    "    \"\"\"\n",
    "    def __init__(self, new=True, **kwargs):\n",
    "        if new:\n",
    "            self.download()\n",
    "        super().__init__(**kwargs)\n",
    "    \n",
    "    def download(self):\n",
    "        # Create the directory\n",
    "        try:\n",
    "            os.mkdir(self.path)\n",
    "        except:\n",
    "            pass\n",
    "\n",
    "        # Write the data to file\n",
    "        for i in range(len(testGraphs)):\n",
    "            x = testGraphs[i][0]\n",
    "            a = testGraphs[i][1]\n",
    "            e = testGraphs[i][2]\n",
    "            y = testGraphs[i][3]\n",
    "\n",
    "            filename = os.path.join(self.path, f'graph_test_{i}')\n",
    "            np.savez(filename, x=x, a=a, e=e, y=y)\n",
    "            \n",
    "\n",
    "    def read(self):\n",
    "        # We must return a list of Graph objects\n",
    "        output = []\n",
    "\n",
    "        for i in range(len(testGraphs)):\n",
    "            data = np.load(os.path.join(self.path, f'graph_test_{i}.npz'), allow_pickle=True)\n",
    "            # print(data['a'])\n",
    "            output.append(\n",
    "                Graph(x=data['x'], a=data['a'], e=data['e'], y=data['y'])\n",
    "            )\n",
    "        return output"
   ]
  },
  {
   "cell_type": "markdown",
   "id": "1228e1b5-bc31-432d-89e5-71df5990c122",
   "metadata": {},
   "source": [
    "#### 🐝 loadGraphs 🐝"
   ]
  },
  {
   "cell_type": "markdown",
   "id": "7de40c10-fc12-4306-83e5-f17ddba17ab8",
   "metadata": {},
   "source": [
    "These help load existing graphs in the spektral directory"
   ]
  },
  {
   "cell_type": "code",
   "execution_count": 11,
   "id": "0694682e-db68-4ccb-ace1-fe3dd995cda6",
   "metadata": {},
   "outputs": [],
   "source": [
    "def loadValGraph(graphDir, index):\n",
    "    data = np.load(os.path.join(graphDir, f'graph_val_{index}.npz'), allow_pickle=True)\n",
    "    graph = Graph(x=data['x'], a=data['a'], e=data['e'], y=data['y'])\n",
    "    return graph\n",
    "\n",
    "def loadTrainGraph(graphDir, index):\n",
    "    data = np.load(os.path.join(graphDir, f'graph_{index}.npz'), allow_pickle=True)\n",
    "    graph = Graph(x=data['x'], a=data['a'], e=data['e'], y=data['y'])\n",
    "    return graph\n",
    "\n",
    "def loadTestGraph(graphDir, index):\n",
    "    data = np.load(os.path.join(graphDir, f'graph_test_{index}.npz'), allow_pickle=True)\n",
    "    graph = Graph(x=data['x'], a=data['a'], e=data['e'], y=data['y'])\n",
    "    return graph"
   ]
  },
  {
   "cell_type": "markdown",
   "id": "aebffbee-e37a-47e8-a2fb-e00b60a88408",
   "metadata": {},
   "source": [
    "#### 😎 Create the Data Sets 😎"
   ]
  },
  {
   "cell_type": "code",
   "execution_count": 12,
   "id": "1ecb711e-a662-4a23-bd35-0945506a9dfc",
   "metadata": {},
   "outputs": [],
   "source": [
    "# to load prev generated val graphs\n",
    "valGraphDir = '/Users/zeyuyang/spektral/datasets/ValDataset'\n",
    "valGraphNum = 5000\n",
    "validationGraphs = [loadValGraph(valGraphDir, i) for i in range(valGraphNum)]"
   ]
  },
  {
   "cell_type": "code",
   "execution_count": 13,
   "id": "sophisticated-reservation",
   "metadata": {},
   "outputs": [
    {
     "data": {
      "text/plain": [
       "ValDataset(n_graphs=5000)"
      ]
     },
     "execution_count": 13,
     "metadata": {},
     "output_type": "execute_result"
    }
   ],
   "source": [
    "valDataset = ValDataset(False)\n",
    "valDataset"
   ]
  },
  {
   "cell_type": "code",
   "execution_count": 14,
   "id": "2e3d4798-6934-4195-bf50-715b56f00961",
   "metadata": {
    "tags": []
   },
   "outputs": [
    {
     "data": {
      "text/plain": [
       "Graph(n_nodes=134, n_node_features=16, n_edge_features=51, n_labels=1)"
      ]
     },
     "execution_count": 14,
     "metadata": {},
     "output_type": "execute_result"
    }
   ],
   "source": [
    "valDataset[0]"
   ]
  },
  {
   "cell_type": "code",
   "execution_count": 15,
   "id": "bdffbbdd-01ec-4876-8f1c-c6f6b59fd019",
   "metadata": {},
   "outputs": [],
   "source": [
    "# to load prev generated train graphs\n",
    "trainGraphDir = '/Users/zeyuyang/spektral/datasets/TrainDataset'\n",
    "trainGraphNum = 20000\n",
    "trainGraphs = [loadTrainGraph(trainGraphDir, i) for i in range(trainGraphNum)]"
   ]
  },
  {
   "cell_type": "code",
   "execution_count": 16,
   "id": "amateur-district",
   "metadata": {},
   "outputs": [
    {
     "data": {
      "text/plain": [
       "TrainDataset(n_graphs=20000)"
      ]
     },
     "execution_count": 16,
     "metadata": {},
     "output_type": "execute_result"
    }
   ],
   "source": [
    "trainDataset = TrainDataset(False)\n",
    "trainDataset"
   ]
  },
  {
   "cell_type": "code",
   "execution_count": 17,
   "id": "9d530ec5-521d-488b-804b-d87ef9b7cb35",
   "metadata": {},
   "outputs": [
    {
     "data": {
      "text/plain": [
       "Graph(n_nodes=158, n_node_features=16, n_edge_features=51, n_labels=1)"
      ]
     },
     "execution_count": 17,
     "metadata": {},
     "output_type": "execute_result"
    }
   ],
   "source": [
    "trainDataset[0]"
   ]
  },
  {
   "cell_type": "code",
   "execution_count": 18,
   "id": "a2ed12af-6705-44b6-b6bb-78712bb3893b",
   "metadata": {},
   "outputs": [],
   "source": [
    "# to load prev generated test graphs\n",
    "testGraphDir = '/Users/zeyuyang/spektral/datasets/TestDataset'\n",
    "testGraphNum = 25000\n",
    "testGraphs = [loadTestGraph(testGraphDir, i) for i in range(testGraphNum)]"
   ]
  },
  {
   "cell_type": "code",
   "execution_count": 19,
   "id": "76a64e13-9c98-4ba3-838f-a1a510295eb2",
   "metadata": {},
   "outputs": [
    {
     "data": {
      "text/plain": [
       "TestDataset(n_graphs=25000)"
      ]
     },
     "execution_count": 19,
     "metadata": {},
     "output_type": "execute_result"
    }
   ],
   "source": [
    "testDataset = TestDataset(False)\n",
    "testDataset"
   ]
  },
  {
   "cell_type": "code",
   "execution_count": 20,
   "id": "522b3c18-2f7c-4c7d-9a51-3e396e7f8fd2",
   "metadata": {},
   "outputs": [
    {
     "data": {
      "text/plain": [
       "Graph(n_nodes=220, n_node_features=16, n_edge_features=51, n_labels=1)"
      ]
     },
     "execution_count": 20,
     "metadata": {},
     "output_type": "execute_result"
    }
   ],
   "source": [
    "testDataset[0]"
   ]
  },
  {
   "cell_type": "markdown",
   "id": "satisfied-alexander",
   "metadata": {},
   "source": [
    "### 🤖 Model and Training 🤖"
   ]
  },
  {
   "cell_type": "markdown",
   "id": "deaef641-4bd7-4915-a1d3-c88dd237d1fc",
   "metadata": {},
   "source": [
    "#### 📦 Basic Imports 📦"
   ]
  },
  {
   "cell_type": "code",
   "execution_count": 21,
   "id": "brave-rally",
   "metadata": {},
   "outputs": [],
   "source": [
    "from tensorflow.keras.models import Model\n",
    "from tensorflow.keras.layers import Dense, Dropout, Conv1D, Embedding\n",
    "from spektral.layers import GCNConv, GlobalSumPool"
   ]
  },
  {
   "cell_type": "code",
   "execution_count": 22,
   "id": "20515141-7f44-4ec0-863e-fcf112f17060",
   "metadata": {},
   "outputs": [],
   "source": [
    "from tensorflow.keras.layers import LeakyReLU, PReLU\n",
    "import customECCN\n",
    "from importlib import reload\n",
    "import keras.backend as K"
   ]
  },
  {
   "cell_type": "markdown",
   "id": "321f4835-ef2a-449d-b31e-978aba13c1e4",
   "metadata": {},
   "source": [
    "The custom edge conditioned convolution layer"
   ]
  },
  {
   "cell_type": "markdown",
   "id": "c3b581a4-7cd0-4e06-be2a-62ed6ad4a9da",
   "metadata": {},
   "source": [
    "#### 🧱 Model Architecture 🧱"
   ]
  },
  {
   "cell_type": "code",
   "execution_count": null,
   "id": "advance-explosion",
   "metadata": {},
   "outputs": [],
   "source": [
    "class MyFirstGNN(Model):\n",
    "\n",
    "    def __init__(self, n_hidden, n_labels):\n",
    "        super().__init__()\n",
    "        self.graph_conv = GCNConv(n_hidden, activation='relu')\n",
    "        self.AGNNCONV = spektral.layers.AGNNConv(trainable=True, aggregate='sum', activation=None)\n",
    "        self.GenConv = spektral.layers.GeneralConv(channels=n_hidden, batch_norm=True, dropout=0.0,\n",
    "                                                   aggregate='sum', activation='prelu', use_bias=True,\n",
    "                                                   kernel_initializer='glorot_uniform', bias_initializer='zeros',\n",
    "                                                   kernel_regularizer=None, bias_regularizer=None, activity_regularizer=None,\n",
    "                                                   kernel_constraint=None, bias_constraint=None)\n",
    "        self.graphAtten = spektral.layers.GATConv(channels=n_hidden, attn_heads=5,\n",
    "                                                  concat_heads=True, dropout_rate=0.2, return_attn_coef=False,\n",
    "                                                  add_self_loops=True, activation=None, use_bias=True, kernel_initializer='glorot_uniform',\n",
    "                                                  bias_initializer='zeros', attn_kernel_initializer='glorot_uniform', kernel_regularizer=None,\n",
    "                                                  bias_regularizer=None, attn_kernel_regularizer=None, activity_regularizer=None,\n",
    "                                                  kernel_constraint=None, bias_constraint=None, attn_kernel_constraint=None)\n",
    "        self.graphECC = spektral.layers.ECCConv(channels=n_hidden, kernel_network=None, root=True, activation='relu', use_bias=True,\n",
    "                                                kernel_initializer='glorot_uniform', bias_initializer='zeros', kernel_regularizer=None,\n",
    "                                                bias_regularizer=None, activity_regularizer=None, kernel_constraint=None, \n",
    "                                                bias_constraint=None)\n",
    "        self.customECC = customECCN.ECCConv(channels=n_hidden, kernel_network=[64], root=True, activation='relu', use_bias=True,\n",
    "                                                kernel_initializer='glorot_uniform', bias_initializer='zeros', kernel_regularizer=None,\n",
    "                                                bias_regularizer=None, activity_regularizer=None, kernel_constraint=None, \n",
    "                                                bias_constraint=None)\n",
    "        self.customECC2 = customECCN.ECCConv(channels=n_hidden, kernel_network=[64], root=True, activation='relu', use_bias=True,\n",
    "                                                kernel_initializer='glorot_uniform', bias_initializer='zeros', kernel_regularizer=None,\n",
    "                                                bias_regularizer=None, activity_regularizer=None, kernel_constraint=None, \n",
    "                                                bias_constraint=None)\n",
    "        self.avePool = spektral.layers.GlobalAvgPool()\n",
    "        self.maxPool = spektral.layers.GlobalMaxPool()\n",
    "        self.dense1 = Dense(16, activation='relu')\n",
    "        self.dropout1 = Dropout(0.2)\n",
    "        self.dropout2 = Dropout(0.2)\n",
    "        self.dense = Dense(1, 'sigmoid')\n",
    "\n",
    "    def call(self, inputs):\n",
    "        if len(inputs) == 3:\n",
    "            x, a, i = inputs\n",
    "        else:\n",
    "            x, a, e, i = inputs\n",
    "    \n",
    "        # x = self.graphECC([x,a,e])\n",
    "        x = self.customECC([x,a,e])\n",
    "        # x = self.graph_conv([x,a])\n",
    "        # x = self.customECC2([x,a,e])\n",
    "        out = self.avePool([x, i])\n",
    "        # out2 = self.maxPool([x, i])\n",
    "        # out = tf.keras.layers.Concatenate()([out, out2])\n",
    "        # print(tf.shape(out))\n",
    "        # out = self.dropout1(out)\n",
    "        out = self.dense1(out)\n",
    "        out = self.dropout2(out)\n",
    "        out = self.dense(out)\n",
    "        return out"
   ]
  },
  {
   "cell_type": "markdown",
   "id": "deaf1423-bdb9-4f1d-9083-72368d14e4b1",
   "metadata": {},
   "source": [
    "#### 🚂 Compile and Train 🚂"
   ]
  },
  {
   "cell_type": "code",
   "execution_count": 75,
   "id": "3b95aa20-0cba-4d62-af82-a0e80854796f",
   "metadata": {},
   "outputs": [],
   "source": [
    "tf.keras.backend.clear_session()"
   ]
  },
  {
   "cell_type": "code",
   "execution_count": 76,
   "id": "3969d520-f3ee-4955-9659-0b8b98f45895",
   "metadata": {},
   "outputs": [],
   "source": [
    "numHidden = 16\n",
    "numLabels = 1"
   ]
  },
  {
   "cell_type": "code",
   "execution_count": 77,
   "id": "aboriginal-white",
   "metadata": {},
   "outputs": [],
   "source": [
    "graphModel = MyFirstGNN(numHidden, numLabels)\n",
    "graphModel.compile('rmsprop', 'binary_crossentropy', metrics=['accuracy',])"
   ]
  },
  {
   "cell_type": "code",
   "execution_count": 460,
   "id": "running-intake",
   "metadata": {},
   "outputs": [],
   "source": [
    "trainLoader = spektral.data.loaders.DisjointLoader(trainDataset, node_level=False, batch_size=80, epochs=None, shuffle=True)\n",
    "\n",
    "validationLoader = spektral.data.loaders.DisjointLoader(valDataset, node_level=False, batch_size=80)\n",
    "\n",
    "testLoader = spektral.data.loaders.DisjointLoader(testDataset, node_level=False, batch_size=80)"
   ]
  },
  {
   "cell_type": "code",
   "execution_count": null,
   "id": "average-miami",
   "metadata": {},
   "outputs": [],
   "source": [
    "history = graphModel.fit(trainLoader.load(),\n",
    "              validation_data=validationLoader.load(),\n",
    "              steps_per_epoch=trainLoader.steps_per_epoch,\n",
    "              validation_steps=validationLoader.steps_per_epoch,\n",
    "              epochs=5)"
   ]
  },
  {
   "cell_type": "code",
   "execution_count": 112,
   "id": "35ab3389-1af7-4d6e-a09f-09778da2f522",
   "metadata": {},
   "outputs": [],
   "source": [
    "modelName = \"loadedModel\""
   ]
  },
  {
   "cell_type": "code",
   "execution_count": null,
   "id": "1af172e2-bc99-4e89-92ee-4291d5fb8b6c",
   "metadata": {},
   "outputs": [],
   "source": [
    "graphModel.save(\"./savedModels/\" + modelName)"
   ]
  },
  {
   "cell_type": "code",
   "execution_count": 107,
   "id": "7230956f-cbf6-4f28-8d5c-346725e70ec5",
   "metadata": {},
   "outputs": [],
   "source": [
    "# Load existing model\n",
    "graphModel = tf.keras.models.load_model('./savedModels/1ECCkernel64_25k_1drop_Avepool/')"
   ]
  },
  {
   "cell_type": "code",
   "execution_count": 108,
   "id": "9eabe47b-473d-4393-8ea3-1717f1b34458",
   "metadata": {},
   "outputs": [
    {
     "name": "stdout",
     "output_type": "stream",
     "text": [
      "Model: \"my_first_gnn\"\n",
      "_________________________________________________________________\n",
      " Layer (type)                Output Shape              Param #   \n",
      "=================================================================\n",
      " gcn_conv (GCNConv)          multiple                  0         \n",
      "                                                                 \n",
      " agnn_conv (AGNNConv)        multiple                  0         \n",
      "                                                                 \n",
      " general_conv (GeneralConv)  multiple                  0         \n",
      "                                                                 \n",
      " gat_conv (GATConv)          multiple                  0         \n",
      "                                                                 \n",
      " ecc_conv (ECCConv)          multiple                  0         \n",
      "                                                                 \n",
      " ecc_conv_1 (ECCConv)        multiple                  20304     \n",
      "                                                                 \n",
      " ecc_conv_2 (ECCConv)        multiple                  0         \n",
      "                                                                 \n",
      " global_avg_pool (GlobalAvgP  multiple                 0         \n",
      " ool)                                                            \n",
      "                                                                 \n",
      " global_max_pool (GlobalMaxP  multiple                 0         \n",
      " ool)                                                            \n",
      "                                                                 \n",
      " dense (Dense)               multiple                  272       \n",
      "                                                                 \n",
      " dropout (Dropout)           multiple                  0         \n",
      "                                                                 \n",
      " dropout_1 (Dropout)         multiple                  0         \n",
      "                                                                 \n",
      " dense_1 (Dense)             multiple                  17        \n",
      "                                                                 \n",
      "=================================================================\n",
      "Total params: 20,593\n",
      "Trainable params: 20,561\n",
      "Non-trainable params: 32\n",
      "_________________________________________________________________\n"
     ]
    }
   ],
   "source": [
    "graphModel.summary()"
   ]
  },
  {
   "cell_type": "markdown",
   "id": "3845a4f3-9eae-4400-807e-30e73148a993",
   "metadata": {
    "tags": []
   },
   "source": [
    "#### 🧐 Evaluate and Analysis 🧐"
   ]
  },
  {
   "cell_type": "code",
   "execution_count": 461,
   "id": "joined-channel",
   "metadata": {},
   "outputs": [
    {
     "name": "stderr",
     "output_type": "stream",
     "text": [
      "/Users/zeyuyang/miniforge3/envs/graphLearning/lib/python3.9/site-packages/spektral-1.1.0-py3.9.egg/spektral/data/utils.py:221: UserWarning: you are shuffling a 'TestDataset' object which is not a subclass of 'Sequence'; `shuffle` is not guaranteed to behave correctly. E.g., non-numpy array/tensor objects with view semantics may contain duplicates after shuffling.\n",
      "  np.random.shuffle(a)\n"
     ]
    },
    {
     "name": "stdout",
     "output_type": "stream",
     "text": [
      "313/313 [==============================] - 252s 803ms/step - loss: 0.3246 - accuracy: 0.8736\n"
     ]
    }
   ],
   "source": [
    "testResult = graphModel.evaluate(testLoader.load(), steps=testLoader.steps_per_epoch)\n",
    "# graphModel.evaluate(validationLoader.load(), steps=validationLoader.steps_per_epoch)\n",
    "# graphModel.evaluate(trainLoader.load(), steps=trainLoader.steps_per_epoch)"
   ]
  },
  {
   "cell_type": "code",
   "execution_count": 462,
   "id": "21a98527-381c-4134-bd62-014df2aa2261",
   "metadata": {},
   "outputs": [
    {
     "data": {
      "text/plain": [
       "[0.32461294531822205, 0.8735600709915161]"
      ]
     },
     "execution_count": 462,
     "metadata": {},
     "output_type": "execute_result"
    }
   ],
   "source": [
    "testResult"
   ]
  },
  {
   "cell_type": "markdown",
   "id": "2cbd3613-65fe-413e-a99a-1883b3f2c12c",
   "metadata": {
    "jp-MarkdownHeadingCollapsed": true,
    "tags": []
   },
   "source": [
    "#### 🍰 Layers and Ablation 🍰"
   ]
  },
  {
   "cell_type": "code",
   "execution_count": null,
   "id": "02f45224-2a08-4770-b155-069d3901973c",
   "metadata": {},
   "outputs": [],
   "source": [
    "graphModel.customECC.weights[2]"
   ]
  },
  {
   "cell_type": "code",
   "execution_count": null,
   "id": "c37db7e4-84b3-4511-b4a3-a7afaf709b29",
   "metadata": {},
   "outputs": [],
   "source": [
    "graphModel.customECC.weights[4]"
   ]
  },
  {
   "cell_type": "code",
   "execution_count": null,
   "id": "99ee3b43-9fca-4cba-807d-f83759da82ad",
   "metadata": {},
   "outputs": [],
   "source": [
    "graphModel.customECC.weights[5]"
   ]
  },
  {
   "cell_type": "code",
   "execution_count": null,
   "id": "a6d64ab5-c2b8-4fee-b189-810d278d6652",
   "metadata": {},
   "outputs": [],
   "source": [
    "graphModel.customECC.la"
   ]
  },
  {
   "cell_type": "markdown",
   "id": "d01f4379-7844-4d35-b47e-1564800b1b22",
   "metadata": {
    "jp-MarkdownHeadingCollapsed": true,
    "tags": []
   },
   "source": [
    "#### 🤌 GNN Explainer 🤌"
   ]
  },
  {
   "cell_type": "code",
   "execution_count": 85,
   "id": "be90e62b-c505-43c9-bf88-7fb946cad61b",
   "metadata": {},
   "outputs": [],
   "source": [
    "preprocess = graphModel.graph_conv.preprocess"
   ]
  },
  {
   "cell_type": "code",
   "execution_count": 86,
   "id": "054c1c2d-edb3-42ea-a604-a2e94dbe00c3",
   "metadata": {},
   "outputs": [],
   "source": [
    "from spektral import models"
   ]
  },
  {
   "cell_type": "code",
   "execution_count": 87,
   "id": "0972ff52-cd9e-465c-bcd0-a9dcb6722108",
   "metadata": {},
   "outputs": [
    {
     "name": "stdout",
     "output_type": "stream",
     "text": [
      "n_hops was automatically inferred to be 7\n"
     ]
    }
   ],
   "source": [
    "explainer = models.gnn_explainer.GNNExplainer(graphModel, n_hops=None, preprocess=preprocess, graph_level=True, verbose=False, learning_rate=0.01, a_size_coef=0.0005, x_size_coef=0.1, a_entropy_coef=0.1, x_entropy_coef=0.1, laplacian_coef=0.0)"
   ]
  },
  {
   "cell_type": "code",
   "execution_count": 88,
   "id": "e74668db-4279-4d6a-a8b8-be1a82d0d2f1",
   "metadata": {},
   "outputs": [],
   "source": [
    "(x, a, e, i), y = next(testLoader)"
   ]
  },
  {
   "cell_type": "code",
   "execution_count": null,
   "id": "3bc6a879-2c25-4c92-afce-fc7383fd10d7",
   "metadata": {},
   "outputs": [],
   "source": []
  },
  {
   "cell_type": "code",
   "execution_count": 89,
   "id": "28ce6311-8e68-40c5-a6d1-51f8a3f0c457",
   "metadata": {},
   "outputs": [],
   "source": [
    "cut_idx = (i == 0).sum()"
   ]
  },
  {
   "cell_type": "code",
   "execution_count": 90,
   "id": "66f7f002-14f1-4027-a8ec-d011b1a8e3ce",
   "metadata": {},
   "outputs": [],
   "source": [
    "x_exp = x[:cut_idx]\n",
    "a_exp = tf.sparse.slice(a, start=[0, 0], size=[cut_idx, cut_idx])"
   ]
  },
  {
   "cell_type": "code",
   "execution_count": 91,
   "id": "fe85f116-63ec-41f9-bea3-fcc2ecde6102",
   "metadata": {},
   "outputs": [
    {
     "name": "stderr",
     "output_type": "stream",
     "text": [
      "2022-06-08 17:42:42.410335: I tensorflow/core/grappler/optimizers/custom_graph_optimizer_registry.cc:113] Plugin optimizer for device_type GPU is enabled.\n"
     ]
    }
   ],
   "source": [
    "# Explain prediction for one graph for GCN\n",
    "adj_mask, feat_mask = explainer.explain_node(x=x_exp, a=a_exp)"
   ]
  },
  {
   "cell_type": "code",
   "execution_count": 99,
   "id": "bee395b0-4152-4707-863f-c31bb50e8103",
   "metadata": {},
   "outputs": [
    {
     "data": {
      "image/png": "[encoded data removed]",
      "text/plain": [
       "<Figure size 432x288 with 1 Axes>"
      ]
     },
     "metadata": {},
     "output_type": "display_data"
    }
   ],
   "source": [
    "# Plot the result\n",
    "G = explainer.plot_subgraph(adj_mask, feat_mask)\n",
    "plt.show()"
   ]
  },
  {
   "cell_type": "code",
   "execution_count": 102,
   "id": "0ae52bb0-2927-41d7-bae5-1c61774be4fc",
   "metadata": {},
   "outputs": [
    {
     "data": {
      "text/plain": [
       "TensorShape([1, 16])"
      ]
     },
     "execution_count": 102,
     "metadata": {},
     "output_type": "execute_result"
    }
   ],
   "source": [
    "feat_mask.shape"
   ]
  },
  {
   "cell_type": "code",
   "execution_count": 103,
   "id": "6f364902-3b24-4edb-b62b-584cd3666809",
   "metadata": {},
   "outputs": [
    {
     "data": {
      "text/plain": [
       "TensorShape([205])"
      ]
     },
     "execution_count": 103,
     "metadata": {},
     "output_type": "execute_result"
    }
   ],
   "source": [
    "adj_mask.shape"
   ]
  },
  {
   "cell_type": "markdown",
   "id": "ed533ea7-6bb2-4fa8-ac1a-5d16a3b1cac7",
   "metadata": {
    "jp-MarkdownHeadingCollapsed": true,
    "tags": []
   },
   "source": [
    "#### 📊 Figures 📊"
   ]
  },
  {
   "cell_type": "code",
   "execution_count": 104,
   "id": "b68ec377-6fb0-4ec9-b5a7-696faf8751de",
   "metadata": {},
   "outputs": [],
   "source": [
    "results_path = './results/' + modelName"
   ]
  },
  {
   "cell_type": "code",
   "execution_count": 465,
   "id": "developing-oregon",
   "metadata": {
    "tags": []
   },
   "outputs": [
    {
     "data": {
      "text/plain": [
       "<matplotlib.legend.Legend at 0x7c085694c0>"
      ]
     },
     "execution_count": 465,
     "metadata": {},
     "output_type": "execute_result"
    },
    {
     "data": {
      "image/png": "[encoded data removed]",
      "text/plain": [
       "<Figure size 432x288 with 1 Axes>"
      ]
     },
     "metadata": {
      "needs_background": "light"
     },
     "output_type": "display_data"
    }
   ],
   "source": [
    "# plot training and validaiton loss over epochs\n",
    "history_dict = history.history\n",
    "acc = history_dict['accuracy']\n",
    "val_acc = history_dict['val_accuracy']\n",
    "loss = history_dict['loss']\n",
    "val_loss = history_dict['val_loss']\n",
    "\n",
    "epochs = range(1, len(acc) + 1)\n",
    "\n",
    "# \"-r^\" is for solid red line with triangle markers.\n",
    "plt.plot(epochs, loss, '-r^', label='Training loss')\n",
    "# \"-b0\" is for solid blue line with circle markers.\n",
    "plt.plot(epochs, val_loss, '-bo', label='Validation loss')\n",
    "plt.title('Training and validation loss | Test loss: {loss}'.format(loss=np.round(testResult[0], 4)))\n",
    "plt.xlabel('Epochs')\n",
    "plt.ylabel('Loss')\n",
    "plt.legend(loc='best')\n",
    "# plt.savefig(results_path + '_loss_history')"
   ]
  },
  {
   "cell_type": "code",
   "execution_count": 466,
   "id": "e52266ee-e5ae-4465-8f19-febea0adc17c",
   "metadata": {},
   "outputs": [
    {
     "data": {
      "text/plain": [
       "<matplotlib.legend.Legend at 0x7d695611c0>"
      ]
     },
     "execution_count": 466,
     "metadata": {},
     "output_type": "execute_result"
    },
    {
     "data": {
      "image/png": "[encoded data removed]",
      "text/plain": [
       "<Figure size 432x288 with 1 Axes>"
      ]
     },
     "metadata": {
      "needs_background": "light"
     },
     "output_type": "display_data"
    }
   ],
   "source": [
    "# plot training and validation accuracy over epochs\n",
    "plt.clf()   # clear figure\n",
    "\n",
    "plt.plot(epochs, acc, '-r^', label='Training acc')\n",
    "plt.plot(epochs, val_acc, '-bo', label='Validation acc')\n",
    "plt.title('Training and validation accuracy | Test accuracy: {accuracy}'.format(accuracy = np.round(testResult[1], 4)))\n",
    "plt.xlabel('Epochs')\n",
    "plt.ylabel('Accuracy')\n",
    "plt.legend(loc='best')\n",
    "\n",
    "# plt.show()\n",
    "# plt.savefig(results_path + '_acc_history')"
   ]
  },
  {
   "cell_type": "markdown",
   "id": "477b5a6b-16c8-49f5-bad6-c79d48b4735b",
   "metadata": {
    "jp-MarkdownHeadingCollapsed": true,
    "tags": []
   },
   "source": [
    "#### 😵‍💫 Confusion Matrix 😵‍💫"
   ]
  },
  {
   "cell_type": "code",
   "execution_count": 287,
   "id": "4a4e036c-0e95-42da-9038-c4e834202103",
   "metadata": {},
   "outputs": [],
   "source": [
    "testLoader = spektral.data.loaders.DisjointLoader(testDataset, node_level=False, batch_size=100, epochs=1, shuffle=False)"
   ]
  },
  {
   "cell_type": "code",
   "execution_count": 288,
   "id": "fddd9bf0-9bde-436d-aefe-1a42ef37b47e",
   "metadata": {},
   "outputs": [],
   "source": [
    "predictions = graphModel.predict(testLoader.load())"
   ]
  },
  {
   "cell_type": "code",
   "execution_count": 358,
   "id": "f2dd550f-fac3-42f0-8a36-d3ad67f963d1",
   "metadata": {},
   "outputs": [],
   "source": [
    "predictionReshaped = predictions.reshape((25000,))"
   ]
  },
  {
   "cell_type": "code",
   "execution_count": 359,
   "id": "47b31378-059e-442e-9b89-a60af978f935",
   "metadata": {},
   "outputs": [],
   "source": [
    "truth = np.array([i.y for i in testDataset])"
   ]
  },
  {
   "cell_type": "code",
   "execution_count": 360,
   "id": "cddcfcea-dd9f-4d7f-bef1-1e2c365b4f9e",
   "metadata": {},
   "outputs": [],
   "source": [
    "truth = truth.reshape((25000,))"
   ]
  },
  {
   "cell_type": "code",
   "execution_count": 361,
   "id": "a86bb8ea-1324-4d99-855a-e5d753e80a1b",
   "metadata": {},
   "outputs": [],
   "source": [
    "predictLabel = (predictionReshaped >= 0.5).astype(int)"
   ]
  },
  {
   "cell_type": "code",
   "execution_count": 362,
   "id": "fa8da67d-c83d-4938-a2c9-fa4111e037b1",
   "metadata": {},
   "outputs": [],
   "source": [
    "from sklearn.metrics import confusion_matrix, ConfusionMatrixDisplay"
   ]
  },
  {
   "cell_type": "code",
   "execution_count": 363,
   "id": "7ffa4237-6dfb-4b66-acd7-0eb96e778901",
   "metadata": {},
   "outputs": [],
   "source": [
    "cm = confusion_matrix(predictLabel, truth)"
   ]
  },
  {
   "cell_type": "code",
   "execution_count": 364,
   "id": "a45306fe-22fe-4bf5-9965-ac37373ee191",
   "metadata": {},
   "outputs": [
    {
     "data": {
      "text/plain": [
       "<sklearn.metrics._plot.confusion_matrix.ConfusionMatrixDisplay at 0x7bfbcbb1f0>"
      ]
     },
     "execution_count": 364,
     "metadata": {},
     "output_type": "execute_result"
    },
    {
     "data": {
      "image/png": "[encoded data removed]",
      "text/plain": [
       "<Figure size 432x288 with 2 Axes>"
      ]
     },
     "metadata": {
      "needs_background": "light"
     },
     "output_type": "display_data"
    }
   ],
   "source": [
    "disp = ConfusionMatrixDisplay(confusion_matrix=cm)\n",
    "disp.plot()"
   ]
  },
  {
   "cell_type": "code",
   "execution_count": 303,
   "id": "46a396cc-50cb-486c-b50e-d5f5d325ed74",
   "metadata": {},
   "outputs": [],
   "source": [
    "tn, fp, fn, tp = cm.ravel()"
   ]
  },
  {
   "cell_type": "code",
   "execution_count": 304,
   "id": "628369fc-a4a3-46ae-bbb1-3ec3f42f22fa",
   "metadata": {},
   "outputs": [
    {
     "data": {
      "text/plain": [
       "0.8678219771563608"
      ]
     },
     "execution_count": 304,
     "metadata": {},
     "output_type": "execute_result"
    }
   ],
   "source": [
    "tp / (tp + fn)"
   ]
  },
  {
   "cell_type": "code",
   "execution_count": 305,
   "id": "14797722-2428-4d69-8caf-d80d4dee0290",
   "metadata": {},
   "outputs": [
    {
     "data": {
      "text/plain": [
       "0.88136"
      ]
     },
     "execution_count": 305,
     "metadata": {},
     "output_type": "execute_result"
    }
   ],
   "source": [
    "tp / (tp + fp)"
   ]
  },
  {
   "cell_type": "code",
   "execution_count": 306,
   "id": "4f1453ce-b573-4de2-b2d9-15f45544c981",
   "metadata": {},
   "outputs": [
    {
     "data": {
      "text/plain": [
       "0.87356"
      ]
     },
     "execution_count": 306,
     "metadata": {},
     "output_type": "execute_result"
    }
   ],
   "source": [
    "(tp + tn) / (sum(cm.ravel()))"
   ]
  },
  {
   "cell_type": "code",
   "execution_count": 307,
   "id": "a2079eb7-ab04-44a6-a19e-87f43fd3f912",
   "metadata": {},
   "outputs": [],
   "source": [
    "lengths = [i.n_nodes for i in testDataset]"
   ]
  },
  {
   "cell_type": "code",
   "execution_count": 367,
   "id": "eef48324-7329-43fd-8543-7ce6bdb4b6c5",
   "metadata": {},
   "outputs": [],
   "source": [
    "correct = np.array(predictLabel == truth)\n",
    "correct = correct.astype(int)"
   ]
  },
  {
   "cell_type": "code",
   "execution_count": 369,
   "id": "bb035db1-3da4-4eb3-893b-c8526d9d2aa8",
   "metadata": {},
   "outputs": [],
   "source": [
    "correctLengths = lengths * correct\n",
    "wrongLengths = lengths * ((correct - 1) * -1)"
   ]
  },
  {
   "cell_type": "code",
   "execution_count": 370,
   "id": "ef3fe71e-f99b-4c37-8a3c-e5e5b7ea8919",
   "metadata": {},
   "outputs": [],
   "source": [
    "wrongLengths = wrongLengths[wrongLengths != 0]\n",
    "correctLengths = correctLengths[ correctLengths  != 0]"
   ]
  },
  {
   "cell_type": "code",
   "execution_count": 371,
   "id": "1853fb70-921f-470b-8193-3a78f29b7b83",
   "metadata": {},
   "outputs": [
    {
     "data": {
      "text/plain": [
       "269.4954128440367"
      ]
     },
     "execution_count": 371,
     "metadata": {},
     "output_type": "execute_result"
    }
   ],
   "source": [
    "np.average(wrongLengths)"
   ]
  },
  {
   "cell_type": "code",
   "execution_count": 372,
   "id": "59cd260f-e390-4501-ae4d-970709126c82",
   "metadata": {},
   "outputs": [
    {
     "data": {
      "text/plain": [
       "263.8292504235542"
      ]
     },
     "execution_count": 372,
     "metadata": {},
     "output_type": "execute_result"
    }
   ],
   "source": [
    "np.average(correctLengths)"
   ]
  },
  {
   "cell_type": "code",
   "execution_count": 373,
   "id": "1eadd0cc-2011-47cf-84db-e7ed922afd82",
   "metadata": {},
   "outputs": [
    {
     "data": {
      "text/plain": [
       "3161"
      ]
     },
     "execution_count": 373,
     "metadata": {},
     "output_type": "execute_result"
    }
   ],
   "source": [
    "len(wrongLengths)"
   ]
  },
  {
   "cell_type": "code",
   "execution_count": 375,
   "id": "4e72425b-e38c-4b38-8aae-47f007ec2a64",
   "metadata": {},
   "outputs": [
    {
     "data": {
      "text/plain": [
       "<matplotlib.legend.Legend at 0x7bfcaf82e0>"
      ]
     },
     "execution_count": 375,
     "metadata": {},
     "output_type": "execute_result"
    },
    {
     "data": {
      "image/png": "[encoded data removed]",
      "text/plain": [
       "<Figure size 432x288 with 1 Axes>"
      ]
     },
     "metadata": {
      "needs_background": "light"
     },
     "output_type": "display_data"
    }
   ],
   "source": [
    "fig, axs = plt.subplots(1, 1, sharey=True, tight_layout=True)\n",
    "axs.hist([wrongLengths, correctLengths], label=['wrong','right'], bins=30, density=True)\n",
    "plt.legend()"
   ]
  },
  {
   "cell_type": "markdown",
   "id": "3ccb4f8b-8f3d-4977-ad2a-1dc4c1d0e6fd",
   "metadata": {},
   "source": [
    "#### 🙉 Edge Label Masking 🙉"
   ]
  },
  {
   "cell_type": "code",
   "execution_count": 450,
   "id": "6ca07379-6dcd-409a-b45e-2a3eaccc1572",
   "metadata": {},
   "outputs": [],
   "source": [
    "allA = [item.e for item in testDataset]"
   ]
  },
  {
   "cell_type": "code",
   "execution_count": 421,
   "id": "c5eebad2-b834-431f-bf40-fedc3ca0a376",
   "metadata": {},
   "outputs": [],
   "source": [
    "allASum = np.array([np.sum(i, axis=0) for i in allA])\n",
    "aSum = np.sum(allASum, axis=0)"
   ]
  },
  {
   "cell_type": "code",
   "execution_count": 471,
   "id": "e83e9e12-c8f5-4420-8859-128dfa66b7f5",
   "metadata": {},
   "outputs": [
    {
     "data": {
      "text/plain": [
       "array([ 1, 48, 28, 29, 19, 47, 24, 44, 31, 20, 49, 36, 34, 12,  0, 30, 43,\n",
       "       18, 22, 42, 23, 26, 25, 15, 39,  7, 38,  9,  2, 45, 13, 27,  3, 50,\n",
       "       35,  4,  8, 14, 17, 33, 32, 11, 16, 41, 40,  6,  5, 37, 10, 21, 46])"
      ]
     },
     "execution_count": 471,
     "metadata": {},
     "output_type": "execute_result"
    }
   ],
   "source": [
    "lowToHigh = np.argsort(aSum)\n",
    "lowToHigh"
   ]
  },
  {
   "cell_type": "code",
   "execution_count": 464,
   "id": "ad6a98c9-c607-49d4-a053-b7968e7a78e6",
   "metadata": {},
   "outputs": [
    {
     "data": {
      "text/plain": [
       "{'acl': 2,\n",
       " 'acl:relcl': 3,\n",
       " 'advcl': 4,\n",
       " 'advmod': 5,\n",
       " 'amod': 6,\n",
       " 'appos': 7,\n",
       " 'aux': 8,\n",
       " 'aux:pass': 9,\n",
       " 'case': 10,\n",
       " 'cc': 11,\n",
       " 'cc:preconj': 12,\n",
       " 'ccomp': 13,\n",
       " 'compound': 14,\n",
       " 'compound:prt': 15,\n",
       " 'conj': 16,\n",
       " 'cop': 17,\n",
       " 'csubj': 18,\n",
       " 'csubj:pass': 19,\n",
       " 'dep': 20,\n",
       " 'det': 21,\n",
       " 'det:predet': 22,\n",
       " 'discourse': 23,\n",
       " 'dislocated': 24,\n",
       " 'expl': 25,\n",
       " 'fixed': 26,\n",
       " 'flat': 27,\n",
       " 'flat:foreign': 28,\n",
       " 'goeswith': 29,\n",
       " 'iobj': 30,\n",
       " 'list': 31,\n",
       " 'mark': 32,\n",
       " 'nmod': 33,\n",
       " 'nmod:npmod': 34,\n",
       " 'nmod:poss': 35,\n",
       " 'nmod:tmod': 36,\n",
       " 'nsubj': 37,\n",
       " 'nsubj:pass': 38,\n",
       " 'nummod': 39,\n",
       " 'obj': 40,\n",
       " 'obl': 41,\n",
       " 'obl:npmod': 42,\n",
       " 'obl:tmod': 43,\n",
       " 'orphan': 44,\n",
       " 'parataxis': 45,\n",
       " 'punct': 46,\n",
       " 'reparandum': 47,\n",
       " 'root': 48,\n",
       " 'vocative': 49,\n",
       " 'xcomp': 50,\n",
       " 'none': 0,\n",
       " 'nextSentence': 1}"
      ]
     },
     "execution_count": 464,
     "metadata": {},
     "output_type": "execute_result"
    }
   ],
   "source": [
    "relationsDict = relationEncoder.getRelationsDict()\n",
    "relationsDict"
   ]
  },
  {
   "cell_type": "code",
   "execution_count": 482,
   "id": "c396a2f1-52d2-481d-a60f-87e2ba0a2ab5",
   "metadata": {},
   "outputs": [],
   "source": [
    "class MaskDataset(Dataset):\n",
    "    \"\"\"\n",
    "    A dataset of val graphs.\n",
    "    \"\"\"\n",
    "    def __init__(self, graphs, edgeIndex, **kwargs):\n",
    "        self.graphs = graphs\n",
    "        self.edgeIndex = edgeIndex\n",
    "        super().__init__(**kwargs)\n",
    "    \n",
    "    def read(self):\n",
    "        # We must return a list of Graph objects\n",
    "        output = []\n",
    "        for i in range(len(self.graphs)):\n",
    "            output.append(\n",
    "                \n",
    "                Graph(x=self.graphs[i].x, a=self.graphs[i].a, e=self.maskEdge(i, self.edgeIndex), y=self.graphs[i].y)\n",
    "            )\n",
    "        return output\n",
    "    def maskEdge(self, graphIndex, edgeIndex):\n",
    "        base = np.ones((51,))\n",
    "        base[edgeIndex] = 0\n",
    "        return (self.graphs[graphIndex].e * base)"
   ]
  },
  {
   "cell_type": "code",
   "execution_count": 509,
   "id": "80ee82d0-157f-44b2-8d30-74a6ebfb763d",
   "metadata": {},
   "outputs": [
    {
     "data": {
      "text/plain": [
       "array([ 1, 48, 28, 29, 19, 47, 24, 44, 31, 20, 49, 36, 34, 12,  0, 30, 43,\n",
       "       18, 22, 42, 23, 26, 25, 15, 39,  7, 38,  9,  2, 45, 13, 27,  3, 50,\n",
       "       35,  4,  8, 14, 17, 33, 32, 11, 16, 41, 40,  6,  5, 37, 10, 21, 46])"
      ]
     },
     "execution_count": 509,
     "metadata": {},
     "output_type": "execute_result"
    }
   ],
   "source": [
    "targetEdges = lowToHigh\n",
    "targetEdges"
   ]
  },
  {
   "cell_type": "code",
   "execution_count": 503,
   "id": "958a2e28-6288-4f15-91d4-e80b473d02e2",
   "metadata": {},
   "outputs": [],
   "source": [
    "targetGraphs = testGraphs[:25000]"
   ]
  },
  {
   "cell_type": "code",
   "execution_count": 510,
   "id": "1ff5f4ee-bbdd-46ec-8260-f06155de2646",
   "metadata": {},
   "outputs": [],
   "source": [
    "maskDataset = MaskDataset(graphs=targetGraphs, edgeIndex=targetEdges)\n",
    "defaultDataset = MaskDataset(graphs=targetGraphs, edgeIndex=[])"
   ]
  },
  {
   "cell_type": "code",
   "execution_count": 511,
   "id": "cafe7216-6866-4f87-a367-52db7afe03aa",
   "metadata": {},
   "outputs": [],
   "source": [
    "defaultLoader = spektral.data.loaders.DisjointLoader(defaultDataset, node_level=False, batch_size=100, epochs=1, shuffle=False)\n",
    "maskLoader = spektral.data.loaders.DisjointLoader(maskDataset, node_level=False, batch_size=100, epochs=1, shuffle=False)"
   ]
  },
  {
   "cell_type": "code",
   "execution_count": 512,
   "id": "b60e15fe-eae6-4826-b555-65f673d52de2",
   "metadata": {},
   "outputs": [
    {
     "name": "stdout",
     "output_type": "stream",
     "text": [
      "250/250 [==============================] - 238s 951ms/step - loss: 0.3246 - accuracy: 0.8736\n"
     ]
    }
   ],
   "source": [
    "defaultResults = graphModel.evaluate(defaultLoader.load(), steps=defaultLoader.steps_per_epoch)"
   ]
  },
  {
   "cell_type": "code",
   "execution_count": 513,
   "id": "3aade5f2-1c72-4f31-8692-9b232d0be28a",
   "metadata": {},
   "outputs": [
    {
     "name": "stdout",
     "output_type": "stream",
     "text": [
      "250/250 [==============================] - 237s 948ms/step - loss: 0.3057 - accuracy: 0.8749\n"
     ]
    }
   ],
   "source": [
    "maskResults = graphModel.evaluate(maskLoader.load(), steps=maskLoader.steps_per_epoch)"
   ]
  },
  {
   "cell_type": "code",
   "execution_count": 533,
   "id": "8d19bf1c-ed70-4403-bdca-2a1b77e65a84",
   "metadata": {},
   "outputs": [],
   "source": [
    "maskedEdges = np.array(([i.e.sum(axis=0) for i in maskDataset]))"
   ]
  },
  {
   "cell_type": "code",
   "execution_count": 535,
   "id": "2bc1b4ba-7782-458b-b2a6-dc5405330207",
   "metadata": {},
   "outputs": [
    {
     "data": {
      "text/plain": [
       "array([0., 0., 0., 0., 0., 0., 0., 0., 0., 0., 0., 0., 0., 0., 0., 0., 0.,\n",
       "       0., 0., 0., 0., 0., 0., 0., 0., 0., 0., 0., 0., 0., 0., 0., 0., 0.,\n",
       "       0., 0., 0., 0., 0., 0., 0., 0., 0., 0., 0., 0., 0., 0., 0., 0., 0.])"
      ]
     },
     "execution_count": 535,
     "metadata": {},
     "output_type": "execute_result"
    }
   ],
   "source": [
    "maskedEdges.sum(axis=0)"
   ]
  },
  {
   "cell_type": "markdown",
   "id": "d11810ad-c5d2-4c31-bbd2-6ebce0722ca3",
   "metadata": {},
   "source": [
    "### ⛏ Digging for Stuff ⛏"
   ]
  },
  {
   "cell_type": "markdown",
   "id": "e95bbcbf-90d7-45d9-9a10-183064db7e90",
   "metadata": {
    "jp-MarkdownHeadingCollapsed": true,
    "tags": []
   },
   "source": [
    "#### 🔎 What is in DisjointLoader 🔎"
   ]
  },
  {
   "cell_type": "code",
   "execution_count": null,
   "id": "8ab62280-30d1-47c1-90bc-715751c2f257",
   "metadata": {
    "tags": []
   },
   "outputs": [],
   "source": [
    "sampleLoader =  spektral.data.loaders.DisjointLoader(trainDataset[0:10], node_level=False, batch_size=10, epochs=1, shuffle=True)\n",
    "x,a,e,i = [],[],[],[]\n",
    "labels = []\n",
    "for batch in sampleLoader:\n",
    "    labels = batch[1]\n",
    "    x,a,e,i = batch[0]\n",
    "    print(batch)"
   ]
  },
  {
   "cell_type": "code",
   "execution_count": null,
   "id": "e0a7824f-f90d-41b4-ae99-078f75138744",
   "metadata": {},
   "outputs": [],
   "source": [
    "print(stanzaTools.printSpareTensor(a)[0:500])"
   ]
  },
  {
   "cell_type": "code",
   "execution_count": 221,
   "id": "81350cb3-cf05-4b9a-b472-162a1a0ead40",
   "metadata": {},
   "outputs": [],
   "source": [
    "new_x = GCNConv(16)([x,a])\n",
    "new_x2 = GCNConv(16)([new_x,a])"
   ]
  },
  {
   "cell_type": "code",
   "execution_count": null,
   "id": "3f52b529-4eac-469e-83a1-9881319f9491",
   "metadata": {},
   "outputs": [],
   "source": []
  },
  {
   "cell_type": "markdown",
   "id": "691207cb-cd4e-4097-92ad-9e5d8cdd305f",
   "metadata": {},
   "source": [
    "#### 🔎 What is QM9 🔎"
   ]
  },
  {
   "cell_type": "code",
   "execution_count": 62,
   "id": "aboriginal-relevance",
   "metadata": {},
   "outputs": [],
   "source": [
    "from spektral.datasets import QM9"
   ]
  },
  {
   "cell_type": "code",
   "execution_count": 63,
   "id": "049880df-6d78-42f8-bc89-ab6890cb886c",
   "metadata": {},
   "outputs": [
    {
     "name": "stdout",
     "output_type": "stream",
     "text": [
      "Downloading data from https://deepchemdata.s3-us-west-1.amazonaws.com/datasets/gdb9.tar.gz\n",
      "44859392/44852087 [==============================] - 43s 1us/step\n",
      "44867584/44852087 [==============================] - 43s 1us/step\n",
      "Loading QM9 dataset.\n",
      "Reading SDF\n"
     ]
    },
    {
     "name": "stderr",
     "output_type": "stream",
     "text": [
      "100%|█████████████████████████████████████| 1000/1000 [00:00<00:00, 2878.29it/s]\n"
     ]
    }
   ],
   "source": [
    "dataset = QM9(amount=1000)  "
   ]
  },
  {
   "cell_type": "code",
   "execution_count": null,
   "id": "70de0185-aef9-4da0-821e-d39b12c995f3",
   "metadata": {},
   "outputs": [
    {
     "data": {
      "text/plain": [
       "Graph(n_nodes=107, n_node_features=128, n_edge_features=None, n_labels=1)"
      ]
     },
     "execution_count": 88,
     "metadata": {},
     "output_type": "execute_result"
    }
   ],
   "source": [
    "x[0]"
   ]
  }
 ],
 "metadata": {
  "kernelspec": {
   "display_name": "Python 3 (ipykernel)",
   "language": "python",
   "name": "python3"
  },
  "language_info": {
   "codemirror_mode": {
    "name": "ipython",
    "version": 3
   },
   "file_extension": ".py",
   "mimetype": "text/x-python",
   "name": "python",
   "nbconvert_exporter": "python",
   "pygments_lexer": "ipython3",
   "version": "3.9.7"
  }
 },
 "nbformat": 4,
 "nbformat_minor": 5
}
