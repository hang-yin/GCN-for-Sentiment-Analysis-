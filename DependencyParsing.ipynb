{
 "cells": [
  {
   "cell_type": "markdown",
   "id": "cosmetic-atlantic",
   "metadata": {},
   "source": [
    "# Summary"
   ]
  },
  {
   "cell_type": "markdown",
   "id": "stopped-investigator",
   "metadata": {},
   "source": [
    "## Task"
   ]
  },
  {
   "cell_type": "markdown",
   "id": "judicial-anxiety",
   "metadata": {},
   "source": [
    "To explore dependency parsing for sentences so that word level graphs can be constructed for the problem of classification"
   ]
  },
  {
   "cell_type": "markdown",
   "id": "indie-clearance",
   "metadata": {},
   "source": [
    "1. Explore how dependency parsing works\n",
    "2. Tokenize sentences and give them to the dependency parser\n",
    "3. Obtain the relationships and check them\n",
    "4. Convert the dependency graphs from the parser into the graphs that can be used for GCN\n",
    "5. Explore GCN and try to build graphs from the parsed dependency graphs\n",
    "6. Perform graph level classification\n",
    "7. Check performance\n",
    "8. Refine the various layers and hyperparameters in the process\n",
    "9. Check final performance\n",
    "10. Do interpreation manually on some selected examples\n",
    "11. Implement edge masking to get the minimum subgraph\n",
    "12. Performe automatic interpretation of the graphs to determine the most important terms/relationships for each sentence"
   ]
  },
  {
   "cell_type": "markdown",
   "id": "basic-internship",
   "metadata": {},
   "source": [
    "## Method"
   ]
  },
  {
   "cell_type": "markdown",
   "id": "hydraulic-gross",
   "metadata": {},
   "source": [
    "* For dependency parsing, we will try to use the tools from the stanford nlp group.\n",
    "* The *[CoreNLP](https://github.com/stanfordnlp/CoreNLP)* library is important as it contains many of the tools needed to performe dependency parsing\n",
    "* The *[stanza](https://github.com/stanfordnlp/stanza)* library offers a wrapped version of CoreNLP that works directly with Python\n",
    "* Visualization of the graphs can be done using *[networkx](https://github.com/networkx/networkx)*\n",
    "* For GCN and word-level graphs we will primarily look at the ideas in this *[tutorial](https://uvadlc-notebooks.readthedocs.io/en/latest/tutorial_notebooks/tutorial7/GNN_overview.html)*\n",
    "* We will try to use the *[spektral](https://github.com/danielegrattarola/spektral/)* library to implement the graphs convolution and attention \n",
    "* *[Link](https://universaldependencies.org/u/dep/)* to explaination of dependency relations."
   ]
  },
  {
   "cell_type": "markdown",
   "id": "constant-beijing",
   "metadata": {},
   "source": [
    "## Dataset"
   ]
  },
  {
   "cell_type": "markdown",
   "id": "coordinate-graphics",
   "metadata": {},
   "source": [
    "The dataset is still IMDB review but we may expand later on"
   ]
  },
  {
   "cell_type": "markdown",
   "id": "actual-kernel",
   "metadata": {},
   "source": [
    "## Results"
   ]
  },
  {
   "cell_type": "markdown",
   "id": "fitted-supervisor",
   "metadata": {},
   "source": [
    "Fill in later"
   ]
  },
  {
   "cell_type": "markdown",
   "id": "material-motel",
   "metadata": {},
   "source": [
    "## Conclusion"
   ]
  },
  {
   "cell_type": "markdown",
   "id": "earlier-morocco",
   "metadata": {},
   "source": [
    "Fill in at the end"
   ]
  },
  {
   "cell_type": "markdown",
   "id": "circular-colonial",
   "metadata": {},
   "source": [
    "# Code"
   ]
  },
  {
   "cell_type": "markdown",
   "id": "addressed-excitement",
   "metadata": {},
   "source": [
    "## Basic Imports"
   ]
  },
  {
   "cell_type": "code",
   "execution_count": null,
   "id": "complete-disease",
   "metadata": {},
   "outputs": [],
   "source": [
    "import numpy as np\n",
    "import pandas as pd\n",
    "import matplotlib.pyplot as plt\n",
    "import stanza\n",
    "import networkx as nx\n",
    "import spacy\n",
    "import stanzaTools\n",
    "stanza.download('en')"
   ]
  },
  {
   "cell_type": "markdown",
   "id": "clear-thong",
   "metadata": {},
   "source": [
    "## Part 1: Dependency Parsing"
   ]
  },
  {
   "cell_type": "markdown",
   "id": "certain-consideration",
   "metadata": {},
   "source": [
    "### Testing Stanza"
   ]
  },
  {
   "cell_type": "code",
   "execution_count": 81,
   "id": "thrown-cardiff",
   "metadata": {},
   "outputs": [],
   "source": [
    "sampleSentence = \"There is nothing wrong with Apple's new M1 Max Chip, everything works so well! Ok this might be kind of difficult.\""
   ]
  },
  {
   "cell_type": "code",
   "execution_count": 82,
   "id": "unsigned-rover",
   "metadata": {},
   "outputs": [
    {
     "data": {
      "application/vnd.jupyter.widget-view+json": {
       "model_id": "4298572327114658b12e28ce7114000f",
       "version_major": 2,
       "version_minor": 0
      },
      "text/plain": [
       "Downloading https://raw.githubusercontent.com/stanfordnlp/stanza-resources/main/resources_1.4.0.json:   0%|   …"
      ]
     },
     "metadata": {},
     "output_type": "display_data"
    },
    {
     "name": "stderr",
     "output_type": "stream",
     "text": [
      "2022-06-04 14:49:20 WARNING: Can not find mwt: default from official model list. Ignoring it.\n",
      "WARNING:stanza:Can not find mwt: default from official model list. Ignoring it.\n",
      "2022-06-04 14:49:20 INFO: Loading these models for language: en (English):\n",
      "========================\n",
      "| Processor | Package  |\n",
      "------------------------\n",
      "| tokenize  | combined |\n",
      "| pos       | combined |\n",
      "| lemma     | combined |\n",
      "| depparse  | combined |\n",
      "| sentiment | sstplus  |\n",
      "========================\n",
      "\n",
      "INFO:stanza:Loading these models for language: en (English):\n",
      "========================\n",
      "| Processor | Package  |\n",
      "------------------------\n",
      "| tokenize  | combined |\n",
      "| pos       | combined |\n",
      "| lemma     | combined |\n",
      "| depparse  | combined |\n",
      "| sentiment | sstplus  |\n",
      "========================\n",
      "\n",
      "2022-06-04 14:49:20 INFO: Use device: cpu\n",
      "INFO:stanza:Use device: cpu\n",
      "2022-06-04 14:49:20 INFO: Loading: tokenize\n",
      "INFO:stanza:Loading: tokenize\n",
      "2022-06-04 14:49:20 INFO: Loading: pos\n",
      "INFO:stanza:Loading: pos\n",
      "2022-06-04 14:49:20 INFO: Loading: lemma\n",
      "INFO:stanza:Loading: lemma\n",
      "2022-06-04 14:49:20 INFO: Loading: depparse\n",
      "INFO:stanza:Loading: depparse\n",
      "2022-06-04 14:49:20 INFO: Loading: sentiment\n",
      "INFO:stanza:Loading: sentiment\n",
      "2022-06-04 14:49:21 INFO: Done loading processors!\n",
      "INFO:stanza:Done loading processors!\n"
     ]
    }
   ],
   "source": [
    "nlp = stanza.Pipeline(\n",
    "    'en',\n",
    "    processors = 'tokenize,mwt,pos,lemma,depparse, sentiment')"
   ]
  },
  {
   "cell_type": "code",
   "execution_count": 83,
   "id": "annoying-appliance",
   "metadata": {},
   "outputs": [],
   "source": [
    "doc = nlp(sampleSentence)"
   ]
  },
  {
   "cell_type": "code",
   "execution_count": 84,
   "id": "ultimate-recorder",
   "metadata": {
    "collapsed": true,
    "jupyter": {
     "outputs_hidden": true
    },
    "tags": []
   },
   "outputs": [
    {
     "data": {
      "text/plain": [
       "[\n",
       "  {\n",
       "    \"id\": 1,\n",
       "    \"text\": \"There\",\n",
       "    \"lemma\": \"there\",\n",
       "    \"upos\": \"PRON\",\n",
       "    \"xpos\": \"EX\",\n",
       "    \"head\": 2,\n",
       "    \"deprel\": \"expl\",\n",
       "    \"start_char\": 0,\n",
       "    \"end_char\": 5\n",
       "  },\n",
       "  {\n",
       "    \"id\": 2,\n",
       "    \"text\": \"is\",\n",
       "    \"lemma\": \"be\",\n",
       "    \"upos\": \"VERB\",\n",
       "    \"xpos\": \"VBZ\",\n",
       "    \"feats\": \"Mood=Ind|Number=Sing|Person=3|Tense=Pres|VerbForm=Fin\",\n",
       "    \"head\": 0,\n",
       "    \"deprel\": \"root\",\n",
       "    \"start_char\": 6,\n",
       "    \"end_char\": 8\n",
       "  },\n",
       "  {\n",
       "    \"id\": 3,\n",
       "    \"text\": \"nothing\",\n",
       "    \"lemma\": \"nothing\",\n",
       "    \"upos\": \"PRON\",\n",
       "    \"xpos\": \"NN\",\n",
       "    \"feats\": \"Number=Sing\",\n",
       "    \"head\": 2,\n",
       "    \"deprel\": \"nsubj\",\n",
       "    \"start_char\": 9,\n",
       "    \"end_char\": 16\n",
       "  },\n",
       "  {\n",
       "    \"id\": 4,\n",
       "    \"text\": \"wrong\",\n",
       "    \"lemma\": \"wrong\",\n",
       "    \"upos\": \"ADJ\",\n",
       "    \"xpos\": \"JJ\",\n",
       "    \"feats\": \"Degree=Pos\",\n",
       "    \"head\": 3,\n",
       "    \"deprel\": \"amod\",\n",
       "    \"start_char\": 17,\n",
       "    \"end_char\": 22\n",
       "  },\n",
       "  {\n",
       "    \"id\": 5,\n",
       "    \"text\": \"with\",\n",
       "    \"lemma\": \"with\",\n",
       "    \"upos\": \"ADP\",\n",
       "    \"xpos\": \"IN\",\n",
       "    \"head\": 10,\n",
       "    \"deprel\": \"case\",\n",
       "    \"start_char\": 23,\n",
       "    \"end_char\": 27\n",
       "  },\n",
       "  {\n",
       "    \"id\": 6,\n",
       "    \"text\": \"Apple\",\n",
       "    \"lemma\": \"Apple\",\n",
       "    \"upos\": \"PROPN\",\n",
       "    \"xpos\": \"NNP\",\n",
       "    \"feats\": \"Number=Sing\",\n",
       "    \"head\": 10,\n",
       "    \"deprel\": \"nmod:poss\",\n",
       "    \"start_char\": 28,\n",
       "    \"end_char\": 33\n",
       "  },\n",
       "  {\n",
       "    \"id\": 7,\n",
       "    \"text\": \"'s\",\n",
       "    \"lemma\": \"'s\",\n",
       "    \"upos\": \"PART\",\n",
       "    \"xpos\": \"POS\",\n",
       "    \"head\": 6,\n",
       "    \"deprel\": \"case\",\n",
       "    \"start_char\": 33,\n",
       "    \"end_char\": 35\n",
       "  },\n",
       "  {\n",
       "    \"id\": 8,\n",
       "    \"text\": \"new\",\n",
       "    \"lemma\": \"new\",\n",
       "    \"upos\": \"ADJ\",\n",
       "    \"xpos\": \"JJ\",\n",
       "    \"feats\": \"Degree=Pos\",\n",
       "    \"head\": 10,\n",
       "    \"deprel\": \"amod\",\n",
       "    \"start_char\": 36,\n",
       "    \"end_char\": 39\n",
       "  },\n",
       "  {\n",
       "    \"id\": 9,\n",
       "    \"text\": \"M1\",\n",
       "    \"lemma\": \"M1\",\n",
       "    \"upos\": \"PROPN\",\n",
       "    \"xpos\": \"NNP\",\n",
       "    \"feats\": \"Number=Sing\",\n",
       "    \"head\": 10,\n",
       "    \"deprel\": \"compound\",\n",
       "    \"start_char\": 40,\n",
       "    \"end_char\": 42\n",
       "  },\n",
       "  {\n",
       "    \"id\": 10,\n",
       "    \"text\": \"Max\",\n",
       "    \"lemma\": \"Max\",\n",
       "    \"upos\": \"PROPN\",\n",
       "    \"xpos\": \"NNP\",\n",
       "    \"feats\": \"Number=Sing\",\n",
       "    \"head\": 3,\n",
       "    \"deprel\": \"nmod\",\n",
       "    \"start_char\": 43,\n",
       "    \"end_char\": 46\n",
       "  },\n",
       "  {\n",
       "    \"id\": 11,\n",
       "    \"text\": \"Chip\",\n",
       "    \"lemma\": \"Chip\",\n",
       "    \"upos\": \"PROPN\",\n",
       "    \"xpos\": \"NNP\",\n",
       "    \"feats\": \"Number=Sing\",\n",
       "    \"head\": 10,\n",
       "    \"deprel\": \"flat\",\n",
       "    \"start_char\": 47,\n",
       "    \"end_char\": 51\n",
       "  },\n",
       "  {\n",
       "    \"id\": 12,\n",
       "    \"text\": \",\",\n",
       "    \"lemma\": \",\",\n",
       "    \"upos\": \"PUNCT\",\n",
       "    \"xpos\": \",\",\n",
       "    \"head\": 14,\n",
       "    \"deprel\": \"punct\",\n",
       "    \"start_char\": 51,\n",
       "    \"end_char\": 52\n",
       "  },\n",
       "  {\n",
       "    \"id\": 13,\n",
       "    \"text\": \"everything\",\n",
       "    \"lemma\": \"everything\",\n",
       "    \"upos\": \"PRON\",\n",
       "    \"xpos\": \"NN\",\n",
       "    \"feats\": \"Number=Sing\",\n",
       "    \"head\": 14,\n",
       "    \"deprel\": \"nsubj\",\n",
       "    \"start_char\": 53,\n",
       "    \"end_char\": 63\n",
       "  },\n",
       "  {\n",
       "    \"id\": 14,\n",
       "    \"text\": \"works\",\n",
       "    \"lemma\": \"work\",\n",
       "    \"upos\": \"VERB\",\n",
       "    \"xpos\": \"VBZ\",\n",
       "    \"feats\": \"Mood=Ind|Number=Sing|Person=3|Tense=Pres|VerbForm=Fin\",\n",
       "    \"head\": 2,\n",
       "    \"deprel\": \"parataxis\",\n",
       "    \"start_char\": 64,\n",
       "    \"end_char\": 69\n",
       "  },\n",
       "  {\n",
       "    \"id\": 15,\n",
       "    \"text\": \"so\",\n",
       "    \"lemma\": \"so\",\n",
       "    \"upos\": \"ADV\",\n",
       "    \"xpos\": \"RB\",\n",
       "    \"head\": 16,\n",
       "    \"deprel\": \"advmod\",\n",
       "    \"start_char\": 70,\n",
       "    \"end_char\": 72\n",
       "  },\n",
       "  {\n",
       "    \"id\": 16,\n",
       "    \"text\": \"well\",\n",
       "    \"lemma\": \"well\",\n",
       "    \"upos\": \"ADV\",\n",
       "    \"xpos\": \"RB\",\n",
       "    \"feats\": \"Degree=Pos\",\n",
       "    \"head\": 14,\n",
       "    \"deprel\": \"advmod\",\n",
       "    \"start_char\": 73,\n",
       "    \"end_char\": 77\n",
       "  },\n",
       "  {\n",
       "    \"id\": 17,\n",
       "    \"text\": \"!\",\n",
       "    \"lemma\": \"!\",\n",
       "    \"upos\": \"PUNCT\",\n",
       "    \"xpos\": \".\",\n",
       "    \"head\": 2,\n",
       "    \"deprel\": \"punct\",\n",
       "    \"start_char\": 77,\n",
       "    \"end_char\": 78\n",
       "  }\n",
       "]"
      ]
     },
     "execution_count": 84,
     "metadata": {},
     "output_type": "execute_result"
    }
   ],
   "source": [
    "doc.sentences[0]"
   ]
  },
  {
   "cell_type": "code",
   "execution_count": 85,
   "id": "ranging-grocery",
   "metadata": {},
   "outputs": [],
   "source": [
    "sent_dict = doc.sentences[0].to_dict()"
   ]
  },
  {
   "cell_type": "markdown",
   "id": "invisible-token",
   "metadata": {},
   "source": [
    "#### tokenRelationHead"
   ]
  },
  {
   "cell_type": "code",
   "execution_count": 86,
   "id": "monthly-statement",
   "metadata": {},
   "outputs": [
    {
     "name": "stdout",
     "output_type": "stream",
     "text": [
      "Token           | Relation   | Head            \n",
      "--------------------------------------------------\n",
      "There           | expl       | is              \n",
      "is              | root       | ROOT            \n",
      "nothing         | nsubj      | is              \n",
      "wrong           | amod       | nothing         \n",
      "with            | case       | Max             \n",
      "Apple           | nmod:poss  | Max             \n",
      "'s              | case       | Apple           \n",
      "new             | amod       | Max             \n",
      "M1              | compound   | Max             \n",
      "Max             | nmod       | nothing         \n",
      "Chip            | flat       | Max             \n",
      ",               | punct      | works           \n",
      "everything      | nsubj      | works           \n",
      "works           | parataxis  | is              \n",
      "so              | advmod     | well            \n",
      "well            | advmod     | works           \n",
      "!               | punct      | is              \n"
     ]
    }
   ],
   "source": [
    "stanzaTools.tokenRelationHead(sent_dict)"
   ]
  },
  {
   "cell_type": "markdown",
   "id": "attempted-sight",
   "metadata": {
    "tags": []
   },
   "source": [
    "#### getNodeEdgeLists"
   ]
  },
  {
   "cell_type": "code",
   "execution_count": 87,
   "id": "frozen-palestinian",
   "metadata": {},
   "outputs": [],
   "source": [
    "nodeList, edgeList = stanzaTools.getNodeEdgeLists(doc)"
   ]
  },
  {
   "cell_type": "code",
   "execution_count": 88,
   "id": "royal-cocktail",
   "metadata": {
    "collapsed": true,
    "jupyter": {
     "outputs_hidden": true
    },
    "tags": []
   },
   "outputs": [
    {
     "data": {
      "text/plain": [
       "[\n",
       "  [\n",
       "    {\n",
       "      \"id\": 1,\n",
       "      \"text\": \"There\",\n",
       "      \"lemma\": \"there\",\n",
       "      \"upos\": \"PRON\",\n",
       "      \"xpos\": \"EX\",\n",
       "      \"head\": 2,\n",
       "      \"deprel\": \"expl\",\n",
       "      \"start_char\": 0,\n",
       "      \"end_char\": 5\n",
       "    },\n",
       "    {\n",
       "      \"id\": 2,\n",
       "      \"text\": \"is\",\n",
       "      \"lemma\": \"be\",\n",
       "      \"upos\": \"VERB\",\n",
       "      \"xpos\": \"VBZ\",\n",
       "      \"feats\": \"Mood=Ind|Number=Sing|Person=3|Tense=Pres|VerbForm=Fin\",\n",
       "      \"head\": 0,\n",
       "      \"deprel\": \"root\",\n",
       "      \"start_char\": 6,\n",
       "      \"end_char\": 8\n",
       "    },\n",
       "    {\n",
       "      \"id\": 3,\n",
       "      \"text\": \"nothing\",\n",
       "      \"lemma\": \"nothing\",\n",
       "      \"upos\": \"PRON\",\n",
       "      \"xpos\": \"NN\",\n",
       "      \"feats\": \"Number=Sing\",\n",
       "      \"head\": 2,\n",
       "      \"deprel\": \"nsubj\",\n",
       "      \"start_char\": 9,\n",
       "      \"end_char\": 16\n",
       "    },\n",
       "    {\n",
       "      \"id\": 4,\n",
       "      \"text\": \"wrong\",\n",
       "      \"lemma\": \"wrong\",\n",
       "      \"upos\": \"ADJ\",\n",
       "      \"xpos\": \"JJ\",\n",
       "      \"feats\": \"Degree=Pos\",\n",
       "      \"head\": 3,\n",
       "      \"deprel\": \"amod\",\n",
       "      \"start_char\": 17,\n",
       "      \"end_char\": 22\n",
       "    },\n",
       "    {\n",
       "      \"id\": 5,\n",
       "      \"text\": \"with\",\n",
       "      \"lemma\": \"with\",\n",
       "      \"upos\": \"ADP\",\n",
       "      \"xpos\": \"IN\",\n",
       "      \"head\": 10,\n",
       "      \"deprel\": \"case\",\n",
       "      \"start_char\": 23,\n",
       "      \"end_char\": 27\n",
       "    },\n",
       "    {\n",
       "      \"id\": 6,\n",
       "      \"text\": \"Apple\",\n",
       "      \"lemma\": \"Apple\",\n",
       "      \"upos\": \"PROPN\",\n",
       "      \"xpos\": \"NNP\",\n",
       "      \"feats\": \"Number=Sing\",\n",
       "      \"head\": 10,\n",
       "      \"deprel\": \"nmod:poss\",\n",
       "      \"start_char\": 28,\n",
       "      \"end_char\": 33\n",
       "    },\n",
       "    {\n",
       "      \"id\": 7,\n",
       "      \"text\": \"'s\",\n",
       "      \"lemma\": \"'s\",\n",
       "      \"upos\": \"PART\",\n",
       "      \"xpos\": \"POS\",\n",
       "      \"head\": 6,\n",
       "      \"deprel\": \"case\",\n",
       "      \"start_char\": 33,\n",
       "      \"end_char\": 35\n",
       "    },\n",
       "    {\n",
       "      \"id\": 8,\n",
       "      \"text\": \"new\",\n",
       "      \"lemma\": \"new\",\n",
       "      \"upos\": \"ADJ\",\n",
       "      \"xpos\": \"JJ\",\n",
       "      \"feats\": \"Degree=Pos\",\n",
       "      \"head\": 10,\n",
       "      \"deprel\": \"amod\",\n",
       "      \"start_char\": 36,\n",
       "      \"end_char\": 39\n",
       "    },\n",
       "    {\n",
       "      \"id\": 9,\n",
       "      \"text\": \"M1\",\n",
       "      \"lemma\": \"M1\",\n",
       "      \"upos\": \"PROPN\",\n",
       "      \"xpos\": \"NNP\",\n",
       "      \"feats\": \"Number=Sing\",\n",
       "      \"head\": 10,\n",
       "      \"deprel\": \"compound\",\n",
       "      \"start_char\": 40,\n",
       "      \"end_char\": 42\n",
       "    },\n",
       "    {\n",
       "      \"id\": 10,\n",
       "      \"text\": \"Max\",\n",
       "      \"lemma\": \"Max\",\n",
       "      \"upos\": \"PROPN\",\n",
       "      \"xpos\": \"NNP\",\n",
       "      \"feats\": \"Number=Sing\",\n",
       "      \"head\": 3,\n",
       "      \"deprel\": \"nmod\",\n",
       "      \"start_char\": 43,\n",
       "      \"end_char\": 46\n",
       "    },\n",
       "    {\n",
       "      \"id\": 11,\n",
       "      \"text\": \"Chip\",\n",
       "      \"lemma\": \"Chip\",\n",
       "      \"upos\": \"PROPN\",\n",
       "      \"xpos\": \"NNP\",\n",
       "      \"feats\": \"Number=Sing\",\n",
       "      \"head\": 10,\n",
       "      \"deprel\": \"flat\",\n",
       "      \"start_char\": 47,\n",
       "      \"end_char\": 51\n",
       "    },\n",
       "    {\n",
       "      \"id\": 12,\n",
       "      \"text\": \",\",\n",
       "      \"lemma\": \",\",\n",
       "      \"upos\": \"PUNCT\",\n",
       "      \"xpos\": \",\",\n",
       "      \"head\": 14,\n",
       "      \"deprel\": \"punct\",\n",
       "      \"start_char\": 51,\n",
       "      \"end_char\": 52\n",
       "    },\n",
       "    {\n",
       "      \"id\": 13,\n",
       "      \"text\": \"everything\",\n",
       "      \"lemma\": \"everything\",\n",
       "      \"upos\": \"PRON\",\n",
       "      \"xpos\": \"NN\",\n",
       "      \"feats\": \"Number=Sing\",\n",
       "      \"head\": 14,\n",
       "      \"deprel\": \"nsubj\",\n",
       "      \"start_char\": 53,\n",
       "      \"end_char\": 63\n",
       "    },\n",
       "    {\n",
       "      \"id\": 14,\n",
       "      \"text\": \"works\",\n",
       "      \"lemma\": \"work\",\n",
       "      \"upos\": \"VERB\",\n",
       "      \"xpos\": \"VBZ\",\n",
       "      \"feats\": \"Mood=Ind|Number=Sing|Person=3|Tense=Pres|VerbForm=Fin\",\n",
       "      \"head\": 2,\n",
       "      \"deprel\": \"parataxis\",\n",
       "      \"start_char\": 64,\n",
       "      \"end_char\": 69\n",
       "    },\n",
       "    {\n",
       "      \"id\": 15,\n",
       "      \"text\": \"so\",\n",
       "      \"lemma\": \"so\",\n",
       "      \"upos\": \"ADV\",\n",
       "      \"xpos\": \"RB\",\n",
       "      \"head\": 16,\n",
       "      \"deprel\": \"advmod\",\n",
       "      \"start_char\": 70,\n",
       "      \"end_char\": 72\n",
       "    },\n",
       "    {\n",
       "      \"id\": 16,\n",
       "      \"text\": \"well\",\n",
       "      \"lemma\": \"well\",\n",
       "      \"upos\": \"ADV\",\n",
       "      \"xpos\": \"RB\",\n",
       "      \"feats\": \"Degree=Pos\",\n",
       "      \"head\": 14,\n",
       "      \"deprel\": \"advmod\",\n",
       "      \"start_char\": 73,\n",
       "      \"end_char\": 77\n",
       "    },\n",
       "    {\n",
       "      \"id\": 17,\n",
       "      \"text\": \"!\",\n",
       "      \"lemma\": \"!\",\n",
       "      \"upos\": \"PUNCT\",\n",
       "      \"xpos\": \".\",\n",
       "      \"head\": 2,\n",
       "      \"deprel\": \"punct\",\n",
       "      \"start_char\": 77,\n",
       "      \"end_char\": 78\n",
       "    }\n",
       "  ],\n",
       "  [\n",
       "    {\n",
       "      \"id\": 1,\n",
       "      \"text\": \"Ok\",\n",
       "      \"lemma\": \"ok\",\n",
       "      \"upos\": \"INTJ\",\n",
       "      \"xpos\": \"UH\",\n",
       "      \"head\": 7,\n",
       "      \"deprel\": \"discourse\",\n",
       "      \"start_char\": 79,\n",
       "      \"end_char\": 81\n",
       "    },\n",
       "    {\n",
       "      \"id\": 2,\n",
       "      \"text\": \"this\",\n",
       "      \"lemma\": \"this\",\n",
       "      \"upos\": \"PRON\",\n",
       "      \"xpos\": \"DT\",\n",
       "      \"feats\": \"Number=Sing|PronType=Dem\",\n",
       "      \"head\": 7,\n",
       "      \"deprel\": \"nsubj\",\n",
       "      \"start_char\": 82,\n",
       "      \"end_char\": 86\n",
       "    },\n",
       "    {\n",
       "      \"id\": 3,\n",
       "      \"text\": \"might\",\n",
       "      \"lemma\": \"might\",\n",
       "      \"upos\": \"AUX\",\n",
       "      \"xpos\": \"MD\",\n",
       "      \"feats\": \"VerbForm=Fin\",\n",
       "      \"head\": 7,\n",
       "      \"deprel\": \"aux\",\n",
       "      \"start_char\": 87,\n",
       "      \"end_char\": 92\n",
       "    },\n",
       "    {\n",
       "      \"id\": 4,\n",
       "      \"text\": \"be\",\n",
       "      \"lemma\": \"be\",\n",
       "      \"upos\": \"AUX\",\n",
       "      \"xpos\": \"VB\",\n",
       "      \"feats\": \"VerbForm=Inf\",\n",
       "      \"head\": 7,\n",
       "      \"deprel\": \"cop\",\n",
       "      \"start_char\": 93,\n",
       "      \"end_char\": 95\n",
       "    },\n",
       "    {\n",
       "      \"id\": 5,\n",
       "      \"text\": \"kind\",\n",
       "      \"lemma\": \"kind\",\n",
       "      \"upos\": \"NOUN\",\n",
       "      \"xpos\": \"NN\",\n",
       "      \"feats\": \"Number=Sing\",\n",
       "      \"head\": 7,\n",
       "      \"deprel\": \"obl:npmod\",\n",
       "      \"start_char\": 96,\n",
       "      \"end_char\": 100\n",
       "    },\n",
       "    {\n",
       "      \"id\": 6,\n",
       "      \"text\": \"of\",\n",
       "      \"lemma\": \"of\",\n",
       "      \"upos\": \"ADP\",\n",
       "      \"xpos\": \"IN\",\n",
       "      \"head\": 5,\n",
       "      \"deprel\": \"fixed\",\n",
       "      \"start_char\": 101,\n",
       "      \"end_char\": 103\n",
       "    },\n",
       "    {\n",
       "      \"id\": 7,\n",
       "      \"text\": \"difficult\",\n",
       "      \"lemma\": \"difficult\",\n",
       "      \"upos\": \"ADJ\",\n",
       "      \"xpos\": \"JJ\",\n",
       "      \"feats\": \"Degree=Pos\",\n",
       "      \"head\": 0,\n",
       "      \"deprel\": \"root\",\n",
       "      \"start_char\": 104,\n",
       "      \"end_char\": 113\n",
       "    },\n",
       "    {\n",
       "      \"id\": 8,\n",
       "      \"text\": \".\",\n",
       "      \"lemma\": \".\",\n",
       "      \"upos\": \"PUNCT\",\n",
       "      \"xpos\": \".\",\n",
       "      \"head\": 7,\n",
       "      \"deprel\": \"punct\",\n",
       "      \"start_char\": 113,\n",
       "      \"end_char\": 114\n",
       "    }\n",
       "  ]\n",
       "]"
      ]
     },
     "execution_count": 88,
     "metadata": {},
     "output_type": "execute_result"
    }
   ],
   "source": [
    "doc"
   ]
  },
  {
   "cell_type": "code",
   "execution_count": 89,
   "id": "cheap-transcript",
   "metadata": {
    "collapsed": true,
    "jupyter": {
     "outputs_hidden": true
    },
    "tags": []
   },
   "outputs": [
    {
     "data": {
      "text/plain": [
       "[{'id': 1,\n",
       "  'text': 'There',\n",
       "  'lemma': 'there',\n",
       "  'upos': 'PRON',\n",
       "  'xpos': 'EX',\n",
       "  'head': 2,\n",
       "  'deprel': 'expl',\n",
       "  'start_char': 0,\n",
       "  'end_char': 5},\n",
       " {'id': 2,\n",
       "  'text': 'is',\n",
       "  'lemma': 'be',\n",
       "  'upos': 'VERB',\n",
       "  'xpos': 'VBZ',\n",
       "  'feats': 'Mood=Ind|Number=Sing|Person=3|Tense=Pres|VerbForm=Fin',\n",
       "  'head': 0,\n",
       "  'deprel': 'root',\n",
       "  'start_char': 6,\n",
       "  'end_char': 8},\n",
       " {'id': 3,\n",
       "  'text': 'nothing',\n",
       "  'lemma': 'nothing',\n",
       "  'upos': 'PRON',\n",
       "  'xpos': 'NN',\n",
       "  'feats': 'Number=Sing',\n",
       "  'head': 2,\n",
       "  'deprel': 'nsubj',\n",
       "  'start_char': 9,\n",
       "  'end_char': 16},\n",
       " {'id': 4,\n",
       "  'text': 'wrong',\n",
       "  'lemma': 'wrong',\n",
       "  'upos': 'ADJ',\n",
       "  'xpos': 'JJ',\n",
       "  'feats': 'Degree=Pos',\n",
       "  'head': 3,\n",
       "  'deprel': 'amod',\n",
       "  'start_char': 17,\n",
       "  'end_char': 22},\n",
       " {'id': 5,\n",
       "  'text': 'with',\n",
       "  'lemma': 'with',\n",
       "  'upos': 'ADP',\n",
       "  'xpos': 'IN',\n",
       "  'head': 10,\n",
       "  'deprel': 'case',\n",
       "  'start_char': 23,\n",
       "  'end_char': 27},\n",
       " {'id': 6,\n",
       "  'text': 'Apple',\n",
       "  'lemma': 'Apple',\n",
       "  'upos': 'PROPN',\n",
       "  'xpos': 'NNP',\n",
       "  'feats': 'Number=Sing',\n",
       "  'head': 10,\n",
       "  'deprel': 'nmod:poss',\n",
       "  'start_char': 28,\n",
       "  'end_char': 33},\n",
       " {'id': 7,\n",
       "  'text': \"'s\",\n",
       "  'lemma': \"'s\",\n",
       "  'upos': 'PART',\n",
       "  'xpos': 'POS',\n",
       "  'head': 6,\n",
       "  'deprel': 'case',\n",
       "  'start_char': 33,\n",
       "  'end_char': 35},\n",
       " {'id': 8,\n",
       "  'text': 'new',\n",
       "  'lemma': 'new',\n",
       "  'upos': 'ADJ',\n",
       "  'xpos': 'JJ',\n",
       "  'feats': 'Degree=Pos',\n",
       "  'head': 10,\n",
       "  'deprel': 'amod',\n",
       "  'start_char': 36,\n",
       "  'end_char': 39},\n",
       " {'id': 9,\n",
       "  'text': 'M1',\n",
       "  'lemma': 'M1',\n",
       "  'upos': 'PROPN',\n",
       "  'xpos': 'NNP',\n",
       "  'feats': 'Number=Sing',\n",
       "  'head': 10,\n",
       "  'deprel': 'compound',\n",
       "  'start_char': 40,\n",
       "  'end_char': 42},\n",
       " {'id': 10,\n",
       "  'text': 'Max',\n",
       "  'lemma': 'Max',\n",
       "  'upos': 'PROPN',\n",
       "  'xpos': 'NNP',\n",
       "  'feats': 'Number=Sing',\n",
       "  'head': 3,\n",
       "  'deprel': 'nmod',\n",
       "  'start_char': 43,\n",
       "  'end_char': 46},\n",
       " {'id': 11,\n",
       "  'text': 'Chip',\n",
       "  'lemma': 'Chip',\n",
       "  'upos': 'PROPN',\n",
       "  'xpos': 'NNP',\n",
       "  'feats': 'Number=Sing',\n",
       "  'head': 10,\n",
       "  'deprel': 'flat',\n",
       "  'start_char': 47,\n",
       "  'end_char': 51},\n",
       " {'id': 12,\n",
       "  'text': ',',\n",
       "  'lemma': ',',\n",
       "  'upos': 'PUNCT',\n",
       "  'xpos': ',',\n",
       "  'head': 14,\n",
       "  'deprel': 'punct',\n",
       "  'start_char': 51,\n",
       "  'end_char': 52},\n",
       " {'id': 13,\n",
       "  'text': 'everything',\n",
       "  'lemma': 'everything',\n",
       "  'upos': 'PRON',\n",
       "  'xpos': 'NN',\n",
       "  'feats': 'Number=Sing',\n",
       "  'head': 14,\n",
       "  'deprel': 'nsubj',\n",
       "  'start_char': 53,\n",
       "  'end_char': 63},\n",
       " {'id': 14,\n",
       "  'text': 'works',\n",
       "  'lemma': 'work',\n",
       "  'upos': 'VERB',\n",
       "  'xpos': 'VBZ',\n",
       "  'feats': 'Mood=Ind|Number=Sing|Person=3|Tense=Pres|VerbForm=Fin',\n",
       "  'head': 2,\n",
       "  'deprel': 'parataxis',\n",
       "  'start_char': 64,\n",
       "  'end_char': 69},\n",
       " {'id': 15,\n",
       "  'text': 'so',\n",
       "  'lemma': 'so',\n",
       "  'upos': 'ADV',\n",
       "  'xpos': 'RB',\n",
       "  'head': 16,\n",
       "  'deprel': 'advmod',\n",
       "  'start_char': 70,\n",
       "  'end_char': 72},\n",
       " {'id': 16,\n",
       "  'text': 'well',\n",
       "  'lemma': 'well',\n",
       "  'upos': 'ADV',\n",
       "  'xpos': 'RB',\n",
       "  'feats': 'Degree=Pos',\n",
       "  'head': 14,\n",
       "  'deprel': 'advmod',\n",
       "  'start_char': 73,\n",
       "  'end_char': 77},\n",
       " {'id': 17,\n",
       "  'text': '!',\n",
       "  'lemma': '!',\n",
       "  'upos': 'PUNCT',\n",
       "  'xpos': '.',\n",
       "  'head': 2,\n",
       "  'deprel': 'punct',\n",
       "  'start_char': 77,\n",
       "  'end_char': 78},\n",
       " {'id': 18,\n",
       "  'text': 'Ok',\n",
       "  'lemma': 'ok',\n",
       "  'upos': 'INTJ',\n",
       "  'xpos': 'UH',\n",
       "  'head': 24,\n",
       "  'deprel': 'discourse',\n",
       "  'start_char': 79,\n",
       "  'end_char': 81},\n",
       " {'id': 19,\n",
       "  'text': 'this',\n",
       "  'lemma': 'this',\n",
       "  'upos': 'PRON',\n",
       "  'xpos': 'DT',\n",
       "  'feats': 'Number=Sing|PronType=Dem',\n",
       "  'head': 24,\n",
       "  'deprel': 'nsubj',\n",
       "  'start_char': 82,\n",
       "  'end_char': 86},\n",
       " {'id': 20,\n",
       "  'text': 'might',\n",
       "  'lemma': 'might',\n",
       "  'upos': 'AUX',\n",
       "  'xpos': 'MD',\n",
       "  'feats': 'VerbForm=Fin',\n",
       "  'head': 24,\n",
       "  'deprel': 'aux',\n",
       "  'start_char': 87,\n",
       "  'end_char': 92},\n",
       " {'id': 21,\n",
       "  'text': 'be',\n",
       "  'lemma': 'be',\n",
       "  'upos': 'AUX',\n",
       "  'xpos': 'VB',\n",
       "  'feats': 'VerbForm=Inf',\n",
       "  'head': 24,\n",
       "  'deprel': 'cop',\n",
       "  'start_char': 93,\n",
       "  'end_char': 95},\n",
       " {'id': 22,\n",
       "  'text': 'kind',\n",
       "  'lemma': 'kind',\n",
       "  'upos': 'NOUN',\n",
       "  'xpos': 'NN',\n",
       "  'feats': 'Number=Sing',\n",
       "  'head': 24,\n",
       "  'deprel': 'obl:npmod',\n",
       "  'start_char': 96,\n",
       "  'end_char': 100},\n",
       " {'id': 23,\n",
       "  'text': 'of',\n",
       "  'lemma': 'of',\n",
       "  'upos': 'ADP',\n",
       "  'xpos': 'IN',\n",
       "  'head': 22,\n",
       "  'deprel': 'fixed',\n",
       "  'start_char': 101,\n",
       "  'end_char': 103},\n",
       " {'id': 24,\n",
       "  'text': 'difficult',\n",
       "  'lemma': 'difficult',\n",
       "  'upos': 'ADJ',\n",
       "  'xpos': 'JJ',\n",
       "  'feats': 'Degree=Pos',\n",
       "  'head': 17,\n",
       "  'deprel': 'root',\n",
       "  'start_char': 104,\n",
       "  'end_char': 113},\n",
       " {'id': 25,\n",
       "  'text': '.',\n",
       "  'lemma': '.',\n",
       "  'upos': 'PUNCT',\n",
       "  'xpos': '.',\n",
       "  'head': 24,\n",
       "  'deprel': 'punct',\n",
       "  'start_char': 113,\n",
       "  'end_char': 114}]"
      ]
     },
     "execution_count": 89,
     "metadata": {},
     "output_type": "execute_result"
    }
   ],
   "source": [
    "nodeList"
   ]
  },
  {
   "cell_type": "markdown",
   "id": "conceptual-joint",
   "metadata": {},
   "source": [
    "#### drawDepGraph"
   ]
  },
  {
   "cell_type": "code",
   "execution_count": 90,
   "id": "computational-ridge",
   "metadata": {},
   "outputs": [
    {
     "data": {
      "image/png": "[encoded data removed]",
      "text/plain": [
       "<Figure size 864x864 with 1 Axes>"
      ]
     },
     "metadata": {},
     "output_type": "display_data"
    }
   ],
   "source": [
    "stanzaTools.drawDepGraph(nodeList, edgeList)"
   ]
  },
  {
   "cell_type": "markdown",
   "id": "hydraulic-lewis",
   "metadata": {},
   "source": [
    "### Testing Spacy (Ignore for Now)"
   ]
  },
  {
   "cell_type": "code",
   "execution_count": null,
   "id": "respected-resource",
   "metadata": {},
   "outputs": [],
   "source": [
    "import spacy\n",
    "\n",
    "# Load English tokenizer, tagger, parser and NER\n",
    "nlp = spacy.load(\"en_core_web_sm\")\n",
    "\n",
    "# Process whole documents\n",
    "text = sampleSentence\n",
    "doc = nlp(text)\n",
    "# Analyze syntax\n",
    "print(\"Noun phrases:\", [chunk.text for chunk in doc.noun_chunks])\n",
    "print(\"Verbs:\", [token.lemma_ for token in doc if token.pos_ == \"VERB\"])\n",
    "\n",
    "# Find named entities, phrases and concepts\n",
    "for entity in doc.ents:\n",
    "    print(entity.text, entity.label_)    "
   ]
  },
  {
   "cell_type": "code",
   "execution_count": null,
   "id": "behind-circus",
   "metadata": {
    "tags": []
   },
   "outputs": [],
   "source": [
    "spacy.displacy.render(doc, style='dep', jupyter=True, options={'distance': 120})"
   ]
  },
  {
   "cell_type": "code",
   "execution_count": null,
   "id": "surgical-battle",
   "metadata": {},
   "outputs": [],
   "source": [
    "doc"
   ]
  },
  {
   "cell_type": "markdown",
   "id": "weird-capture",
   "metadata": {},
   "source": [
    "### Testing TF Datasets"
   ]
  },
  {
   "cell_type": "code",
   "execution_count": null,
   "id": "chemical-utilization",
   "metadata": {},
   "outputs": [],
   "source": [
    "import tensorflow_datasets as tfds\n",
    "import tensorflow as tf\n",
    "import spacy\n",
    "import tfDatasetTools\n",
    "nlp = spacy.load(\"en_core_web_sm\")"
   ]
  },
  {
   "cell_type": "code",
   "execution_count": null,
   "id": "threatened-toolbox",
   "metadata": {},
   "outputs": [],
   "source": [
    "trainDS = tfds.load('imdb_reviews', split='train', as_supervised=True, shuffle_files=True)\n",
    "testDS = tfds.load('imdb_reviews', split='test', as_supervised=True, shuffle_files=True)"
   ]
  },
  {
   "cell_type": "code",
   "execution_count": null,
   "id": "visible-yeast",
   "metadata": {},
   "outputs": [],
   "source": [
    "part = testDS.take(10)"
   ]
  },
  {
   "cell_type": "markdown",
   "id": "affected-style",
   "metadata": {
    "tags": []
   },
   "source": [
    "#### decodeZeroDimTensor"
   ]
  },
  {
   "cell_type": "markdown",
   "id": "billion-cause",
   "metadata": {},
   "source": [
    "#### convertTakeDataset"
   ]
  },
  {
   "cell_type": "code",
   "execution_count": null,
   "id": "contemporary-representation",
   "metadata": {},
   "outputs": [],
   "source": [
    "features, labels = tfDatasetTools.convertTakeDataset(part)"
   ]
  },
  {
   "cell_type": "code",
   "execution_count": null,
   "id": "eastern-headset",
   "metadata": {},
   "outputs": [],
   "source": [
    "features[0]"
   ]
  },
  {
   "cell_type": "code",
   "execution_count": null,
   "id": "intellectual-mortgage",
   "metadata": {},
   "outputs": [],
   "source": [
    "labels"
   ]
  },
  {
   "cell_type": "code",
   "execution_count": null,
   "id": "fitting-writer",
   "metadata": {},
   "outputs": [],
   "source": [
    "nlp = stanza.Pipeline(\n",
    "    'en',\n",
    "    processors = 'tokenize,mwt,pos,lemma,depparse, sentiment')"
   ]
  },
  {
   "cell_type": "code",
   "execution_count": null,
   "id": "controversial-literacy",
   "metadata": {
    "tags": []
   },
   "outputs": [],
   "source": [
    "doc = nlp(features[1])\n",
    "for sentence in doc.sentences:\n",
    "    print(sentence.text)\n",
    "    print(sentence.sentiment)"
   ]
  },
  {
   "cell_type": "code",
   "execution_count": null,
   "id": "engaged-triple",
   "metadata": {
    "tags": []
   },
   "outputs": [],
   "source": [
    "doc.sentences[1]"
   ]
  },
  {
   "cell_type": "markdown",
   "id": "explicit-reply",
   "metadata": {},
   "source": [
    "### Testing spektral"
   ]
  },
  {
   "cell_type": "code",
   "execution_count": null,
   "id": "understood-basketball",
   "metadata": {},
   "outputs": [],
   "source": [
    "import spektral\n",
    "from spektral.datasets import TUDataset"
   ]
  },
  {
   "cell_type": "code",
   "execution_count": null,
   "id": "introductory-fundamental",
   "metadata": {},
   "outputs": [],
   "source": [
    "dataset = TUDataset('PROTEINS')"
   ]
  },
  {
   "cell_type": "code",
   "execution_count": null,
   "id": "elder-catch",
   "metadata": {},
   "outputs": [],
   "source": [
    "dataset"
   ]
  },
  {
   "cell_type": "code",
   "execution_count": null,
   "id": "living-stockholm",
   "metadata": {},
   "outputs": [],
   "source": [
    "train_datset = dataset[:100]"
   ]
  },
  {
   "cell_type": "code",
   "execution_count": null,
   "id": "worse-feature",
   "metadata": {},
   "outputs": [],
   "source": [
    "test_datset = dataset[100:]"
   ]
  },
  {
   "cell_type": "code",
   "execution_count": null,
   "id": "indonesian-immune",
   "metadata": {},
   "outputs": [],
   "source": [
    "from tensorflow.keras.models import Model\n",
    "from tensorflow.keras.layers import Dense, Dropout\n",
    "from spektral.layers import GCNConv, GlobalSumPool"
   ]
  },
  {
   "cell_type": "code",
   "execution_count": null,
   "id": "advance-evidence",
   "metadata": {},
   "outputs": [],
   "source": [
    "class MyFirstGNN(Model):\n",
    "\n",
    "    def __init__(self, n_hidden, n_labels):\n",
    "        super().__init__()\n",
    "        self.graph_conv = GCNConv(n_hidden)\n",
    "        self.pool = GlobalSumPool()\n",
    "        self.dropout = Dropout(0.5)\n",
    "        self.dense = Dense(n_labels, 'softmax')\n",
    "\n",
    "    def call(self, inputs):\n",
    "        out = self.graph_conv(inputs)\n",
    "        out = self.dropout(out)\n",
    "        out = self.pool(out)\n",
    "        out = self.dense(out)\n",
    "\n",
    "        return out"
   ]
  },
  {
   "cell_type": "code",
   "execution_count": null,
   "id": "empty-april",
   "metadata": {},
   "outputs": [],
   "source": [
    "model = MyFirstGNN(32, dataset.n_labels)\n",
    "model.compile('adam', 'categorical_crossentropy', metrics=['accuracy'])"
   ]
  },
  {
   "cell_type": "code",
   "execution_count": null,
   "id": "promising-launch",
   "metadata": {},
   "outputs": [],
   "source": [
    "from spektral.data import BatchLoader\n",
    "\n",
    "loader = BatchLoader(train_datset, batch_size=32)\n",
    "testLoader = BatchLoader(test_datset, batch_size=32)"
   ]
  },
  {
   "cell_type": "code",
   "execution_count": null,
   "id": "catholic-interest",
   "metadata": {},
   "outputs": [],
   "source": [
    "model.fit(loader.load(),steps_per_epoch=loader.steps_per_epoch, epochs=10)"
   ]
  },
  {
   "cell_type": "code",
   "execution_count": null,
   "id": "polyphonic-cambodia",
   "metadata": {},
   "outputs": [],
   "source": [
    "model.evaluate(testLoader.load(),steps=testLoader.steps_per_epoch)"
   ]
  },
  {
   "cell_type": "code",
   "execution_count": null,
   "id": "russian-trainer",
   "metadata": {},
   "outputs": [],
   "source": [
    "test_datset[12].y"
   ]
  },
  {
   "cell_type": "markdown",
   "id": "moral-cooler",
   "metadata": {},
   "source": [
    "## Part 2: Graph Networks"
   ]
  },
  {
   "cell_type": "markdown",
   "id": "choice-explanation",
   "metadata": {},
   "source": [
    "### Basic Imports"
   ]
  },
  {
   "cell_type": "code",
   "execution_count": 1,
   "id": "funky-structure",
   "metadata": {},
   "outputs": [],
   "source": [
    "import tensorflow_datasets as tfds\n",
    "import tensorflow as tf\n",
    "import numpy as np\n",
    "import pandas as pd\n",
    "import matplotlib.pyplot as plt\n",
    "import stanza\n",
    "import networkx as nx\n",
    "import tensorflow_hub as hub\n",
    "import tensorflow_text\n",
    "import spektral"
   ]
  },
  {
   "cell_type": "code",
   "execution_count": 2,
   "id": "graphic-phenomenon",
   "metadata": {},
   "outputs": [],
   "source": [
    "import stanzaTools\n",
    "import tfDatasetTools\n",
    "import relationEncoder"
   ]
  },
  {
   "cell_type": "code",
   "execution_count": 3,
   "id": "997bbbb6-e771-491c-98e4-a105cf1063a6",
   "metadata": {},
   "outputs": [],
   "source": [
    "import io, time, joblib, json"
   ]
  },
  {
   "cell_type": "markdown",
   "id": "original-newfoundland",
   "metadata": {},
   "source": [
    "### Set up Stanza"
   ]
  },
  {
   "cell_type": "code",
   "execution_count": 4,
   "id": "applied-india",
   "metadata": {},
   "outputs": [
    {
     "data": {
      "application/vnd.jupyter.widget-view+json": {
       "model_id": "e168b6f82c70461ab6c84320766d24f8",
       "version_major": 2,
       "version_minor": 0
      },
      "text/plain": [
       "Downloading https://raw.githubusercontent.com/stanfordnlp/stanza-resources/main/resources_1.4.0.json:   0%|   …"
      ]
     },
     "metadata": {},
     "output_type": "display_data"
    },
    {
     "name": "stderr",
     "output_type": "stream",
     "text": [
      "2022-06-04 14:23:07 INFO: Downloading default packages for language: en (English)...\n",
      "2022-06-04 14:23:08 INFO: File exists: /Users/zeyuyang/stanza_resources/en/default.zip\n",
      "2022-06-04 14:23:11 INFO: Finished downloading models and saved to /Users/zeyuyang/stanza_resources.\n"
     ]
    }
   ],
   "source": [
    "stanza.download('en')"
   ]
  },
  {
   "cell_type": "code",
   "execution_count": 5,
   "id": "american-lounge",
   "metadata": {},
   "outputs": [
    {
     "data": {
      "application/vnd.jupyter.widget-view+json": {
       "model_id": "afed9ee12aff48b1aa7200d2f56e0881",
       "version_major": 2,
       "version_minor": 0
      },
      "text/plain": [
       "Downloading https://raw.githubusercontent.com/stanfordnlp/stanza-resources/main/resources_1.4.0.json:   0%|   …"
      ]
     },
     "metadata": {},
     "output_type": "display_data"
    },
    {
     "name": "stderr",
     "output_type": "stream",
     "text": [
      "2022-06-04 14:23:11 WARNING: Can not find mwt: default from official model list. Ignoring it.\n",
      "2022-06-04 14:23:12 INFO: Loading these models for language: en (English):\n",
      "========================\n",
      "| Processor | Package  |\n",
      "------------------------\n",
      "| tokenize  | combined |\n",
      "| pos       | combined |\n",
      "| lemma     | combined |\n",
      "| depparse  | combined |\n",
      "| sentiment | sstplus  |\n",
      "========================\n",
      "\n",
      "2022-06-04 14:23:12 INFO: Use device: cpu\n",
      "2022-06-04 14:23:12 INFO: Loading: tokenize\n",
      "2022-06-04 14:23:12 INFO: Loading: pos\n",
      "2022-06-04 14:23:12 INFO: Loading: lemma\n",
      "2022-06-04 14:23:12 INFO: Loading: depparse\n",
      "2022-06-04 14:23:12 INFO: Loading: sentiment\n",
      "2022-06-04 14:23:12 INFO: Done loading processors!\n"
     ]
    }
   ],
   "source": [
    "nlp = stanza.Pipeline(\n",
    "    'en',\n",
    "    processors = 'tokenize,mwt,pos,lemma,depparse, sentiment')"
   ]
  },
  {
   "cell_type": "markdown",
   "id": "expected-coordinator",
   "metadata": {},
   "source": [
    "#### createGraph"
   ]
  },
  {
   "cell_type": "code",
   "execution_count": 80,
   "id": "descending-wallpaper",
   "metadata": {},
   "outputs": [
    {
     "data": {
      "text/plain": [
       "<module 'tfDatasetTools' from '/Users/zeyuyang/Projects/CS397Project/tfDatasetTools.py'>"
      ]
     },
     "execution_count": 80,
     "metadata": {},
     "output_type": "execute_result"
    }
   ],
   "source": [
    "from importlib import reload\n",
    "reload(stanzaTools)\n",
    "reload(tfDatasetTools)"
   ]
  },
  {
   "cell_type": "code",
   "execution_count": 7,
   "id": "034e37c7-eb6d-46d6-a4e4-d43ebff3e657",
   "metadata": {},
   "outputs": [],
   "source": [
    "relationsDict = relationEncoder.getRelationsDict()"
   ]
  },
  {
   "cell_type": "code",
   "execution_count": 8,
   "id": "cooked-aging",
   "metadata": {},
   "outputs": [],
   "source": [
    "def createGraph(doc, positive):\n",
    "    startTime = time.perf_counter()\n",
    "    nodeList, edgeList = stanzaTools.getNodeEdgeLists(doc)\n",
    "    nodeTime = time.perf_counter()\n",
    "    words = [item['text'] for item in nodeList]\n",
    "    convertedFeatures = stanzaTools.convertToEmbedding(words, preprocessor, encoder)\n",
    "    adjacencyMatrix = stanzaTools.createAdjacencyMatrix(edgeList, len(nodeList))\n",
    "    convertTime = time.perf_counter()\n",
    "    sortedList = sorted(edgeList, key=lambda x: (x['edgePair'][0], x['edgePair'][1]))\n",
    "    edgeFeatures = relationEncoder.OneHotEncode(relationsDict, [edge['edgeLabel'] for edge in sortedList])\n",
    "    encodeTime = time.perf_counter()\n",
    "    label = np.array([positive])\n",
    "    print([nodeTime - startTime, convertTime  - nodeTime, encodeTime - convertTime])\n",
    "    # newGraph = spektral.data.graph.Graph(x=convertedFeatures, a=adjacencyMatrix, y=label)\n",
    "    return (convertedFeatures, adjacencyMatrix, edgeFeatures, label)"
   ]
  },
  {
   "cell_type": "code",
   "execution_count": 9,
   "id": "7e5f7749-1850-4fe2-9614-8c27453f2122",
   "metadata": {},
   "outputs": [],
   "source": [
    "def createCustomGraph(doc, positive):\n",
    "    startTime = time.perf_counter()\n",
    "    nodeList, edgeList = stanzaTools.getNodeEdgeLists(doc)\n",
    "    nodeTime = time.perf_counter()\n",
    "    words = [item['text'] for item in nodeList]\n",
    "    convertedFeatures = stanzaTools.convertToCustomEmbedding(words, preprocessor, model.layers[2])\n",
    "    adjacencyMatrix = stanzaTools.createAdjacencyMatrix(edgeList, len(nodeList))\n",
    "    convertTime = time.perf_counter()\n",
    "    sortedList = sorted(edgeList, key=lambda x: (x['edgePair'][0], x['edgePair'][1]))\n",
    "    edgeFeatures = relationEncoder.OneHotEncode(relationsDict, [edge['edgeLabel'] for edge in sortedList])\n",
    "    encodeTime = time.perf_counter()\n",
    "    label = np.array([positive])\n",
    "    print([nodeTime - startTime, convertTime  - nodeTime, encodeTime - convertTime])\n",
    "    # newGraph = spektral.data.graph.Graph(x=convertedFeatures, a=adjacencyMatrix, y=label)\n",
    "    return (convertedFeatures, adjacencyMatrix, edgeFeatures, label)"
   ]
  },
  {
   "cell_type": "code",
   "execution_count": 95,
   "id": "bd7e7565-baab-4587-95df-95537e210118",
   "metadata": {},
   "outputs": [],
   "source": [
    "def createCustomGraph2(doc, positive):\n",
    "    startTime = time.perf_counter()\n",
    "    nodeList, edgeList = stanzaTools.getNodeEdgeLists(doc)\n",
    "    nodeTime = time.perf_counter()\n",
    "    words = [item['text'] for item in nodeList]\n",
    "    print(len(words))\n",
    "    convertedFeatures = convertToCustomEmbedding(words)\n",
    "    adjacencyMatrix = stanzaTools.createAdjacencyMatrix(edgeList, len(nodeList))\n",
    "    convertTime = time.perf_counter()\n",
    "    sortedList = sorted(edgeList, key=lambda x: (x['edgePair'][0], x['edgePair'][1]))\n",
    "    edgeFeatures = relationEncoder.OneHotEncode(relationsDict, [edge['edgeLabel'] for edge in sortedList])\n",
    "    encodeTime = time.perf_counter()\n",
    "    label = np.array([positive])\n",
    "    print([nodeTime - startTime, convertTime  - nodeTime, encodeTime - convertTime])\n",
    "    # newGraph = spektral.data.graph.Graph(x=convertedFeatures, a=adjacencyMatrix, y=label)\n",
    "    return (convertedFeatures, adjacencyMatrix, edgeFeatures, label)"
   ]
  },
  {
   "cell_type": "markdown",
   "id": "f4893d85-fbd9-469c-a19a-8d6dced0947a",
   "metadata": {},
   "source": [
    "#### createGraphAlpha"
   ]
  },
  {
   "cell_type": "code",
   "execution_count": 96,
   "id": "70a1a6c2-f837-43d0-ac9e-1f1519f5ab61",
   "metadata": {},
   "outputs": [],
   "source": [
    "def createGraphAlpha(doc, positive):\n",
    "    # startTime = time.perf_counter()\n",
    "    nodeList, edgeList = stanzaTools.getNodeEdgeLists(doc, False, False)\n",
    "    # nodeTime = time.perf_counter()\n",
    "    words = [item['text'] for item in nodeList]\n",
    "    # print(len(words))\n",
    "    convertedFeatures = convertToCustomEmbedding(words)\n",
    "    adjacencyMatrix = stanzaTools.createAdjacencyMatrix(edgeList, len(nodeList))\n",
    "    # convertTime = time.perf_counter()\n",
    "    sortedList = sorted(edgeList, key=lambda x: (x['edgePair'][0], x['edgePair'][1]))\n",
    "    edgeFeatures = relationEncoder.OneHotEncode(relationsDict, [edge['edgeLabel'] for edge in sortedList])\n",
    "    # encodeTime = time.perf_counter()\n",
    "    label = np.array([positive])\n",
    "    # print([nodeTime - startTime, convertTime  - nodeTime, encodeTime - convertTime])\n",
    "    # newGraph = spektral.data.graph.Graph(x=convertedFeatures, a=adjacencyMatrix, y=label)\n",
    "    return (convertedFeatures, adjacencyMatrix, edgeFeatures, label)"
   ]
  },
  {
   "cell_type": "markdown",
   "id": "maritime-enough",
   "metadata": {
    "tags": []
   },
   "source": [
    "### Load Data"
   ]
  },
  {
   "cell_type": "code",
   "execution_count": 12,
   "id": "native-friendship",
   "metadata": {},
   "outputs": [
    {
     "name": "stdout",
     "output_type": "stream",
     "text": [
      "Metal device set to: Apple M1 Max\n"
     ]
    },
    {
     "name": "stderr",
     "output_type": "stream",
     "text": [
      "2022-06-04 14:23:33.951390: I tensorflow/core/common_runtime/pluggable_device/pluggable_device_factory.cc:305] Could not identify NUMA node of platform GPU ID 0, defaulting to 0. Your kernel may not have been built with NUMA support.\n",
      "2022-06-04 14:23:33.951752: I tensorflow/core/common_runtime/pluggable_device/pluggable_device_factory.cc:271] Created TensorFlow device (/job:localhost/replica:0/task:0/device:GPU:0 with 0 MB memory) -> physical PluggableDevice (device: 0, name: METAL, pci bus id: <undefined>)\n"
     ]
    }
   ],
   "source": [
    "trainDS = tfds.load('imdb_reviews', split='train', as_supervised=True, shuffle_files=True)\n",
    "testDS = tfds.load('imdb_reviews', split='test', as_supervised=True, shuffle_files=True)"
   ]
  },
  {
   "cell_type": "markdown",
   "id": "related-literacy",
   "metadata": {},
   "source": [
    "#### Set a Limit"
   ]
  },
  {
   "cell_type": "code",
   "execution_count": 13,
   "id": "neutral-appointment",
   "metadata": {},
   "outputs": [],
   "source": [
    "trainLimit = 10000\n",
    "testLimit = 10000\n",
    "\n",
    "trainSubset = trainDS.take(trainLimit)\n",
    "testSubset = testDS.take(testLimit)"
   ]
  },
  {
   "cell_type": "code",
   "execution_count": 14,
   "id": "driven-guarantee",
   "metadata": {},
   "outputs": [],
   "source": [
    "validationSplit = 0.2\n",
    "validationIndex = int(validationSplit * trainLimit)\n",
    "\n",
    "validationSplitSubset = trainSubset.take(validationIndex)\n",
    "trainSplitSubset = trainSubset.skip(validationIndex)"
   ]
  },
  {
   "cell_type": "code",
   "execution_count": 15,
   "id": "complicated-panama",
   "metadata": {},
   "outputs": [
    {
     "name": "stderr",
     "output_type": "stream",
     "text": [
      "2022-06-04 14:23:38.084095: W tensorflow/core/platform/profile_utils/cpu_utils.cc:128] Failed to get CPU frequency: 0 Hz\n",
      "2022-06-04 14:23:38.625361: W tensorflow/core/kernels/data/cache_dataset_ops.cc:768] The calling iterator did not fully read the dataset being cached. In order to avoid unexpected truncation of the dataset, the partially cached contents of the dataset  will be discarded. This can happen if you have an input pipeline similar to `dataset.cache().take(k).repeat()`. You should use `dataset.take(k).cache().repeat()` instead.\n",
      "2022-06-04 14:23:38.758509: W tensorflow/core/kernels/data/cache_dataset_ops.cc:768] The calling iterator did not fully read the dataset being cached. In order to avoid unexpected truncation of the dataset, the partially cached contents of the dataset  will be discarded. This can happen if you have an input pipeline similar to `dataset.cache().take(k).repeat()`. You should use `dataset.take(k).cache().repeat()` instead.\n",
      "2022-06-04 14:23:39.320074: W tensorflow/core/kernels/data/cache_dataset_ops.cc:768] The calling iterator did not fully read the dataset being cached. In order to avoid unexpected truncation of the dataset, the partially cached contents of the dataset  will be discarded. This can happen if you have an input pipeline similar to `dataset.cache().take(k).repeat()`. You should use `dataset.take(k).cache().repeat()` instead.\n"
     ]
    }
   ],
   "source": [
    "trainFeatures, trainLabels = tfDatasetTools.convertTakeDataset(trainSplitSubset)\n",
    "valFeatures, valLabels = tfDatasetTools.convertTakeDataset(validationSplitSubset)\n",
    "testFeatures, testLabels = tfDatasetTools.convertTakeDataset(testSubset)"
   ]
  },
  {
   "cell_type": "markdown",
   "id": "19d15ba0-9789-4540-aa32-0297f0c38359",
   "metadata": {},
   "source": [
    "##### Checking trainFeatures and functions"
   ]
  },
  {
   "cell_type": "code",
   "execution_count": 16,
   "id": "901e073e-4306-4575-afd2-5b37da9e33f9",
   "metadata": {},
   "outputs": [
    {
     "data": {
      "application/vnd.jupyter.widget-view+json": {
       "model_id": "bcf25cf8897f437a8931867c4cbac656",
       "version_major": 2,
       "version_minor": 0
      },
      "text/plain": [
       "Downloading https://raw.githubusercontent.com/stanfordnlp/stanza-resources/main/resources_1.4.0.json:   0%|   …"
      ]
     },
     "metadata": {},
     "output_type": "display_data"
    },
    {
     "name": "stderr",
     "output_type": "stream",
     "text": [
      "2022-06-04 14:23:42 WARNING: Can not find mwt: default from official model list. Ignoring it.\n",
      "WARNING:stanza:Can not find mwt: default from official model list. Ignoring it.\n",
      "2022-06-04 14:23:42 INFO: Loading these models for language: en (English):\n",
      "========================\n",
      "| Processor | Package  |\n",
      "------------------------\n",
      "| tokenize  | combined |\n",
      "========================\n",
      "\n",
      "INFO:stanza:Loading these models for language: en (English):\n",
      "========================\n",
      "| Processor | Package  |\n",
      "------------------------\n",
      "| tokenize  | combined |\n",
      "========================\n",
      "\n",
      "2022-06-04 14:23:42 INFO: Use device: cpu\n",
      "INFO:stanza:Use device: cpu\n",
      "2022-06-04 14:23:42 INFO: Loading: tokenize\n",
      "INFO:stanza:Loading: tokenize\n",
      "2022-06-04 14:23:42 INFO: Done loading processors!\n",
      "INFO:stanza:Done loading processors!\n"
     ]
    }
   ],
   "source": [
    "nlp = stanza.Pipeline(\n",
    "    'en',\n",
    "    processors = 'tokenize, mwt')"
   ]
  },
  {
   "cell_type": "markdown",
   "id": "0312c200-058c-4dd5-8fc3-f6e840219f3d",
   "metadata": {},
   "source": [
    "#### Create Custom tokenizer\n",
    "The goal is to matche our tokenizer to the one used by stanza. The ideas is to first tokenize all of the train+validation reviews into words. Then use our own tokenizer to parse all of these words to learn what the vocabulary is. Later, we will use stanza to break each feature into a list of nodes. The list of nodes will be converted using our own tokenizer into a list of ints. The list of ints will be used to train the embedding model and to create the embeddings for the graph model.\n",
    "\n",
    "Use joblib with parallel jobs to speed up the processing by about 200%."
   ]
  },
  {
   "cell_type": "code",
   "execution_count": 17,
   "id": "4cf27551-528d-4d46-be36-8f8b039bc546",
   "metadata": {},
   "outputs": [],
   "source": [
    "def getStanzaProSents(features):\n",
    "    tokenizedSentences = []\n",
    "    for feature in features:\n",
    "        doc = nlp(feature)\n",
    "        for sentence in doc.sentences:\n",
    "            tokenizedSentences.append(\" \".join([item['text'] for item in sentence.to_dict()]))\n",
    "    return tokenizedSentences"
   ]
  },
  {
   "cell_type": "markdown",
   "id": "9f677dbc-5ac6-4bf4-aa55-74540cdbb1e9",
   "metadata": {},
   "source": [
    "This takes about 42 seconds per 1000 reviews"
   ]
  },
  {
   "cell_type": "code",
   "execution_count": 18,
   "id": "1fc64ced-4588-47f4-92d9-d4705b4ed878",
   "metadata": {
    "tags": []
   },
   "outputs": [
    {
     "name": "stdout",
     "output_type": "stream",
     "text": [
      "430.31550612500007\n"
     ]
    }
   ],
   "source": [
    "startTime = time.perf_counter()\n",
    "step = 50\n",
    "totalFeatures = trainFeatures + valFeatures\n",
    "results = joblib.Parallel(n_jobs=8, prefer=\"threads\")(joblib.delayed(getStanzaProSents)(totalFeatures[i:i + step]) for i in range(0,trainLimit,step))\n",
    "print(time.perf_counter()-startTime)\n",
    "deListed = []\n",
    "for i in results:\n",
    "    deListed += i"
   ]
  },
  {
   "cell_type": "code",
   "execution_count": 19,
   "id": "alien-packing",
   "metadata": {},
   "outputs": [],
   "source": [
    "customTokenizer = tf.keras.preprocessing.text.Tokenizer(num_words=30000, oov_token='OOVTOKEN', filters='', lower = True, split = ' ')"
   ]
  },
  {
   "cell_type": "code",
   "execution_count": 20,
   "id": "c878ce1f-4829-44c0-a1dc-bd195fa2dc7c",
   "metadata": {},
   "outputs": [],
   "source": [
    "customTokenizer.fit_on_texts(deListed)"
   ]
  },
  {
   "cell_type": "code",
   "execution_count": 22,
   "id": "2a70b9fd-3402-4466-91f1-e702dc674753",
   "metadata": {},
   "outputs": [],
   "source": [
    "file_path = './tokenizer/token' + str(trainLimit) + '.json'"
   ]
  },
  {
   "cell_type": "code",
   "execution_count": 700,
   "id": "3ab6d40a-20a1-4f55-9e34-5a21902c339d",
   "metadata": {},
   "outputs": [],
   "source": [
    "# use if you want to rewrite the file\n",
    "tokenizer_json = customTokenizer.to_json()\n",
    "with io.open(file_path, 'w', encoding='utf-8') as f:\n",
    "            f.write(json.dumps(tokenizer_json, ensure_ascii=False))"
   ]
  },
  {
   "cell_type": "code",
   "execution_count": 23,
   "id": "844e759c-4ff8-46f1-ac80-9a97796e5565",
   "metadata": {},
   "outputs": [],
   "source": [
    "with open(file_path) as f:\n",
    "            data = json.load(f)\n",
    "            customTokenizer = tf.keras.preprocessing.text.tokenizer_from_json(data)"
   ]
  },
  {
   "cell_type": "code",
   "execution_count": 24,
   "id": "7b16cdd1-f7f2-47ea-b6d3-4c6cf37235de",
   "metadata": {},
   "outputs": [
    {
     "data": {
      "text/plain": [
       "54970"
      ]
     },
     "execution_count": 24,
     "metadata": {},
     "output_type": "execute_result"
    }
   ],
   "source": [
    "len(customTokenizer.index_word)"
   ]
  },
  {
   "cell_type": "code",
   "execution_count": 25,
   "id": "e0c67646-8241-4c25-8ab4-3019e53f34a4",
   "metadata": {},
   "outputs": [],
   "source": [
    "one = customTokenizer.texts_to_sequences([trainFeatures[0]])"
   ]
  },
  {
   "cell_type": "code",
   "execution_count": 26,
   "id": "0d97f311-ca2c-49e3-bc4e-fbb132862c13",
   "metadata": {},
   "outputs": [
    {
     "data": {
      "text/plain": [
       "[\"i love this OOVTOKEN every time i watch an episode i repeat that line and remind myself how good of a show this OOVTOKEN i am a huge sci-fi fan and this show has grounds to be the most important science OOVTOKEN show in the history of OOVTOKEN there are so many theories in this show about the universe i could start a OOVTOKEN its OOVTOKEN season after season the show gets better and OOVTOKEN i've been a fan of macgyver since i was 5 OOVTOKEN OOVTOKEN and i find it so ironic that my 2 favorite tv shows of all time star richard dean OOVTOKEN its also interesting how each character is practically the opposite of the OOVTOKEN back when i first saw stargate the OOVTOKEN i instantly liked it and considered it one of my favorite sci-fi OOVTOKEN then hearing a tv show would spin from it i got really OOVTOKEN but didn't get showtime till the fifth season was almost OOVTOKEN OOVTOKEN i'm disappointed to hear that roland emmerich and dean devlin wanted to do a trilogy of movies but the studio optioned the series OOVTOKEN id say though that it turned out just OOVTOKEN maybe even OOVTOKEN this show is OOVTOKEN and i hope it never OOVTOKEN atlantis here we OOVTOKEN\"]"
      ]
     },
     "execution_count": 26,
     "metadata": {},
     "output_type": "execute_result"
    }
   ],
   "source": [
    "customTokenizer.sequences_to_texts(one)"
   ]
  },
  {
   "cell_type": "code",
   "execution_count": null,
   "id": "2a7eee01-a278-45ff-89f9-6024ace307c6",
   "metadata": {},
   "outputs": [],
   "source": []
  },
  {
   "cell_type": "markdown",
   "id": "dependent-paper",
   "metadata": {
    "tags": []
   },
   "source": [
    "#### Bert Embeddings"
   ]
  },
  {
   "cell_type": "code",
   "execution_count": 27,
   "id": "current-jesus",
   "metadata": {},
   "outputs": [],
   "source": [
    "tf.keras.backend.clear_session()"
   ]
  },
  {
   "cell_type": "code",
   "execution_count": 411,
   "id": "multiple-distributor",
   "metadata": {
    "tags": []
   },
   "outputs": [
    {
     "name": "stderr",
     "output_type": "stream",
     "text": [
      "2022-05-29 23:02:06.956843: I tensorflow/core/grappler/optimizers/custom_graph_optimizer_registry.cc:113] Plugin optimizer for device_type GPU is enabled.\n"
     ]
    }
   ],
   "source": [
    "# Preprocess and encode input\n",
    "text_input = tf.keras.layers.Input(shape=(), dtype=tf.string)\n",
    "\n",
    "preprocessor = hub.KerasLayer('https://tfhub.dev/tensorflow/bert_en_uncased_preprocess/3')\n",
    "encoder_inputs = preprocessor(text_input)\n",
    "\n",
    "encoder = hub.KerasLayer('https://tfhub.dev/tensorflow/small_bert/bert_en_uncased_L-2_H-128_A-2/2',trainable=False)\n",
    "\n",
    "outputs = encoder(encoder_inputs)\n",
    "\n",
    "pooled_output = outputs['pooled_output'] # [batch_size, 128].\n",
    "# [batch_size, seq_length, 128].\n",
    "\n",
    "sequence_output = outputs['sequence_output']"
   ]
  },
  {
   "cell_type": "markdown",
   "id": "canadian-industry",
   "metadata": {
    "tags": [],
    "toc-hr-collapsed": true
   },
   "source": [
    "##### Sample Convert to BERT Embedding"
   ]
  },
  {
   "cell_type": "code",
   "execution_count": 412,
   "id": "major-condition",
   "metadata": {},
   "outputs": [
    {
     "name": "stderr",
     "output_type": "stream",
     "text": [
      "2022-05-29 23:02:11.958773: I tensorflow/core/grappler/optimizers/custom_graph_optimizer_registry.cc:113] Plugin optimizer for device_type GPU is enabled.\n",
      "2022-05-29 23:02:12.132296: I tensorflow/core/grappler/optimizers/custom_graph_optimizer_registry.cc:113] Plugin optimizer for device_type GPU is enabled.\n"
     ]
    }
   ],
   "source": [
    "text = \"hello there who are you hello there who are you hello there who are you hello there who are you hello there who are you hello there who are you\"\n",
    "words = text.split()\n",
    "converted = stanzaTools.convertToEmbedding(words, preprocessor, encoder)"
   ]
  },
  {
   "cell_type": "code",
   "execution_count": 413,
   "id": "light-snake",
   "metadata": {},
   "outputs": [
    {
     "data": {
      "text/plain": [
       "(30, 128)"
      ]
     },
     "execution_count": 413,
     "metadata": {},
     "output_type": "execute_result"
    }
   ],
   "source": [
    "converted.shape"
   ]
  },
  {
   "cell_type": "code",
   "execution_count": 414,
   "id": "coordinate-softball",
   "metadata": {},
   "outputs": [],
   "source": [
    "converted = stanzaTools.convertToEmbedding(['!'], preprocessor, encoder)"
   ]
  },
  {
   "cell_type": "code",
   "execution_count": 415,
   "id": "international-hungary",
   "metadata": {},
   "outputs": [],
   "source": [
    "word = ['hello', 'there']\n",
    "convertedWords = stanzaTools.convertToEmbedding(word, preprocessor, encoder)"
   ]
  },
  {
   "cell_type": "code",
   "execution_count": 416,
   "id": "recorded-dealer",
   "metadata": {},
   "outputs": [
    {
     "data": {
      "text/plain": [
       "(2, 128)"
      ]
     },
     "execution_count": 416,
     "metadata": {},
     "output_type": "execute_result"
    }
   ],
   "source": [
    "convertedWords.shape"
   ]
  },
  {
   "cell_type": "code",
   "execution_count": null,
   "id": "5b1fa0e0-afc6-4610-b067-75aee0f31322",
   "metadata": {},
   "outputs": [],
   "source": []
  },
  {
   "cell_type": "markdown",
   "id": "da6de07d-5213-43a9-8165-75357ad7b281",
   "metadata": {},
   "source": [
    "#### Training Custom Embeddings"
   ]
  },
  {
   "cell_type": "markdown",
   "id": "72d67db5-e0f4-4c70-b0b7-3e1efff2ffaf",
   "metadata": {},
   "source": [
    "Tokenize and pad the train and val features"
   ]
  },
  {
   "cell_type": "code",
   "execution_count": 28,
   "id": "8a783f22-033d-4846-a666-4cfa3b01e9be",
   "metadata": {},
   "outputs": [],
   "source": [
    "from tensorflow.keras.preprocessing.sequence import pad_sequences"
   ]
  },
  {
   "cell_type": "code",
   "execution_count": 29,
   "id": "1cd8d724-0db9-4061-8c66-47e4bcd31511",
   "metadata": {},
   "outputs": [],
   "source": [
    "MAX_SEQUENCE_LENGTH = 256"
   ]
  },
  {
   "cell_type": "code",
   "execution_count": 30,
   "id": "7127cd8a-7599-402d-ba66-7f06c43dac78",
   "metadata": {},
   "outputs": [],
   "source": [
    "xTrain = customTokenizer.texts_to_sequences(trainFeatures)\n",
    "xTrain = pad_sequences(xTrain, maxlen=MAX_SEQUENCE_LENGTH, padding='post', truncating='post')"
   ]
  },
  {
   "cell_type": "code",
   "execution_count": 31,
   "id": "d3570a95-3cc4-4e31-832d-ae1b45fa57f2",
   "metadata": {},
   "outputs": [
    {
     "name": "stdout",
     "output_type": "stream",
     "text": [
      "(8000, 256)\n",
      "(8000,)\n"
     ]
    }
   ],
   "source": [
    "yTrain = np.array(trainLabels)\n",
    "print(xTrain.shape)\n",
    "print(yTrain.shape)"
   ]
  },
  {
   "cell_type": "code",
   "execution_count": 32,
   "id": "87bd63ca-cfb3-410f-8e67-f986ecefdb53",
   "metadata": {},
   "outputs": [],
   "source": [
    "xValidation = customTokenizer.texts_to_sequences(valFeatures)\n",
    "xValidation = pad_sequences(xValidation, maxlen=MAX_SEQUENCE_LENGTH, padding='post', truncating='post')"
   ]
  },
  {
   "cell_type": "code",
   "execution_count": 33,
   "id": "6e1a8bf1-c716-4ad6-a6fc-394e629f81d5",
   "metadata": {},
   "outputs": [
    {
     "name": "stdout",
     "output_type": "stream",
     "text": [
      "(2000, 256)\n",
      "(2000,)\n"
     ]
    }
   ],
   "source": [
    "yValidation = np.array(valLabels)\n",
    "print(xValidation.shape)\n",
    "print(yValidation.shape)"
   ]
  },
  {
   "cell_type": "code",
   "execution_count": 34,
   "id": "cf25d1c1-01c0-414b-ae91-9ab6b2dabe93",
   "metadata": {},
   "outputs": [],
   "source": [
    "testLimit = 5000"
   ]
  },
  {
   "cell_type": "code",
   "execution_count": 35,
   "id": "5c7c662b-644f-45e1-b7e6-f29f253b19fa",
   "metadata": {},
   "outputs": [],
   "source": [
    "xTest = customTokenizer.texts_to_sequences(testFeatures[0:testLimit])\n",
    "xTest = pad_sequences(xTest, maxlen=MAX_SEQUENCE_LENGTH, padding='post', truncating='post')"
   ]
  },
  {
   "cell_type": "code",
   "execution_count": 36,
   "id": "89556f98-b688-4503-945b-0e7af5337d18",
   "metadata": {},
   "outputs": [
    {
     "name": "stdout",
     "output_type": "stream",
     "text": [
      "(5000, 256)\n",
      "(5000,)\n"
     ]
    }
   ],
   "source": [
    "yTest = np.array(testLabels[0:testLimit])\n",
    "print(xTest.shape)\n",
    "print(yTest.shape)"
   ]
  },
  {
   "cell_type": "markdown",
   "id": "5ecae2e5-794f-40dc-a1b1-97432df859fa",
   "metadata": {},
   "source": [
    "Make the model"
   ]
  },
  {
   "cell_type": "code",
   "execution_count": 62,
   "id": "front-avenue",
   "metadata": {},
   "outputs": [],
   "source": [
    "def sampleModel():\n",
    "    sequence_input = tf.keras.layers.Input(shape=(MAX_SEQUENCE_LENGTH,), dtype='int32')\n",
    "    embedding_layer = tf.keras.layers.Embedding(30000,\n",
    "                                                16)(sequence_input)\n",
    "    pool = tf.keras.layers.GlobalAveragePooling1D()(embedding_layer)\n",
    "    dense_layer = tf.keras.layers.Dense(16, activation='relu')(pool)\n",
    "    dropout_layer = tf.keras.layers.Dropout(0.3)(dense_layer)\n",
    "    outputs = tf.keras.layers.Dense(1)(dropout_layer)\n",
    "\n",
    "    return tf.keras.Model(inputs=sequence_input, outputs=outputs)"
   ]
  },
  {
   "cell_type": "code",
   "execution_count": 63,
   "id": "preliminary-amateur",
   "metadata": {},
   "outputs": [
    {
     "name": "stdout",
     "output_type": "stream",
     "text": [
      "Model: \"model\"\n",
      "_________________________________________________________________\n",
      " Layer (type)                Output Shape              Param #   \n",
      "=================================================================\n",
      " input_1 (InputLayer)        [(None, 256)]             0         \n",
      "                                                                 \n",
      " embedding (Embedding)       (None, 256, 16)           480000    \n",
      "                                                                 \n",
      " global_average_pooling1d (G  (None, 16)               0         \n",
      " lobalAveragePooling1D)                                          \n",
      "                                                                 \n",
      " dense (Dense)               (None, 16)                272       \n",
      "                                                                 \n",
      " dropout (Dropout)           (None, 16)                0         \n",
      "                                                                 \n",
      " dense_1 (Dense)             (None, 1)                 17        \n",
      "                                                                 \n",
      "=================================================================\n",
      "Total params: 480,289\n",
      "Trainable params: 480,289\n",
      "Non-trainable params: 0\n",
      "_________________________________________________________________\n"
     ]
    }
   ],
   "source": [
    "tf.keras.backend.clear_session()\n",
    "embeddingModel = sampleModel()\n",
    "embeddingModel.summary()"
   ]
  },
  {
   "cell_type": "code",
   "execution_count": 64,
   "id": "beginning-tiffany",
   "metadata": {},
   "outputs": [],
   "source": [
    "embeddingModel.compile(\n",
    "    optimizer='adam',\n",
    "    loss=tf.keras.losses.BinaryCrossentropy(from_logits=True),\n",
    "    metrics=['accuracy'])"
   ]
  },
  {
   "cell_type": "code",
   "execution_count": 65,
   "id": "recreational-buffalo",
   "metadata": {
    "tags": []
   },
   "outputs": [
    {
     "name": "stdout",
     "output_type": "stream",
     "text": [
      "Epoch 1/5\n",
      "  1/250 [..............................] - ETA: 1:07 - loss: 0.6931 - accuracy: 0.5625"
     ]
    },
    {
     "name": "stderr",
     "output_type": "stream",
     "text": [
      "2022-06-04 14:39:42.918895: I tensorflow/core/grappler/optimizers/custom_graph_optimizer_registry.cc:113] Plugin optimizer for device_type GPU is enabled.\n"
     ]
    },
    {
     "name": "stdout",
     "output_type": "stream",
     "text": [
      "250/250 [==============================] - ETA: 0s - loss: 0.6826 - accuracy: 0.4996"
     ]
    },
    {
     "name": "stderr",
     "output_type": "stream",
     "text": [
      "2022-06-04 14:39:46.931897: I tensorflow/core/grappler/optimizers/custom_graph_optimizer_registry.cc:113] Plugin optimizer for device_type GPU is enabled.\n"
     ]
    },
    {
     "name": "stdout",
     "output_type": "stream",
     "text": [
      "250/250 [==============================] - 4s 17ms/step - loss: 0.6826 - accuracy: 0.4996 - val_loss: 0.6549 - val_accuracy: 0.5015\n",
      "Epoch 2/5\n",
      "250/250 [==============================] - 4s 15ms/step - loss: 0.5562 - accuracy: 0.6714 - val_loss: 0.4838 - val_accuracy: 0.8065\n",
      "Epoch 3/5\n",
      "250/250 [==============================] - 3s 14ms/step - loss: 0.3828 - accuracy: 0.8435 - val_loss: 0.3883 - val_accuracy: 0.8410\n",
      "Epoch 4/5\n",
      "250/250 [==============================] - 3s 13ms/step - loss: 0.2804 - accuracy: 0.8901 - val_loss: 0.3543 - val_accuracy: 0.8550\n",
      "Epoch 5/5\n",
      "250/250 [==============================] - 3s 13ms/step - loss: 0.2153 - accuracy: 0.9236 - val_loss: 0.3453 - val_accuracy: 0.8595\n"
     ]
    }
   ],
   "source": [
    "history = embeddingModel.fit(\n",
    "    xTrain,\n",
    "    yTrain,\n",
    "    validation_data=(xValidation, yValidation),\n",
    "    epochs=5,\n",
    "    verbose=1)"
   ]
  },
  {
   "cell_type": "code",
   "execution_count": 66,
   "id": "beneficial-gates",
   "metadata": {},
   "outputs": [
    {
     "name": "stdout",
     "output_type": "stream",
     "text": [
      "157/157 [==============================] - 1s 4ms/step - loss: 0.3647 - accuracy: 0.8398\n"
     ]
    }
   ],
   "source": [
    "results = embeddingModel.evaluate(x=xTest, y=yTest)"
   ]
  },
  {
   "cell_type": "markdown",
   "id": "2c30a116-776f-4498-b2fe-ea66a1e1b664",
   "metadata": {},
   "source": [
    "##### Sample Convert to Custom Embeddings"
   ]
  },
  {
   "cell_type": "code",
   "execution_count": 67,
   "id": "2c2ec222-b641-48ac-84ff-ebd6cfcb9cf8",
   "metadata": {},
   "outputs": [
    {
     "data": {
      "text/plain": [
       "<keras.layers.embeddings.Embedding at 0x2f7120a00>"
      ]
     },
     "execution_count": 67,
     "metadata": {},
     "output_type": "execute_result"
    }
   ],
   "source": [
    "embeddingModel.layers[1]"
   ]
  },
  {
   "cell_type": "code",
   "execution_count": 68,
   "id": "de036072-ea80-4f9f-bce5-0c2bad2a7d58",
   "metadata": {},
   "outputs": [],
   "source": [
    "listOfWords = \"why did I do this\".split()"
   ]
  },
  {
   "cell_type": "code",
   "execution_count": 69,
   "id": "e2ac64d6-2d10-4747-a55a-054aafab98a2",
   "metadata": {},
   "outputs": [
    {
     "data": {
      "text/plain": [
       "['why', 'did', 'I', 'do', 'this']"
      ]
     },
     "execution_count": 69,
     "metadata": {},
     "output_type": "execute_result"
    }
   ],
   "source": [
    "listOfWords"
   ]
  },
  {
   "cell_type": "code",
   "execution_count": 70,
   "id": "5a85901d-ad74-45c2-a780-a370fc904d69",
   "metadata": {},
   "outputs": [],
   "source": [
    "sequence = customTokenizer.texts_to_sequences(listOfWords)"
   ]
  },
  {
   "cell_type": "code",
   "execution_count": 71,
   "id": "dca0d1fd-aea6-4b8b-9c5b-580fe65d166c",
   "metadata": {},
   "outputs": [
    {
     "data": {
      "text/plain": [
       "[[149], [82], [12], [49], [13]]"
      ]
     },
     "execution_count": 71,
     "metadata": {},
     "output_type": "execute_result"
    }
   ],
   "source": [
    "sequence"
   ]
  },
  {
   "cell_type": "code",
   "execution_count": 72,
   "id": "8d93ba14-5113-4b8a-8c82-578f76a504fa",
   "metadata": {},
   "outputs": [],
   "source": [
    "reshapedSeq = np.array(sequence).reshape((len(sequence),))"
   ]
  },
  {
   "cell_type": "code",
   "execution_count": 73,
   "id": "70c75abd-1bd9-4475-87b1-3a47b5c8bbec",
   "metadata": {},
   "outputs": [
    {
     "data": {
      "text/plain": [
       "array([149,  82,  12,  49,  13])"
      ]
     },
     "execution_count": 73,
     "metadata": {},
     "output_type": "execute_result"
    }
   ],
   "source": [
    "reshapedSeq"
   ]
  },
  {
   "cell_type": "code",
   "execution_count": 74,
   "id": "d7da9733-e41b-4727-9373-b1b8c883cb48",
   "metadata": {},
   "outputs": [],
   "source": [
    "embeddedSeq = embeddingModel.layers[1](reshapedSeq)"
   ]
  },
  {
   "cell_type": "code",
   "execution_count": 75,
   "id": "f638bb85-6c2f-4396-9b96-98f30be6548e",
   "metadata": {},
   "outputs": [
    {
     "data": {
      "text/plain": [
       "array([[ 0.07890902,  0.19533819, -0.12725225, -0.19173597, -0.12536286,\n",
       "         0.10662227, -0.21145813, -0.12643147, -0.16109386,  0.20978141,\n",
       "        -0.15504336,  0.2102495 ,  0.17694837, -0.19372538, -0.18275827,\n",
       "         0.16654494],\n",
       "       [ 0.0843708 ,  0.09319644, -0.01497115, -0.07239394, -0.08228982,\n",
       "         0.06778584, -0.14404279, -0.0796992 , -0.18000685,  0.12080268,\n",
       "        -0.10378254,  0.1878184 ,  0.10530651, -0.09627914, -0.09801108,\n",
       "         0.15733153],\n",
       "       [ 0.07339113, -0.04302793, -0.19533019,  0.07699015,  0.03552973,\n",
       "        -0.07023028, -0.056678  ,  0.02365462, -0.02302306,  0.00181321,\n",
       "         0.05270104,  0.00171633, -0.10090076,  0.02338001, -0.05605143,\n",
       "        -0.0593782 ],\n",
       "       [ 0.1348524 ,  0.1905593 , -0.15101175, -0.17491458, -0.22634368,\n",
       "         0.1393976 , -0.18022574, -0.1947141 , -0.21485187,  0.18093476,\n",
       "        -0.22455978,  0.27268037,  0.1621794 , -0.2532964 , -0.2361159 ,\n",
       "         0.15330526],\n",
       "       [ 0.09937557,  0.02251425, -0.25894922, -0.05152998, -0.0548248 ,\n",
       "         0.03231355, -0.1657222 ,  0.04677306, -0.07078235,  0.07093892,\n",
       "        -0.01913453,  0.00659538, -0.00349667, -0.0454782 , -0.14799216,\n",
       "         0.00981974]], dtype=float32)"
      ]
     },
     "execution_count": 75,
     "metadata": {},
     "output_type": "execute_result"
    }
   ],
   "source": [
    "np.array(embeddedSeq)"
   ]
  },
  {
   "cell_type": "markdown",
   "id": "99fe2c4a-9b57-4e3c-9c6f-44a8e10f1a0b",
   "metadata": {},
   "source": [
    "#### convertToCustomEmbedding"
   ]
  },
  {
   "cell_type": "code",
   "execution_count": 146,
   "id": "064c2287-09f2-4b1f-9851-5b5001d1fb4d",
   "metadata": {},
   "outputs": [],
   "source": [
    "def convertToCustomEmbedding(words):\n",
    "    \"\"\"\n",
    "    Takes a list of words and converts it to a list of custom embeddings. \n",
    "\n",
    "    Args:\n",
    "        words - (list) The list of words to convert\n",
    "    Returns:\n",
    "        embeddings - (list) A list of embeddings\n",
    "    \"\"\"\n",
    "    sequence = customTokenizer.texts_to_sequences(words)\n",
    "    reshapedSeq = np.array([item[0] for item in sequence])\n",
    "    try:\n",
    "        convertedWords = embeddingModel.layers[1](reshapedSeq)\n",
    "    except:\n",
    "        print(words)\n",
    "        print(reshapedSeq)\n",
    "    return np.array(convertedWords)"
   ]
  },
  {
   "cell_type": "markdown",
   "id": "genuine-application",
   "metadata": {},
   "source": [
    "### Convert Data to Graph Format"
   ]
  },
  {
   "cell_type": "code",
   "execution_count": 77,
   "id": "44add8bb-6a06-4095-87d9-65c7abf300cc",
   "metadata": {},
   "outputs": [
    {
     "data": {
      "application/vnd.jupyter.widget-view+json": {
       "model_id": "013132daed3b4d63acbfb6332ceda0b5",
       "version_major": 2,
       "version_minor": 0
      },
      "text/plain": [
       "Downloading https://raw.githubusercontent.com/stanfordnlp/stanza-resources/main/resources_1.4.0.json:   0%|   …"
      ]
     },
     "metadata": {},
     "output_type": "display_data"
    },
    {
     "name": "stderr",
     "output_type": "stream",
     "text": [
      "2022-06-04 14:42:00 WARNING: Can not find mwt: default from official model list. Ignoring it.\n",
      "WARNING:stanza:Can not find mwt: default from official model list. Ignoring it.\n",
      "2022-06-04 14:42:00 INFO: Loading these models for language: en (English):\n",
      "========================\n",
      "| Processor | Package  |\n",
      "------------------------\n",
      "| tokenize  | combined |\n",
      "| pos       | combined |\n",
      "| lemma     | combined |\n",
      "| depparse  | combined |\n",
      "| sentiment | sstplus  |\n",
      "========================\n",
      "\n",
      "INFO:stanza:Loading these models for language: en (English):\n",
      "========================\n",
      "| Processor | Package  |\n",
      "------------------------\n",
      "| tokenize  | combined |\n",
      "| pos       | combined |\n",
      "| lemma     | combined |\n",
      "| depparse  | combined |\n",
      "| sentiment | sstplus  |\n",
      "========================\n",
      "\n",
      "2022-06-04 14:42:00 INFO: Use device: cpu\n",
      "INFO:stanza:Use device: cpu\n",
      "2022-06-04 14:42:00 INFO: Loading: tokenize\n",
      "INFO:stanza:Loading: tokenize\n",
      "2022-06-04 14:42:00 INFO: Loading: pos\n",
      "INFO:stanza:Loading: pos\n",
      "2022-06-04 14:42:00 INFO: Loading: lemma\n",
      "INFO:stanza:Loading: lemma\n",
      "2022-06-04 14:42:00 INFO: Loading: depparse\n",
      "INFO:stanza:Loading: depparse\n",
      "2022-06-04 14:42:00 INFO: Loading: sentiment\n",
      "INFO:stanza:Loading: sentiment\n",
      "2022-06-04 14:42:01 INFO: Done loading processors!\n",
      "INFO:stanza:Done loading processors!\n"
     ]
    }
   ],
   "source": [
    "nlp = stanza.Pipeline(\n",
    "    'en',\n",
    "    processors = 'tokenize,mwt,pos,lemma,depparse, sentiment')"
   ]
  },
  {
   "cell_type": "markdown",
   "id": "79b2c8a2-1097-48bc-aea6-36d46410beab",
   "metadata": {},
   "source": [
    "#### convertToGraph"
   ]
  },
  {
   "cell_type": "code",
   "execution_count": 78,
   "id": "8c67e0e3-9128-4d5e-bc81-67db68fd3fcd",
   "metadata": {},
   "outputs": [],
   "source": [
    "def convertToGraph(sentence, label):\n",
    "    doc = nlp(sentence)\n",
    "    newGraph = createGraphAlpha(doc, label)\n",
    "    return newGraph"
   ]
  },
  {
   "cell_type": "code",
   "execution_count": 124,
   "id": "e7ff2024-50d2-4d8d-9ae1-8b88db5df1e8",
   "metadata": {},
   "outputs": [],
   "source": [
    "numTrain = len(trainFeatures)\n",
    "numVal = len(valFeatures)\n",
    "numTest = 5000"
   ]
  },
  {
   "cell_type": "code",
   "execution_count": 125,
   "id": "468ed815-747b-4f82-9547-323549ef88fb",
   "metadata": {},
   "outputs": [
    {
     "name": "stdout",
     "output_type": "stream",
     "text": [
      "971.1785690419997\n"
     ]
    }
   ],
   "source": [
    "startTime = time.perf_counter()\n",
    "# trainGraphs = [convertToGraph(trainFeatures[i], trainLabels[i]) for i in range(10)]\n",
    "trainGraphs = joblib.Parallel(n_jobs=8, prefer=\"threads\")(joblib.delayed(convertToGraph)(trainFeatures[i], trainLabels[i]) for i in range(numTrain))\n",
    "timeElapsed = time.perf_counter() - startTime\n",
    "print(timeElapsed)"
   ]
  },
  {
   "cell_type": "code",
   "execution_count": 128,
   "id": "c9545999-eab0-409b-b0cd-eaceca12f36b",
   "metadata": {},
   "outputs": [
    {
     "data": {
      "text/plain": [
       "[(245, 16),\n",
       " (443, 16),\n",
       " (128, 16),\n",
       " (64, 16),\n",
       " (133, 16),\n",
       " (325, 16),\n",
       " (115, 16),\n",
       " (199, 16),\n",
       " (167, 16),\n",
       " (376, 16)]"
      ]
     },
     "execution_count": 128,
     "metadata": {},
     "output_type": "execute_result"
    }
   ],
   "source": [
    "[item[0].shape for item in trainGraphs[0:10]]"
   ]
  },
  {
   "cell_type": "code",
   "execution_count": 129,
   "id": "0ba81c9c-39fc-40d6-8729-70a912dcdd9d",
   "metadata": {},
   "outputs": [
    {
     "data": {
      "text/plain": [
       "2000"
      ]
     },
     "execution_count": 129,
     "metadata": {},
     "output_type": "execute_result"
    }
   ],
   "source": [
    "numVal"
   ]
  },
  {
   "cell_type": "code",
   "execution_count": 147,
   "id": "b7d99bb0-b8ad-4cde-93f1-df62f4eb5e27",
   "metadata": {},
   "outputs": [
    {
     "name": "stdout",
     "output_type": "stream",
     "text": [
      "240.06892058300036\n"
     ]
    }
   ],
   "source": [
    "startTime = time.perf_counter()\n",
    "validationGraphs = joblib.Parallel(n_jobs=8, prefer=\"threads\")(joblib.delayed(convertToGraph)(valFeatures[i], valLabels[i]) for i in range(numVal))\n",
    "timeElapsed = time.perf_counter() - startTime\n",
    "print(timeElapsed)"
   ]
  },
  {
   "cell_type": "code",
   "execution_count": 148,
   "id": "3bc551c9-a64b-46e5-b8e2-76481f3067e9",
   "metadata": {},
   "outputs": [
    {
     "data": {
      "text/plain": [
       "[(134, 16), (134, 134), (125, 51), (1,)]"
      ]
     },
     "execution_count": 148,
     "metadata": {},
     "output_type": "execute_result"
    }
   ],
   "source": [
    "[item.shape for item in validationGraphs[0]]"
   ]
  },
  {
   "cell_type": "code",
   "execution_count": 149,
   "id": "4fa88f76-9483-4f1a-9dee-0e62cdfbbbc9",
   "metadata": {},
   "outputs": [
    {
     "name": "stdout",
     "output_type": "stream",
     "text": [
      "595.6615268330006\n"
     ]
    }
   ],
   "source": [
    "startTime = time.perf_counter()\n",
    "testGraphs = joblib.Parallel(n_jobs=8, prefer=\"threads\")(joblib.delayed(convertToGraph)(testFeatures[i], testLabels[i]) for i in range(numTest))\n",
    "timeElapsed = time.perf_counter() - startTime\n",
    "print(timeElapsed)"
   ]
  },
  {
   "cell_type": "code",
   "execution_count": 150,
   "id": "2439caa6-d710-41cc-923e-ae09a6d5ef08",
   "metadata": {},
   "outputs": [
    {
     "data": {
      "text/plain": [
       "[(220, 16), (220, 220), (210, 51), (1,)]"
      ]
     },
     "execution_count": 150,
     "metadata": {},
     "output_type": "execute_result"
    }
   ],
   "source": [
    "[item.shape for item in testGraphs[0]]"
   ]
  },
  {
   "cell_type": "markdown",
   "id": "dd47af7b-5070-4c98-9653-cf2df26f2bff",
   "metadata": {
    "tags": []
   },
   "source": [
    "#### Speed test"
   ]
  },
  {
   "cell_type": "code",
   "execution_count": 802,
   "id": "42961004-89e0-41d7-b0fe-1ab98a98f387",
   "metadata": {},
   "outputs": [],
   "source": [
    "sentences = []\n",
    "labels = []\n",
    "for i in range(10):\n",
    "    sentence = trainFeatures[i]\n",
    "    label = trainLabels[i]\n",
    "    sentences.append(sentence)\n",
    "    labels.append(label)"
   ]
  },
  {
   "cell_type": "code",
   "execution_count": 871,
   "id": "e87e8bbf-b5d4-4051-85d7-a2c1b6ab1fcd",
   "metadata": {},
   "outputs": [
    {
     "name": "stdout",
     "output_type": "stream",
     "text": [
      "I love this show!  Every time i watch an episode i repeat that line and remind myself how good of a \n",
      "I gave it a 10, since everyone else seemed to like it and it would have been churlish not to. The re\n",
      "Considering its pedigree, this should be a far more enjoyable film than it is. Even with a lip-smack\n",
      "Give this movie a break! Its worth at least a \"7\"! That little girl is a good actor and she's cute, \n",
      "Actually had to stop it. Don't get me wrong, love bad monster movies. But this one was way too borin\n"
     ]
    }
   ],
   "source": [
    "for sentence in sentences[0:5]:\n",
    "    print(sentence[0:100])"
   ]
  },
  {
   "cell_type": "code",
   "execution_count": 803,
   "id": "d0a2cb05-a626-4d98-acae-c56e4fc8ec76",
   "metadata": {},
   "outputs": [],
   "source": [
    "import time"
   ]
  },
  {
   "cell_type": "code",
   "execution_count": 804,
   "id": "9eda0e62-b80c-47b8-929d-6fff7971b874",
   "metadata": {},
   "outputs": [
    {
     "name": "stdout",
     "output_type": "stream",
     "text": [
      "3.5648865830007708\n"
     ]
    }
   ],
   "source": [
    "startTime = time.perf_counter()\n",
    "docs = []\n",
    "for sentence in sentences:\n",
    "    doc = nlp(sentence)\n",
    "    docs.append(doc)\n",
    "timeElapsed = time.perf_counter() - startTime\n",
    "print(timeElapsed)"
   ]
  },
  {
   "cell_type": "code",
   "execution_count": 872,
   "id": "285121b4-3200-4e7b-9502-4ff0d102990f",
   "metadata": {},
   "outputs": [
    {
     "name": "stdout",
     "output_type": "stream",
     "text": [
      "I love this show!\n",
      "I gave it a 10, since everyone else seemed to like it and it would have been churlish not to.\n",
      "Considering its pedigree, this should be a far more enjoyable film than it is.\n",
      "Give this movie a break!\n",
      "Actually had to stop it.\n"
     ]
    }
   ],
   "source": [
    "for doc in docs[0:5]:\n",
    "    print(doc.sentences[0].text)"
   ]
  },
  {
   "cell_type": "code",
   "execution_count": 873,
   "id": "2fc03d38-bc35-4a13-94b5-e872e6e61f4f",
   "metadata": {},
   "outputs": [],
   "source": [
    "def runDepenParse(sentence):\n",
    "    return(nlp(sentence))"
   ]
  },
  {
   "cell_type": "code",
   "execution_count": 880,
   "id": "767ee204-73e5-4ef0-8a21-8de58a8c766f",
   "metadata": {},
   "outputs": [
    {
     "name": "stdout",
     "output_type": "stream",
     "text": [
      "1.400063583991141\n"
     ]
    }
   ],
   "source": [
    "startTime = time.perf_counter()\n",
    "parallelDocs = joblib.Parallel(n_jobs=8, prefer=\"threads\")(joblib.delayed(nlp)(sentences[i]) for i in range(len(sentences)))\n",
    "timeElapsed = time.perf_counter() - startTime\n",
    "print(timeElapsed)"
   ]
  },
  {
   "cell_type": "code",
   "execution_count": 881,
   "id": "674476bd-77a3-4190-a1c3-0a959b6448ee",
   "metadata": {},
   "outputs": [
    {
     "name": "stdout",
     "output_type": "stream",
     "text": [
      "I love this show!\n",
      "I gave it a 10, since everyone else seemed to like it and it would have been churlish not to.\n",
      "Considering its pedigree, this should be a far more enjoyable film than it is.\n",
      "Give this movie a break!\n",
      "Actually had to stop it.\n"
     ]
    }
   ],
   "source": [
    "for doc in parallelDocs[0:5]:\n",
    "    print(doc.sentences[0].text)"
   ]
  },
  {
   "cell_type": "code",
   "execution_count": 815,
   "id": "51561309-1bb7-460c-843c-0fbf69cbe06e",
   "metadata": {},
   "outputs": [
    {
     "name": "stdout",
     "output_type": "stream",
     "text": [
      "[0.0016565000114496797, 0.8239069159899373, 4.258399712853134e-05]\n",
      "[0.0005920830008108169, 0.880328291998012, 5.966699973214418e-05]\n",
      "[0.0004295000107958913, 0.5279259999952046, 4.3624997488223016e-05]\n",
      "[0.00021374999778345227, 0.1548051249992568, 2.400000812485814e-05]\n",
      "[0.0004080420039827004, 0.41955416700511705, 3.466599446255714e-05]\n",
      "[0.0003648330020951107, 0.38100525000481866, 3.6124998587183654e-05]\n",
      "[8.412500028498471e-05, 0.050149124988820404, 1.2541000614874065e-05]\n",
      "[0.00044112501200288534, 0.6078953749965876, 4.849999095313251e-05]\n",
      "[0.0008354589954251423, 1.7352896660013357, 6.474999827332795e-05]\n",
      "[0.0004531250015133992, 0.6398550419980893, 4.225000157020986e-05]\n",
      "6.228190624999115\n"
     ]
    }
   ],
   "source": [
    "performanceTest = []\n",
    "startTime = time.perf_counter()\n",
    "for i in range(len(docs)):\n",
    "    doc = docs[i]\n",
    "    label = labels[i]\n",
    "    newGraph = createGraph(doc, label)\n",
    "    performanceTest.append(newGraph)\n",
    "timeElapsed = time.perf_counter() - startTime\n",
    "print(timeElapsed)"
   ]
  },
  {
   "cell_type": "code",
   "execution_count": 821,
   "id": "8448e940-8289-41e9-a24c-ef4e81f7d5b8",
   "metadata": {},
   "outputs": [
    {
     "data": {
      "text/plain": [
       "(68, 128)"
      ]
     },
     "execution_count": 821,
     "metadata": {},
     "output_type": "execute_result"
    }
   ],
   "source": [
    "performanceTest[0][0].shape"
   ]
  },
  {
   "cell_type": "code",
   "execution_count": 823,
   "id": "bd3d2628-c115-4d30-af0e-e6329745362f",
   "metadata": {},
   "outputs": [
    {
     "name": "stderr",
     "output_type": "stream",
     "text": [
      "2022-05-30 20:44:46.623199: I tensorflow/core/grappler/optimizers/custom_graph_optimizer_registry.cc:113] Plugin optimizer for device_type GPU is enabled.\n"
     ]
    },
    {
     "name": "stdout",
     "output_type": "stream",
     "text": [
      "[0.0014568749902537093, 0.650831000006292, 4.850000550504774e-05]\n"
     ]
    },
    {
     "name": "stderr",
     "output_type": "stream",
     "text": [
      "2022-05-30 20:44:47.259807: I tensorflow/core/grappler/optimizers/custom_graph_optimizer_registry.cc:113] Plugin optimizer for device_type GPU is enabled.\n"
     ]
    },
    {
     "name": "stdout",
     "output_type": "stream",
     "text": [
      "[0.000592500000493601, 1.0497337500128197, 5.037499067839235e-05]\n"
     ]
    },
    {
     "name": "stderr",
     "output_type": "stream",
     "text": [
      "2022-05-30 20:44:48.308816: I tensorflow/core/grappler/optimizers/custom_graph_optimizer_registry.cc:113] Plugin optimizer for device_type GPU is enabled.\n"
     ]
    },
    {
     "name": "stdout",
     "output_type": "stream",
     "text": [
      "[0.00040020800952333957, 0.6706725839903811, 4.2750005377456546e-05]\n"
     ]
    },
    {
     "name": "stderr",
     "output_type": "stream",
     "text": [
      "2022-05-30 20:44:48.981627: I tensorflow/core/grappler/optimizers/custom_graph_optimizer_registry.cc:113] Plugin optimizer for device_type GPU is enabled.\n"
     ]
    },
    {
     "name": "stdout",
     "output_type": "stream",
     "text": [
      "[0.0002625420020194724, 0.2348579579993384, 2.4708002456463873e-05]\n"
     ]
    },
    {
     "name": "stderr",
     "output_type": "stream",
     "text": [
      "2022-05-30 20:44:49.218482: I tensorflow/core/grappler/optimizers/custom_graph_optimizer_registry.cc:113] Plugin optimizer for device_type GPU is enabled.\n"
     ]
    },
    {
     "name": "stdout",
     "output_type": "stream",
     "text": [
      "[0.00036829200689680874, 0.42855179199250415, 3.783300053328276e-05]\n"
     ]
    },
    {
     "name": "stderr",
     "output_type": "stream",
     "text": [
      "2022-05-30 20:44:49.645511: I tensorflow/core/grappler/optimizers/custom_graph_optimizer_registry.cc:113] Plugin optimizer for device_type GPU is enabled.\n"
     ]
    },
    {
     "name": "stdout",
     "output_type": "stream",
     "text": [
      "[0.0003355830122018233, 0.39810258299985435, 3.258399374317378e-05]\n",
      "[7.166700379457325e-05, 0.10051387498970143, 1.4375007594935596e-05]\n"
     ]
    },
    {
     "name": "stderr",
     "output_type": "stream",
     "text": [
      "2022-05-30 20:44:50.043553: I tensorflow/core/grappler/optimizers/custom_graph_optimizer_registry.cc:113] Plugin optimizer for device_type GPU is enabled.\n",
      "2022-05-30 20:44:50.145551: I tensorflow/core/grappler/optimizers/custom_graph_optimizer_registry.cc:113] Plugin optimizer for device_type GPU is enabled.\n"
     ]
    },
    {
     "name": "stdout",
     "output_type": "stream",
     "text": [
      "[0.00044062500819563866, 0.6135991249902872, 4.1000006604008377e-05]\n"
     ]
    },
    {
     "name": "stderr",
     "output_type": "stream",
     "text": [
      "2022-05-30 20:44:50.759863: I tensorflow/core/grappler/optimizers/custom_graph_optimizer_registry.cc:113] Plugin optimizer for device_type GPU is enabled.\n"
     ]
    },
    {
     "name": "stdout",
     "output_type": "stream",
     "text": [
      "[0.0006962500046938658, 1.3325668750039767, 6.137500167824328e-05]\n"
     ]
    },
    {
     "name": "stderr",
     "output_type": "stream",
     "text": [
      "2022-05-30 20:44:52.093539: I tensorflow/core/grappler/optimizers/custom_graph_optimizer_registry.cc:113] Plugin optimizer for device_type GPU is enabled.\n"
     ]
    },
    {
     "name": "stdout",
     "output_type": "stream",
     "text": [
      "[0.0004484169912757352, 0.6950325420039007, 3.9165999623946846e-05]\n",
      "6.181251499991049\n"
     ]
    }
   ],
   "source": [
    "performanceCustomTest = []\n",
    "startTime = time.perf_counter()\n",
    "for i in range(len(docs)):\n",
    "    doc = docs[i]\n",
    "    label = labels[i]\n",
    "    newGraph = createCustomGraph(doc, label)\n",
    "    performanceCustomTest.append(newGraph)\n",
    "timeElapsed = time.perf_counter() - startTime\n",
    "print(timeElapsed)"
   ]
  },
  {
   "cell_type": "code",
   "execution_count": 834,
   "id": "97b37c23-798f-4d78-bf84-a9e850562730",
   "metadata": {},
   "outputs": [
    {
     "data": {
      "text/plain": [
       "(68, 10)"
      ]
     },
     "execution_count": 834,
     "metadata": {},
     "output_type": "execute_result"
    }
   ],
   "source": [
    "performanceCustomTest[0][0].shape"
   ]
  },
  {
   "cell_type": "code",
   "execution_count": 883,
   "id": "1ccb156d-52a6-427c-9e79-b312e4f9899b",
   "metadata": {},
   "outputs": [
    {
     "name": "stdout",
     "output_type": "stream",
     "text": [
      "68\n",
      "91\n",
      "67\n",
      "29\n",
      "56\n",
      "55\n",
      "8\n",
      "69\n",
      "113\n",
      "73\n",
      "0.04741829200065695\n"
     ]
    }
   ],
   "source": [
    "performanceCustomTest2 = []\n",
    "startTime = time.perf_counter()\n",
    "for i in range(len(docs)):\n",
    "    doc = docs[i]\n",
    "    label = labels[i]\n",
    "    newGraph = createGraphAlpha(doc, label)\n",
    "    performanceCustomTest2.append(newGraph)\n",
    "timeElapsed = time.perf_counter() - startTime\n",
    "print(timeElapsed)"
   ]
  },
  {
   "cell_type": "code",
   "execution_count": 867,
   "id": "7b350c6e-1af5-4e56-9494-6ffcc94c4841",
   "metadata": {},
   "outputs": [
    {
     "data": {
      "text/plain": [
       "(68, 10)"
      ]
     },
     "execution_count": 867,
     "metadata": {},
     "output_type": "execute_result"
    }
   ],
   "source": [
    "performanceCustomTest2[0][0].shape"
   ]
  },
  {
   "cell_type": "code",
   "execution_count": 863,
   "id": "296ada08-fc49-4037-9bee-24515cc1b88c",
   "metadata": {},
   "outputs": [
    {
     "data": {
      "text/plain": [
       "Graph(n_nodes=68, n_node_features=10, n_edge_features=51, n_labels=1)"
      ]
     },
     "execution_count": 863,
     "metadata": {},
     "output_type": "execute_result"
    }
   ],
   "source": [
    "Graph(performanceCustomTest2[0][0], performanceCustomTest2[0][1], performanceCustomTest2[0][2], performanceCustomTest2[0][3])"
   ]
  },
  {
   "cell_type": "code",
   "execution_count": 859,
   "id": "3786527c-bf19-4973-bab8-c3058f60c4b6",
   "metadata": {},
   "outputs": [
    {
     "data": {
      "text/plain": [
       "array([1])"
      ]
     },
     "execution_count": 859,
     "metadata": {},
     "output_type": "execute_result"
    }
   ],
   "source": [
    "performanceCustomTest2[0][3]"
   ]
  },
  {
   "cell_type": "code",
   "execution_count": null,
   "id": "602a0cbc-80e5-42ac-abab-433212046c1b",
   "metadata": {},
   "outputs": [],
   "source": []
  },
  {
   "cell_type": "markdown",
   "id": "deluxe-globe",
   "metadata": {},
   "source": [
    "### Custom Graph Datasets"
   ]
  },
  {
   "cell_type": "code",
   "execution_count": 153,
   "id": "stone-booking",
   "metadata": {},
   "outputs": [],
   "source": [
    "from spektral.data import Dataset \n",
    "from spektral.data.graph import Graph\n",
    "import os"
   ]
  },
  {
   "cell_type": "code",
   "execution_count": 154,
   "id": "specified-vector",
   "metadata": {},
   "outputs": [],
   "source": [
    "class TrainDataset(Dataset):\n",
    "    \"\"\"\n",
    "    A dataset of train graphs.\n",
    "    \"\"\"\n",
    "    def __init__(self, **kwargs):\n",
    "        # self.path = savePath\n",
    "        self.download()\n",
    "        super().__init__(**kwargs)\n",
    "    \n",
    "    def download(self):\n",
    "        # data = ... \n",
    "        # Download from somewhere\n",
    "\n",
    "        # Create the directory\n",
    "        try:\n",
    "            os.mkdir(self.path)\n",
    "        except:\n",
    "            pass\n",
    "\n",
    "        # Write the data to file\n",
    "        for i in range(len(trainGraphs)):\n",
    "            x = trainGraphs[i][0]\n",
    "            a = trainGraphs[i][1]\n",
    "            e = trainGraphs[i][2]\n",
    "            y = trainGraphs[i][3]\n",
    "\n",
    "            filename = os.path.join(self.path, f'graph_{i}')\n",
    "            np.savez(filename, x=x, a=a, e=e, y=y)\n",
    "            \n",
    "\n",
    "    def read(self):\n",
    "        # We must return a list of Graph objects\n",
    "        output = []\n",
    "\n",
    "        for i in range(len(trainGraphs)):\n",
    "            data = np.load(os.path.join(self.path, f'graph_{i}.npz'), allow_pickle=True)\n",
    "            # print(data['a'])\n",
    "            output.append(\n",
    "                Graph(x=data['x'], a=data['a'], e=data['e'], y=data['y'])\n",
    "            )\n",
    "        return output"
   ]
  },
  {
   "cell_type": "code",
   "execution_count": 155,
   "id": "reduced-tokyo",
   "metadata": {},
   "outputs": [],
   "source": [
    "class ValDataset(Dataset):\n",
    "    \"\"\"\n",
    "    A dataset of val graphs.\n",
    "    \"\"\"\n",
    "    def __init__(self, **kwargs):\n",
    "        # self.path = savePath\n",
    "        self.download()\n",
    "        super().__init__(**kwargs)\n",
    "    \n",
    "    def download(self):\n",
    "        # data = ... \n",
    "        # Download from somewhere\n",
    "\n",
    "        # Create the directory\n",
    "        try:\n",
    "            os.mkdir(self.path)\n",
    "        except:\n",
    "            pass\n",
    "\n",
    "        # Write the data to file\n",
    "        for i in range(len(validationGraphs)):\n",
    "            x = validationGraphs[i][0]\n",
    "            a = validationGraphs[i][1]\n",
    "            e = validationGraphs[i][2]\n",
    "            y = validationGraphs[i][3]\n",
    "\n",
    "            filename = os.path.join(self.path, f'graph_val_{i}')\n",
    "            np.savez(filename, x=x, a=a, e=e, y=y)\n",
    "            \n",
    "\n",
    "    def read(self):\n",
    "        # We must return a list of Graph objects\n",
    "        output = []\n",
    "\n",
    "        for i in range(len(validationGraphs)):\n",
    "            data = np.load(os.path.join(self.path, f'graph_val_{i}.npz'), allow_pickle=True)\n",
    "            # print(data['a'])\n",
    "            output.append(\n",
    "                Graph(x=data['x'], a=data['a'], e=data['e'], y=data['y'])\n",
    "            )\n",
    "        return output"
   ]
  },
  {
   "cell_type": "code",
   "execution_count": 156,
   "id": "c050412f-d9d1-45ee-92ba-460dcabd0747",
   "metadata": {},
   "outputs": [],
   "source": [
    "class TestDataset(Dataset):\n",
    "    \"\"\"\n",
    "    A dataset of val graphs.\n",
    "    \"\"\"\n",
    "    def __init__(self, **kwargs):\n",
    "        self.download()\n",
    "        super().__init__(**kwargs)\n",
    "    \n",
    "    def download(self):\n",
    "        # data = ... \n",
    "        # Download from somewhere\n",
    "\n",
    "        # Create the directory\n",
    "        try:\n",
    "            os.mkdir(self.path)\n",
    "        except:\n",
    "            pass\n",
    "\n",
    "        # Write the data to file\n",
    "        for i in range(len(testGraphs)):\n",
    "            x = testGraphs[i][0]\n",
    "            a = testGraphs[i][1]\n",
    "            e = testGraphs[i][2]\n",
    "            y = testGraphs[i][3]\n",
    "\n",
    "            filename = os.path.join(self.path, f'graph_test_{i}')\n",
    "            np.savez(filename, x=x, a=a, e=e, y=y)\n",
    "            \n",
    "\n",
    "    def read(self):\n",
    "        # We must return a list of Graph objects\n",
    "        output = []\n",
    "\n",
    "        for i in range(len(testGraphs)):\n",
    "            data = np.load(os.path.join(self.path, f'graph_test_{i}.npz'), allow_pickle=True)\n",
    "            # print(data['a'])\n",
    "            output.append(\n",
    "                Graph(x=data['x'], a=data['a'], e=data['e'], y=data['y'])\n",
    "            )\n",
    "        return output"
   ]
  },
  {
   "cell_type": "code",
   "execution_count": 57,
   "id": "0694682e-db68-4ccb-ace1-fe3dd995cda6",
   "metadata": {},
   "outputs": [],
   "source": [
    "def loadValGraph(graphDir, index):\n",
    "    data = np.load(os.path.join(graphDir, f'graph_val_{index}.npz'), allow_pickle=True)\n",
    "    graph = Graph(x=data['x'], a=data['a'], e=data['e'], y=data['y'])\n",
    "    return graph\n",
    "\n",
    "def loadTrainGraph(graphDir, index):\n",
    "    data = np.load(os.path.join(graphDir, f'graph_{index}.npz'), allow_pickle=True)\n",
    "    graph = Graph(x=data['x'], a=data['a'], e=data['e'], y=data['y'])\n",
    "    return graph\n",
    "\n",
    "def loadTestGraph(graphDir, index):\n",
    "    data = np.load(os.path.join(graphDir, f'graph_test_{index}.npz'), allow_pickle=True)\n",
    "    graph = Graph(x=data['x'], a=data['a'], e=data['e'], y=data['y'])\n",
    "    return graph"
   ]
  },
  {
   "cell_type": "code",
   "execution_count": 59,
   "id": "1ecb711e-a662-4a23-bd35-0945506a9dfc",
   "metadata": {},
   "outputs": [],
   "source": [
    "# to load prev generated val graphs\n",
    "valGraphDir = '/Users/zeyuyang/spektral/datasets/ValDataset'\n",
    "valGraphNum = 2000\n",
    "validationGraphs = [loadValGraph(valGraphDir, i) for i in range(valGraphNum)]"
   ]
  },
  {
   "cell_type": "code",
   "execution_count": 157,
   "id": "sophisticated-reservation",
   "metadata": {},
   "outputs": [
    {
     "data": {
      "text/plain": [
       "ValDataset(n_graphs=2000)"
      ]
     },
     "execution_count": 157,
     "metadata": {},
     "output_type": "execute_result"
    }
   ],
   "source": [
    "valDataset = ValDataset()\n",
    "valDataset"
   ]
  },
  {
   "cell_type": "code",
   "execution_count": 61,
   "id": "2e3d4798-6934-4195-bf50-715b56f00961",
   "metadata": {},
   "outputs": [
    {
     "data": {
      "text/plain": [
       "Graph(n_nodes=36, n_node_features=10, n_edge_features=51, n_labels=1)"
      ]
     },
     "execution_count": 61,
     "metadata": {},
     "output_type": "execute_result"
    }
   ],
   "source": [
    "valDataset[0]"
   ]
  },
  {
   "cell_type": "code",
   "execution_count": 62,
   "id": "bdffbbdd-01ec-4876-8f1c-c6f6b59fd019",
   "metadata": {},
   "outputs": [],
   "source": [
    "# to load prev generated train graphs\n",
    "trainGraphDir = '/Users/zeyuyang/spektral/datasets/TrainDataset'\n",
    "trainGraphNum = 8000\n",
    "trainGraphs = [loadTrainGraph(trainGraphDir, i) for i in range(trainGraphNum)]"
   ]
  },
  {
   "cell_type": "code",
   "execution_count": 158,
   "id": "amateur-district",
   "metadata": {},
   "outputs": [
    {
     "data": {
      "text/plain": [
       "TrainDataset(n_graphs=8000)"
      ]
     },
     "execution_count": 158,
     "metadata": {},
     "output_type": "execute_result"
    }
   ],
   "source": [
    "trainDataset = TrainDataset()\n",
    "trainDataset"
   ]
  },
  {
   "cell_type": "code",
   "execution_count": 71,
   "id": "9d530ec5-521d-488b-804b-d87ef9b7cb35",
   "metadata": {},
   "outputs": [
    {
     "data": {
      "text/plain": [
       "Graph(n_nodes=68, n_node_features=10, n_edge_features=51, n_labels=1)"
      ]
     },
     "execution_count": 71,
     "metadata": {},
     "output_type": "execute_result"
    }
   ],
   "source": [
    "trainDataset[0]"
   ]
  },
  {
   "cell_type": "code",
   "execution_count": 63,
   "id": "a2ed12af-6705-44b6-b6bb-78712bb3893b",
   "metadata": {},
   "outputs": [],
   "source": [
    "# to load prev generated test graphs\n",
    "testGraphDir = '/Users/zeyuyang/spektral/datasets/TestDataset'\n",
    "testGraphNum = 5000\n",
    "testGraphs = [loadTestGraph(testGraphDir, i) for i in range(testGraphNum)]"
   ]
  },
  {
   "cell_type": "code",
   "execution_count": 159,
   "id": "76a64e13-9c98-4ba3-838f-a1a510295eb2",
   "metadata": {},
   "outputs": [
    {
     "data": {
      "text/plain": [
       "TestDataset(n_graphs=5000)"
      ]
     },
     "execution_count": 159,
     "metadata": {},
     "output_type": "execute_result"
    }
   ],
   "source": [
    "testDataset = TestDataset()\n",
    "testDataset"
   ]
  },
  {
   "cell_type": "code",
   "execution_count": 160,
   "id": "522b3c18-2f7c-4c7d-9a51-3e396e7f8fd2",
   "metadata": {},
   "outputs": [
    {
     "data": {
      "text/plain": [
       "Graph(n_nodes=220, n_node_features=16, n_edge_features=51, n_labels=1)"
      ]
     },
     "execution_count": 160,
     "metadata": {},
     "output_type": "execute_result"
    }
   ],
   "source": [
    "testDataset[0]"
   ]
  },
  {
   "cell_type": "markdown",
   "id": "satisfied-alexander",
   "metadata": {},
   "source": [
    "### Model and Training"
   ]
  },
  {
   "cell_type": "code",
   "execution_count": 161,
   "id": "brave-rally",
   "metadata": {},
   "outputs": [],
   "source": [
    "from tensorflow.keras.models import Model\n",
    "from tensorflow.keras.layers import Dense, Dropout, Conv1D, Embedding\n",
    "from spektral.layers import GCNConv, GlobalSumPool"
   ]
  },
  {
   "cell_type": "code",
   "execution_count": 162,
   "id": "advance-explosion",
   "metadata": {},
   "outputs": [],
   "source": [
    "class MyFirstGNN(Model):\n",
    "\n",
    "    def __init__(self, n_hidden, n_labels):\n",
    "        super().__init__()\n",
    "        self.graph_conv = GCNConv(n_hidden)\n",
    "        self.graph_conv2 = GCNConv(n_hidden)\n",
    "        self.graph_conv3 = GCNConv(n_hidden)\n",
    "        self.graph_conv4 = GCNConv(4)\n",
    "        self.pool = GlobalSumPool()\n",
    "        self.AGNNCONV = spektral.layers.AGNNConv(trainable=True, aggregate='sum', activation=None)\n",
    "        self.GenConv = spektral.layers.GeneralConv(channels=n_hidden, batch_norm=True, dropout=0.0,\n",
    "                                                   aggregate='sum', activation='prelu', use_bias=True,\n",
    "                                                   kernel_initializer='glorot_uniform', bias_initializer='zeros',\n",
    "                                                   kernel_regularizer=None, bias_regularizer=None, activity_regularizer=None,\n",
    "                                                   kernel_constraint=None, bias_constraint=None)\n",
    "        self.graphAtten = spektral.layers.GATConv(channels=n_hidden, attn_heads=5,\n",
    "                                                  concat_heads=True, dropout_rate=0.2, return_attn_coef=False,\n",
    "                                                  add_self_loops=True, activation=None, use_bias=True, kernel_initializer='glorot_uniform',\n",
    "                                                  bias_initializer='zeros', attn_kernel_initializer='glorot_uniform', kernel_regularizer=None,\n",
    "                                                  bias_regularizer=None, attn_kernel_regularizer=None, activity_regularizer=None,\n",
    "                                                  kernel_constraint=None, bias_constraint=None, attn_kernel_constraint=None)\n",
    "        self.graphECC = spektral.layers.ECCConv(channels=n_hidden, kernel_network=None, root=True, activation=None, use_bias=True,\n",
    "                                                kernel_initializer='glorot_uniform', bias_initializer='zeros', kernel_regularizer=None,\n",
    "                                                bias_regularizer=None, activity_regularizer=None, kernel_constraint=None, \n",
    "                                                bias_constraint=None)\n",
    "        self.maxPool = spektral.layers.GlobalMaxPool()\n",
    "        self.avePool = spektral.layers.GlobalAvgPool()\n",
    "        self.dropout = Dropout(0.2)\n",
    "        self.dense1 = Dense(64, activation='relu')\n",
    "        self.dropout2 = Dropout(0.2)\n",
    "        self.dense2 = Dense(16, activation='relu')\n",
    "        self.dense = Dense(1, 'sigmoid')\n",
    "\n",
    "    def call(self, inputs):\n",
    "        x, a, e, i = inputs\n",
    "        # x = self.graph_conv([x,a])\n",
    "        x = self.graphECC([x,a, e])\n",
    "        # x = self.graph_conv2([x,a])\n",
    "        # x = self.graph_conv3([x,a])\n",
    "        # x = self.graph_conv4([x,a])\n",
    "        # out = self.pool(out)\n",
    "        # out = self.maxPool([x, i])\n",
    "        out = self.avePool([x, i])\n",
    "        out = self.dense1(out)\n",
    "        out = self.dropout2(out)\n",
    "        # out = self.dense2(out)\n",
    "        out = self.dense(out)\n",
    "        return out"
   ]
  },
  {
   "cell_type": "code",
   "execution_count": 163,
   "id": "aboriginal-white",
   "metadata": {},
   "outputs": [],
   "source": [
    "tf.keras.backend.clear_session()\n",
    "graphModel = MyFirstGNN(16, 1)\n",
    "graphModel.compile('rmsprop', 'binary_crossentropy', metrics=['accuracy',])"
   ]
  },
  {
   "cell_type": "code",
   "execution_count": 164,
   "id": "running-intake",
   "metadata": {},
   "outputs": [],
   "source": [
    "from spektral.data import BatchLoader\n",
    "\n",
    "# trainLoader = BatchLoader(trainDataset, node_level=False, batch_size=10, epochs=None, shuffle=True)\n",
    "trainLoader = spektral.data.loaders.DisjointLoader(trainDataset, node_level=False, batch_size=80, epochs=None, shuffle=True)\n",
    "\n",
    "validationLoader = spektral.data.loaders.DisjointLoader(valDataset, node_level=False, batch_size=80)\n",
    "\n",
    "testLoader = spektral.data.loaders.DisjointLoader(testDataset, node_level=False, batch_size=80)"
   ]
  },
  {
   "cell_type": "code",
   "execution_count": 165,
   "id": "polished-stick",
   "metadata": {},
   "outputs": [
    {
     "data": {
      "text/plain": [
       "Graph(n_nodes=245, n_node_features=16, n_edge_features=51, n_labels=1)"
      ]
     },
     "execution_count": 165,
     "metadata": {},
     "output_type": "execute_result"
    }
   ],
   "source": [
    "trainDataset[0]"
   ]
  },
  {
   "cell_type": "code",
   "execution_count": null,
   "id": "average-miami",
   "metadata": {},
   "outputs": [
    {
     "name": "stdout",
     "output_type": "stream",
     "text": [
      "Epoch 1/10\n"
     ]
    },
    {
     "name": "stderr",
     "output_type": "stream",
     "text": [
      "2022-06-04 15:59:14.196220: I tensorflow/core/grappler/optimizers/custom_graph_optimizer_registry.cc:113] Plugin optimizer for device_type GPU is enabled.\n",
      "/Users/zeyuyang/miniforge3/envs/graphLearning/lib/python3.9/site-packages/spektral-1.1.0-py3.9.egg/spektral/data/utils.py:221: UserWarning: you are shuffling a 'TrainDataset' object which is not a subclass of 'Sequence'; `shuffle` is not guaranteed to behave correctly. E.g., non-numpy array/tensor objects with view semantics may contain duplicates after shuffling.\n",
      "  np.random.shuffle(a)\n"
     ]
    },
    {
     "name": "stdout",
     "output_type": "stream",
     "text": [
      " 40/100 [===========>..................] - ETA: 43s - loss: 0.5889 - accuracy: 0.9075"
     ]
    }
   ],
   "source": [
    "history = graphModel.fit(trainLoader.load(),\n",
    "              validation_data=validationLoader.load(),\n",
    "              steps_per_epoch=trainLoader.steps_per_epoch,\n",
    "              validation_steps=validationLoader.steps_per_epoch,\n",
    "              epochs=10)"
   ]
  },
  {
   "cell_type": "code",
   "execution_count": 124,
   "id": "joined-channel",
   "metadata": {},
   "outputs": [
    {
     "name": "stdout",
     "output_type": "stream",
     "text": [
      "63/63 [==============================] - 14s 219ms/step - loss: 0.5008 - accuracy: 0.7890\n"
     ]
    },
    {
     "data": {
      "text/plain": [
       "[0.5007709860801697, 0.7890000343322754]"
      ]
     },
     "execution_count": 124,
     "metadata": {},
     "output_type": "execute_result"
    }
   ],
   "source": [
    "graphModel.evaluate(testLoader.load(), steps=testLoader.steps_per_epoch)\n",
    "# graphModel.evaluate(validationLoader.load(), steps=validationLoader.steps_per_epoch)\n",
    "# graphModel.evaluate(trainLoader.load(), steps=trainLoader.steps_per_epoch)"
   ]
  },
  {
   "cell_type": "code",
   "execution_count": 108,
   "id": "2ab1153b-83c4-4a5f-a359-a4fa3318cdce",
   "metadata": {
    "tags": []
   },
   "outputs": [],
   "source": [
    "# graphModel.predict(trainLoader.load(), steps=trainLoader.steps_per_epoch)"
   ]
  },
  {
   "cell_type": "code",
   "execution_count": 109,
   "id": "9cae64ca-c845-45b5-9a4a-298883a1e0b4",
   "metadata": {
    "tags": []
   },
   "outputs": [],
   "source": [
    "# [trainGraphs[i][3] for i in range(len(trainGraphs))]"
   ]
  },
  {
   "cell_type": "code",
   "execution_count": 110,
   "id": "a650f78f-c407-4f46-a289-c4574e300b40",
   "metadata": {
    "tags": []
   },
   "outputs": [],
   "source": [
    "# graphModel.predict(testLoader.load(), steps=testLoader.steps_per_epoch)"
   ]
  },
  {
   "cell_type": "code",
   "execution_count": 111,
   "id": "59b2144b-1b23-4d1a-aa85-92641adac392",
   "metadata": {},
   "outputs": [],
   "source": [
    "# [validationGraphs[i][3] for i in range(len(validationGraphs))]"
   ]
  },
  {
   "cell_type": "code",
   "execution_count": 112,
   "id": "developing-oregon",
   "metadata": {
    "tags": []
   },
   "outputs": [
    {
     "data": {
      "image/png": "[encoded data removed]",
      "text/plain": [
       "<Figure size 432x288 with 1 Axes>"
      ]
     },
     "metadata": {
      "needs_background": "light"
     },
     "output_type": "display_data"
    }
   ],
   "source": [
    "# plot training and validaiton loss over epochs\n",
    "history_dict = history.history\n",
    "acc = history_dict['accuracy']\n",
    "val_acc = history_dict['val_accuracy']\n",
    "loss = history_dict['loss']\n",
    "val_loss = history_dict['val_loss']\n",
    "\n",
    "epochs = range(1, len(acc) + 1)\n",
    "\n",
    "# \"-r^\" is for solid red line with triangle markers.\n",
    "plt.plot(epochs, loss, '-r^', label='Training loss')\n",
    "# \"-b0\" is for solid blue line with circle markers.\n",
    "plt.plot(epochs, val_loss, '-bo', label='Validation loss')\n",
    "plt.title('Training and validation loss')\n",
    "plt.xlabel('Epochs')\n",
    "plt.ylabel('Loss')\n",
    "plt.legend(loc='best')\n",
    "\n",
    "plt.show()"
   ]
  },
  {
   "cell_type": "code",
   "execution_count": 113,
   "id": "e52266ee-e5ae-4465-8f19-febea0adc17c",
   "metadata": {},
   "outputs": [
    {
     "data": {
      "image/png": "[encoded data removed]",
      "text/plain": [
       "<Figure size 432x288 with 1 Axes>"
      ]
     },
     "metadata": {
      "needs_background": "light"
     },
     "output_type": "display_data"
    }
   ],
   "source": [
    "# plot training and validation accuracy over epochs\n",
    "plt.clf()   # clear figure\n",
    "\n",
    "plt.plot(epochs, acc, '-r^', label='Training acc')\n",
    "plt.plot(epochs, val_acc, '-bo', label='Validation acc')\n",
    "plt.title('Training and validation accuracy')\n",
    "plt.xlabel('Epochs')\n",
    "plt.ylabel('Accuracy')\n",
    "plt.legend(loc='best')\n",
    "\n",
    "plt.show()"
   ]
  },
  {
   "cell_type": "code",
   "execution_count": null,
   "id": "8ab62280-30d1-47c1-90bc-715751c2f257",
   "metadata": {},
   "outputs": [],
   "source": []
  },
  {
   "cell_type": "code",
   "execution_count": 62,
   "id": "aboriginal-relevance",
   "metadata": {},
   "outputs": [],
   "source": [
    "from spektral.datasets import QM9"
   ]
  },
  {
   "cell_type": "code",
   "execution_count": 63,
   "id": "049880df-6d78-42f8-bc89-ab6890cb886c",
   "metadata": {},
   "outputs": [
    {
     "name": "stdout",
     "output_type": "stream",
     "text": [
      "Downloading data from https://deepchemdata.s3-us-west-1.amazonaws.com/datasets/gdb9.tar.gz\n",
      "44859392/44852087 [==============================] - 43s 1us/step\n",
      "44867584/44852087 [==============================] - 43s 1us/step\n",
      "Loading QM9 dataset.\n",
      "Reading SDF\n"
     ]
    },
    {
     "name": "stderr",
     "output_type": "stream",
     "text": [
      "100%|█████████████████████████████████████| 1000/1000 [00:00<00:00, 2878.29it/s]\n"
     ]
    }
   ],
   "source": [
    "dataset = QM9(amount=1000)  "
   ]
  },
  {
   "cell_type": "code",
   "execution_count": null,
   "id": "70de0185-aef9-4da0-821e-d39b12c995f3",
   "metadata": {},
   "outputs": [
    {
     "data": {
      "text/plain": [
       "Graph(n_nodes=107, n_node_features=128, n_edge_features=None, n_labels=1)"
      ]
     },
     "execution_count": 88,
     "metadata": {},
     "output_type": "execute_result"
    }
   ],
   "source": [
    "x[0]"
   ]
  }
 ],
 "metadata": {
  "kernelspec": {
   "display_name": "Python 3 (ipykernel)",
   "language": "python",
   "name": "python3"
  },
  "language_info": {
   "codemirror_mode": {
    "name": "ipython",
    "version": 3
   },
   "file_extension": ".py",
   "mimetype": "text/x-python",
   "name": "python",
   "nbconvert_exporter": "python",
   "pygments_lexer": "ipython3",
   "version": "3.9.7"
  }
 },
 "nbformat": 4,
 "nbformat_minor": 5
}
