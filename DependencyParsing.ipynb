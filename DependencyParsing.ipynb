{
 "cells": [
  {
   "cell_type": "markdown",
   "id": "cosmetic-atlantic",
   "metadata": {},
   "source": [
    "# Summary"
   ]
  },
  {
   "cell_type": "markdown",
   "id": "stopped-investigator",
   "metadata": {},
   "source": [
    "## Task"
   ]
  },
  {
   "cell_type": "markdown",
   "id": "judicial-anxiety",
   "metadata": {},
   "source": [
    "To explore dependency parsing for sentences so that word level graphs can be constructed for the problem of classification"
   ]
  },
  {
   "cell_type": "markdown",
   "id": "indie-clearance",
   "metadata": {},
   "source": [
    "1. Explore how dependency parsing works\n",
    "2. Tokenize sentences and give them to the dependency parser\n",
    "3. Obtain the relationships and check them\n",
    "4. Convert the dependency graphs from the parser into the graphs that can be used for GCN\n",
    "5. Explore GCN and try to build graphs from the parsed dependency graphs\n",
    "6. Perform graph level classification\n",
    "7. Check performance\n",
    "8. Refine the various layers and hyperparameters in the process\n",
    "9. Check final performance\n",
    "10. Do interpreation manually on some selected examples\n",
    "11. Implement edge masking to get the minimum subgraph\n",
    "12. Performe automatic interpretation of the graphs to determine the most important terms/relationships for each sentence"
   ]
  },
  {
   "cell_type": "markdown",
   "id": "basic-internship",
   "metadata": {},
   "source": [
    "## Method"
   ]
  },
  {
   "cell_type": "markdown",
   "id": "hydraulic-gross",
   "metadata": {},
   "source": [
    "* For dependency parsing, we will try to use the tools from the stanford nlp group.\n",
    "* The *[CoreNLP](https://github.com/stanfordnlp/CoreNLP)* library is important as it contains many of the tools needed to performe dependency parsing\n",
    "* The *[stanza](https://github.com/stanfordnlp/stanza)* library offers a wrapped version of CoreNLP that works directly with Python\n",
    "* Visualization of the graphs can be done using *[networkx](https://github.com/networkx/networkx)*\n",
    "* For GCN and word-level graphs we will primarily look at the ideas in this *[tutorial](https://uvadlc-notebooks.readthedocs.io/en/latest/tutorial_notebooks/tutorial7/GNN_overview.html)*\n",
    "* We will try to use the *[spektral](https://github.com/danielegrattarola/spektral/)* library to implement the graphs convolution and attention \n",
    "* *[Link](https://universaldependencies.org/u/dep/)* to explaination of dependency relations."
   ]
  },
  {
   "cell_type": "markdown",
   "id": "constant-beijing",
   "metadata": {},
   "source": [
    "## Dataset"
   ]
  },
  {
   "cell_type": "markdown",
   "id": "coordinate-graphics",
   "metadata": {},
   "source": [
    "The dataset is still IMDB review but we may expand later on"
   ]
  },
  {
   "cell_type": "markdown",
   "id": "actual-kernel",
   "metadata": {},
   "source": [
    "## Results"
   ]
  },
  {
   "cell_type": "markdown",
   "id": "fitted-supervisor",
   "metadata": {},
   "source": [
    "Fill in later"
   ]
  },
  {
   "cell_type": "markdown",
   "id": "material-motel",
   "metadata": {},
   "source": [
    "## Conclusion"
   ]
  },
  {
   "cell_type": "markdown",
   "id": "earlier-morocco",
   "metadata": {},
   "source": [
    "Fill in at the end"
   ]
  },
  {
   "cell_type": "markdown",
   "id": "circular-colonial",
   "metadata": {},
   "source": [
    "# Code"
   ]
  },
  {
   "cell_type": "markdown",
   "id": "addressed-excitement",
   "metadata": {},
   "source": [
    "## Basic Imports"
   ]
  },
  {
   "cell_type": "code",
   "execution_count": null,
   "id": "complete-disease",
   "metadata": {},
   "outputs": [],
   "source": [
    "import numpy as np\n",
    "import pandas as pd\n",
    "import matplotlib.pyplot as plt\n",
    "import stanza\n",
    "import networkx as nx\n",
    "import spacy\n",
    "import stanzaTools\n",
    "stanza.download('en')"
   ]
  },
  {
   "cell_type": "markdown",
   "id": "clear-thong",
   "metadata": {},
   "source": [
    "## Part 1: Dependency Parsing"
   ]
  },
  {
   "cell_type": "markdown",
   "id": "certain-consideration",
   "metadata": {},
   "source": [
    "### Testing Stanza"
   ]
  },
  {
   "cell_type": "code",
   "execution_count": 81,
   "id": "thrown-cardiff",
   "metadata": {},
   "outputs": [],
   "source": [
    "sampleSentence = \"There is nothing wrong with Apple's new M1 Max Chip, everything works so well! Ok this might be kind of difficult.\""
   ]
  },
  {
   "cell_type": "code",
   "execution_count": 82,
   "id": "unsigned-rover",
   "metadata": {},
   "outputs": [
    {
     "data": {
      "application/vnd.jupyter.widget-view+json": {
       "model_id": "4298572327114658b12e28ce7114000f",
       "version_major": 2,
       "version_minor": 0
      },
      "text/plain": [
       "Downloading https://raw.githubusercontent.com/stanfordnlp/stanza-resources/main/resources_1.4.0.json:   0%|   …"
      ]
     },
     "metadata": {},
     "output_type": "display_data"
    },
    {
     "name": "stderr",
     "output_type": "stream",
     "text": [
      "2022-06-04 14:49:20 WARNING: Can not find mwt: default from official model list. Ignoring it.\n",
      "WARNING:stanza:Can not find mwt: default from official model list. Ignoring it.\n",
      "2022-06-04 14:49:20 INFO: Loading these models for language: en (English):\n",
      "========================\n",
      "| Processor | Package  |\n",
      "------------------------\n",
      "| tokenize  | combined |\n",
      "| pos       | combined |\n",
      "| lemma     | combined |\n",
      "| depparse  | combined |\n",
      "| sentiment | sstplus  |\n",
      "========================\n",
      "\n",
      "INFO:stanza:Loading these models for language: en (English):\n",
      "========================\n",
      "| Processor | Package  |\n",
      "------------------------\n",
      "| tokenize  | combined |\n",
      "| pos       | combined |\n",
      "| lemma     | combined |\n",
      "| depparse  | combined |\n",
      "| sentiment | sstplus  |\n",
      "========================\n",
      "\n",
      "2022-06-04 14:49:20 INFO: Use device: cpu\n",
      "INFO:stanza:Use device: cpu\n",
      "2022-06-04 14:49:20 INFO: Loading: tokenize\n",
      "INFO:stanza:Loading: tokenize\n",
      "2022-06-04 14:49:20 INFO: Loading: pos\n",
      "INFO:stanza:Loading: pos\n",
      "2022-06-04 14:49:20 INFO: Loading: lemma\n",
      "INFO:stanza:Loading: lemma\n",
      "2022-06-04 14:49:20 INFO: Loading: depparse\n",
      "INFO:stanza:Loading: depparse\n",
      "2022-06-04 14:49:20 INFO: Loading: sentiment\n",
      "INFO:stanza:Loading: sentiment\n",
      "2022-06-04 14:49:21 INFO: Done loading processors!\n",
      "INFO:stanza:Done loading processors!\n"
     ]
    }
   ],
   "source": [
    "nlp = stanza.Pipeline(\n",
    "    'en',\n",
    "    processors = 'tokenize,mwt,pos,lemma,depparse, sentiment')"
   ]
  },
  {
   "cell_type": "code",
   "execution_count": 83,
   "id": "annoying-appliance",
   "metadata": {},
   "outputs": [],
   "source": [
    "doc = nlp(sampleSentence)"
   ]
  },
  {
   "cell_type": "code",
   "execution_count": 84,
   "id": "ultimate-recorder",
   "metadata": {
    "collapsed": true,
    "jupyter": {
     "outputs_hidden": true
    },
    "tags": []
   },
   "outputs": [
    {
     "data": {
      "text/plain": [
       "[\n",
       "  {\n",
       "    \"id\": 1,\n",
       "    \"text\": \"There\",\n",
       "    \"lemma\": \"there\",\n",
       "    \"upos\": \"PRON\",\n",
       "    \"xpos\": \"EX\",\n",
       "    \"head\": 2,\n",
       "    \"deprel\": \"expl\",\n",
       "    \"start_char\": 0,\n",
       "    \"end_char\": 5\n",
       "  },\n",
       "  {\n",
       "    \"id\": 2,\n",
       "    \"text\": \"is\",\n",
       "    \"lemma\": \"be\",\n",
       "    \"upos\": \"VERB\",\n",
       "    \"xpos\": \"VBZ\",\n",
       "    \"feats\": \"Mood=Ind|Number=Sing|Person=3|Tense=Pres|VerbForm=Fin\",\n",
       "    \"head\": 0,\n",
       "    \"deprel\": \"root\",\n",
       "    \"start_char\": 6,\n",
       "    \"end_char\": 8\n",
       "  },\n",
       "  {\n",
       "    \"id\": 3,\n",
       "    \"text\": \"nothing\",\n",
       "    \"lemma\": \"nothing\",\n",
       "    \"upos\": \"PRON\",\n",
       "    \"xpos\": \"NN\",\n",
       "    \"feats\": \"Number=Sing\",\n",
       "    \"head\": 2,\n",
       "    \"deprel\": \"nsubj\",\n",
       "    \"start_char\": 9,\n",
       "    \"end_char\": 16\n",
       "  },\n",
       "  {\n",
       "    \"id\": 4,\n",
       "    \"text\": \"wrong\",\n",
       "    \"lemma\": \"wrong\",\n",
       "    \"upos\": \"ADJ\",\n",
       "    \"xpos\": \"JJ\",\n",
       "    \"feats\": \"Degree=Pos\",\n",
       "    \"head\": 3,\n",
       "    \"deprel\": \"amod\",\n",
       "    \"start_char\": 17,\n",
       "    \"end_char\": 22\n",
       "  },\n",
       "  {\n",
       "    \"id\": 5,\n",
       "    \"text\": \"with\",\n",
       "    \"lemma\": \"with\",\n",
       "    \"upos\": \"ADP\",\n",
       "    \"xpos\": \"IN\",\n",
       "    \"head\": 10,\n",
       "    \"deprel\": \"case\",\n",
       "    \"start_char\": 23,\n",
       "    \"end_char\": 27\n",
       "  },\n",
       "  {\n",
       "    \"id\": 6,\n",
       "    \"text\": \"Apple\",\n",
       "    \"lemma\": \"Apple\",\n",
       "    \"upos\": \"PROPN\",\n",
       "    \"xpos\": \"NNP\",\n",
       "    \"feats\": \"Number=Sing\",\n",
       "    \"head\": 10,\n",
       "    \"deprel\": \"nmod:poss\",\n",
       "    \"start_char\": 28,\n",
       "    \"end_char\": 33\n",
       "  },\n",
       "  {\n",
       "    \"id\": 7,\n",
       "    \"text\": \"'s\",\n",
       "    \"lemma\": \"'s\",\n",
       "    \"upos\": \"PART\",\n",
       "    \"xpos\": \"POS\",\n",
       "    \"head\": 6,\n",
       "    \"deprel\": \"case\",\n",
       "    \"start_char\": 33,\n",
       "    \"end_char\": 35\n",
       "  },\n",
       "  {\n",
       "    \"id\": 8,\n",
       "    \"text\": \"new\",\n",
       "    \"lemma\": \"new\",\n",
       "    \"upos\": \"ADJ\",\n",
       "    \"xpos\": \"JJ\",\n",
       "    \"feats\": \"Degree=Pos\",\n",
       "    \"head\": 10,\n",
       "    \"deprel\": \"amod\",\n",
       "    \"start_char\": 36,\n",
       "    \"end_char\": 39\n",
       "  },\n",
       "  {\n",
       "    \"id\": 9,\n",
       "    \"text\": \"M1\",\n",
       "    \"lemma\": \"M1\",\n",
       "    \"upos\": \"PROPN\",\n",
       "    \"xpos\": \"NNP\",\n",
       "    \"feats\": \"Number=Sing\",\n",
       "    \"head\": 10,\n",
       "    \"deprel\": \"compound\",\n",
       "    \"start_char\": 40,\n",
       "    \"end_char\": 42\n",
       "  },\n",
       "  {\n",
       "    \"id\": 10,\n",
       "    \"text\": \"Max\",\n",
       "    \"lemma\": \"Max\",\n",
       "    \"upos\": \"PROPN\",\n",
       "    \"xpos\": \"NNP\",\n",
       "    \"feats\": \"Number=Sing\",\n",
       "    \"head\": 3,\n",
       "    \"deprel\": \"nmod\",\n",
       "    \"start_char\": 43,\n",
       "    \"end_char\": 46\n",
       "  },\n",
       "  {\n",
       "    \"id\": 11,\n",
       "    \"text\": \"Chip\",\n",
       "    \"lemma\": \"Chip\",\n",
       "    \"upos\": \"PROPN\",\n",
       "    \"xpos\": \"NNP\",\n",
       "    \"feats\": \"Number=Sing\",\n",
       "    \"head\": 10,\n",
       "    \"deprel\": \"flat\",\n",
       "    \"start_char\": 47,\n",
       "    \"end_char\": 51\n",
       "  },\n",
       "  {\n",
       "    \"id\": 12,\n",
       "    \"text\": \",\",\n",
       "    \"lemma\": \",\",\n",
       "    \"upos\": \"PUNCT\",\n",
       "    \"xpos\": \",\",\n",
       "    \"head\": 14,\n",
       "    \"deprel\": \"punct\",\n",
       "    \"start_char\": 51,\n",
       "    \"end_char\": 52\n",
       "  },\n",
       "  {\n",
       "    \"id\": 13,\n",
       "    \"text\": \"everything\",\n",
       "    \"lemma\": \"everything\",\n",
       "    \"upos\": \"PRON\",\n",
       "    \"xpos\": \"NN\",\n",
       "    \"feats\": \"Number=Sing\",\n",
       "    \"head\": 14,\n",
       "    \"deprel\": \"nsubj\",\n",
       "    \"start_char\": 53,\n",
       "    \"end_char\": 63\n",
       "  },\n",
       "  {\n",
       "    \"id\": 14,\n",
       "    \"text\": \"works\",\n",
       "    \"lemma\": \"work\",\n",
       "    \"upos\": \"VERB\",\n",
       "    \"xpos\": \"VBZ\",\n",
       "    \"feats\": \"Mood=Ind|Number=Sing|Person=3|Tense=Pres|VerbForm=Fin\",\n",
       "    \"head\": 2,\n",
       "    \"deprel\": \"parataxis\",\n",
       "    \"start_char\": 64,\n",
       "    \"end_char\": 69\n",
       "  },\n",
       "  {\n",
       "    \"id\": 15,\n",
       "    \"text\": \"so\",\n",
       "    \"lemma\": \"so\",\n",
       "    \"upos\": \"ADV\",\n",
       "    \"xpos\": \"RB\",\n",
       "    \"head\": 16,\n",
       "    \"deprel\": \"advmod\",\n",
       "    \"start_char\": 70,\n",
       "    \"end_char\": 72\n",
       "  },\n",
       "  {\n",
       "    \"id\": 16,\n",
       "    \"text\": \"well\",\n",
       "    \"lemma\": \"well\",\n",
       "    \"upos\": \"ADV\",\n",
       "    \"xpos\": \"RB\",\n",
       "    \"feats\": \"Degree=Pos\",\n",
       "    \"head\": 14,\n",
       "    \"deprel\": \"advmod\",\n",
       "    \"start_char\": 73,\n",
       "    \"end_char\": 77\n",
       "  },\n",
       "  {\n",
       "    \"id\": 17,\n",
       "    \"text\": \"!\",\n",
       "    \"lemma\": \"!\",\n",
       "    \"upos\": \"PUNCT\",\n",
       "    \"xpos\": \".\",\n",
       "    \"head\": 2,\n",
       "    \"deprel\": \"punct\",\n",
       "    \"start_char\": 77,\n",
       "    \"end_char\": 78\n",
       "  }\n",
       "]"
      ]
     },
     "execution_count": 84,
     "metadata": {},
     "output_type": "execute_result"
    }
   ],
   "source": [
    "doc.sentences[0]"
   ]
  },
  {
   "cell_type": "code",
   "execution_count": 85,
   "id": "ranging-grocery",
   "metadata": {},
   "outputs": [],
   "source": [
    "sent_dict = doc.sentences[0].to_dict()"
   ]
  },
  {
   "cell_type": "markdown",
   "id": "invisible-token",
   "metadata": {},
   "source": [
    "#### tokenRelationHead"
   ]
  },
  {
   "cell_type": "code",
   "execution_count": 86,
   "id": "monthly-statement",
   "metadata": {},
   "outputs": [
    {
     "name": "stdout",
     "output_type": "stream",
     "text": [
      "Token           | Relation   | Head            \n",
      "--------------------------------------------------\n",
      "There           | expl       | is              \n",
      "is              | root       | ROOT            \n",
      "nothing         | nsubj      | is              \n",
      "wrong           | amod       | nothing         \n",
      "with            | case       | Max             \n",
      "Apple           | nmod:poss  | Max             \n",
      "'s              | case       | Apple           \n",
      "new             | amod       | Max             \n",
      "M1              | compound   | Max             \n",
      "Max             | nmod       | nothing         \n",
      "Chip            | flat       | Max             \n",
      ",               | punct      | works           \n",
      "everything      | nsubj      | works           \n",
      "works           | parataxis  | is              \n",
      "so              | advmod     | well            \n",
      "well            | advmod     | works           \n",
      "!               | punct      | is              \n"
     ]
    }
   ],
   "source": [
    "stanzaTools.tokenRelationHead(sent_dict)"
   ]
  },
  {
   "cell_type": "markdown",
   "id": "attempted-sight",
   "metadata": {
    "tags": []
   },
   "source": [
    "#### getNodeEdgeLists"
   ]
  },
  {
   "cell_type": "code",
   "execution_count": 87,
   "id": "frozen-palestinian",
   "metadata": {},
   "outputs": [],
   "source": [
    "nodeList, edgeList = stanzaTools.getNodeEdgeLists(doc)"
   ]
  },
  {
   "cell_type": "code",
   "execution_count": 88,
   "id": "royal-cocktail",
   "metadata": {
    "collapsed": true,
    "jupyter": {
     "outputs_hidden": true
    },
    "tags": []
   },
   "outputs": [
    {
     "data": {
      "text/plain": [
       "[\n",
       "  [\n",
       "    {\n",
       "      \"id\": 1,\n",
       "      \"text\": \"There\",\n",
       "      \"lemma\": \"there\",\n",
       "      \"upos\": \"PRON\",\n",
       "      \"xpos\": \"EX\",\n",
       "      \"head\": 2,\n",
       "      \"deprel\": \"expl\",\n",
       "      \"start_char\": 0,\n",
       "      \"end_char\": 5\n",
       "    },\n",
       "    {\n",
       "      \"id\": 2,\n",
       "      \"text\": \"is\",\n",
       "      \"lemma\": \"be\",\n",
       "      \"upos\": \"VERB\",\n",
       "      \"xpos\": \"VBZ\",\n",
       "      \"feats\": \"Mood=Ind|Number=Sing|Person=3|Tense=Pres|VerbForm=Fin\",\n",
       "      \"head\": 0,\n",
       "      \"deprel\": \"root\",\n",
       "      \"start_char\": 6,\n",
       "      \"end_char\": 8\n",
       "    },\n",
       "    {\n",
       "      \"id\": 3,\n",
       "      \"text\": \"nothing\",\n",
       "      \"lemma\": \"nothing\",\n",
       "      \"upos\": \"PRON\",\n",
       "      \"xpos\": \"NN\",\n",
       "      \"feats\": \"Number=Sing\",\n",
       "      \"head\": 2,\n",
       "      \"deprel\": \"nsubj\",\n",
       "      \"start_char\": 9,\n",
       "      \"end_char\": 16\n",
       "    },\n",
       "    {\n",
       "      \"id\": 4,\n",
       "      \"text\": \"wrong\",\n",
       "      \"lemma\": \"wrong\",\n",
       "      \"upos\": \"ADJ\",\n",
       "      \"xpos\": \"JJ\",\n",
       "      \"feats\": \"Degree=Pos\",\n",
       "      \"head\": 3,\n",
       "      \"deprel\": \"amod\",\n",
       "      \"start_char\": 17,\n",
       "      \"end_char\": 22\n",
       "    },\n",
       "    {\n",
       "      \"id\": 5,\n",
       "      \"text\": \"with\",\n",
       "      \"lemma\": \"with\",\n",
       "      \"upos\": \"ADP\",\n",
       "      \"xpos\": \"IN\",\n",
       "      \"head\": 10,\n",
       "      \"deprel\": \"case\",\n",
       "      \"start_char\": 23,\n",
       "      \"end_char\": 27\n",
       "    },\n",
       "    {\n",
       "      \"id\": 6,\n",
       "      \"text\": \"Apple\",\n",
       "      \"lemma\": \"Apple\",\n",
       "      \"upos\": \"PROPN\",\n",
       "      \"xpos\": \"NNP\",\n",
       "      \"feats\": \"Number=Sing\",\n",
       "      \"head\": 10,\n",
       "      \"deprel\": \"nmod:poss\",\n",
       "      \"start_char\": 28,\n",
       "      \"end_char\": 33\n",
       "    },\n",
       "    {\n",
       "      \"id\": 7,\n",
       "      \"text\": \"'s\",\n",
       "      \"lemma\": \"'s\",\n",
       "      \"upos\": \"PART\",\n",
       "      \"xpos\": \"POS\",\n",
       "      \"head\": 6,\n",
       "      \"deprel\": \"case\",\n",
       "      \"start_char\": 33,\n",
       "      \"end_char\": 35\n",
       "    },\n",
       "    {\n",
       "      \"id\": 8,\n",
       "      \"text\": \"new\",\n",
       "      \"lemma\": \"new\",\n",
       "      \"upos\": \"ADJ\",\n",
       "      \"xpos\": \"JJ\",\n",
       "      \"feats\": \"Degree=Pos\",\n",
       "      \"head\": 10,\n",
       "      \"deprel\": \"amod\",\n",
       "      \"start_char\": 36,\n",
       "      \"end_char\": 39\n",
       "    },\n",
       "    {\n",
       "      \"id\": 9,\n",
       "      \"text\": \"M1\",\n",
       "      \"lemma\": \"M1\",\n",
       "      \"upos\": \"PROPN\",\n",
       "      \"xpos\": \"NNP\",\n",
       "      \"feats\": \"Number=Sing\",\n",
       "      \"head\": 10,\n",
       "      \"deprel\": \"compound\",\n",
       "      \"start_char\": 40,\n",
       "      \"end_char\": 42\n",
       "    },\n",
       "    {\n",
       "      \"id\": 10,\n",
       "      \"text\": \"Max\",\n",
       "      \"lemma\": \"Max\",\n",
       "      \"upos\": \"PROPN\",\n",
       "      \"xpos\": \"NNP\",\n",
       "      \"feats\": \"Number=Sing\",\n",
       "      \"head\": 3,\n",
       "      \"deprel\": \"nmod\",\n",
       "      \"start_char\": 43,\n",
       "      \"end_char\": 46\n",
       "    },\n",
       "    {\n",
       "      \"id\": 11,\n",
       "      \"text\": \"Chip\",\n",
       "      \"lemma\": \"Chip\",\n",
       "      \"upos\": \"PROPN\",\n",
       "      \"xpos\": \"NNP\",\n",
       "      \"feats\": \"Number=Sing\",\n",
       "      \"head\": 10,\n",
       "      \"deprel\": \"flat\",\n",
       "      \"start_char\": 47,\n",
       "      \"end_char\": 51\n",
       "    },\n",
       "    {\n",
       "      \"id\": 12,\n",
       "      \"text\": \",\",\n",
       "      \"lemma\": \",\",\n",
       "      \"upos\": \"PUNCT\",\n",
       "      \"xpos\": \",\",\n",
       "      \"head\": 14,\n",
       "      \"deprel\": \"punct\",\n",
       "      \"start_char\": 51,\n",
       "      \"end_char\": 52\n",
       "    },\n",
       "    {\n",
       "      \"id\": 13,\n",
       "      \"text\": \"everything\",\n",
       "      \"lemma\": \"everything\",\n",
       "      \"upos\": \"PRON\",\n",
       "      \"xpos\": \"NN\",\n",
       "      \"feats\": \"Number=Sing\",\n",
       "      \"head\": 14,\n",
       "      \"deprel\": \"nsubj\",\n",
       "      \"start_char\": 53,\n",
       "      \"end_char\": 63\n",
       "    },\n",
       "    {\n",
       "      \"id\": 14,\n",
       "      \"text\": \"works\",\n",
       "      \"lemma\": \"work\",\n",
       "      \"upos\": \"VERB\",\n",
       "      \"xpos\": \"VBZ\",\n",
       "      \"feats\": \"Mood=Ind|Number=Sing|Person=3|Tense=Pres|VerbForm=Fin\",\n",
       "      \"head\": 2,\n",
       "      \"deprel\": \"parataxis\",\n",
       "      \"start_char\": 64,\n",
       "      \"end_char\": 69\n",
       "    },\n",
       "    {\n",
       "      \"id\": 15,\n",
       "      \"text\": \"so\",\n",
       "      \"lemma\": \"so\",\n",
       "      \"upos\": \"ADV\",\n",
       "      \"xpos\": \"RB\",\n",
       "      \"head\": 16,\n",
       "      \"deprel\": \"advmod\",\n",
       "      \"start_char\": 70,\n",
       "      \"end_char\": 72\n",
       "    },\n",
       "    {\n",
       "      \"id\": 16,\n",
       "      \"text\": \"well\",\n",
       "      \"lemma\": \"well\",\n",
       "      \"upos\": \"ADV\",\n",
       "      \"xpos\": \"RB\",\n",
       "      \"feats\": \"Degree=Pos\",\n",
       "      \"head\": 14,\n",
       "      \"deprel\": \"advmod\",\n",
       "      \"start_char\": 73,\n",
       "      \"end_char\": 77\n",
       "    },\n",
       "    {\n",
       "      \"id\": 17,\n",
       "      \"text\": \"!\",\n",
       "      \"lemma\": \"!\",\n",
       "      \"upos\": \"PUNCT\",\n",
       "      \"xpos\": \".\",\n",
       "      \"head\": 2,\n",
       "      \"deprel\": \"punct\",\n",
       "      \"start_char\": 77,\n",
       "      \"end_char\": 78\n",
       "    }\n",
       "  ],\n",
       "  [\n",
       "    {\n",
       "      \"id\": 1,\n",
       "      \"text\": \"Ok\",\n",
       "      \"lemma\": \"ok\",\n",
       "      \"upos\": \"INTJ\",\n",
       "      \"xpos\": \"UH\",\n",
       "      \"head\": 7,\n",
       "      \"deprel\": \"discourse\",\n",
       "      \"start_char\": 79,\n",
       "      \"end_char\": 81\n",
       "    },\n",
       "    {\n",
       "      \"id\": 2,\n",
       "      \"text\": \"this\",\n",
       "      \"lemma\": \"this\",\n",
       "      \"upos\": \"PRON\",\n",
       "      \"xpos\": \"DT\",\n",
       "      \"feats\": \"Number=Sing|PronType=Dem\",\n",
       "      \"head\": 7,\n",
       "      \"deprel\": \"nsubj\",\n",
       "      \"start_char\": 82,\n",
       "      \"end_char\": 86\n",
       "    },\n",
       "    {\n",
       "      \"id\": 3,\n",
       "      \"text\": \"might\",\n",
       "      \"lemma\": \"might\",\n",
       "      \"upos\": \"AUX\",\n",
       "      \"xpos\": \"MD\",\n",
       "      \"feats\": \"VerbForm=Fin\",\n",
       "      \"head\": 7,\n",
       "      \"deprel\": \"aux\",\n",
       "      \"start_char\": 87,\n",
       "      \"end_char\": 92\n",
       "    },\n",
       "    {\n",
       "      \"id\": 4,\n",
       "      \"text\": \"be\",\n",
       "      \"lemma\": \"be\",\n",
       "      \"upos\": \"AUX\",\n",
       "      \"xpos\": \"VB\",\n",
       "      \"feats\": \"VerbForm=Inf\",\n",
       "      \"head\": 7,\n",
       "      \"deprel\": \"cop\",\n",
       "      \"start_char\": 93,\n",
       "      \"end_char\": 95\n",
       "    },\n",
       "    {\n",
       "      \"id\": 5,\n",
       "      \"text\": \"kind\",\n",
       "      \"lemma\": \"kind\",\n",
       "      \"upos\": \"NOUN\",\n",
       "      \"xpos\": \"NN\",\n",
       "      \"feats\": \"Number=Sing\",\n",
       "      \"head\": 7,\n",
       "      \"deprel\": \"obl:npmod\",\n",
       "      \"start_char\": 96,\n",
       "      \"end_char\": 100\n",
       "    },\n",
       "    {\n",
       "      \"id\": 6,\n",
       "      \"text\": \"of\",\n",
       "      \"lemma\": \"of\",\n",
       "      \"upos\": \"ADP\",\n",
       "      \"xpos\": \"IN\",\n",
       "      \"head\": 5,\n",
       "      \"deprel\": \"fixed\",\n",
       "      \"start_char\": 101,\n",
       "      \"end_char\": 103\n",
       "    },\n",
       "    {\n",
       "      \"id\": 7,\n",
       "      \"text\": \"difficult\",\n",
       "      \"lemma\": \"difficult\",\n",
       "      \"upos\": \"ADJ\",\n",
       "      \"xpos\": \"JJ\",\n",
       "      \"feats\": \"Degree=Pos\",\n",
       "      \"head\": 0,\n",
       "      \"deprel\": \"root\",\n",
       "      \"start_char\": 104,\n",
       "      \"end_char\": 113\n",
       "    },\n",
       "    {\n",
       "      \"id\": 8,\n",
       "      \"text\": \".\",\n",
       "      \"lemma\": \".\",\n",
       "      \"upos\": \"PUNCT\",\n",
       "      \"xpos\": \".\",\n",
       "      \"head\": 7,\n",
       "      \"deprel\": \"punct\",\n",
       "      \"start_char\": 113,\n",
       "      \"end_char\": 114\n",
       "    }\n",
       "  ]\n",
       "]"
      ]
     },
     "execution_count": 88,
     "metadata": {},
     "output_type": "execute_result"
    }
   ],
   "source": [
    "doc"
   ]
  },
  {
   "cell_type": "code",
   "execution_count": 89,
   "id": "cheap-transcript",
   "metadata": {
    "collapsed": true,
    "jupyter": {
     "outputs_hidden": true
    },
    "tags": []
   },
   "outputs": [
    {
     "data": {
      "text/plain": [
       "[{'id': 1,\n",
       "  'text': 'There',\n",
       "  'lemma': 'there',\n",
       "  'upos': 'PRON',\n",
       "  'xpos': 'EX',\n",
       "  'head': 2,\n",
       "  'deprel': 'expl',\n",
       "  'start_char': 0,\n",
       "  'end_char': 5},\n",
       " {'id': 2,\n",
       "  'text': 'is',\n",
       "  'lemma': 'be',\n",
       "  'upos': 'VERB',\n",
       "  'xpos': 'VBZ',\n",
       "  'feats': 'Mood=Ind|Number=Sing|Person=3|Tense=Pres|VerbForm=Fin',\n",
       "  'head': 0,\n",
       "  'deprel': 'root',\n",
       "  'start_char': 6,\n",
       "  'end_char': 8},\n",
       " {'id': 3,\n",
       "  'text': 'nothing',\n",
       "  'lemma': 'nothing',\n",
       "  'upos': 'PRON',\n",
       "  'xpos': 'NN',\n",
       "  'feats': 'Number=Sing',\n",
       "  'head': 2,\n",
       "  'deprel': 'nsubj',\n",
       "  'start_char': 9,\n",
       "  'end_char': 16},\n",
       " {'id': 4,\n",
       "  'text': 'wrong',\n",
       "  'lemma': 'wrong',\n",
       "  'upos': 'ADJ',\n",
       "  'xpos': 'JJ',\n",
       "  'feats': 'Degree=Pos',\n",
       "  'head': 3,\n",
       "  'deprel': 'amod',\n",
       "  'start_char': 17,\n",
       "  'end_char': 22},\n",
       " {'id': 5,\n",
       "  'text': 'with',\n",
       "  'lemma': 'with',\n",
       "  'upos': 'ADP',\n",
       "  'xpos': 'IN',\n",
       "  'head': 10,\n",
       "  'deprel': 'case',\n",
       "  'start_char': 23,\n",
       "  'end_char': 27},\n",
       " {'id': 6,\n",
       "  'text': 'Apple',\n",
       "  'lemma': 'Apple',\n",
       "  'upos': 'PROPN',\n",
       "  'xpos': 'NNP',\n",
       "  'feats': 'Number=Sing',\n",
       "  'head': 10,\n",
       "  'deprel': 'nmod:poss',\n",
       "  'start_char': 28,\n",
       "  'end_char': 33},\n",
       " {'id': 7,\n",
       "  'text': \"'s\",\n",
       "  'lemma': \"'s\",\n",
       "  'upos': 'PART',\n",
       "  'xpos': 'POS',\n",
       "  'head': 6,\n",
       "  'deprel': 'case',\n",
       "  'start_char': 33,\n",
       "  'end_char': 35},\n",
       " {'id': 8,\n",
       "  'text': 'new',\n",
       "  'lemma': 'new',\n",
       "  'upos': 'ADJ',\n",
       "  'xpos': 'JJ',\n",
       "  'feats': 'Degree=Pos',\n",
       "  'head': 10,\n",
       "  'deprel': 'amod',\n",
       "  'start_char': 36,\n",
       "  'end_char': 39},\n",
       " {'id': 9,\n",
       "  'text': 'M1',\n",
       "  'lemma': 'M1',\n",
       "  'upos': 'PROPN',\n",
       "  'xpos': 'NNP',\n",
       "  'feats': 'Number=Sing',\n",
       "  'head': 10,\n",
       "  'deprel': 'compound',\n",
       "  'start_char': 40,\n",
       "  'end_char': 42},\n",
       " {'id': 10,\n",
       "  'text': 'Max',\n",
       "  'lemma': 'Max',\n",
       "  'upos': 'PROPN',\n",
       "  'xpos': 'NNP',\n",
       "  'feats': 'Number=Sing',\n",
       "  'head': 3,\n",
       "  'deprel': 'nmod',\n",
       "  'start_char': 43,\n",
       "  'end_char': 46},\n",
       " {'id': 11,\n",
       "  'text': 'Chip',\n",
       "  'lemma': 'Chip',\n",
       "  'upos': 'PROPN',\n",
       "  'xpos': 'NNP',\n",
       "  'feats': 'Number=Sing',\n",
       "  'head': 10,\n",
       "  'deprel': 'flat',\n",
       "  'start_char': 47,\n",
       "  'end_char': 51},\n",
       " {'id': 12,\n",
       "  'text': ',',\n",
       "  'lemma': ',',\n",
       "  'upos': 'PUNCT',\n",
       "  'xpos': ',',\n",
       "  'head': 14,\n",
       "  'deprel': 'punct',\n",
       "  'start_char': 51,\n",
       "  'end_char': 52},\n",
       " {'id': 13,\n",
       "  'text': 'everything',\n",
       "  'lemma': 'everything',\n",
       "  'upos': 'PRON',\n",
       "  'xpos': 'NN',\n",
       "  'feats': 'Number=Sing',\n",
       "  'head': 14,\n",
       "  'deprel': 'nsubj',\n",
       "  'start_char': 53,\n",
       "  'end_char': 63},\n",
       " {'id': 14,\n",
       "  'text': 'works',\n",
       "  'lemma': 'work',\n",
       "  'upos': 'VERB',\n",
       "  'xpos': 'VBZ',\n",
       "  'feats': 'Mood=Ind|Number=Sing|Person=3|Tense=Pres|VerbForm=Fin',\n",
       "  'head': 2,\n",
       "  'deprel': 'parataxis',\n",
       "  'start_char': 64,\n",
       "  'end_char': 69},\n",
       " {'id': 15,\n",
       "  'text': 'so',\n",
       "  'lemma': 'so',\n",
       "  'upos': 'ADV',\n",
       "  'xpos': 'RB',\n",
       "  'head': 16,\n",
       "  'deprel': 'advmod',\n",
       "  'start_char': 70,\n",
       "  'end_char': 72},\n",
       " {'id': 16,\n",
       "  'text': 'well',\n",
       "  'lemma': 'well',\n",
       "  'upos': 'ADV',\n",
       "  'xpos': 'RB',\n",
       "  'feats': 'Degree=Pos',\n",
       "  'head': 14,\n",
       "  'deprel': 'advmod',\n",
       "  'start_char': 73,\n",
       "  'end_char': 77},\n",
       " {'id': 17,\n",
       "  'text': '!',\n",
       "  'lemma': '!',\n",
       "  'upos': 'PUNCT',\n",
       "  'xpos': '.',\n",
       "  'head': 2,\n",
       "  'deprel': 'punct',\n",
       "  'start_char': 77,\n",
       "  'end_char': 78},\n",
       " {'id': 18,\n",
       "  'text': 'Ok',\n",
       "  'lemma': 'ok',\n",
       "  'upos': 'INTJ',\n",
       "  'xpos': 'UH',\n",
       "  'head': 24,\n",
       "  'deprel': 'discourse',\n",
       "  'start_char': 79,\n",
       "  'end_char': 81},\n",
       " {'id': 19,\n",
       "  'text': 'this',\n",
       "  'lemma': 'this',\n",
       "  'upos': 'PRON',\n",
       "  'xpos': 'DT',\n",
       "  'feats': 'Number=Sing|PronType=Dem',\n",
       "  'head': 24,\n",
       "  'deprel': 'nsubj',\n",
       "  'start_char': 82,\n",
       "  'end_char': 86},\n",
       " {'id': 20,\n",
       "  'text': 'might',\n",
       "  'lemma': 'might',\n",
       "  'upos': 'AUX',\n",
       "  'xpos': 'MD',\n",
       "  'feats': 'VerbForm=Fin',\n",
       "  'head': 24,\n",
       "  'deprel': 'aux',\n",
       "  'start_char': 87,\n",
       "  'end_char': 92},\n",
       " {'id': 21,\n",
       "  'text': 'be',\n",
       "  'lemma': 'be',\n",
       "  'upos': 'AUX',\n",
       "  'xpos': 'VB',\n",
       "  'feats': 'VerbForm=Inf',\n",
       "  'head': 24,\n",
       "  'deprel': 'cop',\n",
       "  'start_char': 93,\n",
       "  'end_char': 95},\n",
       " {'id': 22,\n",
       "  'text': 'kind',\n",
       "  'lemma': 'kind',\n",
       "  'upos': 'NOUN',\n",
       "  'xpos': 'NN',\n",
       "  'feats': 'Number=Sing',\n",
       "  'head': 24,\n",
       "  'deprel': 'obl:npmod',\n",
       "  'start_char': 96,\n",
       "  'end_char': 100},\n",
       " {'id': 23,\n",
       "  'text': 'of',\n",
       "  'lemma': 'of',\n",
       "  'upos': 'ADP',\n",
       "  'xpos': 'IN',\n",
       "  'head': 22,\n",
       "  'deprel': 'fixed',\n",
       "  'start_char': 101,\n",
       "  'end_char': 103},\n",
       " {'id': 24,\n",
       "  'text': 'difficult',\n",
       "  'lemma': 'difficult',\n",
       "  'upos': 'ADJ',\n",
       "  'xpos': 'JJ',\n",
       "  'feats': 'Degree=Pos',\n",
       "  'head': 17,\n",
       "  'deprel': 'root',\n",
       "  'start_char': 104,\n",
       "  'end_char': 113},\n",
       " {'id': 25,\n",
       "  'text': '.',\n",
       "  'lemma': '.',\n",
       "  'upos': 'PUNCT',\n",
       "  'xpos': '.',\n",
       "  'head': 24,\n",
       "  'deprel': 'punct',\n",
       "  'start_char': 113,\n",
       "  'end_char': 114}]"
      ]
     },
     "execution_count": 89,
     "metadata": {},
     "output_type": "execute_result"
    }
   ],
   "source": [
    "nodeList"
   ]
  },
  {
   "cell_type": "markdown",
   "id": "conceptual-joint",
   "metadata": {},
   "source": [
    "#### drawDepGraph"
   ]
  },
  {
   "cell_type": "code",
   "execution_count": 90,
   "id": "computational-ridge",
   "metadata": {},
   "outputs": [
    {
     "data": {
      "image/png": "[encoded data removed]",
      "text/plain": [
       "<Figure size 864x864 with 1 Axes>"
      ]
     },
     "metadata": {},
     "output_type": "display_data"
    }
   ],
   "source": [
    "stanzaTools.drawDepGraph(nodeList, edgeList)"
   ]
  },
  {
   "cell_type": "markdown",
   "id": "hydraulic-lewis",
   "metadata": {},
   "source": [
    "### Testing Spacy (Ignore for Now)"
   ]
  },
  {
   "cell_type": "code",
   "execution_count": null,
   "id": "respected-resource",
   "metadata": {},
   "outputs": [],
   "source": [
    "import spacy\n",
    "\n",
    "# Load English tokenizer, tagger, parser and NER\n",
    "nlp = spacy.load(\"en_core_web_sm\")\n",
    "\n",
    "# Process whole documents\n",
    "text = sampleSentence\n",
    "doc = nlp(text)\n",
    "# Analyze syntax\n",
    "print(\"Noun phrases:\", [chunk.text for chunk in doc.noun_chunks])\n",
    "print(\"Verbs:\", [token.lemma_ for token in doc if token.pos_ == \"VERB\"])\n",
    "\n",
    "# Find named entities, phrases and concepts\n",
    "for entity in doc.ents:\n",
    "    print(entity.text, entity.label_)    "
   ]
  },
  {
   "cell_type": "code",
   "execution_count": null,
   "id": "behind-circus",
   "metadata": {
    "tags": []
   },
   "outputs": [],
   "source": [
    "spacy.displacy.render(doc, style='dep', jupyter=True, options={'distance': 120})"
   ]
  },
  {
   "cell_type": "code",
   "execution_count": null,
   "id": "surgical-battle",
   "metadata": {},
   "outputs": [],
   "source": [
    "doc"
   ]
  },
  {
   "cell_type": "markdown",
   "id": "weird-capture",
   "metadata": {},
   "source": [
    "### Testing TF Datasets"
   ]
  },
  {
   "cell_type": "code",
   "execution_count": null,
   "id": "chemical-utilization",
   "metadata": {},
   "outputs": [],
   "source": [
    "import tensorflow_datasets as tfds\n",
    "import tensorflow as tf\n",
    "import spacy\n",
    "import tfDatasetTools\n",
    "nlp = spacy.load(\"en_core_web_sm\")"
   ]
  },
  {
   "cell_type": "code",
   "execution_count": null,
   "id": "threatened-toolbox",
   "metadata": {},
   "outputs": [],
   "source": [
    "trainDS = tfds.load('imdb_reviews', split='train', as_supervised=True, shuffle_files=True)\n",
    "testDS = tfds.load('imdb_reviews', split='test', as_supervised=True, shuffle_files=True)"
   ]
  },
  {
   "cell_type": "code",
   "execution_count": null,
   "id": "visible-yeast",
   "metadata": {},
   "outputs": [],
   "source": [
    "part = testDS.take(10)"
   ]
  },
  {
   "cell_type": "markdown",
   "id": "affected-style",
   "metadata": {
    "tags": []
   },
   "source": [
    "#### decodeZeroDimTensor"
   ]
  },
  {
   "cell_type": "markdown",
   "id": "billion-cause",
   "metadata": {},
   "source": [
    "#### convertTakeDataset"
   ]
  },
  {
   "cell_type": "code",
   "execution_count": null,
   "id": "contemporary-representation",
   "metadata": {},
   "outputs": [],
   "source": [
    "features, labels = tfDatasetTools.convertTakeDataset(part)"
   ]
  },
  {
   "cell_type": "code",
   "execution_count": null,
   "id": "eastern-headset",
   "metadata": {},
   "outputs": [],
   "source": [
    "features[0]"
   ]
  },
  {
   "cell_type": "code",
   "execution_count": null,
   "id": "intellectual-mortgage",
   "metadata": {},
   "outputs": [],
   "source": [
    "labels"
   ]
  },
  {
   "cell_type": "code",
   "execution_count": null,
   "id": "fitting-writer",
   "metadata": {},
   "outputs": [],
   "source": [
    "nlp = stanza.Pipeline(\n",
    "    'en',\n",
    "    processors = 'tokenize,mwt,pos,lemma,depparse, sentiment')"
   ]
  },
  {
   "cell_type": "code",
   "execution_count": null,
   "id": "controversial-literacy",
   "metadata": {
    "tags": []
   },
   "outputs": [],
   "source": [
    "doc = nlp(features[1])\n",
    "for sentence in doc.sentences:\n",
    "    print(sentence.text)\n",
    "    print(sentence.sentiment)"
   ]
  },
  {
   "cell_type": "code",
   "execution_count": null,
   "id": "engaged-triple",
   "metadata": {
    "tags": []
   },
   "outputs": [],
   "source": [
    "doc.sentences[1]"
   ]
  },
  {
   "cell_type": "markdown",
   "id": "explicit-reply",
   "metadata": {},
   "source": [
    "### Testing spektral"
   ]
  },
  {
   "cell_type": "code",
   "execution_count": null,
   "id": "understood-basketball",
   "metadata": {},
   "outputs": [],
   "source": [
    "import spektral\n",
    "from spektral.datasets import TUDataset"
   ]
  },
  {
   "cell_type": "code",
   "execution_count": null,
   "id": "introductory-fundamental",
   "metadata": {},
   "outputs": [],
   "source": [
    "dataset = TUDataset('PROTEINS')"
   ]
  },
  {
   "cell_type": "code",
   "execution_count": null,
   "id": "elder-catch",
   "metadata": {},
   "outputs": [],
   "source": [
    "dataset"
   ]
  },
  {
   "cell_type": "code",
   "execution_count": null,
   "id": "living-stockholm",
   "metadata": {},
   "outputs": [],
   "source": [
    "train_datset = dataset[:100]"
   ]
  },
  {
   "cell_type": "code",
   "execution_count": null,
   "id": "worse-feature",
   "metadata": {},
   "outputs": [],
   "source": [
    "test_datset = dataset[100:]"
   ]
  },
  {
   "cell_type": "code",
   "execution_count": null,
   "id": "indonesian-immune",
   "metadata": {},
   "outputs": [],
   "source": [
    "from tensorflow.keras.models import Model\n",
    "from tensorflow.keras.layers import Dense, Dropout\n",
    "from spektral.layers import GCNConv, GlobalSumPool"
   ]
  },
  {
   "cell_type": "code",
   "execution_count": null,
   "id": "advance-evidence",
   "metadata": {},
   "outputs": [],
   "source": [
    "class MyFirstGNN(Model):\n",
    "\n",
    "    def __init__(self, n_hidden, n_labels):\n",
    "        super().__init__()\n",
    "        self.graph_conv = GCNConv(n_hidden)\n",
    "        self.pool = GlobalSumPool()\n",
    "        self.dropout = Dropout(0.5)\n",
    "        self.dense = Dense(n_labels, 'softmax')\n",
    "\n",
    "    def call(self, inputs):\n",
    "        out = self.graph_conv(inputs)\n",
    "        out = self.dropout(out)\n",
    "        out = self.pool(out)\n",
    "        out = self.dense(out)\n",
    "\n",
    "        return out"
   ]
  },
  {
   "cell_type": "code",
   "execution_count": null,
   "id": "empty-april",
   "metadata": {},
   "outputs": [],
   "source": [
    "model = MyFirstGNN(32, dataset.n_labels)\n",
    "model.compile('adam', 'categorical_crossentropy', metrics=['accuracy'])"
   ]
  },
  {
   "cell_type": "code",
   "execution_count": null,
   "id": "promising-launch",
   "metadata": {},
   "outputs": [],
   "source": [
    "from spektral.data import BatchLoader\n",
    "\n",
    "loader = BatchLoader(train_datset, batch_size=32)\n",
    "testLoader = BatchLoader(test_datset, batch_size=32)"
   ]
  },
  {
   "cell_type": "code",
   "execution_count": null,
   "id": "catholic-interest",
   "metadata": {},
   "outputs": [],
   "source": [
    "model.fit(loader.load(),steps_per_epoch=loader.steps_per_epoch, epochs=10)"
   ]
  },
  {
   "cell_type": "code",
   "execution_count": null,
   "id": "polyphonic-cambodia",
   "metadata": {},
   "outputs": [],
   "source": [
    "model.evaluate(testLoader.load(),steps=testLoader.steps_per_epoch)"
   ]
  },
  {
   "cell_type": "code",
   "execution_count": null,
   "id": "russian-trainer",
   "metadata": {},
   "outputs": [],
   "source": [
    "test_datset[12].y"
   ]
  },
  {
   "cell_type": "markdown",
   "id": "moral-cooler",
   "metadata": {},
   "source": [
    "## Part 2: Graph Networks"
   ]
  },
  {
   "cell_type": "markdown",
   "id": "choice-explanation",
   "metadata": {},
   "source": [
    "### Basic Imports"
   ]
  },
  {
   "cell_type": "code",
   "execution_count": 1,
   "id": "funky-structure",
   "metadata": {},
   "outputs": [],
   "source": [
    "import tensorflow_datasets as tfds\n",
    "import tensorflow as tf\n",
    "import numpy as np\n",
    "import pandas as pd\n",
    "import matplotlib.pyplot as plt\n",
    "import stanza\n",
    "import networkx as nx\n",
    "import tensorflow_hub as hub\n",
    "import tensorflow_text\n",
    "import spektral"
   ]
  },
  {
   "cell_type": "code",
   "execution_count": 2,
   "id": "graphic-phenomenon",
   "metadata": {},
   "outputs": [],
   "source": [
    "import stanzaTools\n",
    "import tfDatasetTools\n",
    "import relationEncoder"
   ]
  },
  {
   "cell_type": "code",
   "execution_count": 3,
   "id": "997bbbb6-e771-491c-98e4-a105cf1063a6",
   "metadata": {},
   "outputs": [],
   "source": [
    "import io, time, joblib, json"
   ]
  },
  {
   "cell_type": "markdown",
   "id": "original-newfoundland",
   "metadata": {},
   "source": [
    "### Set up Stanza"
   ]
  },
  {
   "cell_type": "code",
   "execution_count": 7,
   "id": "applied-india",
   "metadata": {},
   "outputs": [
    {
     "data": {
      "application/vnd.jupyter.widget-view+json": {
       "model_id": "572a7da91c8b4ba585c9e8d3a5361a26",
       "version_major": 2,
       "version_minor": 0
      },
      "text/plain": [
       "Downloading https://raw.githubusercontent.com/stanfordnlp/stanza-resources/main/resources_1.4.0.json:   0%|   …"
      ]
     },
     "metadata": {},
     "output_type": "display_data"
    },
    {
     "name": "stderr",
     "output_type": "stream",
     "text": [
      "2022-06-05 16:03:23 INFO: Downloading default packages for language: en (English)...\n",
      "2022-06-05 16:03:24 INFO: File exists: /Users/zeyuyang/stanza_resources/en/default.zip\n",
      "2022-06-05 16:03:27 INFO: Finished downloading models and saved to /Users/zeyuyang/stanza_resources.\n"
     ]
    }
   ],
   "source": [
    "stanza.download('en')"
   ]
  },
  {
   "cell_type": "code",
   "execution_count": 8,
   "id": "american-lounge",
   "metadata": {},
   "outputs": [
    {
     "data": {
      "application/vnd.jupyter.widget-view+json": {
       "model_id": "470faf8aa7cb400db5354b9895fd9177",
       "version_major": 2,
       "version_minor": 0
      },
      "text/plain": [
       "Downloading https://raw.githubusercontent.com/stanfordnlp/stanza-resources/main/resources_1.4.0.json:   0%|   …"
      ]
     },
     "metadata": {},
     "output_type": "display_data"
    },
    {
     "name": "stderr",
     "output_type": "stream",
     "text": [
      "2022-06-05 16:03:27 WARNING: Can not find mwt: default from official model list. Ignoring it.\n",
      "2022-06-05 16:03:28 INFO: Loading these models for language: en (English):\n",
      "========================\n",
      "| Processor | Package  |\n",
      "------------------------\n",
      "| tokenize  | combined |\n",
      "| pos       | combined |\n",
      "| lemma     | combined |\n",
      "| depparse  | combined |\n",
      "| sentiment | sstplus  |\n",
      "========================\n",
      "\n",
      "2022-06-05 16:03:28 INFO: Use device: cpu\n",
      "2022-06-05 16:03:28 INFO: Loading: tokenize\n",
      "2022-06-05 16:03:28 INFO: Loading: pos\n",
      "2022-06-05 16:03:28 INFO: Loading: lemma\n",
      "2022-06-05 16:03:28 INFO: Loading: depparse\n",
      "2022-06-05 16:03:28 INFO: Loading: sentiment\n",
      "2022-06-05 16:03:28 INFO: Done loading processors!\n"
     ]
    }
   ],
   "source": [
    "nlp = stanza.Pipeline(\n",
    "    'en',\n",
    "    processors = 'tokenize,mwt,pos,lemma,depparse, sentiment')"
   ]
  },
  {
   "cell_type": "markdown",
   "id": "expected-coordinator",
   "metadata": {
    "jp-MarkdownHeadingCollapsed": true,
    "tags": []
   },
   "source": [
    "#### createGraph"
   ]
  },
  {
   "cell_type": "code",
   "execution_count": 9,
   "id": "descending-wallpaper",
   "metadata": {},
   "outputs": [
    {
     "data": {
      "text/plain": [
       "<module 'tfDatasetTools' from '/Users/zeyuyang/Projects/CS397Project/tfDatasetTools.py'>"
      ]
     },
     "execution_count": 9,
     "metadata": {},
     "output_type": "execute_result"
    }
   ],
   "source": [
    "from importlib import reload\n",
    "reload(stanzaTools)\n",
    "reload(tfDatasetTools)"
   ]
  },
  {
   "cell_type": "code",
   "execution_count": 10,
   "id": "034e37c7-eb6d-46d6-a4e4-d43ebff3e657",
   "metadata": {},
   "outputs": [],
   "source": [
    "relationsDict = relationEncoder.getRelationsDict()"
   ]
  },
  {
   "cell_type": "code",
   "execution_count": 8,
   "id": "cooked-aging",
   "metadata": {},
   "outputs": [],
   "source": [
    "def createGraph(doc, positive):\n",
    "    startTime = time.perf_counter()\n",
    "    nodeList, edgeList = stanzaTools.getNodeEdgeLists(doc)\n",
    "    nodeTime = time.perf_counter()\n",
    "    words = [item['text'] for item in nodeList]\n",
    "    convertedFeatures = stanzaTools.convertToEmbedding(words, preprocessor, encoder)\n",
    "    adjacencyMatrix = stanzaTools.createAdjacencyMatrix(edgeList, len(nodeList))\n",
    "    convertTime = time.perf_counter()\n",
    "    sortedList = sorted(edgeList, key=lambda x: (x['edgePair'][0], x['edgePair'][1]))\n",
    "    edgeFeatures = relationEncoder.OneHotEncode(relationsDict, [edge['edgeLabel'] for edge in sortedList])\n",
    "    encodeTime = time.perf_counter()\n",
    "    label = np.array([positive])\n",
    "    print([nodeTime - startTime, convertTime  - nodeTime, encodeTime - convertTime])\n",
    "    # newGraph = spektral.data.graph.Graph(x=convertedFeatures, a=adjacencyMatrix, y=label)\n",
    "    return (convertedFeatures, adjacencyMatrix, edgeFeatures, label)"
   ]
  },
  {
   "cell_type": "code",
   "execution_count": 9,
   "id": "7e5f7749-1850-4fe2-9614-8c27453f2122",
   "metadata": {},
   "outputs": [],
   "source": [
    "def createCustomGraph(doc, positive):\n",
    "    startTime = time.perf_counter()\n",
    "    nodeList, edgeList = stanzaTools.getNodeEdgeLists(doc)\n",
    "    nodeTime = time.perf_counter()\n",
    "    words = [item['text'] for item in nodeList]\n",
    "    convertedFeatures = stanzaTools.convertToCustomEmbedding(words, preprocessor, model.layers[2])\n",
    "    adjacencyMatrix = stanzaTools.createAdjacencyMatrix(edgeList, len(nodeList))\n",
    "    convertTime = time.perf_counter()\n",
    "    sortedList = sorted(edgeList, key=lambda x: (x['edgePair'][0], x['edgePair'][1]))\n",
    "    edgeFeatures = relationEncoder.OneHotEncode(relationsDict, [edge['edgeLabel'] for edge in sortedList])\n",
    "    encodeTime = time.perf_counter()\n",
    "    label = np.array([positive])\n",
    "    print([nodeTime - startTime, convertTime  - nodeTime, encodeTime - convertTime])\n",
    "    # newGraph = spektral.data.graph.Graph(x=convertedFeatures, a=adjacencyMatrix, y=label)\n",
    "    return (convertedFeatures, adjacencyMatrix, edgeFeatures, label)"
   ]
  },
  {
   "cell_type": "code",
   "execution_count": 95,
   "id": "bd7e7565-baab-4587-95df-95537e210118",
   "metadata": {},
   "outputs": [],
   "source": [
    "def createCustomGraph2(doc, positive):\n",
    "    startTime = time.perf_counter()\n",
    "    nodeList, edgeList = stanzaTools.getNodeEdgeLists(doc)\n",
    "    nodeTime = time.perf_counter()\n",
    "    words = [item['text'] for item in nodeList]\n",
    "    print(len(words))\n",
    "    convertedFeatures = convertToCustomEmbedding(words)\n",
    "    adjacencyMatrix = stanzaTools.createAdjacencyMatrix(edgeList, len(nodeList))\n",
    "    convertTime = time.perf_counter()\n",
    "    sortedList = sorted(edgeList, key=lambda x: (x['edgePair'][0], x['edgePair'][1]))\n",
    "    edgeFeatures = relationEncoder.OneHotEncode(relationsDict, [edge['edgeLabel'] for edge in sortedList])\n",
    "    encodeTime = time.perf_counter()\n",
    "    label = np.array([positive])\n",
    "    print([nodeTime - startTime, convertTime  - nodeTime, encodeTime - convertTime])\n",
    "    # newGraph = spektral.data.graph.Graph(x=convertedFeatures, a=adjacencyMatrix, y=label)\n",
    "    return (convertedFeatures, adjacencyMatrix, edgeFeatures, label)"
   ]
  },
  {
   "cell_type": "markdown",
   "id": "f4893d85-fbd9-469c-a19a-8d6dced0947a",
   "metadata": {},
   "source": [
    "#### createGraphAlpha"
   ]
  },
  {
   "cell_type": "code",
   "execution_count": 10,
   "id": "70a1a6c2-f837-43d0-ac9e-1f1519f5ab61",
   "metadata": {},
   "outputs": [],
   "source": [
    "def createGraphAlpha(doc, positive):\n",
    "    # startTime = time.perf_counter()\n",
    "    nodeList, edgeList = stanzaTools.getNodeEdgeLists(doc, False, False)\n",
    "    # nodeTime = time.perf_counter()\n",
    "    words = [item['text'] for item in nodeList]\n",
    "    # print(len(words))\n",
    "    convertedFeatures = convertToCustomEmbedding(words)\n",
    "    adjacencyMatrix = stanzaTools.createAdjacencyMatrix(edgeList, len(nodeList))\n",
    "    # convertTime = time.perf_counter()\n",
    "    sortedList = sorted(edgeList, key=lambda x: (x['edgePair'][0], x['edgePair'][1]))\n",
    "    edgeFeatures = relationEncoder.OneHotEncode(relationsDict, [edge['edgeLabel'] for edge in sortedList])\n",
    "    # encodeTime = time.perf_counter()\n",
    "    label = np.array([positive])\n",
    "    # print([nodeTime - startTime, convertTime  - nodeTime, encodeTime - convertTime])\n",
    "    # newGraph = spektral.data.graph.Graph(x=convertedFeatures, a=adjacencyMatrix, y=label)\n",
    "    return (convertedFeatures, adjacencyMatrix, edgeFeatures, label)"
   ]
  },
  {
   "cell_type": "markdown",
   "id": "maritime-enough",
   "metadata": {
    "tags": []
   },
   "source": [
    "### Load Data"
   ]
  },
  {
   "cell_type": "code",
   "execution_count": 12,
   "id": "native-friendship",
   "metadata": {},
   "outputs": [
    {
     "name": "stdout",
     "output_type": "stream",
     "text": [
      "Metal device set to: Apple M1 Max\n"
     ]
    },
    {
     "name": "stderr",
     "output_type": "stream",
     "text": [
      "2022-06-05 13:19:44.700919: I tensorflow/core/common_runtime/pluggable_device/pluggable_device_factory.cc:305] Could not identify NUMA node of platform GPU ID 0, defaulting to 0. Your kernel may not have been built with NUMA support.\n",
      "2022-06-05 13:19:44.701196: I tensorflow/core/common_runtime/pluggable_device/pluggable_device_factory.cc:271] Created TensorFlow device (/job:localhost/replica:0/task:0/device:GPU:0 with 0 MB memory) -> physical PluggableDevice (device: 0, name: METAL, pci bus id: <undefined>)\n"
     ]
    }
   ],
   "source": [
    "trainDS = tfds.load('imdb_reviews', split='train', as_supervised=True, shuffle_files=True)\n",
    "testDS = tfds.load('imdb_reviews', split='test', as_supervised=True, shuffle_files=True)"
   ]
  },
  {
   "cell_type": "markdown",
   "id": "related-literacy",
   "metadata": {},
   "source": [
    "#### Set a Limit"
   ]
  },
  {
   "cell_type": "code",
   "execution_count": 13,
   "id": "neutral-appointment",
   "metadata": {},
   "outputs": [],
   "source": [
    "trainLimit = 25000\n",
    "testLimit = 25000\n",
    "\n",
    "trainSubset = trainDS.take(trainLimit)\n",
    "testSubset = testDS.take(testLimit)"
   ]
  },
  {
   "cell_type": "code",
   "execution_count": 14,
   "id": "driven-guarantee",
   "metadata": {},
   "outputs": [],
   "source": [
    "validationSplit = 0.2\n",
    "validationIndex = int(validationSplit * trainLimit)\n",
    "\n",
    "validationSplitSubset = trainSubset.take(validationIndex)\n",
    "trainSplitSubset = trainSubset.skip(validationIndex)"
   ]
  },
  {
   "cell_type": "code",
   "execution_count": 15,
   "id": "complicated-panama",
   "metadata": {},
   "outputs": [
    {
     "name": "stderr",
     "output_type": "stream",
     "text": [
      "2022-06-05 13:20:07.384058: W tensorflow/core/platform/profile_utils/cpu_utils.cc:128] Failed to get CPU frequency: 0 Hz\n"
     ]
    }
   ],
   "source": [
    "trainFeatures, trainLabels = tfDatasetTools.convertTakeDataset(trainSplitSubset)\n",
    "valFeatures, valLabels = tfDatasetTools.convertTakeDataset(validationSplitSubset)\n",
    "testFeatures, testLabels = tfDatasetTools.convertTakeDataset(testSubset)"
   ]
  },
  {
   "cell_type": "markdown",
   "id": "19d15ba0-9789-4540-aa32-0297f0c38359",
   "metadata": {},
   "source": [
    "##### Checking trainFeatures and functions"
   ]
  },
  {
   "cell_type": "code",
   "execution_count": 16,
   "id": "901e073e-4306-4575-afd2-5b37da9e33f9",
   "metadata": {},
   "outputs": [
    {
     "data": {
      "application/vnd.jupyter.widget-view+json": {
       "model_id": "24235890d3334bffb403afecd151c8a3",
       "version_major": 2,
       "version_minor": 0
      },
      "text/plain": [
       "Downloading https://raw.githubusercontent.com/stanfordnlp/stanza-resources/main/resources_1.4.0.json:   0%|   …"
      ]
     },
     "metadata": {},
     "output_type": "display_data"
    },
    {
     "name": "stderr",
     "output_type": "stream",
     "text": [
      "2022-06-05 13:20:23 WARNING: Can not find mwt: default from official model list. Ignoring it.\n",
      "WARNING:stanza:Can not find mwt: default from official model list. Ignoring it.\n",
      "2022-06-05 13:20:23 INFO: Loading these models for language: en (English):\n",
      "========================\n",
      "| Processor | Package  |\n",
      "------------------------\n",
      "| tokenize  | combined |\n",
      "========================\n",
      "\n",
      "INFO:stanza:Loading these models for language: en (English):\n",
      "========================\n",
      "| Processor | Package  |\n",
      "------------------------\n",
      "| tokenize  | combined |\n",
      "========================\n",
      "\n",
      "2022-06-05 13:20:23 INFO: Use device: cpu\n",
      "INFO:stanza:Use device: cpu\n",
      "2022-06-05 13:20:23 INFO: Loading: tokenize\n",
      "INFO:stanza:Loading: tokenize\n",
      "2022-06-05 13:20:23 INFO: Done loading processors!\n",
      "INFO:stanza:Done loading processors!\n"
     ]
    }
   ],
   "source": [
    "nlp = stanza.Pipeline(\n",
    "    'en',\n",
    "    processors = 'tokenize, mwt')"
   ]
  },
  {
   "cell_type": "markdown",
   "id": "0312c200-058c-4dd5-8fc3-f6e840219f3d",
   "metadata": {},
   "source": [
    "#### Create Custom tokenizer\n",
    "The goal is to matche our tokenizer to the one used by stanza. The ideas is to first tokenize all of the train+validation reviews into words. Then use our own tokenizer to parse all of these words to learn what the vocabulary is. Later, we will use stanza to break each feature into a list of nodes. The list of nodes will be converted using our own tokenizer into a list of ints. The list of ints will be used to train the embedding model and to create the embeddings for the graph model.\n",
    "\n",
    "Use joblib with parallel jobs to speed up the processing by about 200%."
   ]
  },
  {
   "cell_type": "code",
   "execution_count": 17,
   "id": "4cf27551-528d-4d46-be36-8f8b039bc546",
   "metadata": {},
   "outputs": [],
   "source": [
    "def getStanzaProSents(features):\n",
    "    tokenizedSentences = []\n",
    "    for feature in features:\n",
    "        doc = nlp(feature)\n",
    "        for sentence in doc.sentences:\n",
    "            tokenizedSentences.append(\" \".join([item['text'] for item in sentence.to_dict()]))\n",
    "    return tokenizedSentences"
   ]
  },
  {
   "cell_type": "markdown",
   "id": "9f677dbc-5ac6-4bf4-aa55-74540cdbb1e9",
   "metadata": {},
   "source": [
    "This takes about 42 seconds per 1000 reviews"
   ]
  },
  {
   "cell_type": "code",
   "execution_count": 18,
   "id": "1fc64ced-4588-47f4-92d9-d4705b4ed878",
   "metadata": {
    "tags": []
   },
   "outputs": [
    {
     "name": "stdout",
     "output_type": "stream",
     "text": [
      "1042.845810459\n"
     ]
    }
   ],
   "source": [
    "startTime = time.perf_counter()\n",
    "step = 50\n",
    "totalFeatures = trainFeatures + valFeatures\n",
    "results = joblib.Parallel(n_jobs=8, prefer=\"threads\")(joblib.delayed(getStanzaProSents)(totalFeatures[i:i + step]) for i in range(0,trainLimit,step))\n",
    "print(time.perf_counter()-startTime)\n",
    "deListed = []\n",
    "for i in results:\n",
    "    deListed += i"
   ]
  },
  {
   "cell_type": "code",
   "execution_count": 11,
   "id": "alien-packing",
   "metadata": {},
   "outputs": [],
   "source": [
    "customTokenizer = tf.keras.preprocessing.text.Tokenizer(num_words=30000, oov_token='OOVTOKEN', filters='', lower = True, split = ' ')"
   ]
  },
  {
   "cell_type": "code",
   "execution_count": 20,
   "id": "c878ce1f-4829-44c0-a1dc-bd195fa2dc7c",
   "metadata": {
    "tags": []
   },
   "outputs": [],
   "source": [
    "customTokenizer.fit_on_texts(deListed)"
   ]
  },
  {
   "cell_type": "code",
   "execution_count": 13,
   "id": "fdbb9848-af23-4263-9741-0d88f74d54ad",
   "metadata": {},
   "outputs": [],
   "source": [
    "file_path = './tokenizer/token' + '25000' + '.json'"
   ]
  },
  {
   "cell_type": "code",
   "execution_count": 26,
   "id": "3ab6d40a-20a1-4f55-9e34-5a21902c339d",
   "metadata": {},
   "outputs": [],
   "source": [
    "# use if you want to rewrite the file\n",
    "tokenizer_json = customTokenizer.to_json()\n",
    "with io.open(file_path, 'w', encoding='utf-8') as f:\n",
    "            f.write(json.dumps(tokenizer_json, ensure_ascii=False))"
   ]
  },
  {
   "cell_type": "code",
   "execution_count": 14,
   "id": "844e759c-4ff8-46f1-ac80-9a97796e5565",
   "metadata": {},
   "outputs": [],
   "source": [
    "with open(file_path) as f:\n",
    "            data = json.load(f)\n",
    "            customTokenizer = tf.keras.preprocessing.text.tokenizer_from_json(data)"
   ]
  },
  {
   "cell_type": "code",
   "execution_count": 15,
   "id": "7b16cdd1-f7f2-47ea-b6d3-4c6cf37235de",
   "metadata": {},
   "outputs": [
    {
     "data": {
      "text/plain": [
       "82222"
      ]
     },
     "execution_count": 15,
     "metadata": {},
     "output_type": "execute_result"
    }
   ],
   "source": [
    "len(customTokenizer.index_word)"
   ]
  },
  {
   "cell_type": "code",
   "execution_count": 28,
   "id": "e0c67646-8241-4c25-8ab4-3019e53f34a4",
   "metadata": {},
   "outputs": [],
   "source": [
    "one = customTokenizer.texts_to_sequences([trainFeatures[0]])"
   ]
  },
  {
   "cell_type": "code",
   "execution_count": 29,
   "id": "0d97f311-ca2c-49e3-bc4e-fbb132862c13",
   "metadata": {},
   "outputs": [
    {
     "data": {
      "text/plain": [
       "[\"it is amazing to me what passes for entertainment OOVTOKEN maybe i am a dinosaur from the OOVTOKEN and i am out of touch with todays movie going OOVTOKEN and apparently that is the case with regards to this OOVTOKEN since so many people loved OOVTOKEN i found it foul and OOVTOKEN i OOVTOKEN said that about many movies in my life but this one fits the OOVTOKEN the humor is sophomoric and OOVTOKEN i am not a politically correct OOVTOKEN and even i found the gay OOVTOKEN not only not funny but downright offensive ( i'm not OOVTOKEN the main character in the movie is not even a likable OOVTOKEN just OOVTOKEN when the movie was finally over i heard a number of people comment on how disappointed they were in what they had just pay good money to OOVTOKEN\"]"
      ]
     },
     "execution_count": 29,
     "metadata": {},
     "output_type": "execute_result"
    }
   ],
   "source": [
    "customTokenizer.sequences_to_texts(one)"
   ]
  },
  {
   "cell_type": "code",
   "execution_count": null,
   "id": "2a7eee01-a278-45ff-89f9-6024ace307c6",
   "metadata": {},
   "outputs": [],
   "source": []
  },
  {
   "cell_type": "markdown",
   "id": "dependent-paper",
   "metadata": {
    "jp-MarkdownHeadingCollapsed": true,
    "tags": []
   },
   "source": [
    "#### Bert Embeddings"
   ]
  },
  {
   "cell_type": "code",
   "execution_count": 30,
   "id": "current-jesus",
   "metadata": {},
   "outputs": [],
   "source": [
    "tf.keras.backend.clear_session()"
   ]
  },
  {
   "cell_type": "code",
   "execution_count": 411,
   "id": "multiple-distributor",
   "metadata": {
    "tags": []
   },
   "outputs": [
    {
     "name": "stderr",
     "output_type": "stream",
     "text": [
      "2022-05-29 23:02:06.956843: I tensorflow/core/grappler/optimizers/custom_graph_optimizer_registry.cc:113] Plugin optimizer for device_type GPU is enabled.\n"
     ]
    }
   ],
   "source": [
    "# Preprocess and encode input\n",
    "text_input = tf.keras.layers.Input(shape=(), dtype=tf.string)\n",
    "\n",
    "preprocessor = hub.KerasLayer('https://tfhub.dev/tensorflow/bert_en_uncased_preprocess/3')\n",
    "encoder_inputs = preprocessor(text_input)\n",
    "\n",
    "encoder = hub.KerasLayer('https://tfhub.dev/tensorflow/small_bert/bert_en_uncased_L-2_H-128_A-2/2',trainable=False)\n",
    "\n",
    "outputs = encoder(encoder_inputs)\n",
    "\n",
    "pooled_output = outputs['pooled_output'] # [batch_size, 128].\n",
    "# [batch_size, seq_length, 128].\n",
    "\n",
    "sequence_output = outputs['sequence_output']"
   ]
  },
  {
   "cell_type": "markdown",
   "id": "canadian-industry",
   "metadata": {
    "tags": [],
    "toc-hr-collapsed": true
   },
   "source": [
    "##### Sample Convert to BERT Embedding"
   ]
  },
  {
   "cell_type": "code",
   "execution_count": 412,
   "id": "major-condition",
   "metadata": {},
   "outputs": [
    {
     "name": "stderr",
     "output_type": "stream",
     "text": [
      "2022-05-29 23:02:11.958773: I tensorflow/core/grappler/optimizers/custom_graph_optimizer_registry.cc:113] Plugin optimizer for device_type GPU is enabled.\n",
      "2022-05-29 23:02:12.132296: I tensorflow/core/grappler/optimizers/custom_graph_optimizer_registry.cc:113] Plugin optimizer for device_type GPU is enabled.\n"
     ]
    }
   ],
   "source": [
    "text = \"hello there who are you hello there who are you hello there who are you hello there who are you hello there who are you hello there who are you\"\n",
    "words = text.split()\n",
    "converted = stanzaTools.convertToEmbedding(words, preprocessor, encoder)"
   ]
  },
  {
   "cell_type": "code",
   "execution_count": 413,
   "id": "light-snake",
   "metadata": {},
   "outputs": [
    {
     "data": {
      "text/plain": [
       "(30, 128)"
      ]
     },
     "execution_count": 413,
     "metadata": {},
     "output_type": "execute_result"
    }
   ],
   "source": [
    "converted.shape"
   ]
  },
  {
   "cell_type": "code",
   "execution_count": 414,
   "id": "coordinate-softball",
   "metadata": {},
   "outputs": [],
   "source": [
    "converted = stanzaTools.convertToEmbedding(['!'], preprocessor, encoder)"
   ]
  },
  {
   "cell_type": "code",
   "execution_count": 415,
   "id": "international-hungary",
   "metadata": {},
   "outputs": [],
   "source": [
    "word = ['hello', 'there']\n",
    "convertedWords = stanzaTools.convertToEmbedding(word, preprocessor, encoder)"
   ]
  },
  {
   "cell_type": "code",
   "execution_count": 416,
   "id": "recorded-dealer",
   "metadata": {},
   "outputs": [
    {
     "data": {
      "text/plain": [
       "(2, 128)"
      ]
     },
     "execution_count": 416,
     "metadata": {},
     "output_type": "execute_result"
    }
   ],
   "source": [
    "convertedWords.shape"
   ]
  },
  {
   "cell_type": "code",
   "execution_count": null,
   "id": "5b1fa0e0-afc6-4610-b067-75aee0f31322",
   "metadata": {},
   "outputs": [],
   "source": []
  },
  {
   "cell_type": "markdown",
   "id": "da6de07d-5213-43a9-8165-75357ad7b281",
   "metadata": {},
   "source": [
    "#### Training Custom Embeddings"
   ]
  },
  {
   "cell_type": "markdown",
   "id": "72d67db5-e0f4-4c70-b0b7-3e1efff2ffaf",
   "metadata": {},
   "source": [
    "Tokenize and pad the train and val features"
   ]
  },
  {
   "cell_type": "code",
   "execution_count": 31,
   "id": "8a783f22-033d-4846-a666-4cfa3b01e9be",
   "metadata": {},
   "outputs": [],
   "source": [
    "from tensorflow.keras.preprocessing.sequence import pad_sequences"
   ]
  },
  {
   "cell_type": "code",
   "execution_count": 32,
   "id": "1cd8d724-0db9-4061-8c66-47e4bcd31511",
   "metadata": {},
   "outputs": [],
   "source": [
    "MAX_SEQUENCE_LENGTH = 256"
   ]
  },
  {
   "cell_type": "code",
   "execution_count": 33,
   "id": "7127cd8a-7599-402d-ba66-7f06c43dac78",
   "metadata": {},
   "outputs": [],
   "source": [
    "xTrain = customTokenizer.texts_to_sequences(trainFeatures)\n",
    "xTrain = pad_sequences(xTrain, maxlen=MAX_SEQUENCE_LENGTH, padding='post', truncating='post')"
   ]
  },
  {
   "cell_type": "code",
   "execution_count": 34,
   "id": "d3570a95-3cc4-4e31-832d-ae1b45fa57f2",
   "metadata": {},
   "outputs": [
    {
     "name": "stdout",
     "output_type": "stream",
     "text": [
      "(20000, 256)\n",
      "(20000,)\n"
     ]
    }
   ],
   "source": [
    "yTrain = np.array(trainLabels)\n",
    "print(xTrain.shape)\n",
    "print(yTrain.shape)"
   ]
  },
  {
   "cell_type": "code",
   "execution_count": 35,
   "id": "87bd63ca-cfb3-410f-8e67-f986ecefdb53",
   "metadata": {},
   "outputs": [],
   "source": [
    "xValidation = customTokenizer.texts_to_sequences(valFeatures)\n",
    "xValidation = pad_sequences(xValidation, maxlen=MAX_SEQUENCE_LENGTH, padding='post', truncating='post')"
   ]
  },
  {
   "cell_type": "code",
   "execution_count": 36,
   "id": "6e1a8bf1-c716-4ad6-a6fc-394e629f81d5",
   "metadata": {},
   "outputs": [
    {
     "name": "stdout",
     "output_type": "stream",
     "text": [
      "(5000, 256)\n",
      "(5000,)\n"
     ]
    }
   ],
   "source": [
    "yValidation = np.array(valLabels)\n",
    "print(xValidation.shape)\n",
    "print(yValidation.shape)"
   ]
  },
  {
   "cell_type": "code",
   "execution_count": 37,
   "id": "cf25d1c1-01c0-414b-ae91-9ab6b2dabe93",
   "metadata": {},
   "outputs": [],
   "source": [
    "testLimit = 25000"
   ]
  },
  {
   "cell_type": "code",
   "execution_count": 38,
   "id": "5c7c662b-644f-45e1-b7e6-f29f253b19fa",
   "metadata": {},
   "outputs": [],
   "source": [
    "xTest = customTokenizer.texts_to_sequences(testFeatures[0:testLimit])\n",
    "xTest = pad_sequences(xTest, maxlen=MAX_SEQUENCE_LENGTH, padding='post', truncating='post')"
   ]
  },
  {
   "cell_type": "code",
   "execution_count": 39,
   "id": "89556f98-b688-4503-945b-0e7af5337d18",
   "metadata": {},
   "outputs": [
    {
     "name": "stdout",
     "output_type": "stream",
     "text": [
      "(25000, 256)\n",
      "(25000,)\n"
     ]
    }
   ],
   "source": [
    "yTest = np.array(testLabels[0:testLimit])\n",
    "print(xTest.shape)\n",
    "print(yTest.shape)"
   ]
  },
  {
   "cell_type": "markdown",
   "id": "5ecae2e5-794f-40dc-a1b1-97432df859fa",
   "metadata": {},
   "source": [
    "Make the model"
   ]
  },
  {
   "cell_type": "code",
   "execution_count": 40,
   "id": "front-avenue",
   "metadata": {},
   "outputs": [],
   "source": [
    "def sampleModel():\n",
    "    sequence_input = tf.keras.layers.Input(shape=(MAX_SEQUENCE_LENGTH,), dtype='int32')\n",
    "    embedding_layer = tf.keras.layers.Embedding(30000,\n",
    "                                                16)(sequence_input)\n",
    "    pool = tf.keras.layers.GlobalAveragePooling1D()(embedding_layer)\n",
    "    dense_layer = tf.keras.layers.Dense(16, activation='relu')(pool)\n",
    "    dropout_layer = tf.keras.layers.Dropout(0.3)(dense_layer)\n",
    "    outputs = tf.keras.layers.Dense(1)(dropout_layer)\n",
    "\n",
    "    return tf.keras.Model(inputs=sequence_input, outputs=outputs)"
   ]
  },
  {
   "cell_type": "code",
   "execution_count": 41,
   "id": "preliminary-amateur",
   "metadata": {},
   "outputs": [
    {
     "name": "stdout",
     "output_type": "stream",
     "text": [
      "Model: \"model\"\n",
      "_________________________________________________________________\n",
      " Layer (type)                Output Shape              Param #   \n",
      "=================================================================\n",
      " input_1 (InputLayer)        [(None, 256)]             0         \n",
      "                                                                 \n",
      " embedding (Embedding)       (None, 256, 16)           480000    \n",
      "                                                                 \n",
      " global_average_pooling1d (G  (None, 16)               0         \n",
      " lobalAveragePooling1D)                                          \n",
      "                                                                 \n",
      " dense (Dense)               (None, 16)                272       \n",
      "                                                                 \n",
      " dropout (Dropout)           (None, 16)                0         \n",
      "                                                                 \n",
      " dense_1 (Dense)             (None, 1)                 17        \n",
      "                                                                 \n",
      "=================================================================\n",
      "Total params: 480,289\n",
      "Trainable params: 480,289\n",
      "Non-trainable params: 0\n",
      "_________________________________________________________________\n"
     ]
    }
   ],
   "source": [
    "tf.keras.backend.clear_session()\n",
    "embeddingModel = sampleModel()\n",
    "embeddingModel.summary()"
   ]
  },
  {
   "cell_type": "code",
   "execution_count": 42,
   "id": "beginning-tiffany",
   "metadata": {},
   "outputs": [],
   "source": [
    "embeddingModel.compile(\n",
    "    optimizer='adam',\n",
    "    loss=tf.keras.losses.BinaryCrossentropy(from_logits=True),\n",
    "    metrics=['accuracy'])"
   ]
  },
  {
   "cell_type": "code",
   "execution_count": 43,
   "id": "recreational-buffalo",
   "metadata": {
    "tags": []
   },
   "outputs": [
    {
     "name": "stdout",
     "output_type": "stream",
     "text": [
      "Epoch 1/5\n",
      "  1/625 [..............................] - ETA: 3:24 - loss: 0.6935 - accuracy: 0.4688"
     ]
    },
    {
     "name": "stderr",
     "output_type": "stream",
     "text": [
      "2022-06-05 13:45:42.978418: I tensorflow/core/grappler/optimizers/custom_graph_optimizer_registry.cc:113] Plugin optimizer for device_type GPU is enabled.\n"
     ]
    },
    {
     "name": "stdout",
     "output_type": "stream",
     "text": [
      "625/625 [==============================] - ETA: 0s - loss: 0.6017 - accuracy: 0.6027"
     ]
    },
    {
     "name": "stderr",
     "output_type": "stream",
     "text": [
      "2022-06-05 13:45:50.552826: I tensorflow/core/grappler/optimizers/custom_graph_optimizer_registry.cc:113] Plugin optimizer for device_type GPU is enabled.\n"
     ]
    },
    {
     "name": "stdout",
     "output_type": "stream",
     "text": [
      "625/625 [==============================] - 8s 13ms/step - loss: 0.6017 - accuracy: 0.6027 - val_loss: 0.4445 - val_accuracy: 0.7706\n",
      "Epoch 2/5\n",
      "625/625 [==============================] - 7s 11ms/step - loss: 0.3607 - accuracy: 0.8392 - val_loss: 0.3389 - val_accuracy: 0.8542\n",
      "Epoch 3/5\n",
      "625/625 [==============================] - 7s 11ms/step - loss: 0.2666 - accuracy: 0.8929 - val_loss: 0.3169 - val_accuracy: 0.8558\n",
      "Epoch 4/5\n",
      "625/625 [==============================] - 7s 11ms/step - loss: 0.2086 - accuracy: 0.9202 - val_loss: 0.3155 - val_accuracy: 0.8714\n",
      "Epoch 5/5\n",
      "625/625 [==============================] - 7s 12ms/step - loss: 0.1681 - accuracy: 0.9378 - val_loss: 0.3193 - val_accuracy: 0.8686\n"
     ]
    }
   ],
   "source": [
    "history = embeddingModel.fit(\n",
    "    xTrain,\n",
    "    yTrain,\n",
    "    validation_data=(xValidation, yValidation),\n",
    "    epochs=5,\n",
    "    verbose=1)"
   ]
  },
  {
   "cell_type": "code",
   "execution_count": 44,
   "id": "beneficial-gates",
   "metadata": {},
   "outputs": [
    {
     "name": "stdout",
     "output_type": "stream",
     "text": [
      "782/782 [==============================] - 3s 4ms/step - loss: 0.3558 - accuracy: 0.8477\n"
     ]
    }
   ],
   "source": [
    "results = embeddingModel.evaluate(x=xTest, y=yTest)"
   ]
  },
  {
   "cell_type": "markdown",
   "id": "2c30a116-776f-4498-b2fe-ea66a1e1b664",
   "metadata": {},
   "source": [
    "##### Sample Convert to Custom Embeddings"
   ]
  },
  {
   "cell_type": "code",
   "execution_count": 45,
   "id": "2c2ec222-b641-48ac-84ff-ebd6cfcb9cf8",
   "metadata": {},
   "outputs": [
    {
     "data": {
      "text/plain": [
       "<keras.layers.embeddings.Embedding at 0x2fa3afd00>"
      ]
     },
     "execution_count": 45,
     "metadata": {},
     "output_type": "execute_result"
    }
   ],
   "source": [
    "embeddingModel.layers[1]"
   ]
  },
  {
   "cell_type": "code",
   "execution_count": 46,
   "id": "de036072-ea80-4f9f-bce5-0c2bad2a7d58",
   "metadata": {},
   "outputs": [],
   "source": [
    "listOfWords = \"why did I do this\".split()"
   ]
  },
  {
   "cell_type": "code",
   "execution_count": 47,
   "id": "e2ac64d6-2d10-4747-a55a-054aafab98a2",
   "metadata": {},
   "outputs": [
    {
     "data": {
      "text/plain": [
       "['why', 'did', 'I', 'do', 'this']"
      ]
     },
     "execution_count": 47,
     "metadata": {},
     "output_type": "execute_result"
    }
   ],
   "source": [
    "listOfWords"
   ]
  },
  {
   "cell_type": "code",
   "execution_count": 48,
   "id": "5a85901d-ad74-45c2-a780-a370fc904d69",
   "metadata": {},
   "outputs": [],
   "source": [
    "sequence = customTokenizer.texts_to_sequences(listOfWords)"
   ]
  },
  {
   "cell_type": "code",
   "execution_count": 49,
   "id": "dca0d1fd-aea6-4b8b-9c5b-580fe65d166c",
   "metadata": {},
   "outputs": [
    {
     "data": {
      "text/plain": [
       "[[147], [83], [12], [50], [13]]"
      ]
     },
     "execution_count": 49,
     "metadata": {},
     "output_type": "execute_result"
    }
   ],
   "source": [
    "sequence"
   ]
  },
  {
   "cell_type": "code",
   "execution_count": 50,
   "id": "8d93ba14-5113-4b8a-8c82-578f76a504fa",
   "metadata": {},
   "outputs": [],
   "source": [
    "reshapedSeq = np.array(sequence).reshape((len(sequence),))"
   ]
  },
  {
   "cell_type": "code",
   "execution_count": 51,
   "id": "70c75abd-1bd9-4475-87b1-3a47b5c8bbec",
   "metadata": {},
   "outputs": [
    {
     "data": {
      "text/plain": [
       "array([147,  83,  12,  50,  13])"
      ]
     },
     "execution_count": 51,
     "metadata": {},
     "output_type": "execute_result"
    }
   ],
   "source": [
    "reshapedSeq"
   ]
  },
  {
   "cell_type": "code",
   "execution_count": 52,
   "id": "d7da9733-e41b-4727-9373-b1b8c883cb48",
   "metadata": {},
   "outputs": [],
   "source": [
    "embeddedSeq = embeddingModel.layers[1](reshapedSeq)"
   ]
  },
  {
   "cell_type": "code",
   "execution_count": 53,
   "id": "f638bb85-6c2f-4396-9b96-98f30be6548e",
   "metadata": {},
   "outputs": [
    {
     "data": {
      "text/plain": [
       "array([[-0.16587679, -0.08729501, -0.12755346, -0.08553877,  0.19651899,\n",
       "        -0.01244873, -0.12792438, -0.1218015 , -0.17887527,  0.07490987,\n",
       "         0.1298042 , -0.16507824, -0.12040664, -0.07271705, -0.16211967,\n",
       "        -0.0834209 ],\n",
       "       [-0.1312187 , -0.09563148, -0.08322562, -0.08658681,  0.08645012,\n",
       "        -0.15502213, -0.1118541 , -0.11504931, -0.12371798,  0.16697907,\n",
       "         0.07512889, -0.09065549, -0.11314822, -0.08117249, -0.13999839,\n",
       "        -0.07805964],\n",
       "       [-0.01169532,  0.03246408,  0.06823573,  0.01454639,  0.09759314,\n",
       "        -0.0074216 , -0.07216498,  0.03062552, -0.03020326,  0.0336643 ,\n",
       "        -0.04626885, -0.02542773,  0.01829795,  0.00937171,  0.08194011,\n",
       "         0.06704746],\n",
       "       [-0.08259365, -0.04305899, -0.06273693, -0.1290626 ,  0.10760158,\n",
       "        -0.04251262, -0.06780762, -0.04840063, -0.13261156,  0.11071557,\n",
       "         0.09467173, -0.06407996, -0.09109495, -0.06806285, -0.10263595,\n",
       "        -0.10443996],\n",
       "       [-0.17060183,  0.01002978, -0.01612808, -0.08193212,  0.26443136,\n",
       "        -0.07677707, -0.0946554 ,  0.01306137, -0.10373602,  0.0345821 ,\n",
       "        -0.03752484, -0.06995008,  0.02553128, -0.00856932, -0.03486453,\n",
       "         0.06142823]], dtype=float32)"
      ]
     },
     "execution_count": 53,
     "metadata": {},
     "output_type": "execute_result"
    }
   ],
   "source": [
    "np.array(embeddedSeq)"
   ]
  },
  {
   "cell_type": "markdown",
   "id": "99fe2c4a-9b57-4e3c-9c6f-44a8e10f1a0b",
   "metadata": {},
   "source": [
    "#### convertToCustomEmbedding"
   ]
  },
  {
   "cell_type": "code",
   "execution_count": 54,
   "id": "064c2287-09f2-4b1f-9851-5b5001d1fb4d",
   "metadata": {},
   "outputs": [],
   "source": [
    "def convertToCustomEmbedding(words):\n",
    "    \"\"\"\n",
    "    Takes a list of words and converts it to a list of custom embeddings. \n",
    "\n",
    "    Args:\n",
    "        words - (list) The list of words to convert\n",
    "    Returns:\n",
    "        embeddings - (list) A list of embeddings\n",
    "    \"\"\"\n",
    "    sequence = customTokenizer.texts_to_sequences(words)\n",
    "    reshapedSeq = np.array([item[0] for item in sequence])\n",
    "    try:\n",
    "        convertedWords = embeddingModel.layers[1](reshapedSeq)\n",
    "    except:\n",
    "        print(words)\n",
    "        print(reshapedSeq)\n",
    "    return np.array(convertedWords)"
   ]
  },
  {
   "cell_type": "markdown",
   "id": "genuine-application",
   "metadata": {},
   "source": [
    "### Convert Data to Graph Format"
   ]
  },
  {
   "cell_type": "code",
   "execution_count": 55,
   "id": "44add8bb-6a06-4095-87d9-65c7abf300cc",
   "metadata": {},
   "outputs": [
    {
     "data": {
      "application/vnd.jupyter.widget-view+json": {
       "model_id": "a7946aa7282a49138d617f46462237be",
       "version_major": 2,
       "version_minor": 0
      },
      "text/plain": [
       "Downloading https://raw.githubusercontent.com/stanfordnlp/stanza-resources/main/resources_1.4.0.json:   0%|   …"
      ]
     },
     "metadata": {},
     "output_type": "display_data"
    },
    {
     "name": "stderr",
     "output_type": "stream",
     "text": [
      "2022-06-05 13:46:46 WARNING: Can not find mwt: default from official model list. Ignoring it.\n",
      "WARNING:stanza:Can not find mwt: default from official model list. Ignoring it.\n",
      "2022-06-05 13:46:46 INFO: Loading these models for language: en (English):\n",
      "========================\n",
      "| Processor | Package  |\n",
      "------------------------\n",
      "| tokenize  | combined |\n",
      "| pos       | combined |\n",
      "| lemma     | combined |\n",
      "| depparse  | combined |\n",
      "| sentiment | sstplus  |\n",
      "========================\n",
      "\n",
      "INFO:stanza:Loading these models for language: en (English):\n",
      "========================\n",
      "| Processor | Package  |\n",
      "------------------------\n",
      "| tokenize  | combined |\n",
      "| pos       | combined |\n",
      "| lemma     | combined |\n",
      "| depparse  | combined |\n",
      "| sentiment | sstplus  |\n",
      "========================\n",
      "\n",
      "2022-06-05 13:46:46 INFO: Use device: cpu\n",
      "INFO:stanza:Use device: cpu\n",
      "2022-06-05 13:46:46 INFO: Loading: tokenize\n",
      "INFO:stanza:Loading: tokenize\n",
      "2022-06-05 13:46:46 INFO: Loading: pos\n",
      "INFO:stanza:Loading: pos\n",
      "2022-06-05 13:46:46 INFO: Loading: lemma\n",
      "INFO:stanza:Loading: lemma\n",
      "2022-06-05 13:46:46 INFO: Loading: depparse\n",
      "INFO:stanza:Loading: depparse\n",
      "2022-06-05 13:46:47 INFO: Loading: sentiment\n",
      "INFO:stanza:Loading: sentiment\n",
      "2022-06-05 13:46:47 INFO: Done loading processors!\n",
      "INFO:stanza:Done loading processors!\n"
     ]
    }
   ],
   "source": [
    "nlp = stanza.Pipeline(\n",
    "    'en',\n",
    "    processors = 'tokenize,mwt,pos,lemma,depparse, sentiment')"
   ]
  },
  {
   "cell_type": "markdown",
   "id": "79b2c8a2-1097-48bc-aea6-36d46410beab",
   "metadata": {
    "tags": []
   },
   "source": [
    "#### convertToGraph"
   ]
  },
  {
   "cell_type": "code",
   "execution_count": 57,
   "id": "8c67e0e3-9128-4d5e-bc81-67db68fd3fcd",
   "metadata": {},
   "outputs": [],
   "source": [
    "def convertToGraph(sentence, label):\n",
    "    doc = nlp(sentence)\n",
    "    newGraph = createGraphAlpha(doc, label)\n",
    "    del(doc)\n",
    "    return newGraph"
   ]
  },
  {
   "cell_type": "code",
   "execution_count": 58,
   "id": "e7ff2024-50d2-4d8d-9ae1-8b88db5df1e8",
   "metadata": {},
   "outputs": [],
   "source": [
    "numTrain = len(trainFeatures)\n",
    "numVal = len(valFeatures)\n",
    "numTest = 25000"
   ]
  },
  {
   "cell_type": "code",
   "execution_count": 59,
   "id": "468ed815-747b-4f82-9547-323549ef88fb",
   "metadata": {},
   "outputs": [
    {
     "name": "stdout",
     "output_type": "stream",
     "text": [
      "2365.103293667\n"
     ]
    }
   ],
   "source": [
    "startTime = time.perf_counter()\n",
    "# trainGraphs = [convertToGraph(trainFeatures[i], trainLabels[i]) for i in range(10)]\n",
    "trainGraphs = joblib.Parallel(n_jobs=8, prefer=\"threads\")(joblib.delayed(convertToGraph)(trainFeatures[i], trainLabels[i]) for i in range(numTrain))\n",
    "timeElapsed = time.perf_counter() - startTime\n",
    "print(timeElapsed)"
   ]
  },
  {
   "cell_type": "code",
   "execution_count": 60,
   "id": "c9545999-eab0-409b-b0cd-eaceca12f36b",
   "metadata": {},
   "outputs": [
    {
     "data": {
      "text/plain": [
       "[(158, 16),\n",
       " (449, 16),\n",
       " (72, 16),\n",
       " (170, 16),\n",
       " (420, 16),\n",
       " (339, 16),\n",
       " (254, 16),\n",
       " (148, 16),\n",
       " (204, 16),\n",
       " (65, 16)]"
      ]
     },
     "execution_count": 60,
     "metadata": {},
     "output_type": "execute_result"
    }
   ],
   "source": [
    "[item[0].shape for item in trainGraphs[0:10]]"
   ]
  },
  {
   "cell_type": "code",
   "execution_count": 68,
   "id": "0ba81c9c-39fc-40d6-8729-70a912dcdd9d",
   "metadata": {},
   "outputs": [
    {
     "data": {
      "text/plain": [
       "5000"
      ]
     },
     "execution_count": 68,
     "metadata": {},
     "output_type": "execute_result"
    }
   ],
   "source": [
    "numVal"
   ]
  },
  {
   "cell_type": "code",
   "execution_count": 69,
   "id": "b7d99bb0-b8ad-4cde-93f1-df62f4eb5e27",
   "metadata": {},
   "outputs": [
    {
     "name": "stdout",
     "output_type": "stream",
     "text": [
      "598.567038917\n"
     ]
    }
   ],
   "source": [
    "startTime = time.perf_counter()\n",
    "validationGraphs = joblib.Parallel(n_jobs=8, prefer=\"threads\")(joblib.delayed(convertToGraph)(valFeatures[i], valLabels[i]) for i in range(numVal))\n",
    "timeElapsed = time.perf_counter() - startTime\n",
    "print(timeElapsed)"
   ]
  },
  {
   "cell_type": "code",
   "execution_count": 70,
   "id": "3bc551c9-a64b-46e5-b8e2-76481f3067e9",
   "metadata": {},
   "outputs": [
    {
     "data": {
      "text/plain": [
       "[(134, 16), (134, 134), (125, 51), (1,)]"
      ]
     },
     "execution_count": 70,
     "metadata": {},
     "output_type": "execute_result"
    }
   ],
   "source": [
    "[item.shape for item in validationGraphs[0]]"
   ]
  },
  {
   "cell_type": "code",
   "execution_count": 71,
   "id": "4fa88f76-9483-4f1a-9dee-0e62cdfbbbc9",
   "metadata": {},
   "outputs": [
    {
     "name": "stdout",
     "output_type": "stream",
     "text": [
      "3020.2907242500005\n"
     ]
    }
   ],
   "source": [
    "startTime = time.perf_counter()\n",
    "testGraphs = joblib.Parallel(n_jobs=8, prefer=\"threads\")(joblib.delayed(convertToGraph)(testFeatures[i], testLabels[i]) for i in range(numTest))\n",
    "timeElapsed = time.perf_counter() - startTime\n",
    "print(timeElapsed)"
   ]
  },
  {
   "cell_type": "code",
   "execution_count": 72,
   "id": "2439caa6-d710-41cc-923e-ae09a6d5ef08",
   "metadata": {},
   "outputs": [
    {
     "data": {
      "text/plain": [
       "[(220, 16), (220, 220), (210, 51), (1,)]"
      ]
     },
     "execution_count": 72,
     "metadata": {},
     "output_type": "execute_result"
    }
   ],
   "source": [
    "[item.shape for item in testGraphs[0]]"
   ]
  },
  {
   "cell_type": "markdown",
   "id": "dd47af7b-5070-4c98-9653-cf2df26f2bff",
   "metadata": {
    "jp-MarkdownHeadingCollapsed": true,
    "tags": []
   },
   "source": [
    "#### Speed test"
   ]
  },
  {
   "cell_type": "code",
   "execution_count": 802,
   "id": "42961004-89e0-41d7-b0fe-1ab98a98f387",
   "metadata": {},
   "outputs": [],
   "source": [
    "sentences = []\n",
    "labels = []\n",
    "for i in range(10):\n",
    "    sentence = trainFeatures[i]\n",
    "    label = trainLabels[i]\n",
    "    sentences.append(sentence)\n",
    "    labels.append(label)"
   ]
  },
  {
   "cell_type": "code",
   "execution_count": 871,
   "id": "e87e8bbf-b5d4-4051-85d7-a2c1b6ab1fcd",
   "metadata": {},
   "outputs": [
    {
     "name": "stdout",
     "output_type": "stream",
     "text": [
      "I love this show!  Every time i watch an episode i repeat that line and remind myself how good of a \n",
      "I gave it a 10, since everyone else seemed to like it and it would have been churlish not to. The re\n",
      "Considering its pedigree, this should be a far more enjoyable film than it is. Even with a lip-smack\n",
      "Give this movie a break! Its worth at least a \"7\"! That little girl is a good actor and she's cute, \n",
      "Actually had to stop it. Don't get me wrong, love bad monster movies. But this one was way too borin\n"
     ]
    }
   ],
   "source": [
    "for sentence in sentences[0:5]:\n",
    "    print(sentence[0:100])"
   ]
  },
  {
   "cell_type": "code",
   "execution_count": 803,
   "id": "d0a2cb05-a626-4d98-acae-c56e4fc8ec76",
   "metadata": {},
   "outputs": [],
   "source": [
    "import time"
   ]
  },
  {
   "cell_type": "code",
   "execution_count": 804,
   "id": "9eda0e62-b80c-47b8-929d-6fff7971b874",
   "metadata": {},
   "outputs": [
    {
     "name": "stdout",
     "output_type": "stream",
     "text": [
      "3.5648865830007708\n"
     ]
    }
   ],
   "source": [
    "startTime = time.perf_counter()\n",
    "docs = []\n",
    "for sentence in sentences:\n",
    "    doc = nlp(sentence)\n",
    "    docs.append(doc)\n",
    "timeElapsed = time.perf_counter() - startTime\n",
    "print(timeElapsed)"
   ]
  },
  {
   "cell_type": "code",
   "execution_count": 872,
   "id": "285121b4-3200-4e7b-9502-4ff0d102990f",
   "metadata": {},
   "outputs": [
    {
     "name": "stdout",
     "output_type": "stream",
     "text": [
      "I love this show!\n",
      "I gave it a 10, since everyone else seemed to like it and it would have been churlish not to.\n",
      "Considering its pedigree, this should be a far more enjoyable film than it is.\n",
      "Give this movie a break!\n",
      "Actually had to stop it.\n"
     ]
    }
   ],
   "source": [
    "for doc in docs[0:5]:\n",
    "    print(doc.sentences[0].text)"
   ]
  },
  {
   "cell_type": "code",
   "execution_count": 873,
   "id": "2fc03d38-bc35-4a13-94b5-e872e6e61f4f",
   "metadata": {},
   "outputs": [],
   "source": [
    "def runDepenParse(sentence):\n",
    "    return(nlp(sentence))"
   ]
  },
  {
   "cell_type": "code",
   "execution_count": 880,
   "id": "767ee204-73e5-4ef0-8a21-8de58a8c766f",
   "metadata": {},
   "outputs": [
    {
     "name": "stdout",
     "output_type": "stream",
     "text": [
      "1.400063583991141\n"
     ]
    }
   ],
   "source": [
    "startTime = time.perf_counter()\n",
    "parallelDocs = joblib.Parallel(n_jobs=8, prefer=\"threads\")(joblib.delayed(nlp)(sentences[i]) for i in range(len(sentences)))\n",
    "timeElapsed = time.perf_counter() - startTime\n",
    "print(timeElapsed)"
   ]
  },
  {
   "cell_type": "code",
   "execution_count": 881,
   "id": "674476bd-77a3-4190-a1c3-0a959b6448ee",
   "metadata": {},
   "outputs": [
    {
     "name": "stdout",
     "output_type": "stream",
     "text": [
      "I love this show!\n",
      "I gave it a 10, since everyone else seemed to like it and it would have been churlish not to.\n",
      "Considering its pedigree, this should be a far more enjoyable film than it is.\n",
      "Give this movie a break!\n",
      "Actually had to stop it.\n"
     ]
    }
   ],
   "source": [
    "for doc in parallelDocs[0:5]:\n",
    "    print(doc.sentences[0].text)"
   ]
  },
  {
   "cell_type": "code",
   "execution_count": 815,
   "id": "51561309-1bb7-460c-843c-0fbf69cbe06e",
   "metadata": {},
   "outputs": [
    {
     "name": "stdout",
     "output_type": "stream",
     "text": [
      "[0.0016565000114496797, 0.8239069159899373, 4.258399712853134e-05]\n",
      "[0.0005920830008108169, 0.880328291998012, 5.966699973214418e-05]\n",
      "[0.0004295000107958913, 0.5279259999952046, 4.3624997488223016e-05]\n",
      "[0.00021374999778345227, 0.1548051249992568, 2.400000812485814e-05]\n",
      "[0.0004080420039827004, 0.41955416700511705, 3.466599446255714e-05]\n",
      "[0.0003648330020951107, 0.38100525000481866, 3.6124998587183654e-05]\n",
      "[8.412500028498471e-05, 0.050149124988820404, 1.2541000614874065e-05]\n",
      "[0.00044112501200288534, 0.6078953749965876, 4.849999095313251e-05]\n",
      "[0.0008354589954251423, 1.7352896660013357, 6.474999827332795e-05]\n",
      "[0.0004531250015133992, 0.6398550419980893, 4.225000157020986e-05]\n",
      "6.228190624999115\n"
     ]
    }
   ],
   "source": [
    "performanceTest = []\n",
    "startTime = time.perf_counter()\n",
    "for i in range(len(docs)):\n",
    "    doc = docs[i]\n",
    "    label = labels[i]\n",
    "    newGraph = createGraph(doc, label)\n",
    "    performanceTest.append(newGraph)\n",
    "timeElapsed = time.perf_counter() - startTime\n",
    "print(timeElapsed)"
   ]
  },
  {
   "cell_type": "code",
   "execution_count": 821,
   "id": "8448e940-8289-41e9-a24c-ef4e81f7d5b8",
   "metadata": {},
   "outputs": [
    {
     "data": {
      "text/plain": [
       "(68, 128)"
      ]
     },
     "execution_count": 821,
     "metadata": {},
     "output_type": "execute_result"
    }
   ],
   "source": [
    "performanceTest[0][0].shape"
   ]
  },
  {
   "cell_type": "code",
   "execution_count": 823,
   "id": "bd3d2628-c115-4d30-af0e-e6329745362f",
   "metadata": {},
   "outputs": [
    {
     "name": "stderr",
     "output_type": "stream",
     "text": [
      "2022-05-30 20:44:46.623199: I tensorflow/core/grappler/optimizers/custom_graph_optimizer_registry.cc:113] Plugin optimizer for device_type GPU is enabled.\n"
     ]
    },
    {
     "name": "stdout",
     "output_type": "stream",
     "text": [
      "[0.0014568749902537093, 0.650831000006292, 4.850000550504774e-05]\n"
     ]
    },
    {
     "name": "stderr",
     "output_type": "stream",
     "text": [
      "2022-05-30 20:44:47.259807: I tensorflow/core/grappler/optimizers/custom_graph_optimizer_registry.cc:113] Plugin optimizer for device_type GPU is enabled.\n"
     ]
    },
    {
     "name": "stdout",
     "output_type": "stream",
     "text": [
      "[0.000592500000493601, 1.0497337500128197, 5.037499067839235e-05]\n"
     ]
    },
    {
     "name": "stderr",
     "output_type": "stream",
     "text": [
      "2022-05-30 20:44:48.308816: I tensorflow/core/grappler/optimizers/custom_graph_optimizer_registry.cc:113] Plugin optimizer for device_type GPU is enabled.\n"
     ]
    },
    {
     "name": "stdout",
     "output_type": "stream",
     "text": [
      "[0.00040020800952333957, 0.6706725839903811, 4.2750005377456546e-05]\n"
     ]
    },
    {
     "name": "stderr",
     "output_type": "stream",
     "text": [
      "2022-05-30 20:44:48.981627: I tensorflow/core/grappler/optimizers/custom_graph_optimizer_registry.cc:113] Plugin optimizer for device_type GPU is enabled.\n"
     ]
    },
    {
     "name": "stdout",
     "output_type": "stream",
     "text": [
      "[0.0002625420020194724, 0.2348579579993384, 2.4708002456463873e-05]\n"
     ]
    },
    {
     "name": "stderr",
     "output_type": "stream",
     "text": [
      "2022-05-30 20:44:49.218482: I tensorflow/core/grappler/optimizers/custom_graph_optimizer_registry.cc:113] Plugin optimizer for device_type GPU is enabled.\n"
     ]
    },
    {
     "name": "stdout",
     "output_type": "stream",
     "text": [
      "[0.00036829200689680874, 0.42855179199250415, 3.783300053328276e-05]\n"
     ]
    },
    {
     "name": "stderr",
     "output_type": "stream",
     "text": [
      "2022-05-30 20:44:49.645511: I tensorflow/core/grappler/optimizers/custom_graph_optimizer_registry.cc:113] Plugin optimizer for device_type GPU is enabled.\n"
     ]
    },
    {
     "name": "stdout",
     "output_type": "stream",
     "text": [
      "[0.0003355830122018233, 0.39810258299985435, 3.258399374317378e-05]\n",
      "[7.166700379457325e-05, 0.10051387498970143, 1.4375007594935596e-05]\n"
     ]
    },
    {
     "name": "stderr",
     "output_type": "stream",
     "text": [
      "2022-05-30 20:44:50.043553: I tensorflow/core/grappler/optimizers/custom_graph_optimizer_registry.cc:113] Plugin optimizer for device_type GPU is enabled.\n",
      "2022-05-30 20:44:50.145551: I tensorflow/core/grappler/optimizers/custom_graph_optimizer_registry.cc:113] Plugin optimizer for device_type GPU is enabled.\n"
     ]
    },
    {
     "name": "stdout",
     "output_type": "stream",
     "text": [
      "[0.00044062500819563866, 0.6135991249902872, 4.1000006604008377e-05]\n"
     ]
    },
    {
     "name": "stderr",
     "output_type": "stream",
     "text": [
      "2022-05-30 20:44:50.759863: I tensorflow/core/grappler/optimizers/custom_graph_optimizer_registry.cc:113] Plugin optimizer for device_type GPU is enabled.\n"
     ]
    },
    {
     "name": "stdout",
     "output_type": "stream",
     "text": [
      "[0.0006962500046938658, 1.3325668750039767, 6.137500167824328e-05]\n"
     ]
    },
    {
     "name": "stderr",
     "output_type": "stream",
     "text": [
      "2022-05-30 20:44:52.093539: I tensorflow/core/grappler/optimizers/custom_graph_optimizer_registry.cc:113] Plugin optimizer for device_type GPU is enabled.\n"
     ]
    },
    {
     "name": "stdout",
     "output_type": "stream",
     "text": [
      "[0.0004484169912757352, 0.6950325420039007, 3.9165999623946846e-05]\n",
      "6.181251499991049\n"
     ]
    }
   ],
   "source": [
    "performanceCustomTest = []\n",
    "startTime = time.perf_counter()\n",
    "for i in range(len(docs)):\n",
    "    doc = docs[i]\n",
    "    label = labels[i]\n",
    "    newGraph = createCustomGraph(doc, label)\n",
    "    performanceCustomTest.append(newGraph)\n",
    "timeElapsed = time.perf_counter() - startTime\n",
    "print(timeElapsed)"
   ]
  },
  {
   "cell_type": "code",
   "execution_count": 834,
   "id": "97b37c23-798f-4d78-bf84-a9e850562730",
   "metadata": {},
   "outputs": [
    {
     "data": {
      "text/plain": [
       "(68, 10)"
      ]
     },
     "execution_count": 834,
     "metadata": {},
     "output_type": "execute_result"
    }
   ],
   "source": [
    "performanceCustomTest[0][0].shape"
   ]
  },
  {
   "cell_type": "code",
   "execution_count": 883,
   "id": "1ccb156d-52a6-427c-9e79-b312e4f9899b",
   "metadata": {},
   "outputs": [
    {
     "name": "stdout",
     "output_type": "stream",
     "text": [
      "68\n",
      "91\n",
      "67\n",
      "29\n",
      "56\n",
      "55\n",
      "8\n",
      "69\n",
      "113\n",
      "73\n",
      "0.04741829200065695\n"
     ]
    }
   ],
   "source": [
    "performanceCustomTest2 = []\n",
    "startTime = time.perf_counter()\n",
    "for i in range(len(docs)):\n",
    "    doc = docs[i]\n",
    "    label = labels[i]\n",
    "    newGraph = createGraphAlpha(doc, label)\n",
    "    performanceCustomTest2.append(newGraph)\n",
    "timeElapsed = time.perf_counter() - startTime\n",
    "print(timeElapsed)"
   ]
  },
  {
   "cell_type": "code",
   "execution_count": 867,
   "id": "7b350c6e-1af5-4e56-9494-6ffcc94c4841",
   "metadata": {},
   "outputs": [
    {
     "data": {
      "text/plain": [
       "(68, 10)"
      ]
     },
     "execution_count": 867,
     "metadata": {},
     "output_type": "execute_result"
    }
   ],
   "source": [
    "performanceCustomTest2[0][0].shape"
   ]
  },
  {
   "cell_type": "code",
   "execution_count": 863,
   "id": "296ada08-fc49-4037-9bee-24515cc1b88c",
   "metadata": {},
   "outputs": [
    {
     "data": {
      "text/plain": [
       "Graph(n_nodes=68, n_node_features=10, n_edge_features=51, n_labels=1)"
      ]
     },
     "execution_count": 863,
     "metadata": {},
     "output_type": "execute_result"
    }
   ],
   "source": [
    "Graph(performanceCustomTest2[0][0], performanceCustomTest2[0][1], performanceCustomTest2[0][2], performanceCustomTest2[0][3])"
   ]
  },
  {
   "cell_type": "code",
   "execution_count": 859,
   "id": "3786527c-bf19-4973-bab8-c3058f60c4b6",
   "metadata": {},
   "outputs": [
    {
     "data": {
      "text/plain": [
       "array([1])"
      ]
     },
     "execution_count": 859,
     "metadata": {},
     "output_type": "execute_result"
    }
   ],
   "source": [
    "performanceCustomTest2[0][3]"
   ]
  },
  {
   "cell_type": "code",
   "execution_count": null,
   "id": "602a0cbc-80e5-42ac-abab-433212046c1b",
   "metadata": {},
   "outputs": [],
   "source": []
  },
  {
   "cell_type": "markdown",
   "id": "deluxe-globe",
   "metadata": {},
   "source": [
    "### Custom Graph Datasets"
   ]
  },
  {
   "cell_type": "code",
   "execution_count": 7,
   "id": "stone-booking",
   "metadata": {},
   "outputs": [],
   "source": [
    "from spektral.data import Dataset \n",
    "from spektral.data.graph import Graph\n",
    "import os"
   ]
  },
  {
   "cell_type": "code",
   "execution_count": 8,
   "id": "specified-vector",
   "metadata": {},
   "outputs": [],
   "source": [
    "class TrainDataset(Dataset):\n",
    "    \"\"\"\n",
    "    A dataset of train graphs.\n",
    "    \"\"\"\n",
    "    def __init__(self, **kwargs):\n",
    "        # self.path = savePath\n",
    "        # self.download()\n",
    "        super().__init__(**kwargs)\n",
    "    \n",
    "    def download(self):\n",
    "        # data = ... \n",
    "        # Download from somewhere\n",
    "\n",
    "        # Create the directory\n",
    "        try:\n",
    "            os.mkdir(self.path)\n",
    "        except:\n",
    "            pass\n",
    "\n",
    "        # Write the data to file\n",
    "        for i in range(len(trainGraphs)):\n",
    "            x = trainGraphs[i][0]\n",
    "            a = trainGraphs[i][1]\n",
    "            e = trainGraphs[i][2]\n",
    "            y = trainGraphs[i][3]\n",
    "\n",
    "            filename = os.path.join(self.path, f'graph_{i}')\n",
    "            np.savez(filename, x=x, a=a, e=e, y=y)\n",
    "            \n",
    "\n",
    "    def read(self):\n",
    "        # We must return a list of Graph objects\n",
    "        output = []\n",
    "\n",
    "        for i in range(len(trainGraphs)):\n",
    "            data = np.load(os.path.join(self.path, f'graph_{i}.npz'), allow_pickle=True)\n",
    "            # print(data['a'])\n",
    "            output.append(\n",
    "                Graph(x=data['x'], a=data['a'], e=data['e'], y=data['y'])\n",
    "            )\n",
    "        return output"
   ]
  },
  {
   "cell_type": "code",
   "execution_count": 9,
   "id": "reduced-tokyo",
   "metadata": {},
   "outputs": [],
   "source": [
    "class ValDataset(Dataset):\n",
    "    \"\"\"\n",
    "    A dataset of val graphs.\n",
    "    \"\"\"\n",
    "    def __init__(self, **kwargs):\n",
    "        # self.path = savePath\n",
    "        # self.download()\n",
    "        super().__init__(**kwargs)\n",
    "    \n",
    "    def download(self):\n",
    "        # data = ... \n",
    "        # Download from somewhere\n",
    "\n",
    "        # Create the directory\n",
    "        try:\n",
    "            os.mkdir(self.path)\n",
    "        except:\n",
    "            pass\n",
    "\n",
    "        # Write the data to file\n",
    "        for i in range(len(validationGraphs)):\n",
    "            x = validationGraphs[i][0]\n",
    "            a = validationGraphs[i][1]\n",
    "            e = validationGraphs[i][2]\n",
    "            y = validationGraphs[i][3]\n",
    "\n",
    "            filename = os.path.join(self.path, f'graph_val_{i}')\n",
    "            np.savez(filename, x=x, a=a, e=e, y=y)\n",
    "            \n",
    "\n",
    "    def read(self):\n",
    "        # We must return a list of Graph objects\n",
    "        output = []\n",
    "\n",
    "        for i in range(len(validationGraphs)):\n",
    "            data = np.load(os.path.join(self.path, f'graph_val_{i}.npz'), allow_pickle=True)\n",
    "            # print(data['a'])\n",
    "            output.append(\n",
    "                Graph(x=data['x'], a=data['a'], e=data['e'], y=data['y'])\n",
    "            )\n",
    "        return output"
   ]
  },
  {
   "cell_type": "code",
   "execution_count": 10,
   "id": "c050412f-d9d1-45ee-92ba-460dcabd0747",
   "metadata": {},
   "outputs": [],
   "source": [
    "class TestDataset(Dataset):\n",
    "    \"\"\"\n",
    "    A dataset of val graphs.\n",
    "    \"\"\"\n",
    "    def __init__(self, **kwargs):\n",
    "        # self.download()\n",
    "        super().__init__(**kwargs)\n",
    "    \n",
    "    def download(self):\n",
    "        # data = ... \n",
    "        # Download from somewhere\n",
    "\n",
    "        # Create the directory\n",
    "        try:\n",
    "            os.mkdir(self.path)\n",
    "        except:\n",
    "            pass\n",
    "\n",
    "        # Write the data to file\n",
    "        for i in range(len(testGraphs)):\n",
    "            x = testGraphs[i][0]\n",
    "            a = testGraphs[i][1]\n",
    "            e = testGraphs[i][2]\n",
    "            y = testGraphs[i][3]\n",
    "\n",
    "            filename = os.path.join(self.path, f'graph_test_{i}')\n",
    "            np.savez(filename, x=x, a=a, e=e, y=y)\n",
    "            \n",
    "\n",
    "    def read(self):\n",
    "        # We must return a list of Graph objects\n",
    "        output = []\n",
    "\n",
    "        for i in range(len(testGraphs)):\n",
    "            data = np.load(os.path.join(self.path, f'graph_test_{i}.npz'), allow_pickle=True)\n",
    "            # print(data['a'])\n",
    "            output.append(\n",
    "                Graph(x=data['x'], a=data['a'], e=data['e'], y=data['y'])\n",
    "            )\n",
    "        return output"
   ]
  },
  {
   "cell_type": "code",
   "execution_count": 11,
   "id": "0694682e-db68-4ccb-ace1-fe3dd995cda6",
   "metadata": {},
   "outputs": [],
   "source": [
    "def loadValGraph(graphDir, index):\n",
    "    data = np.load(os.path.join(graphDir, f'graph_val_{index}.npz'), allow_pickle=True)\n",
    "    graph = Graph(x=data['x'], a=data['a'], e=data['e'], y=data['y'])\n",
    "    return graph\n",
    "\n",
    "def loadTrainGraph(graphDir, index):\n",
    "    data = np.load(os.path.join(graphDir, f'graph_{index}.npz'), allow_pickle=True)\n",
    "    graph = Graph(x=data['x'], a=data['a'], e=data['e'], y=data['y'])\n",
    "    return graph\n",
    "\n",
    "def loadTestGraph(graphDir, index):\n",
    "    data = np.load(os.path.join(graphDir, f'graph_test_{index}.npz'), allow_pickle=True)\n",
    "    graph = Graph(x=data['x'], a=data['a'], e=data['e'], y=data['y'])\n",
    "    return graph"
   ]
  },
  {
   "cell_type": "code",
   "execution_count": 12,
   "id": "1ecb711e-a662-4a23-bd35-0945506a9dfc",
   "metadata": {},
   "outputs": [],
   "source": [
    "# to load prev generated val graphs\n",
    "valGraphDir = '/Users/zeyuyang/spektral/datasets/ValDataset'\n",
    "valGraphNum = 5000\n",
    "validationGraphs = [loadValGraph(valGraphDir, i) for i in range(valGraphNum)]"
   ]
  },
  {
   "cell_type": "code",
   "execution_count": 13,
   "id": "sophisticated-reservation",
   "metadata": {},
   "outputs": [
    {
     "data": {
      "text/plain": [
       "ValDataset(n_graphs=5000)"
      ]
     },
     "execution_count": 13,
     "metadata": {},
     "output_type": "execute_result"
    }
   ],
   "source": [
    "valDataset = ValDataset()\n",
    "valDataset"
   ]
  },
  {
   "cell_type": "code",
   "execution_count": 14,
   "id": "2e3d4798-6934-4195-bf50-715b56f00961",
   "metadata": {},
   "outputs": [
    {
     "data": {
      "text/plain": [
       "Graph(n_nodes=134, n_node_features=16, n_edge_features=51, n_labels=1)"
      ]
     },
     "execution_count": 14,
     "metadata": {},
     "output_type": "execute_result"
    }
   ],
   "source": [
    "valDataset[0]"
   ]
  },
  {
   "cell_type": "code",
   "execution_count": 15,
   "id": "bdffbbdd-01ec-4876-8f1c-c6f6b59fd019",
   "metadata": {},
   "outputs": [],
   "source": [
    "# to load prev generated train graphs\n",
    "trainGraphDir = '/Users/zeyuyang/spektral/datasets/TrainDataset'\n",
    "trainGraphNum = 20000\n",
    "trainGraphs = [loadTrainGraph(trainGraphDir, i) for i in range(trainGraphNum)]"
   ]
  },
  {
   "cell_type": "code",
   "execution_count": 16,
   "id": "amateur-district",
   "metadata": {},
   "outputs": [
    {
     "data": {
      "text/plain": [
       "TrainDataset(n_graphs=20000)"
      ]
     },
     "execution_count": 16,
     "metadata": {},
     "output_type": "execute_result"
    }
   ],
   "source": [
    "trainDataset = TrainDataset()\n",
    "trainDataset"
   ]
  },
  {
   "cell_type": "code",
   "execution_count": 17,
   "id": "9d530ec5-521d-488b-804b-d87ef9b7cb35",
   "metadata": {},
   "outputs": [
    {
     "data": {
      "text/plain": [
       "Graph(n_nodes=158, n_node_features=16, n_edge_features=51, n_labels=1)"
      ]
     },
     "execution_count": 17,
     "metadata": {},
     "output_type": "execute_result"
    }
   ],
   "source": [
    "trainDataset[0]"
   ]
  },
  {
   "cell_type": "code",
   "execution_count": 18,
   "id": "a2ed12af-6705-44b6-b6bb-78712bb3893b",
   "metadata": {},
   "outputs": [],
   "source": [
    "# to load prev generated test graphs\n",
    "testGraphDir = '/Users/zeyuyang/spektral/datasets/TestDataset'\n",
    "testGraphNum = 25000\n",
    "testGraphs = [loadTestGraph(testGraphDir, i) for i in range(testGraphNum)]"
   ]
  },
  {
   "cell_type": "code",
   "execution_count": 19,
   "id": "76a64e13-9c98-4ba3-838f-a1a510295eb2",
   "metadata": {},
   "outputs": [
    {
     "data": {
      "text/plain": [
       "TestDataset(n_graphs=25000)"
      ]
     },
     "execution_count": 19,
     "metadata": {},
     "output_type": "execute_result"
    }
   ],
   "source": [
    "testDataset = TestDataset()\n",
    "testDataset"
   ]
  },
  {
   "cell_type": "code",
   "execution_count": 20,
   "id": "522b3c18-2f7c-4c7d-9a51-3e396e7f8fd2",
   "metadata": {},
   "outputs": [
    {
     "data": {
      "text/plain": [
       "Graph(n_nodes=220, n_node_features=16, n_edge_features=51, n_labels=1)"
      ]
     },
     "execution_count": 20,
     "metadata": {},
     "output_type": "execute_result"
    }
   ],
   "source": [
    "testDataset[0]"
   ]
  },
  {
   "cell_type": "markdown",
   "id": "satisfied-alexander",
   "metadata": {},
   "source": [
    "### Model and Training"
   ]
  },
  {
   "cell_type": "code",
   "execution_count": 21,
   "id": "brave-rally",
   "metadata": {},
   "outputs": [],
   "source": [
    "from tensorflow.keras.models import Model\n",
    "from tensorflow.keras.layers import Dense, Dropout, Conv1D, Embedding\n",
    "from spektral.layers import GCNConv, GlobalSumPool"
   ]
  },
  {
   "cell_type": "code",
   "execution_count": 57,
   "id": "20515141-7f44-4ec0-863e-fcf112f17060",
   "metadata": {},
   "outputs": [],
   "source": [
    "from tensorflow.keras.layers import LeakyReLU, PReLU\n",
    "import customECCN"
   ]
  },
  {
   "cell_type": "code",
   "execution_count": 59,
   "id": "b0be1844-e41b-4a00-82e6-b87e6b004b27",
   "metadata": {},
   "outputs": [
    {
     "data": {
      "text/plain": [
       "<module 'customECCN' from '/Users/zeyuyang/Projects/CS397Project/customECCN.py'>"
      ]
     },
     "execution_count": 59,
     "metadata": {},
     "output_type": "execute_result"
    }
   ],
   "source": [
    "from importlib import reload\n",
    "reload(customECCN)"
   ]
  },
  {
   "cell_type": "code",
   "execution_count": 45,
   "id": "advance-explosion",
   "metadata": {},
   "outputs": [],
   "source": [
    "class MyFirstGNN(Model):\n",
    "\n",
    "    def __init__(self, n_hidden, n_labels):\n",
    "        super().__init__()\n",
    "        self.graph_conv = GCNConv(n_hidden)\n",
    "        self.graph_conv2 = GCNConv(n_hidden)\n",
    "        self.graph_conv3 = GCNConv(n_hidden)\n",
    "        self.graph_conv4 = GCNConv(4)\n",
    "        self.pool = GlobalSumPool()\n",
    "        self.AGNNCONV = spektral.layers.AGNNConv(trainable=True, aggregate='sum', activation=None)\n",
    "        self.GenConv = spektral.layers.GeneralConv(channels=n_hidden, batch_norm=True, dropout=0.0,\n",
    "                                                   aggregate='sum', activation='prelu', use_bias=True,\n",
    "                                                   kernel_initializer='glorot_uniform', bias_initializer='zeros',\n",
    "                                                   kernel_regularizer=None, bias_regularizer=None, activity_regularizer=None,\n",
    "                                                   kernel_constraint=None, bias_constraint=None)\n",
    "        self.graphAtten = spektral.layers.GATConv(channels=n_hidden, attn_heads=5,\n",
    "                                                  concat_heads=True, dropout_rate=0.2, return_attn_coef=False,\n",
    "                                                  add_self_loops=True, activation=None, use_bias=True, kernel_initializer='glorot_uniform',\n",
    "                                                  bias_initializer='zeros', attn_kernel_initializer='glorot_uniform', kernel_regularizer=None,\n",
    "                                                  bias_regularizer=None, attn_kernel_regularizer=None, activity_regularizer=None,\n",
    "                                                  kernel_constraint=None, bias_constraint=None, attn_kernel_constraint=None)\n",
    "        self.graphECC = spektral.layers.ECCConv(channels=n_hidden, kernel_network=None, root=True, activation=PReLU(), use_bias=True,\n",
    "                                                kernel_initializer='glorot_uniform', bias_initializer='zeros', kernel_regularizer=None,\n",
    "                                                bias_regularizer=None, activity_regularizer=None, kernel_constraint=None, \n",
    "                                                bias_constraint=None)\n",
    "        self.maxPool = spektral.layers.GlobalMaxPool()\n",
    "        self.avePool = spektral.layers.GlobalAvgPool()\n",
    "        self.dropout = Dropout(0.2)\n",
    "        self.dense1 = Dense(64, activation='relu')\n",
    "        self.dropout2 = Dropout(0.2)\n",
    "        self.dense2 = Dense(16, activation='relu')\n",
    "        self.dense = Dense(1, 'sigmoid')\n",
    "\n",
    "    def call(self, inputs):\n",
    "        x, a, e, i = inputs\n",
    "        x = self.graphECC([x,a,e])\n",
    "        # x = self.graphECC([x,a,e])\n",
    "        # x = self.graph_conv([x,a])\n",
    "        # x = self.graph_conv2([x,a])\n",
    "        # x = self.graph_conv3([x,a])\n",
    "        # x = self.graph_conv4([x,a])\n",
    "        # out = self.pool(out)\n",
    "        # out = self.maxPool([x, i])\n",
    "        out = self.avePool([x, i])\n",
    "        out = self.dense1(out)\n",
    "        out = self.dropout2(out)\n",
    "        # out = self.dense2(out)\n",
    "        out = self.dense(out)\n",
    "        return out"
   ]
  },
  {
   "cell_type": "code",
   "execution_count": 46,
   "id": "aboriginal-white",
   "metadata": {},
   "outputs": [],
   "source": [
    "tf.keras.backend.clear_session()\n",
    "graphModel = MyFirstGNN(16, 1)\n",
    "graphModel.compile('rmsprop', 'binary_crossentropy', metrics=['accuracy',])"
   ]
  },
  {
   "cell_type": "code",
   "execution_count": 25,
   "id": "running-intake",
   "metadata": {},
   "outputs": [],
   "source": [
    "from spektral.data import BatchLoader\n",
    "\n",
    "# trainLoader = BatchLoader(trainDataset, node_level=False, batch_size=10, epochs=None, shuffle=True)\n",
    "trainLoader = spektral.data.loaders.DisjointLoader(trainDataset, node_level=False, batch_size=80, epochs=None, shuffle=True)\n",
    "\n",
    "validationLoader = spektral.data.loaders.DisjointLoader(valDataset, node_level=False, batch_size=80)\n",
    "\n",
    "testLoader = spektral.data.loaders.DisjointLoader(testDataset, node_level=False, batch_size=80)"
   ]
  },
  {
   "cell_type": "code",
   "execution_count": 43,
   "id": "28c0c6ef-de50-4e52-89c3-65c142fe4b9a",
   "metadata": {},
   "outputs": [],
   "source": [
    "# del(trainDataset)\n",
    "# del(valDataset)\n",
    "# del(testDataset)"
   ]
  },
  {
   "cell_type": "code",
   "execution_count": 48,
   "id": "average-miami",
   "metadata": {},
   "outputs": [
    {
     "name": "stdout",
     "output_type": "stream",
     "text": [
      "Epoch 1/10\n"
     ]
    },
    {
     "name": "stderr",
     "output_type": "stream",
     "text": [
      "2022-06-05 20:30:09.427155: I tensorflow/core/grappler/optimizers/custom_graph_optimizer_registry.cc:113] Plugin optimizer for device_type GPU is enabled.\n",
      "/Users/zeyuyang/miniforge3/envs/graphLearning/lib/python3.9/site-packages/spektral-1.1.0-py3.9.egg/spektral/data/utils.py:221: UserWarning: you are shuffling a 'TrainDataset' object which is not a subclass of 'Sequence'; `shuffle` is not guaranteed to behave correctly. E.g., non-numpy array/tensor objects with view semantics may contain duplicates after shuffling.\n",
      "  np.random.shuffle(a)\n"
     ]
    },
    {
     "name": "stdout",
     "output_type": "stream",
     "text": [
      "250/250 [==============================] - ETA: 0s - loss: 0.3565 - accuracy: 0.9074"
     ]
    },
    {
     "name": "stderr",
     "output_type": "stream",
     "text": [
      "2022-06-05 20:33:59.818109: I tensorflow/core/grappler/optimizers/custom_graph_optimizer_registry.cc:113] Plugin optimizer for device_type GPU is enabled.\n",
      "/Users/zeyuyang/miniforge3/envs/graphLearning/lib/python3.9/site-packages/spektral-1.1.0-py3.9.egg/spektral/data/utils.py:221: UserWarning: you are shuffling a 'ValDataset' object which is not a subclass of 'Sequence'; `shuffle` is not guaranteed to behave correctly. E.g., non-numpy array/tensor objects with view semantics may contain duplicates after shuffling.\n",
      "  np.random.shuffle(a)\n"
     ]
    },
    {
     "name": "stdout",
     "output_type": "stream",
     "text": [
      "250/250 [==============================] - 280s 1s/step - loss: 0.3565 - accuracy: 0.9074 - val_loss: 0.3243 - val_accuracy: 0.8670\n",
      "Epoch 2/10\n",
      "250/250 [==============================] - 272s 1s/step - loss: 0.1768 - accuracy: 0.9365 - val_loss: 0.3260 - val_accuracy: 0.8768\n",
      "Epoch 3/10\n",
      "250/250 [==============================] - 274s 1s/step - loss: 0.1515 - accuracy: 0.9471 - val_loss: 0.3080 - val_accuracy: 0.8816\n",
      "Epoch 4/10\n",
      "250/250 [==============================] - 292s 1s/step - loss: 0.1380 - accuracy: 0.9511 - val_loss: 0.3019 - val_accuracy: 0.8842\n",
      "Epoch 5/10\n",
      "250/250 [==============================] - 307s 1s/step - loss: 0.1328 - accuracy: 0.9533 - val_loss: 0.3049 - val_accuracy: 0.8838\n",
      "Epoch 6/10\n",
      "250/250 [==============================] - 308s 1s/step - loss: 0.1297 - accuracy: 0.9545 - val_loss: 0.3108 - val_accuracy: 0.8870\n",
      "Epoch 7/10\n",
      "250/250 [==============================] - 312s 1s/step - loss: 0.1278 - accuracy: 0.9563 - val_loss: 0.3083 - val_accuracy: 0.8854\n",
      "Epoch 8/10\n",
      "250/250 [==============================] - 317s 1s/step - loss: 0.1270 - accuracy: 0.9569 - val_loss: 0.3044 - val_accuracy: 0.8844\n",
      "Epoch 9/10\n",
      "250/250 [==============================] - 317s 1s/step - loss: 0.1262 - accuracy: 0.9566 - val_loss: 0.3099 - val_accuracy: 0.8854\n",
      "Epoch 10/10\n",
      "250/250 [==============================] - 331s 1s/step - loss: 0.1257 - accuracy: 0.9571 - val_loss: 0.3044 - val_accuracy: 0.8836\n"
     ]
    }
   ],
   "source": [
    "history = graphModel.fit(trainLoader.load(),\n",
    "              validation_data=validationLoader.load(),\n",
    "              steps_per_epoch=trainLoader.steps_per_epoch,\n",
    "              validation_steps=validationLoader.steps_per_epoch,\n",
    "              epochs=10)"
   ]
  },
  {
   "cell_type": "code",
   "execution_count": 50,
   "id": "joined-channel",
   "metadata": {},
   "outputs": [
    {
     "name": "stderr",
     "output_type": "stream",
     "text": [
      "/Users/zeyuyang/miniforge3/envs/graphLearning/lib/python3.9/site-packages/spektral-1.1.0-py3.9.egg/spektral/data/utils.py:221: UserWarning: you are shuffling a 'TestDataset' object which is not a subclass of 'Sequence'; `shuffle` is not guaranteed to behave correctly. E.g., non-numpy array/tensor objects with view semantics may contain duplicates after shuffling.\n",
      "  np.random.shuffle(a)\n"
     ]
    },
    {
     "name": "stdout",
     "output_type": "stream",
     "text": [
      "313/313 [==============================] - 274s 876ms/step - loss: 0.3380 - accuracy: 0.8720\n"
     ]
    }
   ],
   "source": [
    "testResult = graphModel.evaluate(testLoader.load(), steps=testLoader.steps_per_epoch)\n",
    "# graphModel.evaluate(validationLoader.load(), steps=validationLoader.steps_per_epoch)\n",
    "# graphModel.evaluate(trainLoader.load(), steps=trainLoader.steps_per_epoch)"
   ]
  },
  {
   "cell_type": "code",
   "execution_count": 51,
   "id": "21a98527-381c-4134-bd62-014df2aa2261",
   "metadata": {},
   "outputs": [
    {
     "data": {
      "text/plain": [
       "[0.3380013108253479, 0.8720400333404541]"
      ]
     },
     "execution_count": 51,
     "metadata": {},
     "output_type": "execute_result"
    }
   ],
   "source": [
    "testResult"
   ]
  },
  {
   "cell_type": "code",
   "execution_count": 108,
   "id": "2ab1153b-83c4-4a5f-a359-a4fa3318cdce",
   "metadata": {
    "tags": []
   },
   "outputs": [],
   "source": [
    "# graphModel.predict(trainLoader.load(), steps=trainLoader.steps_per_epoch)"
   ]
  },
  {
   "cell_type": "code",
   "execution_count": 109,
   "id": "9cae64ca-c845-45b5-9a4a-298883a1e0b4",
   "metadata": {
    "tags": []
   },
   "outputs": [],
   "source": [
    "# [trainGraphs[i][3] for i in range(len(trainGraphs))]"
   ]
  },
  {
   "cell_type": "code",
   "execution_count": 110,
   "id": "a650f78f-c407-4f46-a289-c4574e300b40",
   "metadata": {
    "tags": []
   },
   "outputs": [],
   "source": [
    "# graphModel.predict(testLoader.load(), steps=testLoader.steps_per_epoch)"
   ]
  },
  {
   "cell_type": "code",
   "execution_count": 52,
   "id": "35ab3389-1af7-4d6e-a09f-09778da2f522",
   "metadata": {},
   "outputs": [],
   "source": [
    "modelName = \"model_1ECCPrelu\""
   ]
  },
  {
   "cell_type": "code",
   "execution_count": 53,
   "id": "1af172e2-bc99-4e89-92ee-4291d5fb8b6c",
   "metadata": {},
   "outputs": [
    {
     "name": "stdout",
     "output_type": "stream",
     "text": [
      "WARNING:tensorflow:Skipping full serialization of Keras layer <spektral.layers.convolutional.gcn_conv.GCNConv object at 0x7bb1684550>, because it is not built.\n"
     ]
    },
    {
     "name": "stderr",
     "output_type": "stream",
     "text": [
      "WARNING:tensorflow:Skipping full serialization of Keras layer <spektral.layers.convolutional.gcn_conv.GCNConv object at 0x7bb1684550>, because it is not built.\n"
     ]
    },
    {
     "name": "stdout",
     "output_type": "stream",
     "text": [
      "WARNING:tensorflow:Skipping full serialization of Keras layer <spektral.layers.convolutional.gcn_conv.GCNConv object at 0x7bb1697a30>, because it is not built.\n"
     ]
    },
    {
     "name": "stderr",
     "output_type": "stream",
     "text": [
      "WARNING:tensorflow:Skipping full serialization of Keras layer <spektral.layers.convolutional.gcn_conv.GCNConv object at 0x7bb1697a30>, because it is not built.\n"
     ]
    },
    {
     "name": "stdout",
     "output_type": "stream",
     "text": [
      "WARNING:tensorflow:Skipping full serialization of Keras layer <spektral.layers.convolutional.gcn_conv.GCNConv object at 0x3efeede20>, because it is not built.\n"
     ]
    },
    {
     "name": "stderr",
     "output_type": "stream",
     "text": [
      "WARNING:tensorflow:Skipping full serialization of Keras layer <spektral.layers.convolutional.gcn_conv.GCNConv object at 0x3efeede20>, because it is not built.\n"
     ]
    },
    {
     "name": "stdout",
     "output_type": "stream",
     "text": [
      "WARNING:tensorflow:Skipping full serialization of Keras layer <spektral.layers.convolutional.gcn_conv.GCNConv object at 0x7bb16bf3a0>, because it is not built.\n"
     ]
    },
    {
     "name": "stderr",
     "output_type": "stream",
     "text": [
      "WARNING:tensorflow:Skipping full serialization of Keras layer <spektral.layers.convolutional.gcn_conv.GCNConv object at 0x7bb16bf3a0>, because it is not built.\n"
     ]
    },
    {
     "name": "stdout",
     "output_type": "stream",
     "text": [
      "WARNING:tensorflow:Skipping full serialization of Keras layer <spektral.layers.pooling.global_pool.GlobalSumPool object at 0x7bb16bffd0>, because it is not built.\n"
     ]
    },
    {
     "name": "stderr",
     "output_type": "stream",
     "text": [
      "WARNING:tensorflow:Skipping full serialization of Keras layer <spektral.layers.pooling.global_pool.GlobalSumPool object at 0x7bb16bffd0>, because it is not built.\n"
     ]
    },
    {
     "name": "stdout",
     "output_type": "stream",
     "text": [
      "WARNING:tensorflow:Skipping full serialization of Keras layer <spektral.layers.convolutional.agnn_conv.AGNNConv object at 0x7bb16bf040>, because it is not built.\n"
     ]
    },
    {
     "name": "stderr",
     "output_type": "stream",
     "text": [
      "WARNING:tensorflow:Skipping full serialization of Keras layer <spektral.layers.convolutional.agnn_conv.AGNNConv object at 0x7bb16bf040>, because it is not built.\n"
     ]
    },
    {
     "name": "stdout",
     "output_type": "stream",
     "text": [
      "WARNING:tensorflow:Skipping full serialization of Keras layer <spektral.layers.convolutional.general_conv.GeneralConv object at 0x7bb16bf670>, because it is not built.\n"
     ]
    },
    {
     "name": "stderr",
     "output_type": "stream",
     "text": [
      "WARNING:tensorflow:Skipping full serialization of Keras layer <spektral.layers.convolutional.general_conv.GeneralConv object at 0x7bb16bf670>, because it is not built.\n"
     ]
    },
    {
     "name": "stdout",
     "output_type": "stream",
     "text": [
      "WARNING:tensorflow:Skipping full serialization of Keras layer <spektral.layers.convolutional.gat_conv.GATConv object at 0x2b77d4d60>, because it is not built.\n"
     ]
    },
    {
     "name": "stderr",
     "output_type": "stream",
     "text": [
      "WARNING:tensorflow:Skipping full serialization of Keras layer <spektral.layers.convolutional.gat_conv.GATConv object at 0x2b77d4d60>, because it is not built.\n"
     ]
    },
    {
     "name": "stdout",
     "output_type": "stream",
     "text": [
      "WARNING:tensorflow:Skipping full serialization of Keras layer <spektral.layers.pooling.global_pool.GlobalMaxPool object at 0x7bb21ca460>, because it is not built.\n"
     ]
    },
    {
     "name": "stderr",
     "output_type": "stream",
     "text": [
      "WARNING:tensorflow:Skipping full serialization of Keras layer <spektral.layers.pooling.global_pool.GlobalMaxPool object at 0x7bb21ca460>, because it is not built.\n"
     ]
    },
    {
     "name": "stdout",
     "output_type": "stream",
     "text": [
      "WARNING:tensorflow:Skipping full serialization of Keras layer <keras.layers.core.dropout.Dropout object at 0x7bb21ca3d0>, because it is not built.\n"
     ]
    },
    {
     "name": "stderr",
     "output_type": "stream",
     "text": [
      "WARNING:tensorflow:Skipping full serialization of Keras layer <keras.layers.core.dropout.Dropout object at 0x7bb21ca3d0>, because it is not built.\n"
     ]
    },
    {
     "name": "stdout",
     "output_type": "stream",
     "text": [
      "WARNING:tensorflow:Skipping full serialization of Keras layer <keras.layers.core.dense.Dense object at 0x7bb21ca910>, because it is not built.\n"
     ]
    },
    {
     "name": "stderr",
     "output_type": "stream",
     "text": [
      "WARNING:tensorflow:Skipping full serialization of Keras layer <keras.layers.core.dense.Dense object at 0x7bb21ca910>, because it is not built.\n",
      "WARNING:absl:Function `_wrapped_model` contains input name(s) args_0 with unsupported characters which will be renamed to args_0_5 in the SavedModel.\n"
     ]
    },
    {
     "name": "stdout",
     "output_type": "stream",
     "text": [
      "WARNING:tensorflow:Skipping full serialization of Keras layer <keras.layers.advanced_activations.PReLU object at 0x7bb16845b0>, because it is not built.\n"
     ]
    },
    {
     "name": "stderr",
     "output_type": "stream",
     "text": [
      "WARNING:tensorflow:Skipping full serialization of Keras layer <keras.layers.advanced_activations.PReLU object at 0x7bb16845b0>, because it is not built.\n",
      "WARNING:absl:Found untraced functions such as FGN_out_layer_call_fn, FGN_out_layer_call_and_return_conditional_losses while saving (showing 2 of 2). These functions will not be directly callable after loading.\n"
     ]
    },
    {
     "name": "stdout",
     "output_type": "stream",
     "text": [
      "INFO:tensorflow:Assets written to: ./savedModels/model_1ECCPrelu/assets\n"
     ]
    },
    {
     "name": "stderr",
     "output_type": "stream",
     "text": [
      "INFO:tensorflow:Assets written to: ./savedModels/model_1ECCPrelu/assets\n",
      "/Users/zeyuyang/miniforge3/envs/graphLearning/lib/python3.9/site-packages/keras/saving/saved_model/layer_serialization.py:112: CustomMaskWarning: Custom mask layers require a config and must override get_config. When loading, the custom mask layer must be passed to the custom_objects argument.\n",
      "  return generic_utils.serialize_keras_object(obj)\n"
     ]
    }
   ],
   "source": [
    "graphModel.save(\"./savedModels/\" + modelName)"
   ]
  },
  {
   "cell_type": "code",
   "execution_count": 54,
   "id": "b68ec377-6fb0-4ec9-b5a7-696faf8751de",
   "metadata": {},
   "outputs": [],
   "source": [
    "results_path = './results/' + modelName"
   ]
  },
  {
   "cell_type": "code",
   "execution_count": 55,
   "id": "developing-oregon",
   "metadata": {
    "tags": []
   },
   "outputs": [
    {
     "data": {
      "image/png": "[encoded data removed]",
      "text/plain": [
       "<Figure size 432x288 with 1 Axes>"
      ]
     },
     "metadata": {
      "needs_background": "light"
     },
     "output_type": "display_data"
    }
   ],
   "source": [
    "# plot training and validaiton loss over epochs\n",
    "history_dict = history.history\n",
    "acc = history_dict['accuracy']\n",
    "val_acc = history_dict['val_accuracy']\n",
    "loss = history_dict['loss']\n",
    "val_loss = history_dict['val_loss']\n",
    "\n",
    "epochs = range(1, len(acc) + 1)\n",
    "\n",
    "# \"-r^\" is for solid red line with triangle markers.\n",
    "plt.plot(epochs, loss, '-r^', label='Training loss')\n",
    "# \"-b0\" is for solid blue line with circle markers.\n",
    "plt.plot(epochs, val_loss, '-bo', label='Validation loss')\n",
    "plt.title('Training and validation loss | Test loss: {loss}'.format(loss=np.round(testResult[0], 4)))\n",
    "plt.xlabel('Epochs')\n",
    "plt.ylabel('Loss')\n",
    "plt.legend(loc='best')\n",
    "plt.savefig(results_path + '_loss_history')"
   ]
  },
  {
   "cell_type": "code",
   "execution_count": 56,
   "id": "e52266ee-e5ae-4465-8f19-febea0adc17c",
   "metadata": {},
   "outputs": [
    {
     "data": {
      "image/png": "[encoded data removed]",
      "text/plain": [
       "<Figure size 432x288 with 1 Axes>"
      ]
     },
     "metadata": {
      "needs_background": "light"
     },
     "output_type": "display_data"
    }
   ],
   "source": [
    "# plot training and validation accuracy over epochs\n",
    "plt.clf()   # clear figure\n",
    "\n",
    "plt.plot(epochs, acc, '-r^', label='Training acc')\n",
    "plt.plot(epochs, val_acc, '-bo', label='Validation acc')\n",
    "plt.title('Training and validation accuracy | Test accuracy: {accuracy}'.format(accuracy = np.round(testResult[1], 4)))\n",
    "plt.xlabel('Epochs')\n",
    "plt.ylabel('Accuracy')\n",
    "plt.legend(loc='best')\n",
    "\n",
    "# plt.show()\n",
    "plt.savefig(results_path + '_acc_history')"
   ]
  },
  {
   "cell_type": "code",
   "execution_count": null,
   "id": "12d64af7-0bef-4b05-aada-d6c9dd2a638b",
   "metadata": {},
   "outputs": [],
   "source": []
  },
  {
   "cell_type": "code",
   "execution_count": null,
   "id": "831601e7-2286-4d6f-af77-230fe3653375",
   "metadata": {},
   "outputs": [],
   "source": []
  },
  {
   "cell_type": "code",
   "execution_count": null,
   "id": "fa54db33-7a97-431d-9520-182c7ceb2f46",
   "metadata": {},
   "outputs": [],
   "source": []
  },
  {
   "cell_type": "code",
   "execution_count": 72,
   "id": "8ab62280-30d1-47c1-90bc-715751c2f257",
   "metadata": {
    "tags": []
   },
   "outputs": [
    {
     "name": "stdout",
     "output_type": "stream",
     "text": [
      "((array([[-0.09127652, -0.10843979, -0.08000296, ..., -0.1268474 ,\n",
      "        -0.0790683 , -0.08250892],\n",
      "       [-0.11854362,  0.04742449, -0.02016414, ...,  0.07192121,\n",
      "         0.04425791,  0.06978755],\n",
      "       [-0.16536878,  0.02325122, -0.00168865, ...,  0.04442874,\n",
      "        -0.0296917 ,  0.0110608 ],\n",
      "       ...,\n",
      "       [-0.17732394,  0.03671077,  0.10515954, ...,  0.0074924 ,\n",
      "         0.00207563,  0.09237898],\n",
      "       [ 0.04346668,  0.02642263,  0.0654704 , ...,  0.00481029,\n",
      "         0.02680278,  0.06416886],\n",
      "       [-0.00412835,  0.04959522,  0.06420626, ...,  0.02187742,\n",
      "         0.03952674, -0.02741097]], dtype=float32), <tensorflow.python.framework.sparse_tensor.SparseTensor object at 0x577e3b0d0>, array([[0., 0., 0., ..., 0., 0., 0.],\n",
      "       [0., 0., 0., ..., 0., 0., 0.],\n",
      "       [0., 0., 0., ..., 0., 0., 0.],\n",
      "       ...,\n",
      "       [0., 0., 0., ..., 0., 0., 0.],\n",
      "       [0., 0., 0., ..., 0., 0., 0.],\n",
      "       [0., 0., 0., ..., 0., 0., 0.]]), array([0, 0, 0, ..., 9, 9, 9])), array([[0],\n",
      "       [0],\n",
      "       [1],\n",
      "       [0],\n",
      "       [1],\n",
      "       [1],\n",
      "       [0],\n",
      "       [1],\n",
      "       [1],\n",
      "       [1]]))\n"
     ]
    },
    {
     "name": "stderr",
     "output_type": "stream",
     "text": [
      "/Users/zeyuyang/miniforge3/envs/graphLearning/lib/python3.9/site-packages/spektral-1.1.0-py3.9.egg/spektral/data/utils.py:221: UserWarning: you are shuffling a 'TrainDataset' object which is not a subclass of 'Sequence'; `shuffle` is not guaranteed to behave correctly. E.g., non-numpy array/tensor objects with view semantics may contain duplicates after shuffling.\n",
      "  np.random.shuffle(a)\n"
     ]
    }
   ],
   "source": [
    "sampleLoader =  spektral.data.loaders.DisjointLoader(trainDataset[0:10], node_level=False, batch_size=10, epochs=1, shuffle=True)\n",
    "x,a,e,i = [],[],[],[]\n",
    "labels = []\n",
    "for batch in sampleLoader:\n",
    "    labels = batch[1]\n",
    "    x,a,e,i = batch[0]\n",
    "    print(batch)"
   ]
  },
  {
   "cell_type": "code",
   "execution_count": 215,
   "id": "e0a7824f-f90d-41b4-ae99-078f75138744",
   "metadata": {},
   "outputs": [
    {
     "name": "stdout",
     "output_type": "stream",
     "text": [
      "<SparseTensor shape=[2049, 2049] \n",
      " values={\n",
      "  [4, 0]: 1.0\n",
      "  [4, 1]: 1.0\n",
      "  [4, 2]: 1.0\n",
      "  [4, 3]: 1.0\n",
      "  [4, 12]: 1.0\n",
      "  [4, 13]: 1.0\n",
      "  [4, 26]: 1.0\n",
      "  [4, 47]: 1.0\n",
      "  [6, 5]: 1.0\n",
      "  [6, 9]: 1.0\n",
      "  [9, 7]: 1.0\n",
      "  [9, 8]: 1.0\n",
      "  [12, 6]: 1.0\n",
      "  [12, 10]: 1.0\n",
      "  [12, 11]: 1.0\n",
      "  [12, 21]: 1.0\n",
      "  [14, 16]: 1.0\n",
      "  [16, 15]: 1.0\n",
      "  [18, 19]: 1.0\n",
      "  [21, 14]: 1.0\n",
      "  [21, 17]: 1.0\n",
      "  [21, 18]: 1.0\n",
      "  [21, 20]: 1.0\n",
      "  [26, 22]: 1.0\n",
      "  [26, 23]: 1.0\n",
      "  [26, 24]: 1.0\n",
      "  [26, 25]: 1.0\n",
      "  [26, 28]: 1.0\n",
      "  [26, 41]: 1.0\n",
      "  [28, 27]: 1\n"
     ]
    }
   ],
   "source": [
    "print(stanzaTools.printSpareTensor(a)[0:500])"
   ]
  },
  {
   "cell_type": "code",
   "execution_count": 221,
   "id": "81350cb3-cf05-4b9a-b472-162a1a0ead40",
   "metadata": {},
   "outputs": [],
   "source": [
    "new_x = GCNConv(16)([x,a])\n",
    "new_x2 = GCNConv(16)([new_x,a])"
   ]
  },
  {
   "cell_type": "code",
   "execution_count": null,
   "id": "3f52b529-4eac-469e-83a1-9881319f9491",
   "metadata": {},
   "outputs": [],
   "source": []
  },
  {
   "cell_type": "code",
   "execution_count": null,
   "id": "5fbfec86-0116-41f2-a4a2-6acb05eed5d4",
   "metadata": {},
   "outputs": [],
   "source": []
  },
  {
   "cell_type": "code",
   "execution_count": null,
   "id": "19d34613-d486-4091-b256-a25d2be10733",
   "metadata": {},
   "outputs": [],
   "source": []
  },
  {
   "cell_type": "code",
   "execution_count": null,
   "id": "4ace3272-0afd-4923-bc57-6bc95f6875bb",
   "metadata": {},
   "outputs": [],
   "source": []
  },
  {
   "cell_type": "code",
   "execution_count": null,
   "id": "f0ea921c-b06e-4217-8a8b-97cf485ce6fc",
   "metadata": {},
   "outputs": [],
   "source": []
  },
  {
   "cell_type": "code",
   "execution_count": null,
   "id": "38e1c612-e5bd-4b95-9a90-40c367985b96",
   "metadata": {},
   "outputs": [],
   "source": []
  },
  {
   "cell_type": "code",
   "execution_count": 62,
   "id": "aboriginal-relevance",
   "metadata": {},
   "outputs": [],
   "source": [
    "from spektral.datasets import QM9"
   ]
  },
  {
   "cell_type": "code",
   "execution_count": 63,
   "id": "049880df-6d78-42f8-bc89-ab6890cb886c",
   "metadata": {},
   "outputs": [
    {
     "name": "stdout",
     "output_type": "stream",
     "text": [
      "Downloading data from https://deepchemdata.s3-us-west-1.amazonaws.com/datasets/gdb9.tar.gz\n",
      "44859392/44852087 [==============================] - 43s 1us/step\n",
      "44867584/44852087 [==============================] - 43s 1us/step\n",
      "Loading QM9 dataset.\n",
      "Reading SDF\n"
     ]
    },
    {
     "name": "stderr",
     "output_type": "stream",
     "text": [
      "100%|█████████████████████████████████████| 1000/1000 [00:00<00:00, 2878.29it/s]\n"
     ]
    }
   ],
   "source": [
    "dataset = QM9(amount=1000)  "
   ]
  },
  {
   "cell_type": "code",
   "execution_count": null,
   "id": "70de0185-aef9-4da0-821e-d39b12c995f3",
   "metadata": {},
   "outputs": [
    {
     "data": {
      "text/plain": [
       "Graph(n_nodes=107, n_node_features=128, n_edge_features=None, n_labels=1)"
      ]
     },
     "execution_count": 88,
     "metadata": {},
     "output_type": "execute_result"
    }
   ],
   "source": [
    "x[0]"
   ]
  }
 ],
 "metadata": {
  "kernelspec": {
   "display_name": "Python 3 (ipykernel)",
   "language": "python",
   "name": "python3"
  },
  "language_info": {
   "codemirror_mode": {
    "name": "ipython",
    "version": 3
   },
   "file_extension": ".py",
   "mimetype": "text/x-python",
   "name": "python",
   "nbconvert_exporter": "python",
   "pygments_lexer": "ipython3",
   "version": "3.9.7"
  }
 },
 "nbformat": 4,
 "nbformat_minor": 5
}
