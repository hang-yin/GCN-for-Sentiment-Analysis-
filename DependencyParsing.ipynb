{
 "cells": [
  {
   "cell_type": "markdown",
   "id": "maritime-drain",
   "metadata": {},
   "source": [
    "# Summary"
   ]
  },
  {
   "cell_type": "markdown",
   "id": "sticky-amateur",
   "metadata": {},
   "source": [
    "## Task"
   ]
  },
  {
   "cell_type": "markdown",
   "id": "stopped-reaction",
   "metadata": {},
   "source": [
    "To explore dependency parsing for sentences so that word level graphs can be constructed for the problem of classification"
   ]
  },
  {
   "cell_type": "markdown",
   "id": "annoying-creator",
   "metadata": {},
   "source": [
    "1. Explore how dependency parsing works\n",
    "2. Tokenize sentences and give them to the dependency parser\n",
    "3. Obtain the relationships and check them\n",
    "4. Convert the dependency graphs from the parser into the graphs that can be used for GCN\n",
    "5. Explore GCN and try to build graphs from the parsed dependency graphs\n",
    "6. Perform graph level classification\n",
    "7. Check performance\n",
    "8. Refine the various layers and hyperparameters in the process\n",
    "9. Check final performance\n",
    "10. Do interpreation manually on some selected examples\n",
    "11. Implement edge masking to get the minimum subgraph\n",
    "12. Performe automatic interpretation of the graphs to determine the most important terms/relationships for each sentence"
   ]
  },
  {
   "cell_type": "markdown",
   "id": "unknown-publisher",
   "metadata": {},
   "source": [
    "## Method"
   ]
  },
  {
   "cell_type": "markdown",
   "id": "mediterranean-extreme",
   "metadata": {},
   "source": [
    "* For dependency parsing, we will try to use the tools from the stanford nlp group.\n",
    "* The *[CoreNLP](https://github.com/stanfordnlp/CoreNLP)* library is important as it contains many of the tools needed to performe dependency parsing\n",
    "* The *[stanza](https://github.com/stanfordnlp/stanza)* library offers a wrapped version of CoreNLP that works directly with Python\n",
    "* Visualization of the graphs can be done using *[networkx](https://github.com/networkx/networkx)*\n",
    "* For GCN and word-level graphs we will primarily look at the ideas in this *[tutorial](https://uvadlc-notebooks.readthedocs.io/en/latest/tutorial_notebooks/tutorial7/GNN_overview.html)*\n",
    "* We will try to use the *[spektral](https://github.com/danielegrattarola/spektral/)* library to implement the graphs convolution and attention \n",
    "* *[Link](https://universaldependencies.org/u/dep/)* to explaination of dependency relations."
   ]
  },
  {
   "cell_type": "markdown",
   "id": "interpreted-offense",
   "metadata": {},
   "source": [
    "## Dataset"
   ]
  },
  {
   "cell_type": "markdown",
   "id": "instant-carolina",
   "metadata": {},
   "source": [
    "The dataset is still IMDB review but we may expand later on"
   ]
  },
  {
   "cell_type": "markdown",
   "id": "headed-double",
   "metadata": {},
   "source": [
    "## Results"
   ]
  },
  {
   "cell_type": "markdown",
   "id": "democratic-blind",
   "metadata": {},
   "source": [
    "Fill in later"
   ]
  },
  {
   "cell_type": "markdown",
   "id": "essential-humidity",
   "metadata": {},
   "source": [
    "## Conclusion"
   ]
  },
  {
   "cell_type": "markdown",
   "id": "hollow-discovery",
   "metadata": {},
   "source": [
    "Fill in at the end"
   ]
  },
  {
   "cell_type": "markdown",
   "id": "super-nation",
   "metadata": {},
   "source": [
    "# Code"
   ]
  },
  {
   "cell_type": "markdown",
   "id": "multiple-exhibit",
   "metadata": {},
   "source": [
    "## Basic Imports"
   ]
  },
  {
   "cell_type": "code",
   "execution_count": null,
   "id": "governmental-arkansas",
   "metadata": {},
   "outputs": [],
   "source": [
    "import numpy as np\n",
    "import pandas as pd\n",
    "import matplotlib.pyplot as plt\n",
    "import stanza\n",
    "import networkx as nx\n",
    "import spacy"
   ]
  },
  {
   "cell_type": "code",
   "execution_count": null,
   "id": "sought-disability",
   "metadata": {},
   "outputs": [],
   "source": [
    "stanza.download('en')"
   ]
  },
  {
   "cell_type": "code",
   "execution_count": null,
   "id": "sublime-webmaster",
   "metadata": {},
   "outputs": [],
   "source": [
    "import stanzaTools"
   ]
  },
  {
   "cell_type": "markdown",
   "id": "deadly-hampshire",
   "metadata": {},
   "source": [
    "## Part 1: Dependency Parsing"
   ]
  },
  {
   "cell_type": "markdown",
   "id": "legal-implement",
   "metadata": {},
   "source": [
    "### Testing Stanza"
   ]
  },
  {
   "cell_type": "code",
   "execution_count": null,
   "id": "unlikely-throw",
   "metadata": {},
   "outputs": [],
   "source": [
    "sampleSentence = \"There is nothing wrong with Apple's new M1 Max Chip, everything works so well! Ok this might be kind of difficult.\""
   ]
  },
  {
   "cell_type": "code",
   "execution_count": null,
   "id": "significant-exploration",
   "metadata": {},
   "outputs": [],
   "source": [
    "nlp = stanza.Pipeline(\n",
    "    'en',\n",
    "    processors = 'tokenize,mwt,pos,lemma,depparse, sentiment')"
   ]
  },
  {
   "cell_type": "code",
   "execution_count": null,
   "id": "intensive-graphics",
   "metadata": {},
   "outputs": [],
   "source": [
    "doc = nlp(sampleSentence)"
   ]
  },
  {
   "cell_type": "code",
   "execution_count": null,
   "id": "frozen-nepal",
   "metadata": {
    "tags": []
   },
   "outputs": [],
   "source": [
    "doc.sentences[0]"
   ]
  },
  {
   "cell_type": "code",
   "execution_count": null,
   "id": "designing-dream",
   "metadata": {},
   "outputs": [],
   "source": [
    "sent_dict = doc.sentences[0].to_dict()"
   ]
  },
  {
   "cell_type": "markdown",
   "id": "detected-steam",
   "metadata": {},
   "source": [
    "#### tokenRelationHead"
   ]
  },
  {
   "cell_type": "code",
   "execution_count": null,
   "id": "charming-reaction",
   "metadata": {},
   "outputs": [],
   "source": [
    "stanzaTools.tokenRelationHead(sent_dict)"
   ]
  },
  {
   "cell_type": "markdown",
   "id": "copyrighted-brazil",
   "metadata": {
    "tags": []
   },
   "source": [
    "#### getNodeEdgeLists"
   ]
  },
  {
   "cell_type": "code",
   "execution_count": null,
   "id": "2559207e-2309-443a-ae28-b6a2fd4b3a61",
   "metadata": {},
   "outputs": [],
   "source": [
    "def getNodeEdgeLists(doc):\n",
    "    \"\"\"\n",
    "    Parses all the edges in sent_dict and extracts the edges, node labels, and edge labels.\n",
    "    Args:\n",
    "        doc - (stanza.models.common.doc.Document) The doc object\n",
    "    Returns:\n",
    "        nodeList - (list) A list of dictionaries, the keys are the same as the items inside a sentence object.\n",
    "        edgeList - (list) A list of dictionaries, the keys are \"edgePair\", \"edgeLabel\"\n",
    "    \"\"\"\n",
    "    edgeList = []\n",
    "    nodeList = []\n",
    "    modifier = 0 \n",
    "    wordLimit = 50\n",
    "    maxSentences = 3\n",
    "    sentences = []\n",
    "    for sentence in doc.sentences:\n",
    "        if sentence.sentiment != 1:\n",
    "            sentences.append(sentence)\n",
    "    sentences = sentences[0:3]\n",
    "    for sentence in sentences:\n",
    "        for node in sentence.to_dict()[0:wordLimit]:\n",
    "            node['id'] += modifier\n",
    "            node['head'] += modifier\n",
    "            nodeList.append(node)\n",
    "            \n",
    "            # if modifier and node['id'] == modifier + 1:\n",
    "            #     edgePair = (node['id'] - 1, node['id'])\n",
    "            #     edgeLabel = 'nextSentence'\n",
    "            #     edgeList.append(\n",
    "            #         {\n",
    "            #             \"edgePair\" : edgePair,\n",
    "            #             \"edgeLabel\" : edgeLabel\n",
    "            #         }\n",
    "            #     )\n",
    "            if (node['head'] != modifier and node['head'] <= modifier + wordLimit):\n",
    "                # the first is the head and the second is dependent\n",
    "                edgePair = (node['head'], node['id'])\n",
    "                edgeLabel = node['deprel']\n",
    "                edgeList.append(\n",
    "                    {\n",
    "                        \"edgePair\" : edgePair,\n",
    "                        \"edgeLabel\" : edgeLabel,\n",
    "                    }\n",
    "                )\n",
    "        modifier += len(sentence.to_dict()[0:wordLimit])\n",
    "\n",
    "    return nodeList, edgeList"
   ]
  },
  {
   "cell_type": "code",
   "execution_count": null,
   "id": "099c6f23-f6a0-41a0-9e29-33a4bdc470dc",
   "metadata": {
    "tags": []
   },
   "outputs": [],
   "source": [
    "doc"
   ]
  },
  {
   "cell_type": "code",
   "execution_count": null,
   "id": "eastern-orchestra",
   "metadata": {},
   "outputs": [],
   "source": [
    "nodeList, edgeList = stanzaTools.getNodeEdgeLists(doc)"
   ]
  },
  {
   "cell_type": "code",
   "execution_count": null,
   "id": "invisible-organic",
   "metadata": {
    "tags": []
   },
   "outputs": [],
   "source": [
    "doc"
   ]
  },
  {
   "cell_type": "code",
   "execution_count": null,
   "id": "configured-rugby",
   "metadata": {
    "tags": []
   },
   "outputs": [],
   "source": [
    "nodeList"
   ]
  },
  {
   "cell_type": "markdown",
   "id": "b5ad94ab-7cda-4dca-8f81-ed0855a8ea08",
   "metadata": {},
   "source": [
    "#### drawDepGraph"
   ]
  },
  {
   "cell_type": "code",
   "execution_count": null,
   "id": "sharp-former",
   "metadata": {},
   "outputs": [],
   "source": [
    "stanzaTools.drawDepGraph(nodeList, edgeList)"
   ]
  },
  {
   "cell_type": "markdown",
   "id": "labeled-reference",
   "metadata": {},
   "source": [
    "### Testing Spacy (Ignore for Now)"
   ]
  },
  {
   "cell_type": "code",
   "execution_count": null,
   "id": "disturbed-breach",
   "metadata": {},
   "outputs": [],
   "source": [
    "import spacy\n",
    "\n",
    "# Load English tokenizer, tagger, parser and NER\n",
    "nlp = spacy.load(\"en_core_web_sm\")\n",
    "\n",
    "# Process whole documents\n",
    "text = sampleSentence\n",
    "doc = nlp(text)\n",
    "# Analyze syntax\n",
    "print(\"Noun phrases:\", [chunk.text for chunk in doc.noun_chunks])\n",
    "print(\"Verbs:\", [token.lemma_ for token in doc if token.pos_ == \"VERB\"])\n",
    "\n",
    "# Find named entities, phrases and concepts\n",
    "for entity in doc.ents:\n",
    "    print(entity.text, entity.label_)    "
   ]
  },
  {
   "cell_type": "code",
   "execution_count": null,
   "id": "inner-transfer",
   "metadata": {
    "tags": []
   },
   "outputs": [],
   "source": [
    "spacy.displacy.render(doc, style='dep', jupyter=True, options={'distance': 120})"
   ]
  },
  {
   "cell_type": "code",
   "execution_count": null,
   "id": "purple-keyboard",
   "metadata": {},
   "outputs": [],
   "source": [
    "doc"
   ]
  },
  {
   "cell_type": "markdown",
   "id": "internal-senator",
   "metadata": {},
   "source": [
    "### Testing TF Datasets"
   ]
  },
  {
   "cell_type": "code",
   "execution_count": null,
   "id": "authentic-significance",
   "metadata": {},
   "outputs": [],
   "source": [
    "import tensorflow_datasets as tfds\n",
    "import tensorflow as tf\n",
    "import spacy\n",
    "import tfDatasetTools\n",
    "nlp = spacy.load(\"en_core_web_sm\")"
   ]
  },
  {
   "cell_type": "code",
   "execution_count": null,
   "id": "furnished-miller",
   "metadata": {},
   "outputs": [],
   "source": [
    "trainDS = tfds.load('imdb_reviews', split='train', as_supervised=True, shuffle_files=True)\n",
    "testDS = tfds.load('imdb_reviews', split='test', as_supervised=True, shuffle_files=True)"
   ]
  },
  {
   "cell_type": "code",
   "execution_count": null,
   "id": "confused-outreach",
   "metadata": {},
   "outputs": [],
   "source": [
    "part = testDS.take(10)"
   ]
  },
  {
   "cell_type": "markdown",
   "id": "responsible-pricing",
   "metadata": {
    "tags": []
   },
   "source": [
    "#### decodeZeroDimTensor"
   ]
  },
  {
   "cell_type": "markdown",
   "id": "unable-estimate",
   "metadata": {},
   "source": [
    "#### convertTakeDataset"
   ]
  },
  {
   "cell_type": "code",
   "execution_count": null,
   "id": "hazardous-patrick",
   "metadata": {},
   "outputs": [],
   "source": [
    "features, labels = tfDatasetTools.convertTakeDataset(part)"
   ]
  },
  {
   "cell_type": "code",
   "execution_count": null,
   "id": "mediterranean-pointer",
   "metadata": {},
   "outputs": [],
   "source": [
    "features[0]"
   ]
  },
  {
   "cell_type": "code",
   "execution_count": null,
   "id": "070dc77c-e081-486c-9a72-030755ff8eae",
   "metadata": {},
   "outputs": [],
   "source": [
    "labels"
   ]
  },
  {
   "cell_type": "code",
   "execution_count": null,
   "id": "dirty-courtesy",
   "metadata": {},
   "outputs": [],
   "source": [
    "nlp = stanza.Pipeline(\n",
    "    'en',\n",
    "    processors = 'tokenize,mwt,pos,lemma,depparse, sentiment')"
   ]
  },
  {
   "cell_type": "code",
   "execution_count": null,
   "id": "alive-insurance",
   "metadata": {
    "tags": []
   },
   "outputs": [],
   "source": [
    "doc = nlp(features[1])\n",
    "for sentence in doc.sentences:\n",
    "    print(sentence.text)\n",
    "    print(sentence.sentiment)"
   ]
  },
  {
   "cell_type": "code",
   "execution_count": null,
   "id": "lovely-malta",
   "metadata": {
    "tags": []
   },
   "outputs": [],
   "source": [
    "doc.sentences[1]"
   ]
  },
  {
   "cell_type": "markdown",
   "id": "animal-chair",
   "metadata": {},
   "source": [
    "### Testing spektral"
   ]
  },
  {
   "cell_type": "code",
   "execution_count": null,
   "id": "developed-cornell",
   "metadata": {},
   "outputs": [],
   "source": [
    "import spektral\n",
    "from spektral.datasets import TUDataset"
   ]
  },
  {
   "cell_type": "code",
   "execution_count": null,
   "id": "placed-california",
   "metadata": {},
   "outputs": [],
   "source": [
    "dataset = TUDataset('PROTEINS')"
   ]
  },
  {
   "cell_type": "code",
   "execution_count": null,
   "id": "romance-mistake",
   "metadata": {},
   "outputs": [],
   "source": [
    "dataset"
   ]
  },
  {
   "cell_type": "code",
   "execution_count": null,
   "id": "romantic-volume",
   "metadata": {},
   "outputs": [],
   "source": [
    "train_datset = dataset[:100]"
   ]
  },
  {
   "cell_type": "code",
   "execution_count": null,
   "id": "manufactured-founder",
   "metadata": {},
   "outputs": [],
   "source": [
    "test_datset = dataset[100:]"
   ]
  },
  {
   "cell_type": "code",
   "execution_count": null,
   "id": "creative-likelihood",
   "metadata": {},
   "outputs": [],
   "source": [
    "from tensorflow.keras.models import Model\n",
    "from tensorflow.keras.layers import Dense, Dropout\n",
    "from spektral.layers import GCNConv, GlobalSumPool"
   ]
  },
  {
   "cell_type": "code",
   "execution_count": null,
   "id": "wired-teens",
   "metadata": {},
   "outputs": [],
   "source": [
    "class MyFirstGNN(Model):\n",
    "\n",
    "    def __init__(self, n_hidden, n_labels):\n",
    "        super().__init__()\n",
    "        self.graph_conv = GCNConv(n_hidden)\n",
    "        self.pool = GlobalSumPool()\n",
    "        self.dropout = Dropout(0.5)\n",
    "        self.dense = Dense(n_labels, 'softmax')\n",
    "\n",
    "    def call(self, inputs):\n",
    "        out = self.graph_conv(inputs)\n",
    "        out = self.dropout(out)\n",
    "        out = self.pool(out)\n",
    "        out = self.dense(out)\n",
    "\n",
    "        return out"
   ]
  },
  {
   "cell_type": "code",
   "execution_count": null,
   "id": "geographic-insertion",
   "metadata": {},
   "outputs": [],
   "source": [
    "model = MyFirstGNN(32, dataset.n_labels)\n",
    "model.compile('adam', 'categorical_crossentropy', metrics=['accuracy'])"
   ]
  },
  {
   "cell_type": "code",
   "execution_count": null,
   "id": "familiar-recording",
   "metadata": {},
   "outputs": [],
   "source": [
    "from spektral.data import BatchLoader\n",
    "\n",
    "loader = BatchLoader(train_datset, batch_size=32)\n",
    "testLoader = BatchLoader(test_datset, batch_size=32)"
   ]
  },
  {
   "cell_type": "code",
   "execution_count": null,
   "id": "other-queen",
   "metadata": {},
   "outputs": [],
   "source": [
    "model.fit(loader.load(),steps_per_epoch=loader.steps_per_epoch, epochs=10)"
   ]
  },
  {
   "cell_type": "code",
   "execution_count": null,
   "id": "through-wrapping",
   "metadata": {},
   "outputs": [],
   "source": [
    "model.evaluate(testLoader.load(),steps=testLoader.steps_per_epoch)"
   ]
  },
  {
   "cell_type": "code",
   "execution_count": null,
   "id": "casual-modification",
   "metadata": {},
   "outputs": [],
   "source": [
    "test_datset[12].y"
   ]
  },
  {
   "cell_type": "markdown",
   "id": "sound-attack",
   "metadata": {},
   "source": [
    "## Part 2: Graph Networks"
   ]
  },
  {
   "cell_type": "markdown",
   "id": "wrapped-johnston",
   "metadata": {},
   "source": [
    "### Basic Imports"
   ]
  },
  {
   "cell_type": "code",
   "execution_count": 1,
   "id": "absolute-guitar",
   "metadata": {},
   "outputs": [],
   "source": [
    "import tensorflow_datasets as tfds\n",
    "import tensorflow as tf\n",
    "import numpy as np\n",
    "import pandas as pd\n",
    "import matplotlib.pyplot as plt\n",
    "import stanza\n",
    "import networkx as nx\n",
    "import tensorflow_hub as hub\n",
    "import tensorflow_text\n",
    "import spektral"
   ]
  },
  {
   "cell_type": "code",
   "execution_count": 2,
   "id": "technical-lafayette",
   "metadata": {},
   "outputs": [],
   "source": [
    "import stanzaTools\n",
    "import tfDatasetTools"
   ]
  },
  {
   "cell_type": "markdown",
   "id": "above-drink",
   "metadata": {},
   "source": [
    "### Set up Stanza"
   ]
  },
  {
   "cell_type": "code",
   "execution_count": 3,
   "id": "suitable-abraham",
   "metadata": {},
   "outputs": [
    {
     "data": {
      "application/vnd.jupyter.widget-view+json": {
       "model_id": "e5b50182fb8146eab14f1af32aa1e497",
       "version_major": 2,
       "version_minor": 0
      },
      "text/plain": [
       "Downloading https://raw.githubusercontent.com/stanfordnlp/stanza-resources/main/resources_1.4.0.json:   0%|   …"
      ]
     },
     "metadata": {},
     "output_type": "display_data"
    },
    {
     "name": "stderr",
     "output_type": "stream",
     "text": [
      "2022-05-26 23:14:06 INFO: Downloading default packages for language: en (English)...\n",
      "2022-05-26 23:14:07 INFO: File exists: /Users/zeyuyang/stanza_resources/en/default.zip\n",
      "2022-05-26 23:14:10 INFO: Finished downloading models and saved to /Users/zeyuyang/stanza_resources.\n"
     ]
    }
   ],
   "source": [
    "stanza.download('en')"
   ]
  },
  {
   "cell_type": "code",
   "execution_count": 4,
   "id": "enabling-youth",
   "metadata": {},
   "outputs": [
    {
     "data": {
      "application/vnd.jupyter.widget-view+json": {
       "model_id": "d2453ea8a2424793bd3731d02cedc597",
       "version_major": 2,
       "version_minor": 0
      },
      "text/plain": [
       "Downloading https://raw.githubusercontent.com/stanfordnlp/stanza-resources/main/resources_1.4.0.json:   0%|   …"
      ]
     },
     "metadata": {},
     "output_type": "display_data"
    },
    {
     "name": "stderr",
     "output_type": "stream",
     "text": [
      "2022-05-26 23:14:10 WARNING: Can not find mwt: default from official model list. Ignoring it.\n",
      "2022-05-26 23:14:11 INFO: Loading these models for language: en (English):\n",
      "========================\n",
      "| Processor | Package  |\n",
      "------------------------\n",
      "| tokenize  | combined |\n",
      "| pos       | combined |\n",
      "| lemma     | combined |\n",
      "| depparse  | combined |\n",
      "| sentiment | sstplus  |\n",
      "========================\n",
      "\n",
      "2022-05-26 23:14:11 INFO: Use device: cpu\n",
      "2022-05-26 23:14:11 INFO: Loading: tokenize\n",
      "2022-05-26 23:14:11 INFO: Loading: pos\n",
      "2022-05-26 23:14:11 INFO: Loading: lemma\n",
      "2022-05-26 23:14:11 INFO: Loading: depparse\n",
      "2022-05-26 23:14:11 INFO: Loading: sentiment\n",
      "2022-05-26 23:14:11 INFO: Done loading processors!\n"
     ]
    }
   ],
   "source": [
    "nlp = stanza.Pipeline(\n",
    "    'en',\n",
    "    processors = 'tokenize,mwt,pos,lemma,depparse, sentiment')"
   ]
  },
  {
   "cell_type": "markdown",
   "id": "vocational-majority",
   "metadata": {},
   "source": [
    "#### createGraph"
   ]
  },
  {
   "cell_type": "code",
   "execution_count": 5,
   "id": "98fe44a7-5025-44c8-a488-4f82f81c0982",
   "metadata": {},
   "outputs": [
    {
     "data": {
      "text/plain": [
       "<module 'tfDatasetTools' from '/Users/zeyuyang/Projects/CS397Project/tfDatasetTools.py'>"
      ]
     },
     "execution_count": 5,
     "metadata": {},
     "output_type": "execute_result"
    }
   ],
   "source": [
    "from importlib import reload\n",
    "reload(stanzaTools)\n",
    "reload(tfDatasetTools)"
   ]
  },
  {
   "cell_type": "code",
   "execution_count": 6,
   "id": "progressive-metallic",
   "metadata": {},
   "outputs": [],
   "source": [
    "def createGraph(doc, positive):\n",
    "    nodeList, edgeList = stanzaTools.getNodeEdgeLists(doc)\n",
    "    words = [item['text'] for item in nodeList]\n",
    "    convertedFeatures = stanzaTools.convertToEmbedding(words, preprocessor, encoder)\n",
    "    adjacencyMatrix = stanzaTools.createAdjacencyMatrix(edgeList, len(nodeList))\n",
    "    label = np.array([positive])\n",
    "    # newGraph = spektral.data.graph.Graph(x=convertedFeatures, a=adjacencyMatrix, y=label)\n",
    "    return (convertedFeatures, adjacencyMatrix, label)"
   ]
  },
  {
   "cell_type": "markdown",
   "id": "rubber-office",
   "metadata": {},
   "source": [
    "### Load Data"
   ]
  },
  {
   "cell_type": "code",
   "execution_count": 7,
   "id": "seven-brass",
   "metadata": {},
   "outputs": [
    {
     "name": "stdout",
     "output_type": "stream",
     "text": [
      "Metal device set to: Apple M1 Max\n"
     ]
    },
    {
     "name": "stderr",
     "output_type": "stream",
     "text": [
      "2022-05-26 23:14:35.041123: I tensorflow/core/common_runtime/pluggable_device/pluggable_device_factory.cc:305] Could not identify NUMA node of platform GPU ID 0, defaulting to 0. Your kernel may not have been built with NUMA support.\n",
      "2022-05-26 23:14:35.041361: I tensorflow/core/common_runtime/pluggable_device/pluggable_device_factory.cc:271] Created TensorFlow device (/job:localhost/replica:0/task:0/device:GPU:0 with 0 MB memory) -> physical PluggableDevice (device: 0, name: METAL, pci bus id: <undefined>)\n"
     ]
    }
   ],
   "source": [
    "trainDS = tfds.load('imdb_reviews', split='train', as_supervised=True, shuffle_files=True)\n",
    "testDS = tfds.load('imdb_reviews', split='test', as_supervised=True, shuffle_files=True)"
   ]
  },
  {
   "cell_type": "markdown",
   "id": "changing-warrior",
   "metadata": {},
   "source": [
    "#### Set a Limit"
   ]
  },
  {
   "cell_type": "code",
   "execution_count": 8,
   "id": "cellular-solution",
   "metadata": {},
   "outputs": [],
   "source": [
    "trainLimit = 2000\n",
    "testLimit = 2000\n",
    "\n",
    "trainSubset = trainDS.take(trainLimit)\n",
    "testSubset = testDS.take(testLimit)"
   ]
  },
  {
   "cell_type": "code",
   "execution_count": 9,
   "id": "discrete-cyprus",
   "metadata": {},
   "outputs": [],
   "source": [
    "validationSplit = 0.5\n",
    "validationIndex = int(validationSplit * trainLimit)\n",
    "\n",
    "validationSplitSubset = trainSubset.take(validationIndex)\n",
    "trainSplitSubset = trainSubset.skip(validationIndex)"
   ]
  },
  {
   "cell_type": "code",
   "execution_count": 11,
   "id": "buried-royal",
   "metadata": {},
   "outputs": [
    {
     "name": "stderr",
     "output_type": "stream",
     "text": [
      "2022-05-26 23:14:57.261259: W tensorflow/core/platform/profile_utils/cpu_utils.cc:128] Failed to get CPU frequency: 0 Hz\n",
      "2022-05-26 23:14:57.384469: W tensorflow/core/kernels/data/cache_dataset_ops.cc:768] The calling iterator did not fully read the dataset being cached. In order to avoid unexpected truncation of the dataset, the partially cached contents of the dataset  will be discarded. This can happen if you have an input pipeline similar to `dataset.cache().take(k).repeat()`. You should use `dataset.take(k).cache().repeat()` instead.\n",
      "2022-05-26 23:14:57.454741: W tensorflow/core/kernels/data/cache_dataset_ops.cc:768] The calling iterator did not fully read the dataset being cached. In order to avoid unexpected truncation of the dataset, the partially cached contents of the dataset  will be discarded. This can happen if you have an input pipeline similar to `dataset.cache().take(k).repeat()`. You should use `dataset.take(k).cache().repeat()` instead.\n",
      "2022-05-26 23:14:57.619468: W tensorflow/core/kernels/data/cache_dataset_ops.cc:768] The calling iterator did not fully read the dataset being cached. In order to avoid unexpected truncation of the dataset, the partially cached contents of the dataset  will be discarded. This can happen if you have an input pipeline similar to `dataset.cache().take(k).repeat()`. You should use `dataset.take(k).cache().repeat()` instead.\n"
     ]
    }
   ],
   "source": [
    "trainFeatures, trainLabels = tfDatasetTools.convertTakeDataset(trainSplitSubset)\n",
    "valFeatures, valLabels = tfDatasetTools.convertTakeDataset(validationSplitSubset)\n",
    "testFeatures, testLabels = tfDatasetTools.convertTakeDataset(testSubset)"
   ]
  },
  {
   "cell_type": "code",
   "execution_count": 21,
   "id": "unauthorized-workshop",
   "metadata": {},
   "outputs": [
    {
     "name": "stdout",
     "output_type": "stream",
     "text": [
      "\"They Are Among Us\" is poor science fiction at best. Mediocre acting bogs down this film. The plot holes are numerous. Aliens that somehow came to earth on a meteor and have been hiding among us for over 100 years, but need a plastic surgeon to make them appear human. In their alien form they supposedly have exo-skeletons (which is why they need the plastic surgery) but when you see them they have teeth and fingernails. The heroine's father \"disappeared\" after Project Blue Book closed, but was supposedly an F-16 pilot. And on and on. If you want to see an alien invasion movie, pick \"Invasion of the Body Snatchers\", and see how it is done right.\n"
     ]
    }
   ],
   "source": [
    "print(trainFeatures[0])"
   ]
  },
  {
   "cell_type": "code",
   "execution_count": 17,
   "id": "searching-bonus",
   "metadata": {},
   "outputs": [],
   "source": [
    "doc = nlp(trainFeatures[0])"
   ]
  },
  {
   "cell_type": "code",
   "execution_count": 20,
   "id": "ea86ecd1-741d-4610-9331-cc825dfef964",
   "metadata": {},
   "outputs": [
    {
     "name": "stdout",
     "output_type": "stream",
     "text": [
      "\"They Are Among Us\" is poor science fiction at best.\n",
      "0\n",
      "Mediocre acting bogs down this film.\n",
      "0\n",
      "The plot holes are numerous.\n",
      "0\n",
      "Aliens that somehow came to earth on a meteor and have been hiding among us for over 100 years, but need a plastic surgeon to make them appear human.\n",
      "0\n",
      "In their alien form they supposedly have exo-skeletons (which is why they need the plastic surgery) but when you see them they have teeth and fingernails.\n",
      "0\n",
      "The heroine's father \"disappeared\" after Project Blue Book closed, but was supposedly an F-16 pilot.\n",
      "0\n",
      "And on and on.\n",
      "1\n",
      "If you want to see an alien invasion movie, pick \"Invasion of the Body Snatchers\", and see how it is done right.\n",
      "1\n"
     ]
    }
   ],
   "source": [
    "for sentence in doc.sentences:\n",
    "    print(sentence.text)\n",
    "    print(sentence.sentiment)"
   ]
  },
  {
   "cell_type": "code",
   "execution_count": 18,
   "id": "c7ae707d-064f-4f67-9044-0377faca5a6b",
   "metadata": {},
   "outputs": [],
   "source": [
    "nodeList, edgeList = stanzaTools.getNodeEdgeLists(doc)"
   ]
  },
  {
   "cell_type": "code",
   "execution_count": 19,
   "id": "cad2076f-687e-4d8c-9073-0e7b37704d3f",
   "metadata": {},
   "outputs": [
    {
     "data": {
      "image/png": "[encoded data removed]",
      "text/plain": [
       "<Figure size 864x864 with 1 Axes>"
      ]
     },
     "metadata": {},
     "output_type": "display_data"
    }
   ],
   "source": [
    "stanzaTools.drawDepGraph(nodeList, edgeList)"
   ]
  },
  {
   "cell_type": "markdown",
   "id": "statistical-lodge",
   "metadata": {
    "tags": []
   },
   "source": [
    "#### Bert Embeddings"
   ]
  },
  {
   "cell_type": "code",
   "execution_count": 15,
   "id": "intelligent-valuable",
   "metadata": {},
   "outputs": [],
   "source": [
    "tf.keras.backend.clear_session()"
   ]
  },
  {
   "cell_type": "code",
   "execution_count": 16,
   "id": "sensitive-fireplace",
   "metadata": {
    "tags": []
   },
   "outputs": [
    {
     "name": "stderr",
     "output_type": "stream",
     "text": [
      "2022-05-26 23:15:34.888157: I tensorflow/core/grappler/optimizers/custom_graph_optimizer_registry.cc:113] Plugin optimizer for device_type GPU is enabled.\n",
      "2022-05-26 23:15:35.705241: I tensorflow/core/grappler/optimizers/custom_graph_optimizer_registry.cc:113] Plugin optimizer for device_type GPU is enabled.\n"
     ]
    }
   ],
   "source": [
    "# Preprocess and encode input\n",
    "text_input = tf.keras.layers.Input(shape=(), dtype=tf.string)\n",
    "\n",
    "preprocessor = hub.KerasLayer('https://tfhub.dev/tensorflow/bert_en_uncased_preprocess/3')\n",
    "encoder_inputs = preprocessor(text_input)\n",
    "\n",
    "encoder = hub.KerasLayer('https://tfhub.dev/tensorflow/small_bert/bert_en_uncased_L-2_H-128_A-2/2',trainable=False)\n",
    "\n",
    "outputs = encoder(encoder_inputs)\n",
    "\n",
    "pooled_output = outputs['pooled_output'] # [batch_size, 128].\n",
    "# [batch_size, seq_length, 128].\n",
    "\n",
    "sequence_output = outputs['sequence_output']"
   ]
  },
  {
   "cell_type": "code",
   "execution_count": null,
   "id": "collective-airplane",
   "metadata": {},
   "outputs": [],
   "source": []
  },
  {
   "cell_type": "code",
   "execution_count": null,
   "id": "color-neighbor",
   "metadata": {},
   "outputs": [],
   "source": []
  },
  {
   "cell_type": "markdown",
   "id": "vanilla-identifier",
   "metadata": {
    "tags": []
   },
   "source": [
    "#### Convert to Embedding"
   ]
  },
  {
   "cell_type": "code",
   "execution_count": null,
   "id": "lyric-strike",
   "metadata": {},
   "outputs": [],
   "source": [
    "def convertToEmbedding(words, preprocessor, encoder):\n",
    "    \"\"\"\n",
    "    Takes a list of words and converts it to a list of embeddings. \n",
    "    \n",
    "    Args:\n",
    "        words - (list) The list of words to convert\n",
    "        preprocessor - (tensorflow_hub.keras_layer.KerasLayer) The preprocessor needed to process a string to tokens\n",
    "        encoder - (tensorflow_hub.keras_layer.KerasLayer) The encoder needed to convert the tokens to embeddings\n",
    "    Returns:\n",
    "        embeddings - (list) A list of embeddings\n",
    "    \"\"\"\n",
    "    \n",
    "    convertedWords = np.array(encoder(preprocessor(tf.constant(words)))['pooled_output'])\n",
    "    return convertedWords"
   ]
  },
  {
   "cell_type": "code",
   "execution_count": null,
   "id": "respected-specialist",
   "metadata": {},
   "outputs": [],
   "source": [
    "text = \"hello there who are you hello there who are you hello there who are you hello there who are you hello there who are you hello there who are you\"\n",
    "words = text.split()\n",
    "converted = convertToEmbedding(words, preprocessor, encoder)"
   ]
  },
  {
   "cell_type": "code",
   "execution_count": null,
   "id": "expensive-stereo",
   "metadata": {},
   "outputs": [],
   "source": [
    "converted.shape"
   ]
  },
  {
   "cell_type": "code",
   "execution_count": null,
   "id": "frequent-hours",
   "metadata": {},
   "outputs": [],
   "source": [
    "converted = convertToEmbedding(['!'], preprocessor, encoder)"
   ]
  },
  {
   "cell_type": "code",
   "execution_count": null,
   "id": "express-painting",
   "metadata": {},
   "outputs": [],
   "source": [
    "word = ['hello', 'there']\n",
    "convertedWords = convertToEmbedding(word, preprocessor, encoder)"
   ]
  },
  {
   "cell_type": "code",
   "execution_count": null,
   "id": "written-vinyl",
   "metadata": {},
   "outputs": [],
   "source": [
    "convertedWords.shape"
   ]
  },
  {
   "cell_type": "code",
   "execution_count": null,
   "id": "boring-player",
   "metadata": {},
   "outputs": [],
   "source": []
  },
  {
   "cell_type": "code",
   "execution_count": null,
   "id": "random-marker",
   "metadata": {},
   "outputs": [],
   "source": []
  },
  {
   "cell_type": "code",
   "execution_count": null,
   "id": "adjusted-litigation",
   "metadata": {},
   "outputs": [],
   "source": []
  },
  {
   "cell_type": "code",
   "execution_count": null,
   "id": "automated-newcastle",
   "metadata": {},
   "outputs": [],
   "source": []
  },
  {
   "cell_type": "code",
   "execution_count": null,
   "id": "choice-decrease",
   "metadata": {},
   "outputs": [],
   "source": [
    "def sampleModel():\n",
    "    inputs = text_input\n",
    "    preprocessorLayer = preprocessor(inputs)['input_word_ids']\n",
    "    \n",
    "    embedding_layer = tf.keras.layers.Embedding(10000,\n",
    "                                                128)(preprocessorLayer)\n",
    "    # embedding_layer = encoder(preprocessorLayer)['pooled_output']\n",
    "    \n",
    "    flatten = tf.keras.layers.Flatten()(embedding_layer)\n",
    "    dense_layer = tf.keras.layers.Dense(16, activation='relu')(flatten)\n",
    "    outputs = tf.keras.layers.Dense(1)(dense_layer)\n",
    "\n",
    "    return tf.keras.Model(inputs=inputs, outputs=outputs)"
   ]
  },
  {
   "cell_type": "code",
   "execution_count": null,
   "id": "musical-minute",
   "metadata": {},
   "outputs": [],
   "source": [
    "tf.keras.backend.clear_session()\n",
    "model = sampleModel()\n",
    "model.summary()"
   ]
  },
  {
   "cell_type": "code",
   "execution_count": null,
   "id": "relative-cassette",
   "metadata": {},
   "outputs": [],
   "source": [
    "model.compile(\n",
    "    optimizer='rmsprop',\n",
    "    loss=tf.keras.losses.BinaryCrossentropy(from_logits=True),\n",
    "    metrics=['accuracy'])"
   ]
  },
  {
   "cell_type": "code",
   "execution_count": null,
   "id": "boring-might",
   "metadata": {
    "tags": []
   },
   "outputs": [],
   "source": [
    "history = model.fit(\n",
    "    trainFeatures,\n",
    "    trainLabels,\n",
    "    validation_data=(valFeatures, valLabels),\n",
    "    epochs=20,\n",
    "    verbose=1)"
   ]
  },
  {
   "cell_type": "code",
   "execution_count": null,
   "id": "secondary-juice",
   "metadata": {},
   "outputs": [],
   "source": [
    "results = model.evaluate(x=testFeatures, y=testLabels)\n",
    "print(results)"
   ]
  },
  {
   "cell_type": "code",
   "execution_count": null,
   "id": "residential-digit",
   "metadata": {},
   "outputs": [],
   "source": []
  },
  {
   "cell_type": "code",
   "execution_count": null,
   "id": "stunning-sentence",
   "metadata": {},
   "outputs": [],
   "source": []
  },
  {
   "cell_type": "markdown",
   "id": "aquatic-repeat",
   "metadata": {},
   "source": [
    "### Convert Data to Graph Format"
   ]
  },
  {
   "cell_type": "code",
   "execution_count": null,
   "id": "signed-mauritius",
   "metadata": {},
   "outputs": [],
   "source": [
    "trainGraphs = []\n",
    "\n",
    "for i in range(len(trainFeatures)):\n",
    "    sentence = trainFeatures[i]\n",
    "    label = trainLabels[i]\n",
    "    doc = nlp(sentence)\n",
    "    newGraph = createGraph(doc, label)\n",
    "    trainGraphs.append(newGraph)"
   ]
  },
  {
   "cell_type": "code",
   "execution_count": null,
   "id": "interpreted-massage",
   "metadata": {
    "tags": []
   },
   "outputs": [],
   "source": [
    "len(trainGraphs)"
   ]
  },
  {
   "cell_type": "code",
   "execution_count": null,
   "id": "deadly-relation",
   "metadata": {},
   "outputs": [],
   "source": [
    "validationGraphs = []\n",
    "\n",
    "for i in range(len(valFeatures)):\n",
    "    sentence = valFeatures[i]\n",
    "    label = valLabels[i]\n",
    "    doc = nlp(sentence)\n",
    "    newGraph = createGraph(doc, label)\n",
    "    validationGraphs.append(newGraph)"
   ]
  },
  {
   "cell_type": "code",
   "execution_count": null,
   "id": "african-production",
   "metadata": {},
   "outputs": [],
   "source": [
    "len(validationGraphs)"
   ]
  },
  {
   "cell_type": "code",
   "execution_count": null,
   "id": "existing-scientist",
   "metadata": {
    "tags": []
   },
   "outputs": [],
   "source": [
    "[i.shape for i in np.array(trainGraphs)[:,1]]"
   ]
  },
  {
   "cell_type": "markdown",
   "id": "confused-template",
   "metadata": {},
   "source": [
    "#### Custom Graph Datasets"
   ]
  },
  {
   "cell_type": "code",
   "execution_count": null,
   "id": "alone-package",
   "metadata": {},
   "outputs": [],
   "source": [
    "from spektral.data import Dataset \n",
    "from spektral.data.graph import Graph\n",
    "import os"
   ]
  },
  {
   "cell_type": "code",
   "execution_count": null,
   "id": "respiratory-texture",
   "metadata": {},
   "outputs": [],
   "source": [
    "class TrainDataset(Dataset):\n",
    "    \"\"\"\n",
    "    A dataset of five random graphs.\n",
    "    \"\"\"\n",
    "    def __init__(self, **kwargs):\n",
    "        # self.path = savePath\n",
    "        # self.download()\n",
    "        super().__init__(**kwargs)\n",
    "    \n",
    "    def download(self):\n",
    "        # data = ... \n",
    "        # Download from somewhere\n",
    "\n",
    "        # Create the directory\n",
    "        try:\n",
    "            os.mkdir(self.path)\n",
    "        except:\n",
    "            pass\n",
    "\n",
    "        # Write the data to file\n",
    "        for i in range(len(trainGraphs)):\n",
    "            # print(type(trainGraphs[i][0]))\n",
    "            x = trainGraphs[i][0]\n",
    "            a = trainGraphs[i][1]\n",
    "            # a = tf.sparse.from_dense(trainGraphs[i][1])\n",
    "            y = trainGraphs[i][2]\n",
    "\n",
    "            filename = os.path.join(self.path, f'graph_{i}')\n",
    "            np.savez(filename, x=x, a=a, y=y)\n",
    "            \n",
    "\n",
    "    def read(self):\n",
    "        # We must return a list of Graph objects\n",
    "        output = []\n",
    "\n",
    "        for i in range(len(trainGraphs)):\n",
    "            data = np.load(os.path.join(self.path, f'graph_{i}.npz'), allow_pickle=True)\n",
    "            # print(data['a'])\n",
    "            output.append(\n",
    "                Graph(x=data['x'], a=data['a'], y=data['y'])\n",
    "            )\n",
    "        return output"
   ]
  },
  {
   "cell_type": "code",
   "execution_count": null,
   "id": "deadly-sheep",
   "metadata": {},
   "outputs": [],
   "source": [
    "class ValDataset(Dataset):\n",
    "    \"\"\"\n",
    "    A dataset of five random graphs.\n",
    "    \"\"\"\n",
    "    def __init__(self, **kwargs):\n",
    "        # self.path = savePath\n",
    "        # self.download()\n",
    "        super().__init__(**kwargs)\n",
    "    \n",
    "    def download(self):\n",
    "        # data = ... \n",
    "        # Download from somewhere\n",
    "\n",
    "        # Create the directory\n",
    "        try:\n",
    "            os.mkdir(self.path)\n",
    "        except:\n",
    "            pass\n",
    "\n",
    "        # Write the data to file\n",
    "        for i in range(len(validationGraphs)):\n",
    "            # print(type(trainGraphs[i][0]))\n",
    "            x = validationGraphs[i][0]\n",
    "            a = validationGraphs[i][1]\n",
    "            # a = tf.sparse.from_dense(validationGraphs[i][1])\n",
    "            y = validationGraphs[i][2]\n",
    "\n",
    "            filename = os.path.join(self.path, f'graph_val_{i}')\n",
    "            np.savez(filename, x=x, a=a, y=y)\n",
    "            \n",
    "\n",
    "    def read(self):\n",
    "        # We must return a list of Graph objects\n",
    "        output = []\n",
    "\n",
    "        for i in range(len(validationGraphs)):\n",
    "            data = np.load(os.path.join(self.path, f'graph_val_{i}.npz'), allow_pickle=True)\n",
    "            # print(data['a'])\n",
    "            output.append(\n",
    "                Graph(x=data['x'], a=data['a'], y=data['y'])\n",
    "            )\n",
    "        return output"
   ]
  },
  {
   "cell_type": "code",
   "execution_count": null,
   "id": "signal-conversion",
   "metadata": {},
   "outputs": [],
   "source": [
    "TrainDataset()"
   ]
  },
  {
   "cell_type": "code",
   "execution_count": null,
   "id": "unable-skating",
   "metadata": {},
   "outputs": [],
   "source": [
    "ValDataset()"
   ]
  },
  {
   "cell_type": "code",
   "execution_count": null,
   "id": "7f7d8e92-2157-460b-a224-8995cc230baa",
   "metadata": {},
   "outputs": [],
   "source": [
    "valSaveDir = \"/Users/zeyuyang/spektral/datasets/ValDataset\"\n",
    "trainSaveDir = \"/Users/zeyuyang/spektral/datasets/TrainDataset\""
   ]
  },
  {
   "cell_type": "code",
   "execution_count": null,
   "id": "2209364a-e592-49c3-bbd0-e1118eb241d8",
   "metadata": {},
   "outputs": [],
   "source": [
    "for i in range(1):\n",
    "    data = np.load(os.path.join(trainSaveDir, f'graph_{i}.npz'), allow_pickle=True)"
   ]
  },
  {
   "cell_type": "code",
   "execution_count": null,
   "id": "0fb38783-9973-4b2b-8362-c5144e978c61",
   "metadata": {},
   "outputs": [],
   "source": [
    "graphTup = tuple([data[i] for i in data])"
   ]
  },
  {
   "cell_type": "markdown",
   "id": "inappropriate-intro",
   "metadata": {},
   "source": [
    "### Model and Training"
   ]
  },
  {
   "cell_type": "code",
   "execution_count": null,
   "id": "sitting-school",
   "metadata": {},
   "outputs": [],
   "source": [
    "from tensorflow.keras.models import Model\n",
    "from tensorflow.keras.layers import Dense, Dropout\n",
    "from spektral.layers import GCNConv, GlobalSumPool"
   ]
  },
  {
   "cell_type": "code",
   "execution_count": null,
   "id": "trying-hawaii",
   "metadata": {},
   "outputs": [],
   "source": [
    "class MyFirstGNN(Model):\n",
    "\n",
    "    def __init__(self, n_hidden, n_labels):\n",
    "        super().__init__()\n",
    "        self.graph_conv = GCNConv(n_hidden)\n",
    "        self.graph_conv2 = GCNConv(16)\n",
    "        self.pool = GlobalSumPool()\n",
    "        self.AGNNCONV = spektral.layers.AGNNConv(trainable=True, aggregate='sum', activation=None)\n",
    "        self.GenConv = spektral.layers.GeneralConv(channels=n_hidden, batch_norm=True, dropout=0.0, aggregate='sum', activation='prelu', use_bias=True, kernel_initializer='glorot_uniform', bias_initializer='zeros', kernel_regularizer=None, bias_regularizer=None, activity_regularizer=None, kernel_constraint=None, bias_constraint=None)\n",
    "        self.graphAtten = spektral.layers.GATConv(channels=n_hidden, attn_heads=5,\n",
    "                                                  concat_heads=True, dropout_rate=0.2, return_attn_coef=False,\n",
    "                                                  add_self_loops=True, activation=None, use_bias=True, kernel_initializer='glorot_uniform',\n",
    "                                                  bias_initializer='zeros', attn_kernel_initializer='glorot_uniform', kernel_regularizer=None,\n",
    "                                                  bias_regularizer=None, attn_kernel_regularizer=None, activity_regularizer=None,\n",
    "                                                  kernel_constraint=None, bias_constraint=None, attn_kernel_constraint=None)\n",
    "        self.maxPool = spektral.layers.GlobalMaxPool()\n",
    "        self.dropout = Dropout(0.2)\n",
    "        self.dense1 = Dense(64, activation='relu')\n",
    "        self.dropout2 = Dropout(0.2)\n",
    "        self.dense2 = Dense(16, activation='relu')\n",
    "        self.dense = Dense(1, 'sigmoid')\n",
    "\n",
    "    def call(self, inputs):\n",
    "        # sparseList = []\n",
    "        # for i in range(inputs[1].shape[0]):\n",
    "        #     converted = tf.sparse.from_dense(inputs[1][i])\n",
    "        #     sparseList.append(converted)\n",
    "        # print(sparseList)\n",
    "        # newInput = tuple([inputs[0], sparseList])\n",
    "        # inputs[1] = sparseList\n",
    "        # newInput = tf.Tensor([inputs[0], inputs[1], inputs[2]])\n",
    "\n",
    "        # out = self.AGNNCONV(inputs)\n",
    "        out = self.graph_conv(inputs)\n",
    "        # out = self.graphAtten(inputs)\n",
    "        # print(out.shape)\n",
    "        \n",
    "        # out = self.graph_conv(inputs)\n",
    "        # out = self.dropout(out)        \n",
    "        # out = self.pool(out)\n",
    "        out = self.maxPool(out)\n",
    "        # out = self.dense1(out)\n",
    "        out = self.dropout2(out)\n",
    "        # out = self.dense2(out)\n",
    "        out = self.dense(out)\n",
    "\n",
    "        return out"
   ]
  },
  {
   "cell_type": "code",
   "execution_count": null,
   "id": "foster-colors",
   "metadata": {},
   "outputs": [],
   "source": [
    "tf.keras.backend.clear_session()\n",
    "model = MyFirstGNN(64, 1)\n",
    "model.compile('adam', 'binary_crossentropy', metrics=['accuracy',])"
   ]
  },
  {
   "cell_type": "code",
   "execution_count": null,
   "id": "opened-guyana",
   "metadata": {},
   "outputs": [],
   "source": [
    "from spektral import models"
   ]
  },
  {
   "cell_type": "code",
   "execution_count": null,
   "id": "amber-leader",
   "metadata": {},
   "outputs": [],
   "source": [
    "# tf.keras.backend.clear_session()\n",
    "# model = spektral.models.general_gnn.GeneralGNN(1, activation=None, hidden=256, message_passing=4, pre_process=2, post_process=2, connectivity='cat', batch_norm=True, dropout=0.0, aggregate='sum', hidden_activation='prelu', pool='sum')\n",
    "# model.compile('adam', 'binary_crossentropy', metrics=['accuracy',])"
   ]
  },
  {
   "cell_type": "code",
   "execution_count": null,
   "id": "atmospheric-rhythm",
   "metadata": {},
   "outputs": [],
   "source": [
    "from spektral.data import BatchLoader\n",
    "\n",
    "# trainLoader = BatchLoader(TrainDataset(), batch_size=10)\n",
    "trainLoader = spektral.data.loaders.DisjointLoader(TrainDataset(), node_level=False, batch_size=10, epochs=None, shuffle=True)\n",
    "\n",
    "# testLoader = BatchLoader(ValDataset(), batch_size=10)\n",
    "testLoader = spektral.data.loaders.DisjointLoader(ValDataset(), node_level=False, batch_size=10, epochs=None, shuffle=True)"
   ]
  },
  {
   "cell_type": "code",
   "execution_count": null,
   "id": "b3c4bb17-6ee6-43d7-9e04-0f71b5c136ad",
   "metadata": {},
   "outputs": [],
   "source": [
    "for i in trainLoader.load():\n",
    "    print(i)"
   ]
  },
  {
   "cell_type": "code",
   "execution_count": null,
   "id": "feb9b163-fb52-46cc-a9fb-f43203889d18",
   "metadata": {},
   "outputs": [],
   "source": []
  },
  {
   "cell_type": "code",
   "execution_count": null,
   "id": "accessory-placement",
   "metadata": {},
   "outputs": [],
   "source": [
    "model.fit(trainLoader.load(), steps_per_epoch=trainLoader.steps_per_epoch,epochs=20)"
   ]
  },
  {
   "cell_type": "code",
   "execution_count": null,
   "id": "white-cedar",
   "metadata": {},
   "outputs": [],
   "source": [
    "model.evaluate(testLoader.load(), steps=testLoader.steps_per_epoch)\n",
    "# model.evaluate(trainLoader.load(), steps=trainLoader.steps_per_epoch)"
   ]
  },
  {
   "cell_type": "code",
   "execution_count": null,
   "id": "smaller-chorus",
   "metadata": {
    "tags": []
   },
   "outputs": [],
   "source": [
    "model.predict(testLoader.load(), steps=testLoader.steps_per_epoch)"
   ]
  },
  {
   "cell_type": "code",
   "execution_count": null,
   "id": "important-hamburg",
   "metadata": {},
   "outputs": [],
   "source": []
  },
  {
   "cell_type": "markdown",
   "id": "adjustable-observer",
   "metadata": {},
   "source": [
    "### Evaluation"
   ]
  },
  {
   "cell_type": "code",
   "execution_count": null,
   "id": "familiar-import",
   "metadata": {},
   "outputs": [],
   "source": []
  },
  {
   "cell_type": "code",
   "execution_count": null,
   "id": "optional-cancer",
   "metadata": {},
   "outputs": [],
   "source": []
  }
 ],
 "metadata": {
  "kernelspec": {
   "display_name": "Python 3 (ipykernel)",
   "language": "python",
   "name": "python3"
  },
  "language_info": {
   "codemirror_mode": {
    "name": "ipython",
    "version": 3
   },
   "file_extension": ".py",
   "mimetype": "text/x-python",
   "name": "python",
   "nbconvert_exporter": "python",
   "pygments_lexer": "ipython3",
   "version": "3.9.7"
  }
 },
 "nbformat": 4,
 "nbformat_minor": 5
}
